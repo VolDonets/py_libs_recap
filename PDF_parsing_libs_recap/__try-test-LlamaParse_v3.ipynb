{
 "cells": [
  {
   "metadata": {},
   "cell_type": "markdown",
   "source": "# Try the LlamaParse API",
   "id": "526934ed569f369a"
  },
  {
   "metadata": {
    "ExecuteTime": {
     "end_time": "2024-10-17T11:36:53.334345Z",
     "start_time": "2024-10-17T11:36:53.326006Z"
    }
   },
   "cell_type": "code",
   "source": [
    "# it is required because LlamaParse API is async, \n",
    "# but Jupyter Notebook can work only with sync code\n",
    "import nest_asyncio\n",
    "nest_asyncio.apply()"
   ],
   "id": "6f44f2b682269e5",
   "outputs": [],
   "execution_count": 1
  },
  {
   "metadata": {
    "ExecuteTime": {
     "end_time": "2024-10-17T11:36:53.339709Z",
     "start_time": "2024-10-17T11:36:53.336813Z"
    }
   },
   "cell_type": "code",
   "source": "LLAMA_CLOUD_API_KEY = ''",
   "id": "d4954c70c3817c3b",
   "outputs": [],
   "execution_count": 2
  },
  {
   "metadata": {
    "ExecuteTime": {
     "end_time": "2024-10-17T11:36:53.347573Z",
     "start_time": "2024-10-17T11:36:53.341051Z"
    }
   },
   "cell_type": "code",
   "source": [
    "import os\n",
    "\n",
    "os.environ[\"LLAMA_CLOUD_API_KEY\"] = LLAMA_CLOUD_API_KEY"
   ],
   "id": "ec7e5fd2429071ab",
   "outputs": [],
   "execution_count": 3
  },
  {
   "metadata": {
    "ExecuteTime": {
     "end_time": "2024-10-17T11:36:55.187133Z",
     "start_time": "2024-10-17T11:36:53.368210Z"
    }
   },
   "cell_type": "code",
   "source": "from llama_parse import LlamaParse",
   "id": "41091cc8ee846c5b",
   "outputs": [],
   "execution_count": 4
  },
  {
   "metadata": {},
   "cell_type": "markdown",
   "source": "# Test simple text PDFs",
   "id": "515526428c64c9bb"
  },
  {
   "metadata": {
    "ExecuteTime": {
     "end_time": "2024-10-17T11:36:56.053906Z",
     "start_time": "2024-10-17T11:36:56.049301Z"
    }
   },
   "cell_type": "code",
   "source": "_uri = \"./_data_test_pdfs/autozaz_details_orders - orders_real.pdf\"",
   "id": "4fce425f7bc22b18",
   "outputs": [],
   "execution_count": 5
  },
  {
   "metadata": {},
   "cell_type": "markdown",
   "source": "# VENDOR MULTIMODAL MODEL: **openai-gpt4o**",
   "id": "d66b5f2d97c7bba8"
  },
  {
   "metadata": {
    "ExecuteTime": {
     "end_time": "2024-10-17T11:39:00.518473Z",
     "start_time": "2024-10-17T11:38:35.295398Z"
    }
   },
   "cell_type": "code",
   "source": [
    "doc = LlamaParse(\n",
    "    result_type=\"markdown\",\n",
    "    use_vendor_multimodal_model=True,\n",
    "    vendor_multimodal_model_name=\"openai-gpt4o\"\n",
    ").load_data(_uri)\n",
    "print(f\"Result docs number: {len(doc)}\")"
   ],
   "id": "aeac88d35215f982",
   "outputs": [
    {
     "name": "stdout",
     "output_type": "stream",
     "text": [
      "Started parsing the file under job_id ea3b9eca-f489-4d97-8072-bf78526d7efc\n",
      "Result docs number: 3\n"
     ]
    }
   ],
   "execution_count": 6
  },
  {
   "metadata": {
    "ExecuteTime": {
     "end_time": "2024-10-17T11:39:05.755724Z",
     "start_time": "2024-10-17T11:39:05.750859Z"
    }
   },
   "cell_type": "code",
   "source": "print(doc[0].text)",
   "id": "7f337cd25b7fcfda",
   "outputs": [
    {
     "name": "stdout",
     "output_type": "stream",
     "text": [
      "\n",
      "| order_id | product_name       | price_per_unit | units_sold | amount_of_discount_total | deal_date   | customer_name  |\n",
      "|----------|--------------------|----------------|------------|--------------------------|-------------|----------------|\n",
      "| 1        | Alternator         | 350            | 5          | 157.5                    | 01/01/2024  | Emily Johnson  |\n",
      "| 2        | Engine Block       | 500            | 5          | 100                      | 01/02/2024  | Emily Johnson  |\n",
      "| 3        | Engine Block       | 500            | 4          | 120                      | 01/03/2024  | Scott Nilson   |\n",
      "| 4        | Clutch Plate       | 180            | 1          | 7.2                      | 01/04/2024  | Scott Nilson   |\n",
      "| 5        | Transmission Gear  | 300            | 9          | 189                      | 01/05/2024  | Scott Nilson   |\n",
      "| 6        | Steering Wheel     | 100            | 3          | 27                       | 01/06/2024  | Scott Nilson   |\n",
      "| 7        | Exhaust Manifold   | 220            | 2          | 30.8                     | 01/07/2024  | Scott Nilson   |\n",
      "| 8        | Clutch Plate       | 180            | 2          | 10.8                     | 01/08/2024  | Scott Nilson   |\n",
      "| 9        | Steering Wheel     | 100            | 1          | 9                        | 01/09/2024  | Scott Nilson   |\n",
      "| 10       | Engine Block       | 500            | 9          | 315                      | 01/10/2024  | Scott Nilson   |\n",
      "| 11       | Clutch Plate       | 180            | 7          | 50.4                     | 01/11/2024  | Scott Nilson   |\n",
      "| 12       | Transmission Gear  | 300            | 9          | 243                      | 01/12/2024  | Scott Nilson   |\n",
      "| 13       | Steering Wheel     | 100            | 7          | 70                       | 01/13/2024  | Scott Nilson   |\n",
      "| 14       | Brake Pad          | 75             | 4          | 6                        | 01/14/2024  | Scott Nilson   |\n",
      "| 15       | Exhaust Manifold   | 220            | 3          | 52.8                     | 01/15/2024  | Scott Nilson   |\n",
      "| 16       | Transmission Gear  | 300            | 2          | 48                       | 01/16/2024  | Scott Nilson   |\n",
      "| 17       | Radiator           | 200            | 3          | 60                       | 01/17/2024  | Scott Nilson   |\n",
      "| 18       | Steering Wheel     | 100            | 6          | 42                       | 01/18/2024  | Scott Nilson   |\n",
      "| 19       | Engine Block       | 500            | 4          | 140                      | 01/19/2024  | Emily Johnson  |\n",
      "| 20       | Radiator           | 200            | 5          | 20                       | 01/20/2024  | Emily Johnson  |\n",
      "| 21       | Exhaust Manifold   | 220            | 5          | 66                       | 01/21/2024  | Emily Johnson  |\n",
      "| 22       | Clutch Plate       | 180            | 4          | 50.4                     | 01/22/2024  | Emily Johnson  |\n",
      "| 23       | Brake Pad          | 75             | 3          | 18                       | 01/23/2024  | Emily Johnson  |\n",
      "| 24       | Exhaust Manifold   | 220            | 4          | 26.4                     | 02/02/2023  | Emily Johnson  |\n",
      "| 25       | Steering Wheel     | 100            | 3          | 6                        | 02/03/2023  | Emily Johnson  |\n",
      "| 26       | Exhaust Manifold   | 220            | 3          | 52.8                     | 02/04/2023  | Emily Johnson  |\n",
      "| 27       | Steering Wheel     | 100            | 5          | 30                       | 02/05/2023  | Emily Johnson  |\n",
      "| 28       | Clutch Plate       | 180            | 9          | 97.2                     | 02/06/2023  | Emily Johnson  |\n",
      "| 29       | Engine Block       | 500            | 1          | 15                       | 02/07/2023  | Emily Johnson  |\n",
      "| 30       | Radiator           | 200            | 9          | 162                      | 02/08/2023  | Emily Johnson  |\n",
      "| 31       | Fuel Injector      | 250            | 1          | 20                       | 02/09/2023  | Emily Johnson  |\n",
      "| 32       | Fuel Injector      | 250            | 6          | 120                      | 02/10/2023  | Emily Johnson  |\n",
      "| 33       | Suspension Spring  | 150            | 3          | 27                       | 02/11/2023  | Emily Johnson  |\n",
      "| 34       | Radiator           | 200            | 9          | 108                      | 02/12/2023  | Emily Johnson  |\n",
      "| 35       | Engine Block       | 500            | 4          | 120                      | 02/13/2023  | Emily Johnson  |\n",
      "| 36       | Steering Wheel     | 100            | 5          | 40                       | 02/14/2023  | Emily Johnson  |\n",
      "| 37       | Brake Pad          | 75             | 1          | 4.5                      | 02/15/2023  | Emily Johnson  |\n",
      "\n"
     ]
    }
   ],
   "execution_count": 7
  },
  {
   "metadata": {
    "ExecuteTime": {
     "end_time": "2024-10-17T11:39:06.008934Z",
     "start_time": "2024-10-17T11:39:06.002789Z"
    }
   },
   "cell_type": "code",
   "source": "print(doc[1].text)",
   "id": "cc41084d0e3eb1d",
   "outputs": [
    {
     "name": "stdout",
     "output_type": "stream",
     "text": [
      "|    | Item               | Price | Quantity | Total | Date       | Employee      |\n",
      "|----|--------------------|-------|----------|-------|------------|---------------|\n",
      "| 38 | Clutch Plate       | 180   | 6        | 64.8  | 02/16/2023 | Emily Johnson |\n",
      "| 39 | Brake Pad          | 75    | 2        | 7.5   | 02/17/2023 | Emily Johnson |\n",
      "| 40 | Steering Wheel     | 100   | 3        | 6     | 02/18/2023 | Emily Johnson |\n",
      "| 41 | Exhaust Manifold   | 220   | 5        | 55    | 02/19/2023 | Emily Johnson |\n",
      "| 42 | Exhaust Manifold   | 220   | 7        | 46.2  | 02/20/2023 | Emily Johnson |\n",
      "| 43 | Engine Block       | 500   | 4        | 180   | 02/21/2023 | Emily Johnson |\n",
      "| 44 | Transmission Gear  | 300   | 3        | 18    | 02/22/2023 | Emily Johnson |\n",
      "| 45 | Engine Block       | 500   | 3        | 90    | 02/23/2023 | Emily Johnson |\n",
      "| 46 | Suspension Spring  | 150   | 1        | 3     | 02/24/2023 | Emily Johnson |\n",
      "| 47 | Exhaust Manifold   | 220   | 2        | 17.6  | 05/06/2023 | Emily Johnson |\n",
      "| 48 | Transmission Gear  | 300   | 3        | 72    | 05/06/2023 | Emily Johnson |\n",
      "| 49 | Engine Block       | 500   | 8        | 120   | 05/07/2023 | Emily Johnson |\n",
      "| 50 | Suspension Spring  | 150   | 9        | 108   | 05/08/2023 | Emily Johnson |\n",
      "| 51 | Brake Pad          | 75    | 5        | 11.25 | 05/09/2023 | Emily Johnson |\n",
      "| 52 | Exhaust Manifold   | 220   | 4        | 88    | 05/10/2023 | Emily Johnson |\n",
      "| 53 | Fuel Injector      | 250   | 9        | 112.5 | 05/11/2023 | Emily Johnson |\n",
      "| 54 | Steering Wheel     | 100   | 5        | 50    | 05/12/2023 | Tom Yam       |\n",
      "| 55 | Exhaust Manifold   | 220   | 3        | 13.2  | 05/13/2023 | Tom Yam       |\n",
      "| 56 | Suspension Spring  | 150   | 4        | 18    | 05/14/2023 | Tom Yam       |\n",
      "| 57 | Engine Block       | 500   | 7        | 315   | 05/16/2023 | Tom Yam       |\n",
      "| 58 | Clutch Plate       | 180   | 5        | 18    | 05/16/2023 | Tom Yam       |\n",
      "| 59 | Clutch Plate       | 180   | 7        | 126   | 05/17/2023 | Tom Yam       |\n",
      "| 60 | Suspension Spring  | 150   | 9        | 27    | 05/18/2023 | Tom Yam       |\n",
      "| 61 | Engine Block       | 500   | 4        | 200   | 05/19/2023 | Tom Yam       |\n",
      "| 62 | Radiator           | 200   | 3        | 12    | 05/20/2023 | Tom Yam       |\n",
      "| 63 | Brake Pad          | 75    | 9        | 27    | 05/21/2023 | Tom Yam       |\n",
      "| 64 | Alternator         | 350   | 7        | 122.5 | 05/22/2023 | Tom Yam       |\n",
      "| 65 | Suspension Spring  | 150   | 5        | 45    | 05/23/2023 | Tom Yam       |\n",
      "| 66 | Suspension Spring  | 150   | 9        | 67.5  | 05/24/2023 | Tom Yam       |\n",
      "| 67 | Fuel Injector      | 250   | 4        | 60    | 05/26/2023 | Tom Yam       |\n",
      "| 68 | Clutch Plate       | 180   | 9        | 129.6 | 05/26/2023 | Tom Yam       |\n",
      "| 69 | Fuel Injector      | 250   | 7        | 105   | 05/27/2023 | Tom Yam       |\n",
      "| 70 | Suspension Spring  | 150   | 7        | 31.5  | 05/28/2023 | Tom Yam       |\n",
      "| 71 | Alternator         | 350   | 1        | 24.5  | 05/29/2023 | Tom Yam       |\n",
      "| 72 | Clutch Plate       | 180   | 8        | 144   | 05/30/2023 | Tom Yam       |\n",
      "| 73 | Transmission Gear  | 300   | 2        | 36    | 05/31/2023 | Tom Yam       |\n",
      "| 74 | Fuel Injector      | 250   | 6        | 60    | 06/01/2023 | Tom Yam       |\n",
      "| 75 | Exhaust Manifold   | 220   | 1        | 15.4  | 06/02/2023 | Tom Yam       |\n"
     ]
    }
   ],
   "execution_count": 8
  },
  {
   "metadata": {
    "ExecuteTime": {
     "end_time": "2024-10-17T11:39:07.642288Z",
     "start_time": "2024-10-17T11:39:07.638015Z"
    }
   },
   "cell_type": "code",
   "source": "print(doc[2].text)",
   "id": "19845cd2a804d16e",
   "outputs": [
    {
     "name": "stdout",
     "output_type": "stream",
     "text": [
      "|    | Item              | Price | Quantity | Total  | Date       | Salesperson    |\n",
      "|----|-------------------|-------|----------|--------|------------|----------------|\n",
      "| 76 | Brake Pad        | 75    | 1        | 6      | 06/03/2023 | Tom Yam        |\n",
      "| 77 | Alternator       | 350   | 4        | 70     | 06/04/2023 | Tom Yam        |\n",
      "| 78 | Radiator         | 200   | 3        | 42     | 06/05/2023 | Tom Yam        |\n",
      "| 79 | Clutch Plate     | 180   | 3        | 43.2   | 06/06/2023 | Tom Yam        |\n",
      "| 80 | Suspension Spring| 150   | 2        | 15     | 06/07/2023 | Tom Yam        |\n",
      "| 81 | Exhaust Manifold | 220   | 9        | 158.4  | 06/08/2023 | Tom Yam        |\n",
      "| 82 | Engine Block     | 500   | 3        | 150    | 06/09/2023 | Tom Yam        |\n",
      "| 83 | Engine Block     | 500   | 9        | 405    | 06/10/2023 | Emily Johnson  |\n",
      "| 84 | Engine Block     | 500   | 6        | 180    | 06/11/2023 | Emily Johnson  |\n",
      "| 85 | Radiator         | 200   | 5        | 70     | 06/12/2023 | Emily Johnson  |\n",
      "| 86 | Fuel Injector    | 250   | 5        | 62.5   | 06/13/2023 | Emily Johnson  |\n",
      "| 87 | Suspension Spring| 150   | 3        | 22.5   | 06/14/2023 | Emily Johnson  |\n",
      "| 88 | Alternator       | 350   | 2        | 70     | 06/15/2023 | Emily Johnson  |\n",
      "| 89 | Engine Block     | 500   | 1        | 30     | 06/16/2023 | Emily Johnson  |\n",
      "| 90 | Radiator         | 200   | 6        | 48     | 06/17/2023 | Emily Johnson  |\n",
      "| 91 | Clutch Plate     | 180   | 9        | 145.8  | 06/18/2023 | Emily Johnson  |\n",
      "| 92 | Radiator         | 200   | 8        | 96     | 06/19/2023 | Emily Johnson  |\n",
      "| 93 | Exhaust Manifold | 220   | 4        | 79.2   | 06/20/2023 | Emily Johnson  |\n",
      "| 94 | Steering Wheel   | 100   | 2        | 12     | 06/21/2023 | Emily Johnson  |\n",
      "| 95 | Alternator       | 350   | 4        | 98     | 06/22/2023 | Emily Johnson  |\n",
      "| 96 | Engine Block     | 500   | 9        | 90     | 06/23/2023 | Emily Johnson  |\n",
      "| 97 | Fuel Injector    | 250   | 4        | 40     | 06/24/2023 | Emily Johnson  |\n",
      "| 98 | Radiator         | 200   | 2        | 16     | 06/25/2023 | Emily Johnson  |\n",
      "| 99 | Fuel Injector    | 250   | 9        | 67.5   | 06/26/2023 | Emily Johnson  |\n",
      "| 100| Steering Wheel   | 100   | 8        | 24     | 06/27/2023 | Emily Johnson  |\n"
     ]
    }
   ],
   "execution_count": 9
  },
  {
   "metadata": {},
   "cell_type": "markdown",
   "source": "# VENDOR MULTIMODAL MODEL: **openai-gpt4o-mini**",
   "id": "57a689fd99044215"
  },
  {
   "metadata": {
    "ExecuteTime": {
     "end_time": "2024-10-17T12:09:05.628423Z",
     "start_time": "2024-10-17T12:08:59.964033Z"
    }
   },
   "cell_type": "code",
   "source": [
    "doc = LlamaParse(\n",
    "    result_type=\"markdown\",\n",
    "    use_vendor_multimodal_model=True,\n",
    "    vendor_multimodal_model_name=\"openai-gpt-4o-mini\",\n",
    ").load_data(_uri)\n",
    "print(f\"Result docs number: {len(doc)}\")"
   ],
   "id": "531658e46562c434",
   "outputs": [
    {
     "name": "stdout",
     "output_type": "stream",
     "text": [
      "Started parsing the file under job_id 487acf90-6ea8-48a5-aab2-99cd4401b9fd\n",
      "Result docs number: 3\n"
     ]
    }
   ],
   "execution_count": 23
  },
  {
   "metadata": {
    "ExecuteTime": {
     "end_time": "2024-10-17T12:09:11.063374Z",
     "start_time": "2024-10-17T12:09:11.059606Z"
    }
   },
   "cell_type": "code",
   "source": "print(doc[0].text)",
   "id": "d62fc2e820cff5c",
   "outputs": [
    {
     "name": "stdout",
     "output_type": "stream",
     "text": [
      "\n",
      "# Sales Data\n",
      "\n",
      "| order_id | product_name         | price_per_unit | units_sold | amount_of_discount_total | deal_date   | customer_name   |\n",
      "|----------|----------------------|----------------|------------|--------------------------|-------------|------------------|\n",
      "| 1        | Alternator           | 350            | 5          | 157.5                    | 01/01/2024  | Emily Johnson     |\n",
      "| 2        | Engine Block         | 500            | 1          | 100                      | 01/02/2024  | Emily Johnson     |\n",
      "| 3        | Engine Block         | 500            | 4          | 120                      | 01/03/2024  | Scott Nilson      |\n",
      "| 4        | Clutch Plate         | 180            | 1          | 7.2                      | 01/04/2024  | Scott Nilson      |\n",
      "| 5        | Transmission Gear     | 300            | 9          | 189                      | 01/05/2024  | Scott Nilson      |\n",
      "| 6        | Steering Wheel       | 100            | 3          | 27                       | 01/06/2024  | Scott Nilson      |\n",
      "| 7        | Exhaust Manifold     | 220            | 2          | 30.8                     | 01/07/2024  | Scott Nilson      |\n",
      "| 8        | Clutch Plate         | 180            | 2          | 10.8                     | 01/08/2024  | Scott Nilson      |\n",
      "| 9        | Steering Wheel       | 100            | 1          | 9                        | 01/09/2024  | Scott Nilson      |\n",
      "| 10       | Engine Block         | 500            | 9          | 315                      | 01/10/2024  | Scott Nilson      |\n",
      "| 11       | Clutch Plate         | 180            | 7          | 50.4                     | 01/11/2024  | Scott Nilson      |\n",
      "| 12       | Transmission Gear     | 300            | 9          | 243                      | 01/12/2024  | Scott Nilson      |\n",
      "| 13       | Steering Wheel       | 100            | 7          | 70                       | 01/13/2024  | Scott Nilson      |\n",
      "| 14       | Brake Pad            | 75             | 4          | 6                        | 01/14/2024  | Scott Nilson      |\n",
      "| 15       | Exhaust Manifold     | 220            | 3          | 52.8                     | 01/15/2024  | Scott Nilson      |\n",
      "| 16       | Transmission Gear     | 300            | 2          | 48                       | 01/16/2024  | Scott Nilson      |\n",
      "| 17       | Radiator             | 200            | 3          | 60                       | 01/17/2024  | Scott Nilson      |\n",
      "| 18       | Steering Wheel       | 100            | 6          | 42                       | 01/18/2024  | Scott Nilson      |\n",
      "| 19       | Engine Block         | 500            | 4          | 140                      | 01/19/2024  | Emily Johnson     |\n",
      "| 20       | Radiator             | 200            | 5          | 20                       | 01/20/2024  | Emily Johnson     |\n",
      "| 21       | Exhaust Manifold     | 220            | 5          | 66                       | 01/21/2024  | Emily Johnson     |\n",
      "| 22       | Clutch Plate         | 180            | 4          | 50.4                     | 01/22/2024  | Emily Johnson     |\n",
      "| 23       | Brake Pad            | 75             | 3          | 18                       | 01/23/2024  | Emily Johnson     |\n",
      "| 24       | Exhaust Manifold     | 220            | 4          | 26.4                     | 02/02/2023  | Emily Johnson     |\n",
      "| 25       | Steering Wheel       | 100            | 3          | 6                        | 02/03/2023  | Emily Johnson     |\n",
      "| 26       | Exhaust Manifold     | 220            | 3          | 52.8                     | 02/04/2023  | Emily Johnson     |\n",
      "| 27       | Steering Wheel       | 100            | 5          | 30                       | 02/05/2023  | Emily Johnson     |\n",
      "| 28       | Clutch Plate         | 180            | 9          | 97.2                     | 02/06/2023  | Emily Johnson     |\n",
      "| 29       | Engine Block         | 500            | 1          | 15                       | 02/07/2023  | Emily Johnson     |\n",
      "| 30       | Radiator             | 200            | 9          | 162                      | 02/08/2023  | Emily Johnson     |\n",
      "| 31       | Fuel Injector        | 250            | 1          | 20                       | 02/09/2023  | Emily Johnson     |\n",
      "| 32       | Fuel Injector        | 250            | 6          | 120                      | 02/10/2023  | Emily Johnson     |\n",
      "| 33       | Suspension Spring     | 150            | 3          | 27                       | 02/11/2023  | Emily Johnson     |\n",
      "| 34       | Radiator             | 200            | 9          | 108                      | 02/12/2023  | Emily Johnson     |\n",
      "| 35       | Engine Block         | 500            | 4          | 120                      | 02/13/2023  | Emily Johnson     |\n",
      "| 36       | Steering Wheel       | 100            | 5          | 40                       | 02/14/2023  | Emily Johnson     |\n",
      "| 37       | Brake Pad            | 75             | 1          | 4.5                      | 02/15/2023  | Emily Johnson     |\n",
      "\n"
     ]
    }
   ],
   "execution_count": 24
  },
  {
   "metadata": {
    "ExecuteTime": {
     "end_time": "2024-10-17T12:09:11.265363Z",
     "start_time": "2024-10-17T12:09:11.261580Z"
    }
   },
   "cell_type": "code",
   "source": "print(doc[1].text)",
   "id": "7b3efa45836971e9",
   "outputs": [
    {
     "name": "stdout",
     "output_type": "stream",
     "text": [
      "\n",
      "# Parts Inventory\n",
      "\n",
      "| Item No | Part Name          | Quantity | Weight (kg) | Date       | Responsible Person |\n",
      "|---------|--------------------|----------|--------------|------------|--------------------|\n",
      "| 38      | Clutch Plate       | 180      | 64.8         | 02/16/2023 | Emily Johnson       |\n",
      "| 39      | Brake Pad          | 75       | 7.5          | 02/17/2023 | Emily Johnson       |\n",
      "| 40      | Steering Wheel     | 100      | 6            | 02/18/2023 | Emily Johnson       |\n",
      "| 41      | Exhaust Manifold    | 220      | 55           | 02/19/2023 | Emily Johnson       |\n",
      "| 42      | Exhaust Manifold    | 220      | 46.2         | 02/20/2023 | Emily Johnson       |\n",
      "| 43      | Engine Block       | 500      | 4            | 02/21/2023 | Emily Johnson       |\n",
      "| 44      | Transmission Gear   | 300      | 3            | 02/22/2023 | Emily Johnson       |\n",
      "| 45      | Engine Block       | 500      | 3            | 02/23/2023 | Emily Johnson       |\n",
      "| 46      | Suspension Spring   | 150      | 1            | 02/24/2023 | Emily Johnson       |\n",
      "| 47      | Exhaust Manifold    | 220      | 17.6         | 05/06/2023 | Emily Johnson       |\n",
      "| 48      | Transmission Gear   | 300      | 3            | 05/06/2023 | Emily Johnson       |\n",
      "| 49      | Engine Block       | 500      | 8            | 05/07/2023 | Emily Johnson       |\n",
      "| 50      | Suspension Spring   | 150      | 9            | 05/08/2023 | Emily Johnson       |\n",
      "| 51      | Brake Pad          | 75       | 11.25        | 05/09/2023 | Emily Johnson       |\n",
      "| 52      | Exhaust Manifold    | 220      | 4            | 05/10/2023 | Emily Johnson       |\n",
      "| 53      | Fuel Injector      | 250      | 112.5        | 05/11/2023 | Emily Johnson       |\n",
      "| 54      | Steering Wheel     | 100      | 50           | 05/12/2023 | Tom Yam             |\n",
      "| 55      | Exhaust Manifold    | 220      | 13.2         | 05/13/2023 | Tom Yam             |\n",
      "| 56      | Suspension Spring   | 150      | 4            | 05/14/2023 | Tom Yam             |\n",
      "| 57      | Engine Block       | 500      | 7            | 05/15/2023 | Tom Yam             |\n",
      "| 58      | Clutch Plate       | 180      | 18           | 05/16/2023 | Tom Yam             |\n",
      "| 59      | Clutch Plate       | 180      | 7            | 05/17/2023 | Tom Yam             |\n",
      "| 60      | Suspension Spring   | 150      | 9            | 05/18/2023 | Tom Yam             |\n",
      "| 61      | Engine Block       | 500      | 4            | 05/19/2023 | Tom Yam             |\n",
      "| 62      | Radiator           | 200      | 3            | 05/20/2023 | Tom Yam             |\n",
      "| 63      | Brake Pad          | 75       | 9            | 05/21/2023 | Tom Yam             |\n",
      "| 64      | Alternator         | 350      | 7            | 05/22/2023 | Tom Yam             |\n",
      "| 65      | Suspension Spring   | 150      | 5            | 05/23/2023 | Tom Yam             |\n",
      "| 66      | Suspension Spring   | 150      | 9            | 05/24/2023 | Tom Yam             |\n",
      "| 67      | Fuel Injector      | 250      | 4            | 05/25/2023 | Tom Yam             |\n",
      "| 68      | Clutch Plate       | 180      | 129.6        | 05/26/2023 | Tom Yam             |\n",
      "| 69      | Fuel Injector      | 250      | 7            | 05/27/2023 | Tom Yam             |\n",
      "| 70      | Suspension Spring   | 150      | 3.5          | 05/28/2023 | Tom Yam             |\n",
      "| 71      | Alternator         | 350      | 1            | 05/29/2023 | Tom Yam             |\n",
      "| 72      | Clutch Plate       | 180      | 8            | 05/30/2023 | Tom Yam             |\n",
      "| 73      | Transmission Gear   | 300      | 2            | 05/31/2023 | Tom Yam             |\n",
      "| 74      | Fuel Injector      | 250      | 60           | 06/01/2023 | Tom Yam             |\n",
      "| 75      | Exhaust Manifold    | 220      | 15.4         | 06/02/2023 | Tom Yam             |\n",
      "\n"
     ]
    }
   ],
   "execution_count": 25
  },
  {
   "metadata": {
    "ExecuteTime": {
     "end_time": "2024-10-17T12:09:12.320994Z",
     "start_time": "2024-10-17T12:09:12.317038Z"
    }
   },
   "cell_type": "code",
   "source": "print(doc[2].text)",
   "id": "cf39de8ed60ae750",
   "outputs": [
    {
     "name": "stdout",
     "output_type": "stream",
     "text": [
      "\n",
      "| #   | Item              | Price | Quantity | Total  | Date       | Responsible   |\n",
      "|-----|-------------------|-------|----------|--------|------------|----------------|\n",
      "| 76  | Brake Pad         | 75    | 1        | 6      | 06/03/2023 | Tom Yam        |\n",
      "| 77  | Alternator        | 350   | 4        | 70     | 06/04/2023 | Tom Yam        |\n",
      "| 78  | Radiator          | 200   | 3        | 42     | 06/05/2023 | Tom Yam        |\n",
      "| 79  | Clutch Plate      | 180   | 3        | 43.2   | 06/06/2023 | Tom Yam        |\n",
      "| 80  | Suspension Spring  | 150   | 2        | 15     | 06/07/2023 | Tom Yam        |\n",
      "| 81  | Exhaust Manifold   | 220   | 9        | 158.4  | 06/08/2023 | Tom Yam        |\n",
      "| 82  | Engine Block      | 500   | 3        | 150    | 06/09/2023 | Tom Yam        |\n",
      "| 83  | Engine Block      | 500   | 6        | 405    | 06/10/2023 | Emily Johnson   |\n",
      "| 84  | Engine Block      | 500   | 6        | 180    | 06/11/2023 | Emily Johnson   |\n",
      "| 85  | Radiator          | 200   | 2        | 70     | 06/12/2023 | Emily Johnson   |\n",
      "| 86  | Fuel Injector     | 250   | 5        | 62.5   | 06/13/2023 | Emily Johnson   |\n",
      "| 87  | Suspension Spring  | 150   | 3        | 70     | 06/14/2023 | Emily Johnson   |\n",
      "| 88  | Alternator        | 350   | 2        | 70     | 06/15/2023 | Emily Johnson   |\n",
      "| 89  | Engine Block      | 500   | 1        | 30     | 06/16/2023 | Emily Johnson   |\n",
      "| 90  | Radiator          | 200   | 6        | 48     | 06/17/2023 | Emily Johnson   |\n",
      "| 91  | Clutch Plate      | 180   | 9        | 145.8  | 06/18/2023 | Emily Johnson   |\n",
      "| 92  | Radiator          | 200   | 8        | 96     | 06/19/2023 | Emily Johnson   |\n",
      "| 93  | Exhaust Manifold   | 220   | 4        | 79.2   | 06/20/2023 | Emily Johnson   |\n",
      "| 94  | Steering Wheel    | 100   | 2        | 12     | 06/21/2023 | Emily Johnson   |\n",
      "| 95  | Alternator        | 350   | 4        | 98     | 06/22/2023 | Emily Johnson   |\n",
      "| 96  | Engine Block      | 500   | 9        | 90     | 06/23/2023 | Emily Johnson   |\n",
      "| 97  | Fuel Injector     | 250   | 4        | 40     | 06/24/2023 | Emily Johnson   |\n",
      "| 98  | Radiator          | 200   | 2        | 16     | 06/25/2023 | Emily Johnson   |\n",
      "| 99  | Fuel Injector     | 250   | 9        | 67.5   | 06/26/2023 | Emily Johnson   |\n",
      "| 100 | Steering Wheel    | 100   | 8        | 24     | 06/27/2023 | Emily Johnson   |\n",
      "\n"
     ]
    }
   ],
   "execution_count": 26
  },
  {
   "metadata": {},
   "cell_type": "code",
   "outputs": [],
   "execution_count": null,
   "source": "",
   "id": "f1a6f49195b3d336"
  },
  {
   "metadata": {
    "ExecuteTime": {
     "end_time": "2024-10-17T12:43:34.695460Z",
     "start_time": "2024-10-17T12:43:16.320226Z"
    }
   },
   "cell_type": "code",
   "source": [
    "doc = LlamaParse(\n",
    "    result_type=\"markdown\",\n",
    "    use_vendor_multimodal_model=True,\n",
    "    vendor_multimodal_model_name=\"openai-gpt-4o-mini\",\n",
    ").load_data(\"./_data_test_pdfs/consum_combined.pdf\")\n",
    "print(f\"Result docs number: {len(doc)}\")"
   ],
   "id": "d8ef99bddc1ab80d",
   "outputs": [
    {
     "name": "stdout",
     "output_type": "stream",
     "text": [
      "Started parsing the file under job_id 901bb87d-292c-4a23-9b98-2234b1c6add8\n",
      "Result docs number: 3\n"
     ]
    }
   ],
   "execution_count": 27
  },
  {
   "metadata": {
    "ExecuteTime": {
     "end_time": "2024-10-17T12:43:44.962580Z",
     "start_time": "2024-10-17T12:43:44.957518Z"
    }
   },
   "cell_type": "code",
   "source": "print(doc[0].text)",
   "id": "2cc5027d6c61c343",
   "outputs": [
    {
     "name": "stdout",
     "output_type": "stream",
     "text": [
      "# Consum Worker Policy\n",
      "\n",
      "## 1. Introduction\n",
      "Welcome to Consum! Our Worker Policy ensures a supportive, efficient, and safe work environment. We are committed to upholding professionalism, respect, and excellence in all aspects of our operations.\n",
      "\n",
      "## 2. Equal Opportunity and Diversity\n",
      "Consum is an equal opportunity employer. We embrace diversity and strive to create an inclusive environment for all employees.\n",
      "\n",
      "## 3. Health and Safety\n",
      "Employee health and safety are paramount. Adherence to safety protocols, including food handling and hygiene practices, is required.\n",
      "\n",
      "## 4. Professional Conduct\n",
      "Employees are expected to maintain professionalism, respect, and a customer-first approach at all times.\n",
      "\n",
      "## 5. Attendance and Punctuality\n",
      "Reliable attendance and punctuality are essential. Timely communication is required in case of delays or absences.\n",
      "\n",
      "## 6. Confidentiality and Data Protection\n",
      "All employees must respect the confidentiality of company and customer information.\n",
      "\n",
      "## 7. Dress Code and Personal Hygiene\n",
      "A strict dress code and personal hygiene standards are essential, especially in handling food products.\n",
      "\n",
      "## 8. Conflict Resolution\n",
      "Conflicts should be resolved amicably, with management available for mediation if necessary.\n",
      "\n",
      "## 9. Training and Development\n",
      "Consum is dedicated to the continuous professional development of our employees.\n",
      "\n",
      "## 10. Compliance with Laws and Regulations\n",
      "All employees must adhere to food safety and handling laws and regulations.\n",
      "\n",
      "## 11. Feedback and Suggestions\n",
      "We encourage employees to provide feedback and suggestions for improvement.\n",
      "\n",
      "## 12. Disciplinary Action\n",
      "Non-compliance with these policies may result in disciplinary action.\n",
      "\n",
      "## 13. Vacation Time and Days Off\n",
      "Details regarding vacation time, days off, and special benefits are included to enhance employee welfare and satisfaction.\n"
     ]
    }
   ],
   "execution_count": 28
  },
  {
   "metadata": {
    "ExecuteTime": {
     "end_time": "2024-10-17T12:43:49.667468Z",
     "start_time": "2024-10-17T12:43:49.663412Z"
    }
   },
   "cell_type": "code",
   "source": "print(doc[1].text)",
   "id": "f354dd2f1606fa96",
   "outputs": [
    {
     "name": "stdout",
     "output_type": "stream",
     "text": [
      "# Employee Benefits and Contacts\n",
      "\n",
      "## Annual Leave\n",
      "- Employees are entitled to 24 days of paid vacation annually.\n",
      "\n",
      "## Public Holidays\n",
      "- All national public holidays are observed with paid leave.\n",
      "\n",
      "## Personal Days\n",
      "- 7 paid personal days per year for personal matters or emergencies.\n",
      "\n",
      "## 14. Special Benefits\n",
      "- **Health and Wellness Programs**: Access to gym memberships, yoga classes, and wellness workshops.\n",
      "- **Professional Growth Fund**: An annual allowance for courses or seminars related to personal and professional development.\n",
      "- **Family Support**: Enhanced maternity/paternity leave and flexible scheduling for parents.\n",
      "- **Employee Discount**: Generous discounts on all Consum products.\n",
      "- **Team Building Activities**: Regular company outings and team-building events to foster a sense of community.\n",
      "- **Sustainability Incentives**: Rewards for employees who contribute to sustainability initiatives, like recycling and energy conservation.\n",
      "\n",
      "## 15. Retirement Plan\n",
      "- **Pension Scheme**: A competitive pension plan to support your future.\n",
      "- **Financial Planning Assistance**: Access to financial advisors for retirement planning.\n",
      "\n",
      "## Conclusion\n",
      "Our comprehensive policy is designed to ensure a fulfilling and supportive work environment. We value each employee’s contribution to Consum's success.\n",
      "\n",
      "## Table of Consul Employee Contacts\n",
      "\n",
      "| Employee         | Phone          | Email                     |\n",
      "|------------------|----------------|---------------------------|\n",
      "| Sarah Lee        | (415) 555-2671 | sarahlee@email.com        |\n",
      "| Tom Johnson      | (212) 555-3456 | tomjohnson@email.com      |\n",
      "| Jane Smith       | (312) 555-7890 | janesmith@email.com       |\n",
      "| Mike Johnson     | (213) 555-4567 | mikejohnson@email.com     |\n",
      "| John Smith       | (305) 555-6789 | johnsmith@email.com       |\n",
      "| Sarah Johnson    | (123) 456-7890 | sarahjohnson@email.com    |\n",
      "| Michael Brown    | (234) 567-8901 | michaelbrown@email.com     |\n",
      "| Emily Davis      | (345) 678-9012 | emilydavis@email.com      |\n",
      "| David Miller     | (456) 789-0123 | davidmiller@email.com     |\n",
      "| Jessica Wilson    | (567) 890-1234 | jessicawilson@email.com   |\n",
      "| James Taylor     | (678) 901-2345 | jamestaylor@email.com     |\n",
      "| Amanda Moore     | (789) 012-3456 | amandamoore@email.com     |\n",
      "| William Harris   | (012) 345-6789 | williamharris@email.com   |\n",
      "| Richard Thompson | (222) 333-4444 | richardthompson@email.com |\n"
     ]
    }
   ],
   "execution_count": 29
  },
  {
   "metadata": {
    "ExecuteTime": {
     "end_time": "2024-10-17T12:43:58.235924Z",
     "start_time": "2024-10-17T12:43:58.231392Z"
    }
   },
   "cell_type": "code",
   "source": "print(doc[2].text)",
   "id": "3bdaaff6ecd720e3",
   "outputs": [
    {
     "name": "stdout",
     "output_type": "stream",
     "text": [
      "```\n",
      "# Employee Contact Information\n",
      "\n",
      "| Name               | Phone Number    | Email                     |\n",
      "|--------------------|-----------------|---------------------------|\n",
      "| Patricia Garcia     | (333) 444-5555  | patriciagarcia@email.com  |\n",
      "| Paul Lewis          | (888) 999-0000  | paulewis@email.com        |\n",
      "| Susan Walker        | (999) 000-1111  | susanwalker@email.com      |\n",
      "| Xander Blackwood    | (415) 555-2672  | xander.blackwood@email.com |\n",
      "| Luna Nightingale     | (212) 555-3453  | luna.nightingale@email.com |\n",
      "| Phoenix Blaze       | (312) 555-7891  | phoenix.blaze@email.com    |\n",
      "| Nova Starlight      | (213) 555-4563  | nova.starlight@email.com   |\n",
      "\n",
      "# Table of Consumm Employee Salaries, Their Roles and Hire Date\n",
      "\n",
      "| Employee            | Role                     | Hire Date    | Salary  |\n",
      "|---------------------|--------------------------|--------------|---------|\n",
      "| Sarah Lee           | Cashier                  | 3-Jan-2018   | $2,000  |\n",
      "| Tom Johnson         | Cashier                  | 15-Feb-2019  | $2,000  |\n",
      "| Jane Smith          | Cashier                  | 10-Apr-2017  | $2,000  |\n",
      "| Mike Johnson        | Cashier                  | 22-May-2018  | $2,000  |\n",
      "| John Smith          | CEO                      | 30-Jun-2019  | $20,000 |\n",
      "| Sarah Johnson       | Chief Financial Officer   | 1-Jul-2017   | $15,000 |\n",
      "| Michael Brown       | Operations Manager       | 15-Aug-2018  | $10,000 |\n",
      "| Emily Davis         | Head of Marketing        | 20-Sep-2019  | $12,000 |\n",
      "| David Miller        | Head of Sales            | 5-Oct-2017   | $12,000 |\n",
      "| Jessica Wilson      | Customer Service Manager  | 11-Nov-2018  | $8,000  |\n",
      "| James Taylor        | IT Manager               | 12-Dec-2019  | $10,000 |\n",
      "| Amanda Moore        | Human Resources Manager   | 15-Jan-2020  | $9,000  |\n",
      "| William Harris      | Inventory Manager        | 20-Apr-2019  | $8,500  |\n",
      "| Richard Thompson    | Legal Advisor            | 15-Jun-2017  | $10,500 |\n",
      "| Patricia Garcia     | Accounting Manager       | 25-Jul-2018  | $9,000  |\n",
      "| Paul Lewis          | Purchasing Manager       | 10-Dec-2019  | $9,000  |\n",
      "| Susan Walker        | Logistics Manager        | 20-Jan-2020  | $9,000  |\n",
      "| Xander Blackwood    | Loader                   | 3-Jan-2018   | $2,000  |\n",
      "| Luna Nightingale     | Loader                   | 15-Feb-2019  | $2,000  |\n",
      "| Phoenix Blaze       | Merchandiser             | 10-Apr-2017  | $2,000  |\n",
      "| Nova Starlight      | Merchandiser             | 22-May-2018  | $2,000  |\n",
      "```\n"
     ]
    }
   ],
   "execution_count": 30
  },
  {
   "metadata": {},
   "cell_type": "code",
   "outputs": [],
   "execution_count": null,
   "source": "",
   "id": "92e870745358f2aa"
  },
  {
   "metadata": {
    "ExecuteTime": {
     "end_time": "2024-10-17T12:47:30.366666Z",
     "start_time": "2024-10-17T12:46:55.424119Z"
    }
   },
   "cell_type": "code",
   "source": [
    "doc = LlamaParse(\n",
    "    result_type=\"markdown\",\n",
    "    use_vendor_multimodal_model=True,\n",
    "    vendor_multimodal_model_name=\"openai-gpt-4o-mini\",\n",
    ").load_data(\"./_data_test_pdfs/consum_order_payment.pdf\")\n",
    "print(f\"Result docs number: {len(doc)}\")"
   ],
   "id": "8926c1017aba3b82",
   "outputs": [
    {
     "name": "stdout",
     "output_type": "stream",
     "text": [
      "Started parsing the file under job_id 39b1575e-08f6-4cfc-b4f4-72e0babdce2e\n",
      ".Result docs number: 3\n"
     ]
    }
   ],
   "execution_count": 32
  },
  {
   "metadata": {
    "ExecuteTime": {
     "end_time": "2024-10-17T12:47:39.615696Z",
     "start_time": "2024-10-17T12:47:39.611759Z"
    }
   },
   "cell_type": "code",
   "source": "print(doc[0].text)",
   "id": "d8dd294b1d450af1",
   "outputs": [
    {
     "name": "stdout",
     "output_type": "stream",
     "text": [
      "\n",
      "# Payment Records\n",
      "\n",
      "| Payment ID | Order ID | Loyalty Card | Loyalty Amount Applied | Customer         | Amount Paid | Date       | Type  | Card        | Invoice ID | Status    |\n",
      "|------------|----------|--------------|------------------------|-------------------|-------------|------------|-------|-------------|------------|-----------|\n",
      "| 209864     | 1        | -            | -                      | John Smith        | $50.00      | 01-May-21  | Cash  | -           | 656625     | Completed |\n",
      "| 615068     | 3        | 401364       | 5                      | Bob Johnson       | $15.00      | 03-May-21  | Online | Visa        | 129687     | Failed    |\n",
      "| 889065     | 4        | -            | -                      | Mary Brown        | $30.00      | 04-May-21  | Cash  | -           | 429780     | Completed |\n",
      "| 743665     | 5        | 245888       | -                      | David Lee         | $15.00      | 05-May-21  | Cash  | -           | 960672     | Pending   |\n",
      "| 541305     | 8        | 417384       | 3                      | Emily Davis       | $22.00      | 08-May-21  | Online | MasterCard  | 892412     | Pending   |\n",
      "| 720291     | 9        | -            | -                      | James Wilson      | $35.00      | 09-May-21  | Cash  | -           | 327598     | Failed    |\n",
      "| 270772     | 12       | -            | -                      | Sarah Davis       | $200.00     | 01-Feb-22  | Online | Visa        | 211592     | Paid      |\n",
      "| 719317     | 13       | 159316       | -                      | Peter Parker      | $100.00     | 01-Mar-22  | Online | Visa        | 883385     | Pending   |\n",
      "| 441367     | 17       | 366482       | -                      | Michael Smith     | $400.00     | 01-Jul-22  | Cash  | -           | 532919     | Failed    |\n",
      "| 903270     | 19       | -            | -                      | William Johnson   | $500.00     | 01-Sep-22  | Cash  | -           | 697419     | Pending   |\n",
      "| 254250     | 20       | -            | -                      | Jessica Davis     | $550.00     | 01-Oct-22  | Cash  | -           | 849473     | Failed    |\n",
      "| 586722     | 22       | -            | -                      | Jane Doe         | $200.00     | 02-Jan-22  | Online | MasterCard  | 754548     | Completed |\n",
      "| 428441     | 23       | -            | -                      | Mary Johnson      | $75.00      | 03-Jan-22  | Online | Visa        | 401436     | Failed    |\n",
      "| 371695     | 24       | -            | -                      | James Smith       | $120.00     | 04-Jan-22  | Cash  | -           | 629549     | Failed    |\n",
      "| 992029     | 26       | 793775       | -                      | David Brown       | $180.00     | 06-Jan-22  | Cash  | -           | 192059     | Pending   |\n",
      "| 338689     | 27       | 759235       | -                      | Olivia Taylor     | $90.00      | 07-Jan-22  | Cash  | -           | 565220     | Failed    |\n",
      "| 318692     | 30       | 330293       | 4.3                    | Michael Davis     | $105.70     | 10-Jan-22  | Cash  | MasterCard  | 246621     | Failed    |\n",
      "| 818132     | 32       | -            | -                      | Jane Smith        | $200.00     | 01-Feb-22  | Online | Visa        | 732854     | Completed |\n",
      "| 791460     | 34       | -            | -                      | Tom Johnson       | $90.00      | 01-Apr-22  | Cash  | -           | 772251     | Pending   |\n",
      "| 408578     | 35       | 299518       | 2.8                    | Sarah Lee         | $177.20     | 01-May-22  | Cash  | MasterCard  | 254563     | Failed    |\n",
      "| 729740     | 37       | 149973       | -                      | Mike Johnson      | $160.00     | 01-Jul-22  | Online | Visa        | 827288     | Completed |\n",
      "| 198293     | 40       | -            | -                      | Jane Smith        | $220.00     | 01-Oct-22  | Online | Visa        | 478840     | Pending   |\n",
      "| 982412     | 41       | -            | -                      | John Doe         | $150.00     | 01-Jan-22  | Cash  | -           | 448331     | Failed    |\n",
      "| 266553     | 44       | -            | -                      | James Brown       | $300.00     | 04-Jan-22  | Online | Visa        | 349230     | Pending   |\n",
      "| 763846     | 46       | -            | -                      | William Smith     | $400.00     | 06-Jan-22  | Online | MasterCard  | 626521     | Failed    |\n",
      "\n"
     ]
    }
   ],
   "execution_count": 33
  },
  {
   "metadata": {
    "ExecuteTime": {
     "end_time": "2024-10-17T12:47:56.356867Z",
     "start_time": "2024-10-17T12:47:56.352602Z"
    }
   },
   "cell_type": "code",
   "source": "print(doc[1].text)",
   "id": "1b8a971fc373dc2c",
   "outputs": [
    {
     "name": "stdout",
     "output_type": "stream",
     "text": [
      "\n",
      "# Orders\n",
      "\n",
      "| Order ID | Status      | Customer         | Cashier      | Total | Date       | Items                        | Notes                                      |\n",
      "|----------|-------------|-------------------|--------------|-------|------------|------------------------------|--------------------------------------------|\n",
      "| 1        | Completed   | John Smith        | Sarah Lee    | $50   | 01-May-21  | Apples, Bananas, Bread      |                                            |\n",
      "| 2        | Completed   | Jane Doe          | Tom Johnson  | $75   | 02-May-21  | Milk, Eggs, Cheese, Yogurt  |                                            |\n",
      "| 3        | In Progress | Bob Johnson       | Sarah Lee    | $20   | 03-May-21  | Chips, Salsa                |                                            |\n",
      "| 4        | Completed   | Mary Brown        | Tom Johnson  | $30   | 04-May-21  | Chicken, Broccoli           |                                            |\n",
      "| 5        | Completed   | David Lee         | Sarah Lee    | $15   | 05-May-21  | Soda, Chips                 |                                            |\n",
      "| 6        | In Progress | Sarah Johnson     | Tom Johnson  | $40   | 06-May-21  | Ground Beef, Pasta, Sauce   |                                            |\n",
      "| 7        | Completed   | Michael Smith     | Sarah Lee    | $60   | 07-May-21  | Steak, Potatoes, Carrots    |                                            |\n",
      "| 8        | In Progress | Emily Davis       | Tom Johnson  | $25   | 08-May-21  | Apples, Oranges             |                                            |\n",
      "| 9        | Completed   | James Wilson      | Sarah Lee    | $35   | 09-May-21  | Bread, Milk, Eggs           |                                            |\n",
      "| 10       | In Progress | Samantha Brown    | Tom Johnson  | $45   | 10-May-21  | Chicken, Rice, Beans        |                                            |\n",
      "| 11       | Delivered   | John Doe          | Jane Smith   | $150  | 01-Jan-22  | Apples, Milk                |                                            |\n",
      "| 12       | Pending     | Sarah Davis       | Mike Johnson | $200  | 01-Feb-22  | Bread, Butter               |                                            |\n",
      "| 13       | Cancelled   | Peter Parker      | Jane Smith   | $100  | 01-Mar-22  | Cereal, Juice               | Out of stock                               |\n",
      "| 14       | Delivered   | Mary Johnson      | Mike Johnson | $250  | 01-Apr-22  | Eggs, Bacon                 |                                            |\n",
      "| 15       | Pending     | James Brown       | Jane Smith   | $300  | 01-May-22  | Pasta, Tomato Sauce         |                                            |\n",
      "| 16       | Delivered   | Emily Davis       | Mike Johnson | $350  | 01-Jun-22  | Chicken, Potatoes           |                                            |\n",
      "| 17       | Cancelled   | Michael Smith     | Jane Smith   | $400  | 01-Jul-22  | Fish, Rice                  | Out of stock                               |\n",
      "| 18       | Delivered   | Jennifer Wilson    | Mike Johnson | $450  | 01-Aug-22  | Beef, Broccoli              |                                            |\n",
      "| 19       | Pending     | William Johnson    | Jane Smith   | $500  | 01-Sep-22  | Pork, Corn                  |                                            |\n",
      "| 20       | Delivered   | Jessica Davis      | Mike Johnson | $550  | 01-Oct-22  | Lamb, Peas                  |                                            |\n",
      "| 21       | Completed   | John Doe          | Sarah Lee    | $150  | 01-Jan-22  | Milk, Bread, Butter         |                                            |\n",
      "| 22       | In Progress | Jane Doe          | Tom Johnson  | $200  | 02-Jan-22  | Eggs, Bacon, Orange Juice   |                                            |\n",
      "| 23       | Delivered   | Mary Johnson      | Jane Smith   | $75   | 03-Jan-22  | Cereal, Milk                |                                            |\n",
      "| 24       | Pending     | James Smith       | Mike Johnson | $120  | 04-Jan-22  | Chicken, Vegetables, Rice   |                                            |\n",
      "| 25       | Cancelled   | Emily Davis       | Sarah Lee    | $50   | 05-Jan-22  | Pasta, Tomato Sauce         | Customer might have found the items cheaper elsewhere |\n",
      "| 26       | Completed   | David Brown       | Tom Johnson  | $180  | 06-Jan-22  | Steak, Potatoes, Wine       |                                            |\n",
      "| 27       | In Progress | Olivia Taylor     | Jane Smith   | $90   | 07-Jan-22  | Fish, Lemon, Olive Oil      |                                            |\n",
      "| 28       | Delivered   | William Johnson    | Mike Johnson | $130  | 08-Jan-22  | Bread, Cheese, Ham          |                                            |\n",
      "\n"
     ]
    }
   ],
   "execution_count": 34
  },
  {
   "metadata": {
    "ExecuteTime": {
     "end_time": "2024-10-17T12:48:04.110368Z",
     "start_time": "2024-10-17T12:48:04.106933Z"
    }
   },
   "cell_type": "code",
   "source": "print(doc[2].text)",
   "id": "4fc112c178ccf7e2",
   "outputs": [
    {
     "name": "stdout",
     "output_type": "stream",
     "text": [
      "\n",
      "| Order No | Status      | Customer Name      | Salesperson  | Order Date | Items                          | Notes                             |\n",
      "|----------|-------------|--------------------|--------------|------------|--------------------------------|-----------------------------------|\n",
      "| 29       | Pending     | Ava Williams        | Sarah Lee    | 09-Jan-22  | Coffee, Sugar, Cream           |                                   |\n",
      "| 30       | Completed   | Michael Davis       | Tom Johnson  | 10-Jan-22  | Tea, Honey, Lemon              |                                   |\n",
      "| 31       | Completed   | Sarah Lee           | Tom Johnson  | 01-Jan-22  | Apples, Milk, Bread            |                                   |\n",
      "| 32       | In Progress | Jane Smith          | Mike Johnson | 01-Feb-22  | Eggs, Butter, Cheese           |                                   |\n",
      "| 33       | Delivered   | Mike                | Sarah Lee    | 01-Mar-22  | Rice, Chicken, Oranges         |                                   |\n",
      "| 34       | Pending     | Tom Jane Smith      | Tom Johnson  | 01-Apr-22  | Bananas, Yogurt, Coffee        |                                   |\n",
      "| 35       | Cancelled   | Sarah Lee           | Mike Johnson | 01-May-22  | Cereal, Milk, Apples           | Out of stock                      |\n",
      "| 36       | Completed   | Jane                | Tom Johnson  | 01-Jun-22  | Bread, Butter, Eggs            |                                   |\n",
      "| 37       | In Progress | Mike                | Sarah Lee    | 01-Jul-22  | Chicken, Rice, Oranges         |                                   |\n",
      "| 38       | Delivered   | Tom Jane Smith      | Mike Johnson | 01-Aug-22  | Coffee, Yogurt, Bananas        |                                   |\n",
      "| 39       | Pending     | Sarah Lee           | Mike Johnson | 01-Sep-22  | Apples, Cereal, Milk           |                                   |\n",
      "| 40       | Cancelled   | Jane Smith          | Tom Johnson  | 01-Oct-22  | Eggs, Butter, Bread            | Out of stock                      |\n",
      "| 41       | Completed   | John Doe            | Sarah Lee    | 01-Jan-22  | Bread, Milk                    |                                   |\n",
      "| 42       | In Progress | Jane Doe            | Tom Johnson  | 02-Jan-22  | Eggs, Cheese                   |                                   |\n",
      "| 43       | Delivered   | Mary Johnson        | Tom Johnson  | 03-Jan-22  | Apples, Oranges                |                                   |\n",
      "| 44       | Pending     | James Brown         | Mike Johnson | 04-Jan-22  | Bananas, Grapes                |                                   |\n",
      "| 45       | Cancelled   | Emily Davis         | Sarah Lee    | 05-Jan-22  | Chicken, Beef                  | Preference for a different type of meat |\n",
      "| 46       | Completed   | William Smith       | Tom Johnson  | 06-Jan-22  | Fish, Shrimp                   |                                   |\n",
      "| 47       | In Progress | Elizabeth Jane Smith | Tom Johnson  | 07-Jan-22  | Rice, Pasta                    |                                   |\n",
      "| 48       | Delivered   | Michael Miller      | Mike Johnson | 08-Jan-22  | Bread, Cheese                  |                                   |\n",
      "| 49       | Pending     | Emma Wilson         | Sarah Lee    | 09-Jan-22  | Milk, Eggs                     |                                   |\n",
      "| 50       | Cancelled   | Jacob Brown         | Tom Johnson  | 10-Jan-22  | Apples, Bananas                | Out of stock                      |\n",
      "\n"
     ]
    }
   ],
   "execution_count": 35
  },
  {
   "metadata": {},
   "cell_type": "code",
   "outputs": [],
   "execution_count": null,
   "source": "",
   "id": "a072f5fd17a688a1"
  },
  {
   "metadata": {
    "ExecuteTime": {
     "end_time": "2024-10-17T12:50:19.807876Z",
     "start_time": "2024-10-17T12:49:57.025344Z"
    }
   },
   "cell_type": "code",
   "source": [
    "doc = LlamaParse(\n",
    "    result_type=\"markdown\",\n",
    "    use_vendor_multimodal_model=True,\n",
    "    vendor_multimodal_model_name=\"openai-gpt-4o-mini\",\n",
    ").load_data(\"./_data_test_pdfs/single-page-diff-u_s_tables.pdf\")\n",
    "print(f\"Result docs number: {len(doc)}\")"
   ],
   "id": "bc4fc19f87986b4e",
   "outputs": [
    {
     "name": "stdout",
     "output_type": "stream",
     "text": [
      "Started parsing the file under job_id e55f6407-c08e-489f-9afc-b9df24674cd6\n",
      "Result docs number: 8\n"
     ]
    }
   ],
   "execution_count": 36
  },
  {
   "metadata": {
    "ExecuteTime": {
     "end_time": "2024-10-17T12:50:23.357146Z",
     "start_time": "2024-10-17T12:50:23.351340Z"
    }
   },
   "cell_type": "code",
   "source": "print(doc[0].text)",
   "id": "bd6d55ea9bffdf9f",
   "outputs": [
    {
     "name": "stdout",
     "output_type": "stream",
     "text": [
      "\n",
      "# Daily Transactions Report\n",
      "\n",
      "| Date       | Description         | Revenue (USD) | Expenses (USD) | Net Profit (USD) |\n",
      "|------------|---------------------|----------------|-----------------|-------------------|\n",
      "| 2023-12-01 | Daily Transactions   | $1,200         | $955            | $245              |\n",
      "| 2023-12-02 | Daily Transactions   | $1,500         | $1,082          | $418              |\n",
      "| 2023-12-03 | Daily Transactions   | $1,100         | $861            | $239              |\n",
      "| 2023-12-04 | Daily Transactions   | $1,342         | $1,068          | $274              |\n",
      "| 2023-12-05 | Daily Transactions   | $1,410         | $1,180          | $230              |\n",
      "| 2023-12-06 | Daily Transactions   | $1,781         | $1,453          | $328              |\n",
      "| 2023-12-07 | Daily Transactions   | $1,539         | $934            | $605              |\n",
      "| 2023-12-08 | Daily Transactions   | $1,108         | $682            | $426              |\n",
      "| 2023-12-09 | Daily Transactions   | $1,550         | $1,359          | $191              |\n",
      "| 2023-12-10 | Daily Transactions   | $1,831         | $1,448          | $383              |\n",
      "| 2023-12-11 | Daily Transactions   | $1,620         | $1,042          | $578              |\n",
      "| 2023-12-12 | Daily Transactions   | $1,153         | $956            | $197              |\n",
      "| 2023-12-13 | Daily Transactions   | $1,641         | $1,401          | $240              |\n",
      "| 2023-12-14 | Daily Transactions   | $1,417         | $1,270          | $147              |\n",
      "| 2023-12-15 | Daily Transactions   | $928           | $720            | $208              |\n",
      "| 2023-12-16 | Daily Transactions   | $1,588         | $997            | $591              |\n",
      "| 2023-12-17 | Daily Transactions   | $1,566         | $1,217          | $349              |\n",
      "| 2023-12-18 | Daily Transactions   | $908           | $673            | $235              |\n",
      "| 2023-12-19 | Daily Transactions   | $1,438         | $1,132          | $306              |\n",
      "| 2023-12-20 | Daily Transactions   | $795           | $560            | $235              |\n",
      "| 2023-12-21 | Daily Transactions   | $1,109         | $932            | $177              |\n",
      "| 2023-12-22 | Daily Transactions   | $1,536         | $1,114          | $422              |\n",
      "| 2023-12-23 | Daily Transactions   | $1,158         | $742            | $416              |\n",
      "| 2023-12-24 | Daily Transactions   | $1,740         | $1,335          | $405              |\n",
      "| 2023-12-25 | Daily Transactions   | $1,622         | $1,077          | $545              |\n",
      "| 2023-12-26 | Daily Transactions   | $744           | $636            | $108              |\n",
      "| 2023-12-27 | Daily Transactions   | $1,248         | $785            | $463              |\n",
      "| 2023-12-28 | Daily Transactions   | $1,593         | $1,326          | $267              |\n",
      "| 2023-12-29 | Daily Transactions   | $1,237         | $1,072          | $165              |\n",
      "| 2023-12-30 | Daily Transactions   | $1,059         | $850            | $209              |\n",
      "| 2023-12-31 | Daily Transactions   | $1,602         | $1,220          | $382              |\n",
      "| **MONTH TOTAL** | **MONTHLY**   | **$42,063**    | **$32,078**     | **$9,985**        |\n",
      "\n"
     ]
    }
   ],
   "execution_count": 37
  },
  {
   "metadata": {
    "ExecuteTime": {
     "end_time": "2024-10-17T12:52:02.817164Z",
     "start_time": "2024-10-17T12:52:02.812196Z"
    }
   },
   "cell_type": "code",
   "source": [
    "print(doc[1].text)\n",
    "with open(\"tmp_output.md\", \"w\") as file:\n",
    "    file.write(doc[1].text + \"\\n\")"
   ],
   "id": "6d994ec33f03af49",
   "outputs": [
    {
     "name": "stdout",
     "output_type": "stream",
     "text": [
      "\n",
      "# Product Inventory\n",
      "\n",
      "| Product ID | Product Name | Description                                                                 | Quantity in Stock | Unit Price | Selling Price | Expiry Date | Date of Purchase | Date of Last Sale | Supplier                  | Discount     |\n",
      "|------------|--------------|-----------------------------------------------------------------------------|-------------------|------------|---------------|-------------|------------------|--------------------|---------------------------|--------------|\n",
      "| 1          | Apple        | Fresh, crisp apples sourced from local orchards for the highest quality.   | 94                | $1.00      | $1.24         | 02-01-2024  | 26-11-2023       | 01-12-2023         | Fresh Fruit Co.           | 0.117748952  |\n",
      "| 2          | Banana       | Ripe, sweet bananas imported from tropical regions for optimal flavor.     | 68                | $0.50      | $0.62         | 05-12-2023  | 19-11-2023       | 01-12-2023         | Fresh Fruit Co.           | 0.081272608  |\n",
      "| 3          | Bread        | Artisanal bread made with locally-sourced, high-quality ingredients for a delicious and wholesome taste. | 10                | $2.00      | $2.48         | 17-12-2023  | 25-11-2023       | 19-11-2023         | Bakery Delights            | 0.158817645  |\n",
      "| 4          | Milk         | Fresh, creamy milk from pasture-raised cows for superior richness and nutritional value. | 95                | $3.00      | $3.72         | 31-12-2023  | 24-11-2023       | 01-12-2023         | Dairy Farm                | 0.011311604  |\n",
      "| 5          | Egg          | Farm-fresh eggs from free-range chickens, ensuring the highest quality and flavor. | 91                | $0.25      | $0.31         | 09-12-2023  | 23-11-2023       | 20-11-2023         | Eggcellent Suppliers       | 0.015065837  |\n",
      "| 6          | Cheese       | Artisanal cheese crafted from the finest dairy for a rich and complex flavor profile. | 44                | $4.00      | $4.96         | 13-12-2023  | 30-11-2023       | 06-11-2023         | Cheese Emporium           | 0.059248501  |\n",
      "| 7          | Yogurt       | Creamy, probiotic-rich yogurt made from the highest quality milk for a smooth and satisfying taste. | 95                | $1.50      | $1.86         | 30-12-2023  | 15-11-2023       | 07-11-2023         | Yogurt World              | 0.122533677  |\n",
      "| 8          | Chip         | Crispy, golden chips made from locally-grown potatoes and cooked to perfection for a satisfying crunch. | 17                | $2.50      | $3.10         | 17-12-2023  | 08-11-2023       | 22-11-2023         | Snack City Distributors    | 0.14143654   |\n",
      "\n"
     ]
    }
   ],
   "execution_count": 39
  },
  {
   "metadata": {
    "ExecuteTime": {
     "end_time": "2024-10-17T12:53:22.684361Z",
     "start_time": "2024-10-17T12:53:22.678921Z"
    }
   },
   "cell_type": "code",
   "source": [
    "print(doc[2].text)\n",
    "with open(\"tmp_output.md\", \"w\") as file:\n",
    "    file.write(doc[2].text + \"\\n\")"
   ],
   "id": "7e3ce0d0146d58d1",
   "outputs": [
    {
     "name": "stdout",
     "output_type": "stream",
     "text": [
      "\n",
      "# Product List\n",
      "\n",
      "| Item No | Product   | Description                                                                 | Quantity | Price  | Weight | Expiry Date | Order Date  | Delivery Date | Supplier            | Supplier ID   |\n",
      "|---------|-----------|-----------------------------------------------------------------------------|----------|--------|--------|-------------|-------------|----------------|---------------------|----------------|\n",
      "| 9       | Salsa     | Zesty salsa made with ripe tomatoes and fresh herbs for a burst of flavor in every bite. | 82       | $3.00  | 3.72   | 10-12-2023  | 15-11-2023  | 27-11-2023     | Salsa Sensations   | 0.031986589    |\n",
      "| 10      | Chicken   | Tender, juicy chicken sourced from trusted farms for the highest quality and taste. | 38       | $5.00  | 6.20   | 31-12-2023  | 10-12-2023  | 28-11-2023     | Poultry Palace      | 0.061581713    |\n",
      "| 11      | Broccoli  | Fresh, vibrant broccoli picked at the peak of ripeness for optimal flavor and nutrition. | 20       | $2.50  | 3.10   | 16-12-2023  | 22-11-2023  | 20-11-2023     | Green Grocers       | 0.052655827    |\n",
      "| 12      | Soda      | Refreshing soda made with natural ingredients and pure cane sugar for a crisp and satisfying taste. | 92       | $1.50  | 1.86   | 28-12-2023  | 10-11-2023  | 09-11-2023     | Soda King           | 0.052485966    |\n",
      "| 13      | Ground    | Premium ground beef sourced from grass-fed cattle for a rich and savory flavor. | 72       | $3.99  | 4.95   | 24-12-2023  | 21-11-2023  | 26-11-2023     | Meat Market         | 0.123388913    |\n",
      "| 14      | Beef      | Prime cuts of beef from select farms, ensuring the highest quality and tenderness. | 95       | $5.99  | 7.43   | 03-01-2024  | 12-11-2023  | 26-11-2023     | Beefy Butchers      | 0.048624234    |\n",
      "| 15      | Pasta     | Artisanal pasta made from durum wheat for a firm texture and delicious taste. | 96       | $1.99  | 2.47   | 29-11-2023  | 19-11-2023  | 21-11-2023     | Pasta Paradise       | 0.105904134    |\n",
      "| 16      | Sauce     | Rich, flavorful sauce made with ripe tomatoes and aromatic herbs for a truly authentic taste. | 66       | $2.49  | 3.09   | 24-01-2024  | 01-01-2024  | 17-11-2023     | Sauce Supreme        | 0.124051866    |\n",
      "| 17      | Steak     | Juicy, tender steaks from premium cuts of beef for a truly authentic experience. | 5        | $8.99  | 11.15  | 01-01-2024  | 20-11-2023  | 10-11-2023     | Steakhouse Supplies  | 0.163173554    |\n",
      "\n"
     ]
    }
   ],
   "execution_count": 43
  },
  {
   "metadata": {
    "ExecuteTime": {
     "end_time": "2024-10-17T12:53:50.313257Z",
     "start_time": "2024-10-17T12:53:50.308028Z"
    }
   },
   "cell_type": "code",
   "source": [
    "print(doc[3].text)\n",
    "with open(\"tmp_output.md\", \"w\") as file:\n",
    "    file.write(doc[3].text + \"\\n\")"
   ],
   "id": "7658b037f1da42e3",
   "outputs": [
    {
     "name": "stdout",
     "output_type": "stream",
     "text": [
      "\n",
      "# Product List\n",
      "\n",
      "| ID | Product  | Description                                                                 | Quantity | Price  | Weight | Expiry Date | Start Date | End Date   | Supplier            | Code        |\n",
      "|----|----------|-----------------------------------------------------------------------------|----------|--------|--------|-------------|------------|------------|---------------------|-------------|\n",
      "| 18 | Potato   | Fresh, earthy potatoes grown in nutrient-rich soil for a hearty and satisfying taste. | 28       | $0.99  | 1.23   | 15-12-2023  | 01-12-2023 | Potato Patch Farms  | 0.133969229 |\n",
      "| 19 | Carrot   | Crisp, sweet carrots grown in fertile soil for a vibrant and nutritious addition to any meal. | 56       | $0.79  | 0.98   | 11-12-2023  | 06-11-2023 | Carrot Corner       | 0           |\n",
      "| 20 | Orange   | Juicy, sweet oranges picked at the peak of ripeness for a burst of citrus flavor. | 40       | $0.69  | 0.86   | 01-01-2024  | 22-11-2023 | Orange Orchard      | 0           |\n",
      "| 21 | Rice     | Fragrant, fluffy rice sourced from trusted growers for a versatile and satisfying staple. | 57       | $3.29  | 4.08   | 03-01-2024  | 06-11-2023 | Rice Republic       | 0           |\n",
      "| 22 | Bean     | Nutritious, flavorful beans grown in fertile soil for a hearty and satisfying addition to any dish. | 71       | $1.49  | 1.85   | 09-12-2023  | 29-11-2023 | Bean Bonanza        | 0           |\n",
      "| 23 | Butter   | Rich, creamy butter made from the finest dairy for a smooth and indulgent flavor. | 38       | $2.99  | 3.71   | 31-12-2023  | 25-11-2023 | Butter Bliss        | 0           |\n",
      "| 24 | Cereals  | Wholesome cereals made with whole grains and natural ingredients for a nutritious and delicious breakfast option. | 0        | $4.49  | 5.57   | 06-12-2023  | 10-11-2023 | Cereal Central      | 0           |\n",
      "| 25 | Juice    | Fresh, vibrant juices made from ripe fruits for a burst of natural flavor and nutrition. | 84       | $2.99  | 3.71   | 30-12-2023  | 14-11-2023 | Juice Junction       | 0           |\n",
      "\n"
     ]
    }
   ],
   "execution_count": 44
  },
  {
   "metadata": {
    "ExecuteTime": {
     "end_time": "2024-10-17T12:56:23.219844Z",
     "start_time": "2024-10-17T12:56:23.215445Z"
    }
   },
   "cell_type": "code",
   "source": [
    "print(doc[4].text)\n",
    "with open(\"tmp_output.md\", \"w\") as file:\n",
    "    file.write(doc[4].text + \"\\n\")"
   ],
   "id": "7cb683ff61cc8826",
   "outputs": [
    {
     "name": "stdout",
     "output_type": "stream",
     "text": [
      "\n",
      "# Products List\n",
      "\n",
      "| ID | Product   | Description                                                                 | Quantity | Price  | Cost | Expiry Date | Delivery Date | Order Date | Supplier         | Status |\n",
      "|----|-----------|-----------------------------------------------------------------------------|----------|--------|------|-------------|----------------|------------|------------------|--------|\n",
      "| 26 | Bacon     | Smoky, savory bacon made from premium cuts of pork for a truly indulgent breakfast experience. | 97       | $4.99  | 6.19 | 28-12-2023  | 06-11-2023     | 06-11-2023 | Bacon Barn       | 0      |\n",
      "| 27 | Tomato    | Plump, juicy tomatoes grown in sun-drenched fields for a vibrant and flavorful addition to any dish. | 95       | $1.29  | 1.60 | 01-01-2024  | 18-11-2023     | 16-11-2023 | Tomato Town      | 0      |\n",
      "| 28 | Fish      | Fresh, sustainably-sourced fish for a delicate and flavorful addition to any meal. | 86       | $7.99  | 9.91 | 08-12-2023  | 07-11-2023     | 17-11-2023 | Fisherman’s Catch | 0      |\n",
      "| 29 | Pork      | Tender, succulent pork from trusted farms for a rich and satisfying dining experience. | 87       | $6.49  | 8.05 | 21-12-2023  | 09-11-2023     | 18-11-2023 | Pork Palace      | 0      |\n",
      "| 30 | Corn      | Sweet, golden corn picked at the peak of ripeness for a delicious and versatile addition to any dish. | 73       | $0.89  | 1.10 | 04-12-2023  | 09-11-2023     | 30-11-2023 | Corn Country     | 0      |\n",
      "| 31 | Lamb      | Tender, flavorful lamb from select farms for a truly indulgent dining experience. | 0        | $9.99  | 12.39| 02-12-2023  | 15-11-2023     | 24-11-2023 | Lamb Larder      | 0      |\n",
      "| 32 | Pea       | Sweet, tender peas grown in nutrient-rich soil for a vibrant and nutritious addition to any meal. | 88       | $1.19  | 1.48 | 14-12-2023  | 01-12-2023     | 11-11-2023 | Pea Paradise     | 0      |\n",
      "| 33 | Oranges   | Juicy, sweet oranges picked at the peak of ripeness for a burst of citrus flavor. | 47       | $1.49  | 1.85 | 18-12-2023  | 07-11-2023     | 21-11-2023 | Orange Oasis     | 0      |\n",
      "| 34 | Vegetable | Fresh, crisp vegetables grown in fertile soil.                              | 34       | $2.99  | 3.71 | 04-01-2024  | 30-11-2023     | 17-11-2023 | Veggie Village   | 0      |\n",
      "\n"
     ]
    }
   ],
   "execution_count": 46
  },
  {
   "metadata": {
    "ExecuteTime": {
     "end_time": "2024-10-17T12:56:33.633424Z",
     "start_time": "2024-10-17T12:56:33.628522Z"
    }
   },
   "cell_type": "code",
   "source": [
    "print(doc[5].text)\n",
    "with open(\"tmp_output.md\", \"w\") as file:\n",
    "    file.write(doc[5].text + \"\\n\")"
   ],
   "id": "ec5b6463be4f7d71",
   "outputs": [
    {
     "name": "stdout",
     "output_type": "stream",
     "text": [
      "\n",
      "| ID | Product  | Description                                                                 | Quantity | Price   | Weight | Expiry Date | Delivery Date | Order Date  | Supplier         | Status |\n",
      "|----|----------|-----------------------------------------------------------------------------|----------|---------|--------|-------------|----------------|-------------|------------------|--------|\n",
      "| 35 | Wine     | Rich, flavorful wines crafted from select grapes for a truly indulgent drinking experience. | 34       | $12.99  | 16.11  | 31-12-2023  | 29-11-2023     | 01-12-2023  | Wine World       | 0      |\n",
      "| 36 | Lemons   | Tangy, aromatic lemons picked at the peak of ripeness for a burst of citrus flavor. | 46       | $0.79   | 0.98   | 19-12-2023  | 18-11-2023     | 25-11-2023  | Lemon Grove      | 0      |\n",
      "| 37 | Olive    | Rich, flavorful olive oil made from the finest olives for a versatile and indulgent cooking staple. | 59       | $3.49   | 4.33   | 04-12-2023  | 14-11-2023     | 30-11-2023  | Olive Orchard    | 0      |\n",
      "| 38 | Oil      | High-quality cooking oil made from select seeds for a versatile and satisfying addition to any dish. | 15       | $4.99   | 6.19   | 27-12-2023  | 18-11-2023     | 16-11-2023  | Oil Outfitters   | 0      |\n",
      "| 39 | Hams     | Smoky, savory hams made from premium cuts of pork for a truly indulgent dining experience. | 28       | $5.99   | 7.43   | 28-12-2023  | 30-11-2023     | 16-11-2023  | Ham Haven        | 0      |\n",
      "| 40 | Coffee   | Rich, aromatic coffee made from the finest beans for a truly indulgent drinking experience. | 32       | $6.99   | 8.67   | 23-12-2023  | 19-11-2023     | 14-11-2023  | Coffee Co.       | 0      |\n",
      "| 41 | Sugars   | Pure, natural sugars for a sweet and satisfying addition to any recipe or beverage. | 41       | $2.49   | 3.09   | 12-12-2023  | 27-11-2023     | 18-11-2023  | Sugar Suppliers   | 0      |\n",
      "| 42 | Cream    | Rich, creamy cream made from the finest.                                   | 21       | $3.99   | 4.95   | 08-12-2023  | 17-11-2023     | 18-11-2023  | Creamery Creations | 0      |\n",
      "\n"
     ]
    }
   ],
   "execution_count": 47
  },
  {
   "metadata": {
    "ExecuteTime": {
     "end_time": "2024-10-17T12:57:05.947494Z",
     "start_time": "2024-10-17T12:57:05.943010Z"
    }
   },
   "cell_type": "code",
   "source": [
    "print(doc[6].text)\n",
    "with open(\"tmp_output.md\", \"w\") as file:\n",
    "    file.write(doc[6].text + \"\\n\")"
   ],
   "id": "8544738084d2344d",
   "outputs": [
    {
     "name": "stdout",
     "output_type": "stream",
     "text": [
      "\n",
      "# Products\n",
      "\n",
      "| ID | Product | Description | Quantity | Price | Cost | Expiry Date | Order Date | Delivery Date | Supplier | Status |\n",
      "|----|---------|-------------|----------|-------|------|-------------|------------|----------------|----------|--------|\n",
      "| 43 | Tea     | Fragrant, flavorful tea made from select leaves for a truly indulgent drinking experience. | 42       | $3.49 | 4.33 | 05-01-2024  | 07-11-2023 | 09-11-2023     | Tea Time Traders | 0      |\n",
      "| 44 | Honey   | Golden, aromatic honey made from the finest nectar for a sweet and satisfying addition to any dish or beverage. | 80       | $4.99 | 6.19 | 19-12-2023  | 24-11-2023 | 29-11-2023     | Honey Harvesters | 0      |\n",
      "| 45 | Grape   | Plump, juicy grapes picked at the peak of ripeness for a burst of natural sweetness and flavor. | 86       | $2.79 | 3.46 | 12-12-2023  | 21-11-2023 | 16-11-2023     | Grape Growers    | 0      |\n",
      "| 46 | Shrimp  | Succulent, flavorful shrimp sourced from pristine waters for a truly indulgent dining experience. | 71       | $9.99 | 12.39 | 05-12-2023  | 20-11-2023 | 25-11-2023     | Shrimp Shack      | 0      |\n",
      "\n"
     ]
    }
   ],
   "execution_count": 49
  },
  {
   "metadata": {
    "ExecuteTime": {
     "end_time": "2024-10-17T12:58:07.733052Z",
     "start_time": "2024-10-17T12:58:07.728199Z"
    }
   },
   "cell_type": "code",
   "source": [
    "print(doc[7].text)\n",
    "with open(\"tmp_output.md\", \"w\") as file:\n",
    "    file.write(doc[7].text + \"\\n\")"
   ],
   "id": "1166b42b315908e8",
   "outputs": [
    {
     "name": "stdout",
     "output_type": "stream",
     "text": [
      "\n",
      "# Employee List\n",
      "\n",
      "| Employee          | Phone          | Email                     | Role                     | Hire Date    | Salary  |\n",
      "|-------------------|----------------|---------------------------|--------------------------|--------------|---------|\n",
      "| Sarah Lee         | (415) 555-2671 | sarahlee@email.com        | Cashier                  | 3-Jan-2018   | $2,000  |\n",
      "| Tom Johnson       | (212) 555-3456 | tomjohnson@email.com      | Cashier                  | 15-Feb-2019  | $2,000  |\n",
      "| Jane Smith        | (312) 555-7890 | janesmith@email.com       | Cashier                  | 10-Apr-2017  | $2,000  |\n",
      "| Mike Johnson      | (213) 555-4567 | mikejohnson@email.com     | Cashier                  | 22-May-2018  | $2,000  |\n",
      "| John Smith        | (305) 555-6789 | johnsmith@email.com       | CEO                      | 30-Jun-2019  | $20,000 |\n",
      "| Sarah Johnson     | (123) 456-7890 | sarahjohnson@email.com    | Chief Financial Officer   | 1-Jul-2017   | $15,000 |\n",
      "| Michael Brown     | (234) 567-8901 | michaelbrown@email.com     | Operations Manager       | 15-Aug-2018  | $10,000 |\n",
      "| Emily Davis       | (345) 678-9012 | emilydavis@email.com      | Head of Marketing        | 20-Sep-2019  | $12,000 |\n",
      "| David Miller      | (456) 789-0123 | davidmiller@email.com      | Head of Sales            | 5-Oct-2017   | $12,000 |\n",
      "| Jessica Wilson     | (567) 890-1234 | jessicawilson@email.com   | Customer Service Manager  | 11-Nov-2018  | $8,000  |\n",
      "| James Taylor      | (678) 901-2345 | jamestaylor@email.com      | IT Manager               | 12-Dec-2019  | $10,000 |\n",
      "| Amanda Moore      | (789) 012-3456 | amandamoore@email.com      | Human Resources Manager   | 15-Jan-2020  | $9,000  |\n",
      "| William Harris    | (171) 345-6789 | williamharris@email.com    | Inventory Manager        | 20-Apr-2019  | $8,500  |\n",
      "| Richard Thompson   | (222) 333-4444 | richardthompson@email.com  | Legal Advisor            | 15-Jun-2017  | $10,500 |\n",
      "| Patricia Garcia    | (333) 444-5555 | patriciagarcia@email.com   | Accounting Manager       | 25-Jul-2018  | $9,000  |\n",
      "| Paul Lewis        | (888) 999-0000 | paulewis@email.com        | Purchasing Manager       | 10-Dec-2019  | $9,000  |\n",
      "| Susan Walker      | (999) 000-1111 | susanwalker@email.com      | Logistics Manager        | 20-Jan-2020  | $9,000  |\n",
      "| Xander Blackwood  | (415) 555-2678 | xander.blackwood@email.com  | Loader                   | 3-Jan-2018   | $2,000  |\n",
      "| Luna Nightingale   | (212) 555-3453 | luna.nightingale@email.com  | Loader                   | 15-Feb-2019  | $2,000  |\n",
      "| Phoenix Blaze     | (312) 555-7891 | phoenix.blaze@email.com    | Merchandiser             | 10-Apr-2017  | $2,000  |\n",
      "| Nova Starlight    | (213) 555-4563 | nova.starlight@email.com   | Merchandiser             | 22-May-2018  | $2,000  |\n",
      "\n"
     ]
    }
   ],
   "execution_count": 53
  },
  {
   "metadata": {
    "ExecuteTime": {
     "end_time": "2024-10-17T12:57:49.382373Z",
     "start_time": "2024-10-17T12:57:49.378615Z"
    }
   },
   "cell_type": "code",
   "source": "print(\"a\"*100)",
   "id": "181aaa48861344ba",
   "outputs": [
    {
     "name": "stdout",
     "output_type": "stream",
     "text": [
      "aaaaaaaaaaaaaaaaaaaaaaaaaaaaaaaaaaaaaaaaaaaaaaaaaaaaaaaaaaaaaaaaaaaaaaaaaaaaaaaaaaaaaaaaaaaaaaaaaaaa\n"
     ]
    }
   ],
   "execution_count": 52
  },
  {
   "metadata": {},
   "cell_type": "markdown",
   "source": "# VENDOR MULTIMODAL MODEL: **openai-gpt4o-mini** with comments",
   "id": "9542d6969317d647"
  },
  {
   "metadata": {
    "ExecuteTime": {
     "end_time": "2024-10-17T12:04:42.493700Z",
     "start_time": "2024-10-17T12:04:17.619448Z"
    }
   },
   "cell_type": "code",
   "source": [
    "doc = LlamaParse(\n",
    "    result_type=\"markdown\",\n",
    "    use_vendor_multimodal_model=True,\n",
    "    vendor_multimodal_model_name=\"openai-gpt-4o-mini\",\n",
    "    parsing_instruction=\"\"\"\n",
    "    This document might have tables parse them using only represented data.\n",
    "    Do NOT comment content on page.\n",
    "    \"\"\"\n",
    ").load_data(_uri)\n",
    "print(f\"Result docs number: {len(doc)}\")"
   ],
   "id": "eb0db88c28222c20",
   "outputs": [
    {
     "name": "stdout",
     "output_type": "stream",
     "text": [
      "Started parsing the file under job_id 2a7d6b16-668a-455b-8742-dc9ecbb947cb\n",
      "Result docs number: 3\n"
     ]
    }
   ],
   "execution_count": 19
  },
  {
   "metadata": {
    "ExecuteTime": {
     "end_time": "2024-10-17T12:04:42.499983Z",
     "start_time": "2024-10-17T12:04:42.495142Z"
    }
   },
   "cell_type": "code",
   "source": "print(doc[0].text)",
   "id": "43025ceb8271b233",
   "outputs": [
    {
     "name": "stdout",
     "output_type": "stream",
     "text": [
      "The table contains sales data with the following columns:\n",
      "\n",
      "- **order_id**: Unique identifier for each order\n",
      "- **product_name**: Name of the product sold\n",
      "- **price_per_unit**: Price for each unit of the product\n",
      "- **units_sold**: Number of units sold\n",
      "- **amount_of_discount_total**: Total discount applied to the order\n",
      "- **deal_date**: Date of the transaction\n",
      "- **customer_name**: Name of the customer who made the purchase\n",
      "\n",
      "If you need any specific analysis or information from this data, let me know!\n"
     ]
    }
   ],
   "execution_count": 20
  },
  {
   "metadata": {
    "ExecuteTime": {
     "end_time": "2024-10-17T12:04:42.508154Z",
     "start_time": "2024-10-17T12:04:42.501433Z"
    }
   },
   "cell_type": "code",
   "source": "print(doc[1].text)",
   "id": "9bb49df87d25abff",
   "outputs": [
    {
     "name": "stdout",
     "output_type": "stream",
     "text": [
      "Here is the data extracted from the table:\n",
      "\n",
      "| Item No | Part Name          | Quantity | Weight | Date       | Person        |\n",
      "|---------|--------------------|----------|--------|------------|---------------|\n",
      "| 38      | Clutch Plate       | 180      | 6      | 02/16/2023 | Emily Johnson  |\n",
      "| 39      | Brake Pad          | 75       | 2      | 02/17/2023 | Emily Johnson  |\n",
      "| 40      | Steering Wheel     | 100      | 3      | 02/18/2023 | Emily Johnson  |\n",
      "| 41      | Exhaust Manifold    | 220      | 7      | 02/19/2023 | Emily Johnson  |\n",
      "| 42      | Exhaust Manifold    | 220      | 7      | 02/20/2023 | Emily Johnson  |\n",
      "| 43      | Engine Block       | 500      | 4      | 02/21/2023 | Emily Johnson  |\n",
      "| 44      | Transmission Gear  | 300      | 3      | 02/22/2023 | Emily Johnson  |\n",
      "| 45      | Engine Block       | 500      | 3      | 02/23/2023 | Emily Johnson  |\n",
      "| 46      | Suspension Spring   | 150      | 1      | 02/24/2023 | Emily Johnson  |\n",
      "| 47      | Exhaust Manifold    | 220      | 2      | 05/06/2023 | Emily Johnson  |\n",
      "| 48      | Transmission Gear  | 300      | 3      | 05/06/2023 | Emily Johnson  |\n",
      "| 49      | Engine Block       | 500      | 8      | 05/07/2023 | Emily Johnson  |\n",
      "| 50      | Suspension Spring   | 150      | 9      | 05/08/2023 | Emily Johnson  |\n",
      "| 51      | Brake Pad          | 75       | 5      | 05/09/2023 | Emily Johnson  |\n",
      "| 52      | Exhaust Manifold    | 220      | 4      | 05/10/2023 | Emily Johnson  |\n",
      "| 53      | Fuel Injector      | 250      | 9      | 05/11/2023 | Emily Johnson  |\n",
      "| 54      | Steering Wheel     | 100      | 5      | 05/12/2023 | Tom Yam        |\n",
      "| 55      | Exhaust Manifold    | 220      | 3      | 05/13/2023 | Tom Yam        |\n",
      "| 56      | Suspension Spring   | 150      | 4      | 05/14/2023 | Tom Yam        |\n",
      "| 57      | Engine Block       | 500      | 7      | 05/15/2023 | Tom Yam        |\n",
      "| 58      | Clutch Plate       | 180      | 5      | 05/16/2023 | Tom Yam        |\n",
      "| 59      | Clutch Plate       | 180      | 7      | 05/17/2023 | Tom Yam        |\n",
      "| 60      | Suspension Spring   | 150      | 9      | 05/18/2023 | Tom Yam        |\n",
      "| 61      | Engine Block       | 500      | 4      | 05/19/2023 | Tom Yam        |\n",
      "| 62      | Radiator           | 200      | 3      | 05/20/2023 | Tom Yam        |\n",
      "| 63      | Brake Pad          | 75       | 9      | 05/21/2023 | Tom Yam        |\n",
      "| 64      | Alternator         | 350      | 7      | 05/22/2023 | Tom Yam        |\n",
      "| 65      | Suspension Spring   | 150      | 5      | 05/23/2023 | Tom Yam        |\n",
      "| 66      | Suspension Spring   | 150      | 9      | 05/24/2023 | Tom Yam        |\n",
      "| 67      | Fuel Injector      | 250      | 4      | 05/25/2023 | Tom Yam        |\n",
      "| 68      | Clutch Plate       | 180      | 9      | 05/26/2023 | Tom Yam        |\n",
      "| 69      | Fuel Injector      | 250      | 7      | 05/27/2023 | Tom Yam        |\n",
      "| 70      | Suspension Spring   | 150      | 7      | 05/28/2023 | Tom Yam        |\n",
      "| 71      | Alternator         | 350      | 1      | 05/29/2023 | Tom Yam        |\n",
      "| 72      | Clutch Plate       | 180      | 8      | 05/30/2023 | Tom Yam        |\n",
      "| 73      | Transmission Gear  | 300      | 2      | 05/31/2023 | Tom Yam        |\n",
      "| 74      | Fuel Injector      | 250      | 6      | 06/01/2023 | Tom Yam        |\n",
      "| 75      | Exhaust Manifold    | 220      | 15.4   | 06/02/2023 | Tom Yam        |\n",
      "\n",
      "If you need any further analysis or information, let me know!\n"
     ]
    }
   ],
   "execution_count": 21
  },
  {
   "metadata": {
    "ExecuteTime": {
     "end_time": "2024-10-17T12:04:42.514027Z",
     "start_time": "2024-10-17T12:04:42.509491Z"
    }
   },
   "cell_type": "code",
   "source": "print(doc[2].text)",
   "id": "4d77da94313e0e18",
   "outputs": [
    {
     "name": "stdout",
     "output_type": "stream",
     "text": [
      "| Item Number | Item Name         | Price | Quantity | Total Cost | Date       | Responsible Person |\n",
      "|-------------|-------------------|-------|----------|------------|------------|--------------------|\n",
      "| 76          | Brake Pad         | 75    | 1        | 6          | 06/03/2023 | Tom Yam            |\n",
      "| 77          | Alternator        | 350   | 4        | 70         | 06/04/2023 | Tom Yam            |\n",
      "| 78          | Radiator          | 200   | 3        | 42         | 06/05/2023 | Tom Yam            |\n",
      "| 79          | Clutch Plate      | 180   | 3        | 43.2       | 06/06/2023 | Tom Yam            |\n",
      "| 80          | Suspension Spring  | 150   | 2        | 15         | 06/07/2023 | Tom Yam            |\n",
      "| 81          | Exhaust Manifold   | 220   | 9        | 158.4      | 06/08/2023 | Tom Yam            |\n",
      "| 82          | Engine Block      | 500   | 3        | 150        | 06/09/2023 | Tom Yam            |\n",
      "| 83          | Engine Block      | 500   | 6        | 405        | 06/10/2023 | Emily Johnson       |\n",
      "| 84          | Engine Block      | 500   | 6        | 180        | 06/11/2023 | Emily Johnson       |\n",
      "| 85          | Radiator          | 200   | 2        | 70         | 06/12/2023 | Emily Johnson       |\n",
      "| 86          | Fuel Injector     | 250   | 5        | 62.5       | 06/13/2023 | Emily Johnson       |\n",
      "| 87          | Suspension Spring  | 150   | 3        | 70         | 06/14/2023 | Emily Johnson       |\n",
      "| 88          | Alternator        | 350   | 2        | 70         | 06/15/2023 | Emily Johnson       |\n",
      "| 89          | Engine Block      | 500   | 1        | 30         | 06/16/2023 | Emily Johnson       |\n",
      "| 90          | Radiator          | 200   | 6        | 48         | 06/17/2023 | Emily Johnson       |\n",
      "| 91          | Clutch Plate      | 180   | 9        | 145.8      | 06/18/2023 | Emily Johnson       |\n",
      "| 92          | Radiator          | 200   | 8        | 96         | 06/19/2023 | Emily Johnson       |\n",
      "| 93          | Exhaust Manifold   | 220   | 4        | 79.2       | 06/20/2023 | Emily Johnson       |\n",
      "| 94          | Steering Wheel    | 100   | 2        | 12         | 06/21/2023 | Emily Johnson       |\n",
      "| 95          | Alternator        | 350   | 4        | 98         | 06/22/2023 | Emily Johnson       |\n",
      "| 96          | Engine Block      | 500   | 9        | 90         | 06/23/2023 | Emily Johnson       |\n",
      "| 97          | Fuel Injector     | 250   | 4        | 40         | 06/24/2023 | Emily Johnson       |\n",
      "| 98          | Radiator          | 200   | 2        | 16         | 06/25/2023 | Emily Johnson       |\n",
      "| 99          | Fuel Injector     | 250   | 9        | 67.5       | 06/26/2023 | Emily Johnson       |\n",
      "| 100         | Steering Wheel    | 100   | 8        | 24         | 06/27/2023 | Emily Johnson       |\n"
     ]
    }
   ],
   "execution_count": 22
  },
  {
   "metadata": {},
   "cell_type": "code",
   "outputs": [],
   "execution_count": null,
   "source": "",
   "id": "f510a557236e2982"
  },
  {
   "metadata": {},
   "cell_type": "code",
   "outputs": [],
   "execution_count": null,
   "source": "",
   "id": "363b2a09320c2d77"
  },
  {
   "metadata": {},
   "cell_type": "code",
   "outputs": [],
   "execution_count": null,
   "source": "",
   "id": "7b068ea73b86f15"
  },
  {
   "metadata": {},
   "cell_type": "code",
   "outputs": [],
   "execution_count": null,
   "source": "",
   "id": "b8223443d3068606"
  }
 ],
 "metadata": {
  "kernelspec": {
   "display_name": "Python 3",
   "language": "python",
   "name": "python3"
  },
  "language_info": {
   "codemirror_mode": {
    "name": "ipython",
    "version": 2
   },
   "file_extension": ".py",
   "mimetype": "text/x-python",
   "name": "python",
   "nbconvert_exporter": "python",
   "pygments_lexer": "ipython2",
   "version": "2.7.6"
  }
 },
 "nbformat": 4,
 "nbformat_minor": 5
}
