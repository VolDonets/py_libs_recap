{
 "cells": [
  {
   "metadata": {},
   "cell_type": "markdown",
   "source": "# Try the Marker lib",
   "id": "526934ed569f369a"
  },
  {
   "metadata": {
    "ExecuteTime": {
     "end_time": "2024-10-09T12:38:34.137580Z",
     "start_time": "2024-10-09T12:38:27.376110Z"
    }
   },
   "cell_type": "code",
   "source": "from marker.convert import convert_single_pdf",
   "id": "2e9724020251e98a",
   "outputs": [],
   "execution_count": 2
  },
  {
   "metadata": {},
   "cell_type": "markdown",
   "source": "# Test simple text PDFs",
   "id": "515526428c64c9bb"
  },
  {
   "metadata": {
    "ExecuteTime": {
     "end_time": "2024-10-09T12:39:17.706710Z",
     "start_time": "2024-10-09T12:39:17.703366Z"
    }
   },
   "cell_type": "code",
   "source": "_uri = \"../data/__test_pdfs/simple-text.pdf\"",
   "id": "4fce425f7bc22b18",
   "outputs": [],
   "execution_count": 3
  },
  {
   "metadata": {},
   "cell_type": "code",
   "outputs": [],
   "execution_count": null,
   "source": "",
   "id": "37f36aeffb9d6b1c"
  },
  {
   "metadata": {},
   "cell_type": "markdown",
   "source": "# Test only one table PDFs",
   "id": "95615b6019f278c6"
  },
  {
   "metadata": {},
   "cell_type": "code",
   "outputs": [],
   "execution_count": null,
   "source": "_uri = \"../data/__test_pdfs/table.pdf\"",
   "id": "9214e78ef8137034"
  },
  {
   "metadata": {},
   "cell_type": "code",
   "outputs": [],
   "execution_count": null,
   "source": "",
   "id": "14213d3062e31570"
  },
  {
   "metadata": {},
   "cell_type": "markdown",
   "source": "# Test table & text PDFs",
   "id": "9c7960b172ae37ca"
  },
  {
   "metadata": {},
   "cell_type": "code",
   "outputs": [],
   "execution_count": null,
   "source": "_uri = \"../data/__test_pdfs/table-text.pdf\"",
   "id": "12bf41a4e42bc8ac"
  },
  {
   "metadata": {},
   "cell_type": "code",
   "outputs": [],
   "execution_count": null,
   "source": "",
   "id": "32c34d572230fc8"
  },
  {
   "metadata": {},
   "cell_type": "markdown",
   "source": "# Test complex text PDFs",
   "id": "f11077a3087d768f"
  },
  {
   "metadata": {},
   "cell_type": "code",
   "source": "_uri = \"../data/__test_pdfs/complex_text.pdf\"",
   "id": "883083cb22553b06",
   "outputs": [],
   "execution_count": null
  },
  {
   "metadata": {},
   "cell_type": "code",
   "outputs": [],
   "execution_count": null,
   "source": "",
   "id": "79e06cc824747fd8"
  },
  {
   "metadata": {},
   "cell_type": "markdown",
   "source": "# Test complex_text-tables-images PDFs",
   "id": "bac432bb053e0210"
  },
  {
   "metadata": {},
   "cell_type": "code",
   "source": "_uri = \"../data/__test_pdfs/complex_text-tables-images.pdf\"",
   "id": "664b3551b490be4d",
   "outputs": [],
   "execution_count": null
  },
  {
   "metadata": {},
   "cell_type": "code",
   "outputs": [],
   "execution_count": null,
   "source": "",
   "id": "58e004b342b0e220"
  },
  {
   "metadata": {},
   "cell_type": "code",
   "source": "_uri = \"../data/__test_pdfs/complex_columns-text-tables-images.pdf\"",
   "id": "b5b665a6b2617ad3",
   "outputs": [],
   "execution_count": null
  },
  {
   "metadata": {},
   "cell_type": "code",
   "source": "",
   "id": "e30d5b28a70f8716",
   "outputs": [],
   "execution_count": null
  },
  {
   "metadata": {},
   "cell_type": "markdown",
   "source": "# Example from DOC",
   "id": "a62d6b6123f395be"
  },
  {
   "metadata": {},
   "cell_type": "code",
   "source": "_uri = \"../data/__test_pdfs/GeoBase_NHNC1_Data_Model_UML_EN.pdf\"\n",
   "id": "3d957f1d765129e5",
   "outputs": [],
   "execution_count": null
  },
  {
   "metadata": {},
   "cell_type": "code",
   "source": "",
   "id": "cc41084d0e3eb1d",
   "outputs": [],
   "execution_count": null
  }
 ],
 "metadata": {
  "kernelspec": {
   "display_name": "Python 3",
   "language": "python",
   "name": "python3"
  },
  "language_info": {
   "codemirror_mode": {
    "name": "ipython",
    "version": 2
   },
   "file_extension": ".py",
   "mimetype": "text/x-python",
   "name": "python",
   "nbconvert_exporter": "python",
   "pygments_lexer": "ipython2",
   "version": "2.7.6"
  }
 },
 "nbformat": 4,
 "nbformat_minor": 5
}
