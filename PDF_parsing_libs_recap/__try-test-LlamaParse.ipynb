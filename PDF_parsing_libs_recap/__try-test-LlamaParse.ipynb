{
 "cells": [
  {
   "metadata": {},
   "cell_type": "markdown",
   "source": "# Try the LlamaParse API",
   "id": "526934ed569f369a"
  },
  {
   "metadata": {
    "ExecuteTime": {
     "end_time": "2024-10-10T13:54:06.278986Z",
     "start_time": "2024-10-10T13:54:06.270309Z"
    }
   },
   "cell_type": "code",
   "source": [
    "# it is required because LlamaParse API is async, \n",
    "# but Jupyter Notebook can work only with sync code\n",
    "import nest_asyncio\n",
    "nest_asyncio.apply()"
   ],
   "id": "6f44f2b682269e5",
   "outputs": [],
   "execution_count": 1
  },
  {
   "metadata": {
    "ExecuteTime": {
     "end_time": "2024-10-10T14:01:20.883390Z",
     "start_time": "2024-10-10T14:01:20.879526Z"
    }
   },
   "cell_type": "code",
   "source": "LLAMA_CLOUD_API_KEY = ''",
   "id": "d4954c70c3817c3b",
   "outputs": [],
   "execution_count": 3
  },
  {
   "metadata": {
    "ExecuteTime": {
     "end_time": "2024-10-10T14:01:21.159304Z",
     "start_time": "2024-10-10T14:01:21.155815Z"
    }
   },
   "cell_type": "code",
   "source": [
    "import os\n",
    "\n",
    "os.environ[\"LLAMA_CLOUD_API_KEY\"] = LLAMA_CLOUD_API_KEY"
   ],
   "id": "ec7e5fd2429071ab",
   "outputs": [],
   "execution_count": 4
  },
  {
   "metadata": {
    "ExecuteTime": {
     "end_time": "2024-10-10T14:02:48.749036Z",
     "start_time": "2024-10-10T14:02:46.057294Z"
    }
   },
   "cell_type": "code",
   "source": "from llama_parse import LlamaParse",
   "id": "41091cc8ee846c5b",
   "outputs": [],
   "execution_count": 6
  },
  {
   "metadata": {},
   "cell_type": "markdown",
   "source": "# Test simple text PDFs",
   "id": "515526428c64c9bb"
  },
  {
   "metadata": {
    "ExecuteTime": {
     "end_time": "2024-10-10T14:26:13.186566Z",
     "start_time": "2024-10-10T14:26:13.182439Z"
    }
   },
   "cell_type": "code",
   "source": "_uri = \"../data/__test_pdfs/simple-text.pdf\"",
   "id": "4fce425f7bc22b18",
   "outputs": [],
   "execution_count": 25
  },
  {
   "metadata": {
    "ExecuteTime": {
     "end_time": "2024-10-10T14:26:16.412297Z",
     "start_time": "2024-10-10T14:26:13.848303Z"
    }
   },
   "cell_type": "code",
   "source": "doc = LlamaParse(result_type=\"markdown\").load_data(_uri)",
   "id": "aeac88d35215f982",
   "outputs": [
    {
     "name": "stdout",
     "output_type": "stream",
     "text": [
      "Started parsing the file under job_id da48c218-9acb-4522-8691-c8a920a36674\n"
     ]
    }
   ],
   "execution_count": 26
  },
  {
   "metadata": {
    "ExecuteTime": {
     "end_time": "2024-10-10T14:26:16.417690Z",
     "start_time": "2024-10-10T14:26:16.412820Z"
    }
   },
   "cell_type": "code",
   "source": "print(doc[0].text)",
   "id": "7f337cd25b7fcfda",
   "outputs": [
    {
     "name": "stdout",
     "output_type": "stream",
     "text": [
      "# What is Albert?\n",
      "\n",
      "Albert is a groundbreaking venture that combines state-of-the-art electric vehicles with a robust software-as-a-service (SaaS) subscription model. As a pioneer in both automotive manufacturing and technology solutions, Albert aims to redefine the landscape of transportation and renewable energy.\n",
      "\n",
      "# Automotive Manufacturing\n",
      "\n",
      "Albert designs, engineers, and manufactures a diverse range of electric vehicles that set industry standards for efficiency, performance, and innovation. From compact sedans to large commercial trucks, Albert's EVs are built with cutting-edge technology, offering not just a mode of transportation but a lifestyle choice.\n",
      "\n",
      "# Software Features\n",
      "\n",
      "Albert offers a subscription-based service that enhances the capabilities of its electric vehicles, elevating the user experience to unparalleled levels. Here's a glimpse of the software modules available:\n",
      "\n",
      "1. Albert Drive: This module provides Level 4 autonomous driving capabilities, allowing for hands-free operation in a wide range of scenarios.\n",
      "2. Albert Efficiency: Utilizes machine learning algorithms to analyze driving patterns and energy consumption. It then offers real-time recommendations for optimal energy conservation.\n",
      "3. Albert Connect: Enables seamless connectivity between your Albert vehicle and other smart devices. Control your home's smart thermostat or even order groceries via voice commands in your car.\n",
      "4. Albert Secure: An advanced security package that employs facial recognition, biometrics, and real-time monitoring to ensure the utmost safety of your vehicle.\n",
      "\n",
      "# Energy Solutions\n",
      "\n",
      "Albert goes beyond vehicles by offering comprehensive renewable energy solutions. Whether it's solar panels for your home or commercial wind farms, Albert's software integrates seamlessly, providing real-time updates and optimizing energy usage across the board.\n",
      "\n",
      "# Subscription Tiers\n",
      "\n",
      "Albert's software is available in multiple subscription tiers, tailored to fit various needs and budgets. Whether you're an individual looking for basic conveniences or a corporation in need of fleet management, Albert has a package that’s right for you.\n"
     ]
    }
   ],
   "execution_count": 27
  },
  {
   "metadata": {
    "ExecuteTime": {
     "end_time": "2024-10-10T14:26:31.101413Z",
     "start_time": "2024-10-10T14:26:31.096643Z"
    }
   },
   "cell_type": "code",
   "source": [
    "target_md_file_name = f\"./_llamaparse_md_results/{_uri.split('/')[-1]}.md\"\n",
    "with open(target_md_file_name, \"w\", encoding=\"utf-8\") as file:\n",
    "    for inx in range(len(doc)):\n",
    "        file.write(doc[inx].text + \"\\n\")"
   ],
   "id": "37f36aeffb9d6b1c",
   "outputs": [],
   "execution_count": 29
  },
  {
   "metadata": {},
   "cell_type": "markdown",
   "source": "# Test only one table PDFs",
   "id": "95615b6019f278c6"
  },
  {
   "metadata": {
    "ExecuteTime": {
     "end_time": "2024-10-10T14:13:55.447934Z",
     "start_time": "2024-10-10T14:13:55.444115Z"
    }
   },
   "cell_type": "code",
   "source": "_uri = \"../data/__test_pdfs/table.pdf\"",
   "id": "9214e78ef8137034",
   "outputs": [],
   "execution_count": 16
  },
  {
   "metadata": {
    "ExecuteTime": {
     "end_time": "2024-10-10T14:14:26.647707Z",
     "start_time": "2024-10-10T14:13:56.870590Z"
    }
   },
   "cell_type": "code",
   "source": [
    "doc = LlamaParse(result_type=\"markdown\").load_data(_uri)\n",
    "print(f\"Docs in PDF: {len(doc)}\")"
   ],
   "id": "44bfa3d827f515",
   "outputs": [
    {
     "name": "stdout",
     "output_type": "stream",
     "text": [
      "Started parsing the file under job_id 3743cc35-a0a9-44d1-ad59-f8db60be55d4\n",
      ".Docs in PDF: 2\n"
     ]
    }
   ],
   "execution_count": 17
  },
  {
   "metadata": {
    "ExecuteTime": {
     "end_time": "2024-10-10T14:14:52.155160Z",
     "start_time": "2024-10-10T14:14:52.151002Z"
    }
   },
   "cell_type": "code",
   "source": [
    "target_md_file_name = f\"./_llamaparse_md_results/{_uri.split('/')[-1]}.md\"\n",
    "with open(target_md_file_name, \"w\", encoding=\"utf-8\") as file:\n",
    "    for inx in range(len(doc)):\n",
    "        file.write(doc[inx].text + \"\\n\")"
   ],
   "id": "f4b31a7263f87f0d",
   "outputs": [],
   "execution_count": 18
  },
  {
   "metadata": {},
   "cell_type": "code",
   "outputs": [],
   "execution_count": null,
   "source": "",
   "id": "b84659ac89581c7b"
  },
  {
   "metadata": {
    "ExecuteTime": {
     "end_time": "2024-10-10T14:22:55.292103Z",
     "start_time": "2024-10-10T14:22:27.977521Z"
    }
   },
   "cell_type": "code",
   "source": [
    "doc = LlamaParse(\n",
    "    result_type=\"markdown\",\n",
    "    parsing_instruction=\"\"\"\n",
    "    Make sure that tables are extracted properly. If you see text in the tabular style make it tabular in the Markdown format.\n",
    "    \"\"\"\n",
    ").load_data(_uri)\n",
    "print(f\"Docs in PDF: {len(doc)}\")"
   ],
   "id": "ce1f1636ba545c7",
   "outputs": [
    {
     "name": "stdout",
     "output_type": "stream",
     "text": [
      "Started parsing the file under job_id 1ba44790-46eb-4047-9cd8-22711a3d17c3\n",
      ".Docs in PDF: 2\n"
     ]
    }
   ],
   "execution_count": 21
  },
  {
   "metadata": {
    "ExecuteTime": {
     "end_time": "2024-10-10T14:24:53.154705Z",
     "start_time": "2024-10-10T14:24:53.150058Z"
    }
   },
   "cell_type": "code",
   "source": [
    "target_md_file_name = f\"./_llamaparse_md_results/{_uri.split('/')[-1]}_instruct.md\"\n",
    "with open(target_md_file_name, \"w\", encoding=\"utf-8\") as file:\n",
    "    for inx in range(len(doc)):\n",
    "        file.write(doc[inx].text + \"\\n\")"
   ],
   "id": "4d3c78cb8c82e649",
   "outputs": [],
   "execution_count": 24
  },
  {
   "metadata": {},
   "cell_type": "code",
   "source": "",
   "id": "14213d3062e31570",
   "outputs": [],
   "execution_count": null
  },
  {
   "metadata": {},
   "cell_type": "markdown",
   "source": "# Test table & text PDFs",
   "id": "9c7960b172ae37ca"
  },
  {
   "metadata": {
    "ExecuteTime": {
     "end_time": "2024-10-10T14:27:11.700375Z",
     "start_time": "2024-10-10T14:27:11.697403Z"
    }
   },
   "cell_type": "code",
   "source": "_uri = \"../data/__test_pdfs/table-text.pdf\"",
   "id": "12bf41a4e42bc8ac",
   "outputs": [],
   "execution_count": 30
  },
  {
   "metadata": {
    "ExecuteTime": {
     "end_time": "2024-10-10T14:27:23.565924Z",
     "start_time": "2024-10-10T14:27:13.260010Z"
    }
   },
   "cell_type": "code",
   "source": [
    "doc = LlamaParse(result_type=\"markdown\").load_data(_uri)\n",
    "print(f\"Docs in PDF: {len(doc)}\")"
   ],
   "id": "1d911865280ba87d",
   "outputs": [
    {
     "name": "stdout",
     "output_type": "stream",
     "text": [
      "Started parsing the file under job_id 052d56f2-4021-4ada-bbcd-b5d48c938ad7\n",
      "Docs in PDF: 1\n"
     ]
    }
   ],
   "execution_count": 31
  },
  {
   "metadata": {
    "ExecuteTime": {
     "end_time": "2024-10-10T14:27:23.572632Z",
     "start_time": "2024-10-10T14:27:23.567443Z"
    }
   },
   "cell_type": "code",
   "source": [
    "target_md_file_name = f\"./_llamaparse_md_results/{_uri.split('/')[-1]}.md\"\n",
    "with open(target_md_file_name, \"w\", encoding=\"utf-8\") as file:\n",
    "    for inx in range(len(doc)):\n",
    "        file.write(doc[inx].text + \"\\n\")"
   ],
   "id": "d769aab8ce0d6dcc",
   "outputs": [],
   "execution_count": 32
  },
  {
   "metadata": {},
   "cell_type": "code",
   "source": "",
   "id": "32c34d572230fc8",
   "outputs": [],
   "execution_count": null
  },
  {
   "metadata": {},
   "cell_type": "markdown",
   "source": "# Test complex text PDFs",
   "id": "f11077a3087d768f"
  },
  {
   "metadata": {
    "ExecuteTime": {
     "end_time": "2024-10-10T14:27:48.723151Z",
     "start_time": "2024-10-10T14:27:48.720089Z"
    }
   },
   "cell_type": "code",
   "source": "_uri = \"../data/__test_pdfs/complex_text.pdf\"",
   "id": "883083cb22553b06",
   "outputs": [],
   "execution_count": 33
  },
  {
   "metadata": {
    "ExecuteTime": {
     "end_time": "2024-10-10T14:28:37.387233Z",
     "start_time": "2024-10-10T14:27:56.631331Z"
    }
   },
   "cell_type": "code",
   "source": [
    "doc = LlamaParse(result_type=\"markdown\").load_data(_uri)\n",
    "print(f\"Docs in PDF: {len(doc)}\")"
   ],
   "id": "4086ef34097d0c8c",
   "outputs": [
    {
     "name": "stdout",
     "output_type": "stream",
     "text": [
      "Started parsing the file under job_id 1cd5cb98-1eaa-49b4-b6cc-d52a37d273f9\n",
      ".Docs in PDF: 60\n"
     ]
    }
   ],
   "execution_count": 34
  },
  {
   "metadata": {
    "ExecuteTime": {
     "end_time": "2024-10-10T14:28:37.394074Z",
     "start_time": "2024-10-10T14:28:37.388252Z"
    }
   },
   "cell_type": "code",
   "source": [
    "target_md_file_name = f\"./_llamaparse_md_results/{_uri.split('/')[-1]}.md\"\n",
    "with open(target_md_file_name, \"w\", encoding=\"utf-8\") as file:\n",
    "    for inx in range(len(doc)):\n",
    "        file.write(doc[inx].text + \"\\n\")"
   ],
   "id": "b1c8d141d212178a",
   "outputs": [],
   "execution_count": 35
  },
  {
   "metadata": {},
   "cell_type": "code",
   "source": "",
   "id": "79e06cc824747fd8",
   "outputs": [],
   "execution_count": null
  },
  {
   "metadata": {},
   "cell_type": "markdown",
   "source": "# Test complex_text-tables-images PDFs",
   "id": "bac432bb053e0210"
  },
  {
   "metadata": {
    "ExecuteTime": {
     "end_time": "2024-10-10T14:34:54.424023Z",
     "start_time": "2024-10-10T14:34:54.419519Z"
    }
   },
   "cell_type": "code",
   "source": "_uri = \"../data/__test_pdfs/complex_text-tables-images.pdf\"",
   "id": "664b3551b490be4d",
   "outputs": [],
   "execution_count": 36
  },
  {
   "metadata": {
    "ExecuteTime": {
     "end_time": "2024-10-10T14:38:38.450863Z",
     "start_time": "2024-10-10T14:34:55.087116Z"
    }
   },
   "cell_type": "code",
   "source": [
    "doc = LlamaParse(result_type=\"markdown\").load_data(_uri)\n",
    "print(f\"Docs in PDF: {len(doc)}\")"
   ],
   "id": "58e004b342b0e220",
   "outputs": [
    {
     "name": "stdout",
     "output_type": "stream",
     "text": [
      "Started parsing the file under job_id 0bf6d8b4-2dc7-47be-8632-04855c67bd75\n",
      "........Docs in PDF: 184\n"
     ]
    }
   ],
   "execution_count": 37
  },
  {
   "metadata": {
    "ExecuteTime": {
     "end_time": "2024-10-10T14:38:38.465890Z",
     "start_time": "2024-10-10T14:38:38.452295Z"
    }
   },
   "cell_type": "code",
   "source": [
    "target_md_file_name = f\"./_llamaparse_md_results/{_uri.split('/')[-1]}.md\"\n",
    "with open(target_md_file_name, \"w\", encoding=\"utf-8\") as file:\n",
    "    for inx in range(len(doc)):\n",
    "        file.write(doc[inx].text + \"\\n\")"
   ],
   "id": "6f8391db788a16cb",
   "outputs": [],
   "execution_count": 38
  },
  {
   "metadata": {},
   "cell_type": "code",
   "source": "",
   "id": "5caa443be9da40aa",
   "outputs": [],
   "execution_count": null
  },
  {
   "metadata": {
    "ExecuteTime": {
     "end_time": "2024-10-10T14:46:17.899913Z",
     "start_time": "2024-10-10T14:46:17.896382Z"
    }
   },
   "cell_type": "code",
   "source": "_uri = \"../data/__test_pdfs/complex_columns-text-tables-images.pdf\"",
   "id": "b5b665a6b2617ad3",
   "outputs": [],
   "execution_count": 39
  },
  {
   "metadata": {
    "ExecuteTime": {
     "end_time": "2024-10-10T14:47:01.397966Z",
     "start_time": "2024-10-10T14:46:18.814456Z"
    }
   },
   "cell_type": "code",
   "source": [
    "doc = LlamaParse(result_type=\"markdown\").load_data(_uri)\n",
    "print(f\"Docs in PDF: {len(doc)}\")"
   ],
   "id": "ffc53fdeb9bb04e1",
   "outputs": [
    {
     "name": "stdout",
     "output_type": "stream",
     "text": [
      "Started parsing the file under job_id e004e93f-d054-417e-add0-f0276eef73f1\n",
      ".Docs in PDF: 6\n"
     ]
    }
   ],
   "execution_count": 40
  },
  {
   "metadata": {
    "ExecuteTime": {
     "end_time": "2024-10-10T14:47:01.404288Z",
     "start_time": "2024-10-10T14:47:01.399397Z"
    }
   },
   "cell_type": "code",
   "source": [
    "target_md_file_name = f\"./_llamaparse_md_results/{_uri.split('/')[-1]}.md\"\n",
    "with open(target_md_file_name, \"w\", encoding=\"utf-8\") as file:\n",
    "    for inx in range(len(doc)):\n",
    "        file.write(doc[inx].text + \"\\n\")"
   ],
   "id": "f253d3577328759e",
   "outputs": [],
   "execution_count": 41
  },
  {
   "metadata": {},
   "cell_type": "code",
   "source": "",
   "id": "e30d5b28a70f8716",
   "outputs": [],
   "execution_count": null
  },
  {
   "metadata": {},
   "cell_type": "markdown",
   "source": "# Example from DOC",
   "id": "a62d6b6123f395be"
  },
  {
   "metadata": {
    "ExecuteTime": {
     "end_time": "2024-10-10T14:52:50.709369Z",
     "start_time": "2024-10-10T14:52:50.705495Z"
    }
   },
   "cell_type": "code",
   "source": "_uri = \"../data/__test_pdfs/GeoBase_NHNC1_Data_Model_UML_EN.pdf\"",
   "id": "3d957f1d765129e5",
   "outputs": [],
   "execution_count": 42
  },
  {
   "metadata": {
    "ExecuteTime": {
     "end_time": "2024-10-10T14:53:33.564958Z",
     "start_time": "2024-10-10T14:52:51.044202Z"
    }
   },
   "cell_type": "code",
   "source": [
    "doc = LlamaParse(result_type=\"markdown\").load_data(_uri)\n",
    "print(f\"Docs in PDF: {len(doc)}\")"
   ],
   "id": "4a539f39760b009c",
   "outputs": [
    {
     "name": "stdout",
     "output_type": "stream",
     "text": [
      "Started parsing the file under job_id 4693f31e-5122-469a-a8dd-cbea5645962a\n",
      ".Docs in PDF: 19\n"
     ]
    }
   ],
   "execution_count": 43
  },
  {
   "metadata": {
    "ExecuteTime": {
     "end_time": "2024-10-10T14:53:33.571923Z",
     "start_time": "2024-10-10T14:53:33.565969Z"
    }
   },
   "cell_type": "code",
   "source": [
    "target_md_file_name = f\"./_llamaparse_md_results/{_uri.split('/')[-1]}.md\"\n",
    "with open(target_md_file_name, \"w\", encoding=\"utf-8\") as file:\n",
    "    for inx in range(len(doc)):\n",
    "        file.write(doc[inx].text + \"\\n\")"
   ],
   "id": "398c4e89deef1958",
   "outputs": [],
   "execution_count": 44
  },
  {
   "metadata": {},
   "cell_type": "code",
   "source": "",
   "id": "cc41084d0e3eb1d",
   "outputs": [],
   "execution_count": null
  }
 ],
 "metadata": {
  "kernelspec": {
   "display_name": "Python 3",
   "language": "python",
   "name": "python3"
  },
  "language_info": {
   "codemirror_mode": {
    "name": "ipython",
    "version": 2
   },
   "file_extension": ".py",
   "mimetype": "text/x-python",
   "name": "python",
   "nbconvert_exporter": "python",
   "pygments_lexer": "ipython2",
   "version": "2.7.6"
  }
 },
 "nbformat": 4,
 "nbformat_minor": 5
}
