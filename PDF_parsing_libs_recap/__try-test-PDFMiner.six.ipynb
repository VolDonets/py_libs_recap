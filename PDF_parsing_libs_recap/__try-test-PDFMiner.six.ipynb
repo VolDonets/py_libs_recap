{
 "cells": [
  {
   "metadata": {},
   "cell_type": "markdown",
   "source": "# Try the PDFMiner.six lib",
   "id": "526934ed569f369a"
  },
  {
   "metadata": {},
   "cell_type": "markdown",
   "source": "# Test simple text PDFs",
   "id": "515526428c64c9bb"
  },
  {
   "metadata": {
    "ExecuteTime": {
     "end_time": "2024-10-08T12:42:01.751243Z",
     "start_time": "2024-10-08T12:42:01.685953Z"
    }
   },
   "cell_type": "code",
   "source": "from pdfminer.high_level import extract_text",
   "id": "6776242c5f9edf0f",
   "outputs": [],
   "execution_count": 1
  },
  {
   "metadata": {
    "ExecuteTime": {
     "end_time": "2024-10-08T12:42:19.766645Z",
     "start_time": "2024-10-08T12:42:19.592040Z"
    }
   },
   "cell_type": "code",
   "source": [
    "_uri = \"../data/__test_pdfs/simple-text.pdf\"\n",
    "\n",
    "text = extract_text(_uri)\n",
    "print(text)"
   ],
   "id": "4fce425f7bc22b18",
   "outputs": [
    {
     "name": "stdout",
     "output_type": "stream",
     "text": [
      "### What is Albert?\n",
      "\n",
      "Albert is a groundbreaking venture that combines state-of-the-art electric vehicles with a robust\n",
      "software-as-a-service (SaaS) subscription model. As a pioneer in both automotive\n",
      "manufacturing and technology solutions, Albert aims to redefine the landscape of transportation\n",
      "and renewable energy.\n",
      "\n",
      "#### **Automotive Manufacturing**\n",
      "\n",
      "Albert designs, engineers, and manufactures a diverse range of electric vehicles that set\n",
      "industry standards for efficiency, performance, and innovation. From compact sedans to large\n",
      "commercial trucks, Albert's EVs are built with cutting-edge technology, offering not just a mode\n",
      "of transportation but a lifestyle choice.\n",
      "\n",
      "#### **Software Features**\n",
      "\n",
      "Albert offers a subscription-based service that enhances the capabilities of its electric vehicles,\n",
      "elevating the user experience to unparalleled levels. Here's a glimpse of the software modules\n",
      "available:\n",
      "\n",
      "1. **Albert Drive**: This module provides Level 4 autonomous driving capabilities, allowing for\n",
      "hands-free operation in a wide range of scenarios.\n",
      "\n",
      "2. **Albert Efficiency**: Utilizes machine learning algorithms to analyze driving patterns and\n",
      "energy consumption. It then offers real-time recommendations for optimal energy conservation.\n",
      "\n",
      "3. **Albert Connect**: Enables seamless connectivity between your Albert vehicle and other\n",
      "smart devices. Control your home's smart thermostat or even order groceries via voice\n",
      "commands in your car.\n",
      "\n",
      "4. **Albert Secure**: An advanced security package that employs facial recognition, biometrics,\n",
      "and real-time monitoring to ensure the utmost safety of your vehicle.\n",
      "\n",
      "#### **Energy Solutions**\n",
      "\n",
      "Albert goes beyond vehicles by offering comprehensive renewable energy solutions. Whether\n",
      "it's solar panels for your home or commercial wind farms, Albert's software integrates\n",
      "seamlessly, providing real-time updates and optimizing energy usage across the board.\n",
      "\n",
      "#### **Subscription Tiers**\n",
      "\n",
      "Albert's software is available in multiple subscription tiers, tailored to fit various needs and\n",
      "budgets. Whether you're an individual looking for basic conveniences or a corporation in need of\n",
      "fleet management, Albert has a package that’s right for you.\n",
      "\n",
      "\f#### **The Albert Ecosystem**\n",
      "\n",
      "What sets Albert apart is its unique ecosystem that allows both hardware and software to evolve\n",
      "together. The vehicles are designed to be software-compatible from the get-go, with regular\n",
      "over-the-air updates that add new features and improve existing ones.\n",
      "\n",
      "By combining top-tier electric vehicle manufacturing with a dynamic software subscription\n",
      "model, Albert is not just reimagining the automotive industry; it's revolutionizing the way we\n",
      "interact with technology and the world around us. Albert offers a cohesive, scalable, and\n",
      "future-proof solution for modern transportation and energy needs.\n",
      "\n",
      "\f\n"
     ]
    }
   ],
   "execution_count": 2
  },
  {
   "metadata": {
    "ExecuteTime": {
     "end_time": "2024-10-08T12:53:26.324162Z",
     "start_time": "2024-10-08T12:53:26.318719Z"
    }
   },
   "cell_type": "code",
   "source": [
    "from io import StringIO\n",
    "\n",
    "from pdfminer.converter import TextConverter\n",
    "from pdfminer.layout import LAParams\n",
    "from pdfminer.pdfinterp import PDFResourceManager, PDFPageInterpreter\n",
    "from pdfminer.pdfpage import PDFPage\n",
    "from pdfminer.utils import open_filename\n",
    "\n",
    "\n",
    "def iter_text_per_page(pdf_file, password='', page_numbers=None, maxpages=0,\n",
    "                 caching=True, codec='utf-8', laparams=None):\n",
    "    if laparams is None:\n",
    "        laparams = LAParams()\n",
    "\n",
    "    with open_filename(pdf_file, \"rb\") as fp:\n",
    "        rsrcmgr = PDFResourceManager(caching=caching)\n",
    "\n",
    "        idx = 1\n",
    "        for page in PDFPage.get_pages(\n",
    "                fp,\n",
    "                page_numbers,\n",
    "                maxpages=maxpages,\n",
    "                password=password,\n",
    "                caching=caching,\n",
    "        ):\n",
    "            with StringIO() as output_string:\n",
    "                device = TextConverter(rsrcmgr, output_string, codec=codec,\n",
    "                                       laparams=laparams)\n",
    "                interpreter = PDFPageInterpreter(rsrcmgr, device)\n",
    "                interpreter.process_page(page)\n",
    "                yield idx, output_string.getvalue()\n",
    "                idx += 1"
   ],
   "id": "d35975d0d0203ac0",
   "outputs": [],
   "execution_count": 3
  },
  {
   "metadata": {
    "ExecuteTime": {
     "end_time": "2024-10-08T12:53:49.698112Z",
     "start_time": "2024-10-08T12:53:49.526955Z"
    }
   },
   "cell_type": "code",
   "source": [
    "for count, page_text in iter_text_per_page(_uri):\n",
    "    print(f'page# {count}:\\n{page_text}')\n",
    "    print()"
   ],
   "id": "56f02979b3ca972c",
   "outputs": [
    {
     "name": "stdout",
     "output_type": "stream",
     "text": [
      "page# 1:\n",
      "### What is Albert?\n",
      "\n",
      "Albert is a groundbreaking venture that combines state-of-the-art electric vehicles with a robust\n",
      "software-as-a-service (SaaS) subscription model. As a pioneer in both automotive\n",
      "manufacturing and technology solutions, Albert aims to redefine the landscape of transportation\n",
      "and renewable energy.\n",
      "\n",
      "#### **Automotive Manufacturing**\n",
      "\n",
      "Albert designs, engineers, and manufactures a diverse range of electric vehicles that set\n",
      "industry standards for efficiency, performance, and innovation. From compact sedans to large\n",
      "commercial trucks, Albert's EVs are built with cutting-edge technology, offering not just a mode\n",
      "of transportation but a lifestyle choice.\n",
      "\n",
      "#### **Software Features**\n",
      "\n",
      "Albert offers a subscription-based service that enhances the capabilities of its electric vehicles,\n",
      "elevating the user experience to unparalleled levels. Here's a glimpse of the software modules\n",
      "available:\n",
      "\n",
      "1. **Albert Drive**: This module provides Level 4 autonomous driving capabilities, allowing for\n",
      "hands-free operation in a wide range of scenarios.\n",
      "\n",
      "2. **Albert Efficiency**: Utilizes machine learning algorithms to analyze driving patterns and\n",
      "energy consumption. It then offers real-time recommendations for optimal energy conservation.\n",
      "\n",
      "3. **Albert Connect**: Enables seamless connectivity between your Albert vehicle and other\n",
      "smart devices. Control your home's smart thermostat or even order groceries via voice\n",
      "commands in your car.\n",
      "\n",
      "4. **Albert Secure**: An advanced security package that employs facial recognition, biometrics,\n",
      "and real-time monitoring to ensure the utmost safety of your vehicle.\n",
      "\n",
      "#### **Energy Solutions**\n",
      "\n",
      "Albert goes beyond vehicles by offering comprehensive renewable energy solutions. Whether\n",
      "it's solar panels for your home or commercial wind farms, Albert's software integrates\n",
      "seamlessly, providing real-time updates and optimizing energy usage across the board.\n",
      "\n",
      "#### **Subscription Tiers**\n",
      "\n",
      "Albert's software is available in multiple subscription tiers, tailored to fit various needs and\n",
      "budgets. Whether you're an individual looking for basic conveniences or a corporation in need of\n",
      "fleet management, Albert has a package that’s right for you.\n",
      "\n",
      "\f\n",
      "\n",
      "page# 2:\n",
      "#### **The Albert Ecosystem**\n",
      "\n",
      "What sets Albert apart is its unique ecosystem that allows both hardware and software to evolve\n",
      "together. The vehicles are designed to be software-compatible from the get-go, with regular\n",
      "over-the-air updates that add new features and improve existing ones.\n",
      "\n",
      "By combining top-tier electric vehicle manufacturing with a dynamic software subscription\n",
      "model, Albert is not just reimagining the automotive industry; it's revolutionizing the way we\n",
      "interact with technology and the world around us. Albert offers a cohesive, scalable, and\n",
      "future-proof solution for modern transportation and energy needs.\n",
      "\n",
      "\f\n",
      "\n"
     ]
    }
   ],
   "execution_count": 4
  },
  {
   "metadata": {
    "ExecuteTime": {
     "end_time": "2024-10-08T12:54:31.116156Z",
     "start_time": "2024-10-08T12:54:31.109712Z"
    }
   },
   "cell_type": "code",
   "source": "page_text",
   "id": "af5d3d9928d0e3e",
   "outputs": [
    {
     "data": {
      "text/plain": [
       "\"#### **The Albert Ecosystem**\\n\\nWhat sets Albert apart is its unique ecosystem that allows both hardware and software to evolve\\ntogether. The vehicles are designed to be software-compatible from the get-go, with regular\\nover-the-air updates that add new features and improve existing ones.\\n\\nBy combining top-tier electric vehicle manufacturing with a dynamic software subscription\\nmodel, Albert is not just reimagining the automotive industry; it's revolutionizing the way we\\ninteract with technology and the world around us. Albert offers a cohesive, scalable, and\\nfuture-proof solution for modern transportation and energy needs.\\n\\n\\x0c\""
      ]
     },
     "execution_count": 5,
     "metadata": {},
     "output_type": "execute_result"
    }
   ],
   "execution_count": 5
  },
  {
   "metadata": {},
   "cell_type": "markdown",
   "source": "# Test only one table PDFs",
   "id": "95615b6019f278c6"
  },
  {
   "metadata": {},
   "cell_type": "code",
   "source": [
    "_uri = \"../data/__test_pdfs/table.pdf\"\n",
    "with pdfplumber.open(_uri) as pdf:\n",
    "    print(\"PAGE # 1\")\n",
    "    text = pdf.pages[0].extract_text()\n",
    "    print(text)\n",
    "    print(\"PAGE # 2\")\n",
    "    text = pdf.pages[1].extract_text()\n",
    "    print(text)"
   ],
   "id": "5189b1fe21b7d9d9",
   "outputs": [],
   "execution_count": null
  },
  {
   "metadata": {},
   "cell_type": "code",
   "source": [
    "# try to extract table\n",
    "with pdfplumber.open(_uri) as pdf:\n",
    "    print(\"PAGE # 1\")\n",
    "    table = pdf.pages[0].extract_table()\n",
    "    print(table)\n",
    "    print(\"PAGE # 2\")\n",
    "    table = pdf.pages[1].extract_table()\n",
    "    print(table)"
   ],
   "id": "a35b27f029e35701",
   "outputs": [],
   "execution_count": null
  },
  {
   "metadata": {},
   "cell_type": "code",
   "source": [
    "# try to extract tables\n",
    "with pdfplumber.open(_uri) as pdf:\n",
    "    print(\"PAGE # 1\")\n",
    "    tables = pdf.pages[0].extract_tables()\n",
    "    print(tables)\n",
    "    print(\"PAGE # 2\")\n",
    "    tables = pdf.pages[1].extract_tables()\n",
    "    print(tables)"
   ],
   "id": "7f8e573b22db72a3",
   "outputs": [],
   "execution_count": null
  },
  {
   "metadata": {},
   "cell_type": "markdown",
   "source": "# Test table & text PDFs",
   "id": "9c7960b172ae37ca"
  },
  {
   "metadata": {},
   "cell_type": "code",
   "source": [
    "_uri = \"../data/__test_pdfs/table-text.pdf\"\n",
    "with pdfplumber.open(_uri) as pdf:\n",
    "    print(\"PAGE # 1\")\n",
    "    text = pdf.pages[0].extract_text()\n",
    "    print(text)"
   ],
   "id": "940782426c0bc95d",
   "outputs": [],
   "execution_count": null
  },
  {
   "metadata": {},
   "cell_type": "code",
   "source": [
    "with pdfplumber.open(_uri) as pdf:\n",
    "    print(\"PAGE # 1\")\n",
    "    table = pdf.pages[0].extract_table()\n",
    "    print(table)"
   ],
   "id": "e673aa914cdffa0a",
   "outputs": [],
   "execution_count": null
  },
  {
   "metadata": {},
   "cell_type": "markdown",
   "source": "# Test complex text PDFs",
   "id": "f11077a3087d768f"
  },
  {
   "metadata": {},
   "cell_type": "code",
   "source": "_uri = \"../data/__test_pdfs/complex_text.pdf\"",
   "id": "883083cb22553b06",
   "outputs": [],
   "execution_count": null
  },
  {
   "metadata": {},
   "cell_type": "code",
   "source": [
    "page_no = 1\n",
    "task = \"EXTRACT TEXT\"\n",
    "with pdfplumber.open(_uri) as pdf:\n",
    "    \n",
    "    print(f\"task: {task}\\nPAGE # {page_no}\\n***\\n\\n\")\n",
    "    text = pdf.pages[page_no - 1].extract_text()\n",
    "    print(text)"
   ],
   "id": "ca112fe110a5e13f",
   "outputs": [],
   "execution_count": null
  },
  {
   "metadata": {},
   "cell_type": "code",
   "source": [
    "page_no = 2\n",
    "task = \"EXTRACT TEXT\"\n",
    "with pdfplumber.open(_uri) as pdf:\n",
    "    \n",
    "    print(f\"task: {task}\\nPAGE # {page_no}\\n***\\n\\n\")\n",
    "    text = pdf.pages[page_no - 1].extract_text()\n",
    "    print(text)"
   ],
   "id": "961de705c037e56b",
   "outputs": [],
   "execution_count": null
  },
  {
   "metadata": {},
   "cell_type": "code",
   "source": [
    "page_no = 3\n",
    "task = \"EXTRACT TEXT\"\n",
    "with pdfplumber.open(_uri) as pdf:\n",
    "    \n",
    "    print(f\"task: {task}\\nPAGE # {page_no}\\n***\\n\\n\")\n",
    "    text = pdf.pages[page_no - 1].extract_text()\n",
    "    print(text)"
   ],
   "id": "3e3d11d10fbaf4c9",
   "outputs": [],
   "execution_count": null
  },
  {
   "metadata": {},
   "cell_type": "code",
   "source": [
    "page_no = 3\n",
    "task = \"EXTRACT TABLE\"\n",
    "with pdfplumber.open(_uri) as pdf:\n",
    "    \n",
    "    print(f\"task: {task}\\nPAGE # {page_no}\\n***\\n\\n\")\n",
    "    text = pdf.pages[page_no - 1].extract_table()\n",
    "    print(text)"
   ],
   "id": "e6a230369e3432f8",
   "outputs": [],
   "execution_count": null
  },
  {
   "metadata": {},
   "cell_type": "code",
   "source": [
    "page_no = 60\n",
    "task = \"EXTRACT TEXT\"\n",
    "with pdfplumber.open(_uri) as pdf:\n",
    "    \n",
    "    print(f\"task: {task}\\nPAGE # {page_no}\\n***\\n\\n\")\n",
    "    text = pdf.pages[page_no - 1].extract_text()\n",
    "    print(text)"
   ],
   "id": "a7dac80dba6ceb07",
   "outputs": [],
   "execution_count": null
  },
  {
   "metadata": {},
   "cell_type": "code",
   "source": [
    "page_no = 60\n",
    "task = \"EXTRACT TABLE\"\n",
    "with pdfplumber.open(_uri) as pdf:\n",
    "    \n",
    "    print(f\"task: {task}\\nPAGE # {page_no}\\n***\\n\\n\")\n",
    "    text = pdf.pages[page_no - 1].extract_table()\n",
    "    print(text)"
   ],
   "id": "508a8ca7eeec4966",
   "outputs": [],
   "execution_count": null
  },
  {
   "metadata": {},
   "cell_type": "markdown",
   "source": "# Test complex_text-tables-images PDFs",
   "id": "bac432bb053e0210"
  },
  {
   "metadata": {},
   "cell_type": "code",
   "source": "_uri = \"../data/__test_pdfs/complex_text-tables-images.pdf\"",
   "id": "664b3551b490be4d",
   "outputs": [],
   "execution_count": null
  },
  {
   "metadata": {},
   "cell_type": "code",
   "source": [
    "page_no = 1\n",
    "task = \"EXTRACT TEXT\"\n",
    "with pdfplumber.open(_uri) as pdf:\n",
    "    \n",
    "    print(f\"task: {task}\\nPAGE # {page_no}\\n***\\n\\n\")\n",
    "    text = pdf.pages[page_no - 1].extract_text()\n",
    "    print(text)"
   ],
   "id": "aaa52656c725e9e9",
   "outputs": [],
   "execution_count": null
  },
  {
   "metadata": {},
   "cell_type": "code",
   "source": [
    "page_no = 2\n",
    "task = \"EXTRACT TEXT\"\n",
    "with pdfplumber.open(_uri) as pdf:\n",
    "    \n",
    "    print(f\"task: {task}\\nPAGE # {page_no}\\n***\\n\\n\")\n",
    "    text = pdf.pages[page_no - 1].extract_text()\n",
    "    print(text)"
   ],
   "id": "ace97f59d81328fc",
   "outputs": [],
   "execution_count": null
  },
  {
   "metadata": {},
   "cell_type": "code",
   "source": [
    "page_no = 2\n",
    "task = \"EXTRACT TABLE\"\n",
    "with pdfplumber.open(_uri) as pdf:\n",
    "    \n",
    "    print(f\"task: {task}\\nPAGE # {page_no}\\n***\\n\\n\")\n",
    "    text = pdf.pages[page_no - 1].extract_table()\n",
    "    print(text)"
   ],
   "id": "105645f7b671fe10",
   "outputs": [],
   "execution_count": null
  },
  {
   "metadata": {},
   "cell_type": "code",
   "source": [
    "page_no = 4\n",
    "task = \"EXTRACT TEXT\"\n",
    "with pdfplumber.open(_uri) as pdf:\n",
    "    \n",
    "    print(f\"task: {task}\\nPAGE # {page_no}\\n***\\n\\n\")\n",
    "    text = pdf.pages[page_no - 1].extract_text()\n",
    "    print(text)"
   ],
   "id": "faf162a18d81eab9",
   "outputs": [],
   "execution_count": null
  },
  {
   "metadata": {},
   "cell_type": "code",
   "source": [
    "page_no = 4\n",
    "task = \"EXTRACT TABLE\"\n",
    "with pdfplumber.open(_uri) as pdf:\n",
    "    \n",
    "    print(f\"task: {task}\\nPAGE # {page_no}\\n***\\n\\n\")\n",
    "    text = pdf.pages[page_no - 1].extract_table()\n",
    "    print(text)"
   ],
   "id": "8c61b160cdaa01ef",
   "outputs": [],
   "execution_count": null
  },
  {
   "metadata": {},
   "cell_type": "code",
   "source": [
    "page_no = 6\n",
    "task = \"EXTRACT TEXT\"\n",
    "with pdfplumber.open(_uri) as pdf:\n",
    "    \n",
    "    print(f\"task: {task}\\nPAGE # {page_no}\\n***\\n\\n\")\n",
    "    text = pdf.pages[page_no - 1].extract_text()\n",
    "    print(text)"
   ],
   "id": "8e2001e343749abc",
   "outputs": [],
   "execution_count": null
  },
  {
   "metadata": {},
   "cell_type": "code",
   "source": [
    "page_no = 6\n",
    "task = \"EXTRACT TABLE\"\n",
    "with pdfplumber.open(_uri) as pdf:\n",
    "    \n",
    "    print(f\"task: {task}\\nPAGE # {page_no}\\n***\\n\\n\")\n",
    "    text = pdf.pages[page_no - 1].extract_table()\n",
    "    print(text)"
   ],
   "id": "98a61aaff1657acc",
   "outputs": [],
   "execution_count": null
  },
  {
   "metadata": {},
   "cell_type": "code",
   "source": [
    "page_no = 7\n",
    "task = \"EXTRACT TABLE\"\n",
    "with pdfplumber.open(_uri) as pdf:\n",
    "    \n",
    "    print(f\"task: {task}\\nPAGE # {page_no}\\n***\\n\\n\")\n",
    "    table = pdf.pages[page_no - 1].extract_table()\n",
    "    print(table)"
   ],
   "id": "e72a25d8852bf527",
   "outputs": [],
   "execution_count": null
  },
  {
   "metadata": {},
   "cell_type": "code",
   "source": [
    "page_no = 8\n",
    "task = \"EXTRACT TABLEs\"\n",
    "with pdfplumber.open(_uri) as pdf:\n",
    "    \n",
    "    print(f\"task: {task}\\nPAGE # {page_no}\\n***\\n\\n\")\n",
    "    tables = pdf.pages[page_no - 1].extract_tables()\n",
    "    for no, table in enumerate(tables):\n",
    "        print(f\"t_no: {no}\")\n",
    "        print(table)"
   ],
   "id": "9e468d035bef9727",
   "outputs": [],
   "execution_count": null
  },
  {
   "metadata": {},
   "cell_type": "code",
   "source": [
    "page_no = 8\n",
    "task = \"EXTRACT TEXT\"\n",
    "with pdfplumber.open(_uri) as pdf:\n",
    "    \n",
    "    print(f\"task: {task}\\nPAGE # {page_no}\\n***\\n\\n\")\n",
    "    text = pdf.pages[page_no - 1].extract_text()\n",
    "    print(text)"
   ],
   "id": "708aace42c545e32",
   "outputs": [],
   "execution_count": null
  },
  {
   "metadata": {},
   "cell_type": "code",
   "source": [
    "page_no = 9\n",
    "task = \"EXTRACT TABLE\"\n",
    "with pdfplumber.open(_uri) as pdf:\n",
    "    \n",
    "    print(f\"task: {task}\\nPAGE # {page_no}\\n***\\n\\n\")\n",
    "    table = pdf.pages[page_no - 1].extract_table()\n",
    "    print(table)"
   ],
   "id": "af78b071051f7a2c",
   "outputs": [],
   "execution_count": null
  },
  {
   "metadata": {},
   "cell_type": "code",
   "source": [
    "page_no = 11\n",
    "task = \"EXTRACT TABLEs\"\n",
    "with pdfplumber.open(_uri) as pdf:\n",
    "    \n",
    "    print(f\"task: {task}\\nPAGE # {page_no}\\n***\\n\\n\")\n",
    "    tables = pdf.pages[page_no - 1].extract_tables()\n",
    "    for no, table in enumerate(tables):\n",
    "        print(f\"t_no: {no}\")\n",
    "        print(table)"
   ],
   "id": "91571f850187a832",
   "outputs": [],
   "execution_count": null
  },
  {
   "metadata": {},
   "cell_type": "code",
   "source": "",
   "id": "5caa443be9da40aa",
   "outputs": [],
   "execution_count": null
  },
  {
   "metadata": {},
   "cell_type": "code",
   "source": "_uri = \"../data/__test_pdfs/complex_columns-text-tables-images.pdf\"",
   "id": "b5b665a6b2617ad3",
   "outputs": [],
   "execution_count": null
  },
  {
   "metadata": {},
   "cell_type": "code",
   "source": [
    "page_no = 1\n",
    "task = \"EXTRACT TEXT\"\n",
    "with pdfplumber.open(_uri) as pdf:\n",
    "    \n",
    "    print(f\"task: {task}\\nPAGE # {page_no}\\n***\\n\\n\")\n",
    "    text = pdf.pages[page_no - 1].extract_text()\n",
    "    print(text)"
   ],
   "id": "d8eb32f8365251e3",
   "outputs": [],
   "execution_count": null
  },
  {
   "metadata": {},
   "cell_type": "code",
   "source": [
    "page_no = 2\n",
    "task = \"EXTRACT TEXT\"\n",
    "with pdfplumber.open(_uri) as pdf:\n",
    "    \n",
    "    print(f\"task: {task}\\nPAGE # {page_no}\\n***\\n\\n\")\n",
    "    text = pdf.pages[page_no - 1].extract_text()\n",
    "    print(text)"
   ],
   "id": "bbc997d7969fa144",
   "outputs": [],
   "execution_count": null
  },
  {
   "metadata": {},
   "cell_type": "code",
   "source": [
    "page_no = 3\n",
    "task = \"EXTRACT TEXT\"\n",
    "with pdfplumber.open(_uri) as pdf:\n",
    "    \n",
    "    print(f\"task: {task}\\nPAGE # {page_no}\\n***\\n\\n\")\n",
    "    text = pdf.pages[page_no - 1].extract_text()\n",
    "    print(text)"
   ],
   "id": "86252f3efa8acca1",
   "outputs": [],
   "execution_count": null
  },
  {
   "metadata": {},
   "cell_type": "code",
   "source": [
    "page_no = 3\n",
    "task = \"EXTRACT TABLEs\"\n",
    "with pdfplumber.open(_uri) as pdf:\n",
    "    \n",
    "    print(f\"task: {task}\\nPAGE # {page_no}\\n***\\n\\n\")\n",
    "    tables = pdf.pages[page_no - 1].extract_tables()\n",
    "    for no, table in enumerate(tables):\n",
    "        print(f\"t_no: {no}\")\n",
    "        print(table)"
   ],
   "id": "6c13619e2645f953",
   "outputs": [],
   "execution_count": null
  },
  {
   "metadata": {},
   "cell_type": "code",
   "source": [
    "page_no = 4\n",
    "task = \"EXTRACT TABLEs\"\n",
    "with pdfplumber.open(_uri) as pdf:\n",
    "    \n",
    "    print(f\"task: {task}\\nPAGE # {page_no}\\n***\\n\\n\")\n",
    "    tables = pdf.pages[page_no - 1].extract_tables()\n",
    "    for no, table in enumerate(tables):\n",
    "        print(f\"t_no: {no}\")\n",
    "        print(table)"
   ],
   "id": "82eaab6639ba5a14",
   "outputs": [],
   "execution_count": null
  },
  {
   "metadata": {},
   "cell_type": "code",
   "source": [
    "page_no = 5\n",
    "task = \"EXTRACT TABLEs\"\n",
    "with pdfplumber.open(_uri) as pdf:\n",
    "    \n",
    "    print(f\"task: {task}\\nPAGE # {page_no}\\n***\\n\\n\")\n",
    "    tables = pdf.pages[page_no - 1].extract_tables()\n",
    "    for no, table in enumerate(tables):\n",
    "        print(f\"t_no: {no}\")\n",
    "        print(table)"
   ],
   "id": "801d2dc0f6ee37a2",
   "outputs": [],
   "execution_count": null
  },
  {
   "metadata": {},
   "cell_type": "code",
   "source": "",
   "id": "e30d5b28a70f8716",
   "outputs": [],
   "execution_count": null
  },
  {
   "metadata": {},
   "cell_type": "markdown",
   "source": "# Example from DOC",
   "id": "a62d6b6123f395be"
  },
  {
   "metadata": {},
   "cell_type": "code",
   "source": "_uri = \"../data/__test_pdfs/GeoBase_NHNC1_Data_Model_UML_EN.pdf\"\n",
   "id": "3d957f1d765129e5",
   "outputs": [],
   "execution_count": null
  },
  {
   "metadata": {},
   "cell_type": "code",
   "source": [
    "page_no = 1\n",
    "task = \"EXTRACT TEXT\"\n",
    "with pdfplumber.open(_uri) as pdf:\n",
    "    \n",
    "    print(f\"task: {task}\\nPAGE # {page_no}\\n***\\n\\n\")\n",
    "    text = pdf.pages[page_no - 1].extract_text()\n",
    "    print(text)"
   ],
   "id": "a83f1b18f65a5b4f",
   "outputs": [],
   "execution_count": null
  },
  {
   "metadata": {},
   "cell_type": "code",
   "source": [
    "page_no = 2\n",
    "task = \"EXTRACT TEXT\"\n",
    "with pdfplumber.open(_uri) as pdf:\n",
    "    \n",
    "    print(f\"task: {task}\\nPAGE # {page_no}\\n***\\n\\n\")\n",
    "    text = pdf.pages[page_no - 1].extract_text()\n",
    "    print(text)"
   ],
   "id": "b49e741624b02d46",
   "outputs": [],
   "execution_count": null
  },
  {
   "metadata": {},
   "cell_type": "code",
   "source": [
    "page_no = 2\n",
    "task = \"EXTRACT TABLEs\"\n",
    "with pdfplumber.open(_uri) as pdf:\n",
    "    \n",
    "    print(f\"task: {task}\\nPAGE # {page_no}\\n***\\n\\n\")\n",
    "    tables = pdf.pages[page_no - 1].extract_tables()\n",
    "    for no, table in enumerate(tables):\n",
    "        print(f\"t_no: {no}\")\n",
    "        print(table)\n",
    "    \n",
    "    if not tables:\n",
    "        print(f\"No tables found\")"
   ],
   "id": "39118fe7e9ea6377",
   "outputs": [],
   "execution_count": null
  },
  {
   "metadata": {},
   "cell_type": "code",
   "source": [
    "page_no = 3\n",
    "task = \"EXTRACT TEXT\"\n",
    "with pdfplumber.open(_uri) as pdf:\n",
    "    \n",
    "    print(f\"task: {task}\\nPAGE # {page_no}\\n***\\n\\n\")\n",
    "    text = pdf.pages[page_no - 1].extract_text()\n",
    "    print(text)"
   ],
   "id": "30e08fb3718efa7c",
   "outputs": [],
   "execution_count": null
  },
  {
   "metadata": {},
   "cell_type": "code",
   "source": [
    "page_no = 3\n",
    "task = \"EXTRACT TABLEs\"\n",
    "with pdfplumber.open(_uri) as pdf:\n",
    "    \n",
    "    print(f\"task: {task}\\nPAGE # {page_no}\\n***\\n\\n\")\n",
    "    tables = pdf.pages[page_no - 1].extract_tables()\n",
    "    for no, table in enumerate(tables):\n",
    "        print(f\"t_no: {no}\")\n",
    "        print(table)"
   ],
   "id": "182310e12bf42ea8",
   "outputs": [],
   "execution_count": null
  },
  {
   "metadata": {},
   "cell_type": "code",
   "source": [
    "page_no = 5\n",
    "task = \"EXTRACT TABLEs\"\n",
    "with pdfplumber.open(_uri) as pdf:\n",
    "    \n",
    "    print(f\"task: {task}\\nPAGE # {page_no}\\n***\\n\\n\")\n",
    "    tables = pdf.pages[page_no - 1].extract_tables()\n",
    "    for no, table in enumerate(tables):\n",
    "        print(f\"t_no: {no}\")\n",
    "        print(table)\n",
    "    \n",
    "    if not tables:\n",
    "        print(f\"No tables found\")"
   ],
   "id": "461722a74ef07040",
   "outputs": [],
   "execution_count": null
  },
  {
   "metadata": {},
   "cell_type": "code",
   "source": [
    "page_no = 7\n",
    "task = \"EXTRACT TABLEs\"\n",
    "with pdfplumber.open(_uri) as pdf:\n",
    "    \n",
    "    print(f\"task: {task}\\nPAGE # {page_no}\\n***\\n\\n\")\n",
    "    tables = pdf.pages[page_no - 1].extract_tables()\n",
    "    for no, table in enumerate(tables):\n",
    "        print(f\"t_no: {no}\")\n",
    "        print(table)\n",
    "    \n",
    "    if not tables:\n",
    "        print(f\"No tables found\")"
   ],
   "id": "377d0e136c4b6eb3",
   "outputs": [],
   "execution_count": null
  },
  {
   "metadata": {},
   "cell_type": "code",
   "source": [
    "page_no = 12\n",
    "task = \"EXTRACT TABLEs\"\n",
    "with pdfplumber.open(_uri) as pdf:\n",
    "    \n",
    "    print(f\"task: {task}\\nPAGE # {page_no}\\n***\\n\\n\")\n",
    "    tables = pdf.pages[page_no - 1].extract_tables()\n",
    "    for no, table in enumerate(tables):\n",
    "        print(f\"t_no: {no}\")\n",
    "        print(table)\n",
    "    \n",
    "    if not tables:\n",
    "        print(f\"No tables found\")"
   ],
   "id": "47b80c24cacec824",
   "outputs": [],
   "execution_count": null
  },
  {
   "metadata": {},
   "cell_type": "code",
   "source": "",
   "id": "cc41084d0e3eb1d",
   "outputs": [],
   "execution_count": null
  }
 ],
 "metadata": {
  "kernelspec": {
   "display_name": "Python 3",
   "language": "python",
   "name": "python3"
  },
  "language_info": {
   "codemirror_mode": {
    "name": "ipython",
    "version": 2
   },
   "file_extension": ".py",
   "mimetype": "text/x-python",
   "name": "python",
   "nbconvert_exporter": "python",
   "pygments_lexer": "ipython2",
   "version": "2.7.6"
  }
 },
 "nbformat": 4,
 "nbformat_minor": 5
}
