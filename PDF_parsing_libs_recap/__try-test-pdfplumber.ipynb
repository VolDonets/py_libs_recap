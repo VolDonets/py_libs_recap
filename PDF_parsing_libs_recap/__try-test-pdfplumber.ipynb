{
 "cells": [
  {
   "metadata": {},
   "cell_type": "markdown",
   "source": "# Try the PDFPlumber lib",
   "id": "526934ed569f369a"
  },
  {
   "metadata": {
    "ExecuteTime": {
     "end_time": "2024-10-08T09:58:53.846025Z",
     "start_time": "2024-10-08T09:58:53.784638Z"
    }
   },
   "cell_type": "code",
   "source": "import pdfplumber",
   "id": "8ff02c6671695085",
   "outputs": [],
   "execution_count": 1
  },
  {
   "metadata": {},
   "cell_type": "markdown",
   "source": "# Test simple text PDFs",
   "id": "515526428c64c9bb"
  },
  {
   "metadata": {
    "ExecuteTime": {
     "end_time": "2024-10-08T10:05:17.165683Z",
     "start_time": "2024-10-08T10:05:16.957747Z"
    }
   },
   "cell_type": "code",
   "source": [
    "_uri = \"../data/__test_pdfs/simple-text.pdf\"\n",
    "with pdfplumber.open(_uri) as pdf:\n",
    "    print(\"PAGE # 1\")\n",
    "    text = pdf.pages[0].extract_text()\n",
    "    print(text)\n",
    "    print(\"PAGE # 2\")\n",
    "    text = pdf.pages[1].extract_text()\n",
    "    print(text)"
   ],
   "id": "4fce425f7bc22b18",
   "outputs": [
    {
     "name": "stdout",
     "output_type": "stream",
     "text": [
      "PAGE # 1\n",
      "### What is Albert?\n",
      "Albert is a groundbreaking venture that combines state-of-the-art electric vehicles with a robust\n",
      "software-as-a-service (SaaS) subscription model. As a pioneer in both automotive\n",
      "manufacturing and technology solutions, Albert aims to redefine the landscape of transportation\n",
      "and renewable energy.\n",
      "#### **Automotive Manufacturing**\n",
      "Albert designs, engineers, and manufactures a diverse range of electric vehicles that set\n",
      "industry standards for efficiency, performance, and innovation. From compact sedans to large\n",
      "commercial trucks, Albert's EVs are built with cutting-edge technology, offering not just a mode\n",
      "of transportation but a lifestyle choice.\n",
      "#### **Software Features**\n",
      "Albert offers a subscription-based service that enhances the capabilities of its electric vehicles,\n",
      "elevating the user experience to unparalleled levels. Here's a glimpse of the software modules\n",
      "available:\n",
      "1. **Albert Drive**: This module provides Level 4 autonomous driving capabilities, allowing for\n",
      "hands-free operation in a wide range of scenarios.\n",
      "2. **Albert Efficiency**: Utilizes machine learning algorithms to analyze driving patterns and\n",
      "energy consumption. It then offers real-time recommendations for optimal energy conservation.\n",
      "3. **Albert Connect**: Enables seamless connectivity between your Albert vehicle and other\n",
      "smart devices. Control your home's smart thermostat or even order groceries via voice\n",
      "commands in your car.\n",
      "4. **Albert Secure**: An advanced security package that employs facial recognition, biometrics,\n",
      "and real-time monitoring to ensure the utmost safety of your vehicle.\n",
      "#### **Energy Solutions**\n",
      "Albert goes beyond vehicles by offering comprehensive renewable energy solutions. Whether\n",
      "it's solar panels for your home or commercial wind farms, Albert's software integrates\n",
      "seamlessly, providing real-time updates and optimizing energy usage across the board.\n",
      "#### **Subscription Tiers**\n",
      "Albert's software is available in multiple subscription tiers, tailored to fit various needs and\n",
      "budgets. Whether you're an individual looking for basic conveniences or a corporation in need of\n",
      "fleet management, Albert has a package that’s right for you.\n",
      "PAGE # 2\n",
      "#### **The Albert Ecosystem**\n",
      "What sets Albert apart is its unique ecosystem that allows both hardware and software to evolve\n",
      "together. The vehicles are designed to be software-compatible from the get-go, with regular\n",
      "over-the-air updates that add new features and improve existing ones.\n",
      "By combining top-tier electric vehicle manufacturing with a dynamic software subscription\n",
      "model, Albert is not just reimagining the automotive industry; it's revolutionizing the way we\n",
      "interact with technology and the world around us. Albert offers a cohesive, scalable, and\n",
      "future-proof solution for modern transportation and energy needs.\n"
     ]
    }
   ],
   "execution_count": 6
  },
  {
   "metadata": {
    "ExecuteTime": {
     "end_time": "2024-10-08T10:06:17.301478Z",
     "start_time": "2024-10-08T10:06:17.048650Z"
    }
   },
   "cell_type": "code",
   "source": [
    "# try to extract table\n",
    "with pdfplumber.open(_uri) as pdf:\n",
    "    print(\"PAGE # 1\")\n",
    "    text = pdf.pages[0].extract_table()\n",
    "    print(text)\n",
    "    print(\"PAGE # 2\")\n",
    "    text = pdf.pages[1].extract_table()\n",
    "    print(text)"
   ],
   "id": "252795fe65c1389c",
   "outputs": [
    {
     "name": "stdout",
     "output_type": "stream",
     "text": [
      "PAGE # 1\n",
      "None\n",
      "PAGE # 2\n",
      "None\n"
     ]
    }
   ],
   "execution_count": 8
  },
  {
   "metadata": {
    "ExecuteTime": {
     "end_time": "2024-10-08T10:06:28.173585Z",
     "start_time": "2024-10-08T10:06:27.971907Z"
    }
   },
   "cell_type": "code",
   "source": [
    "# try to extract tables\n",
    "with pdfplumber.open(_uri) as pdf:\n",
    "    print(\"PAGE # 1\")\n",
    "    text = pdf.pages[0].extract_tables()\n",
    "    print(text)\n",
    "    print(\"PAGE # 2\")\n",
    "    text = pdf.pages[1].extract_tables()\n",
    "    print(text)"
   ],
   "id": "bd03dd53898ea85d",
   "outputs": [
    {
     "name": "stdout",
     "output_type": "stream",
     "text": [
      "PAGE # 1\n",
      "[]\n",
      "PAGE # 2\n",
      "[]\n"
     ]
    }
   ],
   "execution_count": 9
  },
  {
   "metadata": {},
   "cell_type": "markdown",
   "source": "# Test only one table PDFs",
   "id": "95615b6019f278c6"
  },
  {
   "metadata": {
    "ExecuteTime": {
     "end_time": "2024-10-08T10:07:24.505808Z",
     "start_time": "2024-10-08T10:07:24.421279Z"
    }
   },
   "cell_type": "code",
   "source": [
    "_uri = \"../data/__test_pdfs/table.pdf\"\n",
    "with pdfplumber.open(_uri) as pdf:\n",
    "    print(\"PAGE # 1\")\n",
    "    text = pdf.pages[0].extract_text()\n",
    "    print(text)\n",
    "    print(\"PAGE # 2\")\n",
    "    text = pdf.pages[1].extract_text()\n",
    "    print(text)"
   ],
   "id": "5189b1fe21b7d9d9",
   "outputs": [
    {
     "name": "stdout",
     "output_type": "stream",
     "text": [
      "PAGE # 1\n",
      "Contact Email Phone\n",
      "John Smith john.smith@email.com +1 887 33-22-12\n",
      "Jane Doe jane.doe@email.com +1 555 44-33-22\n",
      "Bob Johnson bob.johnson@email.com +1 555 55-44-33\n",
      "Mary Brown mary.brown@email.com +1 555 66-55-44\n",
      "David Lee david.lee@email.com +1 555 77-66-55\n",
      "Sarah Johnson sarah.johnson@email.com +1 555 88-77-66\n",
      "Michael Smith michael.smith@email.com +1 555 99-88-77\n",
      "Emily Davis emily.davis@email.com +1 555 11-22-33\n",
      "James Wilson james.wilson@email.com +1 555 22-33-44\n",
      "Samantha Brownsamantha.brown@email.com +1 555 33-44-55\n",
      "John Doe john.doe@email.com +1 555 44-55-66\n",
      "Sarah Davis sarah.davis@email.com +1 555 55-66-77\n",
      "Peter Parker peter.parker@email.com +1 555 66-77-88\n",
      "Mary Johnson mary.johnson@email.com +1 555 77-88-99\n",
      "James Brown james.brown@email.com +1 555 88-99-00\n",
      "Jennifer Wilson jennifer.wilson@email.com +1 555 99-00-11\n",
      "William Johnson william.johnson@email.com +1 555 00-11-22\n",
      "Jessica Davis jessica.davis@email.com +1 555 11-22-33\n",
      "James Smith james.smith@email.com +1 555 22-33-44\n",
      "David Brown david.brown@email.com +1 555 33-44-55\n",
      "Olivia Taylor olivia.taylor@email.com +1 555 44-55-66\n",
      "Ava Williams ava.williams@email.com +1 555 55-66-77\n",
      "Michael Davis michael.davis@email.com +1 555 66-77-88\n",
      "Sarah Lee sarah.lee@email.com +1 555 77-88-99\n",
      "Jane Smith jane.smith@email.com +1 555 88-99-00\n",
      "Mike Johnson mike.johnson@email.com +1 555 99-00-11\n",
      "Tom Johnson tom.johnson@email.com +1 555 00-11-22\n",
      "William Smith william.smith@email.com +1 555 11-22-33\n",
      "Elizabeth Taylor elizabeth.taylor@email.com +1 555 22-33-44\n",
      "Michael Miller michael.miller@email.com +1 555 33-44-55\n",
      "Emma Wilson emma.wilson@email.com +1 555 44-55-66\n",
      "PAGE # 2\n",
      "Jacob Brown jacob.brown@email.com +1 555 55-66-77\n"
     ]
    }
   ],
   "execution_count": 10
  },
  {
   "metadata": {
    "ExecuteTime": {
     "end_time": "2024-10-08T10:09:30.502786Z",
     "start_time": "2024-10-08T10:09:30.385581Z"
    }
   },
   "cell_type": "code",
   "source": [
    "# try to extract table\n",
    "with pdfplumber.open(_uri) as pdf:\n",
    "    print(\"PAGE # 1\")\n",
    "    table = pdf.pages[0].extract_table()\n",
    "    print(table)\n",
    "    print(\"PAGE # 2\")\n",
    "    table = pdf.pages[1].extract_table()\n",
    "    print(table)"
   ],
   "id": "a35b27f029e35701",
   "outputs": [
    {
     "name": "stdout",
     "output_type": "stream",
     "text": [
      "PAGE # 1\n",
      "[['Contact', 'Email', 'Phone'], ['John Smith', 'john.smith@email.com', '+1 887 33-22-12'], ['Jane Doe', 'jane.doe@email.com', '+1 555 44-33-22'], ['Bob Johnson', 'bob.johnson@email.com', '+1 555 55-44-33'], ['Mary Brown', 'mary.brown@email.com', '+1 555 66-55-44'], ['David Lee', 'david.lee@email.com', '+1 555 77-66-55'], ['Sarah Johnson', 'sarah.johnson@email.com', '+1 555 88-77-66'], ['Michael Smith', 'michael.smith@email.com', '+1 555 99-88-77'], ['Emily Davis', 'emily.davis@email.com', '+1 555 11-22-33'], ['James Wilson', 'james.wilson@email.com', '+1 555 22-33-44'], ['Samantha Brown', 'samantha.brown@email.com', '+1 555 33-44-55'], ['John Doe', 'john.doe@email.com', '+1 555 44-55-66'], ['Sarah Davis', 'sarah.davis@email.com', '+1 555 55-66-77'], ['Peter Parker', 'peter.parker@email.com', '+1 555 66-77-88'], ['Mary Johnson', 'mary.johnson@email.com', '+1 555 77-88-99'], ['James Brown', 'james.brown@email.com', '+1 555 88-99-00'], ['Jennifer Wilson', 'jennifer.wilson@email.com', '+1 555 99-00-11'], ['William Johnson', 'william.johnson@email.com', '+1 555 00-11-22'], ['Jessica Davis', 'jessica.davis@email.com', '+1 555 11-22-33'], ['James Smith', 'james.smith@email.com', '+1 555 22-33-44'], ['David Brown', 'david.brown@email.com', '+1 555 33-44-55'], ['Olivia Taylor', 'olivia.taylor@email.com', '+1 555 44-55-66'], ['Ava Williams', 'ava.williams@email.com', '+1 555 55-66-77'], ['Michael Davis', 'michael.davis@email.com', '+1 555 66-77-88'], ['Sarah Lee', 'sarah.lee@email.com', '+1 555 77-88-99'], ['Jane Smith', 'jane.smith@email.com', '+1 555 88-99-00'], ['Mike Johnson', 'mike.johnson@email.com', '+1 555 99-00-11'], ['Tom Johnson', 'tom.johnson@email.com', '+1 555 00-11-22'], ['William Smith', 'william.smith@email.com', '+1 555 11-22-33'], ['Elizabeth Taylor', 'elizabeth.taylor@email.com', '+1 555 22-33-44'], ['Michael Miller', 'michael.miller@email.com', '+1 555 33-44-55'], ['Emma Wilson', 'emma.wilson@email.com', '+1 555 44-55-66']]\n",
      "PAGE # 2\n",
      "[['Jacob Brown', 'jacob.brown@email.com', '+1 555 55-66-77']]\n"
     ]
    }
   ],
   "execution_count": 11
  },
  {
   "metadata": {
    "ExecuteTime": {
     "end_time": "2024-10-08T10:10:16.107852Z",
     "start_time": "2024-10-08T10:10:15.998893Z"
    }
   },
   "cell_type": "code",
   "source": [
    "# try to extract tables\n",
    "with pdfplumber.open(_uri) as pdf:\n",
    "    print(\"PAGE # 1\")\n",
    "    tables = pdf.pages[0].extract_tables()\n",
    "    print(tables)\n",
    "    print(\"PAGE # 2\")\n",
    "    tables = pdf.pages[1].extract_tables()\n",
    "    print(tables)"
   ],
   "id": "7f8e573b22db72a3",
   "outputs": [
    {
     "name": "stdout",
     "output_type": "stream",
     "text": [
      "PAGE # 1\n",
      "[[['Contact', 'Email', 'Phone'], ['John Smith', 'john.smith@email.com', '+1 887 33-22-12'], ['Jane Doe', 'jane.doe@email.com', '+1 555 44-33-22'], ['Bob Johnson', 'bob.johnson@email.com', '+1 555 55-44-33'], ['Mary Brown', 'mary.brown@email.com', '+1 555 66-55-44'], ['David Lee', 'david.lee@email.com', '+1 555 77-66-55'], ['Sarah Johnson', 'sarah.johnson@email.com', '+1 555 88-77-66'], ['Michael Smith', 'michael.smith@email.com', '+1 555 99-88-77'], ['Emily Davis', 'emily.davis@email.com', '+1 555 11-22-33'], ['James Wilson', 'james.wilson@email.com', '+1 555 22-33-44'], ['Samantha Brown', 'samantha.brown@email.com', '+1 555 33-44-55'], ['John Doe', 'john.doe@email.com', '+1 555 44-55-66'], ['Sarah Davis', 'sarah.davis@email.com', '+1 555 55-66-77'], ['Peter Parker', 'peter.parker@email.com', '+1 555 66-77-88'], ['Mary Johnson', 'mary.johnson@email.com', '+1 555 77-88-99'], ['James Brown', 'james.brown@email.com', '+1 555 88-99-00'], ['Jennifer Wilson', 'jennifer.wilson@email.com', '+1 555 99-00-11'], ['William Johnson', 'william.johnson@email.com', '+1 555 00-11-22'], ['Jessica Davis', 'jessica.davis@email.com', '+1 555 11-22-33'], ['James Smith', 'james.smith@email.com', '+1 555 22-33-44'], ['David Brown', 'david.brown@email.com', '+1 555 33-44-55'], ['Olivia Taylor', 'olivia.taylor@email.com', '+1 555 44-55-66'], ['Ava Williams', 'ava.williams@email.com', '+1 555 55-66-77'], ['Michael Davis', 'michael.davis@email.com', '+1 555 66-77-88'], ['Sarah Lee', 'sarah.lee@email.com', '+1 555 77-88-99'], ['Jane Smith', 'jane.smith@email.com', '+1 555 88-99-00'], ['Mike Johnson', 'mike.johnson@email.com', '+1 555 99-00-11'], ['Tom Johnson', 'tom.johnson@email.com', '+1 555 00-11-22'], ['William Smith', 'william.smith@email.com', '+1 555 11-22-33'], ['Elizabeth Taylor', 'elizabeth.taylor@email.com', '+1 555 22-33-44'], ['Michael Miller', 'michael.miller@email.com', '+1 555 33-44-55'], ['Emma Wilson', 'emma.wilson@email.com', '+1 555 44-55-66']]]\n",
      "PAGE # 2\n",
      "[[['Jacob Brown', 'jacob.brown@email.com', '+1 555 55-66-77']]]\n"
     ]
    }
   ],
   "execution_count": 12
  },
  {
   "metadata": {},
   "cell_type": "markdown",
   "source": "# Test table & text PDFs",
   "id": "9c7960b172ae37ca"
  },
  {
   "metadata": {
    "ExecuteTime": {
     "end_time": "2024-10-08T10:12:57.557119Z",
     "start_time": "2024-10-08T10:12:57.487556Z"
    }
   },
   "cell_type": "code",
   "source": [
    "_uri = \"../data/__test_pdfs/table-text.pdf\"\n",
    "with pdfplumber.open(_uri) as pdf:\n",
    "    print(\"PAGE # 1\")\n",
    "    text = pdf.pages[0].extract_text()\n",
    "    print(text)"
   ],
   "id": "940782426c0bc95d",
   "outputs": [
    {
     "name": "stdout",
     "output_type": "stream",
     "text": [
      "PAGE # 1\n",
      "FLOATING HOLIDAYS - 2024\n",
      "Holiday Date\n",
      "MLK Day 15- Jan\n",
      "Superbowl Monday 12 - Feb\n",
      "President’s Day 19 - Feb\n",
      "St. Patrick’s Day 17-March\n",
      "Good Friday 29 March\n",
      "Easter Monday 1- April\n",
      "Juneteenth Day 19 - June\n",
      "Columbus Day 14 - Oct\n",
      "Election Day 5 - Nov\n",
      "Thanksgiving Friday 29 - Nov\n",
      "Christmas Eve 24 - Dec\n",
      "New Year’s Eve 31 - Dec\n",
      "Your Birthday\n",
      "The anniversary of your hire date\n",
      "***PLEASE NOTE – Your FLOATING\n",
      "HOLIDAY renews on JANUARY 1ST,\n",
      "NOT your ANNIVERSARY DATE\n"
     ]
    }
   ],
   "execution_count": 13
  },
  {
   "metadata": {
    "ExecuteTime": {
     "end_time": "2024-10-08T10:13:16.325130Z",
     "start_time": "2024-10-08T10:13:16.196353Z"
    }
   },
   "cell_type": "code",
   "source": [
    "with pdfplumber.open(_uri) as pdf:\n",
    "    print(\"PAGE # 1\")\n",
    "    table = pdf.pages[0].extract_table()\n",
    "    print(table)"
   ],
   "id": "e673aa914cdffa0a",
   "outputs": [
    {
     "name": "stdout",
     "output_type": "stream",
     "text": [
      "PAGE # 1\n",
      "[['Holiday', 'Date'], ['MLK Day', '15- Jan'], ['Superbowl Monday', '12 - Feb'], ['President’s Day', '19 - Feb'], ['St. Patrick’s Day', '17-March'], ['Good Friday', '29 March'], ['Easter Monday', '1- April'], ['Juneteenth Day', '19 - June'], ['Columbus Day', '14 - Oct'], ['Election Day', '5 - Nov'], ['Thanksgiving Friday', '29 - Nov'], ['Christmas Eve', '24 - Dec'], ['New Year’s Eve', '31 - Dec'], ['Your Birthday', ''], ['The anniversary of your hire date', '']]\n"
     ]
    }
   ],
   "execution_count": 14
  },
  {
   "metadata": {},
   "cell_type": "markdown",
   "source": "# Test complex text PDFs",
   "id": "f11077a3087d768f"
  },
  {
   "metadata": {
    "ExecuteTime": {
     "end_time": "2024-10-08T10:33:03.740889Z",
     "start_time": "2024-10-08T10:33:03.737379Z"
    }
   },
   "cell_type": "code",
   "source": "_uri = \"../data/__test_pdfs/complex_text.pdf\"",
   "id": "883083cb22553b06",
   "outputs": [],
   "execution_count": 16
  },
  {
   "metadata": {
    "ExecuteTime": {
     "end_time": "2024-10-08T10:33:39.701698Z",
     "start_time": "2024-10-08T10:33:39.644303Z"
    }
   },
   "cell_type": "code",
   "source": [
    "page_no = 1\n",
    "task = \"EXTRACT TEXT\"\n",
    "with pdfplumber.open(_uri) as pdf:\n",
    "    \n",
    "    print(f\"task: {task}\\nPAGE # {page_no}\\n***\\n\\n\")\n",
    "    text = pdf.pages[page_no - 1].extract_text()\n",
    "    print(text)"
   ],
   "id": "ca112fe110a5e13f",
   "outputs": [
    {
     "name": "stdout",
     "output_type": "stream",
     "text": [
      "task: EXTRACT TEXT\n",
      "PAGE # 1\n",
      "***\n",
      "\n",
      "\n",
      "Yates Industries, Inc.\n",
      "EMPLOYEE HANDBOOK\n",
      "Rev 12/1/2023 1\n"
     ]
    }
   ],
   "execution_count": 19
  },
  {
   "metadata": {
    "ExecuteTime": {
     "end_time": "2024-10-08T10:33:55.815860Z",
     "start_time": "2024-10-08T10:33:55.744846Z"
    }
   },
   "cell_type": "code",
   "source": [
    "page_no = 2\n",
    "task = \"EXTRACT TEXT\"\n",
    "with pdfplumber.open(_uri) as pdf:\n",
    "    \n",
    "    print(f\"task: {task}\\nPAGE # {page_no}\\n***\\n\\n\")\n",
    "    text = pdf.pages[page_no - 1].extract_text()\n",
    "    print(text)"
   ],
   "id": "961de705c037e56b",
   "outputs": [
    {
     "name": "stdout",
     "output_type": "stream",
     "text": [
      "task: EXTRACT TEXT\n",
      "PAGE # 2\n",
      "***\n",
      "\n",
      "\n",
      "THIS EMPLOYEE HANDBOOK IS NOT INTENDED NOR DOES IT SERVE AS A\n",
      "CONTRACT OF EMPLOYMENT -- EXPRESS OR IMPLIED.\n",
      "This employee handbook is strictly for informational and guidance purposes in those areas of\n",
      "employment relations covered within it. The information in this handbook reflects the policies,\n",
      "procedures and benefits in effect at the date this handbook is issued. MANAGEMENT OF YATES\n",
      "INDUSTRIES, INC. RESERVES THE RIGHT TO CHANGE, DELETE, OR ADD POLICIES,\n",
      "PROCEDURES OR BENEFITS AT ANY TIME, IN ITS SOLE DISCRETION, WITH OR\n",
      "WITHOUT NOTICE.\n",
      "Rev 12/1/2023 2\n"
     ]
    }
   ],
   "execution_count": 20
  },
  {
   "metadata": {
    "ExecuteTime": {
     "end_time": "2024-10-08T10:34:03.248831Z",
     "start_time": "2024-10-08T10:34:03.136516Z"
    }
   },
   "cell_type": "code",
   "source": [
    "page_no = 3\n",
    "task = \"EXTRACT TEXT\"\n",
    "with pdfplumber.open(_uri) as pdf:\n",
    "    \n",
    "    print(f\"task: {task}\\nPAGE # {page_no}\\n***\\n\\n\")\n",
    "    text = pdf.pages[page_no - 1].extract_text()\n",
    "    print(text)"
   ],
   "id": "3e3d11d10fbaf4c9",
   "outputs": [
    {
     "name": "stdout",
     "output_type": "stream",
     "text": [
      "task: EXTRACT TEXT\n",
      "PAGE # 3\n",
      "***\n",
      "\n",
      "\n",
      "TABLE OF CONTENTS\n",
      "PAGE\n",
      "I. GENERAL INFORMATION 5\n",
      "(cid:120) Applicability of Handbook 6\n",
      "(cid:120) Reservation of Rights 6\n",
      "(cid:120) Exclusive Policy Statement 6\n",
      "(cid:120) Standard of Employment 6\n",
      "(cid:120) Employment Eligibility Verification 6\n",
      "(cid:120) Equal Employment Opportunity/Affirmative Action Policy 7\n",
      "(cid:120) Need for Accommodation 7\n",
      "(cid:120) Non-Discrimination and Anti-Harassment Policy 8\n",
      "(cid:120) Diversity Policy 11\n",
      "(cid:120) Complaint Policy 11\n",
      "(cid:120) Pregnant Workers Fairness Act (PWFA) 12\n",
      "(cid:120) Lactation Accommodation 13\n",
      "(cid:120) Genetic Information Non-Discrimination 13\n",
      "(cid:120) Michigan Right to Know Law 14\n",
      "(cid:120) Whistleblower 14\n",
      "II. PERSONNEL POLICIES 15\n",
      "(cid:120) Keeping Us Informed 16\n",
      "(cid:120) Access to Personnel Records 16\n",
      "(cid:120) Resignations 16\n",
      "(cid:120) Exit Interviews 17\n",
      "(cid:120) Inquiries Regarding Employees 17\n",
      "(cid:120) Performance Review Policy 17\n",
      "(cid:120) Social Security Number Privacy Policy 18\n",
      "(cid:120) Privacy Policy Disposal/Shredding of Sensitive Data 18\n",
      "(cid:120) Disciplinary Policy 18\n",
      "(cid:120) Coronavirus Action Plan 20\n",
      "III. WORK RULES 21\n",
      "(cid:120) Attendance Policy 22\n",
      "(cid:120) Honesty 22\n",
      "(cid:120) Personal Conduct 23\n",
      "(cid:120) Confidentiality 23\n",
      "(cid:120) Conflict of Interest 23\n",
      "(cid:120) Drug and Alcohol Policy 23\n",
      "(cid:120) Smoking/Tobacco Policy 27\n",
      "(cid:120) Company Property 27\n",
      "(cid:120) Personal Property 27\n",
      "(cid:120) Personal Use of Company Property 27\n",
      "(cid:120) Bulletin Boards 28\n",
      "(cid:120) Personal Telephone Calls 28\n",
      "(cid:120) Information Technology Policy 28\n",
      "Rev 12/1/2023 3\n"
     ]
    }
   ],
   "execution_count": 21
  },
  {
   "metadata": {
    "ExecuteTime": {
     "end_time": "2024-10-08T10:34:40.214942Z",
     "start_time": "2024-10-08T10:34:40.110725Z"
    }
   },
   "cell_type": "code",
   "source": [
    "page_no = 3\n",
    "task = \"EXTRACT TABLE\"\n",
    "with pdfplumber.open(_uri) as pdf:\n",
    "    \n",
    "    print(f\"task: {task}\\nPAGE # {page_no}\\n***\\n\\n\")\n",
    "    text = pdf.pages[page_no - 1].extract_table()\n",
    "    print(text)"
   ],
   "id": "e6a230369e3432f8",
   "outputs": [
    {
     "name": "stdout",
     "output_type": "stream",
     "text": [
      "task: EXTRACT TABLE\n",
      "PAGE # 3\n",
      "***\n",
      "\n",
      "\n",
      "None\n"
     ]
    }
   ],
   "execution_count": 23
  },
  {
   "metadata": {
    "ExecuteTime": {
     "end_time": "2024-10-08T10:35:32.122102Z",
     "start_time": "2024-10-08T10:35:32.000378Z"
    }
   },
   "cell_type": "code",
   "source": [
    "page_no = 60\n",
    "task = \"EXTRACT TEXT\"\n",
    "with pdfplumber.open(_uri) as pdf:\n",
    "    \n",
    "    print(f\"task: {task}\\nPAGE # {page_no}\\n***\\n\\n\")\n",
    "    text = pdf.pages[page_no - 1].extract_text()\n",
    "    print(text)"
   ],
   "id": "a7dac80dba6ceb07",
   "outputs": [
    {
     "name": "stdout",
     "output_type": "stream",
     "text": [
      "task: EXTRACT TEXT\n",
      "PAGE # 60\n",
      "***\n",
      "\n",
      "\n",
      "OTHER INFORMATION (Informational purposes only)\n",
      "EMPLOYEE ASSISTANCE PROGRAM https://wl.lifecare.com/home (855)547-8508\n",
      "ASSISTANCE / SERVICES\n",
      "United Way (Southeast MI) www.unitedwaysem.org (800)552-1183\n",
      "United Way (AL) www.uwnwal.org (256)764-5892\n",
      "United Way (GA) www.unitedwaynega.org (404)527-7200\n",
      "United Way (OH) www.unitedway.org\n",
      "National Helpline /SAMHSA www.samhsa.gov (800) 662-4357\n",
      "ALCOHOL/DRUG ABUSE\n",
      "Alcoholics Anonymous www.aa.org\n",
      "Narcotics Anonymous www.na.org\n",
      "CHILDREN’S SERVICES\n",
      "Children’s Protective Services (MI) www.michigan.gov/mdhhs (855) 444-3911\n",
      "Children’s Protective Services (AL) dhr.alabama.gov (334) 242-1310\n",
      "Children’s Protective Services (GA) dfcs.georgia.gov (404) 657-3433\n",
      "Children’s Protective Services (OH) www.jfs.ohio.gov (855) 642-4453\n",
      "CRISIS/SUICIDE PREVENTION (24 hours)\n",
      "Suicide Prevention Services (MI) www.michigan.gov/mdhhs (800) 273-8255\n",
      "Suicide Crisis Services (AL) www.alabamapublichealth.gov/suicide (800) 273-8255\n",
      "Georgia Crisis Services (GA) www.dbhdd.georgia.gov/bh-prevention (800) 273-8255\n",
      "Ohio Crisis Services (OH) www.ohiospf.org (800) 273-8255\n",
      "CENTER FOR DISEASE CONTROL www.cdc.gov (800) 232-4636\n",
      "DOMESTIC VIOLENCE SHELTERS/INFORMATION (24 hours)\n",
      "National Domestic Violence Helpline www.thehotline.org (800) 799-7233\n",
      "Wayne County-MI (First Step) www.firststep-mi.org (734) 722-6800\n",
      "Oakland County-MI (Haven) www.haven-oakland.org (877) 922-1274\n",
      "Macomb County-MI (Turning Point www.turningpointmacomb.org (586) 463-6990\n",
      "Domestic Violence Help (AL) www.acf.hhs.gov/fysb (334) 832-4842\n",
      "Domestic Violence Help (GA) www.gcadv.org (800) 334-2836\n",
      "Domestic Violence Help (OH) www.odvn.org (800) 934-9840\n",
      "POISON CONTROL (24 hours) www.aapcc.org (800) 222-1222\n",
      "RESOURCES\n",
      "Social Security www.ssa.gov (800) 772-1213\n",
      "Identity Theft www.hhs.gov (877) 438-4338\n",
      "Medicare Information Hotline www.medicare.gov (800) 633-4227\n",
      "*for informational purposes only; the Company does not endorse any of the above resources.\n",
      "Open.15854.24978.29633393-1\n",
      "Rev 12/1/2023 60\n"
     ]
    }
   ],
   "execution_count": 24
  },
  {
   "metadata": {
    "ExecuteTime": {
     "end_time": "2024-10-08T10:35:47.297181Z",
     "start_time": "2024-10-08T10:35:47.123305Z"
    }
   },
   "cell_type": "code",
   "source": [
    "page_no = 60\n",
    "task = \"EXTRACT TABLE\"\n",
    "with pdfplumber.open(_uri) as pdf:\n",
    "    \n",
    "    print(f\"task: {task}\\nPAGE # {page_no}\\n***\\n\\n\")\n",
    "    text = pdf.pages[page_no - 1].extract_table()\n",
    "    print(text)"
   ],
   "id": "508a8ca7eeec4966",
   "outputs": [
    {
     "name": "stdout",
     "output_type": "stream",
     "text": [
      "task: EXTRACT TABLE\n",
      "PAGE # 60\n",
      "***\n",
      "\n",
      "\n",
      "None\n"
     ]
    }
   ],
   "execution_count": 25
  },
  {
   "metadata": {},
   "cell_type": "markdown",
   "source": "# Test complex_text-tables-images PDFs",
   "id": "bac432bb053e0210"
  },
  {
   "metadata": {
    "ExecuteTime": {
     "end_time": "2024-10-08T10:39:19.591054Z",
     "start_time": "2024-10-08T10:39:19.587660Z"
    }
   },
   "cell_type": "code",
   "source": "_uri = \"../data/__test_pdfs/complex_text-tables-images.pdf\"",
   "id": "664b3551b490be4d",
   "outputs": [],
   "execution_count": 29
  },
  {
   "metadata": {
    "ExecuteTime": {
     "end_time": "2024-10-08T10:39:20.717745Z",
     "start_time": "2024-10-08T10:39:20.538540Z"
    }
   },
   "cell_type": "code",
   "source": [
    "page_no = 1\n",
    "task = \"EXTRACT TEXT\"\n",
    "with pdfplumber.open(_uri) as pdf:\n",
    "    \n",
    "    print(f\"task: {task}\\nPAGE # {page_no}\\n***\\n\\n\")\n",
    "    text = pdf.pages[page_no - 1].extract_text()\n",
    "    print(text)"
   ],
   "id": "aaa52656c725e9e9",
   "outputs": [
    {
     "name": "stdout",
     "output_type": "stream",
     "text": [
      "task: EXTRACT TEXT\n",
      "PAGE # 1\n",
      "***\n",
      "\n",
      "\n",
      "Keeping American Industry Moving\n",
      "One Cylinder at a Time\n",
      "Your Cylinder Source\n",
      "®\n",
      "Quality Cylinders: Pneumatic & Hydraulic\n"
     ]
    }
   ],
   "execution_count": 30
  },
  {
   "metadata": {
    "ExecuteTime": {
     "end_time": "2024-10-08T10:39:22.132475Z",
     "start_time": "2024-10-08T10:39:21.863047Z"
    }
   },
   "cell_type": "code",
   "source": [
    "page_no = 2\n",
    "task = \"EXTRACT TEXT\"\n",
    "with pdfplumber.open(_uri) as pdf:\n",
    "    \n",
    "    print(f\"task: {task}\\nPAGE # {page_no}\\n***\\n\\n\")\n",
    "    text = pdf.pages[page_no - 1].extract_text()\n",
    "    print(text)"
   ],
   "id": "ace97f59d81328fc",
   "outputs": [
    {
     "name": "stdout",
     "output_type": "stream",
     "text": [
      "task: EXTRACT TEXT\n",
      "PAGE # 2\n",
      "***\n",
      "\n",
      "\n",
      "HISTORY OF YATES INDUSTRIES\n",
      "1972 HQ 1985 HQ 1998 Current HQ\n",
      "2007 Alabama Division (recently relocated) 2013 HQ Expansion\n",
      "Newly Constructed Alabama Division, New Georgia Location\n",
      "May 2013\n",
      "HISTORY OF YATES INDUSTRIES\n",
      "Since our modest beginnings in 1972 as a fluid power products distributor founded by William H. Yates II, Yates\n",
      "Industries has built a reputation for excellence and economy in comprehensive cylinder manufacturing. When William\n",
      "H. Yates III took over the business in 1993, his innovative vision of becoming the leading cylinder manufacturer and\n",
      "repair facility in the U.S. was soon realized. By 1998 the growing demand for Yates quality products and services\n",
      "moved Yates Industries into a state of the art 100,000+ sq. ft. manufacturing facility in St. Clair Shores, Michigan.\n",
      "In 2007, further demand prompted Yates Industries to open an additional 45,000 sq. ft. facility in Decatur Alabama,\n",
      "known as the Yates Alabama Division.\n",
      "With a growing reputation for superior service and support, Yates recently opened our newest operations in 2014\n",
      "in Austell, Georgia. Adding Georgia to our Michigan and Alabama facilities enables greater capacity for our welded\n",
      "cylinder lines, provides faster turnaround times and increases our service area throughout the Southern US, nationally\n",
      "and internationally. Yates is now one of the largest and most complete cylinder manufacturing companies in the\n",
      "country with three facilities manufacturing pneumatic and hydraulic cylinders, as well as a variety of other fluid power\n",
      "related components.\n",
      "CUSTOMER SERVICE\n",
      "Yates Industries began with the goal of providing exceptional products with superior customer service. 42+ years later,\n",
      "we have exceeded those goals and have earned the reputation for delivering a superior product that not only lasts, but\n",
      "also surpasses its expectations. At Yates Industries, we strive to utilize our reliable fleet of local service vehicles to\n",
      "deliver and pick up your product on time, every time. Yates combines efficient manufacturing with an engaging staff who\n",
      "is devoted to service your request 24 hours a day, 7 days a week. Through our dependable and affordable products and\n",
      "a passionate service staff, we guarantee that when you think quality hydraulic cylinders, you think Yates Industries.\n",
      "MI 586.778.7680\n",
      "HHIISSTTOORRYY AL 256.351.8081\n",
      "GA 678.355.2240\n",
      "Rev. 2016\n"
     ]
    }
   ],
   "execution_count": 31
  },
  {
   "metadata": {
    "ExecuteTime": {
     "end_time": "2024-10-08T10:40:06.573765Z",
     "start_time": "2024-10-08T10:40:06.359839Z"
    }
   },
   "cell_type": "code",
   "source": [
    "page_no = 2\n",
    "task = \"EXTRACT TABLE\"\n",
    "with pdfplumber.open(_uri) as pdf:\n",
    "    \n",
    "    print(f\"task: {task}\\nPAGE # {page_no}\\n***\\n\\n\")\n",
    "    text = pdf.pages[page_no - 1].extract_table()\n",
    "    print(text)"
   ],
   "id": "105645f7b671fe10",
   "outputs": [
    {
     "name": "stdout",
     "output_type": "stream",
     "text": [
      "task: EXTRACT TABLE\n",
      "PAGE # 2\n",
      "***\n",
      "\n",
      "\n",
      "[['1972 HQ', '1985 HQ', '1998 Current HQ']]\n"
     ]
    }
   ],
   "execution_count": 33
  },
  {
   "metadata": {
    "ExecuteTime": {
     "end_time": "2024-10-08T10:41:15.683864Z",
     "start_time": "2024-10-08T10:41:15.287947Z"
    }
   },
   "cell_type": "code",
   "source": [
    "page_no = 4\n",
    "task = \"EXTRACT TEXT\"\n",
    "with pdfplumber.open(_uri) as pdf:\n",
    "    \n",
    "    print(f\"task: {task}\\nPAGE # {page_no}\\n***\\n\\n\")\n",
    "    text = pdf.pages[page_no - 1].extract_text()\n",
    "    print(text)"
   ],
   "id": "faf162a18d81eab9",
   "outputs": [
    {
     "name": "stdout",
     "output_type": "stream",
     "text": [
      "task: EXTRACT TEXT\n",
      "PAGE # 4\n",
      "***\n",
      "\n",
      "\n",
      "MI 586.778.7680\n",
      "YOUR CYLINDER SOURCE™ AL 256.351.8081\n",
      "GA 678.355.2240\n",
      "4\n",
      "6H\n",
      "seireS\n",
      "seireS\n",
      "2H/2A\n",
      "seireS\n",
      "PM/HM\n",
      "seireS\n",
      "seireS\n",
      "/\n",
      "slaicepS\n",
      "dna\n",
      "riapeR\n",
      "4L/4H/4A\n",
      "PW/MW/HW/SW\n",
      "gnireenignE\n",
      "ecnanetniaM\n",
      "TABLE OF CONTENTS:\n",
      "Series “H6” hydraulic heavy duty .......................................................................................................................5\n",
      "H6 features ....................................................................................................................................................6\n",
      "H6 mounting styles .........................................................................................................................................7\n",
      "H6 pressure rating, retainer information, and large bore tie rod information .........................................................8\n",
      "H6 how to order information ............................................................................................................................9\n",
      "H6 mounting dimensions ...........................................................................................................................10-35\n",
      "H6 optional rod end styles .............................................................................................................................36\n",
      "H6 mounting accessories ..........................................................................................................................37-39\n",
      "Series “A4/H4/L4” pneumatic heavy duty/hydraulic medium duty/pneumatic permanently lubricated ......................41\n",
      "A4/H4/L4 features ........................................................................................................................................42\n",
      "A4/H4/L4 mounting styles .............................................................................................................................43\n",
      "A4/H4/L4 pressure rating, retainer information, and large bore tie rod information .............................................44\n",
      "A4/H4/L4 how to order information ................................................................................................................45\n",
      "A4/H4/L4 mounting dimensions .................................................................................................................46-75\n",
      "A4/H4/L4 optional rod end styles ...................................................................................................................76\n",
      "A4/H4/L4 mounting accessories ................................................................................................................77-79\n",
      "Series “A2/H2” aluminum air service/ light duty hydraulic ..................................................................................81\n",
      "A2/H2 features .............................................................................................................................................82\n",
      "A2/H2 mounting styles ..................................................................................................................................83\n",
      "A2/H2 pressure rating, retainer information, and large bore tie rod information ..................................................84\n",
      "A2/H2 how to order information .....................................................................................................................85\n",
      "A2/H2 mounting dimensions ....................................................................................................................86-102\n",
      "A2/H2 optional rod end styles ......................................................................................................................103\n",
      "A2/H2 mounting accessories .................................................................................................................104-106\n",
      "Series “MH/MP” heavy duty hydraulic / pneumatic heavy duty .........................................................................109\n",
      "MH/MP features ........................................................................................................................................110\n",
      "MH/MP how to order information .................................................................................................................111\n",
      "MH/MP mounting dimensions ...............................................................................................................112-115\n",
      "MH/MP optional rod end styles ...................................................................................................................116\n",
      "MH/MP mounting accessories ...............................................................................................................117-119\n",
      "Mill duty custom order form .........................................................................................................................120\n",
      "Series “WS/WH/WM/WP” severe duty hyd/heavy duty hyd/medium duty hyd/pneumatic heavy duty. ...................123\n",
      "WS/WH/WM/WP features ...................................................................................................................124-126\n",
      "WS/WH/WM/WP how to order information ..................................................................................................127\n",
      "WS/WH/WM/WP mounting dimensions ................................................................................................128-139\n",
      "WS/WH/WM/WP optional rod end styles .....................................................................................................140\n",
      "WS/WH/WM/WP mounting accessories ................................................................................................141-143\n",
      "Welded style custom order form ..................................................................................................................144\n",
      "Specials/Engineering Data ............................................................................................................................147\n",
      "Selecting the cylinder ............................................................................................................................148-149\n",
      "Stop tube and rod diameter selection ............................................................................................................149\n",
      "Mounting considerations and types of cylinders .......................................................................................150-151\n",
      "Adjustable stroke cylinders ...........................................................................................................................152\n",
      "Proximity switch information .........................................................................................................................153\n",
      "Reed and hall effect switch information ..................................................................................................154-155\n",
      "Linear displacement transducer information ............................................................................................156-157\n",
      "Yates air oil tanks .................................................................................................................................158-159\n",
      "Cylinder rod boot and ordering information .............................................................................................160-161\n",
      "Common rod gland configurations .................................................................................................................162\n",
      "Cylinder sealing options/ piston configuration .................................................................................................163\n",
      "Corrosive resistant cylinder options ..............................................................................................................164\n",
      "Yates YRL series rod locks ....................................................................................................................165-166\n",
      "Yates Industries repair and maintenance information ...............................................................................169-178\n",
      "Yates Industries terms and conditions ....................................................................................................179-181\n"
     ]
    }
   ],
   "execution_count": 34
  },
  {
   "metadata": {
    "ExecuteTime": {
     "end_time": "2024-10-08T10:41:31.362811Z",
     "start_time": "2024-10-08T10:41:30.985852Z"
    }
   },
   "cell_type": "code",
   "source": [
    "page_no = 4\n",
    "task = \"EXTRACT TABLE\"\n",
    "with pdfplumber.open(_uri) as pdf:\n",
    "    \n",
    "    print(f\"task: {task}\\nPAGE # {page_no}\\n***\\n\\n\")\n",
    "    text = pdf.pages[page_no - 1].extract_table()\n",
    "    print(text)"
   ],
   "id": "8c61b160cdaa01ef",
   "outputs": [
    {
     "name": "stdout",
     "output_type": "stream",
     "text": [
      "task: EXTRACT TABLE\n",
      "PAGE # 4\n",
      "***\n",
      "\n",
      "\n",
      "None\n"
     ]
    }
   ],
   "execution_count": 35
  },
  {
   "metadata": {
    "ExecuteTime": {
     "end_time": "2024-10-08T10:42:09.419630Z",
     "start_time": "2024-10-08T10:42:09.193134Z"
    }
   },
   "cell_type": "code",
   "source": [
    "page_no = 6\n",
    "task = \"EXTRACT TEXT\"\n",
    "with pdfplumber.open(_uri) as pdf:\n",
    "    \n",
    "    print(f\"task: {task}\\nPAGE # {page_no}\\n***\\n\\n\")\n",
    "    text = pdf.pages[page_no - 1].extract_text()\n",
    "    print(text)"
   ],
   "id": "8e2001e343749abc",
   "outputs": [
    {
     "name": "stdout",
     "output_type": "stream",
     "text": [
      "task: EXTRACT TEXT\n",
      "PAGE # 6\n",
      "***\n",
      "\n",
      "\n",
      "MI 586.778.7680\n",
      "SERIES H6 FEATURES AL 256.351.8081\n",
      "GA 678.355.2240\n",
      "6\n",
      "6H\n",
      "seireS\n",
      "H6 FEATURES\n",
      "1\n",
      "6\n",
      "10\n",
      "4\n",
      "9 3\n",
      "12 12 5 13\n",
      "7 7 11\n",
      "8 2 8\n",
      "1. HEAD/CAP- Precision machined steel head and cap 8. CUSHION NEEDLE ADJUSTMENT AND BALL CHECK-\n",
      "provide close concentricity and accurate alignment Flush mounted captive cushion adjustment allows for\n",
      "between piston, tube, piston rod and rod bearing. safe cushion adjustment under pressure. Special tip\n",
      "2. CYLINDER BARREL- Damage resistant, heavy wall steel design and fine threads allow for precise adjustment\n",
      "tubing, honed to an 8 to 16 micro finish for low frictional over a broad range of operations. Cushion ball check\n",
      "drag and maximum seal and piston bearing life. allows for fast break-away under full power.\n",
      "®\n",
      "3. ROD CARTRIDGE- Extra long, high strength bronze 9. TUBE END SEALS- Extrusion resistant Teflon\n",
      "gland provides maximum bearing support and wear material is compatible with virtually all fluids and can\n",
      "resistance. With certain exceptions, a removable operate in temperatures to 500°F.\n",
      "retainer allows for gland removal without 10. PORTS- SAE ports are standard and can be rotated\n",
      "cylinder disassembly. to any 90 degree position in relation to each other\n",
      "4. PISTON- One piece fine grained cast iron piston and the mounting. NPTF ports are optional at no\n",
      "provides maximum strength and protection extra charge.\n",
      "against shock loads. Anaerobic adhesive is used to 11. ROD SEAL- Twin lip urethane rod seal is pressure\n",
      "permanently lock and seal the piston to the rod. energized and wear-compensating for long, leak-free\n",
      "®\n",
      "5. PISTON ROD- High strength damage resistant piston service. Viton seals are optional.\n",
      "rod provides 100,000 PSI minimum yield material 12. PISTON SEALS- Pressure energized nitrile U-cups with\n",
      "in 5/8” through 4 1/2” diameters. Larger diameters back-up rings are standard. Step cut cast iron rings\n",
      "®\n",
      "vary between 50,000 and 75,000 PSI minimum yield and Viton seals are optional.\n",
      "material. All rods are case hardened to 50-55 RC and 13. ROD WIPER- Nitrile double lip rod wiper acts as a\n",
      "hard chrome plated to provide maximum wear life. secondary seal while keeping out dirt, dust and other\n",
      "®\n",
      "Stainless steel is also available. contaminants. Optional Viton wiper is available for\n",
      "6. TIE RODS- 100,000 to 125,000 PSI minimum yield fluid compatibility or temperatures to 400°F. Metallic\n",
      "steel, pre-stressed for fatigue resistance, and roll scrapers and low friction wipers are\n",
      "threaded for added strength. also available.\n",
      "7. CUSHIONS- Head cushion sleeve and rear cushion\n",
      "spear are machined to close tolerances to\n",
      "provide a gradual deceleration and reduced shock\n",
      "at end of stroke.\n"
     ]
    }
   ],
   "execution_count": 36
  },
  {
   "metadata": {
    "ExecuteTime": {
     "end_time": "2024-10-08T10:43:10.471216Z",
     "start_time": "2024-10-08T10:43:10.187852Z"
    }
   },
   "cell_type": "code",
   "source": [
    "page_no = 6\n",
    "task = \"EXTRACT TABLE\"\n",
    "with pdfplumber.open(_uri) as pdf:\n",
    "    \n",
    "    print(f\"task: {task}\\nPAGE # {page_no}\\n***\\n\\n\")\n",
    "    text = pdf.pages[page_no - 1].extract_table()\n",
    "    print(text)"
   ],
   "id": "98a61aaff1657acc",
   "outputs": [
    {
     "name": "stdout",
     "output_type": "stream",
     "text": [
      "task: EXTRACT TABLE\n",
      "PAGE # 6\n",
      "***\n",
      "\n",
      "\n",
      "None\n"
     ]
    }
   ],
   "execution_count": 37
  },
  {
   "metadata": {
    "ExecuteTime": {
     "end_time": "2024-10-08T10:43:23.576357Z",
     "start_time": "2024-10-08T10:43:20.988270Z"
    }
   },
   "cell_type": "code",
   "source": [
    "page_no = 7\n",
    "task = \"EXTRACT TABLE\"\n",
    "with pdfplumber.open(_uri) as pdf:\n",
    "    \n",
    "    print(f\"task: {task}\\nPAGE # {page_no}\\n***\\n\\n\")\n",
    "    table = pdf.pages[page_no - 1].extract_table()\n",
    "    print(table)"
   ],
   "id": "e72a25d8852bf527",
   "outputs": [
    {
     "name": "stdout",
     "output_type": "stream",
     "text": [
      "task: EXTRACT TABLE\n",
      "PAGE # 7\n",
      "***\n",
      "\n",
      "\n",
      "[['STYLE F PAGE 24-25\\nNFPA-MF1\\nHEAD RECTANGULAR FLANGE\\n1 1/2-8\" BORE', 'STYLE R PAGE 24-25\\nNFPA-MF2\\nCAP RECTANGULAR FLANGE\\n1 1/2-8\" BORE', 'STYLE G PAGE 26-27\\nNFPA-ME5\\nHEAD\\nRECTANGULAR INTEGRAL FLANGE\\n1 1/2-14\" BORE', 'STYLE P PAGE 26-27\\nNFPA-ME6\\nCAP\\nRECTANGULAR INTEGRAL FLANGE\\n1 1/2-14\" BORE'], ['STYLE J PAGE 24-25\\nNFPA-MF5\\nHEAD SQUARE FLANGE\\n1 1/2-8\" BORE', 'STYLE S PAGE 24-25\\nNFPA-MF6\\nCAP SQUARE FLANGE\\n1 1/2-8\" BORE', 'STYLE X PAGE 28-29\\nNFPA-ME3\\nHEAD\\nSQUARE INTEGRAL FLANGE\\n10-24\" BORE', 'STYLE Z PAGE 28-29\\nNFPA-ME4\\nCAP\\nSQUARE INTEGRAL FLANGE\\n10-24\" BORE'], ['STYLE K 30-33\\nNFPA-MX0\\nNO TIE RODS EXTENDED\\n1 1/2-24\" BORE', 'L PAGE 30-31\\nNFPA-MX1\\nBOTH ENDS TIE RODS EXTENDED\\n1 1/2-8\" BORE', 'STYLE M PAGE 30-31\\nNFPA-MX3\\nHEAD TIE RODS EXTENDED\\n1 1/2-8\" BORE', 'STYLE N PAGE 30-31\\nNFPA-MX2\\nCAP TIE RODS EXTENDED\\n1 1/2-8\" BORE']]\n"
     ]
    }
   ],
   "execution_count": 38
  },
  {
   "metadata": {
    "ExecuteTime": {
     "end_time": "2024-10-08T10:46:47.759464Z",
     "start_time": "2024-10-08T10:46:47.046329Z"
    }
   },
   "cell_type": "code",
   "source": [
    "page_no = 8\n",
    "task = \"EXTRACT TABLEs\"\n",
    "with pdfplumber.open(_uri) as pdf:\n",
    "    \n",
    "    print(f\"task: {task}\\nPAGE # {page_no}\\n***\\n\\n\")\n",
    "    tables = pdf.pages[page_no - 1].extract_tables()\n",
    "    for no, table in enumerate(tables):\n",
    "        print(f\"t_no: {no}\")\n",
    "        print(table)"
   ],
   "id": "9e468d035bef9727",
   "outputs": [
    {
     "name": "stdout",
     "output_type": "stream",
     "text": [
      "task: EXTRACT TABLEs\n",
      "PAGE # 8\n",
      "***\n",
      "\n",
      "\n",
      "t_no: 0\n",
      "[[None, 'CYLINDER BO\\n(INCHES)', 'PISTON ROD DIAMETER (INCHES)\\nRE\\nSTANDARD OVERSIZE 2:1', None, None, 'PRESSURE RATINGS (PSI)', None, 'FOR HIGHER\\nPRESSURES\\nCONSULT\\nFACTORY'], ['6H\\nseireS', None, None, 'OVERSIZE', '2:1', 'HEAVY-DUTY\\nSERVICE', '4:1 SAFETY\\nFACTOR', None], [None, '1 1/2', '5/8', '', '1', '3000 *', '2000', None], [None, '2', '1', '', '1 3/8', '3000 *', '2000', None], [None, '2 1/2', '1', '1 3/8', '1 3/4', '3000 *', '1950', None], [None, '3 1/4', '1 3/8', '1 3/4', '2', '3000 *', '2100', None], [None, '4', '1 3/4', '2', '2 1/2', '3000 *', '1900', None], [None, '5', '2', '2 1/2, 3', '3 1/2', '3000 *', '1900', None], [None, '6', '2 1/2', '3, 3 1/2', '4', '3000 *', '2000', None], [None, '7', '3', '3 1/2, 4, 4 1/2', '5', '3000 *', '1850', None], [None, '8', '3 1/2', '4, 4 1/2, 5', '5 1/2', '3000 *', '1900', None], [None, '10', '4 1/2', '5, 5 1/2', '7', '3000', '* PRESSURE FOR “F” AND “R” MOUNTS (SEE PAGE\\n25) AND “Q” MOUNTS (SEE PAGE 14) IS LOWER\\nΦ 4:1 SAFETY FACTOR BASED ON FAILURE\\nPRESSURES OF WEAKEST COMPONENT AND\\nSTANDARD ROD SIZE', None], [None, '12', '5 1/2', '7', '8', '3000', None, None], [None, '14', '7', '8, 9', '10', '3000', None, None], [None, '16', '8', '9, 10', '', '3000', None, None], [None, '18', '9', '10', '', '3000', None, None], [None, '20', '10', '', '', '3000', None, None], [None, '24', '11', '', '', '3000', None, None]]\n",
      "t_no: 1\n",
      "[[''], ['']]\n",
      "t_no: 2\n",
      "[[''], ['']]\n",
      "t_no: 3\n",
      "[['ROD DIA.', 'RB', 'RR RM', None], ['5/8', '–', '3/8', '2 3/8'], ['1', '1/4', '3/8 2 1/2', None], ['1 3/8', '5/16', '5/16', '3 7/32'], ['1 3/4', '5/16', '5/16 3 7/8', None]]\n",
      "t_no: 4\n",
      "[[''], ['']]\n",
      "t_no: 5\n",
      "[['', None, None, None, None], ['', None, None, None, None], ['', '', '', None, None], [None, None, None, '', '']]\n",
      "t_no: 6\n",
      "[['BORE', 'RA RF RC RD', None, None, None, 'TIE ROD'], ['10', '5.291', '3.775', 'NA', 'NA', '1 1/8-12'], ['12\\n14', '6.27 4.555 NA NA\\n7.485 6.143 4.409 NA', None, None, None, '1 1/4-12\\n1 1/4-12'], ['16\\n18', '8.086 6.093 NA NA\\n9.589 7.910 5.761 NA', None, None, None, '1 1/2-12\\n1 1/2-12'], ['20\\n24', '10.437 8.750 6.649 NA\\n13.589 11.722 9.158 6.050', None, None, None, '1 1/2-12\\n2-12']]\n",
      "t_no: 7\n",
      "[[''], ['']]\n"
     ]
    }
   ],
   "execution_count": 41
  },
  {
   "metadata": {
    "ExecuteTime": {
     "end_time": "2024-10-08T10:47:55.218584Z",
     "start_time": "2024-10-08T10:47:54.636221Z"
    }
   },
   "cell_type": "code",
   "source": [
    "page_no = 8\n",
    "task = \"EXTRACT TEXT\"\n",
    "with pdfplumber.open(_uri) as pdf:\n",
    "    \n",
    "    print(f\"task: {task}\\nPAGE # {page_no}\\n***\\n\\n\")\n",
    "    text = pdf.pages[page_no - 1].extract_text()\n",
    "    print(text)"
   ],
   "id": "708aace42c545e32",
   "outputs": [
    {
     "name": "stdout",
     "output_type": "stream",
     "text": [
      "task: EXTRACT TEXT\n",
      "PAGE # 8\n",
      "***\n",
      "\n",
      "\n",
      "MI 586.778.7680\n",
      "SERIES H6 • PRESSURE RATINGS AL 256.351.8081\n",
      "GA 678.355.2240\n",
      "8\n",
      "6H\n",
      "seireS\n",
      "PRESSURE RATINGS\n",
      "PISTON ROD DIAMETER (INCHES) PRESSURE RATINGS (PSI)\n",
      "CYLINDER BORE\n",
      "(INCHES) STANDARD OVERSIZE 2:1 HEAVY-DUTY 4:1 SAFETY\n",
      "SERVICE FACTOR\n",
      "1 1/2 5/8 1 3000 * 2000\n",
      "2 1 1 3/8 3000 * 2000 FOR HIGHER\n",
      "2 1/2 1 1 3/8 1 3/4 3000 * 1950 PRESSURES\n",
      "3 1/4 1 3/8 1 3/4 2 3000 * 2100 CONSULT\n",
      "4 1 3/4 2 2 1/2 3000 * 1900 FACTORY\n",
      "5 2 2 1/2, 3 3 1/2 3000 * 1900\n",
      "6 2 1/2 3, 3 1/2 4 3000 * 2000\n",
      "7 3 3 1/2, 4, 4 1/2 5 3000 * 1850\n",
      "8 3 1/2 4, 4 1/2, 5 5 1/2 3000 * 1900\n",
      "10 4 1/2 5, 5 1/2 7 3000\n",
      "12 5 1/2 7 8 3000 * PRESSURE FOR “F” AND “R” MOUNTS (SEE PAGE\n",
      "14 7 8, 9 10 3000 25) AND “Q” MOUNTS (SEE PAGE 14) IS LOWER\n",
      "16 8 9, 10 3000\n",
      "Φ 4:1 SAFETY FACTOR BASED ON FAILURE\n",
      "18 9 10 3000 PRESSURES OF WEAKEST COMPONENT AND\n",
      "20 10 3000 STANDARD ROD SIZE\n",
      "24 11 3000\n",
      "H6 RETAINER INFORMATION\n",
      "H6 cylinders with the following bore and rod combinations use circular retainers which\n",
      "permit removal of rod cartridge without disassembling cylinder:\n",
      "2 ½” bore with 1” rod\n",
      "3 ¼” bore with 1 3/8” rod\n",
      "4” thru 20” bores with all rod diameters\n",
      "H6 cylinders with the following bore and rod combinations\n",
      "use full plate retainer construction:\n",
      "1 1/2” bore with 5/8\" and 1” rods\n",
      "2” bore with 1” and 1 3/8” rods\n",
      "2 1/2\" bore with 1 3/8\" and 1 3/4\" rods\n",
      "3 1/4” bore with 1 3/4\" and 2” rods\n",
      "ROD DIA. RB RR RM\n",
      "5/8 – 3/8 2 3/8\n",
      "1 1/4 3/8 2 1/2\n",
      "1 3/8 5/16 5/16 3 7/32\n",
      "1 3/4 5/16 5/16 3 7/8\n",
      "2 5/16 5/16 4\n",
      "Note: Certain small bore cylinders have full plate retainers which means the\n",
      "RR is not applicable. Use \"F\" dimension instead of \"RR\"\n",
      "Note: 2 1/2\" and larger rod retainer rings are counter-bored so the socket head\n",
      "cap screws are not exposed.\n",
      "LARGE BORE TIE ROD INFORMATION\n",
      "On large bore cylinders, two or three tie rods are used at each corner of the 10, 12, 14, 16, 18, 20 and 24 inch\n",
      "bore sizes. This reduces flexing of head and cap under pressure.\n",
      "BORE RA RF RC RD TIE ROD\n",
      "10 5.291 3.775 NA NA 1 1/8-12\n",
      "12 6.27 4.555 NA NA 1 1/4-12\n",
      "14 7.485 6.143 4.409 NA 1 1/4-12\n",
      "16 8.086 6.093 NA NA 1 1/2-12\n",
      "18 9.589 7.910 5.761 NA 1 1/2-12\n",
      "20 10.437 8.750 6.649 NA 1 1/2-12\n",
      "24 13.589 11.722 9.158 6.050 2-12\n"
     ]
    }
   ],
   "execution_count": 42
  },
  {
   "metadata": {
    "ExecuteTime": {
     "end_time": "2024-10-08T10:48:24.547371Z",
     "start_time": "2024-10-08T10:48:24.089171Z"
    }
   },
   "cell_type": "code",
   "source": [
    "page_no = 9\n",
    "task = \"EXTRACT TABLE\"\n",
    "with pdfplumber.open(_uri) as pdf:\n",
    "    \n",
    "    print(f\"task: {task}\\nPAGE # {page_no}\\n***\\n\\n\")\n",
    "    table = pdf.pages[page_no - 1].extract_table()\n",
    "    print(table)"
   ],
   "id": "af78b071051f7a2c",
   "outputs": [
    {
     "name": "stdout",
     "output_type": "stream",
     "text": [
      "task: EXTRACT TABLE\n",
      "PAGE # 9\n",
      "***\n",
      "\n",
      "\n",
      "[['FEATURE', 'DESCRIPTION', 'PAGE #', 'SYMBOL'], ['SERIES', 'Hydraulic heavy duty', '5', 'H6'], ['MOUNTING STYLE', 'Side lugs (MS2)', '7', 'A'], [None, 'Side tapped (MS4)', '', 'B'], [None, 'Side end lugs (MS7)', '', 'E'], [None, 'Center-line lugs (MS3)', '', 'H'], [None, 'Head rectangular flange (MF1)', '', 'F'], [None, 'Cap rectangular flange (MF2)', '', 'R'], [None, 'Head square flange (MF5)', '', 'J'], [None, 'Cap square flange (MF6)', '', 'S'], [None, 'Head rectangular integral flange (ME5)', '', 'G'], [None, 'Cap rectangular integral flange (ME6)', '', 'P'], [None, 'Head square integral flange (ME3)', '', 'X'], [None, 'Cap square integral flange (ME4)', '', 'Z'], [None, 'No tie rods extended (MX0)', '', 'K'], [None, 'Both ends tie rods extended (MX1)', '', 'L'], [None, 'Head tie rods extended (MX3)', '', 'M'], [None, 'Cap tie rods extended (MX2)', '', 'N'], [None, 'Cap clevis (MP1)', '', 'C'], [None, 'Cap eye (MP3)', '', 'V'], [None, 'Spherical bearing (MPU3)', '', 'Q'], [None, 'Head trunnion (MT1)', '', 'U'], [None, 'Cap trunnion (MT2)', '', 'W'], [None, 'Intermediate fixed trunnion (MT4)', '', 'T'], ['DOUBLE ROD', 'Double rod design if needed', '34-35', 'D'], ['CUSHIONS', 'No cushions', '', 'N'], [None, 'Cushion head end only', '', 'R'], [None, 'Cushion cap end only', '', 'C'], [None, 'Cushioned both ends', '', 'B'], ['BORE SIZE', 'Specify in inches', '148-149', ''], ['PISTON SEALS', 'Nitrile u-cups (standard)', '163', 'N'], [None, 'Cast iron rings', '', 'C'], [None, 'Urethane loaded U-cup', '', 'P'], [None, 'Viton® seals', '', 'V'], [None, 'Viton® loaded U-cup', '', 'F'], [None, 'Nitrile high load seals', '', 'H'], [None, 'Viton high load seals', '', 'D'], [None, 'Other (specify)', '', 'X'], ['STROKE', 'Specify in inches with 2 place decimal', '149', ''], ['PORTS', 'SAE (standard)', '', 'S'], [None, 'NPTF', '', 'N'], [None, 'Welded coupler', '', 'W'], [None, 'If over or under sized ports / special ports', '', 'X'], ['ROD DIA.', 'Specify in inches', '148-149', ''], ['ROD SEALS', 'Twin lip hydraulic seal (standard)', '162', 'T'], [None, 'Urethane loaded U-cup', '', 'P'], [None, 'Viton® seals', '', 'V'], [None, 'Viton® loaded U-cup', '', 'F'], [None, 'Other (specify)', '', 'X'], ['ROD END', 'Standard male', '36', '2'], ['', 'Standard female', '', '4'], ['', 'Intermediate male', '', '1'], ['', 'Long female', '', '3'], ['', 'Extended standard male', '', '5'], ['', 'Extended intermediate male', '', '6'], ['', 'Plain rod end', '', '7'], ['', 'Male rod coupling', '', '9'], ['', 'Special male (specify)', '', 'M'], ['', 'Special female (specify)', '', 'F'], ['', 'Special stud (specify)', '', 'S'], ['', 'Special other (specify)', '', 'X'], ['SPECIALS AND\\nENGINEERING DATA', 'Stop tube', '149', 'S'], [None, 'Proximity switches', '', ''], [None, 'Non-standard mount', '', ''], [None, 'Stainless steel rod', '', ''], [None, 'Extra rod extension', '', ''], [None, 'Many more options available', '', ''], ['HEAD PORT', 'Specify location 1-4', '', '1-4'], ['', 'If cylinder requires multiple ports', '', 'X'], ['CAP PORT', 'Specify location 1-5', '', '1-5'], ['', 'If cylinder requires multiple ports', '', 'X']]\n"
     ]
    }
   ],
   "execution_count": 43
  },
  {
   "metadata": {
    "ExecuteTime": {
     "end_time": "2024-10-08T10:49:25.664399Z",
     "start_time": "2024-10-08T10:49:24.938010Z"
    }
   },
   "cell_type": "code",
   "source": [
    "page_no = 11\n",
    "task = \"EXTRACT TABLEs\"\n",
    "with pdfplumber.open(_uri) as pdf:\n",
    "    \n",
    "    print(f\"task: {task}\\nPAGE # {page_no}\\n***\\n\\n\")\n",
    "    tables = pdf.pages[page_no - 1].extract_tables()\n",
    "    for no, table in enumerate(tables):\n",
    "        print(f\"t_no: {no}\")\n",
    "        print(table)"
   ],
   "id": "91571f850187a832",
   "outputs": [
    {
     "name": "stdout",
     "output_type": "stream",
     "text": [
      "task: EXTRACT TABLEs\n",
      "PAGE # 11\n",
      "***\n",
      "\n",
      "\n",
      "t_no: 0\n",
      "[[None, None, '', None], ['', '', '', ''], [None, None, '', '']]\n",
      "t_no: 1\n",
      "[[None, '', None], ['', '', ''], [None, '', '']]\n",
      "t_no: 2\n",
      "[[None, None, '', None], ['', '', '', ''], [None, None, '', None]]\n",
      "t_no: 3\n",
      "[[None, '', None, None, None, None, None, None, None, None, None, None, None, None, None, None, None, None, None, None], [None, 'E EE SAE OPT. F G J K NT SB ST SU SW TN TS US', None, None, None, None, None, None, None, None, None, None, None, None, None, None, None, None, None, None], ['1 1/2', '2 1/2', '1/2', '10', '3/8', '1 3/4', '1 1/2', '3/8', '3/8-16', '7/16', '1/2', '15/16', '3/8', '3/4', '3 1/4', '4', '4 5/8', '3', '2 7/8', '3 7/8'], [None, '3 1/2 10 5/8 1 3/4 1 1/2 7/16 1/2-13 9/16 3/4 1 1/4 1/2 15/16 4 5', None, None, None, None, None, None, None, None, None, None, None, None, None, None, None, None, None, None], ['2 1/2', '3 1/2', '1/2', '10', '5/8', '1 3/4', '1 1/2', '7/16', '5/8-11', '13/16', '1 1', '9/16', '11/16', '1 5/16', '4 7/8', '6 1/4', '4 3/4', '3 1/8', '3', '3 3/8'], [None, '4 1/2 3/4 12 3/4 2 1 3/4 9/16 3/4-10 13/16 1 1 9/16 11/16 1 1/2 5 7/8 7 1/4', None, None, None, None, None, None, None, None, None, None, None, None, None, None, None, None, None, None], ['4', '5', '3/4', '12', '7/8', '2', '1 3/4', '9/16', '1-8', '1 1/16', '1 1/4', '2', '7/8', '2 1/16', '6 3/4', '8 1/2', '5 3/4', '3 7/8', '3 3/4', '4'], [None, '6 1/2 3/4 12 7/8 2 1 3/4 3/4 1-8 1 1/16 1 1/4 2 7/8 2 15/16 8 1/4 10', None, None, None, None, None, None, None, None, None, None, None, None, None, None, None, None, None, None], ['6', '7 1/2', '1', '16', '1', '2 1/4', '2 1/4', '7/8', '1 1/4-7', '1 5/16', '1 1/2', '2 1/2', '1 1/8', '3 5/16', '9 3/4', '12', '7 3/8', '5', '5 1/8', '5 1/8'], [None, '8 1/2 1 1/4 20 1 2 3/4 2 3/4 1 1 1/2-6 1 9/16 1 3/4 2 7/8 1 3/8 3 3/4 11 1/4 14', None, None, None, None, None, None, None, None, None, None, None, None, None, None, None, None, None, None], ['8', '9 1/2', '1 1/2', '24', '1', '3', '3', '1 1/16', '1 1/2-6', '1 9/16', '1 3/4', '2 7/8', '1 3/8', '4 1/4', '12 1/4', '15', '9 1/2', '6 1/4', '6 5/8', '6 3/4']]\n",
      "t_no: 4\n",
      "[[None, 'ROD DIA.', 'THREAD', None, 'ROD EXTENSIONS AND PILOT DIMENSIONS', None, None, None, None, None, None, None, None, None, None, None], [None, 'MM', 'KK CC', None, 'A B ‡ C D VF TK WF RR RM Y', None, None, None, None, None, None, None, None, None, None, None], ['1 1/2', '5/8', '7/16-20', '1/2-20', '3/4', '1 1/8', '3/8', '17/32', '5/8', '9/16', '1', '-', '§', '1 15/16', '1 3/8', '2'], ['', '1 †', '3/4-16', '7/8-14', '1 1/8', '1 1/2', '1/2', '7/8', '7/8', 'Φ', '1 3/8', '-', '§', '2 5/16', '1 3/4', '2 3/8'], [None, '1', '3/4-16 7/8-14', None, '1 1/8 1 1/2 1/2 7/8 7/8 1/2 1 3/8 - § 2 5/16', None, None, None, None, None, None, None, None, None, None, None], [None, '1 3/8 †', '1-14 1 1/4-12', None, '1 5/8 2 5/8 1 1/8 1 Φ 1 5/8 - § 2 9/16', None, None, None, None, None, None, None, None, None, None, None], ['2 1/2', '1', '3/4-16', '7/8-14', '1 1/8', '1 1/2', '1/2', '7/8', '7/8', '11/16', '1 3/8', '3/8', '2 1/2', '2 5/16', '2 1/16', '2 3/8'], ['', '1 3/8 †', '1-14', '1 1/4-12', '1 5/8', '2', '5/8', '1 1/8', '1', 'Φ', '1 5/8', '-', '§', '2 9/16', '2 5/16', '2 5/8'], ['', '1 3/4 †', '1 1/4-12', '1 1/2-12', '2', '2 3/8', '3/4', '1 1/2', '1 1/8', 'Φ', '1 7/8', '-', '§', '2 13/16', '2 9/16', '2 7/8'], [None, '1 3/8', '1-14 1 1/4-12', None, '1 5/8 2 5/8 1 1/8 1 3/4 1 5/8 5/16 3 7/32 2 11/16', None, None, None, None, None, None, None, None, None, None, None], [None, '1 3/4', '1 1/4-12 1 1/2-12', None, '2 2 3/8 3/4 1 1/2 1 1/8 3/4 1 7/8 - § 2 15/16', None, None, None, None, None, None, None, None, None, None, None], [None, '2 †', '1 1/2-12 1 3/4-12', None, '2 1/4 2 5/8 7/8 1 3/4 1 1/8 Φ 2 - § 3 1/16', None, None, None, None, None, None, None, None, None, None, None], ['4', '1 3/4', '1 1/4-12', '1 1/2-12', '2', '2 3/8', '3/4', '1 1/2', '1 1/8', '1', '1 7/8', '5/16', '3 7/8', '2 15/16', '2 3/4', '3'], ['', '2', '1 1/2-12', '1 3/4-12', '2 1/4', '2 5/8', '7/8', '1 3/4', '1 1/8', 'Φ', '2', '5/16', '4', '3 1/16', '2 7/8', '3 1/8'], ['', '2 1/2', '1 7/8-12', '2 1/4-12', '3', '3 1/8', '1', '2 1/8', '1 1/4', 'Φ', '2 1/4', '5/8', '4 7/16', '3 5/16', '3 1/8', '3 3/8'], [None, '2', '1 1/2-12 1 3/4-12', None, '2 1/4 2 5/8 7/8 1 3/4 1 1/8 1 1/8 2 5/16 4 3 1/16', None, None, None, None, None, None, None, None, None, None, None], [None, '2 1/2', '1 7/8-12 2 1/4-12', None, '3 3 1/8 1 2 1/8 1 1/4 1 1/8 2 1/4 5/8 4 7/16 3 5/16', None, None, None, None, None, None, None, None, None, None, None], [None, '3', '2 1/4-12 2 3/4-12', None, '3 1/2 3 3/4 1 2 5/8 1 1/4 1 1/8 2 1/4 3/4 5 1/4 3 5/16', None, None, None, None, None, None, None, None, None, None, None], [None, '3 1/2', '2 1/2-12 3 1/4-12', None, '3 1/2 4 1/4 1 ∆ 1 1/4 Φ 2 1/4 3/4 5 5/8 3 5/16', None, None, None, None, None, None, None, None, None, None, None], ['6', '2 1/2', '1 7/8-12', '2 1/4-12', '3', '3 1/8', '1', '2 1/8', '1 1/4', '1 5/16', '2 1/4', '5/8', '4 7/16', '3 7/16', '3 3/8', '3 1/2'], ['', '3', '2 1/4-12', '2 3/4-12', '3 1/2', '3 3/4', '1', '2 5/8', '1 1/4', '1 5/16', '2 1/4', '3/4', '5 1/4', '3 7/16', '3 3/8', '3 1/2'], ['', '3 1/2', '2 1/2-12', '3 1/4-12', '3 1/2', '4 1/4', '1', '∆', '1 1/4', '1 5/16', '2 1/4', '3/4', '5 5/8', '3 7/16', '3 3/8', '3 1/2'], ['', '4', '3-12', '3 3/4-12', '4', '4 3/4', '1', '∆', '1 1/4', 'Φ', '2 1/4', '7/8', '6 7/16', '3 7/16', '3 3/8', '3 1/2'], [None, '3', '2 1/4-12 2 3/4-12', None, '3 1/2 3 3/4 1 2 5/8 1 1/4 1 1/8 2 1/4 3/4 5 1/4 3 3/4', None, None, None, None, None, None, None, None, None, None, None], [None, '3 1/2', '2 1/2-12 3 1/4-12', None, '3 1/2 4 1/4 1 ∆ 1 1/4 1 1/8 2 1/4 3/4 5 5/8 3 3/4', None, None, None, None, None, None, None, None, None, None, None], [None, '4', '3-12 3 3/4-12', None, '4 4 3/4 1 ∆ 1 1/4 1 1/8 2 1/4 7/8 6 7/16 3 3/4', None, None, None, None, None, None, None, None, None, None, None], [None, '4 1/2', '3 1/4-12 4 1/4-12', None, '4 1/2 5 1/4 1 ∆ 1 1/4 Φ 2 1/4 7/8 7 1/8 3 3/4', None, None, None, None, None, None, None, None, None, None, None], [None, '5', '3 1/2-12 4 3/4-12', None, '5 5 3/4 1 ∆ 1 1/4 Φ 2 1/4 7/8 7 5/8 3 3/4', None, None, None, None, None, None, None, None, None, None, None], ['8', '3 1/2', '2 1/2-12', '3 1/4-12', '3 1/2', '4 1/4', '1', '∆', '1 1/4', '1 9/16', '2 1/4', '3/4', '5 5/8', '3 7/8', '3 5/8', '3 15/16'], ['', '4', '3-12', '3 3/4-12', '4', '4 3/4', '1', '∆', '1 1/4', '1 9/16', '2 1/4', '7/8', '6 7/16', '3 7/8', '3 5/8', '3 15/16'], ['', '4 1/2', '3 1/4-12', '4 1/4-12', '4 1/2', '5 1/4', '1', '∆', '1 1/4', '1 9/16', '2 1/4', '7/8', '7 1/8', '3 7/8', '3 5/8', '3 15/16'], ['', '5', '3 1/2-12', '4 3/4-12', '5', '5 3/4', '1', '∆', '1 1/4', '1 9/16', '2 1/4', '7/8', '7 5/8', '3 7/8', '3 5/8', '3 15/16'], ['', '5 1/2', '4-12', '5 1/4-12', '5 1/2', '6 1/4', '1', '∆', '1 1/4', 'Φ', '2 1/4', '7/8', '8 3/8', '3 7/8', '3 5/8', '3 15/16']]\n"
     ]
    }
   ],
   "execution_count": 44
  },
  {
   "metadata": {},
   "cell_type": "code",
   "outputs": [],
   "execution_count": null,
   "source": "",
   "id": "5caa443be9da40aa"
  },
  {
   "metadata": {
    "ExecuteTime": {
     "end_time": "2024-10-08T10:56:03.137333Z",
     "start_time": "2024-10-08T10:56:03.134210Z"
    }
   },
   "cell_type": "code",
   "source": "_uri = \"../data/__test_pdfs/complex_columns-text-tables-images.pdf\"",
   "id": "b5b665a6b2617ad3",
   "outputs": [],
   "execution_count": 45
  },
  {
   "metadata": {
    "ExecuteTime": {
     "end_time": "2024-10-08T10:56:12.989144Z",
     "start_time": "2024-10-08T10:56:12.745572Z"
    }
   },
   "cell_type": "code",
   "source": [
    "page_no = 1\n",
    "task = \"EXTRACT TEXT\"\n",
    "with pdfplumber.open(_uri) as pdf:\n",
    "    \n",
    "    print(f\"task: {task}\\nPAGE # {page_no}\\n***\\n\\n\")\n",
    "    text = pdf.pages[page_no - 1].extract_text()\n",
    "    print(text)"
   ],
   "id": "d8eb32f8365251e3",
   "outputs": [
    {
     "name": "stdout",
     "output_type": "stream",
     "text": [
      "task: EXTRACT TEXT\n",
      "PAGE # 1\n",
      "***\n",
      "\n",
      "\n",
      "Cross-Lingual Named Entity Recognition for the\n",
      "Ukrainian Language Based on Word Alignment\n",
      "Artem Kramov Sergiy Pogorilyy\n",
      "Research Department Computer Engineering Department\n",
      "One AI & Seven Pro Taras Shevchenko National University of Kyiv\n",
      "Kharkiv, Ukraine Kyiv, Ukraine\n",
      "artem@oneai.com sdp77@univ.net.ua\n",
      "Abstract— Processing of low-resource languages is one of them according to the features of the specific language. For\n",
      "the most challenging tasks in the area of natural language instance, the multilingual BERT model [5] was pre-trained\n",
      "processing. The lack of datasets makes it complex to create and on a set of texts of different languages that allow utilizing\n",
      "train corresponding models that are available for high- this model for fine-tuning according to the corresponding\n",
      "resource languages. In this paper, the possibility of the usage of task [6]. However, such an approach still requires the\n",
      "the word alignment mechanism for the performing of the availability of the training data for the low-resource language\n",
      "cross-lingual tasks has been analyzed for the low-resource or at least the availability of semantically and grammatically\n",
      "language by the example of the Ukrainian language for the\n",
      "similar language among the languages that were used during\n",
      "solving of the named entity recognition task. Different state-of-\n",
      "the training process. In order to overcome this problem, the\n",
      "the-art word alignment methods have been analyzed. The\n",
      "word alignment mechanism can be used.\n",
      "advisability of the usage of the pre-trained multilingual models\n",
      "for the word alignment of low-resource languages has been Word alignment can be considered as “the task of finding\n",
      "shown. The experimental verification of the effectiveness of the the correspondence between source and target words in a pair\n",
      "chosen word alignment method for the solving of the named of sentences that are translations of each other” [7]. Fig. 1\n",
      "entity recognition for a Ukrainian corpus has been performed demonstrates the example of the word alignment for the\n",
      "with different options. The results obtained may indicate the English and German sentences: “Word alignments task” and\n",
      "possibility of the usage of the considered word alignment\n",
      "“Aufgabe zur Wortausrichtung” correspondingly. The\n",
      "method for the solving of different sequence labeling tasks for\n",
      "German-language sentence represents the translation of the\n",
      "the Ukrainian language by performing the cross-lingual\n",
      "English one.\n",
      "mapping of the results for the target English language.\n",
      "Keywords—word alignment, cross-lingual named entity\n",
      "recognition, natural language processing, low-resource\n",
      "languages, multilingual models\n",
      "I. INTRODUCTION\n",
      "The availability of the huge amount of data, and the\n",
      "possibility to process them according to computational\n",
      "power, led the recent advances in different domains [1, 2, 3].\n",
      "Fig. 1. Example of the word alignment between English and German\n",
      "However, the lack of data for the solving of AI-related tasks\n",
      "sentences. Each arrow represents the connection between English words\n",
      "still should be considered a relevant problem, especially, in\n",
      "(blue background) and German words (green background).\n",
      "the area of natural language processing (NLP). Thus, despite\n",
      "the recent achievements in solving the different kinds of As can be seen from Fig. 1., the word “task” is aligned\n",
      "tasks for high-resource languages, the processing of low- with the word “Aufgabe”, both words “Word” and\n",
      "resource languages still remains a relevant problem in the “alignments” are connected with a single word\n",
      "area of natural language processing. A high-resource “Wortausrichtung”; the German token “zur” isn’t aligned\n",
      "language (e.g., English, Chinese) implies the availability of a with any English token at all. The availability of such\n",
      "huge amount of labeled/unlabeled corpora of the connections allows providing an ability to transfer the results\n",
      "corresponding language that allow training models in a retrieved for the target language (e.g., the English language)\n",
      "supervised or unsupervised manner for the solving of NLP to the source-language text by mapping the corresponding\n",
      "tasks. The NLP problems for these languages are mostly words. In the case of low-resource languages, such a\n",
      "well-studied, and the corresponding different software tools technique may help transfer the generated output markup of\n",
      "are presented as well. In contrast, low-resource languages the high-resource language text to the low-resource language\n",
      "can be considered as less studied, less commonly taught, and text according to the considered task without using any\n",
      "less privileged [4]. Namely, the main problem consists in the additional training data (zero-shot cross-lingual transferring\n",
      "lack of data for these languages, especially for tasks that [8]).\n",
      "require the previous labeling of a dataset by experts (e.g.,\n",
      "The Ukrainian language falls into the category of low-\n",
      "named entity recognition, coreference resolution, etc.). In\n",
      "resource languages. Namely, the lack of labeled corpora still\n",
      "order to overcome this problem, different approaches can be\n",
      "remains the main issue for solving the variety of NLP tasks\n",
      "used.\n",
      "[9, 10]. Taking into account the recent advances in\n",
      "Multilingual training implies the usage of the training performing the neural machine translation for low-resource\n",
      "data of several languages simultaneously, thus, adjusting the languages [11], the usage of the word alignment looks like a\n",
      "model to share common knowledge between different promising direction for the Ukrainian language. The key\n",
      "languages while performing a corresponding bias to each of problem consists in the absence of the dataset for the word\n"
     ]
    }
   ],
   "execution_count": 46
  },
  {
   "metadata": {
    "ExecuteTime": {
     "end_time": "2024-10-08T10:57:31.384985Z",
     "start_time": "2024-10-08T10:57:31.078686Z"
    }
   },
   "cell_type": "code",
   "source": [
    "page_no = 2\n",
    "task = \"EXTRACT TEXT\"\n",
    "with pdfplumber.open(_uri) as pdf:\n",
    "    \n",
    "    print(f\"task: {task}\\nPAGE # {page_no}\\n***\\n\\n\")\n",
    "    text = pdf.pages[page_no - 1].extract_text()\n",
    "    print(text)"
   ],
   "id": "bbc997d7969fa144",
   "outputs": [
    {
     "name": "stdout",
     "output_type": "stream",
     "text": [
      "task: EXTRACT TEXT\n",
      "PAGE # 2\n",
      "***\n",
      "\n",
      "\n",
      "alignment task itself: the number of available language pairs\n",
      "is limited due to the complexity of the labeling (experts\n",
      "should know both languages and mark all word pairs\n",
      "manually). Therefore, it is suggested to consider the word\n",
      "alignment for the Ukrainian language in terms of other NLP\n",
      "tasks. Taking into account the availability of the labeled\n",
      "dataset for the Ukrainian-language Named Entity\n",
      "Recognition (NER) [12], this task was selected as the\n",
      "benchmark of the word alignment between Ukrainian and\n",
      "English sentences. Thus, the purposes of this work are the\n",
      "following:\n",
      " Analysis of state-of-the-art methods of word\n",
      "alignment.\n",
      " Experimental verification of the effectiveness of the\n",
      "usage of a word alignment for performing the cross-\n",
      "lingual named entity recognition for pairs of\n",
      "Ukrainian and English sentences.\n",
      " Comparison of the retrieved results with the\n",
      "Ukrainian-language NER models, analysis of the type\n",
      "of errors of the considered cross-lingual NER\n",
      "method.\n",
      "II. WORD ALIGNMENT\n",
      "Back to statistical machine translation models [13], word\n",
      "alignment was a crucial part of the translation performance.\n",
      "The word alignment problem was first commonly introduced\n",
      "in the paper [14] that describes a sequence of increasingly\n",
      "complex IBM models: Model 1, Model 2, Model 3, Model 4,\n",
      "and Model 5 (Model 6 was proposed later). The main\n",
      "purpose of IBM models consists in the translation of\n",
      "sentences from one language to another by applying the\n",
      "Expectation-Maximization algorithm for the optimization of\n",
      "parameters. The word alignment was used as a separate\n",
      "intermediate step for the calculation of the conditional\n",
      "probability P(f |e) where f   f1 , ..., f\n",
      "m\n",
      " is a source-\n",
      "language (French) sentence that consists of m words,\n",
      "e   e\n",
      "1\n",
      ", ..., e\n",
      "l\n",
      " is a target-language (English) sentence that\n",
      "consists of l words. In order to estimate the mentioned\n",
      "probability P(f |e), the authors suggested to add additional\n",
      "alignment variables  a\n",
      "1\n",
      ", a\n",
      "2\n",
      ", ..., a\n",
      "m\n",
      " (each variable a\n",
      "i\n",
      "corresponds to the word f ,\n",
      "i\n",
      "i  1 , .., m ) that may take values\n",
      "from the range  1 , .., l . In other words, the alignment\n",
      "variables define the aligned word from the target sentence e\n",
      "for the correspondent word f i . Thus, new following\n",
      "conditional probability distribution is defined:\n",
      "P(f ..,f ,a ,..,a |e ,..,e ) that can be calculated\n",
      "1 m 1 l 1 l\n",
      "according to the alignment variables (how well the aligned\n",
      "words match each other). After that the desired conditional\n",
      "probability P ( f | e ) is calculated in the following manner:\n",
      " P ( f | s ) \n",
      "a\n",
      "l\n",
      "1 0 a\n",
      "l\n",
      "2 0\n",
      "...a\n",
      "l\n",
      "m 0\n",
      "P ( f\n",
      "1\n",
      ".., f\n",
      "m\n",
      ", a\n",
      "1\n",
      ", .., a\n",
      "l\n",
      "| e\n",
      "1\n",
      ", .., e\n",
      "l\n",
      ")\n",
      "GIZA++ tool for the guided alignment during the training of\n",
      "the topic-aware neural machine translation model. Later this\n",
      "idea was extended in the paper [18] for the join learning of\n",
      "the word alignment and machine translation by the\n",
      "Transformer model. Namely, GIZA++ tool was used in order\n",
      "to calculate the objective function for the word alignment\n",
      "training part.\n",
      "Current state-of-the-art models are based on the usage\n",
      "of neural network models. The end-to-end word alignment\n",
      "method was suggested in the paper [19]. The authors\n",
      "suggested extending the pre-trained neural translation model\n",
      "with an additional alignment layer which is trained\n",
      "separately. In contrast, the authors of the paper [20] claimed\n",
      "that the attention weights of the pre-trained Transformed\n",
      "models can interpret the word alignment by themselves;\n",
      "however, the best results were still obtained by extending the\n",
      "architecture of the vanilla Transformer with an additional\n",
      "alignment module. The fine-tuning of the multilingual BERT\n",
      "model by taking into account multiple objectives was\n",
      "suggested in the paper [21] for further usage of the\n",
      "embedding of words for the finding of word alignments.\n",
      "Moreover, even the usage of a pre-trained multilingual\n",
      "BERT itself allowed for outperforming other methods on\n",
      "different datasets.\n",
      "Considered methods are mostly based on the usage of\n",
      "training data: both statistical and neural-based models require\n",
      "pairs of source-language and target-language sentences. The\n",
      "open-source Ukrainian-English dataset that was provided in\n",
      "the paper [22] contains a lot of noisy incorrect pairs that may\n",
      "lead to word alignment errors. Thus, it was decided to use the\n",
      "method [21] that is based on multilingual BERT for further\n",
      "analysis of the word alignment for the Ukrainian and English\n",
      "sentences. The details of the method are considered in the\n",
      "next section.\n",
      "III. METHOD CONSTRUCTION\n",
      "Let’s represent the word alignment problem formally.\n",
      "Given a Ukrainian (source) sentence\n",
      "\n",
      "The aforementioned IBM models were later refined into\n",
      "GIZA++ [15] and fast_align [16] methods. GIZA++ still\n",
      "remains a strong baseline in the area of word alignment.\n",
      "Moreover, in the paper [17] it was suggested to use the\n",
      "U   u 1 , u 2 , ..., u n  (u i\n",
      "is a word of the sentence, i   1 , ..., n  ) and the\n",
      "corresponding translated English (target) sentence\n",
      "E   e 1 , e 2 , ..., e n  , the expected word alignment is\n",
      "represented as a set of matched pairs of Ukrainian and\n",
      "English words:\n",
      " \n",
      " A u ,e :u U,e E   i j i j\n",
      "At first, both source and target sentences are represented\n",
      "in terms of context-based vectors. Each sentence is passed\n",
      "through the encoder layers of the multilingual BERT model.\n",
      "Then the hidden states of the i-th layer are extracted. The\n",
      "hidden states of the layer represent the contextualized\n",
      "tokens’ embedding; thus, both Ukrainian and English\n",
      "sentences can be represented as the lists of vectors h\n",
      "U\n",
      "and\n",
      "h\n",
      "E\n",
      "correspondingly:\n",
      "h  h1 ,...,hK\n",
      "U U U\n",
      "  \n",
      "h  h1 ,...,hL E E E\n"
     ]
    }
   ],
   "execution_count": 47
  },
  {
   "metadata": {
    "ExecuteTime": {
     "end_time": "2024-10-08T10:58:37.178745Z",
     "start_time": "2024-10-08T10:58:36.956069Z"
    }
   },
   "cell_type": "code",
   "source": [
    "page_no = 3\n",
    "task = \"EXTRACT TEXT\"\n",
    "with pdfplumber.open(_uri) as pdf:\n",
    "    \n",
    "    print(f\"task: {task}\\nPAGE # {page_no}\\n***\\n\\n\")\n",
    "    text = pdf.pages[page_no - 1].extract_text()\n",
    "    print(text)"
   ],
   "id": "86252f3efa8acca1",
   "outputs": [
    {
     "name": "stdout",
     "output_type": "stream",
     "text": [
      "task: EXTRACT TEXT\n",
      "PAGE # 3\n",
      "***\n",
      "\n",
      "\n",
      "where K and L are numbers of tokens for source and\n",
      "target sentences correspondingly. As far as the number of\n",
      "tokens shouldn’t necessarily match the number of words, the\n",
      "rearrangement between tokens and words will be made\n",
      "during later steps.\n",
      "The next step consists in the estimation of the similarity\n",
      "of source and target sentences due to their tokens\n",
      "representation. Thus, the similarity matrix S\n",
      "K  L\n",
      "is\n",
      "calculated as the dot product between each element of h\n",
      "U\n",
      "and h E :\n",
      " S h hT  \n",
      "KL U E\n",
      "Then the softmax function is applied across rows and\n",
      "columns separately providing two different source-to-target\n",
      "and target-to-source matrices: S U E and S E U\n",
      "correspondingly. Thus, each row of the matrix S U E and\n",
      "each column of the SEU form a probability simplex. Then\n",
      "both matrices are transformed in the following way: an\n",
      "element SUE and SEU equals 1 if its value exceeds the pre-\n",
      "ij ij\n",
      "defined threshold c ; otherwise it equals 0. The output\n",
      "alignment matrix A TK o k\n",
      "L\n",
      "is formed as the element-wise\n",
      "conjunction of the retrieved matrices S U E and S E U :\n",
      " ATok (SUE c)&(SEU c) \n",
      "KL\n",
      "Thus, the matrix ATok is a binary matrix which defines\n",
      "KL\n",
      "whether a source token is aligned with the target one. Then\n",
      "the matrix A TK o k\n",
      "L\n",
      "is transformed into the matrix A Wn\n",
      " m\n",
      "that\n",
      "denotes the same relations but at the level of words. The final\n",
      "word alignment list A is formed from non-zero elements of\n",
      "the matrix A Wn\n",
      " m\n",
      ".\n",
      "Fig. 2 demonstrates the intermediate steps, namely, the\n",
      "generation of matrices S U E , S E U , and A TK o k\n",
      "L\n",
      "investigate the effectiveness of the raw usage of the\n",
      "multilingual BERT for the Ukrainian language.\n",
      "IV. EXPERIMENTS\n",
      "A. Experimental setup\n",
      "As it was mentioned, the NER task was selected for the\n",
      "estimation of the accuracy of the word alignment between\n",
      "Ukrainian and English sentences. The test part of the dataset\n",
      "[12] that is provided by the lang-uk community was used for\n",
      "the evaluation. The statistics of the test dataset are provided\n",
      "in Table 1.\n",
      "TABLE I. STATISTICS DATA OF THE TEST PART OF THE DATASET\n",
      "Label Number of samples\n",
      "LOC (locations) 401\n",
      "ORG (organizations) 261\n",
      "PERS (persons) 1678\n",
      "MISC (miscellaneous) 240\n",
      "The cross-lingual NER method that is based on word\n",
      "alignment consists of the following sequent steps:\n",
      "1. Automatic translation of a Ukrainian sentence to\n",
      "the English language.\n",
      "2. Applying the given NER model (depending on\n",
      "the experiment configuration) to the English\n",
      "sentence for the extraction of named entities.\n",
      "3. Performing word alignment to transfer the labels\n",
      "from the English sentence to the Ukrainian one.\n",
      "In order to estimate the effectiveness of the\n",
      "aforementioned method, the following method\n",
      "configurations were used for the dataset evaluation:\n",
      " Multilingual NER model [23] that was trained\n",
      "on the synthetically generated Wikineural\n",
      "corpus for 9 languages. As far as this model was\n",
      "also trained to predict named entities for Slavic\n",
      "languages, it was decided to verify the . The\n",
      "effectiveness of this model itself on the\n",
      "Ukrainian sentence is represented in its transliterated form\n",
      "Ukrainian corpus.\n",
      "“A Kolia prodovzhyv:”; the corresponding translated\n",
      "sentence is “And Kolya continued:”. The last matrix ATok  Word alignment + multilingual NER model.\n",
      "KL\n",
      "This configuration consists in the usage of the\n",
      "contains orange borders that correspond to the selection of\n",
      "investigated cross-lingual method based on the\n",
      "Ukrainian words. Thus, the resulting alignment for this\n",
      "multilingual NER model. The key idea is to\n",
      "example is the following:\n",
      "verify whether there is a gain in using the\n",
      "multilingual model for the English sentence\n",
      "together with the word alignment in comparison\n",
      " A,And , Kolia,Kolya , \n",
      " A   with the raw processing of a Ukrainian sentence.\n",
      " prodovzhyv,continued , :,: \n",
      " Word alignment + English NER model [24].\n",
      "This configuration consists in the usage of the\n",
      "that is actually correct.\n",
      "investigated cross-lingual method based on the\n",
      "In addition, two actions can be performed to improve the NER model that was trained on the English\n",
      "accuracy of the method [21]. Firstly, the multilingual BERT CONLL2003 dataset [25].\n",
      "can be fine-tuned due to the pre-defined set of loss functions.\n",
      " Ukrainian NER. The Ukrainian NER model was\n",
      "Moreover, the grow-diag-final heuristics [15] can be applied\n",
      "trained on the investigated corpus itself.\n",
      "for better alignment of the matrix ATok . However, it was\n",
      "KL\n",
      "decided to skip the performing of these actions in order to\n"
     ]
    }
   ],
   "execution_count": 48
  },
  {
   "metadata": {
    "ExecuteTime": {
     "end_time": "2024-10-08T10:59:21.594928Z",
     "start_time": "2024-10-08T10:59:21.335223Z"
    }
   },
   "cell_type": "code",
   "source": [
    "page_no = 3\n",
    "task = \"EXTRACT TABLEs\"\n",
    "with pdfplumber.open(_uri) as pdf:\n",
    "    \n",
    "    print(f\"task: {task}\\nPAGE # {page_no}\\n***\\n\\n\")\n",
    "    tables = pdf.pages[page_no - 1].extract_tables()\n",
    "    for no, table in enumerate(tables):\n",
    "        print(f\"t_no: {no}\")\n",
    "        print(table)"
   ],
   "id": "6c13619e2645f953",
   "outputs": [
    {
     "name": "stdout",
     "output_type": "stream",
     "text": [
      "task: EXTRACT TABLEs\n",
      "PAGE # 3\n",
      "***\n",
      "\n",
      "\n",
      "t_no: 0\n",
      "[['Label', 'Number of samples'], ['LOC (locations)', '401'], ['ORG (organizations)', '261'], ['PERS (persons)', '1678'], ['MISC (miscellaneous)', '240']]\n"
     ]
    }
   ],
   "execution_count": 49
  },
  {
   "metadata": {
    "ExecuteTime": {
     "end_time": "2024-10-08T10:59:47.264625Z",
     "start_time": "2024-10-08T10:59:47.091727Z"
    }
   },
   "cell_type": "code",
   "source": [
    "page_no = 4\n",
    "task = \"EXTRACT TABLEs\"\n",
    "with pdfplumber.open(_uri) as pdf:\n",
    "    \n",
    "    print(f\"task: {task}\\nPAGE # {page_no}\\n***\\n\\n\")\n",
    "    tables = pdf.pages[page_no - 1].extract_tables()\n",
    "    for no, table in enumerate(tables):\n",
    "        print(f\"t_no: {no}\")\n",
    "        print(table)"
   ],
   "id": "82eaab6639ba5a14",
   "outputs": [
    {
     "name": "stdout",
     "output_type": "stream",
     "text": [
      "task: EXTRACT TABLEs\n",
      "PAGE # 4\n",
      "***\n",
      "\n",
      "\n",
      "t_no: 0\n",
      "[['Configuration', 'LOC', None, None, 'MISC', None, None, 'ORG', None, None, 'PERS', None, None], [None, 'P', 'R', 'F1', 'P', 'R', 'F1', 'P', 'R', 'F1', 'P', 'R', 'F1'], ['Multilingual NER', '0.51', '0.85', '0.64', '0.03', '0.20', '0.06', '0.27', '0.21', '0.24', '0.84', '0.88', '0.86'], ['Word alignment + Multilingual NER', '0.54', '0.78', '0.64', '0.08', '0.40', '0.14', '0.41', '0.34', '0.37', '0.86', '0.83', '0.85'], ['Word alignment + English NER', '0.62', '0.80', '0.70', '0.19', '0.40', '0.26', '0.35', '0.38', '0.36', '0.86', '0.84', '0.85'], ['Ukrainian NER', '0.95', '0.93', '0.94', '0.91', '0.80', '0.85', '0.88', '0.87', '0.87', '0.95', '0.84', '0.89']]\n"
     ]
    }
   ],
   "execution_count": 50
  },
  {
   "metadata": {
    "ExecuteTime": {
     "end_time": "2024-10-08T11:00:20.308262Z",
     "start_time": "2024-10-08T11:00:20.014652Z"
    }
   },
   "cell_type": "code",
   "source": [
    "page_no = 5\n",
    "task = \"EXTRACT TABLEs\"\n",
    "with pdfplumber.open(_uri) as pdf:\n",
    "    \n",
    "    print(f\"task: {task}\\nPAGE # {page_no}\\n***\\n\\n\")\n",
    "    tables = pdf.pages[page_no - 1].extract_tables()\n",
    "    for no, table in enumerate(tables):\n",
    "        print(f\"t_no: {no}\")\n",
    "        print(table)"
   ],
   "id": "801d2dc0f6ee37a2",
   "outputs": [
    {
     "name": "stdout",
     "output_type": "stream",
     "text": [
      "task: EXTRACT TABLEs\n",
      "PAGE # 5\n",
      "***\n",
      "\n",
      "\n",
      "t_no: 0\n",
      "[['Configuration', 'Micro\\naverage F1', 'Macro\\naverage F1', 'Weighted\\naverage F1'], ['Multilingual\\nNER', '0.58', '0.45', '0.69'], ['Word alignment\\n+ Multilingual\\nNER', '0.62', '0.50', '0.70'], ['Word alignment\\n+ English NER', '0.70', '0.54', '0.72'], ['Ukrainian NER', '0.90', '0.89', '0.90']]\n",
      "t_no: 1\n",
      "[['Error type', 'Percentage, %'], ['Word alignment error', '11.2'], ['NER error', '74.8'], ['NER extra error', '11.2'], ['Translation error', '2.8']]\n"
     ]
    }
   ],
   "execution_count": 51
  },
  {
   "metadata": {},
   "cell_type": "code",
   "outputs": [],
   "execution_count": null,
   "source": "",
   "id": "e30d5b28a70f8716"
  },
  {
   "metadata": {},
   "cell_type": "markdown",
   "source": "# Example from DOC",
   "id": "a62d6b6123f395be"
  },
  {
   "metadata": {
    "ExecuteTime": {
     "end_time": "2024-10-08T11:00:39.720887Z",
     "start_time": "2024-10-08T11:00:39.717601Z"
    }
   },
   "cell_type": "code",
   "source": "_uri = \"../data/__test_pdfs/GeoBase_NHNC1_Data_Model_UML_EN.pdf\"\n",
   "id": "3d957f1d765129e5",
   "outputs": [],
   "execution_count": 52
  },
  {
   "metadata": {
    "ExecuteTime": {
     "end_time": "2024-10-08T11:00:44.057956Z",
     "start_time": "2024-10-08T11:00:44.011933Z"
    }
   },
   "cell_type": "code",
   "source": [
    "page_no = 1\n",
    "task = \"EXTRACT TEXT\"\n",
    "with pdfplumber.open(_uri) as pdf:\n",
    "    \n",
    "    print(f\"task: {task}\\nPAGE # {page_no}\\n***\\n\\n\")\n",
    "    text = pdf.pages[page_no - 1].extract_text()\n",
    "    print(text)"
   ],
   "id": "a83f1b18f65a5b4f",
   "outputs": [
    {
     "name": "stdout",
     "output_type": "stream",
     "text": [
      "task: EXTRACT TEXT\n",
      "PAGE # 1\n",
      "***\n",
      "\n",
      "\n",
      "National Hydro Network, Canada, Level 1\n",
      "Data Model\n",
      "Edition 1.0\n",
      "2004-08\n",
      "Gouvernement du Canada\n",
      "Ressources naturelles Canada\n",
      "Centre canadien de la cartographie et d’observation de la Terre\n",
      "Service à la clientèle de GéoGratis\n",
      "Téléphone : +01-819-564-4857\n",
      "1-800-661-2638 (Canada et États-Unis)\n",
      "Télécopieur : +01-819-564-5698\n",
      "Courriel : geoginfo@RNCan.gc.ca\n",
      "URL : www.GeoGratis.gc.ca\n"
     ]
    }
   ],
   "execution_count": 53
  },
  {
   "metadata": {
    "ExecuteTime": {
     "end_time": "2024-10-08T11:00:54.270221Z",
     "start_time": "2024-10-08T11:00:54.224769Z"
    }
   },
   "cell_type": "code",
   "source": [
    "page_no = 2\n",
    "task = \"EXTRACT TEXT\"\n",
    "with pdfplumber.open(_uri) as pdf:\n",
    "    \n",
    "    print(f\"task: {task}\\nPAGE # {page_no}\\n***\\n\\n\")\n",
    "    text = pdf.pages[page_no - 1].extract_text()\n",
    "    print(text)"
   ],
   "id": "b49e741624b02d46",
   "outputs": [
    {
     "name": "stdout",
     "output_type": "stream",
     "text": [
      "task: EXTRACT TEXT\n",
      "PAGE # 2\n",
      "***\n",
      "\n",
      "\n",
      "Copyright Notice\n",
      "© Her Majesty the Queen in Right of Canada, Department of Natural Resources.\n",
      "All rights reserved.\n",
      "GeoBase®\n"
     ]
    }
   ],
   "execution_count": 54
  },
  {
   "metadata": {
    "ExecuteTime": {
     "end_time": "2024-10-08T11:01:42.926994Z",
     "start_time": "2024-10-08T11:01:42.880698Z"
    }
   },
   "cell_type": "code",
   "source": [
    "page_no = 2\n",
    "task = \"EXTRACT TABLEs\"\n",
    "with pdfplumber.open(_uri) as pdf:\n",
    "    \n",
    "    print(f\"task: {task}\\nPAGE # {page_no}\\n***\\n\\n\")\n",
    "    tables = pdf.pages[page_no - 1].extract_tables()\n",
    "    for no, table in enumerate(tables):\n",
    "        print(f\"t_no: {no}\")\n",
    "        print(table)\n",
    "    \n",
    "    if not tables:\n",
    "        print(f\"No tables found\")"
   ],
   "id": "39118fe7e9ea6377",
   "outputs": [
    {
     "name": "stdout",
     "output_type": "stream",
     "text": [
      "task: EXTRACT TABLEs\n",
      "PAGE # 2\n",
      "***\n",
      "\n",
      "\n",
      "No tables found\n"
     ]
    }
   ],
   "execution_count": 56
  },
  {
   "metadata": {
    "ExecuteTime": {
     "end_time": "2024-10-08T11:02:05.679647Z",
     "start_time": "2024-10-08T11:02:05.592188Z"
    }
   },
   "cell_type": "code",
   "source": [
    "page_no = 3\n",
    "task = \"EXTRACT TEXT\"\n",
    "with pdfplumber.open(_uri) as pdf:\n",
    "    \n",
    "    print(f\"task: {task}\\nPAGE # {page_no}\\n***\\n\\n\")\n",
    "    text = pdf.pages[page_no - 1].extract_text()\n",
    "    print(text)"
   ],
   "id": "30e08fb3718efa7c",
   "outputs": [
    {
     "name": "stdout",
     "output_type": "stream",
     "text": [
      "task: EXTRACT TEXT\n",
      "PAGE # 3\n",
      "***\n",
      "\n",
      "\n",
      "National Hydro Network, Data Model – Edition 1.0 2004-06\n",
      "REVISION HISTORY\n",
      "Date Version Description\n",
      "September 2002 Draft 01 First draft for discussion with Nova Scotia\n",
      "January 2003 Draft Second draft after discussion with Nova Scotia and major review of the\n",
      "hydro network model through:\n",
      " Proposal of options\n",
      "March 2003 Alpha Draft version after discussion and decisions made concerning NHNC1\n",
      "scope and content with Nova Scotia and British Columbia\n",
      "July 2003 Draft 02 Draft version after discussion and decisions made concerning the\n",
      "detailed NHNC1 model and content with Nova Scotia, British\n",
      "Columbia, and the Yukon. Meeting in Victoria, May 2003.\n",
      "December 2003 Draft Integration of UML model for both LRS and Segmented views of the\n",
      "NHNC1.\n",
      "February 2004 Draft English review;\n",
      "Remove the UML model for the Segmented view.\n",
      "May 2004 Draft Update from the March Workshop comments.\n",
      "August 2004 2004.1 The object metadata attribute « date » is renamed « validity_date » in\n",
      "section 3.1.6.2 and at all other parts referring to object metadata.\n",
      "A new Feature type value is added for inland water (see section 3.1.5)\n",
      "FUTURE WORK\n",
      "Key word Description\n",
      "GeoBase® iii\n"
     ]
    }
   ],
   "execution_count": 57
  },
  {
   "metadata": {
    "ExecuteTime": {
     "end_time": "2024-10-08T11:02:15.865261Z",
     "start_time": "2024-10-08T11:02:15.767871Z"
    }
   },
   "cell_type": "code",
   "source": [
    "page_no = 3\n",
    "task = \"EXTRACT TABLEs\"\n",
    "with pdfplumber.open(_uri) as pdf:\n",
    "    \n",
    "    print(f\"task: {task}\\nPAGE # {page_no}\\n***\\n\\n\")\n",
    "    tables = pdf.pages[page_no - 1].extract_tables()\n",
    "    for no, table in enumerate(tables):\n",
    "        print(f\"t_no: {no}\")\n",
    "        print(table)"
   ],
   "id": "182310e12bf42ea8",
   "outputs": [
    {
     "name": "stdout",
     "output_type": "stream",
     "text": [
      "task: EXTRACT TABLEs\n",
      "PAGE # 3\n",
      "***\n",
      "\n",
      "\n",
      "t_no: 0\n",
      "[['Date', 'Version', 'Description'], ['September 2002', 'Draft 01', 'First draft for discussion with Nova Scotia'], ['January 2003', 'Draft', 'Second draft after discussion with Nova Scotia and major review of the\\nhydro network model through:\\n\\uf0b7 Proposal of options'], ['March 2003', 'Alpha', 'Draft version after discussion and decisions made concerning NHNC1\\nscope and content with Nova Scotia and British Columbia'], ['July 2003', 'Draft 02', 'Draft version after discussion and decisions made concerning the\\ndetailed NHNC1 model and content with Nova Scotia, British\\nColumbia, and the Yukon. Meeting in Victoria, May 2003.'], ['December 2003', 'Draft', 'Integration of UML model for both LRS and Segmented views of the\\nNHNC1.'], ['February 2004', 'Draft', 'English review;\\nRemove the UML model for the Segmented view.'], ['May 2004', 'Draft', 'Update from the March Workshop comments.'], ['August 2004', '2004.1', 'The object metadata attribute « date » is renamed « validity_date » in\\nsection 3.1.6.2 and at all other parts referring to object metadata.\\nA new Feature type value is added for inland water (see section 3.1.5)']]\n",
      "t_no: 1\n",
      "[['Key word', 'Description'], ['', '']]\n"
     ]
    }
   ],
   "execution_count": 58
  },
  {
   "metadata": {
    "ExecuteTime": {
     "end_time": "2024-10-08T11:04:55.310737Z",
     "start_time": "2024-10-08T11:04:55.277264Z"
    }
   },
   "cell_type": "code",
   "source": [
    "page_no = 5\n",
    "task = \"EXTRACT TABLEs\"\n",
    "with pdfplumber.open(_uri) as pdf:\n",
    "    \n",
    "    print(f\"task: {task}\\nPAGE # {page_no}\\n***\\n\\n\")\n",
    "    tables = pdf.pages[page_no - 1].extract_tables()\n",
    "    for no, table in enumerate(tables):\n",
    "        print(f\"t_no: {no}\")\n",
    "        print(table)\n",
    "    \n",
    "    if not tables:\n",
    "        print(f\"No tables found\")"
   ],
   "id": "461722a74ef07040",
   "outputs": [
    {
     "name": "stdout",
     "output_type": "stream",
     "text": [
      "task: EXTRACT TABLEs\n",
      "PAGE # 5\n",
      "***\n",
      "\n",
      "\n",
      "No tables found\n"
     ]
    }
   ],
   "execution_count": 61
  },
  {
   "metadata": {
    "ExecuteTime": {
     "end_time": "2024-10-08T11:05:10.150441Z",
     "start_time": "2024-10-08T11:05:10.070343Z"
    }
   },
   "cell_type": "code",
   "source": [
    "page_no = 7\n",
    "task = \"EXTRACT TABLEs\"\n",
    "with pdfplumber.open(_uri) as pdf:\n",
    "    \n",
    "    print(f\"task: {task}\\nPAGE # {page_no}\\n***\\n\\n\")\n",
    "    tables = pdf.pages[page_no - 1].extract_tables()\n",
    "    for no, table in enumerate(tables):\n",
    "        print(f\"t_no: {no}\")\n",
    "        print(table)\n",
    "    \n",
    "    if not tables:\n",
    "        print(f\"No tables found\")"
   ],
   "id": "377d0e136c4b6eb3",
   "outputs": [
    {
     "name": "stdout",
     "output_type": "stream",
     "text": [
      "task: EXTRACT TABLEs\n",
      "PAGE # 7\n",
      "***\n",
      "\n",
      "\n",
      "t_no: 0\n",
      "[[''], ['Hydro\\nNetwork']]\n",
      "t_no: 1\n",
      "[[''], ['Hydro\\nEvents']]\n",
      "t_no: 2\n",
      "[[''], ['Toponymy\\n(external\\nmodel)']]\n",
      "t_no: 3\n",
      "[[''], ['Metadata']]\n",
      "t_no: 4\n",
      "[[''], ['Hydrography']]\n"
     ]
    }
   ],
   "execution_count": 62
  },
  {
   "metadata": {
    "ExecuteTime": {
     "end_time": "2024-10-08T11:05:34.259078Z",
     "start_time": "2024-10-08T11:05:34.089939Z"
    }
   },
   "cell_type": "code",
   "source": [
    "page_no = 12\n",
    "task = \"EXTRACT TABLEs\"\n",
    "with pdfplumber.open(_uri) as pdf:\n",
    "    \n",
    "    print(f\"task: {task}\\nPAGE # {page_no}\\n***\\n\\n\")\n",
    "    tables = pdf.pages[page_no - 1].extract_tables()\n",
    "    for no, table in enumerate(tables):\n",
    "        print(f\"t_no: {no}\")\n",
    "        print(table)\n",
    "    \n",
    "    if not tables:\n",
    "        print(f\"No tables found\")"
   ],
   "id": "47b80c24cacec824",
   "outputs": [
    {
     "name": "stdout",
     "output_type": "stream",
     "text": [
      "task: EXTRACT TABLEs\n",
      "PAGE # 12\n",
      "***\n",
      "\n",
      "\n",
      "t_no: 0\n",
      "[['cd PointEvents'], ['']]\n",
      "t_no: 1\n",
      "[['LR_Element\\nNetworkComponent\\n«type»\\nNetwork Abstract Model::NetworkLinearElement'], ['+ geometry: GB_Curve [0..1]']]\n",
      "t_no: 2\n",
      "[['«type»\\nLRS Abstract\\nModel::Event'], ['+ nid: DT_UUID']]\n",
      "t_no: 3\n",
      "[['«type»\\nLRS Abstract Model::PointEvent'], ['+ atPosition: LR_PositionExpression']]\n",
      "t_no: 4\n",
      "[['«CodeList»\\nCodeList::\\nCL_Manmade Type'], ['+ Unknown = -1:\\n+ None = 0:\\n+ Dam = 1:\\n+ Dock = 2:\\n+ Wharf = 3:\\n+ Breakwater = 4:\\n+ Dike/Levee = 5:\\n+ Lock Gate = 6:\\n+ Boat Ramp = 7:\\n+ Fish Ladder =8:\\n+ Slip = 9:']]\n",
      "t_no: 5\n",
      "[['«descriptiveEvolution»\\nHydroPointEvent'], ['']]\n",
      "t_no: 6\n",
      "[['«CodeList»\\nCodeList::CL_Obstacle Type'], ['+ Unknown = -1:\\n+ Falls = 1:\\n+ Rapids = 2:\\n+ Reef = 3:\\n+ Rocks = 4:\\n+ Disappearing stream = 5:\\n+ Exposed shipwreck = 6:\\n+ Ford = 7:\\n+ Other = 8:']]\n",
      "t_no: 7\n",
      "[['«descriptiveEvolution»\\nManMadePointEvent'], ['- HydrographicEntityClassName: char\\n- ManMadeHydrographicEntityNID: UUID\\n- ManMadeStatus: CL_Manmade Status\\n- ManMadeType: CL_Manmade Type']]\n",
      "t_no: 8\n",
      "[['«descriptiveEvolution»\\nExternalGeometryEvent'], ['- ExternalAgency: char\\n- ExternalID: DT_UUID']]\n",
      "t_no: 9\n",
      "[['«CodeList»\\nCodeList::\\nCL_Manmade Status'], ['+ Unknown = -1:\\n+ None = 0:\\n+ Operational = 1:\\n+ Abandoned = 2:']]\n",
      "t_no: 10\n",
      "[['«descriptiveEvolution»\\nExternalPointEvent'], ['- ExternalAgency: char\\n- ExternaID: DT_UUID\\n- EventName: char']]\n",
      "t_no: 11\n",
      "[['«descriptiveEvolution»\\nObstaclePointEvent'], ['- HydrographicEntityClassName: char\\n- HydrographicObstacleEntityNID: UUID\\n- ObstacleType: CL_Obstacle Type']]\n"
     ]
    }
   ],
   "execution_count": 63
  },
  {
   "metadata": {},
   "cell_type": "code",
   "outputs": [],
   "execution_count": null,
   "source": "",
   "id": "cc41084d0e3eb1d"
  }
 ],
 "metadata": {
  "kernelspec": {
   "display_name": "Python 3",
   "language": "python",
   "name": "python3"
  },
  "language_info": {
   "codemirror_mode": {
    "name": "ipython",
    "version": 2
   },
   "file_extension": ".py",
   "mimetype": "text/x-python",
   "name": "python",
   "nbconvert_exporter": "python",
   "pygments_lexer": "ipython2",
   "version": "2.7.6"
  }
 },
 "nbformat": 4,
 "nbformat_minor": 5
}
