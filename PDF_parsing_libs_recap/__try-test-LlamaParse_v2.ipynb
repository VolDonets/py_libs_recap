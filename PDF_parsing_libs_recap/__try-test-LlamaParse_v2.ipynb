{
 "cells": [
  {
   "metadata": {},
   "cell_type": "markdown",
   "source": "# Try the LlamaParse API",
   "id": "526934ed569f369a"
  },
  {
   "metadata": {
    "ExecuteTime": {
     "end_time": "2024-10-17T09:00:06.438504Z",
     "start_time": "2024-10-17T09:00:06.429978Z"
    }
   },
   "cell_type": "code",
   "source": [
    "# it is required because LlamaParse API is async, \n",
    "# but Jupyter Notebook can work only with sync code\n",
    "import nest_asyncio\n",
    "nest_asyncio.apply()"
   ],
   "id": "6f44f2b682269e5",
   "outputs": [],
   "execution_count": 1
  },
  {
   "metadata": {
    "ExecuteTime": {
     "end_time": "2024-10-17T09:00:06.795364Z",
     "start_time": "2024-10-17T09:00:06.791692Z"
    }
   },
   "cell_type": "code",
   "source": "LLAMA_CLOUD_API_KEY = ''",
   "id": "d4954c70c3817c3b",
   "outputs": [],
   "execution_count": 2
  },
  {
   "metadata": {
    "ExecuteTime": {
     "end_time": "2024-10-17T09:00:07.211360Z",
     "start_time": "2024-10-17T09:00:07.207424Z"
    }
   },
   "cell_type": "code",
   "source": [
    "import os\n",
    "\n",
    "os.environ[\"LLAMA_CLOUD_API_KEY\"] = LLAMA_CLOUD_API_KEY"
   ],
   "id": "ec7e5fd2429071ab",
   "outputs": [],
   "execution_count": 3
  },
  {
   "metadata": {
    "ExecuteTime": {
     "end_time": "2024-10-17T09:00:09.623908Z",
     "start_time": "2024-10-17T09:00:08.047396Z"
    }
   },
   "cell_type": "code",
   "source": "from llama_parse import LlamaParse",
   "id": "41091cc8ee846c5b",
   "outputs": [],
   "execution_count": 4
  },
  {
   "metadata": {},
   "cell_type": "markdown",
   "source": "# Test simple text PDFs",
   "id": "515526428c64c9bb"
  },
  {
   "metadata": {
    "ExecuteTime": {
     "end_time": "2024-10-17T09:00:16.911539Z",
     "start_time": "2024-10-17T09:00:16.908078Z"
    }
   },
   "cell_type": "code",
   "source": "_uri = \"./_data_test_pdfs/autozaz_details_orders - orders_real.pdf\"",
   "id": "4fce425f7bc22b18",
   "outputs": [],
   "execution_count": 5
  },
  {
   "metadata": {
    "ExecuteTime": {
     "end_time": "2024-10-15T17:12:15.063946Z",
     "start_time": "2024-10-15T17:11:18.439266Z"
    }
   },
   "cell_type": "code",
   "source": [
    "doc = LlamaParse(\n",
    "    result_type=\"markdown\",\n",
    "    parsing_instruction=\"\"\"\n",
    "    If tables do not have a header, do not generate one.\n",
    "    Tables might be spitted on several pages, so use header from previous tables, if they are compatible.\n",
    "    \"\"\"\n",
    ").load_data(_uri)\n",
    "print(f\"Result docs number: {len(doc)}\")"
   ],
   "id": "aeac88d35215f982",
   "outputs": [
    {
     "name": "stdout",
     "output_type": "stream",
     "text": [
      "Started parsing the file under job_id 263ad07d-a28e-4490-8d23-7ffe1b8fd858\n",
      "..Result docs number: 3\n"
     ]
    }
   ],
   "execution_count": 16
  },
  {
   "metadata": {
    "ExecuteTime": {
     "end_time": "2024-10-15T17:18:29.633360Z",
     "start_time": "2024-10-15T17:18:29.629641Z"
    }
   },
   "cell_type": "code",
   "source": "print(doc[0].text)",
   "id": "7f337cd25b7fcfda",
   "outputs": [
    {
     "name": "stdout",
     "output_type": "stream",
     "text": [
      "# Sales Report\n",
      "\n",
      "|order_id|product_name|price_per_unit|units_sold|amount_of_discount_total|deal_date|customer_name|\n",
      "|---|---|---|---|---|---|---|\n",
      "|1|Alternator|350|5|157.5|01/01/2024|Emily Johnson|\n",
      "|2|Engine Block|500|5|100|01/02/2024|Emily Johnson|\n",
      "|3|Engine Block|500|4|120|01/03/2024|Scott Nilson|\n",
      "|4|Clutch Plate|180|1|7.2|01/04/2024|Scott Nilson|\n",
      "|5|Transmission Gear|300|9|189|01/05/2024|Scott Nilson|\n",
      "|6|Steering Wheel|100|3|27|01/06/2024|Scott Nilson|\n",
      "|7|Exhaust Manifold|220|2|30.8|01/07/2024|Scott Nilson|\n",
      "|8|Clutch Plate|180|2|10.8|01/08/2024|Scott Nilson|\n",
      "|9|Steering Wheel|100|1|9|01/09/2024|Scott Nilson|\n",
      "|10|Engine Block|500|9|315|01/10/2024|Scott Nilson|\n",
      "|11|Clutch Plate|180|7|50.4|01/11/2024|Scott Nilson|\n",
      "|12|Transmission Gear|300|9|243|01/12/2024|Scott Nilson|\n",
      "|13|Steering Wheel|100|7|70|01/13/2024|Scott Nilson|\n",
      "|14|Brake Pad|75|4|6|01/14/2024|Scott Nilson|\n",
      "|15|Exhaust Manifold|220|3|52.8|01/15/2024|Scott Nilson|\n",
      "|16|Transmission Gear|300|2|48|01/16/2024|Scott Nilson|\n",
      "|17|Radiator|200|3|60|01/17/2024|Scott Nilson|\n",
      "|18|Steering Wheel|100|6|42|01/18/2024|Scott Nilson|\n",
      "|19|Engine Block|500|4|140|01/19/2024|Emily Johnson|\n",
      "|20|Radiator|200|5|20|01/20/2024|Emily Johnson|\n",
      "|21|Exhaust Manifold|220|5|66|01/21/2024|Emily Johnson|\n",
      "|22|Clutch Plate|180|4|50.4|01/22/2024|Emily Johnson|\n",
      "|23|Brake Pad|75|3|18|01/23/2024|Emily Johnson|\n",
      "|24|Exhaust Manifold|220|4|26.4|02/02/2023|Emily Johnson|\n",
      "|25|Steering Wheel|100|3|6|02/03/2023|Emily Johnson|\n",
      "|26|Exhaust Manifold|220|3|52.8|02/04/2023|Emily Johnson|\n",
      "|27|Steering Wheel|100|5|30|02/05/2023|Emily Johnson|\n",
      "|28|Clutch Plate|180|9|97.2|02/06/2023|Emily Johnson|\n",
      "|29|Engine Block|500|1|15|02/07/2023|Emily Johnson|\n",
      "|30|Radiator|200|9|162|02/08/2023|Emily Johnson|\n",
      "|31|Fuel Injector|250|1|20|02/09/2023|Emily Johnson|\n",
      "|32|Fuel Injector|250|6|120|02/10/2023|Emily Johnson|\n",
      "|33|Suspension Spring|150|3|27|02/11/2023|Emily Johnson|\n",
      "|34|Radiator|200|9|108|02/12/2023|Emily Johnson|\n",
      "|35|Engine Block|500|4|120|02/13/2023|Emily Johnson|\n",
      "|36|Steering Wheel|100|5|40|02/14/2023|Emily Johnson|\n",
      "|37|Brake Pad|75|1|4.5|02/15/2023|Emily Johnson|\n"
     ]
    }
   ],
   "execution_count": 17
  },
  {
   "metadata": {
    "ExecuteTime": {
     "end_time": "2024-10-15T17:18:31.422465Z",
     "start_time": "2024-10-15T17:18:31.417306Z"
    }
   },
   "cell_type": "code",
   "source": "print(doc[1].text)",
   "id": "cc41084d0e3eb1d",
   "outputs": [
    {
     "name": "stdout",
     "output_type": "stream",
     "text": [
      "|38|Clutch Plate|180|6|64.8|02/16/2023|Emily Johnson|\n",
      "|---|---|---|---|---|---|---|\n",
      "|39|Brake Pad|75|2|7.5|02/17/2023|Emily Johnson|\n",
      "|40|Steering Wheel|100|3|6|02/18/2023|Emily Johnson|\n",
      "|41|Exhaust Manifold|220|5|55|02/19/2023|Emily Johnson|\n",
      "|42|Exhaust Manifold|220|7|46.2|02/20/2023|Emily Johnson|\n",
      "|43|Engine Block|500|4|180|02/21/2023|Emily Johnson|\n",
      "|44|Transmission Gear|300|3|18|02/22/2023|Emily Johnson|\n",
      "|45|Engine Block|500|3|90|02/23/2023|Emily Johnson|\n",
      "|46|Suspension Spring|150|1|3|02/24/2023|Emily Johnson|\n",
      "|47|Exhaust Manifold|220|2|17.6|05/05/2023|Emily Johnson|\n",
      "|48|Transmission Gear|300|3|72|05/06/2023|Emily Johnson|\n",
      "|49|Engine Block|500|8|120|05/07/2023|Emily Johnson|\n",
      "|50|Suspension Spring|150|9|108|05/08/2023|Emily Johnson|\n",
      "|51|Brake Pad|75|5|11.25|05/09/2023|Emily Johnson|\n",
      "|52|Exhaust Manifold|220|4|88|05/10/2023|Emily Johnson|\n",
      "|53|Fuel Injector|250|9|112.5|05/11/2023|Emily Johnson|\n",
      "|54|Steering Wheel|100|5|50|05/12/2023|Tom Yam|\n",
      "|55|Exhaust Manifold|220|3|13.2|05/13/2023|Tom Yam|\n",
      "|56|Suspension Spring|150|4|18|05/14/2023|Tom Yam|\n",
      "|57|Engine Block|500|7|315|05/15/2023|Tom Yam|\n",
      "|58|Clutch Plate|180|5|18|05/16/2023|Tom Yam|\n",
      "|59|Clutch Plate|180|7|126|05/17/2023|Tom Yam|\n",
      "|60|Suspension Spring|150|9|27|05/18/2023|Tom Yam|\n",
      "|61|Engine Block|500|4|200|05/19/2023|Tom Yam|\n",
      "|62|Radiator|200|3|12|05/20/2023|Tom Yam|\n",
      "|63|Brake Pad|75|9|27|05/21/2023|Tom Yam|\n",
      "|64|Alternator|350|7|122.5|05/22/2023|Tom Yam|\n",
      "|65|Suspension Spring|150|5|45|05/23/2023|Tom Yam|\n",
      "|66|Suspension Spring|150|9|67.5|05/24/2023|Tom Yam|\n",
      "|67|Fuel Injector|250|4|60|05/25/2023|Tom Yam|\n",
      "|68|Clutch Plate|180|9|129.6|05/26/2023|Tom Yam|\n",
      "|69|Fuel Injector|250|7|105|05/27/2023|Tom Yam|\n",
      "|70|Suspension Spring|150|7|31.5|05/28/2023|Tom Yam|\n",
      "|71|Alternator|350|1|24.5|05/29/2023|Tom Yam|\n",
      "|72|Clutch Plate|180|8|144|05/30/2023|Tom Yam|\n",
      "|73|Transmission Gear|300|2|36|05/31/2023|Tom Yam|\n",
      "|74|Fuel Injector|250|6|60|06/01/2023|Tom Yam|\n",
      "|75|Exhaust Manifold|220|1|15.4|06/02/2023|Tom Yam|\n"
     ]
    }
   ],
   "execution_count": 18
  },
  {
   "metadata": {
    "ExecuteTime": {
     "end_time": "2024-10-15T16:57:20.989406Z",
     "start_time": "2024-10-15T16:57:20.984365Z"
    }
   },
   "cell_type": "code",
   "source": "print(doc[2].text)",
   "id": "19845cd2a804d16e",
   "outputs": [
    {
     "name": "stdout",
     "output_type": "stream",
     "text": [
      "# Parts Inventory\n",
      "\n",
      "|Item No|Part Name|Price|Quantity|Total|Date|Supplier|\n",
      "|---|---|---|---|---|---|---|\n",
      "|76|Brake Pad|75|1|6|06/03/2023|Tom Yam|\n",
      "|77|Alternator|350|4|70|06/04/2023|Tom Yam|\n",
      "|78|Radiator|200|3|42|06/05/2023|Tom Yam|\n",
      "|79|Clutch Plate|180|3|43.2|06/06/2023|Tom Yam|\n",
      "|80|Suspension Spring|150|2|15|06/07/2023|Tom Yam|\n",
      "|81|Exhaust Manifold|220|9|158.4|06/08/2023|Tom Yam|\n",
      "|82|Engine Block|500|3|150|06/09/2023|Tom Yam|\n",
      "|83|Engine Block|500|9|405|06/10/2023|Emily Johnson|\n",
      "|84|Engine Block|500|6|180|06/11/2023|Emily Johnson|\n",
      "|85|Radiator|200|5|70|06/12/2023|Emily Johnson|\n",
      "|86|Fuel Injector|250|5|62.5|06/13/2023|Emily Johnson|\n",
      "|87|Suspension Spring|150|3|22.5|06/14/2023|Emily Johnson|\n",
      "|88|Alternator|350|2|70|06/15/2023|Emily Johnson|\n",
      "|89|Engine Block|500|1|30|06/16/2023|Emily Johnson|\n",
      "|90|Radiator|200|6|48|06/17/2023|Emily Johnson|\n",
      "|91|Clutch Plate|180|9|145.8|06/18/2023|Emily Johnson|\n",
      "|92|Radiator|200|8|96|06/19/2023|Emily Johnson|\n",
      "|93|Exhaust Manifold|220|4|79.2|06/20/2023|Emily Johnson|\n",
      "|94|Steering Wheel|100|2|12|06/21/2023|Emily Johnson|\n",
      "|95|Alternator|350|4|98|06/22/2023|Emily Johnson|\n",
      "|96|Engine Block|500|9|90|06/23/2023|Emily Johnson|\n",
      "|97|Fuel Injector|250|4|40|06/24/2023|Emily Johnson|\n",
      "|98|Radiator|200|2|16|06/25/2023|Emily Johnson|\n",
      "|99|Fuel Injector|250|9|67.5|06/26/2023|Emily Johnson|\n",
      "|100|Steering Wheel|100|8|24|06/27/2023|Emily Johnson|\n"
     ]
    }
   ],
   "execution_count": 15
  },
  {
   "metadata": {},
   "cell_type": "code",
   "outputs": [],
   "execution_count": null,
   "source": "",
   "id": "f3c501e9fcff8d4f"
  },
  {
   "metadata": {
    "ExecuteTime": {
     "end_time": "2024-10-15T17:19:32.693560Z",
     "start_time": "2024-10-15T17:19:27.584257Z"
    }
   },
   "cell_type": "code",
   "source": [
    "doc = LlamaParse(\n",
    "    result_type=\"markdown\",\n",
    "    # parsing_instruction=\"\"\"\n",
    "    # If tables do not have a header, do not generate one.\n",
    "    # Tables might be spitted on several pages, so use header from previous tables, if they are compatible.\n",
    "    # \"\"\"\n",
    ").load_data(_uri)\n",
    "print(f\"Result docs number: {len(doc)}\")"
   ],
   "id": "ae0b2224f9f80186",
   "outputs": [
    {
     "name": "stdout",
     "output_type": "stream",
     "text": [
      "Started parsing the file under job_id 3862c9a0-c527-44c6-89f0-5b7b98b8b8d7\n",
      "Result docs number: 3\n"
     ]
    }
   ],
   "execution_count": 19
  },
  {
   "metadata": {
    "ExecuteTime": {
     "end_time": "2024-10-15T17:19:32.698992Z",
     "start_time": "2024-10-15T17:19:32.694825Z"
    }
   },
   "cell_type": "code",
   "source": "print(doc[0].text)",
   "id": "270dcb69d37a6a06",
   "outputs": [
    {
     "name": "stdout",
     "output_type": "stream",
     "text": [
      "# Sales Report\n",
      "\n",
      "|order_id|product_name|price_per_unit|units_sold|amount_of_discount_total|deal_date|customer_name|\n",
      "|---|---|---|---|---|---|---|\n",
      "|1|Alternator|350|5|157.5|01/01/2024|Emily Johnson|\n",
      "|2|Engine Block|500|5|100|01/02/2024|Emily Johnson|\n",
      "|3|Engine Block|500|4|120|01/03/2024|Scott Nilson|\n",
      "|4|Clutch Plate|180|1|7.2|01/04/2024|Scott Nilson|\n",
      "|5|Transmission Gear|300|9|189|01/05/2024|Scott Nilson|\n",
      "|6|Steering Wheel|100|3|27|01/06/2024|Scott Nilson|\n",
      "|7|Exhaust Manifold|220|2|30.8|01/07/2024|Scott Nilson|\n",
      "|8|Clutch Plate|180|2|10.8|01/08/2024|Scott Nilson|\n",
      "|9|Steering Wheel|100|1|9|01/09/2024|Scott Nilson|\n",
      "|10|Engine Block|500|9|315|01/10/2024|Scott Nilson|\n",
      "|11|Clutch Plate|180|7|50.4|01/11/2024|Scott Nilson|\n",
      "|12|Transmission Gear|300|9|243|01/12/2024|Scott Nilson|\n",
      "|13|Steering Wheel|100|7|70|01/13/2024|Scott Nilson|\n",
      "|14|Brake Pad|75|4|6|01/14/2024|Scott Nilson|\n",
      "|15|Exhaust Manifold|220|3|52.8|01/15/2024|Scott Nilson|\n",
      "|16|Transmission Gear|300|2|48|01/16/2024|Scott Nilson|\n",
      "|17|Radiator|200|3|60|01/17/2024|Scott Nilson|\n",
      "|18|Steering Wheel|100|6|42|01/18/2024|Scott Nilson|\n",
      "|19|Engine Block|500|4|140|01/19/2024|Emily Johnson|\n",
      "|20|Radiator|200|5|20|01/20/2024|Emily Johnson|\n",
      "|21|Exhaust Manifold|220|5|66|01/21/2024|Emily Johnson|\n",
      "|22|Clutch Plate|180|4|50.4|01/22/2024|Emily Johnson|\n",
      "|23|Brake Pad|75|3|18|01/23/2024|Emily Johnson|\n",
      "|24|Exhaust Manifold|220|4|26.4|02/02/2023|Emily Johnson|\n",
      "|25|Steering Wheel|100|3|6|02/03/2023|Emily Johnson|\n",
      "|26|Exhaust Manifold|220|3|52.8|02/04/2023|Emily Johnson|\n",
      "|27|Steering Wheel|100|5|30|02/05/2023|Emily Johnson|\n",
      "|28|Clutch Plate|180|9|97.2|02/06/2023|Emily Johnson|\n",
      "|29|Engine Block|500|1|15|02/07/2023|Emily Johnson|\n",
      "|30|Radiator|200|9|162|02/08/2023|Emily Johnson|\n",
      "|31|Fuel Injector|250|1|20|02/09/2023|Emily Johnson|\n",
      "|32|Fuel Injector|250|6|120|02/10/2023|Emily Johnson|\n",
      "|33|Suspension Spring|150|3|27|02/11/2023|Emily Johnson|\n",
      "|34|Radiator|200|9|108|02/12/2023|Emily Johnson|\n",
      "|35|Engine Block|500|4|120|02/13/2023|Emily Johnson|\n",
      "|36|Steering Wheel|100|5|40|02/14/2023|Emily Johnson|\n",
      "|37|Brake Pad|75|1|4.5|02/15/2023|Emily Johnson|\n"
     ]
    }
   ],
   "execution_count": 20
  },
  {
   "metadata": {
    "ExecuteTime": {
     "end_time": "2024-10-15T17:19:32.704922Z",
     "start_time": "2024-10-15T17:19:32.700128Z"
    }
   },
   "cell_type": "code",
   "source": "print(doc[1].text)",
   "id": "c5eb581c677b687c",
   "outputs": [
    {
     "name": "stdout",
     "output_type": "stream",
     "text": [
      "|#|Item|Price|Quantity|Total|Date|Employee|\n",
      "|---|---|---|---|---|---|---|\n",
      "|38|Clutch Plate|180|6|64.8|02/16/2023|Emily Johnson|\n",
      "|39|Brake Pad|75|2|7.5|02/17/2023|Emily Johnson|\n",
      "|40|Steering Wheel|100|3|6|02/18/2023|Emily Johnson|\n",
      "|41|Exhaust Manifold|220|5|55|02/19/2023|Emily Johnson|\n",
      "|42|Exhaust Manifold|220|7|46.2|02/20/2023|Emily Johnson|\n",
      "|43|Engine Block|500|4|180|02/21/2023|Emily Johnson|\n",
      "|44|Transmission Gear|300|3|18|02/22/2023|Emily Johnson|\n",
      "|45|Engine Block|500|3|90|02/23/2023|Emily Johnson|\n",
      "|46|Suspension Spring|150|1|3|02/24/2023|Emily Johnson|\n",
      "|47|Exhaust Manifold|220|2|17.6|05/05/2023|Emily Johnson|\n",
      "|48|Transmission Gear|300|3|72|05/06/2023|Emily Johnson|\n",
      "|49|Engine Block|500|8|120|05/07/2023|Emily Johnson|\n",
      "|50|Suspension Spring|150|9|108|05/08/2023|Emily Johnson|\n",
      "|51|Brake Pad|75|5|11.25|05/09/2023|Emily Johnson|\n",
      "|52|Exhaust Manifold|220|4|88|05/10/2023|Emily Johnson|\n",
      "|53|Fuel Injector|250|9|112.5|05/11/2023|Emily Johnson|\n",
      "|54|Steering Wheel|100|5|50|05/12/2023|Tom Yam|\n",
      "|55|Exhaust Manifold|220|3|13.2|05/13/2023|Tom Yam|\n",
      "|56|Suspension Spring|150|4|18|05/14/2023|Tom Yam|\n",
      "|57|Engine Block|500|7|315|05/15/2023|Tom Yam|\n",
      "|58|Clutch Plate|180|5|18|05/16/2023|Tom Yam|\n",
      "|59|Clutch Plate|180|7|126|05/17/2023|Tom Yam|\n",
      "|60|Suspension Spring|150|9|27|05/18/2023|Tom Yam|\n",
      "|61|Engine Block|500|4|200|05/19/2023|Tom Yam|\n",
      "|62|Radiator|200|3|12|05/20/2023|Tom Yam|\n",
      "|63|Brake Pad|75|9|27|05/21/2023|Tom Yam|\n",
      "|64|Alternator|350|7|122.5|05/22/2023|Tom Yam|\n",
      "|65|Suspension Spring|150|5|45|05/23/2023|Tom Yam|\n",
      "|66|Suspension Spring|150|9|67.5|05/24/2023|Tom Yam|\n",
      "|67|Fuel Injector|250|4|60|05/25/2023|Tom Yam|\n",
      "|68|Clutch Plate|180|9|129.6|05/26/2023|Tom Yam|\n",
      "|69|Fuel Injector|250|7|105|05/27/2023|Tom Yam|\n",
      "|70|Suspension Spring|150|7|31.5|05/28/2023|Tom Yam|\n",
      "|71|Alternator|350|1|24.5|05/29/2023|Tom Yam|\n",
      "|72|Clutch Plate|180|8|144|05/30/2023|Tom Yam|\n",
      "|73|Transmission Gear|300|2|36|05/31/2023|Tom Yam|\n",
      "|74|Fuel Injector|250|6|60|06/01/2023|Tom Yam|\n",
      "|75|Exhaust Manifold|220|1|15.4|06/02/2023|Tom Yam|\n"
     ]
    }
   ],
   "execution_count": 21
  },
  {
   "metadata": {
    "ExecuteTime": {
     "end_time": "2024-10-15T17:19:32.711222Z",
     "start_time": "2024-10-15T17:19:32.705962Z"
    }
   },
   "cell_type": "code",
   "source": "print(doc[2].text)",
   "id": "77558775a88655fe",
   "outputs": [
    {
     "name": "stdout",
     "output_type": "stream",
     "text": [
      "# Parts Inventory\n",
      "\n",
      "|Item No|Part Name|Price|Quantity|Total|Date|Supplier|\n",
      "|---|---|---|---|---|---|---|\n",
      "|76|Brake Pad|75|1|6|06/03/2023|Tom Yam|\n",
      "|77|Alternator|350|4|70|06/04/2023|Tom Yam|\n",
      "|78|Radiator|200|3|42|06/05/2023|Tom Yam|\n",
      "|79|Clutch Plate|180|3|43.2|06/06/2023|Tom Yam|\n",
      "|80|Suspension Spring|150|2|15|06/07/2023|Tom Yam|\n",
      "|81|Exhaust Manifold|220|9|158.4|06/08/2023|Tom Yam|\n",
      "|82|Engine Block|500|3|150|06/09/2023|Tom Yam|\n",
      "|83|Engine Block|500|9|405|06/10/2023|Emily Johnson|\n",
      "|84|Engine Block|500|6|180|06/11/2023|Emily Johnson|\n",
      "|85|Radiator|200|5|70|06/12/2023|Emily Johnson|\n",
      "|86|Fuel Injector|250|5|62.5|06/13/2023|Emily Johnson|\n",
      "|87|Suspension Spring|150|3|22.5|06/14/2023|Emily Johnson|\n",
      "|88|Alternator|350|2|70|06/15/2023|Emily Johnson|\n",
      "|89|Engine Block|500|1|30|06/16/2023|Emily Johnson|\n",
      "|90|Radiator|200|6|48|06/17/2023|Emily Johnson|\n",
      "|91|Clutch Plate|180|9|145.8|06/18/2023|Emily Johnson|\n",
      "|92|Radiator|200|8|96|06/19/2023|Emily Johnson|\n",
      "|93|Exhaust Manifold|220|4|79.2|06/20/2023|Emily Johnson|\n",
      "|94|Steering Wheel|100|2|12|06/21/2023|Emily Johnson|\n",
      "|95|Alternator|350|4|98|06/22/2023|Emily Johnson|\n",
      "|96|Engine Block|500|9|90|06/23/2023|Emily Johnson|\n",
      "|97|Fuel Injector|250|4|40|06/24/2023|Emily Johnson|\n",
      "|98|Radiator|200|2|16|06/25/2023|Emily Johnson|\n",
      "|99|Fuel Injector|250|9|67.5|06/26/2023|Emily Johnson|\n",
      "|100|Steering Wheel|100|8|24|06/27/2023|Emily Johnson|\n"
     ]
    }
   ],
   "execution_count": 22
  },
  {
   "metadata": {},
   "cell_type": "code",
   "outputs": [],
   "execution_count": null,
   "source": "",
   "id": "2540fe98554eeb56"
  },
  {
   "metadata": {},
   "cell_type": "code",
   "outputs": [],
   "execution_count": null,
   "source": "",
   "id": "1905feb5d8fe1492"
  },
  {
   "metadata": {
    "ExecuteTime": {
     "end_time": "2024-10-15T17:25:46.239587Z",
     "start_time": "2024-10-15T17:24:58.149925Z"
    }
   },
   "cell_type": "code",
   "source": [
    "doc = LlamaParse(\n",
    "    result_type=\"markdown\",\n",
    "    parsing_instruction=\"\"\"\n",
    "    Do NOT provide additional comments or descriptions.\n",
    "    \"\"\"\n",
    ").load_data(_uri)\n",
    "print(f\"Result docs number: {len(doc)}\")"
   ],
   "id": "4e9d29cfda953c41",
   "outputs": [
    {
     "name": "stdout",
     "output_type": "stream",
     "text": [
      "Started parsing the file under job_id 184dbc5a-d908-4ff7-b294-4d9947d83aa9\n",
      ".Result docs number: 3\n"
     ]
    }
   ],
   "execution_count": 23
  },
  {
   "metadata": {
    "ExecuteTime": {
     "end_time": "2024-10-15T17:25:49.637042Z",
     "start_time": "2024-10-15T17:25:49.633334Z"
    }
   },
   "cell_type": "code",
   "source": "print(doc[0].text)",
   "id": "354f18a508c0e260",
   "outputs": [
    {
     "name": "stdout",
     "output_type": "stream",
     "text": [
      "|order_id|product_name|price_per_unit|units_sold|amount_of_discount_total|deal_date|customer_name|\n",
      "|---|---|---|---|---|---|---|\n",
      "|1|Alternator|350|5|157.5|01/01/2024|Emily Johnson|\n",
      "|2|Engine Block|500|5|100|01/02/2024|Emily Johnson|\n",
      "|3|Engine Block|500|4|120|01/03/2024|Scott Nilson|\n",
      "|4|Clutch Plate|180|1|7.2|01/04/2024|Scott Nilson|\n",
      "|5|Transmission Gear|300|9|189|01/05/2024|Scott Nilson|\n",
      "|6|Steering Wheel|100|3|27|01/06/2024|Scott Nilson|\n",
      "|7|Exhaust Manifold|220|2|30.8|01/07/2024|Scott Nilson|\n",
      "|8|Clutch Plate|180|2|10.8|01/08/2024|Scott Nilson|\n",
      "|9|Steering Wheel|100|1|9|01/09/2024|Scott Nilson|\n",
      "|10|Engine Block|500|9|315|01/10/2024|Scott Nilson|\n",
      "|11|Clutch Plate|180|7|50.4|01/11/2024|Scott Nilson|\n",
      "|12|Transmission Gear|300|9|243|01/12/2024|Scott Nilson|\n",
      "|13|Steering Wheel|100|7|70|01/13/2024|Scott Nilson|\n",
      "|14|Brake Pad|75|4|6|01/14/2024|Scott Nilson|\n",
      "|15|Exhaust Manifold|220|3|52.8|01/15/2024|Scott Nilson|\n",
      "|16|Transmission Gear|300|2|48|01/16/2024|Scott Nilson|\n",
      "|17|Radiator|200|3|60|01/17/2024|Scott Nilson|\n",
      "|18|Steering Wheel|100|6|42|01/18/2024|Scott Nilson|\n",
      "|19|Engine Block|500|4|140|01/19/2024|Emily Johnson|\n",
      "|20|Radiator|200|5|20|01/20/2024|Emily Johnson|\n",
      "|21|Exhaust Manifold|220|5|66|01/21/2024|Emily Johnson|\n",
      "|22|Clutch Plate|180|4|50.4|01/22/2024|Emily Johnson|\n",
      "|23|Brake Pad|75|3|18|01/23/2024|Emily Johnson|\n",
      "|24|Exhaust Manifold|220|4|26.4|02/02/2023|Emily Johnson|\n",
      "|25|Steering Wheel|100|3|6|02/03/2023|Emily Johnson|\n",
      "|26|Exhaust Manifold|220|3|52.8|02/04/2023|Emily Johnson|\n",
      "|27|Steering Wheel|100|5|30|02/05/2023|Emily Johnson|\n",
      "|28|Clutch Plate|180|9|97.2|02/06/2023|Emily Johnson|\n",
      "|29|Engine Block|500|1|15|02/07/2023|Emily Johnson|\n",
      "|30|Radiator|200|9|162|02/08/2023|Emily Johnson|\n",
      "|31|Fuel Injector|250|1|20|02/09/2023|Emily Johnson|\n",
      "|32|Fuel Injector|250|6|120|02/10/2023|Emily Johnson|\n",
      "|33|Suspension Spring|150|3|27|02/11/2023|Emily Johnson|\n",
      "|34|Radiator|200|9|108|02/12/2023|Emily Johnson|\n",
      "|35|Engine Block|500|4|120|02/13/2023|Emily Johnson|\n",
      "|36|Steering Wheel|100|5|40|02/14/2023|Emily Johnson|\n",
      "|37|Brake Pad|75|1|4.5|02/15/2023|Emily Johnson|\n"
     ]
    }
   ],
   "execution_count": 24
  },
  {
   "metadata": {
    "ExecuteTime": {
     "end_time": "2024-10-15T17:25:49.969545Z",
     "start_time": "2024-10-15T17:25:49.965784Z"
    }
   },
   "cell_type": "code",
   "source": "print(doc[1].text)",
   "id": "743569750e259cd6",
   "outputs": [
    {
     "name": "stdout",
     "output_type": "stream",
     "text": [
      "# Inventory Records\n",
      "\n",
      "|Item|Price|Quantity|Total|Date|Employee|\n",
      "|---|---|---|---|---|---|\n",
      "|Clutch Plate|180|6|64.8|02/16/2023|Emily Johnson|\n",
      "|Brake Pad|75|2|7.5|02/17/2023|Emily Johnson|\n",
      "|Steering Wheel|100|3|6|02/18/2023|Emily Johnson|\n",
      "|Exhaust Manifold|220|5|55|02/19/2023|Emily Johnson|\n",
      "|Exhaust Manifold|220|7|46.2|02/20/2023|Emily Johnson|\n",
      "|Engine Block|500|4|180|02/21/2023|Emily Johnson|\n",
      "|Transmission Gear|300|3|18|02/22/2023|Emily Johnson|\n",
      "|Engine Block|500|3|90|02/23/2023|Emily Johnson|\n",
      "|Suspension Spring|150|1|3|02/24/2023|Emily Johnson|\n",
      "|Exhaust Manifold|220|2|17.6|05/05/2023|Emily Johnson|\n",
      "|Transmission Gear|300|3|72|05/06/2023|Emily Johnson|\n",
      "|Engine Block|500|8|120|05/07/2023|Emily Johnson|\n",
      "|Suspension Spring|150|9|108|05/08/2023|Emily Johnson|\n",
      "|Brake Pad|75|5|11.25|05/09/2023|Emily Johnson|\n",
      "|Exhaust Manifold|220|4|88|05/10/2023|Emily Johnson|\n",
      "|Fuel Injector|250|9|112.5|05/11/2023|Emily Johnson|\n",
      "|Steering Wheel|100|5|50|05/12/2023|Tom Yam|\n",
      "|Exhaust Manifold|220|3|13.2|05/13/2023|Tom Yam|\n",
      "|Suspension Spring|150|4|18|05/14/2023|Tom Yam|\n",
      "|Engine Block|500|7|315|05/15/2023|Tom Yam|\n",
      "|Clutch Plate|180|5|18|05/16/2023|Tom Yam|\n",
      "|Clutch Plate|180|7|126|05/17/2023|Tom Yam|\n",
      "|Suspension Spring|150|9|27|05/18/2023|Tom Yam|\n",
      "|Engine Block|500|4|200|05/19/2023|Tom Yam|\n",
      "|Radiator|200|3|12|05/20/2023|Tom Yam|\n",
      "|Brake Pad|75|9|27|05/21/2023|Tom Yam|\n",
      "|Alternator|350|7|122.5|05/22/2023|Tom Yam|\n",
      "|Suspension Spring|150|5|45|05/23/2023|Tom Yam|\n",
      "|Suspension Spring|150|9|67.5|05/24/2023|Tom Yam|\n",
      "|Fuel Injector|250|4|60|05/25/2023|Tom Yam|\n",
      "|Clutch Plate|180|9|129.6|05/26/2023|Tom Yam|\n",
      "|Fuel Injector|250|7|105|05/27/2023|Tom Yam|\n",
      "|Suspension Spring|150|7|31.5|05/28/2023|Tom Yam|\n",
      "|Alternator|350|1|24.5|05/29/2023|Tom Yam|\n",
      "|Clutch Plate|180|8|144|05/30/2023|Tom Yam|\n",
      "|Transmission Gear|300|2|36|05/31/2023|Tom Yam|\n",
      "|Fuel Injector|250|6|60|06/01/2023|Tom Yam|\n",
      "|Exhaust Manifold|220|1|15.4|06/02/2023|Tom Yam|\n"
     ]
    }
   ],
   "execution_count": 25
  },
  {
   "metadata": {
    "ExecuteTime": {
     "end_time": "2024-10-15T17:25:50.731098Z",
     "start_time": "2024-10-15T17:25:50.726696Z"
    }
   },
   "cell_type": "code",
   "source": "print(doc[2].text)",
   "id": "f09987d9bfd44cc5",
   "outputs": [
    {
     "name": "stdout",
     "output_type": "stream",
     "text": [
      "# Parts Inventory\n",
      "\n",
      "|Item No|Item Description|Price|Quantity|Total|Date|Supplier|\n",
      "|---|---|---|---|---|---|---|\n",
      "|76|Brake Pad|75|1|6|06/03/2023|Tom Yam|\n",
      "|77|Alternator|350|4|70|06/04/2023|Tom Yam|\n",
      "|78|Radiator|200|3|42|06/05/2023|Tom Yam|\n",
      "|79|Clutch Plate|180|3|43.2|06/06/2023|Tom Yam|\n",
      "|80|Suspension Spring|150|2|15|06/07/2023|Tom Yam|\n",
      "|81|Exhaust Manifold|220|9|158.4|06/08/2023|Tom Yam|\n",
      "|82|Engine Block|500|3|150|06/09/2023|Tom Yam|\n",
      "|83|Engine Block|500|9|405|06/10/2023|Emily Johnson|\n",
      "|84|Engine Block|500|6|180|06/11/2023|Emily Johnson|\n",
      "|85|Radiator|200|5|70|06/12/2023|Emily Johnson|\n",
      "|86|Fuel Injector|250|5|62.5|06/13/2023|Emily Johnson|\n",
      "|87|Suspension Spring|150|3|22.5|06/14/2023|Emily Johnson|\n",
      "|88|Alternator|350|2|70|06/15/2023|Emily Johnson|\n",
      "|89|Engine Block|500|1|30|06/16/2023|Emily Johnson|\n",
      "|90|Radiator|200|6|48|06/17/2023|Emily Johnson|\n",
      "|91|Clutch Plate|180|9|145.8|06/18/2023|Emily Johnson|\n",
      "|92|Radiator|200|8|96|06/19/2023|Emily Johnson|\n",
      "|93|Exhaust Manifold|220|4|79.2|06/20/2023|Emily Johnson|\n",
      "|94|Steering Wheel|100|2|12|06/21/2023|Emily Johnson|\n",
      "|95|Alternator|350|4|98|06/22/2023|Emily Johnson|\n",
      "|96|Engine Block|500|9|90|06/23/2023|Emily Johnson|\n",
      "|97|Fuel Injector|250|4|40|06/24/2023|Emily Johnson|\n",
      "|98|Radiator|200|2|16|06/25/2023|Emily Johnson|\n",
      "|99|Fuel Injector|250|9|67.5|06/26/2023|Emily Johnson|\n",
      "|100|Steering Wheel|100|8|24|06/27/2023|Emily Johnson|\n"
     ]
    }
   ],
   "execution_count": 26
  },
  {
   "metadata": {},
   "cell_type": "code",
   "outputs": [],
   "execution_count": null,
   "source": "",
   "id": "3ee2e15de905a732"
  },
  {
   "metadata": {},
   "cell_type": "markdown",
   "source": "",
   "id": "3ac42a2c2b15cabb"
  },
  {
   "metadata": {
    "ExecuteTime": {
     "end_time": "2024-10-15T17:54:09.792601Z",
     "start_time": "2024-10-15T17:54:06.958635Z"
    }
   },
   "cell_type": "code",
   "source": [
    "doc = LlamaParse(\n",
    "    result_type=\"markdown\",\n",
    "    # split_by_page=False,\n",
    "    fast_mode=True,\n",
    ").load_data(_uri)\n",
    "print(f\"Result docs number: {len(doc)}\")"
   ],
   "id": "6684c747b8e09de9",
   "outputs": [
    {
     "name": "stdout",
     "output_type": "stream",
     "text": [
      "Started parsing the file under job_id daf43248-488b-41ac-a4b9-215254bb1b80\n",
      "Error while parsing the file './_data_test_pdfs/autozaz_details_orders - orders_real.pdf': 'markdown'\n",
      "Result docs number: 0\n"
     ]
    }
   ],
   "execution_count": 37
  },
  {
   "metadata": {
    "ExecuteTime": {
     "end_time": "2024-10-15T17:53:18.820825Z",
     "start_time": "2024-10-15T17:53:18.816859Z"
    }
   },
   "cell_type": "code",
   "source": "print(doc[0].text)",
   "id": "b4b1bfd354299de8",
   "outputs": [
    {
     "name": "stdout",
     "output_type": "stream",
     "text": [
      "# Sales Report\n",
      "\n",
      "|order_id|product_name|price_per_unit|units_sold|amount_of_discount_total|deal_date|customer_name|\n",
      "|---|---|---|---|---|---|---|\n",
      "|1|Alternator|350|5|157.5|01/01/2024|Emily Johnson|\n",
      "|2|Engine Block|500|5|100|01/02/2024|Emily Johnson|\n",
      "|3|Engine Block|500|4|120|01/03/2024|Scott Nilson|\n",
      "|4|Clutch Plate|180|1|7.2|01/04/2024|Scott Nilson|\n",
      "|5|Transmission Gear|300|9|189|01/05/2024|Scott Nilson|\n",
      "|6|Steering Wheel|100|3|27|01/06/2024|Scott Nilson|\n",
      "|7|Exhaust Manifold|220|2|30.8|01/07/2024|Scott Nilson|\n",
      "|8|Clutch Plate|180|2|10.8|01/08/2024|Scott Nilson|\n",
      "|9|Steering Wheel|100|1|9|01/09/2024|Scott Nilson|\n",
      "|10|Engine Block|500|9|315|01/10/2024|Scott Nilson|\n",
      "|11|Clutch Plate|180|7|50.4|01/11/2024|Scott Nilson|\n",
      "|12|Transmission Gear|300|9|243|01/12/2024|Scott Nilson|\n",
      "|13|Steering Wheel|100|7|70|01/13/2024|Scott Nilson|\n",
      "|14|Brake Pad|75|4|6|01/14/2024|Scott Nilson|\n",
      "|15|Exhaust Manifold|220|3|52.8|01/15/2024|Scott Nilson|\n",
      "|16|Transmission Gear|300|2|48|01/16/2024|Scott Nilson|\n",
      "|17|Radiator|200|3|60|01/17/2024|Scott Nilson|\n",
      "|18|Steering Wheel|100|6|42|01/18/2024|Scott Nilson|\n",
      "|19|Engine Block|500|4|140|01/19/2024|Emily Johnson|\n",
      "|20|Radiator|200|5|20|01/20/2024|Emily Johnson|\n",
      "|21|Exhaust Manifold|220|5|66|01/21/2024|Emily Johnson|\n",
      "|22|Clutch Plate|180|4|50.4|01/22/2024|Emily Johnson|\n",
      "|23|Brake Pad|75|3|18|01/23/2024|Emily Johnson|\n",
      "|24|Exhaust Manifold|220|4|26.4|02/02/2023|Emily Johnson|\n",
      "|25|Steering Wheel|100|3|6|02/03/2023|Emily Johnson|\n",
      "|26|Exhaust Manifold|220|3|52.8|02/04/2023|Emily Johnson|\n",
      "|27|Steering Wheel|100|5|30|02/05/2023|Emily Johnson|\n",
      "|28|Clutch Plate|180|9|97.2|02/06/2023|Emily Johnson|\n",
      "|29|Engine Block|500|1|15|02/07/2023|Emily Johnson|\n",
      "|30|Radiator|200|9|162|02/08/2023|Emily Johnson|\n",
      "|31|Fuel Injector|250|1|20|02/09/2023|Emily Johnson|\n",
      "|32|Fuel Injector|250|6|120|02/10/2023|Emily Johnson|\n",
      "|33|Suspension Spring|150|3|27|02/11/2023|Emily Johnson|\n",
      "|34|Radiator|200|9|108|02/12/2023|Emily Johnson|\n",
      "|35|Engine Block|500|4|120|02/13/2023|Emily Johnson|\n",
      "|36|Steering Wheel|100|5|40|02/14/2023|Emily Johnson|\n",
      "|37|Brake Pad|75|1|4.5|02/15/2023|Emily Johnson|\n",
      "---\n",
      "|#|Item|Price|Quantity|Total|Date|Employee|\n",
      "|---|---|---|---|---|---|---|\n",
      "|38|Clutch Plate|180|6|64.8|02/16/2023|Emily Johnson|\n",
      "|39|Brake Pad|75|2|7.5|02/17/2023|Emily Johnson|\n",
      "|40|Steering Wheel|100|3|6|02/18/2023|Emily Johnson|\n",
      "|41|Exhaust Manifold|220|5|55|02/19/2023|Emily Johnson|\n",
      "|42|Exhaust Manifold|220|7|46.2|02/20/2023|Emily Johnson|\n",
      "|43|Engine Block|500|4|180|02/21/2023|Emily Johnson|\n",
      "|44|Transmission Gear|300|3|18|02/22/2023|Emily Johnson|\n",
      "|45|Engine Block|500|3|90|02/23/2023|Emily Johnson|\n",
      "|46|Suspension Spring|150|1|3|02/24/2023|Emily Johnson|\n",
      "|47|Exhaust Manifold|220|2|17.6|05/05/2023|Emily Johnson|\n",
      "|48|Transmission Gear|300|3|72|05/06/2023|Emily Johnson|\n",
      "|49|Engine Block|500|8|120|05/07/2023|Emily Johnson|\n",
      "|50|Suspension Spring|150|9|108|05/08/2023|Emily Johnson|\n",
      "|51|Brake Pad|75|5|11.25|05/09/2023|Emily Johnson|\n",
      "|52|Exhaust Manifold|220|4|88|05/10/2023|Emily Johnson|\n",
      "|53|Fuel Injector|250|9|112.5|05/11/2023|Emily Johnson|\n",
      "|54|Steering Wheel|100|5|50|05/12/2023|Tom Yam|\n",
      "|55|Exhaust Manifold|220|3|13.2|05/13/2023|Tom Yam|\n",
      "|56|Suspension Spring|150|4|18|05/14/2023|Tom Yam|\n",
      "|57|Engine Block|500|7|315|05/15/2023|Tom Yam|\n",
      "|58|Clutch Plate|180|5|18|05/16/2023|Tom Yam|\n",
      "|59|Clutch Plate|180|7|126|05/17/2023|Tom Yam|\n",
      "|60|Suspension Spring|150|9|27|05/18/2023|Tom Yam|\n",
      "|61|Engine Block|500|4|200|05/19/2023|Tom Yam|\n",
      "|62|Radiator|200|3|12|05/20/2023|Tom Yam|\n",
      "|63|Brake Pad|75|9|27|05/21/2023|Tom Yam|\n",
      "|64|Alternator|350|7|122.5|05/22/2023|Tom Yam|\n",
      "|65|Suspension Spring|150|5|45|05/23/2023|Tom Yam|\n",
      "|66|Suspension Spring|150|9|67.5|05/24/2023|Tom Yam|\n",
      "|67|Fuel Injector|250|4|60|05/25/2023|Tom Yam|\n",
      "|68|Clutch Plate|180|9|129.6|05/26/2023|Tom Yam|\n",
      "|69|Fuel Injector|250|7|105|05/27/2023|Tom Yam|\n",
      "|70|Suspension Spring|150|7|31.5|05/28/2023|Tom Yam|\n",
      "|71|Alternator|350|1|24.5|05/29/2023|Tom Yam|\n",
      "|72|Clutch Plate|180|8|144|05/30/2023|Tom Yam|\n",
      "|73|Transmission Gear|300|2|36|05/31/2023|Tom Yam|\n",
      "|74|Fuel Injector|250|6|60|06/01/2023|Tom Yam|\n",
      "|75|Exhaust Manifold|220|1|15.4|06/02/2023|Tom Yam|\n",
      "---\n",
      "# Parts Inventory\n",
      "\n",
      "|Item No|Part Name|Price|Quantity|Total|Date|Supplier|\n",
      "|---|---|---|---|---|---|---|\n",
      "|76|Brake Pad|75|1|6|06/03/2023|Tom Yam|\n",
      "|77|Alternator|350|4|70|06/04/2023|Tom Yam|\n",
      "|78|Radiator|200|3|42|06/05/2023|Tom Yam|\n",
      "|79|Clutch Plate|180|3|43.2|06/06/2023|Tom Yam|\n",
      "|80|Suspension Spring|150|2|15|06/07/2023|Tom Yam|\n",
      "|81|Exhaust Manifold|220|9|158.4|06/08/2023|Tom Yam|\n",
      "|82|Engine Block|500|3|150|06/09/2023|Tom Yam|\n",
      "|83|Engine Block|500|9|405|06/10/2023|Emily Johnson|\n",
      "|84|Engine Block|500|6|180|06/11/2023|Emily Johnson|\n",
      "|85|Radiator|200|5|70|06/12/2023|Emily Johnson|\n",
      "|86|Fuel Injector|250|5|62.5|06/13/2023|Emily Johnson|\n",
      "|87|Suspension Spring|150|3|22.5|06/14/2023|Emily Johnson|\n",
      "|88|Alternator|350|2|70|06/15/2023|Emily Johnson|\n",
      "|89|Engine Block|500|1|30|06/16/2023|Emily Johnson|\n",
      "|90|Radiator|200|6|48|06/17/2023|Emily Johnson|\n",
      "|91|Clutch Plate|180|9|145.8|06/18/2023|Emily Johnson|\n",
      "|92|Radiator|200|8|96|06/19/2023|Emily Johnson|\n",
      "|93|Exhaust Manifold|220|4|79.2|06/20/2023|Emily Johnson|\n",
      "|94|Steering Wheel|100|2|12|06/21/2023|Emily Johnson|\n",
      "|95|Alternator|350|4|98|06/22/2023|Emily Johnson|\n",
      "|96|Engine Block|500|9|90|06/23/2023|Emily Johnson|\n",
      "|97|Fuel Injector|250|4|40|06/24/2023|Emily Johnson|\n",
      "|98|Radiator|200|2|16|06/25/2023|Emily Johnson|\n",
      "|99|Fuel Injector|250|9|67.5|06/26/2023|Emily Johnson|\n",
      "|100|Steering Wheel|100|8|24|06/27/2023|Emily Johnson|\n"
     ]
    }
   ],
   "execution_count": 36
  },
  {
   "metadata": {},
   "cell_type": "code",
   "outputs": [],
   "execution_count": null,
   "source": "",
   "id": "3363a25ed748028e"
  },
  {
   "metadata": {
    "ExecuteTime": {
     "end_time": "2024-10-16T07:17:00.784286Z",
     "start_time": "2024-10-16T07:14:29.948371Z"
    }
   },
   "cell_type": "code",
   "source": [
    "doc = LlamaParse(\n",
    "    result_type=\"markdown\",\n",
    "    parsing_instruction=\"\"\"\n",
    "    On start each page generate \"# PAGE\" header.\n",
    "    \"\"\"\n",
    ").load_data(_uri)\n",
    "print(f\"Result docs number: {len(doc)}\")"
   ],
   "id": "e8987d468d598456",
   "outputs": [
    {
     "name": "stdout",
     "output_type": "stream",
     "text": [
      "Started parsing the file under job_id cab90b0a-3f11-4089-bbff-272d5205aebc\n",
      ".....Result docs number: 3\n"
     ]
    }
   ],
   "execution_count": 38
  },
  {
   "metadata": {
    "ExecuteTime": {
     "end_time": "2024-10-16T07:17:04.209632Z",
     "start_time": "2024-10-16T07:17:04.203119Z"
    }
   },
   "cell_type": "code",
   "source": "print(doc[0].text)",
   "id": "51f0fb92c9406a74",
   "outputs": [
    {
     "name": "stdout",
     "output_type": "stream",
     "text": [
      "# # PAGE\n",
      "\n",
      "|order_id|product_name|price_per_unit|units_sold|amount_of_discount_total|deal_date|customer_name|\n",
      "|---|---|---|---|---|---|---|\n",
      "|1|Alternator|350|5|157.5|01/01/2024|Emily Johnson|\n",
      "|2|Engine Block|500|5|100|01/02/2024|Emily Johnson|\n",
      "|3|Engine Block|500|4|120|01/03/2024|Scott Nilson|\n",
      "|4|Clutch Plate|180|1|7.2|01/04/2024|Scott Nilson|\n",
      "|5|Transmission Gear|300|9|189|01/05/2024|Scott Nilson|\n",
      "|6|Steering Wheel|100|3|27|01/06/2024|Scott Nilson|\n",
      "|7|Exhaust Manifold|220|2|30.8|01/07/2024|Scott Nilson|\n",
      "|8|Clutch Plate|180|2|10.8|01/08/2024|Scott Nilson|\n",
      "|9|Steering Wheel|100|1|9|01/09/2024|Scott Nilson|\n",
      "|10|Engine Block|500|9|315|01/10/2024|Scott Nilson|\n",
      "|11|Clutch Plate|180|7|50.4|01/11/2024|Scott Nilson|\n",
      "|12|Transmission Gear|300|9|243|01/12/2024|Scott Nilson|\n",
      "|13|Steering Wheel|100|7|70|01/13/2024|Scott Nilson|\n",
      "|14|Brake Pad|75|4|6|01/14/2024|Scott Nilson|\n",
      "|15|Exhaust Manifold|220|3|52.8|01/15/2024|Scott Nilson|\n",
      "|16|Transmission Gear|300|2|48|01/16/2024|Scott Nilson|\n",
      "|17|Radiator|200|3|60|01/17/2024|Scott Nilson|\n",
      "|18|Steering Wheel|100|6|42|01/18/2024|Scott Nilson|\n",
      "|19|Engine Block|500|4|140|01/19/2024|Emily Johnson|\n",
      "|20|Radiator|200|5|20|01/20/2024|Emily Johnson|\n",
      "|21|Exhaust Manifold|220|5|66|01/21/2024|Emily Johnson|\n",
      "|22|Clutch Plate|180|4|50.4|01/22/2024|Emily Johnson|\n",
      "|23|Brake Pad|75|3|18|01/23/2024|Emily Johnson|\n",
      "|24|Exhaust Manifold|220|4|26.4|02/02/2023|Emily Johnson|\n",
      "|25|Steering Wheel|100|3|6|02/03/2023|Emily Johnson|\n",
      "|26|Exhaust Manifold|220|3|52.8|02/04/2023|Emily Johnson|\n",
      "|27|Steering Wheel|100|5|30|02/05/2023|Emily Johnson|\n",
      "|28|Clutch Plate|180|9|97.2|02/06/2023|Emily Johnson|\n",
      "|29|Engine Block|500|1|15|02/07/2023|Emily Johnson|\n",
      "|30|Radiator|200|9|162|02/08/2023|Emily Johnson|\n",
      "|31|Fuel Injector|250|1|20|02/09/2023|Emily Johnson|\n",
      "|32|Fuel Injector|250|6|120|02/10/2023|Emily Johnson|\n",
      "|33|Suspension Spring|150|3|27|02/11/2023|Emily Johnson|\n",
      "|34|Radiator|200|9|108|02/12/2023|Emily Johnson|\n",
      "|35|Engine Block|500|4|120|02/13/2023|Emily Johnson|\n",
      "|36|Steering Wheel|100|5|40|02/14/2023|Emily Johnson|\n",
      "|37|Brake Pad|75|1|4.5|02/15/2023|Emily Johnson|\n"
     ]
    }
   ],
   "execution_count": 39
  },
  {
   "metadata": {
    "ExecuteTime": {
     "end_time": "2024-10-16T07:17:12.343997Z",
     "start_time": "2024-10-16T07:17:12.338666Z"
    }
   },
   "cell_type": "code",
   "source": "print(doc[1].text)",
   "id": "ec6503f387b00577",
   "outputs": [
    {
     "name": "stdout",
     "output_type": "stream",
     "text": [
      "# # PAGE\n",
      "\n",
      "|Item|Price|Quantity|Total|Date|Employee|\n",
      "|---|---|---|---|---|---|\n",
      "|Clutch Plate|180|6|64.8|02/16/2023|Emily Johnson|\n",
      "|Brake Pad|75|2|7.5|02/17/2023|Emily Johnson|\n",
      "|Steering Wheel|100|3|6|02/18/2023|Emily Johnson|\n",
      "|Exhaust Manifold|220|5|55|02/19/2023|Emily Johnson|\n",
      "|Exhaust Manifold|220|7|46.2|02/20/2023|Emily Johnson|\n",
      "|Engine Block|500|4|180|02/21/2023|Emily Johnson|\n",
      "|Transmission Gear|300|3|18|02/22/2023|Emily Johnson|\n",
      "|Engine Block|500|3|90|02/23/2023|Emily Johnson|\n",
      "|Suspension Spring|150|1|3|02/24/2023|Emily Johnson|\n",
      "|Exhaust Manifold|220|2|17.6|05/05/2023|Emily Johnson|\n",
      "|Transmission Gear|300|3|72|05/06/2023|Emily Johnson|\n",
      "|Engine Block|500|8|120|05/07/2023|Emily Johnson|\n",
      "|Suspension Spring|150|9|108|05/08/2023|Emily Johnson|\n",
      "|Brake Pad|75|5|11.25|05/09/2023|Emily Johnson|\n",
      "|Exhaust Manifold|220|4|88|05/10/2023|Emily Johnson|\n",
      "|Fuel Injector|250|9|112.5|05/11/2023|Emily Johnson|\n",
      "|Steering Wheel|100|5|50|05/12/2023|Tom Yam|\n",
      "|Exhaust Manifold|220|3|13.2|05/13/2023|Tom Yam|\n",
      "|Suspension Spring|150|4|18|05/14/2023|Tom Yam|\n",
      "|Engine Block|500|7|315|05/15/2023|Tom Yam|\n",
      "|Clutch Plate|180|5|18|05/16/2023|Tom Yam|\n",
      "|Clutch Plate|180|7|126|05/17/2023|Tom Yam|\n",
      "|Suspension Spring|150|9|27|05/18/2023|Tom Yam|\n",
      "|Engine Block|500|4|200|05/19/2023|Tom Yam|\n",
      "|Radiator|200|3|12|05/20/2023|Tom Yam|\n",
      "|Brake Pad|75|9|27|05/21/2023|Tom Yam|\n",
      "|Alternator|350|7|122.5|05/22/2023|Tom Yam|\n",
      "|Suspension Spring|150|5|45|05/23/2023|Tom Yam|\n",
      "|Suspension Spring|150|9|67.5|05/24/2023|Tom Yam|\n",
      "|Fuel Injector|250|4|60|05/25/2023|Tom Yam|\n",
      "|Clutch Plate|180|9|129.6|05/26/2023|Tom Yam|\n",
      "|Fuel Injector|250|7|105|05/27/2023|Tom Yam|\n",
      "|Suspension Spring|150|7|31.5|05/28/2023|Tom Yam|\n",
      "|Alternator|350|1|24.5|05/29/2023|Tom Yam|\n",
      "|Clutch Plate|180|8|144|05/30/2023|Tom Yam|\n",
      "|Transmission Gear|300|2|36|05/31/2023|Tom Yam|\n",
      "|Fuel Injector|250|6|60|06/01/2023|Tom Yam|\n",
      "|Exhaust Manifold|220|1|15.4|06/02/2023|Tom Yam|\n"
     ]
    }
   ],
   "execution_count": 40
  },
  {
   "metadata": {
    "ExecuteTime": {
     "end_time": "2024-10-16T07:17:25.160902Z",
     "start_time": "2024-10-16T07:17:25.155912Z"
    }
   },
   "cell_type": "code",
   "source": "print(doc[2].text)",
   "id": "61a8dad5b15c4f8c",
   "outputs": [
    {
     "name": "stdout",
     "output_type": "stream",
     "text": [
      "# # PAGE\n",
      "\n",
      "|Item No|Item Description|Price|Quantity|Total|Date|Sold By|\n",
      "|---|---|---|---|---|---|---|\n",
      "|76|Brake Pad|75|1|6|06/03/2023|Tom Yam|\n",
      "|77|Alternator|350|4|70|06/04/2023|Tom Yam|\n",
      "|78|Radiator|200|3|42|06/05/2023|Tom Yam|\n",
      "|79|Clutch Plate|180|3|43.2|06/06/2023|Tom Yam|\n",
      "|80|Suspension Spring|150|2|15|06/07/2023|Tom Yam|\n",
      "|81|Exhaust Manifold|220|9|158.4|06/08/2023|Tom Yam|\n",
      "|82|Engine Block|500|3|150|06/09/2023|Tom Yam|\n",
      "|83|Engine Block|500|9|405|06/10/2023|Emily Johnson|\n",
      "|84|Engine Block|500|6|180|06/11/2023|Emily Johnson|\n",
      "|85|Radiator|200|5|70|06/12/2023|Emily Johnson|\n",
      "|86|Fuel Injector|250|5|62.5|06/13/2023|Emily Johnson|\n",
      "|87|Suspension Spring|150|3|22.5|06/14/2023|Emily Johnson|\n",
      "|88|Alternator|350|2|70|06/15/2023|Emily Johnson|\n",
      "|89|Engine Block|500|1|30|06/16/2023|Emily Johnson|\n",
      "|90|Radiator|200|6|48|06/17/2023|Emily Johnson|\n",
      "|91|Clutch Plate|180|9|145.8|06/18/2023|Emily Johnson|\n",
      "|92|Radiator|200|8|96|06/19/2023|Emily Johnson|\n",
      "|93|Exhaust Manifold|220|4|79.2|06/20/2023|Emily Johnson|\n",
      "|94|Steering Wheel|100|2|12|06/21/2023|Emily Johnson|\n",
      "|95|Alternator|350|4|98|06/22/2023|Emily Johnson|\n",
      "|96|Engine Block|500|9|90|06/23/2023|Emily Johnson|\n",
      "|97|Fuel Injector|250|4|40|06/24/2023|Emily Johnson|\n",
      "|98|Radiator|200|2|16|06/25/2023|Emily Johnson|\n",
      "|99|Fuel Injector|250|9|67.5|06/26/2023|Emily Johnson|\n",
      "|100|Steering Wheel|100|8|24|06/27/2023|Emily Johnson|\n"
     ]
    }
   ],
   "execution_count": 41
  },
  {
   "metadata": {},
   "cell_type": "code",
   "outputs": [],
   "execution_count": null,
   "source": "",
   "id": "f2da99cd87b34c3b"
  },
  {
   "metadata": {
    "ExecuteTime": {
     "end_time": "2024-10-16T10:03:14.027228Z",
     "start_time": "2024-10-16T10:03:11.064498Z"
    }
   },
   "cell_type": "code",
   "source": [
    "doc = LlamaParse(\n",
    "    result_type=\"markdown\",\n",
    "    split_by_page=False,\n",
    ").load_data(_uri)\n",
    "print(f\"Result docs number: {len(doc)}\")"
   ],
   "id": "5963ea6d7598162d",
   "outputs": [
    {
     "name": "stdout",
     "output_type": "stream",
     "text": [
      "Started parsing the file under job_id 485a468f-812b-4472-933f-b2d5bf22f52e\n",
      "Result docs number: 1\n"
     ]
    }
   ],
   "execution_count": 7
  },
  {
   "metadata": {
    "ExecuteTime": {
     "end_time": "2024-10-16T10:03:16.313434Z",
     "start_time": "2024-10-16T10:03:16.308286Z"
    }
   },
   "cell_type": "code",
   "source": "print(doc[0].text)",
   "id": "e58fa5b57ca86606",
   "outputs": [
    {
     "name": "stdout",
     "output_type": "stream",
     "text": [
      "# Sales Report\n",
      "\n",
      "|order_id|product_name|price_per_unit|units_sold|amount_of_discount_total|deal_date|customer_name|\n",
      "|---|---|---|---|---|---|---|\n",
      "|1|Alternator|350|5|157.5|01/01/2024|Emily Johnson|\n",
      "|2|Engine Block|500|5|100|01/02/2024|Emily Johnson|\n",
      "|3|Engine Block|500|4|120|01/03/2024|Scott Nilson|\n",
      "|4|Clutch Plate|180|1|7.2|01/04/2024|Scott Nilson|\n",
      "|5|Transmission Gear|300|9|189|01/05/2024|Scott Nilson|\n",
      "|6|Steering Wheel|100|3|27|01/06/2024|Scott Nilson|\n",
      "|7|Exhaust Manifold|220|2|30.8|01/07/2024|Scott Nilson|\n",
      "|8|Clutch Plate|180|2|10.8|01/08/2024|Scott Nilson|\n",
      "|9|Steering Wheel|100|1|9|01/09/2024|Scott Nilson|\n",
      "|10|Engine Block|500|9|315|01/10/2024|Scott Nilson|\n",
      "|11|Clutch Plate|180|7|50.4|01/11/2024|Scott Nilson|\n",
      "|12|Transmission Gear|300|9|243|01/12/2024|Scott Nilson|\n",
      "|13|Steering Wheel|100|7|70|01/13/2024|Scott Nilson|\n",
      "|14|Brake Pad|75|4|6|01/14/2024|Scott Nilson|\n",
      "|15|Exhaust Manifold|220|3|52.8|01/15/2024|Scott Nilson|\n",
      "|16|Transmission Gear|300|2|48|01/16/2024|Scott Nilson|\n",
      "|17|Radiator|200|3|60|01/17/2024|Scott Nilson|\n",
      "|18|Steering Wheel|100|6|42|01/18/2024|Scott Nilson|\n",
      "|19|Engine Block|500|4|140|01/19/2024|Emily Johnson|\n",
      "|20|Radiator|200|5|20|01/20/2024|Emily Johnson|\n",
      "|21|Exhaust Manifold|220|5|66|01/21/2024|Emily Johnson|\n",
      "|22|Clutch Plate|180|4|50.4|01/22/2024|Emily Johnson|\n",
      "|23|Brake Pad|75|3|18|01/23/2024|Emily Johnson|\n",
      "|24|Exhaust Manifold|220|4|26.4|02/02/2023|Emily Johnson|\n",
      "|25|Steering Wheel|100|3|6|02/03/2023|Emily Johnson|\n",
      "|26|Exhaust Manifold|220|3|52.8|02/04/2023|Emily Johnson|\n",
      "|27|Steering Wheel|100|5|30|02/05/2023|Emily Johnson|\n",
      "|28|Clutch Plate|180|9|97.2|02/06/2023|Emily Johnson|\n",
      "|29|Engine Block|500|1|15|02/07/2023|Emily Johnson|\n",
      "|30|Radiator|200|9|162|02/08/2023|Emily Johnson|\n",
      "|31|Fuel Injector|250|1|20|02/09/2023|Emily Johnson|\n",
      "|32|Fuel Injector|250|6|120|02/10/2023|Emily Johnson|\n",
      "|33|Suspension Spring|150|3|27|02/11/2023|Emily Johnson|\n",
      "|34|Radiator|200|9|108|02/12/2023|Emily Johnson|\n",
      "|35|Engine Block|500|4|120|02/13/2023|Emily Johnson|\n",
      "|36|Steering Wheel|100|5|40|02/14/2023|Emily Johnson|\n",
      "|37|Brake Pad|75|1|4.5|02/15/2023|Emily Johnson|\n",
      "---\n",
      "|#|Item|Price|Quantity|Total|Date|Employee|\n",
      "|---|---|---|---|---|---|---|\n",
      "|38|Clutch Plate|180|6|64.8|02/16/2023|Emily Johnson|\n",
      "|39|Brake Pad|75|2|7.5|02/17/2023|Emily Johnson|\n",
      "|40|Steering Wheel|100|3|6|02/18/2023|Emily Johnson|\n",
      "|41|Exhaust Manifold|220|5|55|02/19/2023|Emily Johnson|\n",
      "|42|Exhaust Manifold|220|7|46.2|02/20/2023|Emily Johnson|\n",
      "|43|Engine Block|500|4|180|02/21/2023|Emily Johnson|\n",
      "|44|Transmission Gear|300|3|18|02/22/2023|Emily Johnson|\n",
      "|45|Engine Block|500|3|90|02/23/2023|Emily Johnson|\n",
      "|46|Suspension Spring|150|1|3|02/24/2023|Emily Johnson|\n",
      "|47|Exhaust Manifold|220|2|17.6|05/05/2023|Emily Johnson|\n",
      "|48|Transmission Gear|300|3|72|05/06/2023|Emily Johnson|\n",
      "|49|Engine Block|500|8|120|05/07/2023|Emily Johnson|\n",
      "|50|Suspension Spring|150|9|108|05/08/2023|Emily Johnson|\n",
      "|51|Brake Pad|75|5|11.25|05/09/2023|Emily Johnson|\n",
      "|52|Exhaust Manifold|220|4|88|05/10/2023|Emily Johnson|\n",
      "|53|Fuel Injector|250|9|112.5|05/11/2023|Emily Johnson|\n",
      "|54|Steering Wheel|100|5|50|05/12/2023|Tom Yam|\n",
      "|55|Exhaust Manifold|220|3|13.2|05/13/2023|Tom Yam|\n",
      "|56|Suspension Spring|150|4|18|05/14/2023|Tom Yam|\n",
      "|57|Engine Block|500|7|315|05/15/2023|Tom Yam|\n",
      "|58|Clutch Plate|180|5|18|05/16/2023|Tom Yam|\n",
      "|59|Clutch Plate|180|7|126|05/17/2023|Tom Yam|\n",
      "|60|Suspension Spring|150|9|27|05/18/2023|Tom Yam|\n",
      "|61|Engine Block|500|4|200|05/19/2023|Tom Yam|\n",
      "|62|Radiator|200|3|12|05/20/2023|Tom Yam|\n",
      "|63|Brake Pad|75|9|27|05/21/2023|Tom Yam|\n",
      "|64|Alternator|350|7|122.5|05/22/2023|Tom Yam|\n",
      "|65|Suspension Spring|150|5|45|05/23/2023|Tom Yam|\n",
      "|66|Suspension Spring|150|9|67.5|05/24/2023|Tom Yam|\n",
      "|67|Fuel Injector|250|4|60|05/25/2023|Tom Yam|\n",
      "|68|Clutch Plate|180|9|129.6|05/26/2023|Tom Yam|\n",
      "|69|Fuel Injector|250|7|105|05/27/2023|Tom Yam|\n",
      "|70|Suspension Spring|150|7|31.5|05/28/2023|Tom Yam|\n",
      "|71|Alternator|350|1|24.5|05/29/2023|Tom Yam|\n",
      "|72|Clutch Plate|180|8|144|05/30/2023|Tom Yam|\n",
      "|73|Transmission Gear|300|2|36|05/31/2023|Tom Yam|\n",
      "|74|Fuel Injector|250|6|60|06/01/2023|Tom Yam|\n",
      "|75|Exhaust Manifold|220|1|15.4|06/02/2023|Tom Yam|\n",
      "---\n",
      "# Parts Inventory\n",
      "\n",
      "|Item No|Part Name|Price|Quantity|Total|Date|Supplier|\n",
      "|---|---|---|---|---|---|---|\n",
      "|76|Brake Pad|75|1|6|06/03/2023|Tom Yam|\n",
      "|77|Alternator|350|4|70|06/04/2023|Tom Yam|\n",
      "|78|Radiator|200|3|42|06/05/2023|Tom Yam|\n",
      "|79|Clutch Plate|180|3|43.2|06/06/2023|Tom Yam|\n",
      "|80|Suspension Spring|150|2|15|06/07/2023|Tom Yam|\n",
      "|81|Exhaust Manifold|220|9|158.4|06/08/2023|Tom Yam|\n",
      "|82|Engine Block|500|3|150|06/09/2023|Tom Yam|\n",
      "|83|Engine Block|500|9|405|06/10/2023|Emily Johnson|\n",
      "|84|Engine Block|500|6|180|06/11/2023|Emily Johnson|\n",
      "|85|Radiator|200|5|70|06/12/2023|Emily Johnson|\n",
      "|86|Fuel Injector|250|5|62.5|06/13/2023|Emily Johnson|\n",
      "|87|Suspension Spring|150|3|22.5|06/14/2023|Emily Johnson|\n",
      "|88|Alternator|350|2|70|06/15/2023|Emily Johnson|\n",
      "|89|Engine Block|500|1|30|06/16/2023|Emily Johnson|\n",
      "|90|Radiator|200|6|48|06/17/2023|Emily Johnson|\n",
      "|91|Clutch Plate|180|9|145.8|06/18/2023|Emily Johnson|\n",
      "|92|Radiator|200|8|96|06/19/2023|Emily Johnson|\n",
      "|93|Exhaust Manifold|220|4|79.2|06/20/2023|Emily Johnson|\n",
      "|94|Steering Wheel|100|2|12|06/21/2023|Emily Johnson|\n",
      "|95|Alternator|350|4|98|06/22/2023|Emily Johnson|\n",
      "|96|Engine Block|500|9|90|06/23/2023|Emily Johnson|\n",
      "|97|Fuel Injector|250|4|40|06/24/2023|Emily Johnson|\n",
      "|98|Radiator|200|2|16|06/25/2023|Emily Johnson|\n",
      "|99|Fuel Injector|250|9|67.5|06/26/2023|Emily Johnson|\n",
      "|100|Steering Wheel|100|8|24|06/27/2023|Emily Johnson|\n"
     ]
    }
   ],
   "execution_count": 8
  },
  {
   "metadata": {
    "ExecuteTime": {
     "end_time": "2024-10-16T10:13:10.636419Z",
     "start_time": "2024-10-16T10:13:10.632191Z"
    }
   },
   "cell_type": "code",
   "source": "print(doc[0].dict)",
   "id": "4658208dcfb71ca7",
   "outputs": [
    {
     "name": "stdout",
     "output_type": "stream",
     "text": [
      "<bound method BaseComponent.dict of Document(id_='2081268a-f519-47a4-ac67-864d6994a893', embedding=None, metadata={}, excluded_embed_metadata_keys=[], excluded_llm_metadata_keys=[], relationships={}, text='# Sales Report\\n\\n|order_id|product_name|price_per_unit|units_sold|amount_of_discount_total|deal_date|customer_name|\\n|---|---|---|---|---|---|---|\\n|1|Alternator|350|5|157.5|01/01/2024|Emily Johnson|\\n|2|Engine Block|500|5|100|01/02/2024|Emily Johnson|\\n|3|Engine Block|500|4|120|01/03/2024|Scott Nilson|\\n|4|Clutch Plate|180|1|7.2|01/04/2024|Scott Nilson|\\n|5|Transmission Gear|300|9|189|01/05/2024|Scott Nilson|\\n|6|Steering Wheel|100|3|27|01/06/2024|Scott Nilson|\\n|7|Exhaust Manifold|220|2|30.8|01/07/2024|Scott Nilson|\\n|8|Clutch Plate|180|2|10.8|01/08/2024|Scott Nilson|\\n|9|Steering Wheel|100|1|9|01/09/2024|Scott Nilson|\\n|10|Engine Block|500|9|315|01/10/2024|Scott Nilson|\\n|11|Clutch Plate|180|7|50.4|01/11/2024|Scott Nilson|\\n|12|Transmission Gear|300|9|243|01/12/2024|Scott Nilson|\\n|13|Steering Wheel|100|7|70|01/13/2024|Scott Nilson|\\n|14|Brake Pad|75|4|6|01/14/2024|Scott Nilson|\\n|15|Exhaust Manifold|220|3|52.8|01/15/2024|Scott Nilson|\\n|16|Transmission Gear|300|2|48|01/16/2024|Scott Nilson|\\n|17|Radiator|200|3|60|01/17/2024|Scott Nilson|\\n|18|Steering Wheel|100|6|42|01/18/2024|Scott Nilson|\\n|19|Engine Block|500|4|140|01/19/2024|Emily Johnson|\\n|20|Radiator|200|5|20|01/20/2024|Emily Johnson|\\n|21|Exhaust Manifold|220|5|66|01/21/2024|Emily Johnson|\\n|22|Clutch Plate|180|4|50.4|01/22/2024|Emily Johnson|\\n|23|Brake Pad|75|3|18|01/23/2024|Emily Johnson|\\n|24|Exhaust Manifold|220|4|26.4|02/02/2023|Emily Johnson|\\n|25|Steering Wheel|100|3|6|02/03/2023|Emily Johnson|\\n|26|Exhaust Manifold|220|3|52.8|02/04/2023|Emily Johnson|\\n|27|Steering Wheel|100|5|30|02/05/2023|Emily Johnson|\\n|28|Clutch Plate|180|9|97.2|02/06/2023|Emily Johnson|\\n|29|Engine Block|500|1|15|02/07/2023|Emily Johnson|\\n|30|Radiator|200|9|162|02/08/2023|Emily Johnson|\\n|31|Fuel Injector|250|1|20|02/09/2023|Emily Johnson|\\n|32|Fuel Injector|250|6|120|02/10/2023|Emily Johnson|\\n|33|Suspension Spring|150|3|27|02/11/2023|Emily Johnson|\\n|34|Radiator|200|9|108|02/12/2023|Emily Johnson|\\n|35|Engine Block|500|4|120|02/13/2023|Emily Johnson|\\n|36|Steering Wheel|100|5|40|02/14/2023|Emily Johnson|\\n|37|Brake Pad|75|1|4.5|02/15/2023|Emily Johnson|\\n---\\n|#|Item|Price|Quantity|Total|Date|Employee|\\n|---|---|---|---|---|---|---|\\n|38|Clutch Plate|180|6|64.8|02/16/2023|Emily Johnson|\\n|39|Brake Pad|75|2|7.5|02/17/2023|Emily Johnson|\\n|40|Steering Wheel|100|3|6|02/18/2023|Emily Johnson|\\n|41|Exhaust Manifold|220|5|55|02/19/2023|Emily Johnson|\\n|42|Exhaust Manifold|220|7|46.2|02/20/2023|Emily Johnson|\\n|43|Engine Block|500|4|180|02/21/2023|Emily Johnson|\\n|44|Transmission Gear|300|3|18|02/22/2023|Emily Johnson|\\n|45|Engine Block|500|3|90|02/23/2023|Emily Johnson|\\n|46|Suspension Spring|150|1|3|02/24/2023|Emily Johnson|\\n|47|Exhaust Manifold|220|2|17.6|05/05/2023|Emily Johnson|\\n|48|Transmission Gear|300|3|72|05/06/2023|Emily Johnson|\\n|49|Engine Block|500|8|120|05/07/2023|Emily Johnson|\\n|50|Suspension Spring|150|9|108|05/08/2023|Emily Johnson|\\n|51|Brake Pad|75|5|11.25|05/09/2023|Emily Johnson|\\n|52|Exhaust Manifold|220|4|88|05/10/2023|Emily Johnson|\\n|53|Fuel Injector|250|9|112.5|05/11/2023|Emily Johnson|\\n|54|Steering Wheel|100|5|50|05/12/2023|Tom Yam|\\n|55|Exhaust Manifold|220|3|13.2|05/13/2023|Tom Yam|\\n|56|Suspension Spring|150|4|18|05/14/2023|Tom Yam|\\n|57|Engine Block|500|7|315|05/15/2023|Tom Yam|\\n|58|Clutch Plate|180|5|18|05/16/2023|Tom Yam|\\n|59|Clutch Plate|180|7|126|05/17/2023|Tom Yam|\\n|60|Suspension Spring|150|9|27|05/18/2023|Tom Yam|\\n|61|Engine Block|500|4|200|05/19/2023|Tom Yam|\\n|62|Radiator|200|3|12|05/20/2023|Tom Yam|\\n|63|Brake Pad|75|9|27|05/21/2023|Tom Yam|\\n|64|Alternator|350|7|122.5|05/22/2023|Tom Yam|\\n|65|Suspension Spring|150|5|45|05/23/2023|Tom Yam|\\n|66|Suspension Spring|150|9|67.5|05/24/2023|Tom Yam|\\n|67|Fuel Injector|250|4|60|05/25/2023|Tom Yam|\\n|68|Clutch Plate|180|9|129.6|05/26/2023|Tom Yam|\\n|69|Fuel Injector|250|7|105|05/27/2023|Tom Yam|\\n|70|Suspension Spring|150|7|31.5|05/28/2023|Tom Yam|\\n|71|Alternator|350|1|24.5|05/29/2023|Tom Yam|\\n|72|Clutch Plate|180|8|144|05/30/2023|Tom Yam|\\n|73|Transmission Gear|300|2|36|05/31/2023|Tom Yam|\\n|74|Fuel Injector|250|6|60|06/01/2023|Tom Yam|\\n|75|Exhaust Manifold|220|1|15.4|06/02/2023|Tom Yam|\\n---\\n# Parts Inventory\\n\\n|Item No|Part Name|Price|Quantity|Total|Date|Supplier|\\n|---|---|---|---|---|---|---|\\n|76|Brake Pad|75|1|6|06/03/2023|Tom Yam|\\n|77|Alternator|350|4|70|06/04/2023|Tom Yam|\\n|78|Radiator|200|3|42|06/05/2023|Tom Yam|\\n|79|Clutch Plate|180|3|43.2|06/06/2023|Tom Yam|\\n|80|Suspension Spring|150|2|15|06/07/2023|Tom Yam|\\n|81|Exhaust Manifold|220|9|158.4|06/08/2023|Tom Yam|\\n|82|Engine Block|500|3|150|06/09/2023|Tom Yam|\\n|83|Engine Block|500|9|405|06/10/2023|Emily Johnson|\\n|84|Engine Block|500|6|180|06/11/2023|Emily Johnson|\\n|85|Radiator|200|5|70|06/12/2023|Emily Johnson|\\n|86|Fuel Injector|250|5|62.5|06/13/2023|Emily Johnson|\\n|87|Suspension Spring|150|3|22.5|06/14/2023|Emily Johnson|\\n|88|Alternator|350|2|70|06/15/2023|Emily Johnson|\\n|89|Engine Block|500|1|30|06/16/2023|Emily Johnson|\\n|90|Radiator|200|6|48|06/17/2023|Emily Johnson|\\n|91|Clutch Plate|180|9|145.8|06/18/2023|Emily Johnson|\\n|92|Radiator|200|8|96|06/19/2023|Emily Johnson|\\n|93|Exhaust Manifold|220|4|79.2|06/20/2023|Emily Johnson|\\n|94|Steering Wheel|100|2|12|06/21/2023|Emily Johnson|\\n|95|Alternator|350|4|98|06/22/2023|Emily Johnson|\\n|96|Engine Block|500|9|90|06/23/2023|Emily Johnson|\\n|97|Fuel Injector|250|4|40|06/24/2023|Emily Johnson|\\n|98|Radiator|200|2|16|06/25/2023|Emily Johnson|\\n|99|Fuel Injector|250|9|67.5|06/26/2023|Emily Johnson|\\n|100|Steering Wheel|100|8|24|06/27/2023|Emily Johnson|', mimetype='text/plain', start_char_idx=None, end_char_idx=None, text_template='{metadata_str}\\n\\n{content}', metadata_template='{key}: {value}', metadata_seperator='\\n')>\n"
     ]
    }
   ],
   "execution_count": 12
  },
  {
   "metadata": {},
   "cell_type": "code",
   "outputs": [],
   "execution_count": null,
   "source": "",
   "id": "75d3aaa74a74026a"
  },
  {
   "metadata": {
    "ExecuteTime": {
     "end_time": "2024-10-16T10:19:47.742116Z",
     "start_time": "2024-10-16T10:19:44.399956Z"
    }
   },
   "cell_type": "code",
   "source": [
    "doc = LlamaParse(\n",
    "    result_type=\"text\",\n",
    ").load_data(_uri)\n",
    "print(f\"Result docs number: {len(doc)}\")"
   ],
   "id": "6b71ce9e47cdb1f7",
   "outputs": [
    {
     "name": "stdout",
     "output_type": "stream",
     "text": [
      "Started parsing the file under job_id 00d79067-57eb-4535-8fdb-75d9e4692e92\n",
      "Result docs number: 3\n"
     ]
    }
   ],
   "execution_count": 13
  },
  {
   "metadata": {
    "ExecuteTime": {
     "end_time": "2024-10-16T10:20:16.958696Z",
     "start_time": "2024-10-16T10:20:16.955584Z"
    }
   },
   "cell_type": "code",
   "source": "print(doc[2].text)",
   "id": "6b69f24ae3e45bb0",
   "outputs": [
    {
     "name": "stdout",
     "output_type": "stream",
     "text": [
      " 76 Brake Pad            75  1       6  06/03/2023 Tom Yam\n",
      " 77 Alternator         350   4     70   06/04/2023 Tom Yam\n",
      " 78 Radiator           200   3     42   06/05/2023 Tom Yam\n",
      " 79 Clutch Plate       180   3    43.2  06/06/2023 Tom Yam\n",
      " 80 Suspension Spring  150   2     15   06/07/2023 Tom Yam\n",
      " 81 Exhaust Manifold   220   9  158.4   06/08/2023 Tom Yam\n",
      " 82 Engine Block       500   3    150   06/09/2023 Tom Yam\n",
      " 83 Engine Block       500   9    405   06/10/2023 Emily Johnson\n",
      " 84 Engine Block       500   6    180    06/11/2023 Emily Johnson\n",
      " 85 Radiator           200   5     70   06/12/2023 Emily Johnson\n",
      " 86 Fuel Injector      250   5    62.5  06/13/2023 Emily Johnson\n",
      " 87 Suspension Spring  150   3    22.5  06/14/2023 Emily Johnson\n",
      " 88 Alternator         350   2     70   06/15/2023 Emily Johnson\n",
      " 89 Engine Block       500   1     30   06/16/2023 Emily Johnson\n",
      " 90 Radiator           200   6     48   06/17/2023 Emily Johnson\n",
      " 91 Clutch Plate       180   9  145.8   06/18/2023 Emily Johnson\n",
      " 92 Radiator           200   8     96   06/19/2023 Emily Johnson\n",
      " 93 Exhaust Manifold   220   4    79.2  06/20/2023 Emily Johnson\n",
      " 94 Steering Wheel     100   2     12   06/21/2023 Emily Johnson\n",
      " 95 Alternator         350   4     98   06/22/2023 Emily Johnson\n",
      " 96 Engine Block       500   9     90   06/23/2023 Emily Johnson\n",
      " 97 Fuel Injector      250   4     40   06/24/2023 Emily Johnson\n",
      " 98 Radiator           200   2     16   06/25/2023 Emily Johnson\n",
      " 99 Fuel Injector      250   9    67.5  06/26/2023 Emily Johnson\n",
      "100 Steering Wheel     100   8     24   06/27/2023 Emily Johnson\n"
     ]
    }
   ],
   "execution_count": 16
  },
  {
   "metadata": {
    "ExecuteTime": {
     "end_time": "2024-10-16T10:21:35.889562Z",
     "start_time": "2024-10-16T10:21:35.884758Z"
    }
   },
   "cell_type": "code",
   "source": [
    "for line in doc[2].text.split(\"\\n\"):\n",
    "    print(line.split(\" \"))"
   ],
   "id": "1a0d0981772a35c4",
   "outputs": [
    {
     "name": "stdout",
     "output_type": "stream",
     "text": [
      "['', '76', 'Brake', 'Pad', '', '', '', '', '', '', '', '', '', '', '', '75', '', '1', '', '', '', '', '', '', '6', '', '06/03/2023', 'Tom', 'Yam']\n",
      "['', '77', 'Alternator', '', '', '', '', '', '', '', '', '350', '', '', '4', '', '', '', '', '70', '', '', '06/04/2023', 'Tom', 'Yam']\n",
      "['', '78', 'Radiator', '', '', '', '', '', '', '', '', '', '', '200', '', '', '3', '', '', '', '', '42', '', '', '06/05/2023', 'Tom', 'Yam']\n",
      "['', '79', 'Clutch', 'Plate', '', '', '', '', '', '', '180', '', '', '3', '', '', '', '43.2', '', '06/06/2023', 'Tom', 'Yam']\n",
      "['', '80', 'Suspension', 'Spring', '', '150', '', '', '2', '', '', '', '', '15', '', '', '06/07/2023', 'Tom', 'Yam']\n",
      "['', '81', 'Exhaust', 'Manifold', '', '', '220', '', '', '9', '', '158.4', '', '', '06/08/2023', 'Tom', 'Yam']\n",
      "['', '82', 'Engine', 'Block', '', '', '', '', '', '', '500', '', '', '3', '', '', '', '150', '', '', '06/09/2023', 'Tom', 'Yam']\n",
      "['', '83', 'Engine', 'Block', '', '', '', '', '', '', '500', '', '', '9', '', '', '', '405', '', '', '06/10/2023', 'Emily', 'Johnson']\n",
      "['', '84', 'Engine', 'Block', '', '', '', '', '', '', '500', '', '', '6', '', '', '', '180', '', '', '', '06/11/2023', 'Emily', 'Johnson']\n",
      "['', '85', 'Radiator', '', '', '', '', '', '', '', '', '', '', '200', '', '', '5', '', '', '', '', '70', '', '', '06/12/2023', 'Emily', 'Johnson']\n",
      "['', '86', 'Fuel', 'Injector', '', '', '', '', '', '250', '', '', '5', '', '', '', '62.5', '', '06/13/2023', 'Emily', 'Johnson']\n",
      "['', '87', 'Suspension', 'Spring', '', '150', '', '', '3', '', '', '', '22.5', '', '06/14/2023', 'Emily', 'Johnson']\n",
      "['', '88', 'Alternator', '', '', '', '', '', '', '', '', '350', '', '', '2', '', '', '', '', '70', '', '', '06/15/2023', 'Emily', 'Johnson']\n",
      "['', '89', 'Engine', 'Block', '', '', '', '', '', '', '500', '', '', '1', '', '', '', '', '30', '', '', '06/16/2023', 'Emily', 'Johnson']\n",
      "['', '90', 'Radiator', '', '', '', '', '', '', '', '', '', '', '200', '', '', '6', '', '', '', '', '48', '', '', '06/17/2023', 'Emily', 'Johnson']\n",
      "['', '91', 'Clutch', 'Plate', '', '', '', '', '', '', '180', '', '', '9', '', '145.8', '', '', '06/18/2023', 'Emily', 'Johnson']\n",
      "['', '92', 'Radiator', '', '', '', '', '', '', '', '', '', '', '200', '', '', '8', '', '', '', '', '96', '', '', '06/19/2023', 'Emily', 'Johnson']\n",
      "['', '93', 'Exhaust', 'Manifold', '', '', '220', '', '', '4', '', '', '', '79.2', '', '06/20/2023', 'Emily', 'Johnson']\n",
      "['', '94', 'Steering', 'Wheel', '', '', '', '', '100', '', '', '2', '', '', '', '', '12', '', '', '06/21/2023', 'Emily', 'Johnson']\n",
      "['', '95', 'Alternator', '', '', '', '', '', '', '', '', '350', '', '', '4', '', '', '', '', '98', '', '', '06/22/2023', 'Emily', 'Johnson']\n",
      "['', '96', 'Engine', 'Block', '', '', '', '', '', '', '500', '', '', '9', '', '', '', '', '90', '', '', '06/23/2023', 'Emily', 'Johnson']\n",
      "['', '97', 'Fuel', 'Injector', '', '', '', '', '', '250', '', '', '4', '', '', '', '', '40', '', '', '06/24/2023', 'Emily', 'Johnson']\n",
      "['', '98', 'Radiator', '', '', '', '', '', '', '', '', '', '', '200', '', '', '2', '', '', '', '', '16', '', '', '06/25/2023', 'Emily', 'Johnson']\n",
      "['', '99', 'Fuel', 'Injector', '', '', '', '', '', '250', '', '', '9', '', '', '', '67.5', '', '06/26/2023', 'Emily', 'Johnson']\n",
      "['100', 'Steering', 'Wheel', '', '', '', '', '100', '', '', '8', '', '', '', '', '24', '', '', '06/27/2023', 'Emily', 'Johnson']\n"
     ]
    }
   ],
   "execution_count": 20
  },
  {
   "metadata": {
    "ExecuteTime": {
     "end_time": "2024-10-16T10:29:06.835785Z",
     "start_time": "2024-10-16T10:28:10.461164Z"
    }
   },
   "cell_type": "code",
   "source": [
    "doc = LlamaParse(\n",
    "    result_type=\"markdown\",\n",
    "    parsing_instruction=\"\"\"\n",
    "    On start each page generate \"PAGE\" header.\n",
    "    If it seems that on the following page is table continuing, merge it.\n",
    "    \"\"\"\n",
    ").load_data(_uri)\n",
    "print(f\"Result docs number: {len(doc)}\")"
   ],
   "id": "fdf52ef2b8589c17",
   "outputs": [
    {
     "name": "stdout",
     "output_type": "stream",
     "text": [
      "Started parsing the file under job_id fa511b70-e3d3-431c-9fa1-47561253e0cf\n",
      "..Result docs number: 3\n"
     ]
    }
   ],
   "execution_count": 21
  },
  {
   "metadata": {
    "ExecuteTime": {
     "end_time": "2024-10-16T10:29:11.176318Z",
     "start_time": "2024-10-16T10:29:11.172465Z"
    }
   },
   "cell_type": "code",
   "source": "print(doc[0].text)",
   "id": "8b3816cc98613c7d",
   "outputs": [
    {
     "name": "stdout",
     "output_type": "stream",
     "text": [
      "# PAGE\n",
      "\n",
      "|order_id|product_name|price_per_unit|units_sold|amount_of_discount_total|deal_date|customer_name|\n",
      "|---|---|---|---|---|---|---|\n",
      "|1|Alternator|350|5|157.5|01/01/2024|Emily Johnson|\n",
      "|2|Engine Block|500|5|100|01/02/2024|Emily Johnson|\n",
      "|3|Engine Block|500|4|120|01/03/2024|Scott Nilson|\n",
      "|4|Clutch Plate|180|1|7.2|01/04/2024|Scott Nilson|\n",
      "|5|Transmission Gear|300|9|189|01/05/2024|Scott Nilson|\n",
      "|6|Steering Wheel|100|3|27|01/06/2024|Scott Nilson|\n",
      "|7|Exhaust Manifold|220|2|30.8|01/07/2024|Scott Nilson|\n",
      "|8|Clutch Plate|180|2|10.8|01/08/2024|Scott Nilson|\n",
      "|9|Steering Wheel|100|1|9|01/09/2024|Scott Nilson|\n",
      "|10|Engine Block|500|9|315|01/10/2024|Scott Nilson|\n",
      "|11|Clutch Plate|180|7|50.4|01/11/2024|Scott Nilson|\n",
      "|12|Transmission Gear|300|9|243|01/12/2024|Scott Nilson|\n",
      "|13|Steering Wheel|100|7|70|01/13/2024|Scott Nilson|\n",
      "|14|Brake Pad|75|4|6|01/14/2024|Scott Nilson|\n",
      "|15|Exhaust Manifold|220|3|52.8|01/15/2024|Scott Nilson|\n",
      "|16|Transmission Gear|300|2|48|01/16/2024|Scott Nilson|\n",
      "|17|Radiator|200|3|60|01/17/2024|Scott Nilson|\n",
      "|18|Steering Wheel|100|6|42|01/18/2024|Scott Nilson|\n",
      "|19|Engine Block|500|4|140|01/19/2024|Emily Johnson|\n",
      "|20|Radiator|200|5|20|01/20/2024|Emily Johnson|\n",
      "|21|Exhaust Manifold|220|5|66|01/21/2024|Emily Johnson|\n",
      "|22|Clutch Plate|180|4|50.4|01/22/2024|Emily Johnson|\n",
      "|23|Brake Pad|75|3|18|01/23/2024|Emily Johnson|\n",
      "|24|Exhaust Manifold|220|4|26.4|02/02/2023|Emily Johnson|\n",
      "|25|Steering Wheel|100|3|6|02/03/2023|Emily Johnson|\n",
      "|26|Exhaust Manifold|220|3|52.8|02/04/2023|Emily Johnson|\n",
      "|27|Steering Wheel|100|5|30|02/05/2023|Emily Johnson|\n",
      "|28|Clutch Plate|180|9|97.2|02/06/2023|Emily Johnson|\n",
      "|29|Engine Block|500|1|15|02/07/2023|Emily Johnson|\n",
      "|30|Radiator|200|9|162|02/08/2023|Emily Johnson|\n",
      "|31|Fuel Injector|250|1|20|02/09/2023|Emily Johnson|\n",
      "|32|Fuel Injector|250|6|120|02/10/2023|Emily Johnson|\n",
      "|33|Suspension Spring|150|3|27|02/11/2023|Emily Johnson|\n",
      "|34|Radiator|200|9|108|02/12/2023|Emily Johnson|\n",
      "|35|Engine Block|500|4|120|02/13/2023|Emily Johnson|\n",
      "|36|Steering Wheel|100|5|40|02/14/2023|Emily Johnson|\n",
      "|37|Brake Pad|75|1|4.5|02/15/2023|Emily Johnson|\n"
     ]
    }
   ],
   "execution_count": 22
  },
  {
   "metadata": {
    "ExecuteTime": {
     "end_time": "2024-10-16T10:29:23.010678Z",
     "start_time": "2024-10-16T10:29:23.006409Z"
    }
   },
   "cell_type": "code",
   "source": "print(doc[1].text)",
   "id": "78d695ed57a64aab",
   "outputs": [
    {
     "name": "stdout",
     "output_type": "stream",
     "text": [
      "# PAGE\n",
      "\n",
      "|Item|Price|Quantity|Total|Date|Employee|\n",
      "|---|---|---|---|---|---|\n",
      "|Clutch Plate|180|6|64.8|02/16/2023|Emily Johnson|\n",
      "|Brake Pad|75|2|7.5|02/17/2023|Emily Johnson|\n",
      "|Steering Wheel|100|3|6|02/18/2023|Emily Johnson|\n",
      "|Exhaust Manifold|220|5|55|02/19/2023|Emily Johnson|\n",
      "|Exhaust Manifold|220|7|46.2|02/20/2023|Emily Johnson|\n",
      "|Engine Block|500|4|180|02/21/2023|Emily Johnson|\n",
      "|Transmission Gear|300|3|18|02/22/2023|Emily Johnson|\n",
      "|Engine Block|500|3|90|02/23/2023|Emily Johnson|\n",
      "|Suspension Spring|150|1|3|02/24/2023|Emily Johnson|\n",
      "|Exhaust Manifold|220|2|17.6|05/05/2023|Emily Johnson|\n",
      "|Transmission Gear|300|3|72|05/06/2023|Emily Johnson|\n",
      "|Engine Block|500|8|120|05/07/2023|Emily Johnson|\n",
      "|Suspension Spring|150|9|108|05/08/2023|Emily Johnson|\n",
      "|Brake Pad|75|5|11.25|05/09/2023|Emily Johnson|\n",
      "|Exhaust Manifold|220|4|88|05/10/2023|Emily Johnson|\n",
      "|Fuel Injector|250|9|112.5|05/11/2023|Emily Johnson|\n",
      "|Steering Wheel|100|5|50|05/12/2023|Tom Yam|\n",
      "|Exhaust Manifold|220|3|13.2|05/13/2023|Tom Yam|\n",
      "|Suspension Spring|150|4|18|05/14/2023|Tom Yam|\n",
      "|Engine Block|500|7|315|05/15/2023|Tom Yam|\n",
      "|Clutch Plate|180|5|18|05/16/2023|Tom Yam|\n",
      "|Clutch Plate|180|7|126|05/17/2023|Tom Yam|\n",
      "|Suspension Spring|150|9|27|05/18/2023|Tom Yam|\n",
      "|Engine Block|500|4|200|05/19/2023|Tom Yam|\n",
      "|Radiator|200|3|12|05/20/2023|Tom Yam|\n",
      "|Brake Pad|75|9|27|05/21/2023|Tom Yam|\n",
      "|Alternator|350|7|122.5|05/22/2023|Tom Yam|\n",
      "|Suspension Spring|150|5|45|05/23/2023|Tom Yam|\n",
      "|Suspension Spring|150|9|67.5|05/24/2023|Tom Yam|\n",
      "|Fuel Injector|250|4|60|05/25/2023|Tom Yam|\n",
      "|Clutch Plate|180|9|129.6|05/26/2023|Tom Yam|\n",
      "|Fuel Injector|250|7|105|05/27/2023|Tom Yam|\n",
      "|Suspension Spring|150|7|31.5|05/28/2023|Tom Yam|\n",
      "|Alternator|350|1|24.5|05/29/2023|Tom Yam|\n",
      "|Clutch Plate|180|8|144|05/30/2023|Tom Yam|\n",
      "|Transmission Gear|300|2|36|05/31/2023|Tom Yam|\n",
      "|Fuel Injector|250|6|60|06/01/2023|Tom Yam|\n",
      "|Exhaust Manifold|220|1|15.4|06/02/2023|Tom Yam|\n"
     ]
    }
   ],
   "execution_count": 23
  },
  {
   "metadata": {
    "ExecuteTime": {
     "end_time": "2024-10-16T10:29:34.182126Z",
     "start_time": "2024-10-16T10:29:34.178386Z"
    }
   },
   "cell_type": "code",
   "source": "print(doc[2].text)",
   "id": "24d6cdab7cff9d77",
   "outputs": [
    {
     "name": "stdout",
     "output_type": "stream",
     "text": [
      "# PAGE\n",
      "\n",
      "|Item|Price|Quantity|Total|Date|Supplier|\n",
      "|---|---|---|---|---|---|\n",
      "|Brake Pad|76|1|6|06/03/2023|Tom Yam|\n",
      "|Alternator|350|4|70|06/04/2023|Tom Yam|\n",
      "|Radiator|200|3|42|06/05/2023|Tom Yam|\n",
      "|Clutch Plate|180|3|43.2|06/06/2023|Tom Yam|\n",
      "|Suspension Spring|150|2|15|06/07/2023|Tom Yam|\n",
      "|Exhaust Manifold|220|9|158.4|06/08/2023|Tom Yam|\n",
      "|Engine Block|500|3|150|06/09/2023|Tom Yam|\n",
      "|Engine Block|500|9|405|06/10/2023|Emily Johnson|\n",
      "|Engine Block|500|6|180|06/11/2023|Emily Johnson|\n",
      "|Radiator|200|5|70|06/12/2023|Emily Johnson|\n",
      "|Fuel Injector|250|5|62.5|06/13/2023|Emily Johnson|\n",
      "|Suspension Spring|150|3|22.5|06/14/2023|Emily Johnson|\n",
      "|Alternator|350|2|70|06/15/2023|Emily Johnson|\n",
      "|Engine Block|500|1|30|06/16/2023|Emily Johnson|\n",
      "|Radiator|200|6|48|06/17/2023|Emily Johnson|\n",
      "|Clutch Plate|180|9|145.8|06/18/2023|Emily Johnson|\n",
      "|Radiator|200|8|96|06/19/2023|Emily Johnson|\n",
      "|Exhaust Manifold|220|4|79.2|06/20/2023|Emily Johnson|\n",
      "|Steering Wheel|100|2|12|06/21/2023|Emily Johnson|\n",
      "|Alternator|350|4|98|06/22/2023|Emily Johnson|\n",
      "|Engine Block|500|9|90|06/23/2023|Emily Johnson|\n",
      "|Fuel Injector|250|4|40|06/24/2023|Emily Johnson|\n",
      "|Radiator|200|2|16|06/25/2023|Emily Johnson|\n",
      "|Fuel Injector|250|9|67.5|06/26/2023|Emily Johnson|\n",
      "|Steering Wheel|100|8|24|06/27/2023|Emily Johnson|\n"
     ]
    }
   ],
   "execution_count": 24
  },
  {
   "metadata": {},
   "cell_type": "code",
   "outputs": [],
   "execution_count": null,
   "source": "",
   "id": "f86177c7efd86536"
  },
  {
   "metadata": {
    "ExecuteTime": {
     "end_time": "2024-10-16T10:31:57.208355Z",
     "start_time": "2024-10-16T10:31:09.141191Z"
    }
   },
   "cell_type": "code",
   "source": [
    "doc = LlamaParse(\n",
    "    result_type=\"markdown\",\n",
    "    parsing_instruction=\"\"\"\n",
    "    On start each page generate \"# PAGE\" header.\n",
    "    Provide exact copy of table, without headers.\n",
    "    \"\"\"\n",
    ").load_data(_uri)\n",
    "print(f\"Result docs number: {len(doc)}\")"
   ],
   "id": "3fcfea60f20224b0",
   "outputs": [
    {
     "name": "stdout",
     "output_type": "stream",
     "text": [
      "Started parsing the file under job_id 95734f56-49b4-482d-b62b-e9582663e643\n",
      ".Result docs number: 3\n"
     ]
    }
   ],
   "execution_count": 25
  },
  {
   "metadata": {
    "ExecuteTime": {
     "end_time": "2024-10-16T10:32:05.755102Z",
     "start_time": "2024-10-16T10:32:05.751806Z"
    }
   },
   "cell_type": "code",
   "source": "print(doc[0].text)",
   "id": "22087da9f53a3e2e",
   "outputs": [
    {
     "name": "stdout",
     "output_type": "stream",
     "text": [
      "# # PAGE\n",
      "\n",
      "|order_id|product_name|price_per_unit|units_sold|amount_of_discount_total|deal_date|customer_name|\n",
      "|---|---|---|---|---|---|---|\n",
      "|1|Alternator|350|5|157.5|01/01/2024|Emily Johnson|\n",
      "|2|Engine Block|500|5|100|01/02/2024|Emily Johnson|\n",
      "|3|Engine Block|500|4|120|01/03/2024|Scott Nilson|\n",
      "|4|Clutch Plate|180|1|7.2|01/04/2024|Scott Nilson|\n",
      "|5|Transmission Gear|300|9|189|01/05/2024|Scott Nilson|\n",
      "|6|Steering Wheel|100|3|27|01/06/2024|Scott Nilson|\n",
      "|7|Exhaust Manifold|220|2|30.8|01/07/2024|Scott Nilson|\n",
      "|8|Clutch Plate|180|2|10.8|01/08/2024|Scott Nilson|\n",
      "|9|Steering Wheel|100|1|9|01/09/2024|Scott Nilson|\n",
      "|10|Engine Block|500|9|315|01/10/2024|Scott Nilson|\n",
      "|11|Clutch Plate|180|7|50.4|01/11/2024|Scott Nilson|\n",
      "|12|Transmission Gear|300|9|243|01/12/2024|Scott Nilson|\n",
      "|13|Steering Wheel|100|7|70|01/13/2024|Scott Nilson|\n",
      "|14|Brake Pad|75|4|6|01/14/2024|Scott Nilson|\n",
      "|15|Exhaust Manifold|220|3|52.8|01/15/2024|Scott Nilson|\n",
      "|16|Transmission Gear|300|2|48|01/16/2024|Scott Nilson|\n",
      "|17|Radiator|200|3|60|01/17/2024|Scott Nilson|\n",
      "|18|Steering Wheel|100|6|42|01/18/2024|Scott Nilson|\n",
      "|19|Engine Block|500|4|140|01/19/2024|Emily Johnson|\n",
      "|20|Radiator|200|5|20|01/20/2024|Emily Johnson|\n",
      "|21|Exhaust Manifold|220|5|66|01/21/2024|Emily Johnson|\n",
      "|22|Clutch Plate|180|4|50.4|01/22/2024|Emily Johnson|\n",
      "|23|Brake Pad|75|3|18|01/23/2024|Emily Johnson|\n",
      "|24|Exhaust Manifold|220|4|26.4|02/02/2023|Emily Johnson|\n",
      "|25|Steering Wheel|100|3|6|02/03/2023|Emily Johnson|\n",
      "|26|Exhaust Manifold|220|3|52.8|02/04/2023|Emily Johnson|\n",
      "|27|Steering Wheel|100|5|30|02/05/2023|Emily Johnson|\n",
      "|28|Clutch Plate|180|9|97.2|02/06/2023|Emily Johnson|\n",
      "|29|Engine Block|500|1|15|02/07/2023|Emily Johnson|\n",
      "|30|Radiator|200|9|162|02/08/2023|Emily Johnson|\n",
      "|31|Fuel Injector|250|1|20|02/09/2023|Emily Johnson|\n",
      "|32|Fuel Injector|250|6|120|02/10/2023|Emily Johnson|\n",
      "|33|Suspension Spring|150|3|27|02/11/2023|Emily Johnson|\n",
      "|34|Radiator|200|9|108|02/12/2023|Emily Johnson|\n",
      "|35|Engine Block|500|4|120|02/13/2023|Emily Johnson|\n",
      "|36|Steering Wheel|100|5|40|02/14/2023|Emily Johnson|\n",
      "|37|Brake Pad|75|1|4.5|02/15/2023|Emily Johnson|\n"
     ]
    }
   ],
   "execution_count": 26
  },
  {
   "metadata": {
    "ExecuteTime": {
     "end_time": "2024-10-16T10:32:17.915312Z",
     "start_time": "2024-10-16T10:32:17.911420Z"
    }
   },
   "cell_type": "code",
   "source": "print(doc[1].text)",
   "id": "65a62db1fc93043a",
   "outputs": [
    {
     "name": "stdout",
     "output_type": "stream",
     "text": [
      "# # PAGE\n",
      "\n",
      "|38|Clutch Plate|180|6|64.8|02/16/2023|Emily Johnson|\n",
      "|---|---|---|---|---|---|---|\n",
      "|39|Brake Pad|75|2|7.5|02/17/2023|Emily Johnson|\n",
      "|40|Steering Wheel|100|3|6|02/18/2023|Emily Johnson|\n",
      "|41|Exhaust Manifold|220|5|55|02/19/2023|Emily Johnson|\n",
      "|42|Exhaust Manifold|220|7|46.2|02/20/2023|Emily Johnson|\n",
      "|43|Engine Block|500|4|180|02/21/2023|Emily Johnson|\n",
      "|44|Transmission Gear|300|3|18|02/22/2023|Emily Johnson|\n",
      "|45|Engine Block|500|3|90|02/23/2023|Emily Johnson|\n",
      "|46|Suspension Spring|150|1|3|02/24/2023|Emily Johnson|\n",
      "|47|Exhaust Manifold|220|2|17.6|05/05/2023|Emily Johnson|\n",
      "|48|Transmission Gear|300|3|72|05/06/2023|Emily Johnson|\n",
      "|49|Engine Block|500|8|120|05/07/2023|Emily Johnson|\n",
      "|50|Suspension Spring|150|9|108|05/08/2023|Emily Johnson|\n",
      "|51|Brake Pad|75|5|11.25|05/09/2023|Emily Johnson|\n",
      "|52|Exhaust Manifold|220|4|88|05/10/2023|Emily Johnson|\n",
      "|53|Fuel Injector|250|9|112.5|05/11/2023|Emily Johnson|\n",
      "|54|Steering Wheel|100|5|50|05/12/2023|Tom Yam|\n",
      "|55|Exhaust Manifold|220|3|13.2|05/13/2023|Tom Yam|\n",
      "|56|Suspension Spring|150|4|18|05/14/2023|Tom Yam|\n",
      "|57|Engine Block|500|7|315|05/15/2023|Tom Yam|\n",
      "|58|Clutch Plate|180|5|18|05/16/2023|Tom Yam|\n",
      "|59|Clutch Plate|180|7|126|05/17/2023|Tom Yam|\n",
      "|60|Suspension Spring|150|9|27|05/18/2023|Tom Yam|\n",
      "|61|Engine Block|500|4|200|05/19/2023|Tom Yam|\n",
      "|62|Radiator|200|3|12|05/20/2023|Tom Yam|\n",
      "|63|Brake Pad|75|9|27|05/21/2023|Tom Yam|\n",
      "|64|Alternator|350|7|122.5|05/22/2023|Tom Yam|\n",
      "|65|Suspension Spring|150|5|45|05/23/2023|Tom Yam|\n",
      "|66|Suspension Spring|150|9|67.5|05/24/2023|Tom Yam|\n",
      "|67|Fuel Injector|250|4|60|05/25/2023|Tom Yam|\n",
      "|68|Clutch Plate|180|9|129.6|05/26/2023|Tom Yam|\n",
      "|69|Fuel Injector|250|7|105|05/27/2023|Tom Yam|\n",
      "|70|Suspension Spring|150|7|31.5|05/28/2023|Tom Yam|\n",
      "|71|Alternator|350|1|24.5|05/29/2023|Tom Yam|\n",
      "|72|Clutch Plate|180|8|144|05/30/2023|Tom Yam|\n",
      "|73|Transmission Gear|300|2|36|05/31/2023|Tom Yam|\n",
      "|74|Fuel Injector|250|6|60|06/01/2023|Tom Yam|\n",
      "|75|Exhaust Manifold|220|1|15.4|06/02/2023|Tom Yam|\n"
     ]
    }
   ],
   "execution_count": 27
  },
  {
   "metadata": {
    "ExecuteTime": {
     "end_time": "2024-10-16T10:32:28.121324Z",
     "start_time": "2024-10-16T10:32:28.116571Z"
    }
   },
   "cell_type": "code",
   "source": "print(doc[2].text)",
   "id": "689b40309a7efcfd",
   "outputs": [
    {
     "name": "stdout",
     "output_type": "stream",
     "text": [
      "# # PAGE\n",
      "\n",
      "|76|Brake Pad|75|1|6|06/03/2023|Tom Yam|\n",
      "|---|---|---|---|---|---|---|\n",
      "|77|Alternator|350|4|70|06/04/2023|Tom Yam|\n",
      "|78|Radiator|200|3|42|06/05/2023|Tom Yam|\n",
      "|79|Clutch Plate|180|3|43.2|06/06/2023|Tom Yam|\n",
      "|80|Suspension Spring|150|2|15|06/07/2023|Tom Yam|\n",
      "|81|Exhaust Manifold|220|9|158.4|06/08/2023|Tom Yam|\n",
      "|82|Engine Block|500|3|150|06/09/2023|Tom Yam|\n",
      "|83|Engine Block|500|9|405|06/10/2023|Emily Johnson|\n",
      "|84|Engine Block|500|6|180|06/11/2023|Emily Johnson|\n",
      "|85|Radiator|200|5|70|06/12/2023|Emily Johnson|\n",
      "|86|Fuel Injector|250|5|62.5|06/13/2023|Emily Johnson|\n",
      "|87|Suspension Spring|150|3|22.5|06/14/2023|Emily Johnson|\n",
      "|88|Alternator|350|2|70|06/15/2023|Emily Johnson|\n",
      "|89|Engine Block|500|1|30|06/16/2023|Emily Johnson|\n",
      "|90|Radiator|200|6|48|06/17/2023|Emily Johnson|\n",
      "|91|Clutch Plate|180|9|145.8|06/18/2023|Emily Johnson|\n",
      "|92|Radiator|200|8|96|06/19/2023|Emily Johnson|\n",
      "|93|Exhaust Manifold|220|4|79.2|06/20/2023|Emily Johnson|\n",
      "|94|Steering Wheel|100|2|12|06/21/2023|Emily Johnson|\n",
      "|95|Alternator|350|4|98|06/22/2023|Emily Johnson|\n",
      "|96|Engine Block|500|9|90|06/23/2023|Emily Johnson|\n",
      "|97|Fuel Injector|250|4|40|06/24/2023|Emily Johnson|\n",
      "|98|Radiator|200|2|16|06/25/2023|Emily Johnson|\n",
      "|99|Fuel Injector|250|9|67.5|06/26/2023|Emily Johnson|\n",
      "|100|Steering Wheel|100|8|24|06/27/2023|Emily Johnson|\n"
     ]
    }
   ],
   "execution_count": 28
  },
  {
   "metadata": {
    "ExecuteTime": {
     "end_time": "2024-10-17T08:51:48.919863Z",
     "start_time": "2024-10-17T08:51:46.191627Z"
    }
   },
   "cell_type": "code",
   "source": [
    "doc = LlamaParse(\n",
    "    result_type=\"markdown\",\n",
    "    parsing_instruction=\"\"\"\n",
    "    On start each page generate \"PAGE\" header.\n",
    "    Provide exact copy of table, without headers.\n",
    "    \"\"\"\n",
    ").load_data(_uri)\n",
    "print(f\"Result docs number: {len(doc)}\")"
   ],
   "id": "e3c234aa72b95cd7",
   "outputs": [
    {
     "name": "stdout",
     "output_type": "stream",
     "text": [
      "Started parsing the file under job_id 787ab196-672e-4227-bf47-325121aabc65\n",
      "Result docs number: 3\n"
     ]
    }
   ],
   "execution_count": 27
  },
  {
   "metadata": {
    "ExecuteTime": {
     "end_time": "2024-10-17T08:51:50.518719Z",
     "start_time": "2024-10-17T08:51:50.514846Z"
    }
   },
   "cell_type": "code",
   "source": "print(doc[0].text)",
   "id": "66e9061a40c48346",
   "outputs": [
    {
     "name": "stdout",
     "output_type": "stream",
     "text": [
      "PAGE\n",
      "\n",
      "1 Alternator                         350               5                            157.5              01/01/2024 Emily Johnson\n",
      "2 Engine Block                       500               5                              100              01/02/2024 Emily Johnson\n",
      "3 Engine Block                       500               4                              120              01/03/2024 Scott Nilson\n",
      "4 Clutch Plate                       180               1                               7.2             01/04/2024 Scott Nilson\n",
      "5 Transmission Gear                  300               9                              189              01/05/2024 Scott Nilson\n",
      "6 Steering Wheel                     100               3                               27              01/06/2024 Scott Nilson\n",
      "7 Exhaust Manifold                   220               2                             30.8              01/07/2024 Scott Nilson\n",
      "8 Clutch Plate                       180               2                             10.8              01/08/2024 Scott Nilson\n",
      "9 Steering Wheel                     100               1                                 9             01/09/2024 Scott Nilson\n",
      "10 Engine Block                       500               9                              315              01/10/2024 Scott Nilson\n",
      "11 Clutch Plate                       180               7                             50.4              01/11/2024 Scott Nilson\n",
      "12 Transmission Gear                  300               9                              243              01/12/2024 Scott Nilson\n",
      "13 Steering Wheel                     100               7                               70              01/13/2024 Scott Nilson\n",
      "14 Brake Pad                            75              4                                 6             01/14/2024 Scott Nilson\n",
      "15 Exhaust Manifold                   220               3                             52.8              01/15/2024 Scott Nilson\n",
      "16 Transmission Gear                  300               2                               48              01/16/2024 Scott Nilson\n",
      "17 Radiator                           200               3                               60              01/17/2024 Scott Nilson\n",
      "18 Steering Wheel                     100               6                               42              01/18/2024 Scott Nilson\n",
      "19 Engine Block                       500               4                              140              01/19/2024 Emily Johnson\n",
      "20 Radiator                           200               5                               20              01/20/2024 Emily Johnson\n",
      "21 Exhaust Manifold                   220               5                               66              01/21/2024 Emily Johnson\n",
      "22 Clutch Plate                       180               4                             50.4              01/22/2024 Emily Johnson\n",
      "23 Brake Pad                            75              3                               18              01/23/2024 Emily Johnson\n",
      "24 Exhaust Manifold                   220               4                             26.4              02/02/2023 Emily Johnson\n",
      "25 Steering Wheel                     100               3                                 6             02/03/2023 Emily Johnson\n",
      "26 Exhaust Manifold                   220               3                             52.8              02/04/2023 Emily Johnson\n",
      "27 Steering Wheel                     100               5                               30              02/05/2023 Emily Johnson\n",
      "28 Clutch Plate                       180               9                             97.2              02/06/2023 Emily Johnson\n",
      "29 Engine Block                       500               1                               15              02/07/2023 Emily Johnson\n",
      "30 Radiator                           200               9                              162              02/08/2023 Emily Johnson\n",
      "31 Fuel Injector                      250               1                               20              02/09/2023 Emily Johnson\n",
      "32 Fuel Injector                      250               6                              120              02/10/2023 Emily Johnson\n",
      "33 Suspension Spring                  150               3                               27              02/11/2023 Emily Johnson\n",
      "34 Radiator                           200               9                              108              02/12/2023 Emily Johnson\n",
      "35 Engine Block                       500               4                              120              02/13/2023 Emily Johnson\n",
      "36 Steering Wheel                     100               5                               40              02/14/2023 Emily Johnson\n",
      "37 Brake Pad                            75              1                               4.5             02/15/2023 Emily Johnson\n"
     ]
    }
   ],
   "execution_count": 28
  },
  {
   "metadata": {
    "ExecuteTime": {
     "end_time": "2024-10-17T08:51:33.395711Z",
     "start_time": "2024-10-17T08:51:33.391298Z"
    }
   },
   "cell_type": "code",
   "source": "print(doc[1].text)",
   "id": "df0d20bec9986509",
   "outputs": [
    {
     "name": "stdout",
     "output_type": "stream",
     "text": [
      "38 Clutch Plate       180  6   64.8   02/16/2023 Emily Johnson\n",
      "39 Brake Pad           75  2    7.5   02/17/2023 Emily Johnson\n",
      "40 Steering Wheel     100  3       6  02/18/2023 Emily Johnson\n",
      "41 Exhaust Manifold   220  5     55   02/19/2023 Emily Johnson\n",
      "42 Exhaust Manifold   220  7   46.2   02/20/2023 Emily Johnson\n",
      "43 Engine Block       500  4    180   02/21/2023 Emily Johnson\n",
      "44 Transmission Gear  300  3     18   02/22/2023 Emily Johnson\n",
      "45 Engine Block       500  3     90   02/23/2023 Emily Johnson\n",
      "46 Suspension Spring  150  1       3  02/24/2023 Emily Johnson\n",
      "47 Exhaust Manifold   220  2   17.6   05/05/2023 Emily Johnson\n",
      "48 Transmission Gear  300  3     72   05/06/2023 Emily Johnson\n",
      "49 Engine Block       500  8    120   05/07/2023 Emily Johnson\n",
      "50 Suspension Spring  150  9    108   05/08/2023 Emily Johnson\n",
      "51 Brake Pad           75  5  11.25   05/09/2023 Emily Johnson\n",
      "52 Exhaust Manifold   220  4     88   05/10/2023 Emily Johnson\n",
      "53 Fuel Injector      250  9  112.5   05/11/2023 Emily Johnson\n",
      "54 Steering Wheel     100  5     50   05/12/2023 Tom Yam\n",
      "55 Exhaust Manifold   220  3   13.2   05/13/2023 Tom Yam\n",
      "56 Suspension Spring  150  4     18   05/14/2023 Tom Yam\n",
      "57 Engine Block       500  7    315   05/15/2023 Tom Yam\n",
      "58 Clutch Plate       180  5     18   05/16/2023 Tom Yam\n",
      "59 Clutch Plate       180  7    126   05/17/2023 Tom Yam\n",
      "60 Suspension Spring  150  9     27   05/18/2023 Tom Yam\n",
      "61 Engine Block       500  4    200   05/19/2023 Tom Yam\n",
      "62 Radiator           200  3     12   05/20/2023 Tom Yam\n",
      "63 Brake Pad           75  9     27   05/21/2023 Tom Yam\n",
      "64 Alternator         350  7  122.5   05/22/2023 Tom Yam\n",
      "65 Suspension Spring  150  5     45   05/23/2023 Tom Yam\n",
      "66 Suspension Spring  150  9   67.5   05/24/2023 Tom Yam\n",
      "67 Fuel Injector      250  4     60   05/25/2023 Tom Yam\n",
      "68 Clutch Plate       180  9  129.6   05/26/2023 Tom Yam\n",
      "69 Fuel Injector      250  7    105   05/27/2023 Tom Yam\n",
      "70 Suspension Spring  150  7   31.5   05/28/2023 Tom Yam\n",
      "71 Alternator         350  1   24.5   05/29/2023 Tom Yam\n",
      "72 Clutch Plate       180  8    144   05/30/2023 Tom Yam\n",
      "73 Transmission Gear  300  2     36   05/31/2023 Tom Yam\n",
      "74 Fuel Injector      250  6     60   06/01/2023 Tom Yam\n",
      "75 Exhaust Manifold   220  1   15.4   06/02/2023 Tom Yam\n"
     ]
    }
   ],
   "execution_count": 25
  },
  {
   "metadata": {
    "ExecuteTime": {
     "end_time": "2024-10-17T08:51:34.508501Z",
     "start_time": "2024-10-17T08:51:34.504298Z"
    }
   },
   "cell_type": "code",
   "source": "print(doc[2].text)",
   "id": "77062f123aa9ba99",
   "outputs": [
    {
     "name": "stdout",
     "output_type": "stream",
     "text": [
      " 76 Brake Pad            75  1       6  06/03/2023 Tom Yam\n",
      " 77 Alternator         350   4     70   06/04/2023 Tom Yam\n",
      " 78 Radiator           200   3     42   06/05/2023 Tom Yam\n",
      " 79 Clutch Plate       180   3    43.2  06/06/2023 Tom Yam\n",
      " 80 Suspension Spring  150   2     15   06/07/2023 Tom Yam\n",
      " 81 Exhaust Manifold   220   9  158.4   06/08/2023 Tom Yam\n",
      " 82 Engine Block       500   3    150   06/09/2023 Tom Yam\n",
      " 83 Engine Block       500   9    405   06/10/2023 Emily Johnson\n",
      " 84 Engine Block       500   6    180    06/11/2023 Emily Johnson\n",
      " 85 Radiator           200   5     70   06/12/2023 Emily Johnson\n",
      " 86 Fuel Injector      250   5    62.5  06/13/2023 Emily Johnson\n",
      " 87 Suspension Spring  150   3    22.5  06/14/2023 Emily Johnson\n",
      " 88 Alternator         350   2     70   06/15/2023 Emily Johnson\n",
      " 89 Engine Block       500   1     30   06/16/2023 Emily Johnson\n",
      " 90 Radiator           200   6     48   06/17/2023 Emily Johnson\n",
      " 91 Clutch Plate       180   9  145.8   06/18/2023 Emily Johnson\n",
      " 92 Radiator           200   8     96   06/19/2023 Emily Johnson\n",
      " 93 Exhaust Manifold   220   4    79.2  06/20/2023 Emily Johnson\n",
      " 94 Steering Wheel     100   2     12   06/21/2023 Emily Johnson\n",
      " 95 Alternator         350   4     98   06/22/2023 Emily Johnson\n",
      " 96 Engine Block       500   9     90   06/23/2023 Emily Johnson\n",
      " 97 Fuel Injector      250   4     40   06/24/2023 Emily Johnson\n",
      " 98 Radiator           200   2     16   06/25/2023 Emily Johnson\n",
      " 99 Fuel Injector      250   9    67.5  06/26/2023 Emily Johnson\n",
      "100 Steering Wheel     100   8     24   06/27/2023 Emily Johnson\n"
     ]
    }
   ],
   "execution_count": 26
  },
  {
   "metadata": {
    "ExecuteTime": {
     "end_time": "2024-10-17T08:50:44.529947Z",
     "start_time": "2024-10-17T08:50:27.122264Z"
    }
   },
   "cell_type": "code",
   "source": [
    "doc = LlamaParse(\n",
    "    result_type=\"markdown\",\n",
    "    parsing_instruction=\"\"\"\n",
    "    On start each page generate \"PAGE\" header.\n",
    "    Provide exact copy of table, without headers.\n",
    "    \"\"\"\n",
    ").load_data(_uri)\n",
    "print(f\"Result docs number: {len(doc)}\")"
   ],
   "id": "2e0d50fe0831a183",
   "outputs": [
    {
     "name": "stdout",
     "output_type": "stream",
     "text": [
      "Started parsing the file under job_id 586d3987-3edb-43b2-87d9-bec47bcb09bb\n",
      "Result docs number: 3\n"
     ]
    }
   ],
   "execution_count": 14
  },
  {
   "metadata": {
    "ExecuteTime": {
     "end_time": "2024-10-17T08:50:52.828856Z",
     "start_time": "2024-10-17T08:50:52.824474Z"
    }
   },
   "cell_type": "code",
   "source": "print(doc[0].text)",
   "id": "74c2e0fbaf06501e",
   "outputs": [
    {
     "name": "stdout",
     "output_type": "stream",
     "text": [
      "PAGE\n",
      "\n",
      "1 Alternator                         350               5                            157.5              01/01/2024 Emily Johnson\n",
      "2 Engine Block                       500               5                              100              01/02/2024 Emily Johnson\n",
      "3 Engine Block                       500               4                              120              01/03/2024 Scott Nilson\n",
      "4 Clutch Plate                       180               1                               7.2             01/04/2024 Scott Nilson\n",
      "5 Transmission Gear                  300               9                              189              01/05/2024 Scott Nilson\n",
      "6 Steering Wheel                     100               3                               27              01/06/2024 Scott Nilson\n",
      "7 Exhaust Manifold                   220               2                             30.8              01/07/2024 Scott Nilson\n",
      "8 Clutch Plate                       180               2                             10.8              01/08/2024 Scott Nilson\n",
      "9 Steering Wheel                     100               1                                 9             01/09/2024 Scott Nilson\n",
      "10 Engine Block                       500               9                              315              01/10/2024 Scott Nilson\n",
      "11 Clutch Plate                       180               7                             50.4              01/11/2024 Scott Nilson\n",
      "12 Transmission Gear                  300               9                              243              01/12/2024 Scott Nilson\n",
      "13 Steering Wheel                     100               7                               70              01/13/2024 Scott Nilson\n",
      "14 Brake Pad                            75              4                                 6             01/14/2024 Scott Nilson\n",
      "15 Exhaust Manifold                   220               3                             52.8              01/15/2024 Scott Nilson\n",
      "16 Transmission Gear                  300               2                               48              01/16/2024 Scott Nilson\n",
      "17 Radiator                           200               3                               60              01/17/2024 Scott Nilson\n",
      "18 Steering Wheel                     100               6                               42              01/18/2024 Scott Nilson\n",
      "19 Engine Block                       500               4                              140              01/19/2024 Emily Johnson\n",
      "20 Radiator                           200               5                               20              01/20/2024 Emily Johnson\n",
      "21 Exhaust Manifold                   220               5                               66              01/21/2024 Emily Johnson\n",
      "22 Clutch Plate                       180               4                             50.4              01/22/2024 Emily Johnson\n",
      "23 Brake Pad                            75              3                               18              01/23/2024 Emily Johnson\n",
      "24 Exhaust Manifold                   220               4                             26.4              02/02/2023 Emily Johnson\n",
      "25 Steering Wheel                     100               3                                 6             02/03/2023 Emily Johnson\n",
      "26 Exhaust Manifold                   220               3                             52.8              02/04/2023 Emily Johnson\n",
      "27 Steering Wheel                     100               5                               30              02/05/2023 Emily Johnson\n",
      "28 Clutch Plate                       180               9                             97.2              02/06/2023 Emily Johnson\n",
      "29 Engine Block                       500               1                               15              02/07/2023 Emily Johnson\n",
      "30 Radiator                           200               9                              162              02/08/2023 Emily Johnson\n",
      "31 Fuel Injector                      250               1                               20              02/09/2023 Emily Johnson\n",
      "32 Fuel Injector                      250               6                              120              02/10/2023 Emily Johnson\n",
      "33 Suspension Spring                  150               3                               27              02/11/2023 Emily Johnson\n",
      "34 Radiator                           200               9                              108              02/12/2023 Emily Johnson\n",
      "35 Engine Block                       500               4                              120              02/13/2023 Emily Johnson\n",
      "36 Steering Wheel                     100               5                               40              02/14/2023 Emily Johnson\n",
      "37 Brake Pad                            75              1                               4.5             02/15/2023 Emily Johnson\n"
     ]
    }
   ],
   "execution_count": 16
  },
  {
   "metadata": {
    "ExecuteTime": {
     "end_time": "2024-10-17T08:50:54.193978Z",
     "start_time": "2024-10-17T08:50:54.188414Z"
    }
   },
   "cell_type": "code",
   "source": "print(doc[1].text)",
   "id": "1e4903ea2b358912",
   "outputs": [
    {
     "name": "stdout",
     "output_type": "stream",
     "text": [
      "PAGE\n",
      "\n",
      "38 Clutch Plate       180  6   64.8   02/16/2023 Emily Johnson\n",
      "39 Brake Pad           75  2    7.5   02/17/2023 Emily Johnson\n",
      "40 Steering Wheel     100  3       6  02/18/2023 Emily Johnson\n",
      "41 Exhaust Manifold   220  5     55   02/19/2023 Emily Johnson\n",
      "42 Exhaust Manifold   220  7   46.2   02/20/2023 Emily Johnson\n",
      "43 Engine Block       500  4    180   02/21/2023 Emily Johnson\n",
      "44 Transmission Gear  300  3     18   02/22/2023 Emily Johnson\n",
      "45 Engine Block       500  3     90   02/23/2023 Emily Johnson\n",
      "46 Suspension Spring  150  1       3  02/24/2023 Emily Johnson\n",
      "47 Exhaust Manifold   220  2   17.6   05/05/2023 Emily Johnson\n",
      "48 Transmission Gear  300  3     72   05/06/2023 Emily Johnson\n",
      "49 Engine Block       500  8    120   05/07/2023 Emily Johnson\n",
      "50 Suspension Spring  150  9    108   05/08/2023 Emily Johnson\n",
      "51 Brake Pad           75  5  11.25   05/09/2023 Emily Johnson\n",
      "52 Exhaust Manifold   220  4     88   05/10/2023 Emily Johnson\n",
      "53 Fuel Injector      250  9  112.5   05/11/2023 Emily Johnson\n",
      "54 Steering Wheel     100  5     50   05/12/2023 Tom Yam\n",
      "55 Exhaust Manifold   220  3   13.2   05/13/2023 Tom Yam\n",
      "56 Suspension Spring  150  4     18   05/14/2023 Tom Yam\n",
      "57 Engine Block       500  7    315   05/15/2023 Tom Yam\n",
      "58 Clutch Plate       180  5     18   05/16/2023 Tom Yam\n",
      "59 Clutch Plate       180  7    126   05/17/2023 Tom Yam\n",
      "60 Suspension Spring  150  9     27   05/18/2023 Tom Yam\n",
      "61 Engine Block       500  4    200   05/19/2023 Tom Yam\n",
      "62 Radiator           200  3     12   05/20/2023 Tom Yam\n",
      "63 Brake Pad           75  9     27   05/21/2023 Tom Yam\n",
      "64 Alternator         350  7  122.5   05/22/2023 Tom Yam\n",
      "65 Suspension Spring  150  5     45   05/23/2023 Tom Yam\n",
      "66 Suspension Spring  150  9   67.5   05/24/2023 Tom Yam\n",
      "67 Fuel Injector      250  4     60   05/25/2023 Tom Yam\n",
      "68 Clutch Plate       180  9  129.6   05/26/2023 Tom Yam\n",
      "69 Fuel Injector      250  7    105   05/27/2023 Tom Yam\n",
      "70 Suspension Spring  150  7   31.5   05/28/2023 Tom Yam\n",
      "71 Alternator         350  1   24.5   05/29/2023 Tom Yam\n",
      "72 Clutch Plate       180  8    144   05/30/2023 Tom Yam\n",
      "73 Transmission Gear  300  2     36   05/31/2023 Tom Yam\n",
      "74 Fuel Injector      250  6     60   06/01/2023 Tom Yam\n",
      "75 Exhaust Manifold   220  1   15.4   06/02/2023 Tom Yam\n"
     ]
    }
   ],
   "execution_count": 17
  },
  {
   "metadata": {
    "ExecuteTime": {
     "end_time": "2024-10-17T08:50:54.915223Z",
     "start_time": "2024-10-17T08:50:54.910561Z"
    }
   },
   "cell_type": "code",
   "source": "print(doc[2].text)",
   "id": "3c96a08921616a52",
   "outputs": [
    {
     "name": "stdout",
     "output_type": "stream",
     "text": [
      "PAGE\n",
      "\n",
      "76 Brake Pad            75  1       6  06/03/2023 Tom Yam\n",
      "77 Alternator         350   4     70   06/04/2023 Tom Yam\n",
      "78 Radiator           200   3     42   06/05/2023 Tom Yam\n",
      "79 Clutch Plate       180   3    43.2  06/06/2023 Tom Yam\n",
      "80 Suspension Spring  150   2     15   06/07/2023 Tom Yam\n",
      "81 Exhaust Manifold   220   9  158.4   06/08/2023 Tom Yam\n",
      "82 Engine Block       500   3    150   06/09/2023 Tom Yam\n",
      "83 Engine Block       500   9    405   06/10/2023 Emily Johnson\n",
      "84 Engine Block       500   6    180    06/11/2023 Emily Johnson\n",
      "85 Radiator           200   5     70   06/12/2023 Emily Johnson\n",
      "86 Fuel Injector      250   5    62.5  06/13/2023 Emily Johnson\n",
      "87 Suspension Spring  150   3    22.5  06/14/2023 Emily Johnson\n",
      "88 Alternator         350   2     70   06/15/2023 Emily Johnson\n",
      "89 Engine Block       500   1     30   06/16/2023 Emily Johnson\n",
      "90 Radiator           200   6     48   06/17/2023 Emily Johnson\n",
      "91 Clutch Plate       180   9  145.8   06/18/2023 Emily Johnson\n",
      "92 Radiator           200   8     96   06/19/2023 Emily Johnson\n",
      "93 Exhaust Manifold   220   4    79.2  06/20/2023 Emily Johnson\n",
      "94 Steering Wheel     100   2     12   06/21/2023 Emily Johnson\n",
      "95 Alternator         350   4     98   06/22/2023 Emily Johnson\n",
      "96 Engine Block       500   9     90   06/23/2023 Emily Johnson\n",
      "97 Fuel Injector      250   4     40   06/24/2023 Emily Johnson\n",
      "98 Radiator           200   2     16   06/25/2023 Emily Johnson\n",
      "99 Fuel Injector      250   9    67.5  06/26/2023 Emily Johnson\n",
      "100 Steering Wheel     100   8     24   06/27/2023 Emily Johnson\n"
     ]
    }
   ],
   "execution_count": 18
  },
  {
   "metadata": {
    "ExecuteTime": {
     "end_time": "2024-10-17T08:54:37.004966Z",
     "start_time": "2024-10-17T08:53:24.828861Z"
    }
   },
   "cell_type": "code",
   "source": [
    "doc = LlamaParse(\n",
    "    result_type=\"markdown\",\n",
    "    # parsing_instruction=\"\"\"\n",
    "    # On start each page generate \"PAGE\" header.\n",
    "    # Provide exact copy of table, without headers.\n",
    "    # \"\"\"\n",
    ").load_data(_uri)\n",
    "print(f\"Result docs number: {len(doc)}\")"
   ],
   "id": "3788e13a1d4aa089",
   "outputs": [
    {
     "name": "stdout",
     "output_type": "stream",
     "text": [
      "Started parsing the file under job_id d89031d5-1eb6-46c6-82a6-1ce3a6dda82d\n",
      "..Result docs number: 3\n"
     ]
    }
   ],
   "execution_count": 29
  },
  {
   "metadata": {
    "ExecuteTime": {
     "end_time": "2024-10-17T08:54:37.010935Z",
     "start_time": "2024-10-17T08:54:37.006449Z"
    }
   },
   "cell_type": "code",
   "source": "print(doc[0].text)",
   "id": "9bef1945b2b12198",
   "outputs": [
    {
     "name": "stdout",
     "output_type": "stream",
     "text": [
      "|order_id|product_name|price_per_unit|units_sold|amount_of_discount_total|deal_date|customer_name|\n",
      "|---|---|---|---|---|---|---|\n",
      "|1|Alternator|350|5|157.5|01/01/2024|Emily Johnson|\n",
      "|2|Engine Block|500|5|100|01/02/2024|Emily Johnson|\n",
      "|3|Engine Block|500|4|120|01/03/2024|Scott Nilson|\n",
      "|4|Clutch Plate|180|1|7.2|01/04/2024|Scott Nilson|\n",
      "|5|Transmission Gear|300|9|189|01/05/2024|Scott Nilson|\n",
      "|6|Steering Wheel|100|3|27|01/06/2024|Scott Nilson|\n",
      "|7|Exhaust Manifold|220|2|30.8|01/07/2024|Scott Nilson|\n",
      "|8|Clutch Plate|180|2|10.8|01/08/2024|Scott Nilson|\n",
      "|9|Steering Wheel|100|1|9|01/09/2024|Scott Nilson|\n",
      "|10|Engine Block|500|9|315|01/10/2024|Scott Nilson|\n",
      "|11|Clutch Plate|180|7|50.4|01/11/2024|Scott Nilson|\n",
      "|12|Transmission Gear|300|9|243|01/12/2024|Scott Nilson|\n",
      "|13|Steering Wheel|100|7|70|01/13/2024|Scott Nilson|\n",
      "|14|Brake Pad|75|4|6|01/14/2024|Scott Nilson|\n",
      "|15|Exhaust Manifold|220|3|52.8|01/15/2024|Scott Nilson|\n",
      "|16|Transmission Gear|300|2|48|01/16/2024|Scott Nilson|\n",
      "|17|Radiator|200|3|60|01/17/2024|Scott Nilson|\n",
      "|18|Steering Wheel|100|6|42|01/18/2024|Scott Nilson|\n",
      "|19|Engine Block|500|4|140|01/19/2024|Emily Johnson|\n",
      "|20|Radiator|200|5|20|01/20/2024|Emily Johnson|\n",
      "|21|Exhaust Manifold|220|5|66|01/21/2024|Emily Johnson|\n",
      "|22|Clutch Plate|180|4|50.4|01/22/2024|Emily Johnson|\n",
      "|23|Brake Pad|75|3|18|01/23/2024|Emily Johnson|\n",
      "|24|Exhaust Manifold|220|4|26.4|02/02/2023|Emily Johnson|\n",
      "|25|Steering Wheel|100|3|6|02/03/2023|Emily Johnson|\n",
      "|26|Exhaust Manifold|220|3|52.8|02/04/2023|Emily Johnson|\n",
      "|27|Steering Wheel|100|5|30|02/05/2023|Emily Johnson|\n",
      "|28|Clutch Plate|180|9|97.2|02/06/2023|Emily Johnson|\n",
      "|29|Engine Block|500|1|15|02/07/2023|Emily Johnson|\n",
      "|30|Radiator|200|9|162|02/08/2023|Emily Johnson|\n",
      "|31|Fuel Injector|250|1|20|02/09/2023|Emily Johnson|\n",
      "|32|Fuel Injector|250|6|120|02/10/2023|Emily Johnson|\n",
      "|33|Suspension Spring|150|3|27|02/11/2023|Emily Johnson|\n",
      "|34|Radiator|200|9|108|02/12/2023|Emily Johnson|\n",
      "|35|Engine Block|500|4|120|02/13/2023|Emily Johnson|\n",
      "|36|Steering Wheel|100|5|40|02/14/2023|Emily Johnson|\n",
      "|37|Brake Pad|75|1|4.5|02/15/2023|Emily Johnson|\n"
     ]
    }
   ],
   "execution_count": 30
  },
  {
   "metadata": {
    "ExecuteTime": {
     "end_time": "2024-10-17T08:54:37.019700Z",
     "start_time": "2024-10-17T08:54:37.012076Z"
    }
   },
   "cell_type": "code",
   "source": "print(doc[1].text)",
   "id": "29bf681a0131e475",
   "outputs": [
    {
     "name": "stdout",
     "output_type": "stream",
     "text": [
      "# Inventory Report\n",
      "\n",
      "|Item|Price|Quantity|Total|Date|Employee|\n",
      "|---|---|---|---|---|---|\n",
      "|Clutch Plate|180|6|64.8|02/16/2023|Emily Johnson|\n",
      "|Brake Pad|75|2|7.5|02/17/2023|Emily Johnson|\n",
      "|Steering Wheel|100|3|6|02/18/2023|Emily Johnson|\n",
      "|Exhaust Manifold|220|5|55|02/19/2023|Emily Johnson|\n",
      "|Exhaust Manifold|220|7|46.2|02/20/2023|Emily Johnson|\n",
      "|Engine Block|500|4|180|02/21/2023|Emily Johnson|\n",
      "|Transmission Gear|300|3|18|02/22/2023|Emily Johnson|\n",
      "|Engine Block|500|3|90|02/23/2023|Emily Johnson|\n",
      "|Suspension Spring|150|1|3|02/24/2023|Emily Johnson|\n",
      "|Exhaust Manifold|220|2|17.6|05/05/2023|Emily Johnson|\n",
      "|Transmission Gear|300|3|72|05/06/2023|Emily Johnson|\n",
      "|Engine Block|500|8|120|05/07/2023|Emily Johnson|\n",
      "|Suspension Spring|150|9|108|05/08/2023|Emily Johnson|\n",
      "|Brake Pad|75|5|11.25|05/09/2023|Emily Johnson|\n",
      "|Exhaust Manifold|220|4|88|05/10/2023|Emily Johnson|\n",
      "|Fuel Injector|250|9|112.5|05/11/2023|Emily Johnson|\n",
      "|Steering Wheel|100|5|50|05/12/2023|Tom Yam|\n",
      "|Exhaust Manifold|220|3|13.2|05/13/2023|Tom Yam|\n",
      "|Suspension Spring|150|4|18|05/14/2023|Tom Yam|\n",
      "|Engine Block|500|7|315|05/15/2023|Tom Yam|\n",
      "|Clutch Plate|180|5|18|05/16/2023|Tom Yam|\n",
      "|Clutch Plate|180|7|126|05/17/2023|Tom Yam|\n",
      "|Suspension Spring|150|9|27|05/18/2023|Tom Yam|\n",
      "|Engine Block|500|4|200|05/19/2023|Tom Yam|\n",
      "|Radiator|200|3|12|05/20/2023|Tom Yam|\n",
      "|Brake Pad|75|9|27|05/21/2023|Tom Yam|\n",
      "|Alternator|350|7|122.5|05/22/2023|Tom Yam|\n",
      "|Suspension Spring|150|5|45|05/23/2023|Tom Yam|\n",
      "|Suspension Spring|150|9|67.5|05/24/2023|Tom Yam|\n",
      "|Fuel Injector|250|4|60|05/25/2023|Tom Yam|\n",
      "|Clutch Plate|180|9|129.6|05/26/2023|Tom Yam|\n",
      "|Fuel Injector|250|7|105|05/27/2023|Tom Yam|\n",
      "|Suspension Spring|150|7|31.5|05/28/2023|Tom Yam|\n",
      "|Alternator|350|1|24.5|05/29/2023|Tom Yam|\n",
      "|Clutch Plate|180|8|144|05/30/2023|Tom Yam|\n",
      "|Transmission Gear|300|2|36|05/31/2023|Tom Yam|\n",
      "|Fuel Injector|250|6|60|06/01/2023|Tom Yam|\n",
      "|Exhaust Manifold|220|1|15.4|06/02/2023|Tom Yam|\n"
     ]
    }
   ],
   "execution_count": 31
  },
  {
   "metadata": {
    "ExecuteTime": {
     "end_time": "2024-10-17T08:54:37.031045Z",
     "start_time": "2024-10-17T08:54:37.021712Z"
    }
   },
   "cell_type": "code",
   "source": "print(doc[2].text)",
   "id": "ef286344dd28533",
   "outputs": [
    {
     "name": "stdout",
     "output_type": "stream",
     "text": [
      "# Parts Inventory\n",
      "\n",
      "|Item No|Part Name|Price|Quantity|Total|Date|Supplier|\n",
      "|---|---|---|---|---|---|---|\n",
      "|76|Brake Pad|75|1|6|06/03/2023|Tom Yam|\n",
      "|77|Alternator|350|4|70|06/04/2023|Tom Yam|\n",
      "|78|Radiator|200|3|42|06/05/2023|Tom Yam|\n",
      "|79|Clutch Plate|180|3|43.2|06/06/2023|Tom Yam|\n",
      "|80|Suspension Spring|150|2|15|06/07/2023|Tom Yam|\n",
      "|81|Exhaust Manifold|220|9|158.4|06/08/2023|Tom Yam|\n",
      "|82|Engine Block|500|3|150|06/09/2023|Tom Yam|\n",
      "|83|Engine Block|500|9|405|06/10/2023|Emily Johnson|\n",
      "|84|Engine Block|500|6|180|06/11/2023|Emily Johnson|\n",
      "|85|Radiator|200|5|70|06/12/2023|Emily Johnson|\n",
      "|86|Fuel Injector|250|5|62.5|06/13/2023|Emily Johnson|\n",
      "|87|Suspension Spring|150|3|22.5|06/14/2023|Emily Johnson|\n",
      "|88|Alternator|350|2|70|06/15/2023|Emily Johnson|\n",
      "|89|Engine Block|500|1|30|06/16/2023|Emily Johnson|\n",
      "|90|Radiator|200|6|48|06/17/2023|Emily Johnson|\n",
      "|91|Clutch Plate|180|9|145.8|06/18/2023|Emily Johnson|\n",
      "|92|Radiator|200|8|96|06/19/2023|Emily Johnson|\n",
      "|93|Exhaust Manifold|220|4|79.2|06/20/2023|Emily Johnson|\n",
      "|94|Steering Wheel|100|2|12|06/21/2023|Emily Johnson|\n",
      "|95|Alternator|350|4|98|06/22/2023|Emily Johnson|\n",
      "|96|Engine Block|500|9|90|06/23/2023|Emily Johnson|\n",
      "|97|Fuel Injector|250|4|40|06/24/2023|Emily Johnson|\n",
      "|98|Radiator|200|2|16|06/25/2023|Emily Johnson|\n",
      "|99|Fuel Injector|250|9|67.5|06/26/2023|Emily Johnson|\n",
      "|100|Steering Wheel|100|8|24|06/27/2023|Emily Johnson|\n"
     ]
    }
   ],
   "execution_count": 32
  },
  {
   "metadata": {
    "ExecuteTime": {
     "end_time": "2024-10-17T08:55:40.029485Z",
     "start_time": "2024-10-17T08:55:14.463999Z"
    }
   },
   "cell_type": "code",
   "source": [
    "doc = LlamaParse(\n",
    "    result_type=\"markdown\",\n",
    "    parsing_instruction=\"\"\"\n",
    "    On start each page generate \"PAGE\" header.\n",
    "    Provide exact copy of table.\n",
    "    \"\"\"\n",
    ").load_data(_uri)\n",
    "print(f\"Result docs number: {len(doc)}\")"
   ],
   "id": "1301392e8ba69e5d",
   "outputs": [
    {
     "name": "stdout",
     "output_type": "stream",
     "text": [
      "Started parsing the file under job_id 5f66b7df-de5b-43fb-ab9c-cb4642965ce4\n",
      "Result docs number: 3\n"
     ]
    }
   ],
   "execution_count": 33
  },
  {
   "metadata": {
    "ExecuteTime": {
     "end_time": "2024-10-17T08:55:45.153835Z",
     "start_time": "2024-10-17T08:55:45.149436Z"
    }
   },
   "cell_type": "code",
   "source": "print(doc[0].text)",
   "id": "7f804bc65c24e64a",
   "outputs": [
    {
     "name": "stdout",
     "output_type": "stream",
     "text": [
      "PAGE\n",
      "\n",
      "| order_id | product_name          | price_per_unit | units_sold | amount_of_discount_total | deal_date   | customer_name   |\n",
      "|----------|-----------------------|----------------|------------|-------------------------|-------------|------------------|\n",
      "| 1        | Alternator            | 350            | 5          | 157.5                  | 01/01/2024  | Emily Johnson     |\n",
      "| 2        | Engine Block          | 500            | 5          | 100                    | 01/02/2024  | Emily Johnson     |\n",
      "| 3        | Engine Block          | 500            | 4          | 120                    | 01/03/2024  | Scott Nilson      |\n",
      "| 4        | Clutch Plate          | 180            | 1          | 7.2                    | 01/04/2024  | Scott Nilson      |\n",
      "| 5        | Transmission Gear     | 300            | 9          | 189                    | 01/05/2024  | Scott Nilson      |\n",
      "| 6        | Steering Wheel        | 100            | 3          | 27                     | 01/06/2024  | Scott Nilson      |\n",
      "| 7        | Exhaust Manifold      | 220            | 2          | 30.8                   | 01/07/2024  | Scott Nilson      |\n",
      "| 8        | Clutch Plate          | 180            | 2          | 10.8                   | 01/08/2024  | Scott Nilson      |\n",
      "| 9        | Steering Wheel        | 100            | 1          | 9                      | 01/09/2024  | Scott Nilson      |\n",
      "| 10       | Engine Block          | 500            | 9          | 315                    | 01/10/2024  | Scott Nilson      |\n",
      "| 11       | Clutch Plate          | 180            | 7          | 50.4                   | 01/11/2024  | Scott Nilson      |\n",
      "| 12       | Transmission Gear     | 300            | 9          | 243                    | 01/12/2024  | Scott Nilson      |\n",
      "| 13       | Steering Wheel        | 100            | 7          | 70                     | 01/13/2024  | Scott Nilson      |\n",
      "| 14       | Brake Pad             | 75             | 4          | 6                      | 01/14/2024  | Scott Nilson      |\n",
      "| 15       | Exhaust Manifold      | 220            | 3          | 52.8                   | 01/15/2024  | Scott Nilson      |\n",
      "| 16       | Transmission Gear     | 300            | 2          | 48                     | 01/16/2024  | Scott Nilson      |\n",
      "| 17       | Radiator              | 200            | 3          | 60                     | 01/17/2024  | Scott Nilson      |\n",
      "| 18       | Steering Wheel        | 100            | 6          | 42                     | 01/18/2024  | Scott Nilson      |\n",
      "| 19       | Engine Block          | 500            | 4          | 140                    | 01/19/2024  | Emily Johnson     |\n",
      "| 20       | Radiator              | 200            | 5          | 20                     | 01/20/2024  | Emily Johnson     |\n",
      "| 21       | Exhaust Manifold      | 220            | 5          | 66                     | 01/21/2024  | Emily Johnson     |\n",
      "| 22       | Clutch Plate          | 180            | 4          | 50.4                   | 01/22/2024  | Emily Johnson     |\n",
      "| 23       | Brake Pad             | 75             | 3          | 18                     | 01/23/2024  | Emily Johnson     |\n",
      "| 24       | Exhaust Manifold      | 220            | 4          | 26.4                   | 02/02/2023  | Emily Johnson     |\n",
      "| 25       | Steering Wheel        | 100            | 3          | 6                      | 02/03/2023  | Emily Johnson     |\n",
      "| 26       | Exhaust Manifold      | 220            | 3          | 52.8                   | 02/04/2023  | Emily Johnson     |\n",
      "| 27       | Steering Wheel        | 100            | 5          | 30                     | 02/05/2023  | Emily Johnson     |\n",
      "| 28       | Clutch Plate          | 180            | 9          | 97.2                   | 02/06/2023  | Emily Johnson     |\n",
      "| 29       | Engine Block          | 500            | 1          | 15                     | 02/07/2023  | Emily Johnson     |\n",
      "| 30       | Radiator              | 200            | 9          | 162                    | 02/08/2023  | Emily Johnson     |\n",
      "| 31       | Fuel Injector         | 250            | 1          | 20                     | 02/09/2023  | Emily Johnson     |\n",
      "| 32       | Fuel Injector         | 250            | 6          | 120                    | 02/10/2023  | Emily Johnson     |\n",
      "| 33       | Suspension Spring     | 150            | 3          | 27                     | 02/11/2023  | Emily Johnson     |\n",
      "| 34       | Radiator              | 200            | 9          | 108                    | 02/12/2023  | Emily Johnson     |\n",
      "| 35       | Engine Block          | 500            | 4          | 120                    | 02/13/2023  | Emily Johnson     |\n",
      "| 36       | Steering Wheel        | 100            | 5          | 40                     | 02/14/2023  | Emily Johnson     |\n",
      "| 37       | Brake Pad             | 75             | 1          | 4.5                    | 02/15/2023  | Emily Johnson     |\n"
     ]
    }
   ],
   "execution_count": 34
  },
  {
   "metadata": {
    "ExecuteTime": {
     "end_time": "2024-10-17T08:55:45.434634Z",
     "start_time": "2024-10-17T08:55:45.431095Z"
    }
   },
   "cell_type": "code",
   "source": "print(doc[1].text)",
   "id": "eec99bb6081e39e5",
   "outputs": [
    {
     "name": "stdout",
     "output_type": "stream",
     "text": [
      "# PAGE\n",
      "\n",
      "| Item                | Price | Qty | Total  | Date       | Employee       |\n",
      "|---------------------|-------|-----|--------|------------|-----------------|\n",
      "| 38 Clutch Plate     | 180   | 6   | 64.8   | 02/16/2023 | Emily Johnson    |\n",
      "| 39 Brake Pad        | 75    | 2   | 7.5    | 02/17/2023 | Emily Johnson    |\n",
      "| 40 Steering Wheel    | 100   | 3   | 6      | 02/18/2023 | Emily Johnson    |\n",
      "| 41 Exhaust Manifold  | 220   | 5   | 55     | 02/19/2023 | Emily Johnson    |\n",
      "| 42 Exhaust Manifold  | 220   | 7   | 46.2   | 02/20/2023 | Emily Johnson    |\n",
      "| 43 Engine Block      | 500   | 4   | 180    | 02/21/2023 | Emily Johnson    |\n",
      "| 44 Transmission Gear | 300   | 3   | 18     | 02/22/2023 | Emily Johnson    |\n",
      "| 45 Engine Block      | 500   | 3   | 90     | 02/23/2023 | Emily Johnson    |\n",
      "| 46 Suspension Spring  | 150   | 1   | 3      | 02/24/2023 | Emily Johnson    |\n",
      "| 47 Exhaust Manifold  | 220   | 2   | 17.6   | 05/05/2023 | Emily Johnson    |\n",
      "| 48 Transmission Gear | 300   | 3   | 72     | 05/06/2023 | Emily Johnson    |\n",
      "| 49 Engine Block      | 500   | 8   | 120    | 05/07/2023 | Emily Johnson    |\n",
      "| 50 Suspension Spring  | 150   | 9   | 108    | 05/08/2023 | Emily Johnson    |\n",
      "| 51 Brake Pad        | 75    | 5   | 11.25  | 05/09/2023 | Emily Johnson    |\n",
      "| 52 Exhaust Manifold  | 220   | 4   | 88     | 05/10/2023 | Emily Johnson    |\n",
      "| 53 Fuel Injector     | 250   | 9   | 112.5  | 05/11/2023 | Emily Johnson    |\n",
      "| 54 Steering Wheel    | 100   | 5   | 50     | 05/12/2023 | Tom Yam          |\n",
      "| 55 Exhaust Manifold  | 220   | 3   | 13.2   | 05/13/2023 | Tom Yam          |\n",
      "| 56 Suspension Spring  | 150   | 4   | 18     | 05/14/2023 | Tom Yam          |\n",
      "| 57 Engine Block      | 500   | 7   | 315    | 05/15/2023 | Tom Yam          |\n",
      "| 58 Clutch Plate     | 180   | 5   | 18     | 05/16/2023 | Tom Yam          |\n",
      "| 59 Clutch Plate     | 180   | 7   | 126    | 05/17/2023 | Tom Yam          |\n",
      "| 60 Suspension Spring  | 150   | 9   | 27     | 05/18/2023 | Tom Yam          |\n",
      "| 61 Engine Block      | 500   | 4   | 200    | 05/19/2023 | Tom Yam          |\n",
      "| 62 Radiator          | 200   | 3   | 12     | 05/20/2023 | Tom Yam          |\n",
      "| 63 Brake Pad        | 75    | 9   | 27     | 05/21/2023 | Tom Yam          |\n",
      "| 64 Alternator        | 350   | 7   | 122.5  | 05/22/2023 | Tom Yam          |\n",
      "| 65 Suspension Spring  | 150   | 5   | 45     | 05/23/2023 | Tom Yam          |\n",
      "| 66 Suspension Spring  | 150   | 9   | 67.5   | 05/24/2023 | Tom Yam          |\n",
      "| 67 Fuel Injector     | 250   | 4   | 60     | 05/25/2023 | Tom Yam          |\n",
      "| 68 Clutch Plate     | 180   | 9   | 129.6  | 05/26/2023 | Tom Yam          |\n",
      "| 69 Fuel Injector     | 250   | 7   | 105    | 05/27/2023 | Tom Yam          |\n",
      "| 70 Suspension Spring  | 150   | 7   | 31.5   | 05/28/2023 | Tom Yam          |\n",
      "| 71 Alternator        | 350   | 1   | 24.5   | 05/29/2023 | Tom Yam          |\n",
      "| 72 Clutch Plate     | 180   | 8   | 144    | 05/30/2023 | Tom Yam          |\n",
      "| 73 Transmission Gear | 300   | 2   | 36     | 05/31/2023 | Tom Yam          |\n",
      "| 74 Fuel Injector     | 250   | 6   | 60     | 06/01/2023 | Tom Yam          |\n",
      "| 75 Exhaust Manifold  | 220   | 1   | 15.4   | 06/02/2023 | Tom Yam          |\n"
     ]
    }
   ],
   "execution_count": 35
  },
  {
   "metadata": {
    "ExecuteTime": {
     "end_time": "2024-10-17T08:55:47.638015Z",
     "start_time": "2024-10-17T08:55:47.632852Z"
    }
   },
   "cell_type": "code",
   "source": "print(doc[2].text)",
   "id": "af9367033b7d14b9",
   "outputs": [
    {
     "name": "stdout",
     "output_type": "stream",
     "text": [
      "# PAGE\n",
      "\n",
      "| Item Number | Description          | Price | Quantity | Total   | Date       | Customer        |\n",
      "|-------------|----------------------|-------|----------|---------|------------|------------------|\n",
      "| 76          | Brake Pad            | 75    | 1        | 6       | 06/03/2023 | Tom Yam          |\n",
      "| 77          | Alternator           | 350   | 4        | 70      | 06/04/2023 | Tom Yam          |\n",
      "| 78          | Radiator             | 200   | 3        | 42      | 06/05/2023 | Tom Yam          |\n",
      "| 79          | Clutch Plate         | 180   | 3        | 43.2    | 06/06/2023 | Tom Yam          |\n",
      "| 80          | Suspension Spring     | 150   | 2        | 15      | 06/07/2023 | Tom Yam          |\n",
      "| 81          | Exhaust Manifold      | 220   | 9        | 158.4   | 06/08/2023 | Tom Yam          |\n",
      "| 82          | Engine Block         | 500   | 3        | 150     | 06/09/2023 | Tom Yam          |\n",
      "| 83          | Engine Block         | 500   | 9        | 405     | 06/10/2023 | Emily Johnson     |\n",
      "| 84          | Engine Block         | 500   | 6        | 180     | 06/11/2023 | Emily Johnson     |\n",
      "| 85          | Radiator             | 200   | 5        | 70      | 06/12/2023 | Emily Johnson     |\n",
      "| 86          | Fuel Injector        | 250   | 5        | 62.5    | 06/13/2023 | Emily Johnson     |\n",
      "| 87          | Suspension Spring     | 150   | 3        | 22.5    | 06/14/2023 | Emily Johnson     |\n",
      "| 88          | Alternator           | 350   | 2        | 70      | 06/15/2023 | Emily Johnson     |\n",
      "| 89          | Engine Block         | 500   | 1        | 30      | 06/16/2023 | Emily Johnson     |\n",
      "| 90          | Radiator             | 200   | 6        | 48      | 06/17/2023 | Emily Johnson     |\n",
      "| 91          | Clutch Plate         | 180   | 9        | 145.8   | 06/18/2023 | Emily Johnson     |\n",
      "| 92          | Radiator             | 200   | 8        | 96      | 06/19/2023 | Emily Johnson     |\n",
      "| 93          | Exhaust Manifold      | 220   | 4        | 79.2    | 06/20/2023 | Emily Johnson     |\n",
      "| 94          | Steering Wheel       | 100   | 2        | 12      | 06/21/2023 | Emily Johnson     |\n",
      "| 95          | Alternator           | 350   | 4        | 98      | 06/22/2023 | Emily Johnson     |\n",
      "| 96          | Engine Block         | 500   | 9        | 90      | 06/23/2023 | Emily Johnson     |\n",
      "| 97          | Fuel Injector        | 250   | 4        | 40      | 06/24/2023 | Emily Johnson     |\n",
      "| 98          | Radiator             | 200   | 2        | 16      | 06/25/2023 | Emily Johnson     |\n",
      "| 99          | Fuel Injector        | 250   | 9        | 67.5    | 06/26/2023 | Emily Johnson     |\n",
      "| 100         | Steering Wheel       | 100   | 8        | 24      | 06/27/2023 | Emily Johnson     |\n"
     ]
    }
   ],
   "execution_count": 36
  },
  {
   "metadata": {},
   "cell_type": "code",
   "outputs": [],
   "execution_count": null,
   "source": "",
   "id": "5601b4746a47c6da"
  },
  {
   "metadata": {},
   "cell_type": "code",
   "outputs": [],
   "execution_count": null,
   "source": "",
   "id": "cefe2e47fcb8f0e8"
  },
  {
   "metadata": {},
   "cell_type": "code",
   "outputs": [],
   "execution_count": null,
   "source": "",
   "id": "6f2c7e209d9a5765"
  },
  {
   "metadata": {
    "ExecuteTime": {
     "end_time": "2024-10-17T09:02:39.120526Z",
     "start_time": "2024-10-17T09:02:39.116201Z"
    }
   },
   "cell_type": "code",
   "source": "from llama_parse.utils import ResultType",
   "id": "e4524d49626fffe1",
   "outputs": [],
   "execution_count": 9
  },
  {
   "metadata": {
    "ExecuteTime": {
     "end_time": "2024-10-17T09:18:44.423903Z",
     "start_time": "2024-10-17T09:18:41.439480Z"
    }
   },
   "cell_type": "code",
   "source": [
    "doc = LlamaParse(\n",
    "    result_type=ResultType.MD,\n",
    "    # parsing_instruction=\"\"\"\n",
    "    # On start each page generate \"PAGE\" header.\n",
    "    # Provide exact copy of table, without headers in Markdown format.\n",
    "    # \"\"\"\n",
    ").load_data(_uri)\n",
    "print(f\"Result docs number: {len(doc)}\")"
   ],
   "id": "b8e87c56a8929a28",
   "outputs": [
    {
     "name": "stdout",
     "output_type": "stream",
     "text": [
      "Started parsing the file under job_id 1e27bdc8-1d6c-4e66-8c78-c75e45c53765\n",
      "Result docs number: 3\n"
     ]
    }
   ],
   "execution_count": 17
  },
  {
   "metadata": {
    "ExecuteTime": {
     "end_time": "2024-10-17T09:18:44.430540Z",
     "start_time": "2024-10-17T09:18:44.425923Z"
    }
   },
   "cell_type": "code",
   "source": "print(doc[0].text)",
   "id": "9ebc8f1fee98d642",
   "outputs": [
    {
     "name": "stdout",
     "output_type": "stream",
     "text": [
      "|order_id|product_name|price_per_unit|units_sold|amount_of_discount_total|deal_date|customer_name|\n",
      "|---|---|---|---|---|---|---|\n",
      "|1|Alternator|350|5|157.5|01/01/2024|Emily Johnson|\n",
      "|2|Engine Block|500|5|100|01/02/2024|Emily Johnson|\n",
      "|3|Engine Block|500|4|120|01/03/2024|Scott Nilson|\n",
      "|4|Clutch Plate|180|1|7.2|01/04/2024|Scott Nilson|\n",
      "|5|Transmission Gear|300|9|189|01/05/2024|Scott Nilson|\n",
      "|6|Steering Wheel|100|3|27|01/06/2024|Scott Nilson|\n",
      "|7|Exhaust Manifold|220|2|30.8|01/07/2024|Scott Nilson|\n",
      "|8|Clutch Plate|180|2|10.8|01/08/2024|Scott Nilson|\n",
      "|9|Steering Wheel|100|1|9|01/09/2024|Scott Nilson|\n",
      "|10|Engine Block|500|9|315|01/10/2024|Scott Nilson|\n",
      "|11|Clutch Plate|180|7|50.4|01/11/2024|Scott Nilson|\n",
      "|12|Transmission Gear|300|9|243|01/12/2024|Scott Nilson|\n",
      "|13|Steering Wheel|100|7|70|01/13/2024|Scott Nilson|\n",
      "|14|Brake Pad|75|4|6|01/14/2024|Scott Nilson|\n",
      "|15|Exhaust Manifold|220|3|52.8|01/15/2024|Scott Nilson|\n",
      "|16|Transmission Gear|300|2|48|01/16/2024|Scott Nilson|\n",
      "|17|Radiator|200|3|60|01/17/2024|Scott Nilson|\n",
      "|18|Steering Wheel|100|6|42|01/18/2024|Scott Nilson|\n",
      "|19|Engine Block|500|4|140|01/19/2024|Emily Johnson|\n",
      "|20|Radiator|200|5|20|01/20/2024|Emily Johnson|\n",
      "|21|Exhaust Manifold|220|5|66|01/21/2024|Emily Johnson|\n",
      "|22|Clutch Plate|180|4|50.4|01/22/2024|Emily Johnson|\n",
      "|23|Brake Pad|75|3|18|01/23/2024|Emily Johnson|\n",
      "|24|Exhaust Manifold|220|4|26.4|02/02/2023|Emily Johnson|\n",
      "|25|Steering Wheel|100|3|6|02/03/2023|Emily Johnson|\n",
      "|26|Exhaust Manifold|220|3|52.8|02/04/2023|Emily Johnson|\n",
      "|27|Steering Wheel|100|5|30|02/05/2023|Emily Johnson|\n",
      "|28|Clutch Plate|180|9|97.2|02/06/2023|Emily Johnson|\n",
      "|29|Engine Block|500|1|15|02/07/2023|Emily Johnson|\n",
      "|30|Radiator|200|9|162|02/08/2023|Emily Johnson|\n",
      "|31|Fuel Injector|250|1|20|02/09/2023|Emily Johnson|\n",
      "|32|Fuel Injector|250|6|120|02/10/2023|Emily Johnson|\n",
      "|33|Suspension Spring|150|3|27|02/11/2023|Emily Johnson|\n",
      "|34|Radiator|200|9|108|02/12/2023|Emily Johnson|\n",
      "|35|Engine Block|500|4|120|02/13/2023|Emily Johnson|\n",
      "|36|Steering Wheel|100|5|40|02/14/2023|Emily Johnson|\n",
      "|37|Brake Pad|75|1|4.5|02/15/2023|Emily Johnson|\n"
     ]
    }
   ],
   "execution_count": 18
  },
  {
   "metadata": {
    "ExecuteTime": {
     "end_time": "2024-10-17T09:18:44.443372Z",
     "start_time": "2024-10-17T09:18:44.432585Z"
    }
   },
   "cell_type": "code",
   "source": "print(doc[1].text)",
   "id": "74cab7075757e5db",
   "outputs": [
    {
     "name": "stdout",
     "output_type": "stream",
     "text": [
      "# Inventory Report\n",
      "\n",
      "|Item|Price|Quantity|Total|Date|Employee|\n",
      "|---|---|---|---|---|---|\n",
      "|Clutch Plate|180|6|64.8|02/16/2023|Emily Johnson|\n",
      "|Brake Pad|75|2|7.5|02/17/2023|Emily Johnson|\n",
      "|Steering Wheel|100|3|6|02/18/2023|Emily Johnson|\n",
      "|Exhaust Manifold|220|5|55|02/19/2023|Emily Johnson|\n",
      "|Exhaust Manifold|220|7|46.2|02/20/2023|Emily Johnson|\n",
      "|Engine Block|500|4|180|02/21/2023|Emily Johnson|\n",
      "|Transmission Gear|300|3|18|02/22/2023|Emily Johnson|\n",
      "|Engine Block|500|3|90|02/23/2023|Emily Johnson|\n",
      "|Suspension Spring|150|1|3|02/24/2023|Emily Johnson|\n",
      "|Exhaust Manifold|220|2|17.6|05/05/2023|Emily Johnson|\n",
      "|Transmission Gear|300|3|72|05/06/2023|Emily Johnson|\n",
      "|Engine Block|500|8|120|05/07/2023|Emily Johnson|\n",
      "|Suspension Spring|150|9|108|05/08/2023|Emily Johnson|\n",
      "|Brake Pad|75|5|11.25|05/09/2023|Emily Johnson|\n",
      "|Exhaust Manifold|220|4|88|05/10/2023|Emily Johnson|\n",
      "|Fuel Injector|250|9|112.5|05/11/2023|Emily Johnson|\n",
      "|Steering Wheel|100|5|50|05/12/2023|Tom Yam|\n",
      "|Exhaust Manifold|220|3|13.2|05/13/2023|Tom Yam|\n",
      "|Suspension Spring|150|4|18|05/14/2023|Tom Yam|\n",
      "|Engine Block|500|7|315|05/15/2023|Tom Yam|\n",
      "|Clutch Plate|180|5|18|05/16/2023|Tom Yam|\n",
      "|Clutch Plate|180|7|126|05/17/2023|Tom Yam|\n",
      "|Suspension Spring|150|9|27|05/18/2023|Tom Yam|\n",
      "|Engine Block|500|4|200|05/19/2023|Tom Yam|\n",
      "|Radiator|200|3|12|05/20/2023|Tom Yam|\n",
      "|Brake Pad|75|9|27|05/21/2023|Tom Yam|\n",
      "|Alternator|350|7|122.5|05/22/2023|Tom Yam|\n",
      "|Suspension Spring|150|5|45|05/23/2023|Tom Yam|\n",
      "|Suspension Spring|150|9|67.5|05/24/2023|Tom Yam|\n",
      "|Fuel Injector|250|4|60|05/25/2023|Tom Yam|\n",
      "|Clutch Plate|180|9|129.6|05/26/2023|Tom Yam|\n",
      "|Fuel Injector|250|7|105|05/27/2023|Tom Yam|\n",
      "|Suspension Spring|150|7|31.5|05/28/2023|Tom Yam|\n",
      "|Alternator|350|1|24.5|05/29/2023|Tom Yam|\n",
      "|Clutch Plate|180|8|144|05/30/2023|Tom Yam|\n",
      "|Transmission Gear|300|2|36|05/31/2023|Tom Yam|\n",
      "|Fuel Injector|250|6|60|06/01/2023|Tom Yam|\n",
      "|Exhaust Manifold|220|1|15.4|06/02/2023|Tom Yam|\n"
     ]
    }
   ],
   "execution_count": 19
  },
  {
   "metadata": {
    "ExecuteTime": {
     "end_time": "2024-10-17T09:18:44.448625Z",
     "start_time": "2024-10-17T09:18:44.444379Z"
    }
   },
   "cell_type": "code",
   "source": "print(doc[2].text)",
   "id": "7de532fe6c997148",
   "outputs": [
    {
     "name": "stdout",
     "output_type": "stream",
     "text": [
      "# Parts Inventory\n",
      "\n",
      "|Item No|Part Name|Price|Quantity|Total|Date|Supplier|\n",
      "|---|---|---|---|---|---|---|\n",
      "|76|Brake Pad|75|1|6|06/03/2023|Tom Yam|\n",
      "|77|Alternator|350|4|70|06/04/2023|Tom Yam|\n",
      "|78|Radiator|200|3|42|06/05/2023|Tom Yam|\n",
      "|79|Clutch Plate|180|3|43.2|06/06/2023|Tom Yam|\n",
      "|80|Suspension Spring|150|2|15|06/07/2023|Tom Yam|\n",
      "|81|Exhaust Manifold|220|9|158.4|06/08/2023|Tom Yam|\n",
      "|82|Engine Block|500|3|150|06/09/2023|Tom Yam|\n",
      "|83|Engine Block|500|9|405|06/10/2023|Emily Johnson|\n",
      "|84|Engine Block|500|6|180|06/11/2023|Emily Johnson|\n",
      "|85|Radiator|200|5|70|06/12/2023|Emily Johnson|\n",
      "|86|Fuel Injector|250|5|62.5|06/13/2023|Emily Johnson|\n",
      "|87|Suspension Spring|150|3|22.5|06/14/2023|Emily Johnson|\n",
      "|88|Alternator|350|2|70|06/15/2023|Emily Johnson|\n",
      "|89|Engine Block|500|1|30|06/16/2023|Emily Johnson|\n",
      "|90|Radiator|200|6|48|06/17/2023|Emily Johnson|\n",
      "|91|Clutch Plate|180|9|145.8|06/18/2023|Emily Johnson|\n",
      "|92|Radiator|200|8|96|06/19/2023|Emily Johnson|\n",
      "|93|Exhaust Manifold|220|4|79.2|06/20/2023|Emily Johnson|\n",
      "|94|Steering Wheel|100|2|12|06/21/2023|Emily Johnson|\n",
      "|95|Alternator|350|4|98|06/22/2023|Emily Johnson|\n",
      "|96|Engine Block|500|9|90|06/23/2023|Emily Johnson|\n",
      "|97|Fuel Injector|250|4|40|06/24/2023|Emily Johnson|\n",
      "|98|Radiator|200|2|16|06/25/2023|Emily Johnson|\n",
      "|99|Fuel Injector|250|9|67.5|06/26/2023|Emily Johnson|\n",
      "|100|Steering Wheel|100|8|24|06/27/2023|Emily Johnson|\n"
     ]
    }
   ],
   "execution_count": 20
  },
  {
   "metadata": {},
   "cell_type": "code",
   "outputs": [],
   "execution_count": null,
   "source": "",
   "id": "3a1a9475292ccc70"
  }
 ],
 "metadata": {
  "kernelspec": {
   "display_name": "Python 3",
   "language": "python",
   "name": "python3"
  },
  "language_info": {
   "codemirror_mode": {
    "name": "ipython",
    "version": 2
   },
   "file_extension": ".py",
   "mimetype": "text/x-python",
   "name": "python",
   "nbconvert_exporter": "python",
   "pygments_lexer": "ipython2",
   "version": "2.7.6"
  }
 },
 "nbformat": 4,
 "nbformat_minor": 5
}
