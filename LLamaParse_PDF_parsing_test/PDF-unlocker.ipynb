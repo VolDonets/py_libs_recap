{
 "cells": [
  {
   "cell_type": "code",
   "id": "initial_id",
   "metadata": {
    "collapsed": true,
    "ExecuteTime": {
     "end_time": "2024-10-21T13:06:14.097806Z",
     "start_time": "2024-10-21T13:06:14.092177Z"
    }
   },
   "source": [
    "import PyPDF2\n",
    "\n",
    "def remove_pdf_password(input_pdf_path, output_pdf_path, password):\n",
    "    # Open the encrypted PDF file\n",
    "    with open(input_pdf_path, 'rb') as input_file:\n",
    "        reader = PyPDF2.PdfReader(input_file)\n",
    "\n",
    "        # Check if the PDF is encrypted\n",
    "        if reader.is_encrypted:\n",
    "            # Decrypt the PDF using the provided password\n",
    "            reader.decrypt(password)\n",
    "\n",
    "        # Create a PdfWriter object to save the decrypted PDF\n",
    "        writer = PyPDF2.PdfWriter()\n",
    "\n",
    "        # Add all pages from the reader to the writer\n",
    "        for page_num in range(len(reader.pages)):\n",
    "            writer.add_page(reader.pages[page_num])\n",
    "\n",
    "        # Save the decrypted PDF without a password\n",
    "        with open(output_pdf_path, 'wb') as output_file:\n",
    "            writer.write(output_file)\n",
    "\n",
    "    print(f\"Password removed. Unencrypted PDF saved as: {output_pdf_path}\")\n",
    "\n",
    "\n",
    "class PDFTools:\n",
    "    @staticmethod\n",
    "    def unlock_pdf(pdf_file_url: str, target_pdf_file_url: str = None, lock_password: str = \"\") -> None:\n",
    "        \"\"\"\n",
    "        Function to unlock pdf file. If there is no target_pdf_file_url is provided,\n",
    "        it will save the unlocked pdf file in the source pdf file location.\n",
    "\n",
    "        :param pdf_file_url: path to locked pdf file\n",
    "        :param target_pdf_file_url: target pdf file, which represents unlocked pdf file,\n",
    "                        if it is empty, the unlocked pdf will be saved in the source file\n",
    "        :param lock_password: specific password which locks the pdf file\n",
    "        \"\"\"\n",
    "\n",
    "        if not target_pdf_file_url:\n",
    "            target_pdf_file_url = pdf_file_url\n",
    "\n",
    "        is_pdf_unlocked = False\n",
    "        pdf_writer = PyPDF2.PdfWriter()\n",
    "        with open(pdf_file_url, 'rb') as input_file:\n",
    "            pdf_reader = PyPDF2.PdfReader(input_file)\n",
    "            if pdf_reader.is_encrypted:\n",
    "                pdf_reader.decrypt(lock_password)\n",
    "            else:\n",
    "                return\n",
    "\n",
    "            # Add all pages from the reader to the writer\n",
    "            for page_num in range(len(pdf_reader.pages)):\n",
    "                pdf_writer.add_page(pdf_reader.pages[page_num])\n",
    "\n",
    "            is_pdf_unlocked = True\n",
    "\n",
    "        if is_pdf_unlocked:\n",
    "            # Save the decrypted PDF without a password\n",
    "            with open(target_pdf_file_url, 'wb') as output_file:\n",
    "                pdf_writer.write(output_file)"
   ],
   "outputs": [],
   "execution_count": 22
  },
  {
   "metadata": {
    "ExecuteTime": {
     "end_time": "2024-10-21T14:35:31.772284Z",
     "start_time": "2024-10-21T14:35:31.739541Z"
    }
   },
   "cell_type": "code",
   "source": [
    "# Example usage\n",
    "# file_name = \"IKEA LAGAN User Manual\"\n",
    "# file_name = \"PQ Series Alloy Steel Mopar Shaft Mount Rocker User Manual\"\n",
    "# file_name = \"Test-products-international 183A User Manual\"\n",
    "file_name = \"Test-products-international 565C1 User Manual\"\n",
    "\n",
    "input_pdf = f\"./_data_real_pdfs/{file_name}.pdf\"\n",
    "output_pdf = f\"./_data_pdf_unlocking_with_python/{file_name}.pdf\"\n",
    "pdf_pass = \"\"\n",
    "\n",
    "PDFTools.unlock_pdf(input_pdf, output_pdf)\n",
    "# remove_pdf_password(input_pdf, output_pdf, pdf_pass)"
   ],
   "id": "a2dae67925c67c33",
   "outputs": [
    {
     "name": "stderr",
     "output_type": "stream",
     "text": [
      "incorrect startxref pointer(3)\n"
     ]
    }
   ],
   "execution_count": 40
  },
  {
   "metadata": {},
   "cell_type": "markdown",
   "source": "# The second option with is more tolerant to \"incorrect startxref pointer(1)\"",
   "id": "25c128de9bcdea38"
  },
  {
   "metadata": {
    "ExecuteTime": {
     "end_time": "2024-10-21T13:10:59.129763Z",
     "start_time": "2024-10-21T13:10:54.096313Z"
    }
   },
   "cell_type": "code",
   "source": "!pip install pikepdf",
   "id": "37c5823b54667825",
   "outputs": [
    {
     "name": "stdout",
     "output_type": "stream",
     "text": [
      "Collecting pikepdf"
     ]
    },
    {
     "name": "stderr",
     "output_type": "stream",
     "text": [
      "\n",
      "[notice] A new release of pip is available: 23.2.1 -> 24.2\n",
      "[notice] To update, run: python.exe -m pip install --upgrade pip\n"
     ]
    },
    {
     "name": "stdout",
     "output_type": "stream",
     "text": [
      "\n",
      "  Obtaining dependency information for pikepdf from https://files.pythonhosted.org/packages/62/43/10fd17d9f080cc7de4bbd308f2c715b8130788833c71145b782a209415a8/pikepdf-9.3.0-cp311-cp311-win_amd64.whl.metadata\n",
      "  Downloading pikepdf-9.3.0-cp311-cp311-win_amd64.whl.metadata (8.4 kB)\n",
      "Requirement already satisfied: Pillow>=10.0.1 in d:\\documents\\python_projects\\py_libs_recap\\.venv\\lib\\site-packages (from pikepdf) (11.0.0)\n",
      "Requirement already satisfied: Deprecated in d:\\documents\\python_projects\\py_libs_recap\\.venv\\lib\\site-packages (from pikepdf) (1.2.14)\n",
      "Collecting lxml>=4.8 (from pikepdf)\n",
      "  Obtaining dependency information for lxml>=4.8 from https://files.pythonhosted.org/packages/c3/b5/91c2249bfac02ee514ab135e9304b89d55967be7e53e94a879b74eec7a5c/lxml-5.3.0-cp311-cp311-win_amd64.whl.metadata\n",
      "  Downloading lxml-5.3.0-cp311-cp311-win_amd64.whl.metadata (3.9 kB)\n",
      "Requirement already satisfied: packaging in d:\\documents\\python_projects\\py_libs_recap\\.venv\\lib\\site-packages (from pikepdf) (24.1)\n",
      "Requirement already satisfied: wrapt<2,>=1.10 in d:\\documents\\python_projects\\py_libs_recap\\.venv\\lib\\site-packages (from Deprecated->pikepdf) (1.16.0)\n",
      "Downloading pikepdf-9.3.0-cp311-cp311-win_amd64.whl (3.5 MB)\n",
      "   ---------------------------------------- 0.0/3.5 MB ? eta -:--:--\n",
      "    --------------------------------------- 0.1/3.5 MB 2.0 MB/s eta 0:00:02\n",
      "   --- ------------------------------------ 0.3/3.5 MB 3.3 MB/s eta 0:00:01\n",
      "   ------- -------------------------------- 0.6/3.5 MB 5.1 MB/s eta 0:00:01\n",
      "   -------------- ------------------------- 1.2/3.5 MB 7.2 MB/s eta 0:00:01\n",
      "   --------------------- ------------------ 1.8/3.5 MB 8.3 MB/s eta 0:00:01\n",
      "   ----------------------- ---------------- 2.1/3.5 MB 8.8 MB/s eta 0:00:01\n",
      "   ----------------------- ---------------- 2.1/3.5 MB 8.8 MB/s eta 0:00:01\n",
      "   ------------------------------------ --- 3.1/3.5 MB 9.1 MB/s eta 0:00:01\n",
      "   ---------------------------------------- 3.5/3.5 MB 8.5 MB/s eta 0:00:00\n",
      "Downloading lxml-5.3.0-cp311-cp311-win_amd64.whl (3.8 MB)\n",
      "   ---------------------------------------- 0.0/3.8 MB ? eta -:--:--\n",
      "   ---- ----------------------------------- 0.4/3.8 MB 12.8 MB/s eta 0:00:01\n",
      "   ---------- ----------------------------- 1.0/3.8 MB 12.5 MB/s eta 0:00:01\n",
      "   --------------- ------------------------ 1.5/3.8 MB 12.0 MB/s eta 0:00:01\n",
      "   --------------------- ------------------ 2.0/3.8 MB 11.7 MB/s eta 0:00:01\n",
      "   --------------------------- ------------ 2.6/3.8 MB 11.8 MB/s eta 0:00:01\n",
      "   -------------------------------- ------- 3.1/3.8 MB 11.7 MB/s eta 0:00:01\n",
      "   -------------------------------------- - 3.7/3.8 MB 11.8 MB/s eta 0:00:01\n",
      "   ---------------------------------------- 3.8/3.8 MB 11.6 MB/s eta 0:00:00\n",
      "Installing collected packages: lxml, pikepdf\n",
      "Successfully installed lxml-5.3.0 pikepdf-9.3.0\n"
     ]
    }
   ],
   "execution_count": 26
  },
  {
   "metadata": {
    "ExecuteTime": {
     "end_time": "2024-10-21T13:16:54.127276Z",
     "start_time": "2024-10-21T13:16:54.122141Z"
    }
   },
   "cell_type": "code",
   "source": [
    "import pikepdf\n",
    "\n",
    "def remove_pdf_password_v2(input_pdf_path, output_pdf_path, password):\n",
    "    # Open and unlock the PDF using pikepdf\n",
    "    with pikepdf.open(input_pdf_path, password=password) as pdf:\n",
    "        # Save the unlocked PDF without password protection\n",
    "        pdf.save(output_pdf_path if output_pdf_path else input_pdf_path)\n",
    "    \n",
    "    print(f\"Password removed. Unencrypted PDF saved as: {output_pdf_path}\")"
   ],
   "id": "38ba930fbb4bc11b",
   "outputs": [],
   "execution_count": 32
  },
  {
   "metadata": {},
   "cell_type": "markdown",
   "source": "# Test unlocking quality",
   "id": "8ab6960bdc415eb3"
  },
  {
   "metadata": {},
   "cell_type": "markdown",
   "source": "# PDF 1",
   "id": "1a50cee1d253a6d6"
  },
  {
   "metadata": {
    "ExecuteTime": {
     "end_time": "2024-10-21T12:11:11.396671Z",
     "start_time": "2024-10-21T12:11:09.225367Z"
    }
   },
   "cell_type": "code",
   "source": [
    "import nest_asyncio\n",
    "import os\n",
    "\n",
    "from IPython.utils import docs\n",
    "from llama_parse import LlamaParse\n",
    "\n",
    "nest_asyncio.apply()\n",
    "\n",
    "LLAMA_CLOUD_API_KEY = ''\n",
    "os.environ[\"LLAMA_CLOUD_API_KEY\"] = LLAMA_CLOUD_API_KEY"
   ],
   "id": "574b7c3e366080e",
   "outputs": [],
   "execution_count": 4
  },
  {
   "metadata": {},
   "cell_type": "code",
   "outputs": [],
   "execution_count": null,
   "source": "",
   "id": "5fcc64cd4ebd9276"
  },
  {
   "metadata": {
    "ExecuteTime": {
     "end_time": "2024-10-21T13:13:19.768956Z",
     "start_time": "2024-10-21T13:12:37.462473Z"
    }
   },
   "cell_type": "code",
   "source": [
    "vendor_multimodal_model_name = \"openai-gpt4o\"\n",
    "doc = LlamaParse(\n",
    "    result_type=\"markdown\",\n",
    "    use_vendor_multimodal_model=True,\n",
    "    vendor_multimodal_model_name=vendor_multimodal_model_name,\n",
    ").load_data(output_pdf)\n",
    "print(f\"Result docs number: {len(doc)}\")"
   ],
   "id": "e32373410edaa94c",
   "outputs": [
    {
     "name": "stdout",
     "output_type": "stream",
     "text": [
      "Started parsing the file under job_id 1f094ccb-6ff2-41c1-a41f-237f11731d17\n",
      ".Result docs number: 2\n"
     ]
    }
   ],
   "execution_count": 29
  },
  {
   "metadata": {
    "ExecuteTime": {
     "end_time": "2024-10-21T13:13:44.546297Z",
     "start_time": "2024-10-21T13:13:44.542671Z"
    }
   },
   "cell_type": "code",
   "source": "print(doc[0].text)",
   "id": "8cc987a9481c0f5c",
   "outputs": [
    {
     "name": "stdout",
     "output_type": "stream",
     "text": [
      "# INSTALLATION INSTRUCTIONS FOR PRW STAINLESS STEEL MOPAR ROCKER ARMS\n",
      "\n",
      "## PARTS LIST\n",
      "\n",
      "| ITEM                                      | QUANTITY       |\n",
      "|-------------------------------------------|----------------|\n",
      "| Rocker Arms                               | 16 each        |\n",
      "| Hardened Shafts                           | 2 each         |\n",
      "| Cup End Adjusters                         | 16 each        |\n",
      "| Hold Down Studs Big Block: 6 Short, 4 Long| 10 each        |\n",
      "| Hold Down Studs Small Block: 10 Short     | 10 each        |\n",
      "| Thin Spacers                              | 16 each        |\n",
      "| Thick Spacers                             | 8 each         |\n",
      "| Shim Kit                                  | 48 pcs         |\n",
      "| Large Hold Downs                          | 4 each         |\n",
      "| Small Hold Downs                          | 6 each         |\n",
      "| Extreme Pressure Lube #3                  | 1 1/4oz. tube  |\n",
      "\n",
      "## Quick Tips\n",
      "\n",
      "1. All pushrods in a set do not wear evenly or uniformly. Over time each will wear in a unique fashion as it “mates” with the individual rocker arm that it is paired with. Consequently, old pushrods should be replaced when new rocker arms are installed.\n",
      "\n",
      "2. Make sure rocker arms and other components are well lubricated. Proper lubrication of all parts can help prevent premature wear and/or permanent damage.\n",
      "\n",
      "3. Check for any interference between rockers and valve covers.\n",
      "\n",
      "4. Always use hardened shafts. Stock or unhardened shafts will result in premature wear and rocker arm failure.\n",
      "\n",
      "5. Make sure oil holes on shafts are facing down.\n",
      "\n",
      "## Installation\n",
      "\n",
      "### Step 1\n",
      "\n",
      "After removing the rockers and other components from the package thoroughly wash each piece, and then blow dry.\n",
      "\n",
      "### Step 2\n",
      "\n",
      "Totally submerge the rockers in engine oil for approximately 30 minutes prior to installation to ensure the needle bearings are lubricated.\n"
     ]
    }
   ],
   "execution_count": 30
  },
  {
   "metadata": {
    "ExecuteTime": {
     "end_time": "2024-10-21T13:13:45.789562Z",
     "start_time": "2024-10-21T13:13:45.784956Z"
    }
   },
   "cell_type": "code",
   "source": "print(doc[1].text)",
   "id": "fc42bb50d4e9f5e5",
   "outputs": [
    {
     "name": "stdout",
     "output_type": "stream",
     "text": [
      "# Step 3\n",
      "Begin assembly by mounting rocker arms, washers, and spacers onto the shaft. Big block rockers are offset, make sure to place proper rockers on intake and exhaust valves. **NOTE:** Over the years, various cylinder head designs by Chrysler/Mopar require “shims” to properly locate the rocker arms on the shaft. Shims from .005” and larger may be needed. Valve spring shims may be used for this purpose.\n",
      "\n",
      "# Step 4\n",
      "Install the pushrods. Make sure the pushrod is properly seated in lifter.\n",
      "\n",
      "# Step 5\n",
      "Loosen pushrod adjusters. Position the rocker assembly onto the head. Tighten down bolts evenly until each is torqued to 15-17 foot-pounds.\n",
      "\n",
      "# Step 6\n",
      "Turn all the pushrod adjusters down until the ball end enters the pushrod, if you have cup end adjusters turn until ball end of pushrod enters the adjuster’s cup. Do not tighten beyond this point.\n",
      "\n",
      "# Step 7\n",
      "Hand turn the crank in the running rotation until the exhaust valve starts to open. Now, set the intake valve by tightening down the pushrod adjuster until there is no end play in the pushrod. This will bring you to zero lash. Tighten the adjuster one more full turn then tighten the lock nut.\n",
      "\n",
      "# Step 8\n",
      "Next, hand turn the crank in the running rotation until the pushrod has reached maximum lift and is between one half and two thirds of the way down. Then adjust the exhaust valve using the same procedure as described in step #7 for the intake valve.\n",
      "\n",
      "# Step 9\n",
      "When using mechanical lifters use the same procedure, but instead of zero lash use the clearance specified by your cam sheet.\n",
      "\n",
      "# Step 10\n",
      "Before installing valve covers, check for proper clearance between rockers and valve covers. Then pour engine oil over rocker arms to insure proper lubrication on initial start up. Finally, replace the valve covers on the heads.\n",
      "\n",
      "----\n",
      "\n",
      "PRW INDUSTRIES, INC.  \n",
      "1722 ILLINOIS AVENUE  \n",
      "PERRIS, CALIFORNIA 92571  \n",
      "\n",
      "**TELE:** (951) 436-7900  \n",
      "**FAX:** (951) 928-8555  \n",
      "**TECH:** (888) 377-9779  \n",
      "[www.prw-usa.com](http://www.prw-usa.com)\n",
      "\n",
      "p:\\product\\installation guides\\new revisions 05-11-10\\ms word\\prw mopar rockers - stainless steel v1.2.doc\n"
     ]
    }
   ],
   "execution_count": 31
  },
  {
   "metadata": {},
   "cell_type": "code",
   "outputs": [],
   "execution_count": null,
   "source": "",
   "id": "16bc536f3f0a27ab"
  },
  {
   "metadata": {},
   "cell_type": "code",
   "outputs": [],
   "execution_count": null,
   "source": "",
   "id": "ca0db9a3fe3b54bd"
  }
 ],
 "metadata": {
  "kernelspec": {
   "display_name": "Python 3",
   "language": "python",
   "name": "python3"
  },
  "language_info": {
   "codemirror_mode": {
    "name": "ipython",
    "version": 2
   },
   "file_extension": ".py",
   "mimetype": "text/x-python",
   "name": "python",
   "nbconvert_exporter": "python",
   "pygments_lexer": "ipython2",
   "version": "2.7.6"
  }
 },
 "nbformat": 4,
 "nbformat_minor": 5
}
