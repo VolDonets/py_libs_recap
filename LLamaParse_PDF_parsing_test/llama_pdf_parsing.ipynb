{
 "cells": [
  {
   "metadata": {},
   "cell_type": "markdown",
   "source": "# Set up dependencies",
   "id": "3c80e09037bbf14c"
  },
  {
   "metadata": {
    "ExecuteTime": {
     "end_time": "2024-10-20T22:39:00.357282Z",
     "start_time": "2024-10-20T22:38:58.882055Z"
    }
   },
   "cell_type": "code",
   "source": [
    "import nest_asyncio\n",
    "import os\n",
    "\n",
    "from IPython.utils import docs\n",
    "from llama_parse import LlamaParse\n",
    "\n",
    "nest_asyncio.apply()\n",
    "\n",
    "LLAMA_CLOUD_API_KEY = ''\n",
    "os.environ[\"LLAMA_CLOUD_API_KEY\"] = LLAMA_CLOUD_API_KEY"
   ],
   "id": "992e73acb9342cbf",
   "outputs": [],
   "execution_count": 1
  },
  {
   "metadata": {},
   "cell_type": "markdown",
   "source": [
    "# Parse with the most advanced parsing variant (openai-gpt4o)\n",
    "(10 credits per page)"
   ],
   "id": "4ab94692d6487ad8"
  },
  {
   "metadata": {},
   "cell_type": "markdown",
   "source": "## \"IKEA LAGAN User Manual.pdf\"",
   "id": "42c1c0e582e0bcbf"
  },
  {
   "metadata": {
    "ExecuteTime": {
     "end_time": "2024-10-20T22:52:14.515415Z",
     "start_time": "2024-10-20T22:52:14.509822Z"
    }
   },
   "cell_type": "code",
   "source": [
    "def pdf_to_md_file(source_path: str, destination_path: str):\n",
    "    vendor_multimodal_model_name = \"openai-gpt4o\"\n",
    "    doc = LlamaParse(\n",
    "        result_type=\"markdown\",\n",
    "        use_vendor_multimodal_model=True,\n",
    "        vendor_multimodal_model_name=vendor_multimodal_model_name,\n",
    "    ).load_data(source_path)\n",
    "    print(f\"Result docs number: {len(doc)}\")\n",
    "    \n",
    "    with open(destination_path, \"w\", encoding=\"utf-8\") as dest_file:\n",
    "        dest_file.write(f\"# //COMMENT: postprocessed with {vendor_multimodal_model_name}\\n\\n\")\n",
    "        for inx in range(len(doc)):\n",
    "            dest_file.write(f\"\\n\\n# //COMMENT: page_No: {inx+1}\\n\")\n",
    "            dest_file.write(doc[inx].text + \"\\n\")"
   ],
   "id": "a480adc240c15490",
   "outputs": [],
   "execution_count": 6
  },
  {
   "metadata": {
    "ExecuteTime": {
     "end_time": "2024-10-20T22:52:23.975806Z",
     "start_time": "2024-10-20T22:52:15.429453Z"
    }
   },
   "cell_type": "code",
   "source": [
    "pdf_name = \"IKEA LAGAN User Manual\"\n",
    "pdf_path = f\"./_data_real_pdfs_unlocked/{pdf_name}.pdf\"\n",
    "md_path = f\"./_md_parsed_results/{pdf_name}.md\"\n",
    "\n",
    "pdf_to_md_file(pdf_path, md_path)"
   ],
   "id": "95a655d015a3854f",
   "outputs": [
    {
     "name": "stdout",
     "output_type": "stream",
     "text": [
      "Started parsing the file under job_id edcb1e7e-ec33-487f-91ae-b97d3c97d645\n",
      "Result docs number: 20\n"
     ]
    }
   ],
   "execution_count": 7
  },
  {
   "metadata": {
    "ExecuteTime": {
     "end_time": "2024-10-20T23:35:28.451954Z",
     "start_time": "2024-10-20T23:35:18.143921Z"
    }
   },
   "cell_type": "code",
   "source": [
    "pdf_name = \"PQ Series Alloy Steel Mopar Shaft Mount Rocker User Manual\"\n",
    "pdf_path = f\"./_data_real_pdfs_unlocked/{pdf_name}.pdf\"\n",
    "md_path = f\"./_md_parsed_results/{pdf_name}.md\"\n",
    "\n",
    "pdf_to_md_file(pdf_path, md_path)"
   ],
   "id": "4cdc51778ef011e2",
   "outputs": [
    {
     "name": "stdout",
     "output_type": "stream",
     "text": [
      "Started parsing the file under job_id bd25dc65-7494-4789-ba09-365ae95445fa\n",
      "Result docs number: 2\n"
     ]
    }
   ],
   "execution_count": 9
  },
  {
   "metadata": {
    "ExecuteTime": {
     "end_time": "2024-10-20T23:36:40.326351Z",
     "start_time": "2024-10-20T23:36:22.569138Z"
    }
   },
   "cell_type": "code",
   "source": [
    "pdf_name = \"Test-products-international 183A User Manual\"\n",
    "pdf_path = f\"./_data_real_pdfs_unlocked/{pdf_name}.pdf\"\n",
    "md_path = f\"./_md_parsed_results/{pdf_name}.md\"\n",
    "\n",
    "pdf_to_md_file(pdf_path, md_path)"
   ],
   "id": "ac2c3dc1513692b3",
   "outputs": [
    {
     "name": "stdout",
     "output_type": "stream",
     "text": [
      "Started parsing the file under job_id 1732ca05-d4c8-4feb-ace6-f7e28c2b4f3c\n",
      "Result docs number: 15\n"
     ]
    }
   ],
   "execution_count": 10
  },
  {
   "metadata": {
    "ExecuteTime": {
     "end_time": "2024-10-20T23:40:33.306156Z",
     "start_time": "2024-10-20T23:40:20.695936Z"
    }
   },
   "cell_type": "code",
   "source": [
    "pdf_name = \"Test-products-international 565C1 User Manual\"\n",
    "pdf_path = f\"./_data_real_pdfs_unlocked/{pdf_name}.pdf\"\n",
    "md_path = f\"./_md_parsed_results/{pdf_name}.md\"\n",
    "\n",
    "pdf_to_md_file(pdf_path, md_path)"
   ],
   "id": "ed3ab9da031fc50e",
   "outputs": [
    {
     "name": "stdout",
     "output_type": "stream",
     "text": [
      "Started parsing the file under job_id f761141b-036f-4901-94a9-a50f08e2ebc5\n",
      "Result docs number: 4\n"
     ]
    }
   ],
   "execution_count": 11
  },
  {
   "metadata": {},
   "cell_type": "code",
   "outputs": [],
   "execution_count": null,
   "source": "",
   "id": "b948f03dea437f89"
  }
 ],
 "metadata": {
  "kernelspec": {
   "display_name": "Python 3",
   "language": "python",
   "name": "python3"
  },
  "language_info": {
   "codemirror_mode": {
    "name": "ipython",
    "version": 2
   },
   "file_extension": ".py",
   "mimetype": "text/x-python",
   "name": "python",
   "nbconvert_exporter": "python",
   "pygments_lexer": "ipython2",
   "version": "2.7.6"
  }
 },
 "nbformat": 4,
 "nbformat_minor": 5
}
