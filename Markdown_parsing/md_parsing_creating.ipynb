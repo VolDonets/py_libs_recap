{
 "cells": [
  {
   "metadata": {},
   "cell_type": "markdown",
   "source": "# Load Parsing Data",
   "id": "e0da012a816be6cf"
  },
  {
   "metadata": {
    "ExecuteTime": {
     "end_time": "2024-10-20T10:41:45.829112Z",
     "start_time": "2024-10-20T10:41:43.678493Z"
    }
   },
   "cell_type": "code",
   "source": [
    "import nest_asyncio\n",
    "import os\n",
    "\n",
    "from IPython.utils import docs\n",
    "from llama_parse import LlamaParse\n",
    "\n",
    "\n",
    "nest_asyncio.apply()\n",
    "\n",
    "LLAMA_CLOUD_API_KEY = ''\n",
    "os.environ[\"LLAMA_CLOUD_API_KEY\"] = LLAMA_CLOUD_API_KEY"
   ],
   "id": "ecbee38dac773d20",
   "outputs": [],
   "execution_count": 1
  },
  {
   "metadata": {},
   "cell_type": "markdown",
   "source": "# Parser",
   "id": "b6b011e014d640c2"
  },
  {
   "metadata": {
    "ExecuteTime": {
     "end_time": "2024-10-20T21:04:27.353103Z",
     "start_time": "2024-10-20T21:04:27.338704Z"
    }
   },
   "cell_type": "code",
   "source": [
    "from typing import List, Tuple, Union\n",
    "\n",
    "from enum import Enum\n",
    "\n",
    "import re\n",
    "import pandas as pd\n",
    "\n",
    "\n",
    "class PDFPartsTypes(Enum):\n",
    "    \"\"\"\n",
    "    Represents the types of PDF parts.\n",
    "    \"\"\"\n",
    "\n",
    "    TEXT = 0\n",
    "    TABLE = 1\n",
    "    \n",
    "\n",
    "MIN_TEXT_SIZE = 100\n",
    "\n",
    "\n",
    "class MDParser:\n",
    "    @staticmethod\n",
    "    def _parse_md_table(md_table: str) -> pd.DataFrame | None:\n",
    "        \"\"\"\n",
    "        Parses a Markdown table string and converts it into a Pandas DataFrame.\n",
    "\n",
    "        :param md_table: Markdown string which represent a table\n",
    "        :return: Pandas DataFrame -- parsed table\n",
    "        \"\"\"\n",
    "        lines = md_table.strip().split(\"\\n\")\n",
    "        headers = [h.strip() for h in lines[0].strip().split(\"|\")[1:-1]]  # Split header row by '|'\n",
    "        rows = [line.strip().split(\"|\")[1:-1] for line in lines[2:]]    # Split data rows by '|'\n",
    "        data = [[cell.strip() for cell in row if cell] for row in rows]  # Clean up cells        \n",
    "        \n",
    "        try:\n",
    "            res_df = pd.DataFrame(data, columns=headers)\n",
    "        except:\n",
    "            res_df = None\n",
    "        return res_df\n",
    "    \n",
    "    @staticmethod\n",
    "    def _merge_tables(tables: List[pd.DataFrame]) -> List[pd.DataFrame]:\n",
    "        def infer_column_types(df):\n",
    "            inferred_types = []\n",
    "            for col in df.columns:\n",
    "                try:\n",
    "                    # Try numeric conversion\n",
    "                    pd.to_numeric(df[col])\n",
    "                    inferred_types.append('num')\n",
    "                except:\n",
    "                    try:\n",
    "                        # Try datetime conversion\n",
    "                        pd.to_datetime(df[col], format='mixed')\n",
    "                        inferred_types.append('dt')\n",
    "                    except:\n",
    "                        inferred_types.append('str')\n",
    "            return inferred_types\n",
    "        \n",
    "        inx = 0\n",
    "        \n",
    "        while (inx + 1) < len(tables):\n",
    "            # try to merge tables[inx] and tables[inx + 1]\n",
    "            # check if they have the same number of columns\n",
    "            # check if their columns have the similar type\n",
    "            # !!! WARNING !!! It was supposed that the first table has the right columns names\n",
    "            # !!! WARNING !!! and following similar table has hallucinated columns names\n",
    "            if tables[inx].shape[1] == tables[inx + 1].shape[1]:\n",
    "                col_types_t0 = infer_column_types(tables[inx])\n",
    "                col_types_t1 = infer_column_types(tables[inx + 1])\n",
    "                if col_types_t0 == col_types_t1:\n",
    "                    tables[inx + 1].columns = tables[inx].columns\n",
    "                    tables[inx] = pd.concat([tables[inx], tables[inx + 1]], ignore_index=True).reset_index(drop=True)\n",
    "                    del tables[inx + 1]\n",
    "                    \n",
    "                    continue # prevent considering the next table    \n",
    "            inx += 1\n",
    "        return tables\n",
    "\n",
    "    @staticmethod\n",
    "    def parse_md_page(md_text: str) -> List[Tuple[Union[pd.DataFrame, str], PDFPartsTypes]]:\n",
    "        \"\"\"\n",
    "        Extracts tables and text from Markdown in the same order they appear.\n",
    "        Tables are returned as Pandas DataFrames, and text parts as strings.\n",
    "\n",
    "        :param md_text: Markdown string which represent PDF-document or PDF-page\n",
    "        :return: List[Tuple[Union[pd.DataFrame, str], PDFPartsTypes]]\n",
    "        \"\"\"\n",
    "        content = []\n",
    "\n",
    "        # Regular expression to match Markdown tables, allowing for optional spaces and missing cells\n",
    "        table_pattern = re.compile(\n",
    "            r'(\\|[^\\n]+\\|\\n(?:\\|[^\\n]+\\|\\n)*)',\n",
    "            re.MULTILINE\n",
    "        )\n",
    "        \n",
    "        # Split the text by tables\n",
    "        parts = table_pattern.split(md_text + \"\\n\")\n",
    "\n",
    "        for part in parts:\n",
    "            part = part.strip()\n",
    "            if table_pattern.match(part):  # It's a table\n",
    "                df = MDParser._parse_md_table(part)\n",
    "                # check if table parsing is successful\n",
    "                content.append((df, PDFPartsTypes.TABLE) if df is not None else (part.strip(), PDFPartsTypes.TEXT))\n",
    "            elif part:  # Non-empty text\n",
    "                content.append((str(part), PDFPartsTypes.TEXT))\n",
    "\n",
    "        return content\n",
    "\n",
    "    @staticmethod\n",
    "    def parse_md_doc(md_texts: List[str]) -> List[Tuple[Union[str, pd.DataFrame], PDFPartsTypes]]:\n",
    "        text_parts_processed = []\n",
    "        page_parts = []\n",
    "        combined_md_text = \"\"\n",
    "        collected_tables = []\n",
    "        \n",
    "        # Here might be a table parsing logic which use table position in text,\n",
    "        # so I keep pages after collecting tables\n",
    "        for md_text in md_texts:\n",
    "            page_parts.append(MDParser.parse_md_page(md_text))\n",
    "\n",
    "        # Cleaning redundant text parts and table combining procedure\n",
    "        for page_part in page_parts:\n",
    "            for pdata, pd_type in page_part:\n",
    "                if pd_type == PDFPartsTypes.TEXT:\n",
    "                    # DO NOT add to final text too small pieces of text\n",
    "                    # usually they are redundant\n",
    "                    pdata = pdata.strip()\n",
    "                    combined_md_text += pdata + \"\\n\" if (len(combined_md_text) > 0 or len(pdata) > MIN_TEXT_SIZE) else \"\"\n",
    "                elif pd_type == PDFPartsTypes.TABLE:\n",
    "                    collected_tables.append(pdata)\n",
    "        collected_tables = MDParser._merge_tables(collected_tables)\n",
    "        \n",
    "        if combined_md_text:\n",
    "            text_parts_processed.append((combined_md_text, PDFPartsTypes.TEXT))\n",
    "        text_parts_processed.extend([(df_table, PDFPartsTypes.TABLE) for df_table in collected_tables])\n",
    "        \n",
    "        return text_parts_processed"
   ],
   "id": "feeca350dd041e02",
   "outputs": [],
   "execution_count": 106
  },
  {
   "metadata": {},
   "cell_type": "code",
   "outputs": [],
   "execution_count": null,
   "source": "",
   "id": "651da059cba46912"
  },
  {
   "metadata": {},
   "cell_type": "code",
   "outputs": [],
   "execution_count": null,
   "source": "",
   "id": "5b2ae35932ec86a8"
  },
  {
   "metadata": {},
   "cell_type": "markdown",
   "source": "# Testing \"single-page-diff-u_s_tables.pdf\"",
   "id": "681e40923dfcec88"
  },
  {
   "metadata": {
    "ExecuteTime": {
     "end_time": "2024-10-20T20:43:10.529533Z",
     "start_time": "2024-10-20T20:43:04.887294Z"
    }
   },
   "cell_type": "code",
   "source": [
    "doc = LlamaParse(\n",
    "    result_type=\"markdown\",\n",
    "    use_vendor_multimodal_model=True,\n",
    "    # vendor_multimodal_model_name=\"openai-gpt-4o-mini\",\n",
    "    vendor_multimodal_model_name=\"openai-gpt4o\",\n",
    ").load_data(\"./_data_test_pdfs_custom/single-page-diff-u_s_tables.pdf\")\n",
    "print(f\"Result docs number: {len(doc)}\")"
   ],
   "id": "548fbe7d160ae4eb",
   "outputs": [
    {
     "name": "stdout",
     "output_type": "stream",
     "text": [
      "Started parsing the file under job_id 00e6c69d-17d7-41d4-9212-7691a672151d\n",
      "Result docs number: 8\n"
     ]
    }
   ],
   "execution_count": 89
  },
  {
   "metadata": {
    "ExecuteTime": {
     "end_time": "2024-10-20T21:04:32.811913Z",
     "start_time": "2024-10-20T21:04:32.785275Z"
    }
   },
   "cell_type": "code",
   "source": "res = MDParser.parse_md_doc([doc[inx].text for inx in range(len(doc))])",
   "id": "b519efc31f633fb9",
   "outputs": [],
   "execution_count": 107
  },
  {
   "metadata": {
    "ExecuteTime": {
     "end_time": "2024-10-20T21:04:35.323830Z",
     "start_time": "2024-10-20T21:04:35.319690Z"
    }
   },
   "cell_type": "code",
   "source": [
    "for res_single in res:\n",
    "    print(res_single[1], res_single[0].shape)"
   ],
   "id": "68d3c9a0fb4003bb",
   "outputs": [
    {
     "name": "stdout",
     "output_type": "stream",
     "text": [
      "PDFPartsTypes.TABLE (32, 5)\n",
      "PDFPartsTypes.TABLE (46, 11)\n",
      "PDFPartsTypes.TABLE (21, 6)\n"
     ]
    }
   ],
   "execution_count": 108
  },
  {
   "metadata": {
    "ExecuteTime": {
     "end_time": "2024-10-20T21:04:36.717163Z",
     "start_time": "2024-10-20T21:04:36.707765Z"
    }
   },
   "cell_type": "code",
   "source": "res[0][0].head()",
   "id": "6a811e63d0e73041",
   "outputs": [
    {
     "data": {
      "text/plain": [
       "         Date         Description Revenue (USD) Expenses (USD)  \\\n",
       "0  2023-12-01  Daily Transactions        $1,200           $955   \n",
       "1  2023-12-02  Daily Transactions        $1,500         $1,082   \n",
       "2  2023-12-03  Daily Transactions        $1,100           $861   \n",
       "3  2023-12-04  Daily Transactions        $1,342         $1,068   \n",
       "4  2023-12-05  Daily Transactions        $1,410         $1,180   \n",
       "\n",
       "  Net Profit (USD)  \n",
       "0             $245  \n",
       "1             $418  \n",
       "2             $239  \n",
       "3             $274  \n",
       "4             $230  "
      ],
      "text/html": [
       "<div>\n",
       "<style scoped>\n",
       "    .dataframe tbody tr th:only-of-type {\n",
       "        vertical-align: middle;\n",
       "    }\n",
       "\n",
       "    .dataframe tbody tr th {\n",
       "        vertical-align: top;\n",
       "    }\n",
       "\n",
       "    .dataframe thead th {\n",
       "        text-align: right;\n",
       "    }\n",
       "</style>\n",
       "<table border=\"1\" class=\"dataframe\">\n",
       "  <thead>\n",
       "    <tr style=\"text-align: right;\">\n",
       "      <th></th>\n",
       "      <th>Date</th>\n",
       "      <th>Description</th>\n",
       "      <th>Revenue (USD)</th>\n",
       "      <th>Expenses (USD)</th>\n",
       "      <th>Net Profit (USD)</th>\n",
       "    </tr>\n",
       "  </thead>\n",
       "  <tbody>\n",
       "    <tr>\n",
       "      <th>0</th>\n",
       "      <td>2023-12-01</td>\n",
       "      <td>Daily Transactions</td>\n",
       "      <td>$1,200</td>\n",
       "      <td>$955</td>\n",
       "      <td>$245</td>\n",
       "    </tr>\n",
       "    <tr>\n",
       "      <th>1</th>\n",
       "      <td>2023-12-02</td>\n",
       "      <td>Daily Transactions</td>\n",
       "      <td>$1,500</td>\n",
       "      <td>$1,082</td>\n",
       "      <td>$418</td>\n",
       "    </tr>\n",
       "    <tr>\n",
       "      <th>2</th>\n",
       "      <td>2023-12-03</td>\n",
       "      <td>Daily Transactions</td>\n",
       "      <td>$1,100</td>\n",
       "      <td>$861</td>\n",
       "      <td>$239</td>\n",
       "    </tr>\n",
       "    <tr>\n",
       "      <th>3</th>\n",
       "      <td>2023-12-04</td>\n",
       "      <td>Daily Transactions</td>\n",
       "      <td>$1,342</td>\n",
       "      <td>$1,068</td>\n",
       "      <td>$274</td>\n",
       "    </tr>\n",
       "    <tr>\n",
       "      <th>4</th>\n",
       "      <td>2023-12-05</td>\n",
       "      <td>Daily Transactions</td>\n",
       "      <td>$1,410</td>\n",
       "      <td>$1,180</td>\n",
       "      <td>$230</td>\n",
       "    </tr>\n",
       "  </tbody>\n",
       "</table>\n",
       "</div>"
      ]
     },
     "execution_count": 109,
     "metadata": {},
     "output_type": "execute_result"
    }
   ],
   "execution_count": 109
  },
  {
   "metadata": {
    "ExecuteTime": {
     "end_time": "2024-10-20T21:04:37.672388Z",
     "start_time": "2024-10-20T21:04:37.661254Z"
    }
   },
   "cell_type": "code",
   "source": "res[1][0].head()",
   "id": "746d2d11b9734a8",
   "outputs": [
    {
     "data": {
      "text/plain": [
       "  Product ID Product Name                                        Description  \\\n",
       "0          1        Apple  Fresh, crisp apples sourced from local orchard...   \n",
       "1          2       Banana  Ripe, sweet bananas imported from tropical reg...   \n",
       "2          3        Bread  Artisanal bread made with locally-sourced, hig...   \n",
       "3          4         Milk  Fresh, creamy milk from pasture-raised cows fo...   \n",
       "4          5          Egg  Farm-fresh eggs from free-range chickens, ensu...   \n",
       "\n",
       "  Quantity in Stock Unit Price Selling Price Expiry Date Date of Purchase  \\\n",
       "0                94      $1.00          1.24  02-01-2024       26-11-2023   \n",
       "1                68      $0.50          0.62  05-12-2023       19-11-2023   \n",
       "2                10      $2.00          2.48  17-12-2023       25-11-2023   \n",
       "3                95      $3.00          3.72  31-12-2023       24-11-2023   \n",
       "4                91      $0.25          0.31  09-12-2023       23-11-2023   \n",
       "\n",
       "  Date of Last Sale              Supplier     Discount  \n",
       "0        01-12-2023       Fresh Fruit Co.  0.117748952  \n",
       "1        01-12-2023       Fresh Fruit Co.  0.081272608  \n",
       "2        19-11-2023       Bakery Delights  0.158817645  \n",
       "3        01-12-2023            Dairy Farm  0.011311604  \n",
       "4        20-11-2023  Eggcellent Suppliers  0.015065837  "
      ],
      "text/html": [
       "<div>\n",
       "<style scoped>\n",
       "    .dataframe tbody tr th:only-of-type {\n",
       "        vertical-align: middle;\n",
       "    }\n",
       "\n",
       "    .dataframe tbody tr th {\n",
       "        vertical-align: top;\n",
       "    }\n",
       "\n",
       "    .dataframe thead th {\n",
       "        text-align: right;\n",
       "    }\n",
       "</style>\n",
       "<table border=\"1\" class=\"dataframe\">\n",
       "  <thead>\n",
       "    <tr style=\"text-align: right;\">\n",
       "      <th></th>\n",
       "      <th>Product ID</th>\n",
       "      <th>Product Name</th>\n",
       "      <th>Description</th>\n",
       "      <th>Quantity in Stock</th>\n",
       "      <th>Unit Price</th>\n",
       "      <th>Selling Price</th>\n",
       "      <th>Expiry Date</th>\n",
       "      <th>Date of Purchase</th>\n",
       "      <th>Date of Last Sale</th>\n",
       "      <th>Supplier</th>\n",
       "      <th>Discount</th>\n",
       "    </tr>\n",
       "  </thead>\n",
       "  <tbody>\n",
       "    <tr>\n",
       "      <th>0</th>\n",
       "      <td>1</td>\n",
       "      <td>Apple</td>\n",
       "      <td>Fresh, crisp apples sourced from local orchard...</td>\n",
       "      <td>94</td>\n",
       "      <td>$1.00</td>\n",
       "      <td>1.24</td>\n",
       "      <td>02-01-2024</td>\n",
       "      <td>26-11-2023</td>\n",
       "      <td>01-12-2023</td>\n",
       "      <td>Fresh Fruit Co.</td>\n",
       "      <td>0.117748952</td>\n",
       "    </tr>\n",
       "    <tr>\n",
       "      <th>1</th>\n",
       "      <td>2</td>\n",
       "      <td>Banana</td>\n",
       "      <td>Ripe, sweet bananas imported from tropical reg...</td>\n",
       "      <td>68</td>\n",
       "      <td>$0.50</td>\n",
       "      <td>0.62</td>\n",
       "      <td>05-12-2023</td>\n",
       "      <td>19-11-2023</td>\n",
       "      <td>01-12-2023</td>\n",
       "      <td>Fresh Fruit Co.</td>\n",
       "      <td>0.081272608</td>\n",
       "    </tr>\n",
       "    <tr>\n",
       "      <th>2</th>\n",
       "      <td>3</td>\n",
       "      <td>Bread</td>\n",
       "      <td>Artisanal bread made with locally-sourced, hig...</td>\n",
       "      <td>10</td>\n",
       "      <td>$2.00</td>\n",
       "      <td>2.48</td>\n",
       "      <td>17-12-2023</td>\n",
       "      <td>25-11-2023</td>\n",
       "      <td>19-11-2023</td>\n",
       "      <td>Bakery Delights</td>\n",
       "      <td>0.158817645</td>\n",
       "    </tr>\n",
       "    <tr>\n",
       "      <th>3</th>\n",
       "      <td>4</td>\n",
       "      <td>Milk</td>\n",
       "      <td>Fresh, creamy milk from pasture-raised cows fo...</td>\n",
       "      <td>95</td>\n",
       "      <td>$3.00</td>\n",
       "      <td>3.72</td>\n",
       "      <td>31-12-2023</td>\n",
       "      <td>24-11-2023</td>\n",
       "      <td>01-12-2023</td>\n",
       "      <td>Dairy Farm</td>\n",
       "      <td>0.011311604</td>\n",
       "    </tr>\n",
       "    <tr>\n",
       "      <th>4</th>\n",
       "      <td>5</td>\n",
       "      <td>Egg</td>\n",
       "      <td>Farm-fresh eggs from free-range chickens, ensu...</td>\n",
       "      <td>91</td>\n",
       "      <td>$0.25</td>\n",
       "      <td>0.31</td>\n",
       "      <td>09-12-2023</td>\n",
       "      <td>23-11-2023</td>\n",
       "      <td>20-11-2023</td>\n",
       "      <td>Eggcellent Suppliers</td>\n",
       "      <td>0.015065837</td>\n",
       "    </tr>\n",
       "  </tbody>\n",
       "</table>\n",
       "</div>"
      ]
     },
     "execution_count": 110,
     "metadata": {},
     "output_type": "execute_result"
    }
   ],
   "execution_count": 110
  },
  {
   "metadata": {
    "ExecuteTime": {
     "end_time": "2024-10-20T21:04:40.178767Z",
     "start_time": "2024-10-20T21:04:40.171387Z"
    }
   },
   "cell_type": "code",
   "source": "res[2][0].head()",
   "id": "8a2f8e3f59e84fbe",
   "outputs": [
    {
     "data": {
      "text/plain": [
       "       Employee           Phone                  Email     Role    Hire Date  \\\n",
       "0     Sarah Lee  (415) 555-2671     sarahlee@email.com  Cashier   3-Jan-2018   \n",
       "1   Tom Johnson  (212) 555-3456   tomjohnson@email.com  Cashier  15-Feb-2019   \n",
       "2    Jane Smith  (312) 555-7890    janesmith@email.com  Cashier  10-Apr-2017   \n",
       "3  Mike Johnson  (213) 555-4567  mikejohnson@email.com  Cashier  22-May-2018   \n",
       "4    John Smith  (305) 555-6789    johnsmith@email.com      CEO  30-Jun-2019   \n",
       "\n",
       "    Salary  \n",
       "0   $2,000  \n",
       "1   $2,000  \n",
       "2   $2,000  \n",
       "3   $2,000  \n",
       "4  $20,000  "
      ],
      "text/html": [
       "<div>\n",
       "<style scoped>\n",
       "    .dataframe tbody tr th:only-of-type {\n",
       "        vertical-align: middle;\n",
       "    }\n",
       "\n",
       "    .dataframe tbody tr th {\n",
       "        vertical-align: top;\n",
       "    }\n",
       "\n",
       "    .dataframe thead th {\n",
       "        text-align: right;\n",
       "    }\n",
       "</style>\n",
       "<table border=\"1\" class=\"dataframe\">\n",
       "  <thead>\n",
       "    <tr style=\"text-align: right;\">\n",
       "      <th></th>\n",
       "      <th>Employee</th>\n",
       "      <th>Phone</th>\n",
       "      <th>Email</th>\n",
       "      <th>Role</th>\n",
       "      <th>Hire Date</th>\n",
       "      <th>Salary</th>\n",
       "    </tr>\n",
       "  </thead>\n",
       "  <tbody>\n",
       "    <tr>\n",
       "      <th>0</th>\n",
       "      <td>Sarah Lee</td>\n",
       "      <td>(415) 555-2671</td>\n",
       "      <td>sarahlee@email.com</td>\n",
       "      <td>Cashier</td>\n",
       "      <td>3-Jan-2018</td>\n",
       "      <td>$2,000</td>\n",
       "    </tr>\n",
       "    <tr>\n",
       "      <th>1</th>\n",
       "      <td>Tom Johnson</td>\n",
       "      <td>(212) 555-3456</td>\n",
       "      <td>tomjohnson@email.com</td>\n",
       "      <td>Cashier</td>\n",
       "      <td>15-Feb-2019</td>\n",
       "      <td>$2,000</td>\n",
       "    </tr>\n",
       "    <tr>\n",
       "      <th>2</th>\n",
       "      <td>Jane Smith</td>\n",
       "      <td>(312) 555-7890</td>\n",
       "      <td>janesmith@email.com</td>\n",
       "      <td>Cashier</td>\n",
       "      <td>10-Apr-2017</td>\n",
       "      <td>$2,000</td>\n",
       "    </tr>\n",
       "    <tr>\n",
       "      <th>3</th>\n",
       "      <td>Mike Johnson</td>\n",
       "      <td>(213) 555-4567</td>\n",
       "      <td>mikejohnson@email.com</td>\n",
       "      <td>Cashier</td>\n",
       "      <td>22-May-2018</td>\n",
       "      <td>$2,000</td>\n",
       "    </tr>\n",
       "    <tr>\n",
       "      <th>4</th>\n",
       "      <td>John Smith</td>\n",
       "      <td>(305) 555-6789</td>\n",
       "      <td>johnsmith@email.com</td>\n",
       "      <td>CEO</td>\n",
       "      <td>30-Jun-2019</td>\n",
       "      <td>$20,000</td>\n",
       "    </tr>\n",
       "  </tbody>\n",
       "</table>\n",
       "</div>"
      ]
     },
     "execution_count": 111,
     "metadata": {},
     "output_type": "execute_result"
    }
   ],
   "execution_count": 111
  },
  {
   "metadata": {},
   "cell_type": "markdown",
   "source": "# Testing \"consum_order_payment.pdf\"",
   "id": "c90bf2f40ca60753"
  },
  {
   "metadata": {
    "ExecuteTime": {
     "end_time": "2024-10-20T21:04:46.897791Z",
     "start_time": "2024-10-20T21:04:43.775507Z"
    }
   },
   "cell_type": "code",
   "source": [
    "doc = LlamaParse(\n",
    "    result_type=\"markdown\",\n",
    "    use_vendor_multimodal_model=True,\n",
    "    # vendor_multimodal_model_name=\"openai-gpt-4o-mini\",\n",
    "    vendor_multimodal_model_name=\"openai-gpt4o\",\n",
    ").load_data(\"./_data_test_pdfs_custom/consum_order_payment.pdf\")\n",
    "print(f\"Result docs number: {len(doc)}\")"
   ],
   "id": "dff9228582927d77",
   "outputs": [
    {
     "name": "stdout",
     "output_type": "stream",
     "text": [
      "Started parsing the file under job_id 110410e1-2f31-4cdf-9871-7f534319fbb4\n",
      "Result docs number: 3\n"
     ]
    }
   ],
   "execution_count": 112
  },
  {
   "metadata": {
    "ExecuteTime": {
     "end_time": "2024-10-20T21:04:47.709393Z",
     "start_time": "2024-10-20T21:04:47.705454Z"
    }
   },
   "cell_type": "code",
   "source": "print(doc[0].text)",
   "id": "9e4042e00fec4015",
   "outputs": [
    {
     "name": "stdout",
     "output_type": "stream",
     "text": [
      "\n",
      "| Payment ID | Order ID | Loyalty Card | Loyalty Amount Applied | Customer       | Amount Payed | Date       | Type   | Card       | Invoice ID | Status     |\n",
      "|------------|----------|--------------|------------------------|----------------|--------------|------------|--------|------------|------------|------------|\n",
      "| 209864     | 1        | -            |                        | John Smith     | $50.00       | 01-May-21  | Cash   |            | 656625     | Completed  |\n",
      "| 615068     | 3        | 401364       | 5                      | Bob Johnson    | $15          | 03-May-21  | Online | Visa       | 129687     | Failed     |\n",
      "| 889065     | 4        | -            |                        | Mary Brown     | $30.00       | 04-May-21  | Cash   |            | 429780     | Completed  |\n",
      "| 743665     | 5        | 245888       |                        | David Lee      | $15.00       | 05-May-21  | Cash   |            | 960672     | Pending    |\n",
      "| 541305     | 8        | 417384       | 3                      | Emily Davis    | $22          | 08-May-21  | Online | MasterCard | 892412     | Pending    |\n",
      "| 720291     | 9        | -            |                        | James Wilson   | $35.00       | 09-May-21  | Cash   |            | 327598     | Failed     |\n",
      "| 270772     | 12       | -            |                        | Sarah Davis    | $200         | 01-Feb-22  | Online | Visa       | 211592     | Paid       |\n",
      "| 719317     | 13       | 159316       |                        | Peter Parker   | $100         | 01-Mar-22  | Online | Visa       | 883385     | Pending    |\n",
      "| 441367     | 17       | 366482       |                        | Michael Smith  | $400         | 01-Jul-22  | Cash   |            | 532919     | Failed     |\n",
      "| 903270     | 19       | -            |                        | William Johnson| $500         | 01-Sep-22  | Cash   |            | 697419     | Pending    |\n",
      "| 254250     | 20       | -            |                        | Jessica Davis  | $550         | 01-Oct-22  | Cash   |            | 849473     | Failed     |\n",
      "| 586722     | 22       | -            |                        | Jane Doe       | $200.00      | 02-Jan-22  | Online | MasterCard | 754458     | Completed  |\n",
      "| 428441     | 23       | -            |                        | Mary Johnson   | $75.00       | 03-Jan-22  | Online | Visa       | 401436     | Pending    |\n",
      "| 371695     | 24       | -            |                        | James Smith    | $120.00      | 04-Jan-22  | Cash   |            | 629549     | Failed     |\n",
      "| 992029     | 26       | 793775       |                        | David Brown    | $180.00      | 06-Jan-22  | Cash   |            | 192059     | Pending    |\n",
      "| 338689     | 27       | 759235       |                        | Olivia Taylor  | $90.00       | 07-Jan-22  | Cash   |            | 565220     | Failed     |\n",
      "| 318692     | 30       | 330293       | 4.3                    | Michael Davis  | $105.70      | 10-Jan-22  | Cash   | MasterCard | 246621     | Failed     |\n",
      "| 818132     | 32       | -            |                        | Jane Smith     | $200         | 01-Feb-22  | Online | Visa       | 732854     | Completed  |\n",
      "| 791460     | 34       | -            |                        | Tom Johnson    | $90          | 01-Apr-22  | Cash   |            | 772251     | Pending    |\n",
      "| 408578     | 35       | 299518       | 2.8                    | Sarah Lee      | $177.20      | 01-May-22  | Cash   | MasterCard | 254563     | Failed     |\n",
      "| 729740     | 37       | 149973       |                        | Mike Johnson   | $160         | 01-Jul-22  | Online | Visa       | 827288     | Completed  |\n",
      "| 198293     | 40       | -            |                        | Jane Smith     | $220         | 01-Oct-22  | Online | Visa       | 478840     | Pending    |\n",
      "| 982412     | 41       | -            |                        | John Doe       | $150         | 01-Jan-22  | Cash   |            | 448331     | Failed     |\n",
      "| 266553     | 44       | -            |                        | James Brown    | $300         | 04-Jan-22  | Online | Visa       | 349230     | Pending    |\n",
      "| 763846     | 46       | -            |                        | William Smith  | $400         | 06-Jan-22  | Online | MasterCard | 626521     | Failed     |\n",
      "\n"
     ]
    }
   ],
   "execution_count": 113
  },
  {
   "metadata": {
    "ExecuteTime": {
     "end_time": "2024-10-20T21:04:48.332955Z",
     "start_time": "2024-10-20T21:04:48.329330Z"
    }
   },
   "cell_type": "code",
   "source": "print(doc[1].text)",
   "id": "cd2e5e3b71d00b2d",
   "outputs": [
    {
     "name": "stdout",
     "output_type": "stream",
     "text": [
      "\n",
      "| Order ID | Status      | Customer        | Cashier     | Total | Date      | Items                          | Notes                                           |\n",
      "|----------|-------------|-----------------|-------------|-------|-----------|--------------------------------|-------------------------------------------------|\n",
      "| 1        | Completed   | John Smith      | Sarah Lee   | $50   | 01-May-21 | Apples, Bananas, Bread         |                                                 |\n",
      "| 2        | Completed   | Jane Doe        | Tom Johnson | $75   | 02-May-21 | Milk, Eggs, Cheese, Yogurt     |                                                 |\n",
      "| 3        | In Progress | Bob Johnson     | Sarah Lee   | $20   | 03-May-21 | Chips, Salsa                   |                                                 |\n",
      "| 4        | Completed   | Mary Brown      | Tom Johnson | $30   | 04-May-21 | Chicken, Broccoli              |                                                 |\n",
      "| 5        | Completed   | David Lee       | Sarah Lee   | $15   | 05-May-21 | Soda, Chips                    |                                                 |\n",
      "| 6        | In Progress | Sarah Johnson   | Tom Johnson | $40   | 06-May-21 | Ground Beef, Pasta, Sauce      |                                                 |\n",
      "| 7        | Completed   | Michael Smith   | Sarah Lee   | $60   | 07-May-21 | Steak, Potatoes, Carrots       |                                                 |\n",
      "| 8        | In Progress | Emily Davis     | Tom Johnson | $25   | 08-May-21 | Apples, Oranges                |                                                 |\n",
      "| 9        | Completed   | James Wilson    | Sarah Lee   | $35   | 09-May-21 | Bread, Milk, Eggs              |                                                 |\n",
      "| 10       | In Progress | Samantha Brown  | Tom Johnson | $45   | 10-May-21 | Chicken, Rice, Beans           |                                                 |\n",
      "| 11       | Delivered   | John Doe        | Jane Smith  | $150  | 01-Jan-22 | Apples, Milk                   |                                                 |\n",
      "| 12       | Pending     | Sarah Davis     | Mike Johnson| $200  | 01-Feb-22 | Bread, Butter                  |                                                 |\n",
      "| 13       | Cancelled   | Peter Parker    | Jane Smith  | $100  | 01-Mar-22 | Cereal, Juice                  | Out of stock                                    |\n",
      "| 14       | Delivered   | Mary Johnson    | Mike Johnson| $250  | 01-Apr-22 | Eggs, Bacon                    |                                                 |\n",
      "| 15       | Pending     | James Brown     | Jane Smith  | $300  | 01-May-22 | Pasta, Tomato Sauce            |                                                 |\n",
      "| 16       | Delivered   | Emily Davis     | Mike Johnson| $350  | 01-Jun-22 | Chicken, Potatoes              |                                                 |\n",
      "| 17       | Cancelled   | Michael Smith   | Jane Smith  | $400  | 01-Jul-22 | Fish, Rice                     | Out of stock                                    |\n",
      "| 18       | Delivered   | Jennifer Wilson | Mike Johnson| $450  | 01-Aug-22 | Beef, Broccoli                 |                                                 |\n",
      "| 19       | Pending     | William Johnson | Jane Smith  | $500  | 01-Sep-22 | Pork, Corn                     |                                                 |\n",
      "| 20       | Delivered   | Jessica Davis   | Mike Johnson| $550  | 01-Oct-22 | Lamb, Peas                     |                                                 |\n",
      "| 21       | Completed   | John Doe        | Sarah Lee   | $150  | 01-Jan-22 | Milk, Bread, Butter            |                                                 |\n",
      "| 22       | In Progress | Jane Doe        | Tom Johnson | $200  | 02-Jan-22 | Eggs, Bacon, Orange Juice      |                                                 |\n",
      "| 23       | Delivered   | Mary Johnson    | Jane Smith  | $75   | 03-Jan-22 | Cereal, Milk                   |                                                 |\n",
      "| 24       | Pending     | James Smith     | Mike Johnson| $120  | 04-Jan-22 | Chicken, Vegetables, Rice      |                                                 |\n",
      "| 25       | Cancelled   | Emily Davis     | Sarah Lee   | $50   | 05-Jan-22 | Pasta, Tomato Sauce            | Customer might have found the items cheaper elsewhere |\n",
      "| 26       | Completed   | David Brown     | Tom Johnson | $180  | 06-Jan-22 | Steak, Potatoes, Wine          |                                                 |\n",
      "| 27       | In Progress | Olivia Taylor   | Jane Smith  | $90   | 07-Jan-22 | Fish, Lemon, Olive Oil         |                                                 |\n",
      "| 28       | Delivered   | William Johnson | Mike Johnson| $130  | 08-Jan-22 | Bread, Cheese, Ham             |                                                 |\n",
      "\n"
     ]
    }
   ],
   "execution_count": 114
  },
  {
   "metadata": {
    "ExecuteTime": {
     "end_time": "2024-10-20T21:04:49.101539Z",
     "start_time": "2024-10-20T21:04:49.097034Z"
    }
   },
   "cell_type": "code",
   "source": "print(doc[2].text)",
   "id": "4e4fac8e1c1255cb",
   "outputs": [
    {
     "name": "stdout",
     "output_type": "stream",
     "text": [
      "\n",
      "|    | Status      | Customer Name   | Salesperson Name | Amount | Date      | Items                      | Notes                                 |\n",
      "|----|-------------|-----------------|------------------|--------|-----------|----------------------------|---------------------------------------|\n",
      "| 29 | Pending     | Ava Williams    | Sarah Lee        | $160   | 09-Jan-22 | Coffee, Sugar, Cream       |                                       |\n",
      "| 30 | Completed   | Michael Davis   | Tom Johnson      | $110   | 10-Jan-22 | Tea, Honey, Lemon          |                                       |\n",
      "| 31 | Completed   | Sarah Lee       | Tom Johnson      | $150   | 01-Jan-22 | Apples, Milk, Bread        |                                       |\n",
      "| 32 | In Progress | Jane Smith      | Mike Johnson     | $200   | 01-Feb-22 | Eggs, Butter, Cheese       |                                       |\n",
      "| 33 | Delivered   | Mike Johnson    | Sarah Lee        | $120   | 01-Mar-22 | Rice, Chicken, Oranges     |                                       |\n",
      "| 34 | Pending     | Tom Johnson     | Jane Smith       | $90    | 01-Apr-22 | Bananas, Yogurt, Coffee    |                                       |\n",
      "| 35 | Cancelled   | Sarah Lee       | Mike Johnson     | $180   | 01-May-22 | Cereal, Milk, Apples       | Out of stock                          |\n",
      "| 36 | Completed   | Jane Smith      | Tom Johnson      | $210   | 01-Jun-22 | Bread, Butter, Eggs        |                                       |\n",
      "| 37 | In Progress | Mike Johnson    | Sarah Lee        | $160   | 01-Jul-22 | Chicken, Rice, Oranges     |                                       |\n",
      "| 38 | Delivered   | Tom Johnson     | Jane Smith       | $100   | 01-Aug-22 | Coffee, Yogurt, Bananas    |                                       |\n",
      "| 39 | Pending     | Sarah Lee       | Mike Johnson     | $190   | 01-Sep-22 | Apples, Cereal, Milk       |                                       |\n",
      "| 40 | Cancelled   | Jane Smith      | Tom Johnson      | $220   | 01-Oct-22 | Eggs, Butter, Bread        | Out of stock                          |\n",
      "| 41 | Completed   | John Doe        | Sarah Lee        | $150   | 01-Jan-22 | Bread, Milk                |                                       |\n",
      "| 42 | In Progress | Jane Doe        | Tom Johnson      | $200   | 02-Jan-22 | Eggs, Cheese               |                                       |\n",
      "| 43 | Delivered   | Mary Johnson    | Jane Smith       | $250   | 03-Jan-22 | Apples, Oranges            |                                       |\n",
      "| 44 | Pending     | James Brown     | Mike Johnson     | $300   | 04-Jan-22 | Bananas, Grapes            |                                       |\n",
      "| 45 | Cancelled   | Emily Davis     | Sarah Lee        | $350   | 05-Jan-22 | Chicken, Beef              | Preference for a different type of meat |\n",
      "| 46 | Completed   | William Smith   | Tom Johnson      | $400   | 06-Jan-22 | Fish, Shrimp               |                                       |\n",
      "| 47 | In Progress | Elizabeth Taylor| Jane Smith       | $450   | 07-Jan-22 | Rice, Pasta                |                                       |\n",
      "| 48 | Delivered   | Michael Miller  | Mike Johnson     | $500   | 08-Jan-22 | Bread, Cheese              |                                       |\n",
      "| 49 | Pending     | Emma Wilson     | Sarah Lee        | $550   | 09-Jan-22 | Milk, Eggs                 |                                       |\n",
      "| 50 | Cancelled   | Jacob Brown     | Tom Johnson      | $600   | 10-Jan-22 | Apples, Bananas            | Out of stock                          |\n",
      "\n"
     ]
    }
   ],
   "execution_count": 115
  },
  {
   "metadata": {
    "ExecuteTime": {
     "end_time": "2024-10-20T21:04:50.446524Z",
     "start_time": "2024-10-20T21:04:50.432047Z"
    }
   },
   "cell_type": "code",
   "source": "res = MDParser.parse_md_doc([doc[inx].text for inx in range(len(doc))])",
   "id": "1a09b35b66ae5c97",
   "outputs": [],
   "execution_count": 116
  },
  {
   "metadata": {
    "ExecuteTime": {
     "end_time": "2024-10-20T21:06:36.754829Z",
     "start_time": "2024-10-20T21:06:36.749636Z"
    }
   },
   "cell_type": "code",
   "source": [
    "for inx, res_single in enumerate(res):\n",
    "    if res_single[1] is PDFPartsTypes.TABLE:\n",
    "        print(f\"{inx}:\", res_single[1], res_single[0].shape)\n",
    "    else:\n",
    "        print(f\"{inx}:\", res_single[1], len(res_single[0]))"
   ],
   "id": "381cbe1b618d67e0",
   "outputs": [
    {
     "name": "stdout",
     "output_type": "stream",
     "text": [
      "0: PDFPartsTypes.TABLE (25, 11)\n",
      "1: PDFPartsTypes.TABLE (50, 8)\n"
     ]
    }
   ],
   "execution_count": 118
  },
  {
   "metadata": {
    "ExecuteTime": {
     "end_time": "2024-10-20T21:06:48.722175Z",
     "start_time": "2024-10-20T21:06:48.710050Z"
    }
   },
   "cell_type": "code",
   "source": "res[0][0].head()",
   "id": "dca51a94b554c6f4",
   "outputs": [
    {
     "data": {
      "text/plain": [
       "  Payment ID Order ID Loyalty Card Loyalty Amount Applied     Customer  \\\n",
       "0     209864        1            -                          John Smith   \n",
       "1     615068        3       401364                      5  Bob Johnson   \n",
       "2     889065        4            -                          Mary Brown   \n",
       "3     743665        5       245888                           David Lee   \n",
       "4     541305        8       417384                      3  Emily Davis   \n",
       "\n",
       "  Amount Payed       Date    Type        Card Invoice ID     Status  \n",
       "0       $50.00  01-May-21    Cash                 656625  Completed  \n",
       "1          $15  03-May-21  Online        Visa     129687     Failed  \n",
       "2       $30.00  04-May-21    Cash                 429780  Completed  \n",
       "3       $15.00  05-May-21    Cash                 960672    Pending  \n",
       "4          $22  08-May-21  Online  MasterCard     892412    Pending  "
      ],
      "text/html": [
       "<div>\n",
       "<style scoped>\n",
       "    .dataframe tbody tr th:only-of-type {\n",
       "        vertical-align: middle;\n",
       "    }\n",
       "\n",
       "    .dataframe tbody tr th {\n",
       "        vertical-align: top;\n",
       "    }\n",
       "\n",
       "    .dataframe thead th {\n",
       "        text-align: right;\n",
       "    }\n",
       "</style>\n",
       "<table border=\"1\" class=\"dataframe\">\n",
       "  <thead>\n",
       "    <tr style=\"text-align: right;\">\n",
       "      <th></th>\n",
       "      <th>Payment ID</th>\n",
       "      <th>Order ID</th>\n",
       "      <th>Loyalty Card</th>\n",
       "      <th>Loyalty Amount Applied</th>\n",
       "      <th>Customer</th>\n",
       "      <th>Amount Payed</th>\n",
       "      <th>Date</th>\n",
       "      <th>Type</th>\n",
       "      <th>Card</th>\n",
       "      <th>Invoice ID</th>\n",
       "      <th>Status</th>\n",
       "    </tr>\n",
       "  </thead>\n",
       "  <tbody>\n",
       "    <tr>\n",
       "      <th>0</th>\n",
       "      <td>209864</td>\n",
       "      <td>1</td>\n",
       "      <td>-</td>\n",
       "      <td></td>\n",
       "      <td>John Smith</td>\n",
       "      <td>$50.00</td>\n",
       "      <td>01-May-21</td>\n",
       "      <td>Cash</td>\n",
       "      <td></td>\n",
       "      <td>656625</td>\n",
       "      <td>Completed</td>\n",
       "    </tr>\n",
       "    <tr>\n",
       "      <th>1</th>\n",
       "      <td>615068</td>\n",
       "      <td>3</td>\n",
       "      <td>401364</td>\n",
       "      <td>5</td>\n",
       "      <td>Bob Johnson</td>\n",
       "      <td>$15</td>\n",
       "      <td>03-May-21</td>\n",
       "      <td>Online</td>\n",
       "      <td>Visa</td>\n",
       "      <td>129687</td>\n",
       "      <td>Failed</td>\n",
       "    </tr>\n",
       "    <tr>\n",
       "      <th>2</th>\n",
       "      <td>889065</td>\n",
       "      <td>4</td>\n",
       "      <td>-</td>\n",
       "      <td></td>\n",
       "      <td>Mary Brown</td>\n",
       "      <td>$30.00</td>\n",
       "      <td>04-May-21</td>\n",
       "      <td>Cash</td>\n",
       "      <td></td>\n",
       "      <td>429780</td>\n",
       "      <td>Completed</td>\n",
       "    </tr>\n",
       "    <tr>\n",
       "      <th>3</th>\n",
       "      <td>743665</td>\n",
       "      <td>5</td>\n",
       "      <td>245888</td>\n",
       "      <td></td>\n",
       "      <td>David Lee</td>\n",
       "      <td>$15.00</td>\n",
       "      <td>05-May-21</td>\n",
       "      <td>Cash</td>\n",
       "      <td></td>\n",
       "      <td>960672</td>\n",
       "      <td>Pending</td>\n",
       "    </tr>\n",
       "    <tr>\n",
       "      <th>4</th>\n",
       "      <td>541305</td>\n",
       "      <td>8</td>\n",
       "      <td>417384</td>\n",
       "      <td>3</td>\n",
       "      <td>Emily Davis</td>\n",
       "      <td>$22</td>\n",
       "      <td>08-May-21</td>\n",
       "      <td>Online</td>\n",
       "      <td>MasterCard</td>\n",
       "      <td>892412</td>\n",
       "      <td>Pending</td>\n",
       "    </tr>\n",
       "  </tbody>\n",
       "</table>\n",
       "</div>"
      ]
     },
     "execution_count": 119,
     "metadata": {},
     "output_type": "execute_result"
    }
   ],
   "execution_count": 119
  },
  {
   "metadata": {
    "ExecuteTime": {
     "end_time": "2024-10-20T21:07:04.379259Z",
     "start_time": "2024-10-20T21:07:04.370224Z"
    }
   },
   "cell_type": "code",
   "source": "res[1][0].head()",
   "id": "e1332fe269462664",
   "outputs": [
    {
     "data": {
      "text/plain": [
       "  Order ID       Status     Customer      Cashier Total       Date  \\\n",
       "0        1    Completed   John Smith    Sarah Lee   $50  01-May-21   \n",
       "1        2    Completed     Jane Doe  Tom Johnson   $75  02-May-21   \n",
       "2        3  In Progress  Bob Johnson    Sarah Lee   $20  03-May-21   \n",
       "3        4    Completed   Mary Brown  Tom Johnson   $30  04-May-21   \n",
       "4        5    Completed    David Lee    Sarah Lee   $15  05-May-21   \n",
       "\n",
       "                        Items Notes  \n",
       "0      Apples, Bananas, Bread        \n",
       "1  Milk, Eggs, Cheese, Yogurt        \n",
       "2                Chips, Salsa        \n",
       "3           Chicken, Broccoli        \n",
       "4                 Soda, Chips        "
      ],
      "text/html": [
       "<div>\n",
       "<style scoped>\n",
       "    .dataframe tbody tr th:only-of-type {\n",
       "        vertical-align: middle;\n",
       "    }\n",
       "\n",
       "    .dataframe tbody tr th {\n",
       "        vertical-align: top;\n",
       "    }\n",
       "\n",
       "    .dataframe thead th {\n",
       "        text-align: right;\n",
       "    }\n",
       "</style>\n",
       "<table border=\"1\" class=\"dataframe\">\n",
       "  <thead>\n",
       "    <tr style=\"text-align: right;\">\n",
       "      <th></th>\n",
       "      <th>Order ID</th>\n",
       "      <th>Status</th>\n",
       "      <th>Customer</th>\n",
       "      <th>Cashier</th>\n",
       "      <th>Total</th>\n",
       "      <th>Date</th>\n",
       "      <th>Items</th>\n",
       "      <th>Notes</th>\n",
       "    </tr>\n",
       "  </thead>\n",
       "  <tbody>\n",
       "    <tr>\n",
       "      <th>0</th>\n",
       "      <td>1</td>\n",
       "      <td>Completed</td>\n",
       "      <td>John Smith</td>\n",
       "      <td>Sarah Lee</td>\n",
       "      <td>$50</td>\n",
       "      <td>01-May-21</td>\n",
       "      <td>Apples, Bananas, Bread</td>\n",
       "      <td></td>\n",
       "    </tr>\n",
       "    <tr>\n",
       "      <th>1</th>\n",
       "      <td>2</td>\n",
       "      <td>Completed</td>\n",
       "      <td>Jane Doe</td>\n",
       "      <td>Tom Johnson</td>\n",
       "      <td>$75</td>\n",
       "      <td>02-May-21</td>\n",
       "      <td>Milk, Eggs, Cheese, Yogurt</td>\n",
       "      <td></td>\n",
       "    </tr>\n",
       "    <tr>\n",
       "      <th>2</th>\n",
       "      <td>3</td>\n",
       "      <td>In Progress</td>\n",
       "      <td>Bob Johnson</td>\n",
       "      <td>Sarah Lee</td>\n",
       "      <td>$20</td>\n",
       "      <td>03-May-21</td>\n",
       "      <td>Chips, Salsa</td>\n",
       "      <td></td>\n",
       "    </tr>\n",
       "    <tr>\n",
       "      <th>3</th>\n",
       "      <td>4</td>\n",
       "      <td>Completed</td>\n",
       "      <td>Mary Brown</td>\n",
       "      <td>Tom Johnson</td>\n",
       "      <td>$30</td>\n",
       "      <td>04-May-21</td>\n",
       "      <td>Chicken, Broccoli</td>\n",
       "      <td></td>\n",
       "    </tr>\n",
       "    <tr>\n",
       "      <th>4</th>\n",
       "      <td>5</td>\n",
       "      <td>Completed</td>\n",
       "      <td>David Lee</td>\n",
       "      <td>Sarah Lee</td>\n",
       "      <td>$15</td>\n",
       "      <td>05-May-21</td>\n",
       "      <td>Soda, Chips</td>\n",
       "      <td></td>\n",
       "    </tr>\n",
       "  </tbody>\n",
       "</table>\n",
       "</div>"
      ]
     },
     "execution_count": 121,
     "metadata": {},
     "output_type": "execute_result"
    }
   ],
   "execution_count": 121
  },
  {
   "metadata": {},
   "cell_type": "markdown",
   "source": "# Testing \"consum_combined.pdf\"",
   "id": "17f1042723301576"
  },
  {
   "metadata": {
    "ExecuteTime": {
     "end_time": "2024-10-20T21:08:46.763379Z",
     "start_time": "2024-10-20T21:08:31.434065Z"
    }
   },
   "cell_type": "code",
   "source": [
    "doc = LlamaParse(\n",
    "    result_type=\"markdown\",\n",
    "    use_vendor_multimodal_model=True,\n",
    "    # vendor_multimodal_model_name=\"openai-gpt-4o-mini\",\n",
    "    vendor_multimodal_model_name=\"openai-gpt4o\",\n",
    ").load_data(\"./_data_test_pdfs_custom/consum_combined.pdf\")\n",
    "print(f\"Result docs number: {len(doc)}\")"
   ],
   "id": "576e51a5babca68c",
   "outputs": [
    {
     "name": "stdout",
     "output_type": "stream",
     "text": [
      "Started parsing the file under job_id e9141a04-93da-4152-9d4e-ad0e43e256e8\n",
      "Result docs number: 3\n"
     ]
    }
   ],
   "execution_count": 122
  },
  {
   "metadata": {
    "ExecuteTime": {
     "end_time": "2024-10-20T22:06:37.565320Z",
     "start_time": "2024-10-20T22:06:37.542512Z"
    }
   },
   "cell_type": "code",
   "source": "print(doc[0].text)",
   "id": "bcc9319284f9fba8",
   "outputs": [
    {
     "name": "stdout",
     "output_type": "stream",
     "text": [
      "# Consum Worker Policy\n",
      "\n",
      "1. **Introduction**\n",
      "\n",
      "   Welcome to Consum! Our Worker Policy ensures a supportive, efficient, and safe work environment. We are committed to upholding professionalism, respect, and excellence in all aspects of our operations.\n",
      "\n",
      "2. **Equal Opportunity and Diversity**\n",
      "\n",
      "   Consum is an equal opportunity employer. We embrace diversity and strive to create an inclusive environment for all employees.\n",
      "\n",
      "3. **Health and Safety**\n",
      "\n",
      "   Employee health and safety are paramount. Adherence to safety protocols, including food handling and hygiene practices, is required.\n",
      "\n",
      "4. **Professional Conduct**\n",
      "\n",
      "   Employees are expected to maintain professionalism, respect, and a customer-first approach at all times.\n",
      "\n",
      "5. **Attendance and Punctuality**\n",
      "\n",
      "   Reliable attendance and punctuality are essential. Timely communication is required in case of delays or absences.\n",
      "\n",
      "6. **Confidentiality and Data Protection**\n",
      "\n",
      "   All employees must respect the confidentiality of company and customer information.\n",
      "\n",
      "7. **Dress Code and Personal Hygiene**\n",
      "\n",
      "   A strict dress code and personal hygiene standards are essential, especially in handling food products.\n",
      "\n",
      "8. **Conflict Resolution**\n",
      "\n",
      "   Conflicts should be resolved amicably, with management available for mediation if necessary.\n",
      "\n",
      "9. **Training and Development**\n",
      "\n",
      "   Consum is dedicated to the continuous professional development of our employees.\n",
      "\n",
      "10. **Compliance with Laws and Regulations**\n",
      "\n",
      "    All employees must adhere to food safety and handling laws and regulations.\n",
      "\n",
      "11. **Feedback and Suggestions**\n",
      "\n",
      "    We encourage employees to provide feedback and suggestions for improvement.\n",
      "\n",
      "12. **Disciplinary Action**\n",
      "\n",
      "    Non-compliance with these policies may result in disciplinary action.\n",
      "\n",
      "13. **Vacation Time and Days Off**\n"
     ]
    }
   ],
   "execution_count": 123
  },
  {
   "metadata": {
    "ExecuteTime": {
     "end_time": "2024-10-20T22:06:46.365028Z",
     "start_time": "2024-10-20T22:06:46.359721Z"
    }
   },
   "cell_type": "code",
   "source": "print(doc[1].text)",
   "id": "ce41b9d778e4ab9d",
   "outputs": [
    {
     "name": "stdout",
     "output_type": "stream",
     "text": [
      "Annual Leave: Employees are entitled to 24 days of paid vacation annually.\n",
      "\n",
      "Public Holidays: All national public holidays are observed with paid leave.\n",
      "\n",
      "Personal Days: 7 paid personal days per year for personal matters or emergencies.\n",
      "\n",
      "### 14. Special Benefits\n",
      "\n",
      "- **Health and Wellness Programs:** Access to gym memberships, yoga classes, and wellness workshops.\n",
      "- **Professional Growth Fund:** An annual allowance for courses or seminars related to personal and professional development.\n",
      "- **Family Support:** Enhanced maternity/paternity leave and flexible scheduling for parents.\n",
      "- **Employee Discount:** Generous discounts on all Consum products.\n",
      "- **Team Building Activities:** Regular company outings and team-building events to foster a sense of community.\n",
      "- **Sustainability Incentives:** Rewards for employees who contribute to our sustainability initiatives, like recycling and energy conservation.\n",
      "\n",
      "### 15. Retirement Plan\n",
      "\n",
      "- **Pension Scheme:** A competitive pension plan to support your future.\n",
      "- **Financial Planning Assistance:** Access to financial advisors for retirement planning.\n",
      "\n",
      "## Conclusion\n",
      "\n",
      "Our comprehensive policy is designed to ensure a fulfilling and supportive work environment. We value each employee’s contribution to Consum's success.\n",
      "\n",
      "### Table of Consum Employee Contacts\n",
      "\n",
      "| Employee        | Phone        | Email                     |\n",
      "|-----------------|--------------|---------------------------|\n",
      "| Sarah Lee       | (415) 555-2671 | sarahlee@email.com       |\n",
      "| Tom Johnson     | (212) 555-3456 | tomjohnson@email.com     |\n",
      "| Jane Smith      | (312) 555-7890 | janesmith@email.com      |\n",
      "| Mike Johnson    | (213) 555-4567 | mikejohnson@email.com    |\n",
      "| John Smith      | (305) 555-6789 | johnsmith@email.com      |\n",
      "| Sarah Johnson   | (123) 456-7890 | sarahjohnson@email.com   |\n",
      "| Michael Brown   | (234) 567-8901 | michaelbrown@email.com   |\n",
      "| Emily Davis     | (345) 678-9012 | emilydavis@email.com     |\n",
      "| David Miller    | (456) 789-0123 | davidmiller@email.com    |\n",
      "| Jessica Wilson  | (567) 890-1234 | jessicawilson@email.com  |\n",
      "| James Taylor    | (678) 901-2345 | jamestaylor@email.com    |\n",
      "| Amanda Moore    | (789) 012-3456 | amandamoore@email.com    |\n",
      "| William Harris  | (012) 345-6789 | williamharris@email.com  |\n",
      "| Richard Thompson| (222) 333-4444 | richardthompson@email.com|\n"
     ]
    }
   ],
   "execution_count": 124
  },
  {
   "metadata": {
    "ExecuteTime": {
     "end_time": "2024-10-20T22:07:22.201963Z",
     "start_time": "2024-10-20T22:07:22.197714Z"
    }
   },
   "cell_type": "code",
   "source": "print(doc[2].text)",
   "id": "aa50e1d345b66621",
   "outputs": [
    {
     "name": "stdout",
     "output_type": "stream",
     "text": [
      "| Patricia Garcia   | (333) 444-5555 | patriciagarcia@email.com     |\n",
      "|-------------------|----------------|-----------------------------|\n",
      "| Paul Lewis        | (888) 999-0000 | paullewis@email.com         |\n",
      "| Susan Walker      | (999) 000-1111 | susanwalker@email.com       |\n",
      "| Xander Blackwood  | (415) 555-2672 | xander.blackwood@email.com  |\n",
      "| Luna Nightingale  | (212) 555-3453 | luna.nightingale@email.com  |\n",
      "| Phoenix Blaze     | (312) 555-7891 | phoenix.blaze@email.com     |\n",
      "| Nova Starlight    | (213) 555-4563 | nova.starlight@email.com    |\n",
      "\n",
      "# Table of Consum Employee Salaries, Their Roles and Hire Date.\n",
      "\n",
      "| Employee          | Role                        | Hire Date   | Salary  |\n",
      "|-------------------|-----------------------------|-------------|---------|\n",
      "| Sarah Lee         | Cashier                     | 3-Jan-2018  | $2,000  |\n",
      "| Tom Johnson       | Cashier                     | 15-Feb-2019 | $2,000  |\n",
      "| Jane Smith        | Cashier                     | 10-Apr-2017 | $2,000  |\n",
      "| Mike Johnson      | Cashier                     | 22-May-2018 | $2,000  |\n",
      "| John Smith        | CEO                         | 30-Jun-2019 | $20,000 |\n",
      "| Sarah Johnson     | Chief Financial Officer     | 1-Jul-2017  | $15,000 |\n",
      "| Michael Brown     | Operations Manager          | 15-Aug-2018 | $10,000 |\n",
      "| Emily Davis       | Head of Marketing           | 20-Sep-2019 | $12,000 |\n",
      "| David Miller      | Head of Sales               | 5-Oct-2017  | $12,000 |\n",
      "| Jessica Wilson    | Customer Service Manager    | 11-Nov-2018 | $8,000  |\n",
      "| James Taylor      | IT Manager                  | 12-Dec-2019 | $10,000 |\n",
      "| Amanda Moore      | Human Resources Manager     | 15-Jan-2020 | $9,000  |\n",
      "| William Harris    | Inventory Manager           | 20-Apr-2019 | $8,500  |\n",
      "| Richard Thompson  | Legal Advisor               | 15-Jun-2017 | $10,500 |\n",
      "| Patricia Garcia   | Accounting Manager          | 25-Jul-2018 | $9,000  |\n",
      "| Paul Lewis        | Purchasing Manager          | 10-Dec-2019 | $9,000  |\n",
      "| Susan Walker      | Logistics Manager           | 20-Jan-2020 | $9,000  |\n",
      "| Xander Blackwood  | Loader                      | 3-Jan-2018  | $2,000  |\n",
      "| Luna Nightingale  | Loader                      | 15-Feb-2019 | $2,000  |\n",
      "| Phoenix Blaze     | Merchandiser                | 10-Apr-2017 | $2,000  |\n",
      "| Nova Starlight    | Merchandiser                | 22-May-2018 | $2,000  |\n"
     ]
    }
   ],
   "execution_count": 125
  },
  {
   "metadata": {
    "ExecuteTime": {
     "end_time": "2024-10-20T22:08:06.521473Z",
     "start_time": "2024-10-20T22:08:06.483545Z"
    }
   },
   "cell_type": "code",
   "source": "res = MDParser.parse_md_doc([doc[inx].text for inx in range(len(doc))])",
   "id": "72d186b052cd1e27",
   "outputs": [],
   "execution_count": 126
  },
  {
   "metadata": {
    "ExecuteTime": {
     "end_time": "2024-10-20T22:08:08.982302Z",
     "start_time": "2024-10-20T22:08:08.976989Z"
    }
   },
   "cell_type": "code",
   "source": [
    "for inx, res_single in enumerate(res):\n",
    "    if res_single[1] is PDFPartsTypes.TABLE:\n",
    "        print(f\"{inx}:\", res_single[1], res_single[0].shape)\n",
    "    else:\n",
    "        print(f\"{inx}:\", res_single[1], len(res_single[0]))"
   ],
   "id": "58864f84740898b1",
   "outputs": [
    {
     "name": "stdout",
     "output_type": "stream",
     "text": [
      "0: PDFPartsTypes.TEXT 3151\n",
      "1: PDFPartsTypes.TABLE (20, 3)\n",
      "2: PDFPartsTypes.TABLE (21, 4)\n"
     ]
    }
   ],
   "execution_count": 127
  },
  {
   "metadata": {
    "ExecuteTime": {
     "end_time": "2024-10-20T22:08:19.666757Z",
     "start_time": "2024-10-20T22:08:19.663260Z"
    }
   },
   "cell_type": "code",
   "source": "print(res[0][0])",
   "id": "452083df114d1c87",
   "outputs": [
    {
     "name": "stdout",
     "output_type": "stream",
     "text": [
      "# Consum Worker Policy\n",
      "\n",
      "1. **Introduction**\n",
      "\n",
      "   Welcome to Consum! Our Worker Policy ensures a supportive, efficient, and safe work environment. We are committed to upholding professionalism, respect, and excellence in all aspects of our operations.\n",
      "\n",
      "2. **Equal Opportunity and Diversity**\n",
      "\n",
      "   Consum is an equal opportunity employer. We embrace diversity and strive to create an inclusive environment for all employees.\n",
      "\n",
      "3. **Health and Safety**\n",
      "\n",
      "   Employee health and safety are paramount. Adherence to safety protocols, including food handling and hygiene practices, is required.\n",
      "\n",
      "4. **Professional Conduct**\n",
      "\n",
      "   Employees are expected to maintain professionalism, respect, and a customer-first approach at all times.\n",
      "\n",
      "5. **Attendance and Punctuality**\n",
      "\n",
      "   Reliable attendance and punctuality are essential. Timely communication is required in case of delays or absences.\n",
      "\n",
      "6. **Confidentiality and Data Protection**\n",
      "\n",
      "   All employees must respect the confidentiality of company and customer information.\n",
      "\n",
      "7. **Dress Code and Personal Hygiene**\n",
      "\n",
      "   A strict dress code and personal hygiene standards are essential, especially in handling food products.\n",
      "\n",
      "8. **Conflict Resolution**\n",
      "\n",
      "   Conflicts should be resolved amicably, with management available for mediation if necessary.\n",
      "\n",
      "9. **Training and Development**\n",
      "\n",
      "   Consum is dedicated to the continuous professional development of our employees.\n",
      "\n",
      "10. **Compliance with Laws and Regulations**\n",
      "\n",
      "    All employees must adhere to food safety and handling laws and regulations.\n",
      "\n",
      "11. **Feedback and Suggestions**\n",
      "\n",
      "    We encourage employees to provide feedback and suggestions for improvement.\n",
      "\n",
      "12. **Disciplinary Action**\n",
      "\n",
      "    Non-compliance with these policies may result in disciplinary action.\n",
      "\n",
      "13. **Vacation Time and Days Off**\n",
      "Annual Leave: Employees are entitled to 24 days of paid vacation annually.\n",
      "\n",
      "Public Holidays: All national public holidays are observed with paid leave.\n",
      "\n",
      "Personal Days: 7 paid personal days per year for personal matters or emergencies.\n",
      "\n",
      "### 14. Special Benefits\n",
      "\n",
      "- **Health and Wellness Programs:** Access to gym memberships, yoga classes, and wellness workshops.\n",
      "- **Professional Growth Fund:** An annual allowance for courses or seminars related to personal and professional development.\n",
      "- **Family Support:** Enhanced maternity/paternity leave and flexible scheduling for parents.\n",
      "- **Employee Discount:** Generous discounts on all Consum products.\n",
      "- **Team Building Activities:** Regular company outings and team-building events to foster a sense of community.\n",
      "- **Sustainability Incentives:** Rewards for employees who contribute to our sustainability initiatives, like recycling and energy conservation.\n",
      "\n",
      "### 15. Retirement Plan\n",
      "\n",
      "- **Pension Scheme:** A competitive pension plan to support your future.\n",
      "- **Financial Planning Assistance:** Access to financial advisors for retirement planning.\n",
      "\n",
      "## Conclusion\n",
      "\n",
      "Our comprehensive policy is designed to ensure a fulfilling and supportive work environment. We value each employee’s contribution to Consum's success.\n",
      "\n",
      "### Table of Consum Employee Contacts\n",
      "# Table of Consum Employee Salaries, Their Roles and Hire Date.\n",
      "\n"
     ]
    }
   ],
   "execution_count": 128
  },
  {
   "metadata": {
    "ExecuteTime": {
     "end_time": "2024-10-20T22:08:38.409122Z",
     "start_time": "2024-10-20T22:08:38.400068Z"
    }
   },
   "cell_type": "code",
   "source": "res[1][0].head()",
   "id": "2af2138024c77f9e",
   "outputs": [
    {
     "data": {
      "text/plain": [
       "       Employee           Phone                  Email\n",
       "0     Sarah Lee  (415) 555-2671     sarahlee@email.com\n",
       "1   Tom Johnson  (212) 555-3456   tomjohnson@email.com\n",
       "2    Jane Smith  (312) 555-7890    janesmith@email.com\n",
       "3  Mike Johnson  (213) 555-4567  mikejohnson@email.com\n",
       "4    John Smith  (305) 555-6789    johnsmith@email.com"
      ],
      "text/html": [
       "<div>\n",
       "<style scoped>\n",
       "    .dataframe tbody tr th:only-of-type {\n",
       "        vertical-align: middle;\n",
       "    }\n",
       "\n",
       "    .dataframe tbody tr th {\n",
       "        vertical-align: top;\n",
       "    }\n",
       "\n",
       "    .dataframe thead th {\n",
       "        text-align: right;\n",
       "    }\n",
       "</style>\n",
       "<table border=\"1\" class=\"dataframe\">\n",
       "  <thead>\n",
       "    <tr style=\"text-align: right;\">\n",
       "      <th></th>\n",
       "      <th>Employee</th>\n",
       "      <th>Phone</th>\n",
       "      <th>Email</th>\n",
       "    </tr>\n",
       "  </thead>\n",
       "  <tbody>\n",
       "    <tr>\n",
       "      <th>0</th>\n",
       "      <td>Sarah Lee</td>\n",
       "      <td>(415) 555-2671</td>\n",
       "      <td>sarahlee@email.com</td>\n",
       "    </tr>\n",
       "    <tr>\n",
       "      <th>1</th>\n",
       "      <td>Tom Johnson</td>\n",
       "      <td>(212) 555-3456</td>\n",
       "      <td>tomjohnson@email.com</td>\n",
       "    </tr>\n",
       "    <tr>\n",
       "      <th>2</th>\n",
       "      <td>Jane Smith</td>\n",
       "      <td>(312) 555-7890</td>\n",
       "      <td>janesmith@email.com</td>\n",
       "    </tr>\n",
       "    <tr>\n",
       "      <th>3</th>\n",
       "      <td>Mike Johnson</td>\n",
       "      <td>(213) 555-4567</td>\n",
       "      <td>mikejohnson@email.com</td>\n",
       "    </tr>\n",
       "    <tr>\n",
       "      <th>4</th>\n",
       "      <td>John Smith</td>\n",
       "      <td>(305) 555-6789</td>\n",
       "      <td>johnsmith@email.com</td>\n",
       "    </tr>\n",
       "  </tbody>\n",
       "</table>\n",
       "</div>"
      ]
     },
     "execution_count": 129,
     "metadata": {},
     "output_type": "execute_result"
    }
   ],
   "execution_count": 129
  },
  {
   "metadata": {
    "ExecuteTime": {
     "end_time": "2024-10-20T22:08:57.652243Z",
     "start_time": "2024-10-20T22:08:57.645544Z"
    }
   },
   "cell_type": "code",
   "source": "res[2][0].head()",
   "id": "bd1db9e72e901a0e",
   "outputs": [
    {
     "data": {
      "text/plain": [
       "       Employee     Role    Hire Date   Salary\n",
       "0     Sarah Lee  Cashier   3-Jan-2018   $2,000\n",
       "1   Tom Johnson  Cashier  15-Feb-2019   $2,000\n",
       "2    Jane Smith  Cashier  10-Apr-2017   $2,000\n",
       "3  Mike Johnson  Cashier  22-May-2018   $2,000\n",
       "4    John Smith      CEO  30-Jun-2019  $20,000"
      ],
      "text/html": [
       "<div>\n",
       "<style scoped>\n",
       "    .dataframe tbody tr th:only-of-type {\n",
       "        vertical-align: middle;\n",
       "    }\n",
       "\n",
       "    .dataframe tbody tr th {\n",
       "        vertical-align: top;\n",
       "    }\n",
       "\n",
       "    .dataframe thead th {\n",
       "        text-align: right;\n",
       "    }\n",
       "</style>\n",
       "<table border=\"1\" class=\"dataframe\">\n",
       "  <thead>\n",
       "    <tr style=\"text-align: right;\">\n",
       "      <th></th>\n",
       "      <th>Employee</th>\n",
       "      <th>Role</th>\n",
       "      <th>Hire Date</th>\n",
       "      <th>Salary</th>\n",
       "    </tr>\n",
       "  </thead>\n",
       "  <tbody>\n",
       "    <tr>\n",
       "      <th>0</th>\n",
       "      <td>Sarah Lee</td>\n",
       "      <td>Cashier</td>\n",
       "      <td>3-Jan-2018</td>\n",
       "      <td>$2,000</td>\n",
       "    </tr>\n",
       "    <tr>\n",
       "      <th>1</th>\n",
       "      <td>Tom Johnson</td>\n",
       "      <td>Cashier</td>\n",
       "      <td>15-Feb-2019</td>\n",
       "      <td>$2,000</td>\n",
       "    </tr>\n",
       "    <tr>\n",
       "      <th>2</th>\n",
       "      <td>Jane Smith</td>\n",
       "      <td>Cashier</td>\n",
       "      <td>10-Apr-2017</td>\n",
       "      <td>$2,000</td>\n",
       "    </tr>\n",
       "    <tr>\n",
       "      <th>3</th>\n",
       "      <td>Mike Johnson</td>\n",
       "      <td>Cashier</td>\n",
       "      <td>22-May-2018</td>\n",
       "      <td>$2,000</td>\n",
       "    </tr>\n",
       "    <tr>\n",
       "      <th>4</th>\n",
       "      <td>John Smith</td>\n",
       "      <td>CEO</td>\n",
       "      <td>30-Jun-2019</td>\n",
       "      <td>$20,000</td>\n",
       "    </tr>\n",
       "  </tbody>\n",
       "</table>\n",
       "</div>"
      ]
     },
     "execution_count": 131,
     "metadata": {},
     "output_type": "execute_result"
    }
   ],
   "execution_count": 131
  },
  {
   "metadata": {},
   "cell_type": "markdown",
   "source": "# Test \"autozaz_details_orders - orders_real.pdf\"",
   "id": "9a7e9c3816e01560"
  },
  {
   "metadata": {
    "ExecuteTime": {
     "end_time": "2024-10-20T22:11:21.907533Z",
     "start_time": "2024-10-20T22:11:04.065452Z"
    }
   },
   "cell_type": "code",
   "source": [
    "doc = LlamaParse(\n",
    "    result_type=\"markdown\",\n",
    "    use_vendor_multimodal_model=True,\n",
    "    # vendor_multimodal_model_name=\"openai-gpt-4o-mini\",\n",
    "    vendor_multimodal_model_name=\"openai-gpt4o\",\n",
    ").load_data(\"./_data_test_pdfs_custom/autozaz_details_orders - orders_real.pdf\")\n",
    "print(f\"Result docs number: {len(doc)}\")"
   ],
   "id": "93c1ef7a69bc4278",
   "outputs": [
    {
     "name": "stdout",
     "output_type": "stream",
     "text": [
      "Started parsing the file under job_id d4b22a85-4b7d-4743-ab72-df8e50fc7f72\n",
      "Result docs number: 3\n"
     ]
    }
   ],
   "execution_count": 132
  },
  {
   "metadata": {
    "ExecuteTime": {
     "end_time": "2024-10-20T22:14:09.917923Z",
     "start_time": "2024-10-20T22:14:09.914536Z"
    }
   },
   "cell_type": "code",
   "source": "print(doc[0].text)",
   "id": "96eeaef4b08235ea",
   "outputs": [
    {
     "name": "stdout",
     "output_type": "stream",
     "text": [
      "\n",
      "| order_id | product_name       | price_per_unit | units_sold | amount_of_discount_total | deal_date   | customer_name  |\n",
      "|----------|--------------------|----------------|------------|--------------------------|-------------|----------------|\n",
      "| 1        | Alternator         | 350            | 5          | 157.5                    | 01/01/2024  | Emily Johnson  |\n",
      "| 2        | Engine Block       | 500            | 5          | 100                      | 01/02/2024  | Emily Johnson  |\n",
      "| 3        | Engine Block       | 500            | 4          | 120                      | 01/03/2024  | Scott Nilson   |\n",
      "| 4        | Clutch Plate       | 180            | 1          | 7.2                      | 01/04/2024  | Scott Nilson   |\n",
      "| 5        | Transmission Gear  | 300            | 9          | 189                      | 01/05/2024  | Scott Nilson   |\n",
      "| 6        | Steering Wheel     | 100            | 3          | 27                       | 01/06/2024  | Scott Nilson   |\n",
      "| 7        | Exhaust Manifold   | 220            | 2          | 30.8                     | 01/07/2024  | Scott Nilson   |\n",
      "| 8        | Clutch Plate       | 180            | 2          | 10.8                     | 01/08/2024  | Scott Nilson   |\n",
      "| 9        | Steering Wheel     | 100            | 1          | 9                        | 01/09/2024  | Scott Nilson   |\n",
      "| 10       | Engine Block       | 500            | 9          | 315                      | 01/10/2024  | Scott Nilson   |\n",
      "| 11       | Clutch Plate       | 180            | 7          | 50.4                     | 01/11/2024  | Scott Nilson   |\n",
      "| 12       | Transmission Gear  | 300            | 9          | 243                      | 01/12/2024  | Scott Nilson   |\n",
      "| 13       | Steering Wheel     | 100            | 7          | 70                       | 01/13/2024  | Scott Nilson   |\n",
      "| 14       | Brake Pad          | 75             | 4          | 6                        | 01/14/2024  | Scott Nilson   |\n",
      "| 15       | Exhaust Manifold   | 220            | 3          | 52.8                     | 01/15/2024  | Scott Nilson   |\n",
      "| 16       | Transmission Gear  | 300            | 2          | 48                       | 01/16/2024  | Scott Nilson   |\n",
      "| 17       | Radiator           | 200            | 3          | 60                       | 01/17/2024  | Scott Nilson   |\n",
      "| 18       | Steering Wheel     | 100            | 6          | 42                       | 01/18/2024  | Scott Nilson   |\n",
      "| 19       | Engine Block       | 500            | 4          | 140                      | 01/19/2024  | Emily Johnson  |\n",
      "| 20       | Radiator           | 200            | 5          | 20                       | 01/20/2024  | Emily Johnson  |\n",
      "| 21       | Exhaust Manifold   | 220            | 5          | 66                       | 01/21/2024  | Emily Johnson  |\n",
      "| 22       | Clutch Plate       | 180            | 4          | 50.4                     | 01/22/2024  | Emily Johnson  |\n",
      "| 23       | Brake Pad          | 75             | 3          | 18                       | 01/23/2024  | Emily Johnson  |\n",
      "| 24       | Exhaust Manifold   | 220            | 4          | 26.4                     | 02/02/2023  | Emily Johnson  |\n",
      "| 25       | Steering Wheel     | 100            | 3          | 6                        | 02/03/2023  | Emily Johnson  |\n",
      "| 26       | Exhaust Manifold   | 220            | 3          | 52.8                     | 02/04/2023  | Emily Johnson  |\n",
      "| 27       | Steering Wheel     | 100            | 5          | 30                       | 02/05/2023  | Emily Johnson  |\n",
      "| 28       | Clutch Plate       | 180            | 9          | 97.2                     | 02/06/2023  | Emily Johnson  |\n",
      "| 29       | Engine Block       | 500            | 1          | 15                       | 02/07/2023  | Emily Johnson  |\n",
      "| 30       | Radiator           | 200            | 9          | 162                      | 02/08/2023  | Emily Johnson  |\n",
      "| 31       | Fuel Injector      | 250            | 1          | 20                       | 02/09/2023  | Emily Johnson  |\n",
      "| 32       | Fuel Injector      | 250            | 6          | 120                      | 02/10/2023  | Emily Johnson  |\n",
      "| 33       | Suspension Spring  | 150            | 3          | 27                       | 02/11/2023  | Emily Johnson  |\n",
      "| 34       | Radiator           | 200            | 9          | 108                      | 02/12/2023  | Emily Johnson  |\n",
      "| 35       | Engine Block       | 500            | 4          | 120                      | 02/13/2023  | Emily Johnson  |\n",
      "| 36       | Steering Wheel     | 100            | 5          | 40                       | 02/14/2023  | Emily Johnson  |\n",
      "| 37       | Brake Pad          | 75             | 1          | 4.5                      | 02/15/2023  | Emily Johnson  |\n",
      "\n"
     ]
    }
   ],
   "execution_count": 133
  },
  {
   "metadata": {
    "ExecuteTime": {
     "end_time": "2024-10-20T22:14:15.548754Z",
     "start_time": "2024-10-20T22:14:15.545029Z"
    }
   },
   "cell_type": "code",
   "source": "print(doc[1].text)",
   "id": "c7a2fe546715cf4f",
   "outputs": [
    {
     "name": "stdout",
     "output_type": "stream",
     "text": [
      "|    | Item               | Price | Quantity | Total | Date       | Employee      |\n",
      "|----|--------------------|-------|----------|-------|------------|---------------|\n",
      "| 38 | Clutch Plate       | 180   | 6        | 64.8  | 02/16/2023 | Emily Johnson |\n",
      "| 39 | Brake Pad          | 75    | 2        | 7.5   | 02/17/2023 | Emily Johnson |\n",
      "| 40 | Steering Wheel     | 100   | 3        | 6     | 02/18/2023 | Emily Johnson |\n",
      "| 41 | Exhaust Manifold   | 220   | 5        | 55    | 02/19/2023 | Emily Johnson |\n",
      "| 42 | Exhaust Manifold   | 220   | 7        | 46.2  | 02/20/2023 | Emily Johnson |\n",
      "| 43 | Engine Block       | 500   | 4        | 180   | 02/21/2023 | Emily Johnson |\n",
      "| 44 | Transmission Gear  | 300   | 3        | 18    | 02/22/2023 | Emily Johnson |\n",
      "| 45 | Engine Block       | 500   | 3        | 90    | 02/23/2023 | Emily Johnson |\n",
      "| 46 | Suspension Spring  | 150   | 1        | 3     | 02/24/2023 | Emily Johnson |\n",
      "| 47 | Exhaust Manifold   | 220   | 2        | 17.6  | 05/06/2023 | Emily Johnson |\n",
      "| 48 | Transmission Gear  | 300   | 3        | 72    | 05/06/2023 | Emily Johnson |\n",
      "| 49 | Engine Block       | 500   | 8        | 120   | 05/07/2023 | Emily Johnson |\n",
      "| 50 | Suspension Spring  | 150   | 9        | 108   | 05/08/2023 | Emily Johnson |\n",
      "| 51 | Brake Pad          | 75    | 5        | 11.25 | 05/09/2023 | Emily Johnson |\n",
      "| 52 | Exhaust Manifold   | 220   | 4        | 88    | 05/10/2023 | Emily Johnson |\n",
      "| 53 | Fuel Injector      | 250   | 9        | 112.5 | 05/11/2023 | Emily Johnson |\n",
      "| 54 | Steering Wheel     | 100   | 5        | 50    | 05/12/2023 | Tom Yam       |\n",
      "| 55 | Exhaust Manifold   | 220   | 3        | 13.2  | 05/13/2023 | Tom Yam       |\n",
      "| 56 | Suspension Spring  | 150   | 4        | 18    | 05/14/2023 | Tom Yam       |\n",
      "| 57 | Engine Block       | 500   | 7        | 315   | 05/16/2023 | Tom Yam       |\n",
      "| 58 | Clutch Plate       | 180   | 5        | 18    | 05/16/2023 | Tom Yam       |\n",
      "| 59 | Clutch Plate       | 180   | 7        | 126   | 05/17/2023 | Tom Yam       |\n",
      "| 60 | Suspension Spring  | 150   | 9        | 27    | 05/18/2023 | Tom Yam       |\n",
      "| 61 | Engine Block       | 500   | 4        | 200   | 05/19/2023 | Tom Yam       |\n",
      "| 62 | Radiator           | 200   | 3        | 12    | 05/20/2023 | Tom Yam       |\n",
      "| 63 | Brake Pad          | 75    | 9        | 27    | 05/21/2023 | Tom Yam       |\n",
      "| 64 | Alternator         | 350   | 7        | 122.5 | 05/22/2023 | Tom Yam       |\n",
      "| 65 | Suspension Spring  | 150   | 5        | 45    | 05/23/2023 | Tom Yam       |\n",
      "| 66 | Suspension Spring  | 150   | 9        | 67.5  | 05/24/2023 | Tom Yam       |\n",
      "| 67 | Fuel Injector      | 250   | 4        | 60    | 05/26/2023 | Tom Yam       |\n",
      "| 68 | Clutch Plate       | 180   | 9        | 129.6 | 05/26/2023 | Tom Yam       |\n",
      "| 69 | Fuel Injector      | 250   | 7        | 105   | 05/27/2023 | Tom Yam       |\n",
      "| 70 | Suspension Spring  | 150   | 7        | 31.5  | 05/28/2023 | Tom Yam       |\n",
      "| 71 | Alternator         | 350   | 1        | 24.5  | 05/29/2023 | Tom Yam       |\n",
      "| 72 | Clutch Plate       | 180   | 8        | 144   | 05/30/2023 | Tom Yam       |\n",
      "| 73 | Transmission Gear  | 300   | 2        | 36    | 05/31/2023 | Tom Yam       |\n",
      "| 74 | Fuel Injector      | 250   | 6        | 60    | 06/01/2023 | Tom Yam       |\n",
      "| 75 | Exhaust Manifold   | 220   | 1        | 15.4  | 06/02/2023 | Tom Yam       |\n"
     ]
    }
   ],
   "execution_count": 134
  },
  {
   "metadata": {
    "ExecuteTime": {
     "end_time": "2024-10-20T22:14:26.667134Z",
     "start_time": "2024-10-20T22:14:26.663440Z"
    }
   },
   "cell_type": "code",
   "source": "print(doc[2].text)",
   "id": "51fc23e0936500e6",
   "outputs": [
    {
     "name": "stdout",
     "output_type": "stream",
     "text": [
      "|    | Item               | Price | Quantity | Total  | Date       | Salesperson    |\n",
      "|----|--------------------|-------|----------|--------|------------|----------------|\n",
      "| 76 | Brake Pad          | 75    | 1        | 6      | 06/03/2023 | Tom Yam        |\n",
      "| 77 | Alternator         | 350   | 4        | 70     | 06/04/2023 | Tom Yam        |\n",
      "| 78 | Radiator           | 200   | 3        | 42     | 06/05/2023 | Tom Yam        |\n",
      "| 79 | Clutch Plate       | 180   | 3        | 43.2   | 06/06/2023 | Tom Yam        |\n",
      "| 80 | Suspension Spring  | 150   | 2        | 15     | 06/07/2023 | Tom Yam        |\n",
      "| 81 | Exhaust Manifold   | 220   | 9        | 158.4  | 06/08/2023 | Tom Yam        |\n",
      "| 82 | Engine Block       | 500   | 3        | 150    | 06/09/2023 | Tom Yam        |\n",
      "| 83 | Engine Block       | 500   | 9        | 405    | 06/10/2023 | Emily Johnson  |\n",
      "| 84 | Engine Block       | 500   | 6        | 180    | 06/11/2023 | Emily Johnson  |\n",
      "| 85 | Radiator           | 200   | 5        | 70     | 06/12/2023 | Emily Johnson  |\n",
      "| 86 | Fuel Injector      | 250   | 5        | 62.5   | 06/13/2023 | Emily Johnson  |\n",
      "| 87 | Suspension Spring  | 150   | 3        | 22.5   | 06/14/2023 | Emily Johnson  |\n",
      "| 88 | Alternator         | 350   | 2        | 70     | 06/15/2023 | Emily Johnson  |\n",
      "| 89 | Engine Block       | 500   | 1        | 30     | 06/16/2023 | Emily Johnson  |\n",
      "| 90 | Radiator           | 200   | 6        | 48     | 06/17/2023 | Emily Johnson  |\n",
      "| 91 | Clutch Plate       | 180   | 9        | 145.8  | 06/18/2023 | Emily Johnson  |\n",
      "| 92 | Radiator           | 200   | 8        | 96     | 06/19/2023 | Emily Johnson  |\n",
      "| 93 | Exhaust Manifold   | 220   | 4        | 79.2   | 06/20/2023 | Emily Johnson  |\n",
      "| 94 | Steering Wheel     | 100   | 2        | 12     | 06/21/2023 | Emily Johnson  |\n",
      "| 95 | Alternator         | 350   | 4        | 98     | 06/22/2023 | Emily Johnson  |\n",
      "| 96 | Engine Block       | 500   | 9        | 90     | 06/23/2023 | Emily Johnson  |\n",
      "| 97 | Fuel Injector      | 250   | 4        | 40     | 06/24/2023 | Emily Johnson  |\n",
      "| 98 | Radiator           | 200   | 2        | 16     | 06/25/2023 | Emily Johnson  |\n",
      "| 99 | Fuel Injector      | 250   | 9        | 67.5   | 06/26/2023 | Emily Johnson  |\n",
      "| 100| Steering Wheel     | 100   | 8        | 24     | 06/27/2023 | Emily Johnson  |\n"
     ]
    }
   ],
   "execution_count": 135
  },
  {
   "metadata": {
    "ExecuteTime": {
     "end_time": "2024-10-20T22:15:08.919666Z",
     "start_time": "2024-10-20T22:15:08.903848Z"
    }
   },
   "cell_type": "code",
   "source": "res = MDParser.parse_md_doc([doc[inx].text for inx in range(len(doc))])",
   "id": "4b80d33df0907d2f",
   "outputs": [],
   "execution_count": 136
  },
  {
   "metadata": {
    "ExecuteTime": {
     "end_time": "2024-10-20T22:15:27.975802Z",
     "start_time": "2024-10-20T22:15:27.971932Z"
    }
   },
   "cell_type": "code",
   "source": [
    "for inx, res_single in enumerate(res):\n",
    "    if res_single[1] is PDFPartsTypes.TABLE:\n",
    "        print(f\"{inx}:\", res_single[1], res_single[0].shape)\n",
    "    else:\n",
    "        print(f\"{inx}:\", res_single[1], len(res_single[0]))"
   ],
   "id": "1bebe797191c8d79",
   "outputs": [
    {
     "name": "stdout",
     "output_type": "stream",
     "text": [
      "0: PDFPartsTypes.TABLE (100, 7)\n"
     ]
    }
   ],
   "execution_count": 137
  },
  {
   "metadata": {
    "ExecuteTime": {
     "end_time": "2024-10-20T22:15:38.312971Z",
     "start_time": "2024-10-20T22:15:38.304882Z"
    }
   },
   "cell_type": "code",
   "source": "res[0][0].head()",
   "id": "c3696acfb752d31d",
   "outputs": [
    {
     "data": {
      "text/plain": [
       "  order_id       product_name price_per_unit units_sold  \\\n",
       "0        1         Alternator            350          5   \n",
       "1        2       Engine Block            500          5   \n",
       "2        3       Engine Block            500          4   \n",
       "3        4       Clutch Plate            180          1   \n",
       "4        5  Transmission Gear            300          9   \n",
       "\n",
       "  amount_of_discount_total   deal_date  customer_name  \n",
       "0                    157.5  01/01/2024  Emily Johnson  \n",
       "1                      100  01/02/2024  Emily Johnson  \n",
       "2                      120  01/03/2024   Scott Nilson  \n",
       "3                      7.2  01/04/2024   Scott Nilson  \n",
       "4                      189  01/05/2024   Scott Nilson  "
      ],
      "text/html": [
       "<div>\n",
       "<style scoped>\n",
       "    .dataframe tbody tr th:only-of-type {\n",
       "        vertical-align: middle;\n",
       "    }\n",
       "\n",
       "    .dataframe tbody tr th {\n",
       "        vertical-align: top;\n",
       "    }\n",
       "\n",
       "    .dataframe thead th {\n",
       "        text-align: right;\n",
       "    }\n",
       "</style>\n",
       "<table border=\"1\" class=\"dataframe\">\n",
       "  <thead>\n",
       "    <tr style=\"text-align: right;\">\n",
       "      <th></th>\n",
       "      <th>order_id</th>\n",
       "      <th>product_name</th>\n",
       "      <th>price_per_unit</th>\n",
       "      <th>units_sold</th>\n",
       "      <th>amount_of_discount_total</th>\n",
       "      <th>deal_date</th>\n",
       "      <th>customer_name</th>\n",
       "    </tr>\n",
       "  </thead>\n",
       "  <tbody>\n",
       "    <tr>\n",
       "      <th>0</th>\n",
       "      <td>1</td>\n",
       "      <td>Alternator</td>\n",
       "      <td>350</td>\n",
       "      <td>5</td>\n",
       "      <td>157.5</td>\n",
       "      <td>01/01/2024</td>\n",
       "      <td>Emily Johnson</td>\n",
       "    </tr>\n",
       "    <tr>\n",
       "      <th>1</th>\n",
       "      <td>2</td>\n",
       "      <td>Engine Block</td>\n",
       "      <td>500</td>\n",
       "      <td>5</td>\n",
       "      <td>100</td>\n",
       "      <td>01/02/2024</td>\n",
       "      <td>Emily Johnson</td>\n",
       "    </tr>\n",
       "    <tr>\n",
       "      <th>2</th>\n",
       "      <td>3</td>\n",
       "      <td>Engine Block</td>\n",
       "      <td>500</td>\n",
       "      <td>4</td>\n",
       "      <td>120</td>\n",
       "      <td>01/03/2024</td>\n",
       "      <td>Scott Nilson</td>\n",
       "    </tr>\n",
       "    <tr>\n",
       "      <th>3</th>\n",
       "      <td>4</td>\n",
       "      <td>Clutch Plate</td>\n",
       "      <td>180</td>\n",
       "      <td>1</td>\n",
       "      <td>7.2</td>\n",
       "      <td>01/04/2024</td>\n",
       "      <td>Scott Nilson</td>\n",
       "    </tr>\n",
       "    <tr>\n",
       "      <th>4</th>\n",
       "      <td>5</td>\n",
       "      <td>Transmission Gear</td>\n",
       "      <td>300</td>\n",
       "      <td>9</td>\n",
       "      <td>189</td>\n",
       "      <td>01/05/2024</td>\n",
       "      <td>Scott Nilson</td>\n",
       "    </tr>\n",
       "  </tbody>\n",
       "</table>\n",
       "</div>"
      ]
     },
     "execution_count": 138,
     "metadata": {},
     "output_type": "execute_result"
    }
   ],
   "execution_count": 138
  },
  {
   "metadata": {},
   "cell_type": "code",
   "outputs": [],
   "execution_count": null,
   "source": "",
   "id": "46e055cbf90a70ef"
  },
  {
   "metadata": {},
   "cell_type": "code",
   "outputs": [],
   "execution_count": null,
   "source": "",
   "id": "a4589ce8a2aa1777"
  },
  {
   "metadata": {},
   "cell_type": "code",
   "outputs": [],
   "execution_count": null,
   "source": "",
   "id": "f30c6244c0870e8f"
  }
 ],
 "metadata": {
  "kernelspec": {
   "display_name": "Python 3",
   "language": "python",
   "name": "python3"
  },
  "language_info": {
   "codemirror_mode": {
    "name": "ipython",
    "version": 2
   },
   "file_extension": ".py",
   "mimetype": "text/x-python",
   "name": "python",
   "nbconvert_exporter": "python",
   "pygments_lexer": "ipython2",
   "version": "2.7.6"
  }
 },
 "nbformat": 4,
 "nbformat_minor": 5
}
