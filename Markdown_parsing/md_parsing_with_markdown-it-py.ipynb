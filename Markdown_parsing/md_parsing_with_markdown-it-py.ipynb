{
 "cells": [
  {
   "cell_type": "code",
   "id": "initial_id",
   "metadata": {
    "collapsed": true,
    "ExecuteTime": {
     "end_time": "2024-10-17T17:01:35.181046Z",
     "start_time": "2024-10-17T17:01:35.174649Z"
    }
   },
   "source": [
    "from markdown_it import MarkdownIt\n",
    "\n",
    "# Initialize the Markdown parser\n",
    "md = MarkdownIt()\n",
    "\n",
    "# Example markdown content with text and a table\n",
    "markdown_content = \"\"\"\n",
    "# Heading\n",
    "\n",
    "This is some text.\n",
    "broken markdown\n",
    "| Header 1 | Header 2 |\n",
    "|----------|----------|\n",
    "| Row 1       | Row 2   |\n",
    "| Row 1      fsadf | Row 2   |\n",
    "\n",
    "| Row 1       | Row 2   |\n",
    "| Row 1       | Row 2   |\n",
    "fdf\n",
    "\n",
    "More text after the table.\n",
    "\"\"\"\n",
    "\n",
    "\n",
    "tokens = md.parse(markdown_content)\n",
    "for inx, token in enumerate(tokens):\n",
    "    print(f\"> {inx}: {token.type} >>>>>>>>>>>>>>>>>>>>>>>>>>>>>>>>>>>>>>>>>>>>>>>>>>>>>>>>>>>>\")\n",
    "    print(token.content)"
   ],
   "outputs": [
    {
     "name": "stdout",
     "output_type": "stream",
     "text": [
      "> 0: heading_open >>>>>>>>>>>>>>>>>>>>>>>>>>>>>>>>>>>>>>>>>>>>>>>>>>>>>>>>>>>>\n",
      "\n",
      "> 1: inline >>>>>>>>>>>>>>>>>>>>>>>>>>>>>>>>>>>>>>>>>>>>>>>>>>>>>>>>>>>>\n",
      "Heading\n",
      "> 2: heading_close >>>>>>>>>>>>>>>>>>>>>>>>>>>>>>>>>>>>>>>>>>>>>>>>>>>>>>>>>>>>\n",
      "\n",
      "> 3: paragraph_open >>>>>>>>>>>>>>>>>>>>>>>>>>>>>>>>>>>>>>>>>>>>>>>>>>>>>>>>>>>>\n",
      "\n",
      "> 4: inline >>>>>>>>>>>>>>>>>>>>>>>>>>>>>>>>>>>>>>>>>>>>>>>>>>>>>>>>>>>>\n",
      "This is some text.\n",
      "broken markdown\n",
      "| Header 1 | Header 2 |\n",
      "|----------|----------|\n",
      "| Row 1       | Row 2   |\n",
      "| Row 1      fsadf | Row 2   |\n",
      "> 5: paragraph_close >>>>>>>>>>>>>>>>>>>>>>>>>>>>>>>>>>>>>>>>>>>>>>>>>>>>>>>>>>>>\n",
      "\n",
      "> 6: paragraph_open >>>>>>>>>>>>>>>>>>>>>>>>>>>>>>>>>>>>>>>>>>>>>>>>>>>>>>>>>>>>\n",
      "\n",
      "> 7: inline >>>>>>>>>>>>>>>>>>>>>>>>>>>>>>>>>>>>>>>>>>>>>>>>>>>>>>>>>>>>\n",
      "| Row 1       | Row 2   |\n",
      "| Row 1       | Row 2   |\n",
      "fdf\n",
      "> 8: paragraph_close >>>>>>>>>>>>>>>>>>>>>>>>>>>>>>>>>>>>>>>>>>>>>>>>>>>>>>>>>>>>\n",
      "\n",
      "> 9: paragraph_open >>>>>>>>>>>>>>>>>>>>>>>>>>>>>>>>>>>>>>>>>>>>>>>>>>>>>>>>>>>>\n",
      "\n",
      "> 10: inline >>>>>>>>>>>>>>>>>>>>>>>>>>>>>>>>>>>>>>>>>>>>>>>>>>>>>>>>>>>>\n",
      "More text after the table.\n",
      "> 11: paragraph_close >>>>>>>>>>>>>>>>>>>>>>>>>>>>>>>>>>>>>>>>>>>>>>>>>>>>>>>>>>>>\n",
      "\n"
     ]
    }
   ],
   "execution_count": 15
  },
  {
   "metadata": {},
   "cell_type": "code",
   "outputs": [],
   "execution_count": null,
   "source": "",
   "id": "55df291dd52d1313"
  },
  {
   "metadata": {
    "ExecuteTime": {
     "end_time": "2024-10-17T17:05:22.123507Z",
     "start_time": "2024-10-17T17:05:22.118750Z"
    }
   },
   "cell_type": "code",
   "source": "\"| Row 1       | Row 2   |f|\".split(\"|\")[1:-1]",
   "id": "a106b3965a98652f",
   "outputs": [
    {
     "data": {
      "text/plain": [
       "[' Row 1       ', ' Row 2   ', 'f']"
      ]
     },
     "execution_count": 21,
     "metadata": {},
     "output_type": "execute_result"
    }
   ],
   "execution_count": 21
  },
  {
   "metadata": {},
   "cell_type": "code",
   "outputs": [],
   "execution_count": null,
   "source": "",
   "id": "d2c21b5e5cdaf88c"
  }
 ],
 "metadata": {
  "kernelspec": {
   "display_name": "Python 3",
   "language": "python",
   "name": "python3"
  },
  "language_info": {
   "codemirror_mode": {
    "name": "ipython",
    "version": 2
   },
   "file_extension": ".py",
   "mimetype": "text/x-python",
   "name": "python",
   "nbconvert_exporter": "python",
   "pygments_lexer": "ipython2",
   "version": "2.7.6"
  }
 },
 "nbformat": 4,
 "nbformat_minor": 5
}
