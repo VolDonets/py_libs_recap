{
 "cells": [
  {
   "metadata": {},
   "cell_type": "code",
   "outputs": [],
   "execution_count": 3,
   "source": [
    "from enum import Enum\n",
    "\n",
    "\n",
    "class PDFPartsTypes(Enum):\n",
    "    \"\"\"\n",
    "    Represents the types of PDF parts.\n",
    "    \"\"\"\n",
    "\n",
    "    TEXT = 0\n",
    "    TABLE = 1"
   ],
   "id": "d2123023b890028e"
  },
  {
   "metadata": {
    "ExecuteTime": {
     "end_time": "2024-10-14T11:28:22.188468Z",
     "start_time": "2024-10-14T11:28:22.168329Z"
    }
   },
   "cell_type": "code",
   "source": "test_list = [(0, PDFPartsTypes.TEXT), (1, PDFPartsTypes.TABLE), (2, PDFPartsTypes.TABLE), (3, PDFPartsTypes.TABLE), (4, PDFPartsTypes.TEXT)]",
   "id": "29624e9988a55b99",
   "outputs": [],
   "execution_count": 4
  },
  {
   "metadata": {
    "ExecuteTime": {
     "end_time": "2024-10-14T11:28:36.715498Z",
     "start_time": "2024-10-14T11:28:36.701884Z"
    }
   },
   "cell_type": "code",
   "source": "[pdf_part for pdf_part, part_type in test_list if part_type is PDFPartsTypes.TABLE]",
   "id": "ccd714a0cb5221b0",
   "outputs": [
    {
     "data": {
      "text/plain": [
       "[1, 2, 3]"
      ]
     },
     "execution_count": 5,
     "metadata": {},
     "output_type": "execute_result"
    }
   ],
   "execution_count": 5
  },
  {
   "metadata": {
    "ExecuteTime": {
     "end_time": "2024-10-14T11:29:09.397179Z",
     "start_time": "2024-10-14T11:29:09.383460Z"
    }
   },
   "cell_type": "code",
   "source": "[pdf_part for pdf_part, part_type in test_list if part_type is PDFPartsTypes.TEXT]",
   "id": "a997ab44dc96f8b2",
   "outputs": [
    {
     "data": {
      "text/plain": [
       "[0, 4]"
      ]
     },
     "execution_count": 6,
     "metadata": {},
     "output_type": "execute_result"
    }
   ],
   "execution_count": 6
  },
  {
   "metadata": {
    "ExecuteTime": {
     "end_time": "2024-10-14T11:29:19.889028Z",
     "start_time": "2024-10-14T11:29:19.880411Z"
    }
   },
   "cell_type": "code",
   "source": "type(PDFPartsTypes.TEXT)",
   "id": "13b48e70ce800260",
   "outputs": [
    {
     "data": {
      "text/plain": [
       "<enum 'PDFPartsTypes'>"
      ]
     },
     "execution_count": 7,
     "metadata": {},
     "output_type": "execute_result"
    }
   ],
   "execution_count": 7
  },
  {
   "metadata": {
    "ExecuteTime": {
     "end_time": "2024-10-14T11:29:30.736851Z",
     "start_time": "2024-10-14T11:29:30.732335Z"
    }
   },
   "cell_type": "code",
   "source": "PDFPartsTypes.TEXT",
   "id": "fe073434c0736ed7",
   "outputs": [
    {
     "data": {
      "text/plain": [
       "<PDFPartsTypes.TEXT: 0>"
      ]
     },
     "execution_count": 8,
     "metadata": {},
     "output_type": "execute_result"
    }
   ],
   "execution_count": 8
  },
  {
   "metadata": {
    "ExecuteTime": {
     "end_time": "2024-10-14T11:34:54.056500Z",
     "start_time": "2024-10-14T11:34:54.040101Z"
    }
   },
   "cell_type": "code",
   "source": [
    "from typing import List, Tuple, Union\n",
    "from enum import Enum\n",
    "\n",
    "import pandas as pd\n",
    "\n",
    "\n",
    "def parse_md_text(md_text: str) -> List[Tuple[Union[str, pd.DataFrame], PDFPartsTypes]]:\n",
    "    print(\"OK\")\n",
    "    return [(\"0\", PDFPartsTypes.TEXT), (\"1\", PDFPartsTypes.TABLE), (pd.DataFrame(), PDFPartsTypes.TABLE), (None, PDFPartsTypes.TABLE), (\"4\", PDFPartsTypes.TEXT)]"
   ],
   "id": "d08c705164adbecb",
   "outputs": [],
   "execution_count": 17
  },
  {
   "metadata": {
    "ExecuteTime": {
     "end_time": "2024-10-14T11:34:55.021436Z",
     "start_time": "2024-10-14T11:34:55.007976Z"
    }
   },
   "cell_type": "code",
   "source": "parse_md_text(1)",
   "id": "83933c2dc77dce41",
   "outputs": [
    {
     "name": "stdout",
     "output_type": "stream",
     "text": [
      "OK\n"
     ]
    },
    {
     "data": {
      "text/plain": [
       "[('0', <PDFPartsTypes.TEXT: 0>),\n",
       " ('1', <PDFPartsTypes.TABLE: 1>),\n",
       " (Empty DataFrame\n",
       "  Columns: []\n",
       "  Index: [],\n",
       "  <PDFPartsTypes.TABLE: 1>),\n",
       " (None, <PDFPartsTypes.TABLE: 1>),\n",
       " ('4', <PDFPartsTypes.TEXT: 0>)]"
      ]
     },
     "execution_count": 18,
     "metadata": {},
     "output_type": "execute_result"
    }
   ],
   "execution_count": 18
  },
  {
   "metadata": {
    "ExecuteTime": {
     "end_time": "2024-10-14T11:34:44.741310Z",
     "start_time": "2024-10-14T11:34:44.720619Z"
    }
   },
   "cell_type": "code",
   "source": "parse_md_text(\"3\")",
   "id": "3cac8ed6234a215",
   "outputs": [
    {
     "name": "stdout",
     "output_type": "stream",
     "text": [
      "OK\n"
     ]
    },
    {
     "data": {
      "text/plain": [
       "[('0', <PDFPartsTypes.TEXT: 0>),\n",
       " ('1', <PDFPartsTypes.TABLE: 1>),\n",
       " (Empty DataFrame\n",
       "  Columns: []\n",
       "  Index: [],\n",
       "  <PDFPartsTypes.TABLE: 1>),\n",
       " ('3', <PDFPartsTypes.TABLE: 1>),\n",
       " ('4', <PDFPartsTypes.TEXT: 0>)]"
      ]
     },
     "execution_count": 16,
     "metadata": {},
     "output_type": "execute_result"
    }
   ],
   "execution_count": 16
  },
  {
   "metadata": {
    "ExecuteTime": {
     "end_time": "2024-10-14T11:38:33.661488Z",
     "start_time": "2024-10-14T11:38:33.367327Z"
    }
   },
   "cell_type": "code",
   "source": [
    "import markdown\n",
    "from bs4 import BeautifulSoup\n",
    "import pandas as pd\n",
    "\n",
    "\n",
    "def markdown_to_html(md_text):\n",
    "    \"\"\"\n",
    "    Convert Markdown text to HTML using the markdown library.\n",
    "    Enable the 'tables' extension to properly parse tables.\n",
    "    \"\"\"\n",
    "    return markdown.markdown(md_text, extensions=['tables'])\n",
    "\n",
    "\n",
    "def extract_html_tables(html):\n",
    "    \"\"\"\n",
    "    Extract all tables from HTML content using BeautifulSoup.\n",
    "    Returns a list of BeautifulSoup table objects.\n",
    "    \"\"\"\n",
    "    soup = BeautifulSoup(html, 'html.parser')\n",
    "    tables = soup.find_all('table')\n",
    "    return tables\n",
    "\n",
    "\n",
    "def html_tables_to_dataframes(html_tables):\n",
    "    \"\"\"\n",
    "    Convert a list of BeautifulSoup table objects to Pandas DataFrames.\n",
    "    Returns a list of DataFrames.\n",
    "    \"\"\"\n",
    "    dataframes = []\n",
    "    for table in html_tables:\n",
    "        # Convert the BeautifulSoup table back to a string for pandas to read\n",
    "        table_str = str(table)\n",
    "        df = pd.read_html(table_str)[0]  # Convert the first (and likely only) table to DataFrame\n",
    "        dataframes.append(df)\n",
    "    return dataframes\n",
    "\n",
    "\n",
    "def extract_tables_from_markdown(md_text):\n",
    "    \"\"\"\n",
    "    Extract tables from Markdown text and return them as a list of Pandas DataFrames.\n",
    "    \"\"\"\n",
    "    # Step 1: Convert Markdown to HTML\n",
    "    html = markdown_to_html(md_text)\n",
    "\n",
    "    # Step 2: Extract HTML tables\n",
    "    html_tables = extract_html_tables(html)\n",
    "\n",
    "    # Step 3: Convert HTML tables to Pandas DataFrames\n",
    "    dataframes = html_tables_to_dataframes(html_tables)\n",
    "\n",
    "    return dataframes"
   ],
   "id": "c040b5d73c4388ab",
   "outputs": [],
   "execution_count": 19
  },
  {
   "metadata": {
    "ExecuteTime": {
     "end_time": "2024-10-14T11:38:59.010266Z",
     "start_time": "2024-10-14T11:38:58.978179Z"
    }
   },
   "cell_type": "code",
   "source": [
    "sample_md = \"\"\"\n",
    "# Sample Markdown Document with Tables\n",
    "\n",
    "Here is a table of employees:\n",
    "\n",
    "| Name    | Age | Department |\n",
    "|---------|-----|------------|\n",
    "| Alice   | 30  | HR         |\n",
    "| Bob     | 25  | Engineering|\n",
    "| Charlie | 35  | Marketing  |\n",
    "\n",
    "Another table of products:\n",
    "\n",
    "| Product | Price | Quantity |\n",
    "|---------|-------|----------|\n",
    "| Book    | 12.99 | 100      |\n",
    "| Pen     | 1.99  | 500      |\n",
    "| Laptop  | 999.99| 50       |\n",
    "\"\"\"\n",
    "\n",
    "# Extract tables\n",
    "tables = extract_tables_from_markdown(sample_md)\n",
    "\n",
    "# Print DataFrames\n",
    "for idx, df in enumerate(tables, start=1):\n",
    "    print(f\"Table {idx}:\")\n",
    "    print(df)\n",
    "    print(\"\\n\")"
   ],
   "id": "e429018378e0448c",
   "outputs": [
    {
     "name": "stdout",
     "output_type": "stream",
     "text": [
      "Table 1:\n",
      "      Name  Age   Department\n",
      "0    Alice   30           HR\n",
      "1      Bob   25  Engineering\n",
      "2  Charlie   35    Marketing\n",
      "\n",
      "\n",
      "Table 2:\n",
      "  Product   Price  Quantity\n",
      "0    Book   12.99       100\n",
      "1     Pen    1.99       500\n",
      "2  Laptop  999.99        50\n",
      "\n",
      "\n"
     ]
    }
   ],
   "execution_count": 20
  },
  {
   "metadata": {
    "ExecuteTime": {
     "end_time": "2024-10-14T14:13:22.740549Z",
     "start_time": "2024-10-14T14:13:22.698046Z"
    }
   },
   "cell_type": "code",
   "source": "markdown_to_html(sample_md)",
   "id": "e883e2fecfde40b0",
   "outputs": [
    {
     "data": {
      "text/plain": [
       "'<h1>Sample Markdown Document with Tables</h1>\\n<p>Here is a table of employees:</p>\\n<table>\\n<thead>\\n<tr>\\n<th>Name</th>\\n<th>Age</th>\\n<th>Department</th>\\n</tr>\\n</thead>\\n<tbody>\\n<tr>\\n<td>Alice</td>\\n<td>30</td>\\n<td>HR</td>\\n</tr>\\n<tr>\\n<td>Bob</td>\\n<td>25</td>\\n<td>Engineering</td>\\n</tr>\\n<tr>\\n<td>Charlie</td>\\n<td>35</td>\\n<td>Marketing</td>\\n</tr>\\n</tbody>\\n</table>\\n<p>Another table of products:</p>\\n<table>\\n<thead>\\n<tr>\\n<th>Product</th>\\n<th>Price</th>\\n<th>Quantity</th>\\n</tr>\\n</thead>\\n<tbody>\\n<tr>\\n<td>Book</td>\\n<td>12.99</td>\\n<td>100</td>\\n</tr>\\n<tr>\\n<td>Pen</td>\\n<td>1.99</td>\\n<td>500</td>\\n</tr>\\n<tr>\\n<td>Laptop</td>\\n<td>999.99</td>\\n<td>50</td>\\n</tr>\\n</tbody>\\n</table>'"
      ]
     },
     "execution_count": 21,
     "metadata": {},
     "output_type": "execute_result"
    }
   ],
   "execution_count": 21
  },
  {
   "metadata": {},
   "cell_type": "code",
   "outputs": [],
   "execution_count": null,
   "source": "",
   "id": "c5ebadc115d27bee"
  },
  {
   "metadata": {},
   "cell_type": "code",
   "outputs": [],
   "execution_count": null,
   "source": "",
   "id": "53a729769605487f"
  },
  {
   "metadata": {},
   "cell_type": "code",
   "outputs": [],
   "execution_count": null,
   "source": "",
   "id": "99b8644640aa5329"
  },
  {
   "metadata": {
    "ExecuteTime": {
     "end_time": "2024-10-14T14:17:29.983906Z",
     "start_time": "2024-10-14T14:17:29.962248Z"
    }
   },
   "cell_type": "code",
   "source": [
    "import markdown\n",
    "from bs4 import BeautifulSoup\n",
    "import pandas as pd\n",
    "from typing import List, Tuple, Union\n",
    "\n",
    "def markdown_to_html(md_text):\n",
    "    \"\"\"\n",
    "    Convert Markdown text to HTML using the markdown library.\n",
    "    Enable the 'tables' extension to properly parse tables.\n",
    "    \"\"\"\n",
    "    return markdown.markdown(md_text, extensions=['tables'])\n",
    "\n",
    "def extract_html_tables_and_text(html):\n",
    "    \"\"\"\n",
    "    Extract text and tables from HTML content using BeautifulSoup.\n",
    "    Return a list of text and DataFrames in the order they are found.\n",
    "    \"\"\"\n",
    "    soup = BeautifulSoup(html, 'html.parser')\n",
    "    result = []\n",
    "    \n",
    "    # Iterate over all elements in the HTML to preserve order\n",
    "    for element in soup.body.children:\n",
    "        if element.name == 'p':  # Paragraph text\n",
    "            result.append((element.get_text(), \"text\"))\n",
    "        elif element.name == 'table':  # Table\n",
    "            # Convert the table into a DataFrame\n",
    "            table_str = str(element)\n",
    "            df = pd.read_html(table_str)[0]  # Convert HTML table to DataFrame\n",
    "            result.append((df, \"table\"))\n",
    "    \n",
    "    return result\n",
    "\n",
    "def extract_text_and_tables_from_markdown(md_text):\n",
    "    \"\"\"\n",
    "    Extract both text and tables from Markdown text and return them in the order\n",
    "    they appear as a list of tuples (text or DataFrame, type).\n",
    "    \"\"\"\n",
    "    # Step 1: Convert Markdown to HTML\n",
    "    html = markdown_to_html(md_text)\n",
    "    \n",
    "    # Step 2: Extract text and tables from HTML in order\n",
    "    elements_in_order = extract_html_tables_and_text(html)\n",
    "    \n",
    "    return elements_in_order"
   ],
   "id": "c5fc5a6e08c5979f",
   "outputs": [],
   "execution_count": 23
  },
  {
   "metadata": {
    "ExecuteTime": {
     "end_time": "2024-10-14T14:17:40.515961Z",
     "start_time": "2024-10-14T14:17:40.467808Z"
    }
   },
   "cell_type": "code",
   "source": [
    "sample_md = \"\"\"\n",
    "# Sample Markdown Document\n",
    "\n",
    "This is some introductory text.\n",
    "\n",
    "Here is a table of employees:\n",
    "\n",
    "| Name    | Age | Department |\n",
    "|---------|-----|------------|\n",
    "| Alice   | 30  | HR         |\n",
    "| Bob     | 25  | Engineering|\n",
    "| Charlie | 35  | Marketing  |\n",
    "\n",
    "This is some text after the table.\n",
    "\n",
    "Another table of products:\n",
    "\n",
    "| Product | Price | Quantity |\n",
    "|---------|-------|----------|\n",
    "| Book    | 12.99 | 100      |\n",
    "| Pen     | 1.99  | 500      |\n",
    "| Laptop  | 999.99| 50       |\n",
    "\n",
    "Some final text after the second table.\n",
    "\"\"\"\n",
    "\n",
    "# Extract text and tables\n",
    "elements = extract_text_and_tables_from_markdown(sample_md)\n",
    "\n",
    "# Print the extracted elements\n",
    "for element, elem_type in elements:\n",
    "    if elem_type == \"text\":\n",
    "        print(\"Text:\")\n",
    "        print(element)\n",
    "    elif elem_type == \"table\":\n",
    "        print(\"Table:\")\n",
    "        print(element)\n",
    "    print(\"\\n\")"
   ],
   "id": "9299e17335501336",
   "outputs": [
    {
     "ename": "AttributeError",
     "evalue": "'NoneType' object has no attribute 'children'",
     "output_type": "error",
     "traceback": [
      "\u001B[1;31m---------------------------------------------------------------------------\u001B[0m",
      "\u001B[1;31mAttributeError\u001B[0m                            Traceback (most recent call last)",
      "Cell \u001B[1;32mIn [24], line 28\u001B[0m\n\u001B[0;32m      1\u001B[0m sample_md \u001B[38;5;241m=\u001B[39m \u001B[38;5;124m\"\"\"\u001B[39m\n\u001B[0;32m      2\u001B[0m \u001B[38;5;124m# Sample Markdown Document\u001B[39m\n\u001B[0;32m      3\u001B[0m \n\u001B[1;32m   (...)\u001B[0m\n\u001B[0;32m     24\u001B[0m \u001B[38;5;124mSome final text after the second table.\u001B[39m\n\u001B[0;32m     25\u001B[0m \u001B[38;5;124m\"\"\"\u001B[39m\n\u001B[0;32m     27\u001B[0m \u001B[38;5;66;03m# Extract text and tables\u001B[39;00m\n\u001B[1;32m---> 28\u001B[0m elements \u001B[38;5;241m=\u001B[39m \u001B[43mextract_text_and_tables_from_markdown\u001B[49m\u001B[43m(\u001B[49m\u001B[43msample_md\u001B[49m\u001B[43m)\u001B[49m\n\u001B[0;32m     30\u001B[0m \u001B[38;5;66;03m# Print the extracted elements\u001B[39;00m\n\u001B[0;32m     31\u001B[0m \u001B[38;5;28;01mfor\u001B[39;00m element, elem_type \u001B[38;5;129;01min\u001B[39;00m elements:\n",
      "Cell \u001B[1;32mIn [23], line 42\u001B[0m, in \u001B[0;36mextract_text_and_tables_from_markdown\u001B[1;34m(md_text)\u001B[0m\n\u001B[0;32m     39\u001B[0m html \u001B[38;5;241m=\u001B[39m markdown_to_html(md_text)\n\u001B[0;32m     41\u001B[0m \u001B[38;5;66;03m# Step 2: Extract text and tables from HTML in order\u001B[39;00m\n\u001B[1;32m---> 42\u001B[0m elements_in_order \u001B[38;5;241m=\u001B[39m \u001B[43mextract_html_tables_and_text\u001B[49m\u001B[43m(\u001B[49m\u001B[43mhtml\u001B[49m\u001B[43m)\u001B[49m\n\u001B[0;32m     44\u001B[0m \u001B[38;5;28;01mreturn\u001B[39;00m elements_in_order\n",
      "Cell \u001B[1;32mIn [23], line 22\u001B[0m, in \u001B[0;36mextract_html_tables_and_text\u001B[1;34m(html)\u001B[0m\n\u001B[0;32m     19\u001B[0m result \u001B[38;5;241m=\u001B[39m []\n\u001B[0;32m     21\u001B[0m \u001B[38;5;66;03m# Iterate over all elements in the HTML to preserve order\u001B[39;00m\n\u001B[1;32m---> 22\u001B[0m \u001B[38;5;28;01mfor\u001B[39;00m element \u001B[38;5;129;01min\u001B[39;00m \u001B[43msoup\u001B[49m\u001B[38;5;241;43m.\u001B[39;49m\u001B[43mbody\u001B[49m\u001B[38;5;241;43m.\u001B[39;49m\u001B[43mchildren\u001B[49m:\n\u001B[0;32m     23\u001B[0m     \u001B[38;5;28;01mif\u001B[39;00m element\u001B[38;5;241m.\u001B[39mname \u001B[38;5;241m==\u001B[39m \u001B[38;5;124m'\u001B[39m\u001B[38;5;124mp\u001B[39m\u001B[38;5;124m'\u001B[39m:  \u001B[38;5;66;03m# Paragraph text\u001B[39;00m\n\u001B[0;32m     24\u001B[0m         result\u001B[38;5;241m.\u001B[39mappend((element\u001B[38;5;241m.\u001B[39mget_text(), \u001B[38;5;124m\"\u001B[39m\u001B[38;5;124mtext\u001B[39m\u001B[38;5;124m\"\u001B[39m))\n",
      "\u001B[1;31mAttributeError\u001B[0m: 'NoneType' object has no attribute 'children'"
     ]
    }
   ],
   "execution_count": 24
  },
  {
   "metadata": {},
   "cell_type": "code",
   "outputs": [],
   "execution_count": null,
   "source": "",
   "id": "784a2b62909868ae"
  },
  {
   "metadata": {
    "ExecuteTime": {
     "end_time": "2024-10-14T14:18:37.825938Z",
     "start_time": "2024-10-14T14:18:37.816285Z"
    }
   },
   "cell_type": "code",
   "source": [
    "import markdown\n",
    "from bs4 import BeautifulSoup\n",
    "import pandas as pd\n",
    "import re\n",
    "\n",
    "def extract_tables_and_text(md_text: str):\n",
    "    \"\"\"\n",
    "    Extracts tables and text from Markdown and returns them in the same order.\n",
    "    Tables are returned as DataFrames, while text parts remain as strings.\n",
    "    \"\"\"\n",
    "    html = markdown.markdown(md_text, extensions=['tables'])\n",
    "    soup = BeautifulSoup(html, 'html.parser')\n",
    "    \n",
    "    content = []\n",
    "    \n",
    "    # Identify table and non-table elements\n",
    "    elements = soup.find_all(['p', 'table'])\n",
    "    \n",
    "    for elem in elements:\n",
    "        if elem.name == 'table':\n",
    "            df = pd.read_html(str(elem))[0]  # Convert table to DataFrame\n",
    "            content.append(df)\n",
    "        else:\n",
    "            text = elem.get_text(strip=True)\n",
    "            if text:\n",
    "                content.append(text)\n",
    "    \n",
    "    return content"
   ],
   "id": "d84bd574f02c7f0e",
   "outputs": [],
   "execution_count": 25
  },
  {
   "metadata": {
    "ExecuteTime": {
     "end_time": "2024-10-14T14:19:21.725954Z",
     "start_time": "2024-10-14T14:19:21.703985Z"
    }
   },
   "cell_type": "code",
   "source": [
    "# Example usage\n",
    "md_text = \"\"\"\n",
    "Here is some text before the table.\n",
    "\n",
    "| Name    | Age | Department |\n",
    "|---------|-----|------------|\n",
    "| Alice   | 30  | HR         |\n",
    "| Bob     | 25  | Engineering|\n",
    "| Charlie | 35  | Marketing  |\n",
    "\n",
    "This is more text after the table.\n",
    "\"\"\"\n",
    "result = extract_tables_and_text(md_text)\n",
    "\n",
    "# Output the result\n",
    "for inx_, item in enumerate(result):\n",
    "    print(f\"Item no: {inx_}\")\n",
    "    print(item)\n",
    "    print(\"\\n\")"
   ],
   "id": "9429020f3ee214c2",
   "outputs": [
    {
     "name": "stdout",
     "output_type": "stream",
     "text": [
      "Item no: 0\n",
      "Here is some text before the table.\n",
      "\n",
      "\n",
      "Item no: 1\n",
      "      Name  Age   Department\n",
      "0    Alice   30           HR\n",
      "1      Bob   25  Engineering\n",
      "2  Charlie   35    Marketing\n",
      "\n",
      "\n",
      "Item no: 2\n",
      "This is more text after the table.\n",
      "\n",
      "\n"
     ]
    }
   ],
   "execution_count": 27
  },
  {
   "metadata": {
    "ExecuteTime": {
     "end_time": "2024-10-14T14:20:05.473295Z",
     "start_time": "2024-10-14T14:20:05.444524Z"
    }
   },
   "cell_type": "code",
   "source": [
    "md_text = \"\"\"\n",
    "# Sample Markdown Document\n",
    "\n",
    "This is some introductory text.\n",
    "\n",
    "Here is a table of employees:\n",
    "\n",
    "| Name    | Age | Department |\n",
    "|---------|-----|------------|\n",
    "| Alice   | 30  | HR         |\n",
    "| Bob     | 25  | Engineering|\n",
    "| Charlie | 35  | Marketing  |\n",
    "\n",
    "This is some text after the table.\n",
    "\n",
    "Another table of products:\n",
    "\n",
    "| Product | Price | Quantity |\n",
    "|---------|-------|----------|\n",
    "| Book    | 12.99 | 100      |\n",
    "| Pen     | 1.99  | 500      |\n",
    "| Laptop  | 999.99| 50       |\n",
    "\n",
    "Some final text after the second table.\n",
    "\"\"\"\n",
    "\n",
    "result = extract_tables_and_text(md_text)\n",
    "\n",
    "# Output the result\n",
    "for inx_, item in enumerate(result):\n",
    "    print(f\"Item no: {inx_}\")\n",
    "    print(item)\n",
    "    print(\"\\n\")"
   ],
   "id": "9dd84c308f462d3a",
   "outputs": [
    {
     "name": "stdout",
     "output_type": "stream",
     "text": [
      "Item no: 0\n",
      "This is some introductory text.\n",
      "\n",
      "\n",
      "Item no: 1\n",
      "Here is a table of employees:\n",
      "\n",
      "\n",
      "Item no: 2\n",
      "      Name  Age   Department\n",
      "0    Alice   30           HR\n",
      "1      Bob   25  Engineering\n",
      "2  Charlie   35    Marketing\n",
      "\n",
      "\n",
      "Item no: 3\n",
      "This is some text after the table.\n",
      "\n",
      "\n",
      "Item no: 4\n",
      "Another table of products:\n",
      "\n",
      "\n",
      "Item no: 5\n",
      "  Product   Price  Quantity\n",
      "0    Book   12.99       100\n",
      "1     Pen    1.99       500\n",
      "2  Laptop  999.99        50\n",
      "\n",
      "\n",
      "Item no: 6\n",
      "Some final text after the second table.\n",
      "\n",
      "\n"
     ]
    }
   ],
   "execution_count": 28
  },
  {
   "metadata": {
    "ExecuteTime": {
     "end_time": "2024-10-14T14:30:36.217911Z",
     "start_time": "2024-10-14T14:30:36.210849Z"
    }
   },
   "cell_type": "code",
   "source": [
    "import re\n",
    "import pandas as pd\n",
    "from typing import List, Union\n",
    "\n",
    "def parse_table(md_table: str) -> pd.DataFrame:\n",
    "    \"\"\"\n",
    "    Parses a Markdown table string and converts it into a Pandas DataFrame.\n",
    "    \"\"\"\n",
    "    lines = md_table.strip().split(\"\\n\")\n",
    "    headers = [h.strip() for h in lines[0].split(\"|\")[1:-1]]  # Skip first and last empty strings\n",
    "    rows = [line.split(\"|\")[1:-1] for line in lines[2:]]  # Data rows (skip header separator)\n",
    "    data = [[cell.strip() for cell in row] for row in rows]\n",
    "    return pd.DataFrame(data, columns=headers)\n",
    "\n",
    "def extract_tables_and_text(md_text: str) -> List[Union[str, pd.DataFrame]]:\n",
    "    \"\"\"\n",
    "    Extracts tables and text from Markdown in the same order they appear.\n",
    "    Tables are returned as Pandas DataFrames, and text parts as strings.\n",
    "    \"\"\"\n",
    "    content = []\n",
    "    \n",
    "    # Regular expression for matching Markdown tables\n",
    "    table_pattern = re.compile(\n",
    "        r'((?:\\|.+\\|\\n)+\\|[-\\s]+[-\\|]+\\|\\n(?:\\|.+\\|\\n)+)', re.MULTILINE\n",
    "    )\n",
    "    \n",
    "    # Split the text by tables\n",
    "    parts = table_pattern.split(md_text)\n",
    "    \n",
    "    for part in parts:\n",
    "        part = part.strip()\n",
    "        if table_pattern.match(part):  # It's a table\n",
    "            df = parse_table(part)\n",
    "            content.append(df)\n",
    "        elif part:  # Non-empty text\n",
    "            content.append(part)\n",
    "    \n",
    "    return content"
   ],
   "id": "85a6809d705191ae",
   "outputs": [],
   "execution_count": 7
  },
  {
   "metadata": {
    "ExecuteTime": {
     "end_time": "2024-10-14T14:33:31.866360Z",
     "start_time": "2024-10-14T14:33:31.858689Z"
    }
   },
   "cell_type": "code",
   "source": [
    "# Example usage\n",
    "md_text = \"\"\"\n",
    "# this is a paragraph\n",
    "## this is a subparagraph\n",
    "## this is a list\n",
    "- a1\n",
    "- a2\n",
    "- a3\n",
    "- b0\n",
    "Here is some text before the table.\n",
    "\n",
    "| Name    | Age | Department |\n",
    "|---------|-----|------------|\n",
    "| Alice   | 30  | HR         |\n",
    "| Bob     | 25  | Engineering|\n",
    "| Charlie | 35  | Marketing  |\n",
    "\n",
    "This is more text after the table.\n",
    "\n",
    "Here is another table:\n",
    "\n",
    "| Product | Price | Quantity |\n",
    "|---------|-------|----------|\n",
    "| Book    | 12.99 | 100      |\n",
    "| Pen     | 1.99  | 500      |\n",
    "| Laptop  | 999.99| 50       |\n",
    "\n",
    "Some final text after the second table.\n",
    "\"\"\"\n",
    "result = extract_tables_and_text(md_text)\n",
    "\n",
    "# Output the result\n",
    "for inx, item in enumerate(result):\n",
    "    print(f\"Item no: {inx} ------------------------------------------------------------------\")\n",
    "    print(f\"Type of item: {type(item)}\")\n",
    "    print(item)\n",
    "    print(\"\\n\")"
   ],
   "id": "fed2dc205ce0c39a",
   "outputs": [
    {
     "name": "stdout",
     "output_type": "stream",
     "text": [
      "Item no: 0 ------------------------------------------------------------------\n",
      "Type of item: <class 'str'>\n",
      "# this is a paragraph\n",
      "## this is a subparagraph\n",
      "## this is a list\n",
      "- a1\n",
      "- a2\n",
      "- a3\n",
      "- b0\n",
      "Here is some text before the table.\n",
      "\n",
      "\n",
      "Item no: 1 ------------------------------------------------------------------\n",
      "Type of item: <class 'pandas.core.frame.DataFrame'>\n",
      "      Name Age   Department\n",
      "0    Alice  30           HR\n",
      "1      Bob  25  Engineering\n",
      "2  Charlie  35    Marketing\n",
      "\n",
      "\n",
      "Item no: 2 ------------------------------------------------------------------\n",
      "Type of item: <class 'str'>\n",
      "This is more text after the table.\n",
      "\n",
      "Here is another table:\n",
      "\n",
      "\n",
      "Item no: 3 ------------------------------------------------------------------\n",
      "Type of item: <class 'pandas.core.frame.DataFrame'>\n",
      "  Product   Price Quantity\n",
      "0    Book   12.99      100\n",
      "1     Pen    1.99      500\n",
      "2  Laptop  999.99       50\n",
      "\n",
      "\n",
      "Item no: 4 ------------------------------------------------------------------\n",
      "Type of item: <class 'str'>\n",
      "Some final text after the second table.\n",
      "\n",
      "\n"
     ]
    }
   ],
   "execution_count": 13
  },
  {
   "metadata": {
    "ExecuteTime": {
     "end_time": "2024-10-14T14:32:56.526788Z",
     "start_time": "2024-10-14T14:32:56.516254Z"
    }
   },
   "cell_type": "code",
   "source": "result[1]",
   "id": "badb74c1950440df",
   "outputs": [
    {
     "data": {
      "text/plain": [
       "      Name Age   Department\n",
       "0    Alice  30           HR\n",
       "1      Bob  25  Engineering\n",
       "2  Charlie  35    Marketing"
      ],
      "text/html": [
       "<div>\n",
       "<style scoped>\n",
       "    .dataframe tbody tr th:only-of-type {\n",
       "        vertical-align: middle;\n",
       "    }\n",
       "\n",
       "    .dataframe tbody tr th {\n",
       "        vertical-align: top;\n",
       "    }\n",
       "\n",
       "    .dataframe thead th {\n",
       "        text-align: right;\n",
       "    }\n",
       "</style>\n",
       "<table border=\"1\" class=\"dataframe\">\n",
       "  <thead>\n",
       "    <tr style=\"text-align: right;\">\n",
       "      <th></th>\n",
       "      <th>Name</th>\n",
       "      <th>Age</th>\n",
       "      <th>Department</th>\n",
       "    </tr>\n",
       "  </thead>\n",
       "  <tbody>\n",
       "    <tr>\n",
       "      <th>0</th>\n",
       "      <td>Alice</td>\n",
       "      <td>30</td>\n",
       "      <td>HR</td>\n",
       "    </tr>\n",
       "    <tr>\n",
       "      <th>1</th>\n",
       "      <td>Bob</td>\n",
       "      <td>25</td>\n",
       "      <td>Engineering</td>\n",
       "    </tr>\n",
       "    <tr>\n",
       "      <th>2</th>\n",
       "      <td>Charlie</td>\n",
       "      <td>35</td>\n",
       "      <td>Marketing</td>\n",
       "    </tr>\n",
       "  </tbody>\n",
       "</table>\n",
       "</div>"
      ]
     },
     "execution_count": 11,
     "metadata": {},
     "output_type": "execute_result"
    }
   ],
   "execution_count": 11
  },
  {
   "metadata": {},
   "cell_type": "code",
   "outputs": [],
   "execution_count": null,
   "source": "",
   "id": "4fd6c211851c668f"
  },
  {
   "metadata": {
    "ExecuteTime": {
     "end_time": "2024-10-14T14:34:42.581648Z",
     "start_time": "2024-10-14T14:34:42.575109Z"
    }
   },
   "cell_type": "code",
   "source": [
    "import re\n",
    "import pandas as pd\n",
    "from typing import List, Union\n",
    "\n",
    "def parse_table(md_table: str) -> pd.DataFrame:\n",
    "    \"\"\"\n",
    "    Parses a Markdown table string and converts it into a Pandas DataFrame.\n",
    "    \"\"\"\n",
    "    lines = md_table.strip().split(\"\\n\")\n",
    "    headers = [h.strip() for h in re.split(r'\\s*\\|\\s*', lines[0]) if h]  # Split header row by '|'\n",
    "    rows = [re.split(r'\\s*\\|\\s*', line) for line in lines[2:]]  # Split data rows by '|'\n",
    "    data = [[cell.strip() for cell in row if cell] for row in rows]  # Clean up cells\n",
    "    return pd.DataFrame(data, columns=headers)\n",
    "\n",
    "def extract_tables_and_text(md_text: str) -> List[Union[str, pd.DataFrame]]:\n",
    "    \"\"\"\n",
    "    Extracts tables and text from Markdown in the same order they appear.\n",
    "    Tables are returned as Pandas DataFrames, and text parts as strings.\n",
    "    \"\"\"\n",
    "    content = []\n",
    "    \n",
    "    # Improved regular expression to match Markdown tables, allowing for optional spaces and missing cells\n",
    "    table_pattern = re.compile(\n",
    "        r'((?:\\|\\s*.+?\\s*\\|\\s*\\n)+\\|\\s*[-:\\s|]+\\s*\\|\\s*\\n(?:\\|\\s*.+?\\s*\\|\\s*\\n)+)', re.MULTILINE\n",
    "    )\n",
    "    \n",
    "    # Split the text by tables\n",
    "    parts = table_pattern.split(md_text)\n",
    "    \n",
    "    for part in parts:\n",
    "        part = part.strip()\n",
    "        if table_pattern.match(part):  # It's a table\n",
    "            df = parse_table(part)\n",
    "            content.append(df)\n",
    "        elif part:  # Non-empty text\n",
    "            content.append(part)\n",
    "    \n",
    "    return content"
   ],
   "id": "56473506d78ecc75",
   "outputs": [],
   "execution_count": 14
  },
  {
   "metadata": {
    "ExecuteTime": {
     "end_time": "2024-10-14T16:43:03.345288Z",
     "start_time": "2024-10-14T16:43:03.323332Z"
    }
   },
   "cell_type": "code",
   "source": [
    "# Example usage\n",
    "md_text = \"\"\"\n",
    "This is some text before the table.\n",
    "\n",
    "|Name|Age|Department|\n",
    "|----|---|----------|\n",
    "|Alice|30|HR|\n",
    "| Bob | 25|Engineering|\n",
    "|Charlie|35 | Marketing|\n",
    "\n",
    "More text after the table.\n",
    "\n",
    "|Product|Price|Quantity|\n",
    "|-------|-----|--------|\n",
    "|Book|12.99|100|\n",
    "| Pen |1.99|500|\n",
    "|Laptop|999.99| 50|\n",
    "# this is a paragraph\n",
    "## this is a subparagraph\n",
    "## this is a list\n",
    "- a1\n",
    "- a2\n",
    "- a3\n",
    "- b0\n",
    "Here is some text before the table.\n",
    "\n",
    "| Name    | Age | Department |\n",
    "|---------|-----|------------|\n",
    "| Alice   | 30  | HR         |\n",
    "| Bob     | 25  | Engineering|\n",
    "| Charlie | 35  | Marketing  |\n",
    "\n",
    "This is more text after the table.\n",
    "\n",
    "Here is another table:\n",
    "\n",
    "| Product | Price | Quantity |\n",
    "|---------|-------|----------|\n",
    "| Book    | 12.99 | 100      |\n",
    "| Pen     | 1.99  | 500      |\n",
    "| Laptop  | 999.99| 50       |\n",
    "\n",
    "Some final text after the second table.\n",
    "Final text after the second table.\n",
    "| Product | Price | Quantity |\n",
    "|---------|-------|----------------------|\n",
    "| Book    | 12.99 | 100  |\n",
    "\n",
    "\n",
    "| Pen     | 1.99  | 500     |\n",
    "| Laptop  | 999.99| 50                             |\n",
    "\n",
    "\n",
    "# example of broken table\n",
    "\n",
    "| Product | Price | Quantity |\n",
    "|---------|-------|----------------------|\n",
    "| Book    | 12.99  100  |\n",
    "\n",
    "\n",
    "| Pen     | 1.99  | 500     |\n",
    "| Laptop  | 999.99| 50                             |\n",
    "\"\"\"\n",
    "result = extract_tables_and_text(md_text)\n",
    "\n",
    "# Output the result\n",
    "for inx, item in enumerate(result):\n",
    "    print(f\"Item no: {inx} ------------------------------------------------------------------\")\n",
    "    print(f\"Type of item: {type(item)}\")\n",
    "    print(item)\n",
    "    print()"
   ],
   "id": "7ed1a800025fd04a",
   "outputs": [
    {
     "name": "stdout",
     "output_type": "stream",
     "text": [
      "Item no: 0 ------------------------------------------------------------------\n",
      "Type of item: <class 'str'>\n",
      "This is some text before the table.\n",
      "\n",
      "Item no: 1 ------------------------------------------------------------------\n",
      "Type of item: <class 'pandas.core.frame.DataFrame'>\n",
      "      Name Age   Department\n",
      "0    Alice  30           HR\n",
      "1      Bob  25  Engineering\n",
      "2  Charlie  35    Marketing\n",
      "\n",
      "Item no: 2 ------------------------------------------------------------------\n",
      "Type of item: <class 'str'>\n",
      "More text after the table.\n",
      "\n",
      "Item no: 3 ------------------------------------------------------------------\n",
      "Type of item: <class 'pandas.core.frame.DataFrame'>\n",
      "  Product   Price Quantity\n",
      "0    Book   12.99      100\n",
      "1     Pen    1.99      500\n",
      "2  Laptop  999.99       50\n",
      "\n",
      "Item no: 4 ------------------------------------------------------------------\n",
      "Type of item: <class 'str'>\n",
      "# this is a paragraph\n",
      "## this is a subparagraph\n",
      "## this is a list\n",
      "- a1\n",
      "- a2\n",
      "- a3\n",
      "- b0\n",
      "Here is some text before the table.\n",
      "\n",
      "Item no: 5 ------------------------------------------------------------------\n",
      "Type of item: <class 'pandas.core.frame.DataFrame'>\n",
      "      Name Age   Department\n",
      "0    Alice  30           HR\n",
      "1      Bob  25  Engineering\n",
      "2  Charlie  35    Marketing\n",
      "\n",
      "Item no: 6 ------------------------------------------------------------------\n",
      "Type of item: <class 'str'>\n",
      "This is more text after the table.\n",
      "\n",
      "Here is another table:\n",
      "\n",
      "Item no: 7 ------------------------------------------------------------------\n",
      "Type of item: <class 'pandas.core.frame.DataFrame'>\n",
      "  Product   Price Quantity\n",
      "0    Book   12.99      100\n",
      "1     Pen    1.99      500\n",
      "2  Laptop  999.99       50\n",
      "\n",
      "Item no: 8 ------------------------------------------------------------------\n",
      "Type of item: <class 'str'>\n",
      "Some final text after the second table.\n",
      "Final text after the second table.\n",
      "\n",
      "Item no: 9 ------------------------------------------------------------------\n",
      "Type of item: <class 'pandas.core.frame.DataFrame'>\n",
      "  Product   Price Quantity\n",
      "0    Book   12.99      100\n",
      "1    None    None     None\n",
      "2    None    None     None\n",
      "3     Pen    1.99      500\n",
      "4  Laptop  999.99       50\n",
      "\n",
      "Item no: 10 ------------------------------------------------------------------\n",
      "Type of item: <class 'str'>\n",
      "# example of brocken table\n",
      "\n",
      "Item no: 11 ------------------------------------------------------------------\n",
      "Type of item: <class 'pandas.core.frame.DataFrame'>\n",
      "  Product       Price Quantity\n",
      "0    Book  12.99  100     None\n",
      "1    None        None     None\n",
      "2    None        None     None\n",
      "3     Pen        1.99      500\n",
      "4  Laptop      999.99       50\n",
      "\n"
     ]
    }
   ],
   "execution_count": 23
  },
  {
   "metadata": {
    "ExecuteTime": {
     "end_time": "2024-10-14T16:43:40.946263Z",
     "start_time": "2024-10-14T16:43:40.934992Z"
    }
   },
   "cell_type": "code",
   "source": "result[-1]",
   "id": "301530858f84bf07",
   "outputs": [
    {
     "data": {
      "text/plain": [
       "  Product       Price Quantity\n",
       "0    Book  12.99  100     None\n",
       "1    None        None     None\n",
       "2    None        None     None\n",
       "3     Pen        1.99      500\n",
       "4  Laptop      999.99       50"
      ],
      "text/html": [
       "<div>\n",
       "<style scoped>\n",
       "    .dataframe tbody tr th:only-of-type {\n",
       "        vertical-align: middle;\n",
       "    }\n",
       "\n",
       "    .dataframe tbody tr th {\n",
       "        vertical-align: top;\n",
       "    }\n",
       "\n",
       "    .dataframe thead th {\n",
       "        text-align: right;\n",
       "    }\n",
       "</style>\n",
       "<table border=\"1\" class=\"dataframe\">\n",
       "  <thead>\n",
       "    <tr style=\"text-align: right;\">\n",
       "      <th></th>\n",
       "      <th>Product</th>\n",
       "      <th>Price</th>\n",
       "      <th>Quantity</th>\n",
       "    </tr>\n",
       "  </thead>\n",
       "  <tbody>\n",
       "    <tr>\n",
       "      <th>0</th>\n",
       "      <td>Book</td>\n",
       "      <td>12.99  100</td>\n",
       "      <td>None</td>\n",
       "    </tr>\n",
       "    <tr>\n",
       "      <th>1</th>\n",
       "      <td>None</td>\n",
       "      <td>None</td>\n",
       "      <td>None</td>\n",
       "    </tr>\n",
       "    <tr>\n",
       "      <th>2</th>\n",
       "      <td>None</td>\n",
       "      <td>None</td>\n",
       "      <td>None</td>\n",
       "    </tr>\n",
       "    <tr>\n",
       "      <th>3</th>\n",
       "      <td>Pen</td>\n",
       "      <td>1.99</td>\n",
       "      <td>500</td>\n",
       "    </tr>\n",
       "    <tr>\n",
       "      <th>4</th>\n",
       "      <td>Laptop</td>\n",
       "      <td>999.99</td>\n",
       "      <td>50</td>\n",
       "    </tr>\n",
       "  </tbody>\n",
       "</table>\n",
       "</div>"
      ]
     },
     "execution_count": 24,
     "metadata": {},
     "output_type": "execute_result"
    }
   ],
   "execution_count": 24
  },
  {
   "metadata": {
    "ExecuteTime": {
     "end_time": "2024-10-14T16:52:47.551695Z",
     "start_time": "2024-10-14T16:52:47.545499Z"
    }
   },
   "cell_type": "code",
   "source": [
    "md_text = \"\"\"| Product | Price | Quantity |\n",
    "|---------|-------|----------------------|\n",
    "| Book    | 12.99  \n",
    "100  |\n",
    "\n",
    "\n",
    "| Pen     | 1.99  | 500     |\n",
    "| Laptop  | 999.99| 50                             |\n",
    "\"\"\"\n",
    "result = extract_tables_and_text(md_text)\n",
    "\n",
    "# Output the result\n",
    "for inx, item in enumerate(result):\n",
    "    print(f\"Item no: {inx} ------------------------------------------------------------------\")\n",
    "    print(f\"Type of item: {type(item)}\")\n",
    "    print(item)\n",
    "    print()"
   ],
   "id": "3389bfea8ec22f31",
   "outputs": [
    {
     "name": "stdout",
     "output_type": "stream",
     "text": [
      "Item no: 0 ------------------------------------------------------------------\n",
      "Type of item: <class 'str'>\n",
      "| Product | Price | Quantity |\n",
      "|---------|-------|----------------------|\n",
      "| Book    | 12.99  \n",
      "100  |\n",
      "\n",
      "\n",
      "| Pen     | 1.99  | 500     |\n",
      "| Laptop  | 999.99| 50                             |\n",
      "\n"
     ]
    }
   ],
   "execution_count": 26
  },
  {
   "metadata": {},
   "cell_type": "code",
   "outputs": [],
   "execution_count": null,
   "source": "",
   "id": "f5146de3fc208bdb"
  },
  {
   "metadata": {
    "ExecuteTime": {
     "end_time": "2024-10-14T17:03:21.232886Z",
     "start_time": "2024-10-14T17:03:21.223388Z"
    }
   },
   "cell_type": "code",
   "source": [
    "list1 = [1, 2, 3]\n",
    "list2 = [4, 5, 6]\n",
    "\n",
    "list1.extend(list2)\n",
    "print(list1)  # Output: [1, 2, 3, 4, 5, 6]\n"
   ],
   "id": "b1d678c0705e95b1",
   "outputs": [
    {
     "name": "stdout",
     "output_type": "stream",
     "text": [
      "[1, 2, 3, 4, 5, 6]\n"
     ]
    }
   ],
   "execution_count": 27
  },
  {
   "metadata": {},
   "cell_type": "code",
   "outputs": [],
   "execution_count": null,
   "source": "",
   "id": "b82a7f602174870"
  }
 ],
 "metadata": {
  "kernelspec": {
   "display_name": "Python 3",
   "language": "python",
   "name": "python3"
  },
  "language_info": {
   "codemirror_mode": {
    "name": "ipython",
    "version": 2
   },
   "file_extension": ".py",
   "mimetype": "text/x-python",
   "name": "python",
   "nbconvert_exporter": "python",
   "pygments_lexer": "ipython2",
   "version": "2.7.6"
  }
 },
 "nbformat": 4,
 "nbformat_minor": 5
}
