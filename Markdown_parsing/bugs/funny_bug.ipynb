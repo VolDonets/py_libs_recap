{
 "cells": [
  {
   "metadata": {},
   "cell_type": "markdown",
   "source": "# Load Parsing Data",
   "id": "e0da012a816be6cf"
  },
  {
   "metadata": {
    "ExecuteTime": {
     "end_time": "2024-10-20T10:43:47.728624Z",
     "start_time": "2024-10-20T10:43:46.220371Z"
    }
   },
   "cell_type": "code",
   "source": [
    "import nest_asyncio\n",
    "import os\n",
    "\n",
    "from IPython.utils import docs\n",
    "from llama_parse import LlamaParse\n",
    "\n",
    "\n",
    "nest_asyncio.apply()\n",
    "\n",
    "LLAMA_CLOUD_API_KEY = 'llx-DfP7SdMqvrHBMQZ9LhPVZvABLjFMO1evLL79ncWk7JVEBwgw'\n",
    "os.environ[\"LLAMA_CLOUD_API_KEY\"] = LLAMA_CLOUD_API_KEY"
   ],
   "id": "ecbee38dac773d20",
   "outputs": [],
   "execution_count": 1
  },
  {
   "metadata": {
    "ExecuteTime": {
     "end_time": "2024-10-20T10:43:47.778388Z",
     "start_time": "2024-10-20T10:43:47.729632Z"
    }
   },
   "cell_type": "code",
   "source": [
    "doc = LlamaParse(\n",
    "    result_type=\"markdown\",\n",
    "    use_vendor_multimodal_model=True,\n",
    "    vendor_multimodal_model_name=\"openai-gpt-4o-mini\",\n",
    "    # vendor_multimodal_model_name=\"openai-gpt4o\",\n",
    ").load_data(\"../PDF_parsing_libs_recap/_data_test_pdfs/single-page-diff-u_s_tables.pdf\")\n",
    "print(f\"Result docs number: {len(doc)}\")"
   ],
   "id": "f2ac8fbd4b6217b1",
   "outputs": [
    {
     "name": "stdout",
     "output_type": "stream",
     "text": [
      "Error while parsing the file '../PDF_parsing_libs_recap/_data_test_pdfs/single-page-diff-u_s_tables.pdf': [Errno 2] No such file or directory: 'D:/documents/python_projects/py_libs_recap/Markdown_parsing/bugs/../PDF_parsing_libs_recap/_data_test_pdfs/single-page-diff-u_s_tables.pdf'\n",
      "Result docs number: 0\n"
     ]
    }
   ],
   "execution_count": 2
  },
  {
   "metadata": {},
   "cell_type": "markdown",
   "source": "# Parser",
   "id": "b6b011e014d640c2"
  },
  {
   "metadata": {
    "ExecuteTime": {
     "end_time": "2024-10-20T10:41:57.908716Z",
     "start_time": "2024-10-20T10:41:57.238261Z"
    }
   },
   "cell_type": "code",
   "source": [
    "from typing import List, Tuple, Union\n",
    "\n",
    "from enum import Enum\n",
    "\n",
    "import re\n",
    "import pandas as pd\n",
    "\n",
    "\n",
    "class PDFPartsTypes(Enum):\n",
    "    \"\"\"\n",
    "    Represents the types of PDF parts.\n",
    "    \"\"\"\n",
    "\n",
    "    TEXT = 0\n",
    "    TABLE = 1\n",
    "    \n",
    "\n",
    "MIN_TEXT_SIZE = 100\n",
    "\n",
    "\n",
    "class MDParser:\n",
    "    @staticmethod\n",
    "    def _parse_md_table(md_table: str) -> pd.DataFrame:\n",
    "        \"\"\"\n",
    "        Parses a Markdown table string and converts it into a Pandas DataFrame.\n",
    "\n",
    "        :param md_table: Markdown string which represent a table\n",
    "        :return: Pandas DataFrame -- parsed table\n",
    "        \"\"\"\n",
    "        lines = md_table.strip().split(\"\\n\")\n",
    "        headers = [h.strip() for h in re.split(r'\\s*\\|\\s*', lines[0]) if h]  # Split header row by '|'\n",
    "        rows = [re.split(r'\\s*\\|\\s*', line) for line in lines[2:]]  # Split data rows by '|'\n",
    "        data = [[cell.strip() for cell in row if cell] for row in rows]  # Clean up cells\n",
    "        \n",
    "        # fix columns and data inconsistency\n",
    "        # it if weak fixing of possible bug\n",
    "        if data and len(headers) != len(data[0]):\n",
    "            headers = headers[:len(data[0])]\n",
    "        return pd.DataFrame(data, columns=headers)\n",
    "    \n",
    "    @staticmethod\n",
    "    def _merge_tables(tables: List[pd.DataFrame]) -> List[pd.DataFrame]:\n",
    "        def infer_column_types(df):\n",
    "            inferred_types = []\n",
    "            for col in df.columns:\n",
    "                try:\n",
    "                    # Try numeric conversion\n",
    "                    pd.to_numeric(df[col])\n",
    "                    inferred_types.append('num')\n",
    "                except:\n",
    "                    try:\n",
    "                        # Try datetime conversion\n",
    "                        pd.to_datetime(df[col])\n",
    "                        inferred_types.append('dt')\n",
    "                    except:\n",
    "                        inferred_types.append('str')\n",
    "            return inferred_types\n",
    "        \n",
    "        inx = 0\n",
    "        \n",
    "        while (inx + 1) < len(tables):\n",
    "            # try to merge tables[inx] and tables[inx + 1]\n",
    "            # check if they have the same number of columns\n",
    "            # check if their columns have the similar type\n",
    "            # !!! WARNING !!! It was supposed that the first table has the right columns names\n",
    "            # !!! WARNING !!! and following similar table has hallucinated columns names\n",
    "            if tables[inx].shape[1] == tables[inx + 1].shape[1]:\n",
    "                col_types_t0 = infer_column_types(tables[inx])\n",
    "                col_types_t1 = infer_column_types(tables[inx + 1])\n",
    "                if col_types_t0 == col_types_t1:\n",
    "                    tables[inx] = pd.concat([tables[inx], tables[inx + 1]], ignore_index=True).reset_index(drop=True)\n",
    "                    del tables[inx + 1]\n",
    "                    continue # prevent considering the next table\n",
    "            inx += 1\n",
    "        return tables\n",
    "\n",
    "    @staticmethod\n",
    "    def parse_md_page(md_text: str) -> List[Tuple[Union[pd.DataFrame, str], PDFPartsTypes]]:\n",
    "        \"\"\"\n",
    "        Extracts tables and text from Markdown in the same order they appear.\n",
    "        Tables are returned as Pandas DataFrames, and text parts as strings.\n",
    "\n",
    "        :param md_text: Markdown string which represent PDF-document or PDF-page\n",
    "        :return: List[Tuple[Union[pd.DataFrame, str], PDFPartsTypes]]\n",
    "        \"\"\"\n",
    "        content = []\n",
    "\n",
    "        # Regular expression to match Markdown tables, allowing for optional spaces and missing cells\n",
    "        table_pattern = re.compile(\n",
    "            r'(\\|[^\\n]+\\|\\n(?:\\|[^\\n]+\\|\\n)*)',\n",
    "            re.MULTILINE\n",
    "        )\n",
    "        \n",
    "        # Split the text by tables\n",
    "        parts = table_pattern.split(md_text)\n",
    "\n",
    "        for part in parts:\n",
    "            part = part.strip()\n",
    "            if table_pattern.match(part):  # It's a table\n",
    "                df = MDParser._parse_md_table(part)\n",
    "                content.append((df, PDFPartsTypes.TABLE))\n",
    "            elif part:  # Non-empty text\n",
    "                content.append((str(part), PDFPartsTypes.TEXT))\n",
    "\n",
    "        return content\n",
    "\n",
    "    @staticmethod\n",
    "    def parse_md_doc(md_texts: List[str]) -> List[Tuple[Union[str, pd.DataFrame], PDFPartsTypes]]:\n",
    "        text_parts_processed = []\n",
    "        page_parts = []\n",
    "        combined_md_text = \"\"\n",
    "        collected_tables = []\n",
    "        \n",
    "        # Here might be a table parsing logic which use table position in text,\n",
    "        # so I keep pages after collecting tables\n",
    "        for md_text in md_texts:\n",
    "            page_parts.append(MDParser.parse_md_page(md_text))\n",
    "\n",
    "        # Cleaning redundant text parts and table combining procedure\n",
    "        for page_part in page_parts:\n",
    "            for pdata, pd_type in page_part:\n",
    "                if pd_type == PDFPartsTypes.TEXT:\n",
    "                    # DO NOT add to final text too small pieces of text\n",
    "                    # usually they are redundant\n",
    "                    pdata = pdata.strip()\n",
    "                    combined_md_text += pdata + \"\\n\" if (len(combined_md_text) > 0 or len(pdata) > MIN_TEXT_SIZE) else \"\"\n",
    "                elif pd_type == PDFPartsTypes.TABLE:\n",
    "                    collected_tables.append(pdata)\n",
    "        collected_tables = MDParser._merge_tables(collected_tables)\n",
    "        \n",
    "        if combined_md_text:\n",
    "            text_parts_processed.append((combined_md_text, PDFPartsTypes.TEXT))\n",
    "        text_parts_processed.extend([(df_table, PDFPartsTypes.TABLE) for df_table in collected_tables])\n",
    "        \n",
    "        return text_parts_processed"
   ],
   "id": "feeca350dd041e02",
   "outputs": [],
   "execution_count": 3
  },
  {
   "metadata": {
    "ExecuteTime": {
     "end_time": "2024-10-20T10:42:03.405799Z",
     "start_time": "2024-10-20T10:42:03.371098Z"
    }
   },
   "cell_type": "code",
   "source": "res = MDParser.parse_md_doc([doc[inx].text for inx in range(len(doc))])",
   "id": "b519efc31f633fb9",
   "outputs": [
    {
     "name": "stderr",
     "output_type": "stream",
     "text": [
      "C:\\Users\\voldo\\AppData\\Local\\Temp\\ipykernel_27516\\3921172019.py:53: UserWarning: Could not infer format, so each element will be parsed individually, falling back to `dateutil`. To ensure parsing is consistent and as-expected, please specify a format.\n",
      "  pd.to_datetime(df[col])\n",
      "C:\\Users\\voldo\\AppData\\Local\\Temp\\ipykernel_27516\\3921172019.py:53: UserWarning: Could not infer format, so each element will be parsed individually, falling back to `dateutil`. To ensure parsing is consistent and as-expected, please specify a format.\n",
      "  pd.to_datetime(df[col])\n",
      "C:\\Users\\voldo\\AppData\\Local\\Temp\\ipykernel_27516\\3921172019.py:53: UserWarning: Could not infer format, so each element will be parsed individually, falling back to `dateutil`. To ensure parsing is consistent and as-expected, please specify a format.\n",
      "  pd.to_datetime(df[col])\n",
      "C:\\Users\\voldo\\AppData\\Local\\Temp\\ipykernel_27516\\3921172019.py:53: UserWarning: Could not infer format, so each element will be parsed individually, falling back to `dateutil`. To ensure parsing is consistent and as-expected, please specify a format.\n",
      "  pd.to_datetime(df[col])\n",
      "C:\\Users\\voldo\\AppData\\Local\\Temp\\ipykernel_27516\\3921172019.py:53: UserWarning: Parsing dates in %d-%m-%Y format when dayfirst=False (the default) was specified. Pass `dayfirst=True` or specify a format to silence this warning.\n",
      "  pd.to_datetime(df[col])\n",
      "C:\\Users\\voldo\\AppData\\Local\\Temp\\ipykernel_27516\\3921172019.py:53: UserWarning: Could not infer format, so each element will be parsed individually, falling back to `dateutil`. To ensure parsing is consistent and as-expected, please specify a format.\n",
      "  pd.to_datetime(df[col])\n",
      "C:\\Users\\voldo\\AppData\\Local\\Temp\\ipykernel_27516\\3921172019.py:53: UserWarning: Could not infer format, so each element will be parsed individually, falling back to `dateutil`. To ensure parsing is consistent and as-expected, please specify a format.\n",
      "  pd.to_datetime(df[col])\n",
      "C:\\Users\\voldo\\AppData\\Local\\Temp\\ipykernel_27516\\3921172019.py:53: UserWarning: Could not infer format, so each element will be parsed individually, falling back to `dateutil`. To ensure parsing is consistent and as-expected, please specify a format.\n",
      "  pd.to_datetime(df[col])\n",
      "C:\\Users\\voldo\\AppData\\Local\\Temp\\ipykernel_27516\\3921172019.py:53: UserWarning: Could not infer format, so each element will be parsed individually, falling back to `dateutil`. To ensure parsing is consistent and as-expected, please specify a format.\n",
      "  pd.to_datetime(df[col])\n",
      "C:\\Users\\voldo\\AppData\\Local\\Temp\\ipykernel_27516\\3921172019.py:53: UserWarning: Parsing dates in %d-%m-%Y format when dayfirst=False (the default) was specified. Pass `dayfirst=True` or specify a format to silence this warning.\n",
      "  pd.to_datetime(df[col])\n",
      "C:\\Users\\voldo\\AppData\\Local\\Temp\\ipykernel_27516\\3921172019.py:53: UserWarning: Parsing dates in %d-%m-%Y format when dayfirst=False (the default) was specified. Pass `dayfirst=True` or specify a format to silence this warning.\n",
      "  pd.to_datetime(df[col])\n",
      "C:\\Users\\voldo\\AppData\\Local\\Temp\\ipykernel_27516\\3921172019.py:53: UserWarning: Could not infer format, so each element will be parsed individually, falling back to `dateutil`. To ensure parsing is consistent and as-expected, please specify a format.\n",
      "  pd.to_datetime(df[col])\n",
      "C:\\Users\\voldo\\AppData\\Local\\Temp\\ipykernel_27516\\3921172019.py:53: UserWarning: Could not infer format, so each element will be parsed individually, falling back to `dateutil`. To ensure parsing is consistent and as-expected, please specify a format.\n",
      "  pd.to_datetime(df[col])\n",
      "C:\\Users\\voldo\\AppData\\Local\\Temp\\ipykernel_27516\\3921172019.py:53: UserWarning: Could not infer format, so each element will be parsed individually, falling back to `dateutil`. To ensure parsing is consistent and as-expected, please specify a format.\n",
      "  pd.to_datetime(df[col])\n",
      "C:\\Users\\voldo\\AppData\\Local\\Temp\\ipykernel_27516\\3921172019.py:53: UserWarning: Could not infer format, so each element will be parsed individually, falling back to `dateutil`. To ensure parsing is consistent and as-expected, please specify a format.\n",
      "  pd.to_datetime(df[col])\n",
      "C:\\Users\\voldo\\AppData\\Local\\Temp\\ipykernel_27516\\3921172019.py:53: UserWarning: Parsing dates in %d-%m-%Y format when dayfirst=False (the default) was specified. Pass `dayfirst=True` or specify a format to silence this warning.\n",
      "  pd.to_datetime(df[col])\n",
      "C:\\Users\\voldo\\AppData\\Local\\Temp\\ipykernel_27516\\3921172019.py:53: UserWarning: Parsing dates in %d-%m-%Y format when dayfirst=False (the default) was specified. Pass `dayfirst=True` or specify a format to silence this warning.\n",
      "  pd.to_datetime(df[col])\n",
      "C:\\Users\\voldo\\AppData\\Local\\Temp\\ipykernel_27516\\3921172019.py:53: UserWarning: Could not infer format, so each element will be parsed individually, falling back to `dateutil`. To ensure parsing is consistent and as-expected, please specify a format.\n",
      "  pd.to_datetime(df[col])\n",
      "C:\\Users\\voldo\\AppData\\Local\\Temp\\ipykernel_27516\\3921172019.py:53: UserWarning: Could not infer format, so each element will be parsed individually, falling back to `dateutil`. To ensure parsing is consistent and as-expected, please specify a format.\n",
      "  pd.to_datetime(df[col])\n",
      "C:\\Users\\voldo\\AppData\\Local\\Temp\\ipykernel_27516\\3921172019.py:53: UserWarning: Could not infer format, so each element will be parsed individually, falling back to `dateutil`. To ensure parsing is consistent and as-expected, please specify a format.\n",
      "  pd.to_datetime(df[col])\n",
      "C:\\Users\\voldo\\AppData\\Local\\Temp\\ipykernel_27516\\3921172019.py:53: UserWarning: Could not infer format, so each element will be parsed individually, falling back to `dateutil`. To ensure parsing is consistent and as-expected, please specify a format.\n",
      "  pd.to_datetime(df[col])\n",
      "C:\\Users\\voldo\\AppData\\Local\\Temp\\ipykernel_27516\\3921172019.py:53: UserWarning: Parsing dates in %d-%m-%Y format when dayfirst=False (the default) was specified. Pass `dayfirst=True` or specify a format to silence this warning.\n",
      "  pd.to_datetime(df[col])\n",
      "C:\\Users\\voldo\\AppData\\Local\\Temp\\ipykernel_27516\\3921172019.py:53: UserWarning: Parsing dates in %d-%m-%Y format when dayfirst=False (the default) was specified. Pass `dayfirst=True` or specify a format to silence this warning.\n",
      "  pd.to_datetime(df[col])\n",
      "C:\\Users\\voldo\\AppData\\Local\\Temp\\ipykernel_27516\\3921172019.py:53: UserWarning: Could not infer format, so each element will be parsed individually, falling back to `dateutil`. To ensure parsing is consistent and as-expected, please specify a format.\n",
      "  pd.to_datetime(df[col])\n",
      "C:\\Users\\voldo\\AppData\\Local\\Temp\\ipykernel_27516\\3921172019.py:53: UserWarning: Could not infer format, so each element will be parsed individually, falling back to `dateutil`. To ensure parsing is consistent and as-expected, please specify a format.\n",
      "  pd.to_datetime(df[col])\n",
      "C:\\Users\\voldo\\AppData\\Local\\Temp\\ipykernel_27516\\3921172019.py:53: UserWarning: Could not infer format, so each element will be parsed individually, falling back to `dateutil`. To ensure parsing is consistent and as-expected, please specify a format.\n",
      "  pd.to_datetime(df[col])\n",
      "C:\\Users\\voldo\\AppData\\Local\\Temp\\ipykernel_27516\\3921172019.py:53: UserWarning: Could not infer format, so each element will be parsed individually, falling back to `dateutil`. To ensure parsing is consistent and as-expected, please specify a format.\n",
      "  pd.to_datetime(df[col])\n",
      "C:\\Users\\voldo\\AppData\\Local\\Temp\\ipykernel_27516\\3921172019.py:53: UserWarning: Parsing dates in %d-%m-%Y format when dayfirst=False (the default) was specified. Pass `dayfirst=True` or specify a format to silence this warning.\n",
      "  pd.to_datetime(df[col])\n",
      "C:\\Users\\voldo\\AppData\\Local\\Temp\\ipykernel_27516\\3921172019.py:53: UserWarning: Parsing dates in %d-%m-%Y format when dayfirst=False (the default) was specified. Pass `dayfirst=True` or specify a format to silence this warning.\n",
      "  pd.to_datetime(df[col])\n",
      "C:\\Users\\voldo\\AppData\\Local\\Temp\\ipykernel_27516\\3921172019.py:53: UserWarning: Could not infer format, so each element will be parsed individually, falling back to `dateutil`. To ensure parsing is consistent and as-expected, please specify a format.\n",
      "  pd.to_datetime(df[col])\n",
      "C:\\Users\\voldo\\AppData\\Local\\Temp\\ipykernel_27516\\3921172019.py:53: UserWarning: Could not infer format, so each element will be parsed individually, falling back to `dateutil`. To ensure parsing is consistent and as-expected, please specify a format.\n",
      "  pd.to_datetime(df[col])\n",
      "C:\\Users\\voldo\\AppData\\Local\\Temp\\ipykernel_27516\\3921172019.py:53: UserWarning: Could not infer format, so each element will be parsed individually, falling back to `dateutil`. To ensure parsing is consistent and as-expected, please specify a format.\n",
      "  pd.to_datetime(df[col])\n",
      "C:\\Users\\voldo\\AppData\\Local\\Temp\\ipykernel_27516\\3921172019.py:53: UserWarning: Could not infer format, so each element will be parsed individually, falling back to `dateutil`. To ensure parsing is consistent and as-expected, please specify a format.\n",
      "  pd.to_datetime(df[col])\n",
      "C:\\Users\\voldo\\AppData\\Local\\Temp\\ipykernel_27516\\3921172019.py:53: UserWarning: Could not infer format, so each element will be parsed individually, falling back to `dateutil`. To ensure parsing is consistent and as-expected, please specify a format.\n",
      "  pd.to_datetime(df[col])\n"
     ]
    }
   ],
   "execution_count": 4
  },
  {
   "metadata": {
    "ExecuteTime": {
     "end_time": "2024-10-20T10:42:10.181141Z",
     "start_time": "2024-10-20T10:42:10.176366Z"
    }
   },
   "cell_type": "code",
   "source": [
    "for res_single in res:\n",
    "    print(res_single[0].shape)"
   ],
   "id": "68d3c9a0fb4003bb",
   "outputs": [
    {
     "name": "stdout",
     "output_type": "stream",
     "text": [
      "(32, 5)\n",
      "(8, 11)\n",
      "(9, 11)\n",
      "(8, 10)\n",
      "(9, 11)\n",
      "(8, 11)\n",
      "(4, 11)\n",
      "(21, 6)\n"
     ]
    }
   ],
   "execution_count": 5
  },
  {
   "metadata": {},
   "cell_type": "code",
   "source": [
    "my_list = [1, 2, 1, 1]\n",
    "\n",
    "if all(2 == x for x in my_list):\n",
    "    print(\"All elements are the same.\")\n",
    "else:\n",
    "    print(\"Elements are different.\")"
   ],
   "id": "db8a4f849f422af7",
   "outputs": [],
   "execution_count": null
  },
  {
   "metadata": {},
   "cell_type": "code",
   "source": "print(doc[4].text)",
   "id": "6e9bd53db87f2dd2",
   "outputs": [],
   "execution_count": null
  },
  {
   "metadata": {},
   "cell_type": "code",
   "source": "",
   "id": "210490e380c6b951",
   "outputs": [],
   "execution_count": null
  },
  {
   "metadata": {},
   "cell_type": "code",
   "source": "",
   "id": "34877384adb8a516",
   "outputs": [],
   "execution_count": null
  },
  {
   "metadata": {},
   "cell_type": "code",
   "source": "",
   "id": "6a811e63d0e73041",
   "outputs": [],
   "execution_count": null
  }
 ],
 "metadata": {
  "kernelspec": {
   "display_name": "Python 3",
   "language": "python",
   "name": "python3"
  },
  "language_info": {
   "codemirror_mode": {
    "name": "ipython",
    "version": 2
   },
   "file_extension": ".py",
   "mimetype": "text/x-python",
   "name": "python",
   "nbconvert_exporter": "python",
   "pygments_lexer": "ipython2",
   "version": "2.7.6"
  }
 },
 "nbformat": 4,
 "nbformat_minor": 5
}
