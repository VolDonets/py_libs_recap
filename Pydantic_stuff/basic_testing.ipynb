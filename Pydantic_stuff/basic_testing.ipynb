{
 "cells": [
  {
   "metadata": {},
   "cell_type": "markdown",
   "source": "# Validation Example",
   "id": "15967ea19f1a6606"
  },
  {
   "metadata": {
    "ExecuteTime": {
     "end_time": "2024-10-06T17:10:39.617984Z",
     "start_time": "2024-10-06T17:10:39.529578Z"
    }
   },
   "cell_type": "code",
   "source": [
    "from datetime import datetime\n",
    "from pydantic import BaseModel, PositiveInt"
   ],
   "id": "7656663245f9c2e8",
   "outputs": [],
   "execution_count": 1
  },
  {
   "metadata": {
    "ExecuteTime": {
     "end_time": "2024-10-06T17:10:46.667185Z",
     "start_time": "2024-10-06T17:10:46.621178Z"
    }
   },
   "cell_type": "code",
   "source": [
    "class User(BaseModel):\n",
    "    id: int  \n",
    "    name: str = 'John Doe'  \n",
    "    signup_ts: datetime | None  \n",
    "    tastes: dict[str, PositiveInt]  "
   ],
   "id": "59773a0dffef86dd",
   "outputs": [],
   "execution_count": 2
  },
  {
   "metadata": {
    "ExecuteTime": {
     "end_time": "2024-10-06T17:10:58.132196Z",
     "start_time": "2024-10-06T17:10:58.129115Z"
    }
   },
   "cell_type": "code",
   "source": [
    "external_data = {\n",
    "    'id': 123,\n",
    "    'signup_ts': '2019-06-01 12:22',  \n",
    "    'tastes': {\n",
    "        'wine': 9,\n",
    "        b'cheese': 7,  \n",
    "        'cabbage': '1',  \n",
    "    },\n",
    "}"
   ],
   "id": "c03afc6fb93b3c0d",
   "outputs": [],
   "execution_count": 3
  },
  {
   "metadata": {
    "ExecuteTime": {
     "end_time": "2024-10-06T17:11:05.817625Z",
     "start_time": "2024-10-06T17:11:05.813644Z"
    }
   },
   "cell_type": "code",
   "source": "user = User(**external_data)",
   "id": "7f55cf1cbba82a93",
   "outputs": [],
   "execution_count": 4
  },
  {
   "metadata": {
    "ExecuteTime": {
     "end_time": "2024-10-06T17:11:08.759393Z",
     "start_time": "2024-10-06T17:11:08.753201Z"
    }
   },
   "cell_type": "code",
   "source": "user.id",
   "id": "a47ce4ee4eb3b6b2",
   "outputs": [
    {
     "data": {
      "text/plain": [
       "123"
      ]
     },
     "execution_count": 5,
     "metadata": {},
     "output_type": "execute_result"
    }
   ],
   "execution_count": 5
  },
  {
   "metadata": {
    "ExecuteTime": {
     "end_time": "2024-10-06T17:11:16.422064Z",
     "start_time": "2024-10-06T17:11:16.415529Z"
    }
   },
   "cell_type": "code",
   "source": "user.model_dump()",
   "id": "5f1ef0a8255b836a",
   "outputs": [
    {
     "data": {
      "text/plain": [
       "{'id': 123,\n",
       " 'name': 'John Doe',\n",
       " 'signup_ts': datetime.datetime(2019, 6, 1, 12, 22),\n",
       " 'tastes': {'wine': 9, 'cheese': 7, 'cabbage': 1}}"
      ]
     },
     "execution_count": 6,
     "metadata": {},
     "output_type": "execute_result"
    }
   ],
   "execution_count": 6
  },
  {
   "metadata": {},
   "cell_type": "markdown",
   "source": "# Example of validation error",
   "id": "d8c2dd27eca97b1b"
  },
  {
   "metadata": {
    "ExecuteTime": {
     "end_time": "2024-10-06T17:14:24.328148Z",
     "start_time": "2024-10-06T17:14:24.324485Z"
    }
   },
   "cell_type": "code",
   "source": [
    "from pydantic import ValidationError\n",
    "\n",
    "\n",
    "external_data = {'id': 'not an int', 'tastes': {}}\n",
    "try:\n",
    "    User(**external_data)  \n",
    "except ValidationError as e:\n",
    "    print(e.errors())"
   ],
   "id": "f9bb589e0c7368ac",
   "outputs": [
    {
     "name": "stdout",
     "output_type": "stream",
     "text": [
      "[{'type': 'int_parsing', 'loc': ('id',), 'msg': 'Input should be a valid integer, unable to parse string as an integer', 'input': 'not an int', 'url': 'https://errors.pydantic.dev/2.9/v/int_parsing'}, {'type': 'missing', 'loc': ('signup_ts',), 'msg': 'Field required', 'input': {'id': 'not an int', 'tastes': {}}, 'url': 'https://errors.pydantic.dev/2.9/v/missing'}]\n"
     ]
    }
   ],
   "execution_count": 12
  },
  {
   "metadata": {},
   "cell_type": "code",
   "outputs": [],
   "execution_count": null,
   "source": "",
   "id": "ce34712e0308c08d"
  },
  {
   "metadata": {
    "ExecuteTime": {
     "end_time": "2024-10-06T21:55:33.318164Z",
     "start_time": "2024-10-06T21:55:33.281265Z"
    }
   },
   "cell_type": "code",
   "source": [
    "from typing import Annotated, Literal\n",
    "from annotated_types import Gt\n",
    "from pydantic import BaseModel\n",
    "\n",
    "\n",
    "class Fruit(BaseModel):\n",
    "    name: str  \n",
    "    color: Literal['red', 'green']  \n",
    "    weight: Annotated[float, Gt(0)]  \n",
    "    bazam: dict[str, list[tuple[int, bool, float]]]  \n",
    "\n",
    "\n",
    "print(\n",
    "    Fruit(\n",
    "        name='Apple',\n",
    "        color='red',\n",
    "        weight=4.2,\n",
    "        bazam={'foobar': [(1, True, 0.1)]},\n",
    "    )\n",
    ")"
   ],
   "id": "9a66cb070b5117d9",
   "outputs": [
    {
     "name": "stdout",
     "output_type": "stream",
     "text": [
      "name='Apple' color='red' weight=4.2 bazam={'foobar': [(1, True, 0.1)]}\n"
     ]
    }
   ],
   "execution_count": 13
  },
  {
   "metadata": {},
   "cell_type": "markdown",
   "source": "# Serialization",
   "id": "cb88bde7db8f2d17"
  },
  {
   "metadata": {
    "ExecuteTime": {
     "end_time": "2024-10-06T22:32:58.795652Z",
     "start_time": "2024-10-06T22:32:58.787428Z"
    }
   },
   "cell_type": "code",
   "source": [
    "class Meeting(BaseModel):\n",
    "    when: datetime\n",
    "    where: bytes\n",
    "    why: str = 'No idea'\n",
    "\n",
    "\n",
    "m = Meeting(when='2020-01-01T12:00', where='home')"
   ],
   "id": "d68eae39cd5562c2",
   "outputs": [],
   "execution_count": 14
  },
  {
   "metadata": {
    "ExecuteTime": {
     "end_time": "2024-10-06T22:32:59.154490Z",
     "start_time": "2024-10-06T22:32:59.142042Z"
    }
   },
   "cell_type": "code",
   "source": "m.model_dump(exclude_unset=True)",
   "id": "4d28050349010be7",
   "outputs": [
    {
     "data": {
      "text/plain": [
       "{'when': datetime.datetime(2020, 1, 1, 12, 0), 'where': b'home'}"
      ]
     },
     "execution_count": 15,
     "metadata": {},
     "output_type": "execute_result"
    }
   ],
   "execution_count": 15
  },
  {
   "metadata": {
    "ExecuteTime": {
     "end_time": "2024-10-06T22:32:59.527596Z",
     "start_time": "2024-10-06T22:32:59.522048Z"
    }
   },
   "cell_type": "code",
   "source": "m.model_dump(exclude={'where'}, mode='json')",
   "id": "c1b707a9c43d8a3e",
   "outputs": [
    {
     "data": {
      "text/plain": [
       "{'when': '2020-01-01T12:00:00', 'why': 'No idea'}"
      ]
     },
     "execution_count": 16,
     "metadata": {},
     "output_type": "execute_result"
    }
   ],
   "execution_count": 16
  },
  {
   "metadata": {
    "ExecuteTime": {
     "end_time": "2024-10-06T22:33:00.069159Z",
     "start_time": "2024-10-06T22:33:00.063069Z"
    }
   },
   "cell_type": "code",
   "source": "m.model_dump_json(exclude_defaults=True)",
   "id": "2d0a1ac6dca8612a",
   "outputs": [
    {
     "data": {
      "text/plain": [
       "'{\"when\":\"2020-01-01T12:00:00\",\"where\":\"home\"}'"
      ]
     },
     "execution_count": 17,
     "metadata": {},
     "output_type": "execute_result"
    }
   ],
   "execution_count": 17
  },
  {
   "metadata": {},
   "cell_type": "markdown",
   "source": "# JSON Schema",
   "id": "ce6f55df321c584a"
  },
  {
   "metadata": {
    "ExecuteTime": {
     "end_time": "2024-10-06T22:34:14.540410Z",
     "start_time": "2024-10-06T22:34:14.510412Z"
    }
   },
   "cell_type": "code",
   "source": [
    "from datetime import datetime\n",
    "\n",
    "from pydantic import BaseModel\n",
    "\n",
    "\n",
    "class Address(BaseModel):\n",
    "    street: str\n",
    "    city: str\n",
    "    zipcode: str\n",
    "\n",
    "\n",
    "class Meeting(BaseModel):\n",
    "    when: datetime\n",
    "    where: Address\n",
    "    why: str = 'No idea'"
   ],
   "id": "c683ac1689b50bc5",
   "outputs": [
    {
     "name": "stdout",
     "output_type": "stream",
     "text": [
      "{'$defs': {'Address': {'properties': {'street': {'title': 'Street', 'type': 'string'}, 'city': {'title': 'City', 'type': 'string'}, 'zipcode': {'title': 'Zipcode', 'type': 'string'}}, 'required': ['street', 'city', 'zipcode'], 'title': 'Address', 'type': 'object'}}, 'properties': {'when': {'format': 'date-time', 'title': 'When', 'type': 'string'}, 'where': {'$ref': '#/$defs/Address'}, 'why': {'default': 'No idea', 'title': 'Why', 'type': 'string'}}, 'required': ['when', 'where'], 'title': 'Meeting', 'type': 'object'}\n"
     ]
    }
   ],
   "execution_count": 18
  },
  {
   "metadata": {
    "ExecuteTime": {
     "end_time": "2024-10-06T22:34:36.559033Z",
     "start_time": "2024-10-06T22:34:36.552910Z"
    }
   },
   "cell_type": "code",
   "source": "Meeting.model_json_schema()",
   "id": "97fd9db806338e4",
   "outputs": [
    {
     "data": {
      "text/plain": [
       "{'$defs': {'Address': {'properties': {'street': {'title': 'Street',\n",
       "     'type': 'string'},\n",
       "    'city': {'title': 'City', 'type': 'string'},\n",
       "    'zipcode': {'title': 'Zipcode', 'type': 'string'}},\n",
       "   'required': ['street', 'city', 'zipcode'],\n",
       "   'title': 'Address',\n",
       "   'type': 'object'}},\n",
       " 'properties': {'when': {'format': 'date-time',\n",
       "   'title': 'When',\n",
       "   'type': 'string'},\n",
       "  'where': {'$ref': '#/$defs/Address'},\n",
       "  'why': {'default': 'No idea', 'title': 'Why', 'type': 'string'}},\n",
       " 'required': ['when', 'where'],\n",
       " 'title': 'Meeting',\n",
       " 'type': 'object'}"
      ]
     },
     "execution_count": 19,
     "metadata": {},
     "output_type": "execute_result"
    }
   ],
   "execution_count": 19
  },
  {
   "metadata": {},
   "cell_type": "markdown",
   "source": "# Strict Mode is usefull",
   "id": "a6a3bddc8bf8eddf"
  },
  {
   "metadata": {
    "ExecuteTime": {
     "end_time": "2024-10-07T08:20:59.641391Z",
     "start_time": "2024-10-07T08:20:59.619236Z"
    }
   },
   "cell_type": "code",
   "source": [
    "from datetime import datetime\n",
    "\n",
    "from pydantic import BaseModel, ValidationError\n",
    "\n",
    "\n",
    "class Meeting(BaseModel):\n",
    "    when: datetime\n",
    "    where: bytes\n",
    "\n",
    "\n",
    "m = Meeting.model_validate({'when': '2020-01-01T12:00', 'where': 'home'})\n",
    "print(m)\n",
    "\n",
    "try:\n",
    "    m = Meeting.model_validate(\n",
    "        {'when': '2020-01-01T12:00', 'where': 'home'}, strict=True\n",
    "    )\n",
    "except ValidationError as e:\n",
    "    print(e)\n",
    "    \"\"\"\n",
    "    2 validation errors for Meeting\n",
    "    when\n",
    "      Input should be a valid datetime [type=datetime_type, input_value='2020-01-01T12:00', input_type=str]\n",
    "    where\n",
    "      Input should be a valid bytes [type=bytes_type, input_value='home', input_type=str]\n",
    "    \"\"\"\n",
    "\n",
    "m_json = Meeting.model_validate_json(\n",
    "    '{\"when\": \"2020-01-01T12:00\", \"where\": \"home\"}'\n",
    ")\n",
    "print(m_json)"
   ],
   "id": "bc687989b761187c",
   "outputs": [
    {
     "name": "stdout",
     "output_type": "stream",
     "text": [
      "when=datetime.datetime(2020, 1, 1, 12, 0) where=b'home'\n",
      "2 validation errors for Meeting\n",
      "when\n",
      "  Input should be a valid datetime [type=datetime_type, input_value='2020-01-01T12:00', input_type=str]\n",
      "    For further information visit https://errors.pydantic.dev/2.9/v/datetime_type\n",
      "where\n",
      "  Input should be a valid bytes [type=bytes_type, input_value='home', input_type=str]\n",
      "    For further information visit https://errors.pydantic.dev/2.9/v/bytes_type\n",
      "when=datetime.datetime(2020, 1, 1, 12, 0) where=b'home'\n"
     ]
    }
   ],
   "execution_count": 20
  },
  {
   "metadata": {},
   "cell_type": "markdown",
   "source": "# Dataclasses, TypedDicts, and more",
   "id": "bba0b76ebc9dd733"
  },
  {
   "metadata": {
    "ExecuteTime": {
     "end_time": "2024-10-07T08:30:13.371710Z",
     "start_time": "2024-10-07T08:30:13.362995Z"
    }
   },
   "cell_type": "code",
   "source": [
    "from datetime import datetime\n",
    "\n",
    "from typing_extensions import NotRequired, TypedDict\n",
    "\n",
    "from pydantic import TypeAdapter\n",
    "\n",
    "\n",
    "class Meeting(TypedDict):\n",
    "    when: datetime\n",
    "    where: bytes\n",
    "    why: NotRequired[str]\n",
    "\n",
    "\n",
    "meeting_adapter = TypeAdapter(Meeting)\n",
    "m = meeting_adapter.validate_python(  \n",
    "    {'when': '2020-01-01T12:00', 'where': 'home'}\n",
    ")\n",
    "print(m)\n",
    "#> {'when': datetime.datetime(2020, 1, 1, 12, 0), 'where': b'home'}\n",
    "meeting_adapter.dump_python(m, exclude={'where'})  "
   ],
   "id": "12cf7efe07eed432",
   "outputs": [
    {
     "name": "stdout",
     "output_type": "stream",
     "text": [
      "{'when': datetime.datetime(2020, 1, 1, 12, 0), 'where': b'home'}\n"
     ]
    },
    {
     "data": {
      "text/plain": [
       "{'when': datetime.datetime(2020, 1, 1, 12, 0)}"
      ]
     },
     "execution_count": 23,
     "metadata": {},
     "output_type": "execute_result"
    }
   ],
   "execution_count": 23
  },
  {
   "metadata": {
    "ExecuteTime": {
     "end_time": "2024-10-07T08:30:16.717530Z",
     "start_time": "2024-10-07T08:30:16.712456Z"
    }
   },
   "cell_type": "code",
   "source": "meeting_adapter.json_schema()",
   "id": "d44be74b5575971b",
   "outputs": [
    {
     "data": {
      "text/plain": [
       "{'properties': {'when': {'format': 'date-time',\n",
       "   'title': 'When',\n",
       "   'type': 'string'},\n",
       "  'where': {'format': 'binary', 'title': 'Where', 'type': 'string'},\n",
       "  'why': {'title': 'Why', 'type': 'string'}},\n",
       " 'required': ['when', 'where'],\n",
       " 'title': 'Meeting',\n",
       " 'type': 'object'}"
      ]
     },
     "execution_count": 24,
     "metadata": {},
     "output_type": "execute_result"
    }
   ],
   "execution_count": 24
  },
  {
   "metadata": {},
   "cell_type": "markdown",
   "source": "# Customization",
   "id": "c98593edd63459d3"
  },
  {
   "metadata": {
    "ExecuteTime": {
     "end_time": "2024-10-07T08:32:18.681360Z",
     "start_time": "2024-10-07T08:32:18.673103Z"
    }
   },
   "cell_type": "code",
   "source": [
    "from datetime import datetime, timezone\n",
    "from typing import Any\n",
    "\n",
    "from pydantic_core.core_schema import ValidatorFunctionWrapHandler\n",
    "\n",
    "from pydantic import BaseModel, field_validator\n",
    "\n",
    "\n",
    "class Meeting(BaseModel):\n",
    "    when: datetime\n",
    "\n",
    "    @field_validator('when', mode='wrap')\n",
    "    def when_now(\n",
    "        cls, input_value: Any, handler: ValidatorFunctionWrapHandler\n",
    "    ) -> datetime:\n",
    "        if input_value == 'now':\n",
    "            return datetime.now()\n",
    "        when = handler(input_value)\n",
    "        # in this specific application we know tz naive datetimes are in UTC\n",
    "        if when.tzinfo is None:\n",
    "            when = when.replace(tzinfo=timezone.utc)\n",
    "        return when"
   ],
   "id": "572bf3e743854342",
   "outputs": [],
   "execution_count": 25
  },
  {
   "metadata": {
    "ExecuteTime": {
     "end_time": "2024-10-07T08:32:19.143054Z",
     "start_time": "2024-10-07T08:32:19.136573Z"
    }
   },
   "cell_type": "code",
   "source": "Meeting(when='2020-01-01T12:00+01:00')",
   "id": "54fd741582e143f9",
   "outputs": [
    {
     "data": {
      "text/plain": [
       "Meeting(when=datetime.datetime(2020, 1, 1, 12, 0, tzinfo=TzInfo(+01:00)))"
      ]
     },
     "execution_count": 26,
     "metadata": {},
     "output_type": "execute_result"
    }
   ],
   "execution_count": 26
  },
  {
   "metadata": {
    "ExecuteTime": {
     "end_time": "2024-10-07T08:32:19.717413Z",
     "start_time": "2024-10-07T08:32:19.712661Z"
    }
   },
   "cell_type": "code",
   "source": "Meeting(when='now')",
   "id": "9eff7169e916d18a",
   "outputs": [
    {
     "data": {
      "text/plain": [
       "Meeting(when=datetime.datetime(2024, 10, 7, 11, 32, 19, 713658))"
      ]
     },
     "execution_count": 27,
     "metadata": {},
     "output_type": "execute_result"
    }
   ],
   "execution_count": 27
  },
  {
   "metadata": {
    "ExecuteTime": {
     "end_time": "2024-10-07T08:32:20.255836Z",
     "start_time": "2024-10-07T08:32:20.251384Z"
    }
   },
   "cell_type": "code",
   "source": "Meeting(when='2020-01-01T12:00')",
   "id": "a8c856ebf25ddde",
   "outputs": [
    {
     "data": {
      "text/plain": [
       "Meeting(when=datetime.datetime(2020, 1, 1, 12, 0, tzinfo=datetime.timezone.utc))"
      ]
     },
     "execution_count": 28,
     "metadata": {},
     "output_type": "execute_result"
    }
   ],
   "execution_count": 28
  },
  {
   "metadata": {},
   "cell_type": "code",
   "outputs": [],
   "execution_count": null,
   "source": "",
   "id": "3502a5509684adc6"
  },
  {
   "metadata": {},
   "cell_type": "code",
   "outputs": [],
   "execution_count": null,
   "source": "",
   "id": "522e4aaabc2980e6"
  },
  {
   "metadata": {},
   "cell_type": "code",
   "outputs": [],
   "execution_count": null,
   "source": "",
   "id": "3adf8f55f7050aee"
  },
  {
   "metadata": {},
   "cell_type": "code",
   "outputs": [],
   "execution_count": null,
   "source": "",
   "id": "3f695fffeb19d4e1"
  }
 ],
 "metadata": {
  "kernelspec": {
   "display_name": "Python 3",
   "language": "python",
   "name": "python3"
  },
  "language_info": {
   "codemirror_mode": {
    "name": "ipython",
    "version": 2
   },
   "file_extension": ".py",
   "mimetype": "text/x-python",
   "name": "python",
   "nbconvert_exporter": "python",
   "pygments_lexer": "ipython2",
   "version": "2.7.6"
  }
 },
 "nbformat": 4,
 "nbformat_minor": 5
}
