{
 "cells": [
  {
   "metadata": {},
   "cell_type": "markdown",
   "source": "# SQLAlchemy Core: Establishing Connectivity",
   "id": "e75baf62ecdb6e87"
  },
  {
   "metadata": {
    "ExecuteTime": {
     "end_time": "2024-10-02T09:13:11.027245Z",
     "start_time": "2024-10-02T09:13:10.871991Z"
    }
   },
   "cell_type": "code",
   "source": [
    "from sqlalchemy import create_engine\n",
    "\n",
    "\n",
    "engine = create_engine(\"sqlite+pysqlite:///:memory:\", echo=True)\n",
    "# 'sqlite' -- what kind of DB we communicate.\n",
    "# 'pysqlite' -- what kind of DBAPI we use. If omitted, SQLAlchemy will use a default DBAPI.\n",
    "# '/:memory:' -- how we locate the database."
   ],
   "id": "a36eaddee90ab277",
   "outputs": [],
   "execution_count": 1
  },
  {
   "metadata": {},
   "cell_type": "markdown",
   "source": "# SQLAlchemy Core: Working with Transactions and the DBAPI",
   "id": "70dd793aa756ea8"
  },
  {
   "metadata": {
    "ExecuteTime": {
     "end_time": "2024-10-02T09:31:31.732878Z",
     "start_time": "2024-10-02T09:31:31.722240Z"
    }
   },
   "cell_type": "code",
   "source": [
    "from sqlalchemy import text\n",
    "\n",
    "\n",
    "with engine.connect() as conn:\n",
    "    result = conn.execute(text(\"select 'hello world'\"))\n",
    "    print(result.all())"
   ],
   "id": "2a234ea28cb11835",
   "outputs": [
    {
     "name": "stdout",
     "output_type": "stream",
     "text": [
      "2024-10-02 12:31:31,725 INFO sqlalchemy.engine.Engine BEGIN (implicit)\n",
      "2024-10-02 12:31:31,727 INFO sqlalchemy.engine.Engine select 'hello world'\n",
      "2024-10-02 12:31:31,729 INFO sqlalchemy.engine.Engine [generated in 0.00245s] ()\n",
      "[('hello world',)]\n",
      "2024-10-02 12:31:31,730 INFO sqlalchemy.engine.Engine ROLLBACK\n"
     ]
    }
   ],
   "execution_count": 2
  },
  {
   "metadata": {
    "ExecuteTime": {
     "end_time": "2024-10-02T09:33:41.190965Z",
     "start_time": "2024-10-02T09:33:41.180140Z"
    }
   },
   "cell_type": "code",
   "source": [
    "# 'commit as you go'\n",
    "with engine.connect() as conn:\n",
    "    conn.execute(text(\"CREATE TABLE some_table (x int, y int)\"))\n",
    "    conn.execute(\n",
    "        text(\"INSERT INTO some_table (x, y) VALUES (:x, :y)\"),\n",
    "        [{\"x\": 1, \"y\": 1}, {\"x\": 2, \"y\": 4}],\n",
    "    )\n",
    "    conn.commit()"
   ],
   "id": "bfbeb383085a3b2",
   "outputs": [
    {
     "name": "stdout",
     "output_type": "stream",
     "text": [
      "2024-10-02 12:33:41,182 INFO sqlalchemy.engine.Engine BEGIN (implicit)\n",
      "2024-10-02 12:33:41,183 INFO sqlalchemy.engine.Engine CREATE TABLE some_table (x int, y int)\n",
      "2024-10-02 12:33:41,185 INFO sqlalchemy.engine.Engine [generated in 0.00248s] ()\n",
      "2024-10-02 12:33:41,186 INFO sqlalchemy.engine.Engine INSERT INTO some_table (x, y) VALUES (?, ?)\n",
      "2024-10-02 12:33:41,187 INFO sqlalchemy.engine.Engine [generated in 0.00063s] [(1, 1), (2, 4)]\n",
      "2024-10-02 12:33:41,189 INFO sqlalchemy.engine.Engine COMMIT\n"
     ]
    }
   ],
   "execution_count": 3
  },
  {
   "metadata": {
    "ExecuteTime": {
     "end_time": "2024-10-02T09:38:31.875460Z",
     "start_time": "2024-10-02T09:38:31.866851Z"
    }
   },
   "cell_type": "code",
   "source": [
    "# 'begin once'\n",
    "# this block do NOT require .commit() in the end, because \n",
    "# it will ROLLBACK if an exception was raised\n",
    "with engine.begin() as conn:\n",
    "    conn.execute(\n",
    "        text(\"INSERT INTO some_table (x, y) VALUES (:x, :y)\"),\n",
    "        [{\"x\": 6, \"y\": 8}, {\"x\": 9, \"y\": 10}],\n",
    "    )"
   ],
   "id": "c10103ce345b47d3",
   "outputs": [
    {
     "name": "stdout",
     "output_type": "stream",
     "text": [
      "2024-10-02 12:38:31,869 INFO sqlalchemy.engine.Engine BEGIN (implicit)\n",
      "2024-10-02 12:38:31,870 INFO sqlalchemy.engine.Engine INSERT INTO some_table (x, y) VALUES (?, ?)\n",
      "2024-10-02 12:38:31,871 INFO sqlalchemy.engine.Engine [cached since 290.7s ago] [(6, 8), (9, 10)]\n",
      "2024-10-02 12:38:31,872 INFO sqlalchemy.engine.Engine COMMIT\n"
     ]
    }
   ],
   "execution_count": 4
  },
  {
   "metadata": {
    "ExecuteTime": {
     "end_time": "2024-10-02T09:40:17.201648Z",
     "start_time": "2024-10-02T09:40:16.047155Z"
    }
   },
   "cell_type": "code",
   "source": [
    "# 'begin once'\n",
    "# with ERROR\n",
    "with engine.begin() as conn:\n",
    "    conn.execute(\n",
    "        text(\"INSERT INTO some_table (x, y) VALUES (:x, :y)\"),\n",
    "        [{\"x\": 45, \"ye\": 32}, {\"x\": 9, \"y\": 10, \"z\": 11}],\n",
    "    )"
   ],
   "id": "2e3f40b3ac9c72f7",
   "outputs": [
    {
     "name": "stdout",
     "output_type": "stream",
     "text": [
      "2024-10-02 12:40:16,050 INFO sqlalchemy.engine.Engine BEGIN (implicit)\n",
      "2024-10-02 12:40:16,051 INFO sqlalchemy.engine.Engine ROLLBACK\n"
     ]
    },
    {
     "ename": "StatementError",
     "evalue": "(sqlalchemy.exc.InvalidRequestError) A value is required for bind parameter 'y'\n[SQL: INSERT INTO some_table (x, y) VALUES (?, ?)]\n[parameters: [{'x': 45, 'ye': 32}, {'x': 9, 'y': 10, 'z': 11}]]\n(Background on this error at: https://sqlalche.me/e/20/cd3x)",
     "output_type": "error",
     "traceback": [
      "\u001B[1;31m---------------------------------------------------------------------------\u001B[0m",
      "\u001B[1;31mInvalidRequestError\u001B[0m                       Traceback (most recent call last)",
      "File \u001B[1;32mD:\\documents\\verenia_projects\\seraf\\.venv\\Lib\\site-packages\\sqlalchemy\\engine\\base.py:1815\u001B[0m, in \u001B[0;36mConnection._execute_context\u001B[1;34m(self, dialect, constructor, statement, parameters, execution_options, *args, **kw)\u001B[0m\n\u001B[0;32m   1813\u001B[0m         conn \u001B[38;5;241m=\u001B[39m \u001B[38;5;28mself\u001B[39m\u001B[38;5;241m.\u001B[39m_revalidate_connection()\n\u001B[1;32m-> 1815\u001B[0m     context \u001B[38;5;241m=\u001B[39m \u001B[43mconstructor\u001B[49m\u001B[43m(\u001B[49m\n\u001B[0;32m   1816\u001B[0m \u001B[43m        \u001B[49m\u001B[43mdialect\u001B[49m\u001B[43m,\u001B[49m\u001B[43m \u001B[49m\u001B[38;5;28;43mself\u001B[39;49m\u001B[43m,\u001B[49m\u001B[43m \u001B[49m\u001B[43mconn\u001B[49m\u001B[43m,\u001B[49m\u001B[43m \u001B[49m\u001B[43mexecution_options\u001B[49m\u001B[43m,\u001B[49m\u001B[43m \u001B[49m\u001B[38;5;241;43m*\u001B[39;49m\u001B[43margs\u001B[49m\u001B[43m,\u001B[49m\u001B[43m \u001B[49m\u001B[38;5;241;43m*\u001B[39;49m\u001B[38;5;241;43m*\u001B[39;49m\u001B[43mkw\u001B[49m\n\u001B[0;32m   1817\u001B[0m \u001B[43m    \u001B[49m\u001B[43m)\u001B[49m\n\u001B[0;32m   1818\u001B[0m \u001B[38;5;28;01mexcept\u001B[39;00m (exc\u001B[38;5;241m.\u001B[39mPendingRollbackError, exc\u001B[38;5;241m.\u001B[39mResourceClosedError):\n",
      "File \u001B[1;32mD:\\documents\\verenia_projects\\seraf\\.venv\\Lib\\site-packages\\sqlalchemy\\engine\\default.py:1396\u001B[0m, in \u001B[0;36mDefaultExecutionContext._init_compiled\u001B[1;34m(cls, dialect, connection, dbapi_connection, execution_options, compiled, parameters, invoked_statement, extracted_parameters, cache_hit)\u001B[0m\n\u001B[0;32m   1395\u001B[0m \u001B[38;5;28;01melse\u001B[39;00m:\n\u001B[1;32m-> 1396\u001B[0m     \u001B[38;5;28mself\u001B[39m\u001B[38;5;241m.\u001B[39mcompiled_parameters \u001B[38;5;241m=\u001B[39m \u001B[43m[\u001B[49m\n\u001B[0;32m   1397\u001B[0m \u001B[43m        \u001B[49m\u001B[43mcompiled\u001B[49m\u001B[38;5;241;43m.\u001B[39;49m\u001B[43mconstruct_params\u001B[49m\u001B[43m(\u001B[49m\n\u001B[0;32m   1398\u001B[0m \u001B[43m            \u001B[49m\u001B[43mm\u001B[49m\u001B[43m,\u001B[49m\n\u001B[0;32m   1399\u001B[0m \u001B[43m            \u001B[49m\u001B[43mescape_names\u001B[49m\u001B[38;5;241;43m=\u001B[39;49m\u001B[38;5;28;43;01mFalse\u001B[39;49;00m\u001B[43m,\u001B[49m\n\u001B[0;32m   1400\u001B[0m \u001B[43m            \u001B[49m\u001B[43m_group_number\u001B[49m\u001B[38;5;241;43m=\u001B[39;49m\u001B[43mgrp\u001B[49m\u001B[43m,\u001B[49m\n\u001B[0;32m   1401\u001B[0m \u001B[43m            \u001B[49m\u001B[43mextracted_parameters\u001B[49m\u001B[38;5;241;43m=\u001B[39;49m\u001B[43mextracted_parameters\u001B[49m\u001B[43m,\u001B[49m\n\u001B[0;32m   1402\u001B[0m \u001B[43m        \u001B[49m\u001B[43m)\u001B[49m\n\u001B[0;32m   1403\u001B[0m \u001B[43m        \u001B[49m\u001B[38;5;28;43;01mfor\u001B[39;49;00m\u001B[43m \u001B[49m\u001B[43mgrp\u001B[49m\u001B[43m,\u001B[49m\u001B[43m \u001B[49m\u001B[43mm\u001B[49m\u001B[43m \u001B[49m\u001B[38;5;129;43;01min\u001B[39;49;00m\u001B[43m \u001B[49m\u001B[38;5;28;43menumerate\u001B[39;49m\u001B[43m(\u001B[49m\u001B[43mparameters\u001B[49m\u001B[43m)\u001B[49m\n\u001B[0;32m   1404\u001B[0m \u001B[43m    \u001B[49m\u001B[43m]\u001B[49m\n\u001B[0;32m   1406\u001B[0m     \u001B[38;5;28;01mif\u001B[39;00m \u001B[38;5;28mlen\u001B[39m(parameters) \u001B[38;5;241m>\u001B[39m \u001B[38;5;241m1\u001B[39m:\n",
      "File \u001B[1;32mD:\\documents\\verenia_projects\\seraf\\.venv\\Lib\\site-packages\\sqlalchemy\\engine\\default.py:1397\u001B[0m, in \u001B[0;36m<listcomp>\u001B[1;34m(.0)\u001B[0m\n\u001B[0;32m   1395\u001B[0m \u001B[38;5;28;01melse\u001B[39;00m:\n\u001B[0;32m   1396\u001B[0m     \u001B[38;5;28mself\u001B[39m\u001B[38;5;241m.\u001B[39mcompiled_parameters \u001B[38;5;241m=\u001B[39m [\n\u001B[1;32m-> 1397\u001B[0m         \u001B[43mcompiled\u001B[49m\u001B[38;5;241;43m.\u001B[39;49m\u001B[43mconstruct_params\u001B[49m\u001B[43m(\u001B[49m\n\u001B[0;32m   1398\u001B[0m \u001B[43m            \u001B[49m\u001B[43mm\u001B[49m\u001B[43m,\u001B[49m\n\u001B[0;32m   1399\u001B[0m \u001B[43m            \u001B[49m\u001B[43mescape_names\u001B[49m\u001B[38;5;241;43m=\u001B[39;49m\u001B[38;5;28;43;01mFalse\u001B[39;49;00m\u001B[43m,\u001B[49m\n\u001B[0;32m   1400\u001B[0m \u001B[43m            \u001B[49m\u001B[43m_group_number\u001B[49m\u001B[38;5;241;43m=\u001B[39;49m\u001B[43mgrp\u001B[49m\u001B[43m,\u001B[49m\n\u001B[0;32m   1401\u001B[0m \u001B[43m            \u001B[49m\u001B[43mextracted_parameters\u001B[49m\u001B[38;5;241;43m=\u001B[39;49m\u001B[43mextracted_parameters\u001B[49m\u001B[43m,\u001B[49m\n\u001B[0;32m   1402\u001B[0m \u001B[43m        \u001B[49m\u001B[43m)\u001B[49m\n\u001B[0;32m   1403\u001B[0m         \u001B[38;5;28;01mfor\u001B[39;00m grp, m \u001B[38;5;129;01min\u001B[39;00m \u001B[38;5;28menumerate\u001B[39m(parameters)\n\u001B[0;32m   1404\u001B[0m     ]\n\u001B[0;32m   1406\u001B[0m     \u001B[38;5;28;01mif\u001B[39;00m \u001B[38;5;28mlen\u001B[39m(parameters) \u001B[38;5;241m>\u001B[39m \u001B[38;5;241m1\u001B[39m:\n",
      "File \u001B[1;32mD:\\documents\\verenia_projects\\seraf\\.venv\\Lib\\site-packages\\sqlalchemy\\sql\\compiler.py:1894\u001B[0m, in \u001B[0;36mSQLCompiler.construct_params\u001B[1;34m(self, params, extracted_parameters, escape_names, _group_number, _check, _no_postcompile)\u001B[0m\n\u001B[0;32m   1893\u001B[0m     \u001B[38;5;28;01melse\u001B[39;00m:\n\u001B[1;32m-> 1894\u001B[0m         \u001B[38;5;28;01mraise\u001B[39;00m exc\u001B[38;5;241m.\u001B[39mInvalidRequestError(\n\u001B[0;32m   1895\u001B[0m             \u001B[38;5;124m\"\u001B[39m\u001B[38;5;124mA value is required for bind parameter \u001B[39m\u001B[38;5;132;01m%r\u001B[39;00m\u001B[38;5;124m\"\u001B[39m\n\u001B[0;32m   1896\u001B[0m             \u001B[38;5;241m%\u001B[39m bindparam\u001B[38;5;241m.\u001B[39mkey,\n\u001B[0;32m   1897\u001B[0m             code\u001B[38;5;241m=\u001B[39m\u001B[38;5;124m\"\u001B[39m\u001B[38;5;124mcd3x\u001B[39m\u001B[38;5;124m\"\u001B[39m,\n\u001B[0;32m   1898\u001B[0m         )\n\u001B[0;32m   1899\u001B[0m \u001B[38;5;28;01melse\u001B[39;00m:\n",
      "\u001B[1;31mInvalidRequestError\u001B[0m: A value is required for bind parameter 'y' (Background on this error at: https://sqlalche.me/e/20/cd3x)",
      "\nThe above exception was the direct cause of the following exception:\n",
      "\u001B[1;31mStatementError\u001B[0m                            Traceback (most recent call last)",
      "Cell \u001B[1;32mIn[6], line 4\u001B[0m\n\u001B[0;32m      1\u001B[0m \u001B[38;5;66;03m# 'begin once'\u001B[39;00m\n\u001B[0;32m      2\u001B[0m \u001B[38;5;66;03m# with ERROR\u001B[39;00m\n\u001B[0;32m      3\u001B[0m \u001B[38;5;28;01mwith\u001B[39;00m engine\u001B[38;5;241m.\u001B[39mbegin() \u001B[38;5;28;01mas\u001B[39;00m conn:\n\u001B[1;32m----> 4\u001B[0m     \u001B[43mconn\u001B[49m\u001B[38;5;241;43m.\u001B[39;49m\u001B[43mexecute\u001B[49m\u001B[43m(\u001B[49m\n\u001B[0;32m      5\u001B[0m \u001B[43m        \u001B[49m\u001B[43mtext\u001B[49m\u001B[43m(\u001B[49m\u001B[38;5;124;43m\"\u001B[39;49m\u001B[38;5;124;43mINSERT INTO some_table (x, y) VALUES (:x, :y)\u001B[39;49m\u001B[38;5;124;43m\"\u001B[39;49m\u001B[43m)\u001B[49m\u001B[43m,\u001B[49m\n\u001B[0;32m      6\u001B[0m \u001B[43m        \u001B[49m\u001B[43m[\u001B[49m\u001B[43m{\u001B[49m\u001B[38;5;124;43m\"\u001B[39;49m\u001B[38;5;124;43mx\u001B[39;49m\u001B[38;5;124;43m\"\u001B[39;49m\u001B[43m:\u001B[49m\u001B[43m \u001B[49m\u001B[38;5;241;43m45\u001B[39;49m\u001B[43m,\u001B[49m\u001B[43m \u001B[49m\u001B[38;5;124;43m\"\u001B[39;49m\u001B[38;5;124;43mye\u001B[39;49m\u001B[38;5;124;43m\"\u001B[39;49m\u001B[43m:\u001B[49m\u001B[43m \u001B[49m\u001B[38;5;241;43m32\u001B[39;49m\u001B[43m}\u001B[49m\u001B[43m,\u001B[49m\u001B[43m \u001B[49m\u001B[43m{\u001B[49m\u001B[38;5;124;43m\"\u001B[39;49m\u001B[38;5;124;43mx\u001B[39;49m\u001B[38;5;124;43m\"\u001B[39;49m\u001B[43m:\u001B[49m\u001B[43m \u001B[49m\u001B[38;5;241;43m9\u001B[39;49m\u001B[43m,\u001B[49m\u001B[43m \u001B[49m\u001B[38;5;124;43m\"\u001B[39;49m\u001B[38;5;124;43my\u001B[39;49m\u001B[38;5;124;43m\"\u001B[39;49m\u001B[43m:\u001B[49m\u001B[43m \u001B[49m\u001B[38;5;241;43m10\u001B[39;49m\u001B[43m,\u001B[49m\u001B[43m \u001B[49m\u001B[38;5;124;43m\"\u001B[39;49m\u001B[38;5;124;43mz\u001B[39;49m\u001B[38;5;124;43m\"\u001B[39;49m\u001B[43m:\u001B[49m\u001B[43m \u001B[49m\u001B[38;5;241;43m11\u001B[39;49m\u001B[43m}\u001B[49m\u001B[43m]\u001B[49m\u001B[43m,\u001B[49m\n\u001B[0;32m      7\u001B[0m \u001B[43m    \u001B[49m\u001B[43m)\u001B[49m\n",
      "File \u001B[1;32mD:\\documents\\verenia_projects\\seraf\\.venv\\Lib\\site-packages\\sqlalchemy\\engine\\base.py:1418\u001B[0m, in \u001B[0;36mConnection.execute\u001B[1;34m(self, statement, parameters, execution_options)\u001B[0m\n\u001B[0;32m   1416\u001B[0m     \u001B[38;5;28;01mraise\u001B[39;00m exc\u001B[38;5;241m.\u001B[39mObjectNotExecutableError(statement) \u001B[38;5;28;01mfrom\u001B[39;00m \u001B[38;5;21;01merr\u001B[39;00m\n\u001B[0;32m   1417\u001B[0m \u001B[38;5;28;01melse\u001B[39;00m:\n\u001B[1;32m-> 1418\u001B[0m     \u001B[38;5;28;01mreturn\u001B[39;00m \u001B[43mmeth\u001B[49m\u001B[43m(\u001B[49m\n\u001B[0;32m   1419\u001B[0m \u001B[43m        \u001B[49m\u001B[38;5;28;43mself\u001B[39;49m\u001B[43m,\u001B[49m\n\u001B[0;32m   1420\u001B[0m \u001B[43m        \u001B[49m\u001B[43mdistilled_parameters\u001B[49m\u001B[43m,\u001B[49m\n\u001B[0;32m   1421\u001B[0m \u001B[43m        \u001B[49m\u001B[43mexecution_options\u001B[49m\u001B[43m \u001B[49m\u001B[38;5;129;43;01mor\u001B[39;49;00m\u001B[43m \u001B[49m\u001B[43mNO_OPTIONS\u001B[49m\u001B[43m,\u001B[49m\n\u001B[0;32m   1422\u001B[0m \u001B[43m    \u001B[49m\u001B[43m)\u001B[49m\n",
      "File \u001B[1;32mD:\\documents\\verenia_projects\\seraf\\.venv\\Lib\\site-packages\\sqlalchemy\\sql\\elements.py:515\u001B[0m, in \u001B[0;36mClauseElement._execute_on_connection\u001B[1;34m(self, connection, distilled_params, execution_options)\u001B[0m\n\u001B[0;32m    513\u001B[0m     \u001B[38;5;28;01mif\u001B[39;00m TYPE_CHECKING:\n\u001B[0;32m    514\u001B[0m         \u001B[38;5;28;01massert\u001B[39;00m \u001B[38;5;28misinstance\u001B[39m(\u001B[38;5;28mself\u001B[39m, Executable)\n\u001B[1;32m--> 515\u001B[0m     \u001B[38;5;28;01mreturn\u001B[39;00m \u001B[43mconnection\u001B[49m\u001B[38;5;241;43m.\u001B[39;49m\u001B[43m_execute_clauseelement\u001B[49m\u001B[43m(\u001B[49m\n\u001B[0;32m    516\u001B[0m \u001B[43m        \u001B[49m\u001B[38;5;28;43mself\u001B[39;49m\u001B[43m,\u001B[49m\u001B[43m \u001B[49m\u001B[43mdistilled_params\u001B[49m\u001B[43m,\u001B[49m\u001B[43m \u001B[49m\u001B[43mexecution_options\u001B[49m\n\u001B[0;32m    517\u001B[0m \u001B[43m    \u001B[49m\u001B[43m)\u001B[49m\n\u001B[0;32m    518\u001B[0m \u001B[38;5;28;01melse\u001B[39;00m:\n\u001B[0;32m    519\u001B[0m     \u001B[38;5;28;01mraise\u001B[39;00m exc\u001B[38;5;241m.\u001B[39mObjectNotExecutableError(\u001B[38;5;28mself\u001B[39m)\n",
      "File \u001B[1;32mD:\\documents\\verenia_projects\\seraf\\.venv\\Lib\\site-packages\\sqlalchemy\\engine\\base.py:1640\u001B[0m, in \u001B[0;36mConnection._execute_clauseelement\u001B[1;34m(self, elem, distilled_parameters, execution_options)\u001B[0m\n\u001B[0;32m   1628\u001B[0m compiled_cache: Optional[CompiledCacheType] \u001B[38;5;241m=\u001B[39m execution_options\u001B[38;5;241m.\u001B[39mget(\n\u001B[0;32m   1629\u001B[0m     \u001B[38;5;124m\"\u001B[39m\u001B[38;5;124mcompiled_cache\u001B[39m\u001B[38;5;124m\"\u001B[39m, \u001B[38;5;28mself\u001B[39m\u001B[38;5;241m.\u001B[39mengine\u001B[38;5;241m.\u001B[39m_compiled_cache\n\u001B[0;32m   1630\u001B[0m )\n\u001B[0;32m   1632\u001B[0m compiled_sql, extracted_params, cache_hit \u001B[38;5;241m=\u001B[39m elem\u001B[38;5;241m.\u001B[39m_compile_w_cache(\n\u001B[0;32m   1633\u001B[0m     dialect\u001B[38;5;241m=\u001B[39mdialect,\n\u001B[0;32m   1634\u001B[0m     compiled_cache\u001B[38;5;241m=\u001B[39mcompiled_cache,\n\u001B[1;32m   (...)\u001B[0m\n\u001B[0;32m   1638\u001B[0m     linting\u001B[38;5;241m=\u001B[39m\u001B[38;5;28mself\u001B[39m\u001B[38;5;241m.\u001B[39mdialect\u001B[38;5;241m.\u001B[39mcompiler_linting \u001B[38;5;241m|\u001B[39m compiler\u001B[38;5;241m.\u001B[39mWARN_LINTING,\n\u001B[0;32m   1639\u001B[0m )\n\u001B[1;32m-> 1640\u001B[0m ret \u001B[38;5;241m=\u001B[39m \u001B[38;5;28;43mself\u001B[39;49m\u001B[38;5;241;43m.\u001B[39;49m\u001B[43m_execute_context\u001B[49m\u001B[43m(\u001B[49m\n\u001B[0;32m   1641\u001B[0m \u001B[43m    \u001B[49m\u001B[43mdialect\u001B[49m\u001B[43m,\u001B[49m\n\u001B[0;32m   1642\u001B[0m \u001B[43m    \u001B[49m\u001B[43mdialect\u001B[49m\u001B[38;5;241;43m.\u001B[39;49m\u001B[43mexecution_ctx_cls\u001B[49m\u001B[38;5;241;43m.\u001B[39;49m\u001B[43m_init_compiled\u001B[49m\u001B[43m,\u001B[49m\n\u001B[0;32m   1643\u001B[0m \u001B[43m    \u001B[49m\u001B[43mcompiled_sql\u001B[49m\u001B[43m,\u001B[49m\n\u001B[0;32m   1644\u001B[0m \u001B[43m    \u001B[49m\u001B[43mdistilled_parameters\u001B[49m\u001B[43m,\u001B[49m\n\u001B[0;32m   1645\u001B[0m \u001B[43m    \u001B[49m\u001B[43mexecution_options\u001B[49m\u001B[43m,\u001B[49m\n\u001B[0;32m   1646\u001B[0m \u001B[43m    \u001B[49m\u001B[43mcompiled_sql\u001B[49m\u001B[43m,\u001B[49m\n\u001B[0;32m   1647\u001B[0m \u001B[43m    \u001B[49m\u001B[43mdistilled_parameters\u001B[49m\u001B[43m,\u001B[49m\n\u001B[0;32m   1648\u001B[0m \u001B[43m    \u001B[49m\u001B[43melem\u001B[49m\u001B[43m,\u001B[49m\n\u001B[0;32m   1649\u001B[0m \u001B[43m    \u001B[49m\u001B[43mextracted_params\u001B[49m\u001B[43m,\u001B[49m\n\u001B[0;32m   1650\u001B[0m \u001B[43m    \u001B[49m\u001B[43mcache_hit\u001B[49m\u001B[38;5;241;43m=\u001B[39;49m\u001B[43mcache_hit\u001B[49m\u001B[43m,\u001B[49m\n\u001B[0;32m   1651\u001B[0m \u001B[43m\u001B[49m\u001B[43m)\u001B[49m\n\u001B[0;32m   1652\u001B[0m \u001B[38;5;28;01mif\u001B[39;00m has_events:\n\u001B[0;32m   1653\u001B[0m     \u001B[38;5;28mself\u001B[39m\u001B[38;5;241m.\u001B[39mdispatch\u001B[38;5;241m.\u001B[39mafter_execute(\n\u001B[0;32m   1654\u001B[0m         \u001B[38;5;28mself\u001B[39m,\n\u001B[0;32m   1655\u001B[0m         elem,\n\u001B[1;32m   (...)\u001B[0m\n\u001B[0;32m   1659\u001B[0m         ret,\n\u001B[0;32m   1660\u001B[0m     )\n",
      "File \u001B[1;32mD:\\documents\\verenia_projects\\seraf\\.venv\\Lib\\site-packages\\sqlalchemy\\engine\\base.py:1821\u001B[0m, in \u001B[0;36mConnection._execute_context\u001B[1;34m(self, dialect, constructor, statement, parameters, execution_options, *args, **kw)\u001B[0m\n\u001B[0;32m   1819\u001B[0m     \u001B[38;5;28;01mraise\u001B[39;00m\n\u001B[0;32m   1820\u001B[0m \u001B[38;5;28;01mexcept\u001B[39;00m \u001B[38;5;167;01mBaseException\u001B[39;00m \u001B[38;5;28;01mas\u001B[39;00m e:\n\u001B[1;32m-> 1821\u001B[0m     \u001B[38;5;28;43mself\u001B[39;49m\u001B[38;5;241;43m.\u001B[39;49m\u001B[43m_handle_dbapi_exception\u001B[49m\u001B[43m(\u001B[49m\n\u001B[0;32m   1822\u001B[0m \u001B[43m        \u001B[49m\u001B[43me\u001B[49m\u001B[43m,\u001B[49m\u001B[43m \u001B[49m\u001B[38;5;28;43mstr\u001B[39;49m\u001B[43m(\u001B[49m\u001B[43mstatement\u001B[49m\u001B[43m)\u001B[49m\u001B[43m,\u001B[49m\u001B[43m \u001B[49m\u001B[43mparameters\u001B[49m\u001B[43m,\u001B[49m\u001B[43m \u001B[49m\u001B[38;5;28;43;01mNone\u001B[39;49;00m\u001B[43m,\u001B[49m\u001B[43m \u001B[49m\u001B[38;5;28;43;01mNone\u001B[39;49;00m\n\u001B[0;32m   1823\u001B[0m \u001B[43m    \u001B[49m\u001B[43m)\u001B[49m\n\u001B[0;32m   1825\u001B[0m \u001B[38;5;28;01mif\u001B[39;00m (\n\u001B[0;32m   1826\u001B[0m     \u001B[38;5;28mself\u001B[39m\u001B[38;5;241m.\u001B[39m_transaction\n\u001B[0;32m   1827\u001B[0m     \u001B[38;5;129;01mand\u001B[39;00m \u001B[38;5;129;01mnot\u001B[39;00m \u001B[38;5;28mself\u001B[39m\u001B[38;5;241m.\u001B[39m_transaction\u001B[38;5;241m.\u001B[39mis_active\n\u001B[1;32m   (...)\u001B[0m\n\u001B[0;32m   1831\u001B[0m     )\n\u001B[0;32m   1832\u001B[0m ):\n\u001B[0;32m   1833\u001B[0m     \u001B[38;5;28mself\u001B[39m\u001B[38;5;241m.\u001B[39m_invalid_transaction()\n",
      "File \u001B[1;32mD:\\documents\\verenia_projects\\seraf\\.venv\\Lib\\site-packages\\sqlalchemy\\engine\\base.py:2355\u001B[0m, in \u001B[0;36mConnection._handle_dbapi_exception\u001B[1;34m(self, e, statement, parameters, cursor, context, is_sub_exec)\u001B[0m\n\u001B[0;32m   2353\u001B[0m \u001B[38;5;28;01melif\u001B[39;00m should_wrap:\n\u001B[0;32m   2354\u001B[0m     \u001B[38;5;28;01massert\u001B[39;00m sqlalchemy_exception \u001B[38;5;129;01mis\u001B[39;00m \u001B[38;5;129;01mnot\u001B[39;00m \u001B[38;5;28;01mNone\u001B[39;00m\n\u001B[1;32m-> 2355\u001B[0m     \u001B[38;5;28;01mraise\u001B[39;00m sqlalchemy_exception\u001B[38;5;241m.\u001B[39mwith_traceback(exc_info[\u001B[38;5;241m2\u001B[39m]) \u001B[38;5;28;01mfrom\u001B[39;00m \u001B[38;5;21;01me\u001B[39;00m\n\u001B[0;32m   2356\u001B[0m \u001B[38;5;28;01melse\u001B[39;00m:\n\u001B[0;32m   2357\u001B[0m     \u001B[38;5;28;01massert\u001B[39;00m exc_info[\u001B[38;5;241m1\u001B[39m] \u001B[38;5;129;01mis\u001B[39;00m \u001B[38;5;129;01mnot\u001B[39;00m \u001B[38;5;28;01mNone\u001B[39;00m\n",
      "File \u001B[1;32mD:\\documents\\verenia_projects\\seraf\\.venv\\Lib\\site-packages\\sqlalchemy\\engine\\base.py:1815\u001B[0m, in \u001B[0;36mConnection._execute_context\u001B[1;34m(self, dialect, constructor, statement, parameters, execution_options, *args, **kw)\u001B[0m\n\u001B[0;32m   1812\u001B[0m     \u001B[38;5;28;01mif\u001B[39;00m conn \u001B[38;5;129;01mis\u001B[39;00m \u001B[38;5;28;01mNone\u001B[39;00m:\n\u001B[0;32m   1813\u001B[0m         conn \u001B[38;5;241m=\u001B[39m \u001B[38;5;28mself\u001B[39m\u001B[38;5;241m.\u001B[39m_revalidate_connection()\n\u001B[1;32m-> 1815\u001B[0m     context \u001B[38;5;241m=\u001B[39m \u001B[43mconstructor\u001B[49m\u001B[43m(\u001B[49m\n\u001B[0;32m   1816\u001B[0m \u001B[43m        \u001B[49m\u001B[43mdialect\u001B[49m\u001B[43m,\u001B[49m\u001B[43m \u001B[49m\u001B[38;5;28;43mself\u001B[39;49m\u001B[43m,\u001B[49m\u001B[43m \u001B[49m\u001B[43mconn\u001B[49m\u001B[43m,\u001B[49m\u001B[43m \u001B[49m\u001B[43mexecution_options\u001B[49m\u001B[43m,\u001B[49m\u001B[43m \u001B[49m\u001B[38;5;241;43m*\u001B[39;49m\u001B[43margs\u001B[49m\u001B[43m,\u001B[49m\u001B[43m \u001B[49m\u001B[38;5;241;43m*\u001B[39;49m\u001B[38;5;241;43m*\u001B[39;49m\u001B[43mkw\u001B[49m\n\u001B[0;32m   1817\u001B[0m \u001B[43m    \u001B[49m\u001B[43m)\u001B[49m\n\u001B[0;32m   1818\u001B[0m \u001B[38;5;28;01mexcept\u001B[39;00m (exc\u001B[38;5;241m.\u001B[39mPendingRollbackError, exc\u001B[38;5;241m.\u001B[39mResourceClosedError):\n\u001B[0;32m   1819\u001B[0m     \u001B[38;5;28;01mraise\u001B[39;00m\n",
      "File \u001B[1;32mD:\\documents\\verenia_projects\\seraf\\.venv\\Lib\\site-packages\\sqlalchemy\\engine\\default.py:1396\u001B[0m, in \u001B[0;36mDefaultExecutionContext._init_compiled\u001B[1;34m(cls, dialect, connection, dbapi_connection, execution_options, compiled, parameters, invoked_statement, extracted_parameters, cache_hit)\u001B[0m\n\u001B[0;32m   1389\u001B[0m     \u001B[38;5;28mself\u001B[39m\u001B[38;5;241m.\u001B[39mcompiled_parameters \u001B[38;5;241m=\u001B[39m [\n\u001B[0;32m   1390\u001B[0m         compiled\u001B[38;5;241m.\u001B[39mconstruct_params(\n\u001B[0;32m   1391\u001B[0m             extracted_parameters\u001B[38;5;241m=\u001B[39mextracted_parameters,\n\u001B[0;32m   1392\u001B[0m             escape_names\u001B[38;5;241m=\u001B[39m\u001B[38;5;28;01mFalse\u001B[39;00m,\n\u001B[0;32m   1393\u001B[0m         )\n\u001B[0;32m   1394\u001B[0m     ]\n\u001B[0;32m   1395\u001B[0m \u001B[38;5;28;01melse\u001B[39;00m:\n\u001B[1;32m-> 1396\u001B[0m     \u001B[38;5;28mself\u001B[39m\u001B[38;5;241m.\u001B[39mcompiled_parameters \u001B[38;5;241m=\u001B[39m \u001B[43m[\u001B[49m\n\u001B[0;32m   1397\u001B[0m \u001B[43m        \u001B[49m\u001B[43mcompiled\u001B[49m\u001B[38;5;241;43m.\u001B[39;49m\u001B[43mconstruct_params\u001B[49m\u001B[43m(\u001B[49m\n\u001B[0;32m   1398\u001B[0m \u001B[43m            \u001B[49m\u001B[43mm\u001B[49m\u001B[43m,\u001B[49m\n\u001B[0;32m   1399\u001B[0m \u001B[43m            \u001B[49m\u001B[43mescape_names\u001B[49m\u001B[38;5;241;43m=\u001B[39;49m\u001B[38;5;28;43;01mFalse\u001B[39;49;00m\u001B[43m,\u001B[49m\n\u001B[0;32m   1400\u001B[0m \u001B[43m            \u001B[49m\u001B[43m_group_number\u001B[49m\u001B[38;5;241;43m=\u001B[39;49m\u001B[43mgrp\u001B[49m\u001B[43m,\u001B[49m\n\u001B[0;32m   1401\u001B[0m \u001B[43m            \u001B[49m\u001B[43mextracted_parameters\u001B[49m\u001B[38;5;241;43m=\u001B[39;49m\u001B[43mextracted_parameters\u001B[49m\u001B[43m,\u001B[49m\n\u001B[0;32m   1402\u001B[0m \u001B[43m        \u001B[49m\u001B[43m)\u001B[49m\n\u001B[0;32m   1403\u001B[0m \u001B[43m        \u001B[49m\u001B[38;5;28;43;01mfor\u001B[39;49;00m\u001B[43m \u001B[49m\u001B[43mgrp\u001B[49m\u001B[43m,\u001B[49m\u001B[43m \u001B[49m\u001B[43mm\u001B[49m\u001B[43m \u001B[49m\u001B[38;5;129;43;01min\u001B[39;49;00m\u001B[43m \u001B[49m\u001B[38;5;28;43menumerate\u001B[39;49m\u001B[43m(\u001B[49m\u001B[43mparameters\u001B[49m\u001B[43m)\u001B[49m\n\u001B[0;32m   1404\u001B[0m \u001B[43m    \u001B[49m\u001B[43m]\u001B[49m\n\u001B[0;32m   1406\u001B[0m     \u001B[38;5;28;01mif\u001B[39;00m \u001B[38;5;28mlen\u001B[39m(parameters) \u001B[38;5;241m>\u001B[39m \u001B[38;5;241m1\u001B[39m:\n\u001B[0;32m   1407\u001B[0m         \u001B[38;5;28;01mif\u001B[39;00m \u001B[38;5;28mself\u001B[39m\u001B[38;5;241m.\u001B[39misinsert \u001B[38;5;129;01mand\u001B[39;00m compiled\u001B[38;5;241m.\u001B[39m_insertmanyvalues:\n",
      "File \u001B[1;32mD:\\documents\\verenia_projects\\seraf\\.venv\\Lib\\site-packages\\sqlalchemy\\engine\\default.py:1397\u001B[0m, in \u001B[0;36m<listcomp>\u001B[1;34m(.0)\u001B[0m\n\u001B[0;32m   1389\u001B[0m     \u001B[38;5;28mself\u001B[39m\u001B[38;5;241m.\u001B[39mcompiled_parameters \u001B[38;5;241m=\u001B[39m [\n\u001B[0;32m   1390\u001B[0m         compiled\u001B[38;5;241m.\u001B[39mconstruct_params(\n\u001B[0;32m   1391\u001B[0m             extracted_parameters\u001B[38;5;241m=\u001B[39mextracted_parameters,\n\u001B[0;32m   1392\u001B[0m             escape_names\u001B[38;5;241m=\u001B[39m\u001B[38;5;28;01mFalse\u001B[39;00m,\n\u001B[0;32m   1393\u001B[0m         )\n\u001B[0;32m   1394\u001B[0m     ]\n\u001B[0;32m   1395\u001B[0m \u001B[38;5;28;01melse\u001B[39;00m:\n\u001B[0;32m   1396\u001B[0m     \u001B[38;5;28mself\u001B[39m\u001B[38;5;241m.\u001B[39mcompiled_parameters \u001B[38;5;241m=\u001B[39m [\n\u001B[1;32m-> 1397\u001B[0m         \u001B[43mcompiled\u001B[49m\u001B[38;5;241;43m.\u001B[39;49m\u001B[43mconstruct_params\u001B[49m\u001B[43m(\u001B[49m\n\u001B[0;32m   1398\u001B[0m \u001B[43m            \u001B[49m\u001B[43mm\u001B[49m\u001B[43m,\u001B[49m\n\u001B[0;32m   1399\u001B[0m \u001B[43m            \u001B[49m\u001B[43mescape_names\u001B[49m\u001B[38;5;241;43m=\u001B[39;49m\u001B[38;5;28;43;01mFalse\u001B[39;49;00m\u001B[43m,\u001B[49m\n\u001B[0;32m   1400\u001B[0m \u001B[43m            \u001B[49m\u001B[43m_group_number\u001B[49m\u001B[38;5;241;43m=\u001B[39;49m\u001B[43mgrp\u001B[49m\u001B[43m,\u001B[49m\n\u001B[0;32m   1401\u001B[0m \u001B[43m            \u001B[49m\u001B[43mextracted_parameters\u001B[49m\u001B[38;5;241;43m=\u001B[39;49m\u001B[43mextracted_parameters\u001B[49m\u001B[43m,\u001B[49m\n\u001B[0;32m   1402\u001B[0m \u001B[43m        \u001B[49m\u001B[43m)\u001B[49m\n\u001B[0;32m   1403\u001B[0m         \u001B[38;5;28;01mfor\u001B[39;00m grp, m \u001B[38;5;129;01min\u001B[39;00m \u001B[38;5;28menumerate\u001B[39m(parameters)\n\u001B[0;32m   1404\u001B[0m     ]\n\u001B[0;32m   1406\u001B[0m     \u001B[38;5;28;01mif\u001B[39;00m \u001B[38;5;28mlen\u001B[39m(parameters) \u001B[38;5;241m>\u001B[39m \u001B[38;5;241m1\u001B[39m:\n\u001B[0;32m   1407\u001B[0m         \u001B[38;5;28;01mif\u001B[39;00m \u001B[38;5;28mself\u001B[39m\u001B[38;5;241m.\u001B[39misinsert \u001B[38;5;129;01mand\u001B[39;00m compiled\u001B[38;5;241m.\u001B[39m_insertmanyvalues:\n",
      "File \u001B[1;32mD:\\documents\\verenia_projects\\seraf\\.venv\\Lib\\site-packages\\sqlalchemy\\sql\\compiler.py:1894\u001B[0m, in \u001B[0;36mSQLCompiler.construct_params\u001B[1;34m(self, params, extracted_parameters, escape_names, _group_number, _check, _no_postcompile)\u001B[0m\n\u001B[0;32m   1887\u001B[0m         \u001B[38;5;28;01mraise\u001B[39;00m exc\u001B[38;5;241m.\u001B[39mInvalidRequestError(\n\u001B[0;32m   1888\u001B[0m             \u001B[38;5;124m\"\u001B[39m\u001B[38;5;124mA value is required for bind parameter \u001B[39m\u001B[38;5;132;01m%r\u001B[39;00m\u001B[38;5;124m, \u001B[39m\u001B[38;5;124m\"\u001B[39m\n\u001B[0;32m   1889\u001B[0m             \u001B[38;5;124m\"\u001B[39m\u001B[38;5;124min parameter group \u001B[39m\u001B[38;5;132;01m%d\u001B[39;00m\u001B[38;5;124m\"\u001B[39m\n\u001B[0;32m   1890\u001B[0m             \u001B[38;5;241m%\u001B[39m (bindparam\u001B[38;5;241m.\u001B[39mkey, _group_number),\n\u001B[0;32m   1891\u001B[0m             code\u001B[38;5;241m=\u001B[39m\u001B[38;5;124m\"\u001B[39m\u001B[38;5;124mcd3x\u001B[39m\u001B[38;5;124m\"\u001B[39m,\n\u001B[0;32m   1892\u001B[0m         )\n\u001B[0;32m   1893\u001B[0m     \u001B[38;5;28;01melse\u001B[39;00m:\n\u001B[1;32m-> 1894\u001B[0m         \u001B[38;5;28;01mraise\u001B[39;00m exc\u001B[38;5;241m.\u001B[39mInvalidRequestError(\n\u001B[0;32m   1895\u001B[0m             \u001B[38;5;124m\"\u001B[39m\u001B[38;5;124mA value is required for bind parameter \u001B[39m\u001B[38;5;132;01m%r\u001B[39;00m\u001B[38;5;124m\"\u001B[39m\n\u001B[0;32m   1896\u001B[0m             \u001B[38;5;241m%\u001B[39m bindparam\u001B[38;5;241m.\u001B[39mkey,\n\u001B[0;32m   1897\u001B[0m             code\u001B[38;5;241m=\u001B[39m\u001B[38;5;124m\"\u001B[39m\u001B[38;5;124mcd3x\u001B[39m\u001B[38;5;124m\"\u001B[39m,\n\u001B[0;32m   1898\u001B[0m         )\n\u001B[0;32m   1899\u001B[0m \u001B[38;5;28;01melse\u001B[39;00m:\n\u001B[0;32m   1900\u001B[0m     \u001B[38;5;28;01mif\u001B[39;00m resolved_extracted:\n",
      "\u001B[1;31mStatementError\u001B[0m: (sqlalchemy.exc.InvalidRequestError) A value is required for bind parameter 'y'\n[SQL: INSERT INTO some_table (x, y) VALUES (?, ?)]\n[parameters: [{'x': 45, 'ye': 32}, {'x': 9, 'y': 10, 'z': 11}]]\n(Background on this error at: https://sqlalche.me/e/20/cd3x)"
     ]
    }
   ],
   "execution_count": 6
  },
  {
   "metadata": {},
   "cell_type": "markdown",
   "source": "### Tuple Assignment\n",
   "id": "af8b8ce3515d3772"
  },
  {
   "metadata": {
    "ExecuteTime": {
     "end_time": "2024-10-02T09:50:03.521664Z",
     "start_time": "2024-10-02T09:50:03.513071Z"
    }
   },
   "cell_type": "code",
   "source": [
    "with engine.connect() as conn:\n",
    "    result = conn.execute(text(\"SELECT x, y FROM some_table\"))\n",
    "    for x, y in result:\n",
    "        print(f\"x: {x}  y: {y}\")"
   ],
   "id": "574095918caf93e2",
   "outputs": [
    {
     "name": "stdout",
     "output_type": "stream",
     "text": [
      "2024-10-02 12:50:03,515 INFO sqlalchemy.engine.Engine BEGIN (implicit)\n",
      "2024-10-02 12:50:03,516 INFO sqlalchemy.engine.Engine SELECT x, y FROM some_table\n",
      "2024-10-02 12:50:03,517 INFO sqlalchemy.engine.Engine [cached since 342.7s ago] ()\n",
      "x: 1  y: 1\n",
      "x: 2  y: 4\n",
      "x: 6  y: 8\n",
      "x: 9  y: 10\n",
      "x: 45  y: 32\n",
      "x: 9  y: 10\n",
      "2024-10-02 12:50:03,519 INFO sqlalchemy.engine.Engine ROLLBACK\n"
     ]
    }
   ],
   "execution_count": 8
  },
  {
   "metadata": {},
   "cell_type": "markdown",
   "source": "### Integer Index",
   "id": "fe59e26b0f8144e7"
  },
  {
   "metadata": {
    "ExecuteTime": {
     "end_time": "2024-10-02T09:50:36.358939Z",
     "start_time": "2024-10-02T09:50:36.349807Z"
    }
   },
   "cell_type": "code",
   "source": [
    "with engine.connect() as conn:\n",
    "    result = conn.execute(text(\"SELECT x, y FROM some_table\"))\n",
    "    for row in result:\n",
    "        print(f\"x: {row[0]}  y: {row[1]}\")"
   ],
   "id": "ab0985c93a19f003",
   "outputs": [
    {
     "name": "stdout",
     "output_type": "stream",
     "text": [
      "2024-10-02 12:50:36,352 INFO sqlalchemy.engine.Engine BEGIN (implicit)\n",
      "2024-10-02 12:50:36,353 INFO sqlalchemy.engine.Engine SELECT x, y FROM some_table\n",
      "2024-10-02 12:50:36,354 INFO sqlalchemy.engine.Engine [cached since 375.6s ago] ()\n",
      "x: 1  y: 1\n",
      "x: 2  y: 4\n",
      "x: 6  y: 8\n",
      "x: 9  y: 10\n",
      "x: 45  y: 32\n",
      "x: 9  y: 10\n",
      "2024-10-02 12:50:36,355 INFO sqlalchemy.engine.Engine ROLLBACK\n"
     ]
    }
   ],
   "execution_count": 9
  },
  {
   "metadata": {},
   "cell_type": "markdown",
   "source": "### Attribute Name",
   "id": "ed1d57413c641ea4"
  },
  {
   "metadata": {
    "ExecuteTime": {
     "end_time": "2024-10-02T09:51:04.060416Z",
     "start_time": "2024-10-02T09:51:04.052760Z"
    }
   },
   "cell_type": "code",
   "source": [
    "with engine.connect() as conn:\n",
    "    result = conn.execute(text(\"SELECT x, y FROM some_table\"))\n",
    "    for row in result:\n",
    "        print(f\"x: {row.x}  y: {row.y}\")"
   ],
   "id": "ca70dd5ac34667bf",
   "outputs": [
    {
     "name": "stdout",
     "output_type": "stream",
     "text": [
      "2024-10-02 12:51:04,054 INFO sqlalchemy.engine.Engine BEGIN (implicit)\n",
      "2024-10-02 12:51:04,055 INFO sqlalchemy.engine.Engine SELECT x, y FROM some_table\n",
      "2024-10-02 12:51:04,055 INFO sqlalchemy.engine.Engine [cached since 403.3s ago] ()\n",
      "x: 1  y: 1\n",
      "x: 2  y: 4\n",
      "x: 6  y: 8\n",
      "x: 9  y: 10\n",
      "x: 45  y: 32\n",
      "x: 9  y: 10\n",
      "2024-10-02 12:51:04,058 INFO sqlalchemy.engine.Engine ROLLBACK\n"
     ]
    }
   ],
   "execution_count": 10
  },
  {
   "metadata": {},
   "cell_type": "markdown",
   "source": "### Mapping Access",
   "id": "1abdcdd349c2f74a"
  },
  {
   "metadata": {
    "ExecuteTime": {
     "end_time": "2024-10-02T09:52:02.844036Z",
     "start_time": "2024-10-02T09:52:02.836513Z"
    }
   },
   "cell_type": "code",
   "source": [
    "with engine.connect() as conn:\n",
    "    result = conn.execute(text(\"SELECT x, y FROM some_table\"))\n",
    "    for dict_row in result.mappings():\n",
    "        print(f\"x: {dict_row['x']}  y: {dict_row['y']}\")"
   ],
   "id": "f133c29f3fdf8300",
   "outputs": [
    {
     "name": "stdout",
     "output_type": "stream",
     "text": [
      "2024-10-02 12:52:02,839 INFO sqlalchemy.engine.Engine BEGIN (implicit)\n",
      "2024-10-02 12:52:02,839 INFO sqlalchemy.engine.Engine SELECT x, y FROM some_table\n",
      "2024-10-02 12:52:02,840 INFO sqlalchemy.engine.Engine [cached since 462.1s ago] ()\n",
      "x: 1  y: 1\n",
      "x: 2  y: 4\n",
      "x: 6  y: 8\n",
      "x: 9  y: 10\n",
      "x: 45  y: 32\n",
      "x: 9  y: 10\n",
      "2024-10-02 12:52:02,841 INFO sqlalchemy.engine.Engine ROLLBACK\n"
     ]
    }
   ],
   "execution_count": 11
  },
  {
   "metadata": {},
   "cell_type": "markdown",
   "source": "## Sending Parameters",
   "id": "4dea19ad6b158ac7"
  },
  {
   "metadata": {
    "ExecuteTime": {
     "end_time": "2024-10-02T09:53:50.618648Z",
     "start_time": "2024-10-02T09:53:50.609951Z"
    }
   },
   "cell_type": "code",
   "source": [
    "with engine.connect() as conn:\n",
    "    result = conn.execute(text(\"SELECT x, y FROM some_table WHERE y > :y\"), {\"y\": 2})\n",
    "    for row in result:\n",
    "        print(f\"x: {row.x}  y: {row.y}\")"
   ],
   "id": "538a925ea12b0db9",
   "outputs": [
    {
     "name": "stdout",
     "output_type": "stream",
     "text": [
      "2024-10-02 12:53:50,613 INFO sqlalchemy.engine.Engine BEGIN (implicit)\n",
      "2024-10-02 12:53:50,614 INFO sqlalchemy.engine.Engine SELECT x, y FROM some_table WHERE y > ?\n",
      "2024-10-02 12:53:50,615 INFO sqlalchemy.engine.Engine [generated in 0.00186s] (2,)\n",
      "x: 2  y: 4\n",
      "x: 6  y: 8\n",
      "x: 9  y: 10\n",
      "x: 45  y: 32\n",
      "x: 9  y: 10\n",
      "2024-10-02 12:53:50,616 INFO sqlalchemy.engine.Engine ROLLBACK\n"
     ]
    }
   ],
   "execution_count": 12
  },
  {
   "metadata": {
    "ExecuteTime": {
     "end_time": "2024-10-02T09:57:35.121465Z",
     "start_time": "2024-10-02T09:57:35.113492Z"
    }
   },
   "cell_type": "code",
   "source": [
    "# NEVER DO IT IN SUCH a WAY!!!!\n",
    "# it prevents SQL injection attacks\n",
    "\n",
    "y_lim = 4\n",
    "\n",
    "with engine.connect() as conn:\n",
    "    result = conn.execute(text(f\"SELECT x, y FROM some_table WHERE y > {y_lim}\"))\n",
    "    for row in result:\n",
    "        print(f\"x: {row.x}  y: {row.y}\")"
   ],
   "id": "e400091e8030ae66",
   "outputs": [
    {
     "name": "stdout",
     "output_type": "stream",
     "text": [
      "2024-10-02 12:57:35,115 INFO sqlalchemy.engine.Engine BEGIN (implicit)\n",
      "2024-10-02 12:57:35,116 INFO sqlalchemy.engine.Engine SELECT x, y FROM some_table WHERE y > 4\n",
      "2024-10-02 12:57:35,116 INFO sqlalchemy.engine.Engine [cached since 41.14s ago] ()\n",
      "x: 6  y: 8\n",
      "x: 9  y: 10\n",
      "x: 45  y: 32\n",
      "x: 9  y: 10\n",
      "2024-10-02 12:57:35,118 INFO sqlalchemy.engine.Engine ROLLBACK\n"
     ]
    }
   ],
   "execution_count": 16
  },
  {
   "metadata": {},
   "cell_type": "markdown",
   "source": "## Sending Multiple Parameters",
   "id": "6f7c27e4327758e7"
  },
  {
   "metadata": {
    "ExecuteTime": {
     "end_time": "2024-10-02T10:00:21.017412Z",
     "start_time": "2024-10-02T10:00:21.008563Z"
    }
   },
   "cell_type": "code",
   "source": [
    "# \"\"executemany\"\" -- the name of this style of execution \n",
    "with engine.connect() as conn:\n",
    "    conn.execute(\n",
    "        text(\"INSERT INTO some_table (x, y) VALUES (:x, :y)\"),\n",
    "        [{\"x\": 11, \"y\": 12}, {\"x\": 13, \"y\": 14}],\n",
    "    )\n",
    "    conn.commit()"
   ],
   "id": "88e17abbf4a5f050",
   "outputs": [
    {
     "name": "stdout",
     "output_type": "stream",
     "text": [
      "2024-10-02 13:00:21,011 INFO sqlalchemy.engine.Engine BEGIN (implicit)\n",
      "2024-10-02 13:00:21,012 INFO sqlalchemy.engine.Engine INSERT INTO some_table (x, y) VALUES (?, ?)\n",
      "2024-10-02 13:00:21,013 INFO sqlalchemy.engine.Engine [cached since 1600s ago] [(11, 12), (13, 14)]\n",
      "2024-10-02 13:00:21,014 INFO sqlalchemy.engine.Engine COMMIT\n"
     ]
    }
   ],
   "execution_count": 17
  },
  {
   "metadata": {},
   "cell_type": "markdown",
   "source": "# Execution with an ORM Session",
   "id": "e887a0a61b50e22a"
  },
  {
   "metadata": {
    "ExecuteTime": {
     "end_time": "2024-10-02T10:17:00.400710Z",
     "start_time": "2024-10-02T10:17:00.246450Z"
    }
   },
   "cell_type": "code",
   "source": [
    "from sqlalchemy.orm import Session\n",
    "\n",
    "stmt = text(\"SELECT x, y FROM some_table WHERE y > :y ORDER BY x, y\")\n",
    "with Session(engine) as session:\n",
    "    result = session.execute(stmt, {\"y\": 6})\n",
    "    for row in result:\n",
    "        print(f\"x: {row.x}  y: {row.y}\")"
   ],
   "id": "e4dafebcf4d3d787",
   "outputs": [
    {
     "name": "stdout",
     "output_type": "stream",
     "text": [
      "2024-10-02 13:17:00,395 INFO sqlalchemy.engine.Engine BEGIN (implicit)\n",
      "2024-10-02 13:17:00,396 INFO sqlalchemy.engine.Engine SELECT x, y FROM some_table WHERE y > ? ORDER BY x, y\n",
      "2024-10-02 13:17:00,396 INFO sqlalchemy.engine.Engine [generated in 0.00076s] (6,)\n",
      "x: 6  y: 8\n",
      "x: 9  y: 10\n",
      "x: 9  y: 10\n",
      "x: 11  y: 12\n",
      "x: 13  y: 14\n",
      "x: 45  y: 32\n",
      "2024-10-02 13:17:00,398 INFO sqlalchemy.engine.Engine ROLLBACK\n"
     ]
    }
   ],
   "execution_count": 18
  },
  {
   "metadata": {
    "ExecuteTime": {
     "end_time": "2024-10-02T10:32:06.103182Z",
     "start_time": "2024-10-02T10:32:06.093154Z"
    }
   },
   "cell_type": "code",
   "source": [
    "with Session(engine) as session:\n",
    "    result = session.execute(\n",
    "        text(\"UPDATE some_table SET y=:y WHERE x=:x\"),\n",
    "        [{\"x\": 9, \"y\": 11}, {\"x\": 13, \"y\": 15}],\n",
    "    )\n",
    "    session.commit()"
   ],
   "id": "a7b4790b51dedec7",
   "outputs": [
    {
     "name": "stdout",
     "output_type": "stream",
     "text": [
      "2024-10-02 13:32:06,096 INFO sqlalchemy.engine.Engine BEGIN (implicit)\n",
      "2024-10-02 13:32:06,097 INFO sqlalchemy.engine.Engine UPDATE some_table SET y=? WHERE x=?\n",
      "2024-10-02 13:32:06,098 INFO sqlalchemy.engine.Engine [generated in 0.00090s] [(11, 9), (15, 13)]\n",
      "2024-10-02 13:32:06,099 INFO sqlalchemy.engine.Engine COMMIT\n"
     ]
    }
   ],
   "execution_count": 19
  },
  {
   "metadata": {
    "ExecuteTime": {
     "end_time": "2024-10-02T10:33:01.832719Z",
     "start_time": "2024-10-02T10:33:01.823590Z"
    }
   },
   "cell_type": "code",
   "source": [
    "stmt = text(\"SELECT x, y FROM some_table WHERE y > :y ORDER BY x, y\")\n",
    "with Session(engine) as session:\n",
    "    result = session.execute(stmt, {\"y\": 6})\n",
    "    for row in result:\n",
    "        print(f\"x: {row.x}  y: {row.y}\")"
   ],
   "id": "aed054757a3c29f8",
   "outputs": [
    {
     "name": "stdout",
     "output_type": "stream",
     "text": [
      "2024-10-02 13:33:01,827 INFO sqlalchemy.engine.Engine BEGIN (implicit)\n",
      "2024-10-02 13:33:01,828 INFO sqlalchemy.engine.Engine SELECT x, y FROM some_table WHERE y > ? ORDER BY x, y\n",
      "2024-10-02 13:33:01,828 INFO sqlalchemy.engine.Engine [cached since 961.4s ago] (6,)\n",
      "x: 6  y: 8\n",
      "x: 9  y: 11\n",
      "x: 9  y: 11\n",
      "x: 11  y: 12\n",
      "x: 13  y: 15\n",
      "x: 45  y: 32\n",
      "2024-10-02 13:33:01,830 INFO sqlalchemy.engine.Engine ROLLBACK\n"
     ]
    }
   ],
   "execution_count": 20
  }
 ],
 "metadata": {
  "kernelspec": {
   "display_name": "Python 3",
   "language": "python",
   "name": "python3"
  },
  "language_info": {
   "codemirror_mode": {
    "name": "ipython",
    "version": 2
   },
   "file_extension": ".py",
   "mimetype": "text/x-python",
   "name": "python",
   "nbconvert_exporter": "python",
   "pygments_lexer": "ipython2",
   "version": "2.7.6"
  }
 },
 "nbformat": 4,
 "nbformat_minor": 5
}
