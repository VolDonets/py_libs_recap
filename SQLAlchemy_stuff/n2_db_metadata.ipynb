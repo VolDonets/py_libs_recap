{
 "cells": [
  {
   "metadata": {},
   "cell_type": "markdown",
   "source": "# Setting up MetaData with Table object",
   "id": "4a03c062bc49030c"
  },
  {
   "metadata": {
    "ExecuteTime": {
     "end_time": "2024-10-03T11:04:05.156473Z",
     "start_time": "2024-10-03T11:04:04.985524Z"
    }
   },
   "cell_type": "code",
   "source": [
    "from sqlalchemy import MetaData\n",
    "\n",
    "metadata_obj = MetaData()"
   ],
   "id": "f0d64eeb9e0650ea",
   "outputs": [],
   "execution_count": 1
  },
  {
   "metadata": {},
   "cell_type": "markdown",
   "source": "# Declaring the table",
   "id": "e955329382bbdd0a"
  },
  {
   "metadata": {
    "ExecuteTime": {
     "end_time": "2024-10-03T11:04:05.162925Z",
     "start_time": "2024-10-03T11:04:05.157485Z"
    }
   },
   "cell_type": "code",
   "source": [
    "from sqlalchemy import Table, Column, Integer, String\n",
    "\n",
    "user_table = Table(\n",
    "    \"user_account\",\n",
    "    metadata_obj,\n",
    "    Column(\"id\", Integer, primary_key=True),\n",
    "    Column(\"name\", String(30)),\n",
    "    Column(\"fullname\", String),\n",
    ")\n",
    "\n",
    "# 'Table' -- represents a DB table and assigns itself to a Metadata collection\n",
    "# 'Column' -- represents a column in a database table, and assigns itself to a Table object.\n",
    "# 'Integer', 'String' -- these classes represent SQL datatypes and can be passed to a Column, \n",
    "#             with or without necessarily being instantiated."
   ],
   "id": "2955cbfc86e37fd7",
   "outputs": [],
   "execution_count": 2
  },
  {
   "metadata": {
    "ExecuteTime": {
     "end_time": "2024-10-03T11:04:05.172820Z",
     "start_time": "2024-10-03T11:04:05.163934Z"
    }
   },
   "cell_type": "code",
   "source": "user_table.c.name",
   "id": "f957fe5371da10a3",
   "outputs": [
    {
     "data": {
      "text/plain": [
       "Column('name', String(length=30), table=<user_account>)"
      ]
     },
     "execution_count": 3,
     "metadata": {},
     "output_type": "execute_result"
    }
   ],
   "execution_count": 3
  },
  {
   "metadata": {
    "ExecuteTime": {
     "end_time": "2024-10-03T11:04:05.178674Z",
     "start_time": "2024-10-03T11:04:05.172820Z"
    }
   },
   "cell_type": "code",
   "source": "user_table.c.keys()",
   "id": "c43b60a0679522",
   "outputs": [
    {
     "data": {
      "text/plain": [
       "['id', 'name', 'fullname']"
      ]
     },
     "execution_count": 4,
     "metadata": {},
     "output_type": "execute_result"
    }
   ],
   "execution_count": 4
  },
  {
   "metadata": {
    "ExecuteTime": {
     "end_time": "2024-10-03T11:04:05.186244Z",
     "start_time": "2024-10-03T11:04:05.180896Z"
    }
   },
   "cell_type": "code",
   "source": "user_table.primary_key",
   "id": "a682635f3ecb7593",
   "outputs": [
    {
     "data": {
      "text/plain": [
       "PrimaryKeyConstraint(Column('id', Integer(), table=<user_account>, primary_key=True, nullable=False))"
      ]
     },
     "execution_count": 5,
     "metadata": {},
     "output_type": "execute_result"
    }
   ],
   "execution_count": 5
  },
  {
   "metadata": {
    "ExecuteTime": {
     "end_time": "2024-10-03T11:04:05.193887Z",
     "start_time": "2024-10-03T11:04:05.186244Z"
    }
   },
   "cell_type": "code",
   "source": [
    "from sqlalchemy import ForeignKey\n",
    "address_table = Table(\n",
    "    \"address\",\n",
    "    metadata_obj,\n",
    "    Column(\"id\", Integer, primary_key=True),\n",
    "    Column(\"user_id\", ForeignKey(\"user_account.id\"), nullable=False),\n",
    "    Column(\"email_address\", String, nullable=False),\n",
    ")"
   ],
   "id": "84051ae811ac068f",
   "outputs": [],
   "execution_count": 6
  },
  {
   "metadata": {},
   "cell_type": "markdown",
   "source": "# Emitting DDL to the DB (~CREATE TABLE)",
   "id": "593f7fa4882d0b9a"
  },
  {
   "metadata": {
    "ExecuteTime": {
     "end_time": "2024-10-03T11:04:05.212242Z",
     "start_time": "2024-10-03T11:04:05.195168Z"
    }
   },
   "cell_type": "code",
   "source": [
    "# create an engine object\n",
    "from sqlalchemy import create_engine\n",
    "\n",
    "engine = create_engine(\"sqlite+pysqlite:///:memory:\", echo=True)"
   ],
   "id": "6423b1352ff9a320",
   "outputs": [],
   "execution_count": 7
  },
  {
   "metadata": {
    "ExecuteTime": {
     "end_time": "2024-10-03T11:04:05.228060Z",
     "start_time": "2024-10-03T11:04:05.212242Z"
    }
   },
   "cell_type": "code",
   "source": "metadata_obj.create_all(engine)",
   "id": "66e0f366c03a6f7a",
   "outputs": [
    {
     "name": "stdout",
     "output_type": "stream",
     "text": [
      "2024-10-03 14:04:05,215 INFO sqlalchemy.engine.Engine BEGIN (implicit)\n",
      "2024-10-03 14:04:05,216 INFO sqlalchemy.engine.Engine PRAGMA main.table_info(\"user_account\")\n",
      "2024-10-03 14:04:05,216 INFO sqlalchemy.engine.Engine [raw sql] ()\n",
      "2024-10-03 14:04:05,217 INFO sqlalchemy.engine.Engine PRAGMA temp.table_info(\"user_account\")\n",
      "2024-10-03 14:04:05,218 INFO sqlalchemy.engine.Engine [raw sql] ()\n",
      "2024-10-03 14:04:05,218 INFO sqlalchemy.engine.Engine PRAGMA main.table_info(\"address\")\n",
      "2024-10-03 14:04:05,219 INFO sqlalchemy.engine.Engine [raw sql] ()\n",
      "2024-10-03 14:04:05,219 INFO sqlalchemy.engine.Engine PRAGMA temp.table_info(\"address\")\n",
      "2024-10-03 14:04:05,221 INFO sqlalchemy.engine.Engine [raw sql] ()\n",
      "2024-10-03 14:04:05,222 INFO sqlalchemy.engine.Engine \n",
      "CREATE TABLE user_account (\n",
      "\tid INTEGER NOT NULL, \n",
      "\tname VARCHAR(30), \n",
      "\tfullname VARCHAR, \n",
      "\tPRIMARY KEY (id)\n",
      ")\n",
      "\n",
      "\n",
      "2024-10-03 14:04:05,223 INFO sqlalchemy.engine.Engine [no key 0.00089s] ()\n",
      "2024-10-03 14:04:05,224 INFO sqlalchemy.engine.Engine \n",
      "CREATE TABLE address (\n",
      "\tid INTEGER NOT NULL, \n",
      "\tuser_id INTEGER NOT NULL, \n",
      "\temail_address VARCHAR NOT NULL, \n",
      "\tPRIMARY KEY (id), \n",
      "\tFOREIGN KEY(user_id) REFERENCES user_account (id)\n",
      ")\n",
      "\n",
      "\n",
      "2024-10-03 14:04:05,225 INFO sqlalchemy.engine.Engine [no key 0.00062s] ()\n",
      "2024-10-03 14:04:05,226 INFO sqlalchemy.engine.Engine COMMIT\n"
     ]
    }
   ],
   "execution_count": 8
  },
  {
   "metadata": {},
   "cell_type": "markdown",
   "source": "# Establishing a Declarative Base",
   "id": "abf73ade7bae4f10"
  },
  {
   "metadata": {
    "ExecuteTime": {
     "end_time": "2024-10-03T11:04:05.358732Z",
     "start_time": "2024-10-03T11:04:05.229069Z"
    }
   },
   "cell_type": "code",
   "source": [
    "from sqlalchemy.orm import DeclarativeBase\n",
    "class Base(DeclarativeBase):\n",
    "    pass"
   ],
   "id": "26dd3f6a606ffe0c",
   "outputs": [],
   "execution_count": 9
  },
  {
   "metadata": {
    "ExecuteTime": {
     "end_time": "2024-10-03T11:04:05.365880Z",
     "start_time": "2024-10-03T11:04:05.360060Z"
    }
   },
   "cell_type": "code",
   "source": "Base.metadata",
   "id": "639fef9a66aa7ebb",
   "outputs": [
    {
     "data": {
      "text/plain": [
       "MetaData()"
      ]
     },
     "execution_count": 10,
     "metadata": {},
     "output_type": "execute_result"
    }
   ],
   "execution_count": 10
  },
  {
   "metadata": {
    "ExecuteTime": {
     "end_time": "2024-10-03T11:04:05.374122Z",
     "start_time": "2024-10-03T11:04:05.368836Z"
    }
   },
   "cell_type": "code",
   "source": "Base.registry",
   "id": "5f64d5e026233bd0",
   "outputs": [
    {
     "data": {
      "text/plain": [
       "<sqlalchemy.orm.decl_api.registry at 0x260d65f6010>"
      ]
     },
     "execution_count": 11,
     "metadata": {},
     "output_type": "execute_result"
    }
   ],
   "execution_count": 11
  },
  {
   "metadata": {},
   "cell_type": "markdown",
   "source": "# Declaring Mapped Classes",
   "id": "54d155455ec8940a"
  },
  {
   "metadata": {
    "ExecuteTime": {
     "end_time": "2024-10-03T11:04:05.386393Z",
     "start_time": "2024-10-03T11:04:05.375505Z"
    }
   },
   "cell_type": "code",
   "source": [
    "from typing import List\n",
    "from typing import Optional\n",
    "from sqlalchemy.orm import Mapped\n",
    "from sqlalchemy.orm import mapped_column\n",
    "from sqlalchemy.orm import relationship\n",
    "\n",
    "class User(Base):\n",
    "    __tablename__ = \"user_account\"\n",
    "    id: Mapped[int] = mapped_column(primary_key=True)\n",
    "    name: Mapped[str] = mapped_column(String(30))\n",
    "    fullname: Mapped[Optional[str]]\n",
    "    addresses: Mapped[List[\"Address\"]] = relationship(back_populates=\"user\")\n",
    "    def __repr__(self) -> str:\n",
    "        return f\"User(id={self.id!r}, name={self.name!r}, fullname={self.fullname!r})\"\n",
    "\n",
    "class Address(Base):\n",
    "    __tablename__ = \"address\"\n",
    "    id: Mapped[int] = mapped_column(primary_key=True)\n",
    "    email_address: Mapped[str]\n",
    "    user_id = mapped_column(ForeignKey(\"user_account.id\"))\n",
    "    user: Mapped[User] = relationship(back_populates=\"addresses\")\n",
    "    def __repr__(self) -> str:\n",
    "        return f\"Address(id={self.id!r}, email_address={self.email_address!r})\""
   ],
   "id": "635e07127670ce55",
   "outputs": [],
   "execution_count": 12
  },
  {
   "metadata": {},
   "cell_type": "markdown",
   "source": "# Emitting DDL to the database from an ORM mapping",
   "id": "33e3d3293d98c78e"
  },
  {
   "metadata": {
    "ExecuteTime": {
     "end_time": "2024-10-03T11:04:05.430260Z",
     "start_time": "2024-10-03T11:04:05.423051Z"
    }
   },
   "cell_type": "code",
   "source": "Base.metadata.create_all(engine)",
   "id": "a640e1701adb0cf2",
   "outputs": [
    {
     "name": "stdout",
     "output_type": "stream",
     "text": [
      "2024-10-03 14:04:05,424 INFO sqlalchemy.engine.Engine BEGIN (implicit)\n",
      "2024-10-03 14:04:05,425 INFO sqlalchemy.engine.Engine PRAGMA main.table_info(\"user_account\")\n",
      "2024-10-03 14:04:05,425 INFO sqlalchemy.engine.Engine [raw sql] ()\n",
      "2024-10-03 14:04:05,426 INFO sqlalchemy.engine.Engine PRAGMA main.table_info(\"address\")\n",
      "2024-10-03 14:04:05,426 INFO sqlalchemy.engine.Engine [raw sql] ()\n",
      "2024-10-03 14:04:05,427 INFO sqlalchemy.engine.Engine COMMIT\n"
     ]
    }
   ],
   "execution_count": 13
  },
  {
   "metadata": {},
   "cell_type": "markdown",
   "source": "# Table Reflection",
   "id": "82144cd71c299f4a"
  },
  {
   "metadata": {
    "ExecuteTime": {
     "end_time": "2024-10-03T11:04:05.594852Z",
     "start_time": "2024-10-03T11:04:05.578109Z"
    }
   },
   "cell_type": "code",
   "source": [
    "# prepare the table named 'some_table' from previous section\n",
    "\n",
    "from sqlalchemy import text\n",
    "\n",
    "with engine.connect() as conn:\n",
    "    conn.execute(text(\"CREATE TABLE some_table (x int, y int)\"))\n",
    "    conn.execute(\n",
    "        text(\"INSERT INTO some_table (x, y) VALUES (:x, :y)\"),\n",
    "        [{\"x\": 1, \"y\": 1}, {\"x\": 2, \"y\": 4}],\n",
    "    )\n",
    "    conn.commit()\n",
    "    \n",
    "with engine.begin() as conn:\n",
    "    conn.execute(\n",
    "        text(\"INSERT INTO some_table (x, y) VALUES (:x, :y)\"),\n",
    "        [{\"x\": 6, \"y\": 8}, {\"x\": 9, \"y\": 10}],\n",
    "    )"
   ],
   "id": "16e9d25441965003",
   "outputs": [
    {
     "name": "stdout",
     "output_type": "stream",
     "text": [
      "2024-10-03 14:04:05,582 INFO sqlalchemy.engine.Engine BEGIN (implicit)\n",
      "2024-10-03 14:04:05,583 INFO sqlalchemy.engine.Engine CREATE TABLE some_table (x int, y int)\n",
      "2024-10-03 14:04:05,584 INFO sqlalchemy.engine.Engine [generated in 0.00230s] ()\n",
      "2024-10-03 14:04:05,585 INFO sqlalchemy.engine.Engine INSERT INTO some_table (x, y) VALUES (?, ?)\n",
      "2024-10-03 14:04:05,586 INFO sqlalchemy.engine.Engine [generated in 0.00108s] [(1, 1), (2, 4)]\n",
      "2024-10-03 14:04:05,587 INFO sqlalchemy.engine.Engine COMMIT\n",
      "2024-10-03 14:04:05,588 INFO sqlalchemy.engine.Engine BEGIN (implicit)\n",
      "2024-10-03 14:04:05,589 INFO sqlalchemy.engine.Engine INSERT INTO some_table (x, y) VALUES (?, ?)\n",
      "2024-10-03 14:04:05,591 INFO sqlalchemy.engine.Engine [cached since 0.005111s ago] [(6, 8), (9, 10)]\n",
      "2024-10-03 14:04:05,591 INFO sqlalchemy.engine.Engine COMMIT\n"
     ]
    }
   ],
   "execution_count": 14
  },
  {
   "metadata": {
    "ExecuteTime": {
     "end_time": "2024-10-03T11:04:05.741744Z",
     "start_time": "2024-10-03T11:04:05.714085Z"
    }
   },
   "cell_type": "code",
   "source": "some_table = Table(\"some_table\", metadata_obj, autoload_with=engine)",
   "id": "20f3fb037a6e990b",
   "outputs": [
    {
     "name": "stdout",
     "output_type": "stream",
     "text": [
      "2024-10-03 14:04:05,716 INFO sqlalchemy.engine.Engine BEGIN (implicit)\n",
      "2024-10-03 14:04:05,717 INFO sqlalchemy.engine.Engine PRAGMA main.table_xinfo(\"some_table\")\n",
      "2024-10-03 14:04:05,718 INFO sqlalchemy.engine.Engine [raw sql] ()\n",
      "2024-10-03 14:04:05,720 INFO sqlalchemy.engine.Engine SELECT sql FROM  (SELECT * FROM sqlite_master UNION ALL   SELECT * FROM sqlite_temp_master) WHERE name = ? AND type in ('table', 'view')\n",
      "2024-10-03 14:04:05,720 INFO sqlalchemy.engine.Engine [raw sql] ('some_table',)\n",
      "2024-10-03 14:04:05,721 INFO sqlalchemy.engine.Engine PRAGMA main.foreign_key_list(\"some_table\")\n",
      "2024-10-03 14:04:05,722 INFO sqlalchemy.engine.Engine [raw sql] ()\n",
      "2024-10-03 14:04:05,723 INFO sqlalchemy.engine.Engine PRAGMA temp.foreign_key_list(\"some_table\")\n",
      "2024-10-03 14:04:05,723 INFO sqlalchemy.engine.Engine [raw sql] ()\n",
      "2024-10-03 14:04:05,724 INFO sqlalchemy.engine.Engine SELECT sql FROM  (SELECT * FROM sqlite_master UNION ALL   SELECT * FROM sqlite_temp_master) WHERE name = ? AND type in ('table', 'view')\n",
      "2024-10-03 14:04:05,726 INFO sqlalchemy.engine.Engine [raw sql] ('some_table',)\n",
      "2024-10-03 14:04:05,728 INFO sqlalchemy.engine.Engine PRAGMA main.index_list(\"some_table\")\n",
      "2024-10-03 14:04:05,728 INFO sqlalchemy.engine.Engine [raw sql] ()\n",
      "2024-10-03 14:04:05,728 INFO sqlalchemy.engine.Engine PRAGMA temp.index_list(\"some_table\")\n",
      "2024-10-03 14:04:05,730 INFO sqlalchemy.engine.Engine [raw sql] ()\n",
      "2024-10-03 14:04:05,731 INFO sqlalchemy.engine.Engine PRAGMA main.table_info(\"some_table\")\n",
      "2024-10-03 14:04:05,731 INFO sqlalchemy.engine.Engine [raw sql] ()\n",
      "2024-10-03 14:04:05,732 INFO sqlalchemy.engine.Engine PRAGMA main.index_list(\"some_table\")\n",
      "2024-10-03 14:04:05,733 INFO sqlalchemy.engine.Engine [raw sql] ()\n",
      "2024-10-03 14:04:05,733 INFO sqlalchemy.engine.Engine PRAGMA temp.index_list(\"some_table\")\n",
      "2024-10-03 14:04:05,733 INFO sqlalchemy.engine.Engine [raw sql] ()\n",
      "2024-10-03 14:04:05,735 INFO sqlalchemy.engine.Engine PRAGMA main.table_info(\"some_table\")\n",
      "2024-10-03 14:04:05,736 INFO sqlalchemy.engine.Engine [raw sql] ()\n",
      "2024-10-03 14:04:05,736 INFO sqlalchemy.engine.Engine SELECT sql FROM  (SELECT * FROM sqlite_master UNION ALL   SELECT * FROM sqlite_temp_master) WHERE name = ? AND type in ('table', 'view')\n",
      "2024-10-03 14:04:05,738 INFO sqlalchemy.engine.Engine [raw sql] ('some_table',)\n",
      "2024-10-03 14:04:05,739 INFO sqlalchemy.engine.Engine ROLLBACK\n"
     ]
    }
   ],
   "execution_count": 15
  },
  {
   "metadata": {
    "ExecuteTime": {
     "end_time": "2024-10-03T11:04:05.797555Z",
     "start_time": "2024-10-03T11:04:05.792426Z"
    }
   },
   "cell_type": "code",
   "source": "some_table",
   "id": "d62655a7088fb052",
   "outputs": [
    {
     "data": {
      "text/plain": [
       "Table('some_table', MetaData(), Column('x', INTEGER(), table=<some_table>), Column('y', INTEGER(), table=<some_table>), schema=None)"
      ]
     },
     "execution_count": 16,
     "metadata": {},
     "output_type": "execute_result"
    }
   ],
   "execution_count": 16
  },
  {
   "metadata": {},
   "cell_type": "markdown",
   "source": "# The insert() SQL Expression Construct",
   "id": "5e18cc07a54dce09"
  },
  {
   "metadata": {
    "ExecuteTime": {
     "end_time": "2024-10-03T11:04:05.941968Z",
     "start_time": "2024-10-03T11:04:05.937260Z"
    }
   },
   "cell_type": "code",
   "source": [
    "from sqlalchemy import insert\n",
    "\n",
    "stmt = insert(user_table).values(name=\"spongebob\", fullname=\"Spongebob Squarepants\")"
   ],
   "id": "c9a0dd3a4c037597",
   "outputs": [],
   "execution_count": 17
  },
  {
   "metadata": {
    "ExecuteTime": {
     "end_time": "2024-10-03T11:04:06.203121Z",
     "start_time": "2024-10-03T11:04:06.198889Z"
    }
   },
   "cell_type": "code",
   "source": "print(stmt)",
   "id": "4d1a26aa34ef0a9c",
   "outputs": [
    {
     "name": "stdout",
     "output_type": "stream",
     "text": [
      "INSERT INTO user_account (name, fullname) VALUES (:name, :fullname)\n"
     ]
    }
   ],
   "execution_count": 18
  },
  {
   "metadata": {
    "ExecuteTime": {
     "end_time": "2024-10-03T11:04:06.243962Z",
     "start_time": "2024-10-03T11:04:06.238168Z"
    }
   },
   "cell_type": "code",
   "source": "compiled = stmt.compile()",
   "id": "ed547d713bbf32c6",
   "outputs": [],
   "execution_count": 19
  },
  {
   "metadata": {
    "ExecuteTime": {
     "end_time": "2024-10-03T11:04:06.296306Z",
     "start_time": "2024-10-03T11:04:06.290836Z"
    }
   },
   "cell_type": "code",
   "source": "compiled.params",
   "id": "5f728e22ccba9ca7",
   "outputs": [
    {
     "data": {
      "text/plain": [
       "{'name': 'spongebob', 'fullname': 'Spongebob Squarepants'}"
      ]
     },
     "execution_count": 20,
     "metadata": {},
     "output_type": "execute_result"
    }
   ],
   "execution_count": 20
  },
  {
   "metadata": {
    "ExecuteTime": {
     "end_time": "2024-10-03T11:04:06.341423Z",
     "start_time": "2024-10-03T11:04:06.333157Z"
    }
   },
   "cell_type": "code",
   "source": [
    "with engine.connect() as conn:\n",
    "    result = conn.execute(stmt)\n",
    "    conn.commit()"
   ],
   "id": "37ea21d96a7ceaca",
   "outputs": [
    {
     "name": "stdout",
     "output_type": "stream",
     "text": [
      "2024-10-03 14:04:06,335 INFO sqlalchemy.engine.Engine BEGIN (implicit)\n",
      "2024-10-03 14:04:06,336 INFO sqlalchemy.engine.Engine INSERT INTO user_account (name, fullname) VALUES (?, ?)\n",
      "2024-10-03 14:04:06,337 INFO sqlalchemy.engine.Engine [generated in 0.00184s] ('spongebob', 'Spongebob Squarepants')\n",
      "2024-10-03 14:04:06,339 INFO sqlalchemy.engine.Engine COMMIT\n"
     ]
    }
   ],
   "execution_count": 21
  },
  {
   "metadata": {
    "ExecuteTime": {
     "end_time": "2024-10-03T11:04:06.391531Z",
     "start_time": "2024-10-03T11:04:06.386469Z"
    }
   },
   "cell_type": "code",
   "source": "result.inserted_primary_key",
   "id": "cbaf93cf8eb5a1ba",
   "outputs": [
    {
     "data": {
      "text/plain": [
       "(1,)"
      ]
     },
     "execution_count": 22,
     "metadata": {},
     "output_type": "execute_result"
    }
   ],
   "execution_count": 22
  },
  {
   "metadata": {},
   "cell_type": "markdown",
   "source": "# INSERT usually generate the \"values\" clause automatically",
   "id": "eff0ddd47aeef8ca"
  },
  {
   "metadata": {
    "ExecuteTime": {
     "end_time": "2024-10-03T11:04:06.419810Z",
     "start_time": "2024-10-03T11:04:06.415388Z"
    }
   },
   "cell_type": "code",
   "source": [
    "# Simple insert() statement provide input for all columns in the table\n",
    "print(insert(user_table))"
   ],
   "id": "63bed71195976de0",
   "outputs": [
    {
     "name": "stdout",
     "output_type": "stream",
     "text": [
      "INSERT INTO user_account (id, name, fullname) VALUES (:id, :name, :fullname)\n"
     ]
    }
   ],
   "execution_count": 23
  },
  {
   "metadata": {
    "ExecuteTime": {
     "end_time": "2024-10-03T11:04:06.508688Z",
     "start_time": "2024-10-03T11:04:06.500210Z"
    }
   },
   "cell_type": "code",
   "source": [
    "with engine.connect() as conn:\n",
    "    result = conn.execute(\n",
    "        insert(user_table),\n",
    "        [\n",
    "            {\"name\": \"sandy\", \"fullname\": \"Sandy Cheeks\"},\n",
    "            {\"name\": \"patrick\", \"fullname\": \"Patrick Star\"},\n",
    "        ],\n",
    "    )\n",
    "    conn.commit()"
   ],
   "id": "d5856cccb316ecf2",
   "outputs": [
    {
     "name": "stdout",
     "output_type": "stream",
     "text": [
      "2024-10-03 14:04:06,502 INFO sqlalchemy.engine.Engine BEGIN (implicit)\n",
      "2024-10-03 14:04:06,503 INFO sqlalchemy.engine.Engine INSERT INTO user_account (name, fullname) VALUES (?, ?)\n",
      "2024-10-03 14:04:06,504 INFO sqlalchemy.engine.Engine [generated in 0.00188s] [('sandy', 'Sandy Cheeks'), ('patrick', 'Patrick Star')]\n",
      "2024-10-03 14:04:06,504 INFO sqlalchemy.engine.Engine COMMIT\n"
     ]
    }
   ],
   "execution_count": 24
  },
  {
   "metadata": {
    "ExecuteTime": {
     "end_time": "2024-10-03T11:04:06.552012Z",
     "start_time": "2024-10-03T11:04:06.539681Z"
    }
   },
   "cell_type": "code",
   "source": [
    "from sqlalchemy import select, bindparam\n",
    "scalar_subq = (\n",
    "    select(user_table.c.id)\n",
    "    .where(user_table.c.name == bindparam(\"username\"))\n",
    "    .scalar_subquery()\n",
    ")\n",
    "\n",
    "with engine.connect() as conn:\n",
    "    result = conn.execute(\n",
    "        insert(address_table).values(user_id=scalar_subq),\n",
    "        [\n",
    "            {\n",
    "                \"username\": \"spongebob\",\n",
    "                \"email_address\": \"spongebob@sqlalchemy.org\",\n",
    "            },\n",
    "            {\"username\": \"sandy\", \"email_address\": \"sandy@sqlalchemy.org\"},\n",
    "            {\"username\": \"sandy\", \"email_address\": \"sandy@squirrelpower.org\"},\n",
    "        ],\n",
    "    )\n",
    "    conn.commit()"
   ],
   "id": "6512290bca80b14a",
   "outputs": [
    {
     "name": "stdout",
     "output_type": "stream",
     "text": [
      "2024-10-03 14:04:06,546 INFO sqlalchemy.engine.Engine BEGIN (implicit)\n",
      "2024-10-03 14:04:06,547 INFO sqlalchemy.engine.Engine INSERT INTO address (user_id, email_address) VALUES ((SELECT user_account.id \n",
      "FROM user_account \n",
      "WHERE user_account.name = ?), ?)\n",
      "2024-10-03 14:04:06,548 INFO sqlalchemy.engine.Engine [generated in 0.00210s] [('spongebob', 'spongebob@sqlalchemy.org'), ('sandy', 'sandy@sqlalchemy.org'), ('sandy', 'sandy@squirrelpower.org')]\n",
      "2024-10-03 14:04:06,549 INFO sqlalchemy.engine.Engine COMMIT\n"
     ]
    }
   ],
   "execution_count": 25
  },
  {
   "metadata": {
    "ExecuteTime": {
     "end_time": "2024-10-03T11:04:06.627519Z",
     "start_time": "2024-10-03T11:04:06.622826Z"
    }
   },
   "cell_type": "code",
   "source": [
    "# A true 'empty' INSERT that inserts only the 'defaults' for a table:\n",
    "print(insert(user_table).values().compile(engine))"
   ],
   "id": "4533bd5f90ce1da9",
   "outputs": [
    {
     "name": "stdout",
     "output_type": "stream",
     "text": [
      "INSERT INTO user_account DEFAULT VALUES\n"
     ]
    }
   ],
   "execution_count": 26
  },
  {
   "metadata": {},
   "cell_type": "markdown",
   "source": "# INSERT...RETURNING",
   "id": "524ec823ff6861de"
  },
  {
   "metadata": {
    "ExecuteTime": {
     "end_time": "2024-10-03T11:04:06.661528Z",
     "start_time": "2024-10-03T11:04:06.656527Z"
    }
   },
   "cell_type": "code",
   "source": [
    "insert_stmt = insert(address_table).returning(\n",
    "    address_table.c.id, address_table.c.email_address\n",
    ")\n",
    "print(insert_stmt)"
   ],
   "id": "36ac51a40f226a11",
   "outputs": [
    {
     "name": "stdout",
     "output_type": "stream",
     "text": [
      "INSERT INTO address (id, user_id, email_address) VALUES (:id, :user_id, :email_address) RETURNING address.id, address.email_address\n"
     ]
    }
   ],
   "execution_count": 27
  },
  {
   "metadata": {
    "ExecuteTime": {
     "end_time": "2024-10-03T11:04:06.746817Z",
     "start_time": "2024-10-03T11:04:06.741868Z"
    }
   },
   "cell_type": "code",
   "source": [
    "# It can also be combined with Insert.from_select(), \n",
    "# as in the example below that builds upon the example stated in INSERT…FROM SELECT\n",
    "\n",
    "select_stmt = select(user_table.c.id, user_table.c.name + \"@aol.com\")\n",
    "insert_stmt = insert(address_table).from_select(\n",
    "    [\"user_id\", \"email_address\"], select_stmt\n",
    ")\n",
    "print(insert_stmt.returning(address_table.c.id, address_table.c.email_address))"
   ],
   "id": "ad542cd1b9a50c94",
   "outputs": [
    {
     "name": "stdout",
     "output_type": "stream",
     "text": [
      "INSERT INTO address (user_id, email_address) SELECT user_account.id, user_account.name || :name_1 AS anon_1 \n",
      "FROM user_account RETURNING address.id, address.email_address\n"
     ]
    }
   ],
   "execution_count": 28
  },
  {
   "metadata": {},
   "cell_type": "markdown",
   "source": "# INSERT...FROM SELECT",
   "id": "c153611d76118f93"
  },
  {
   "metadata": {
    "ExecuteTime": {
     "end_time": "2024-10-03T11:04:06.784018Z",
     "start_time": "2024-10-03T11:04:06.779345Z"
    }
   },
   "cell_type": "code",
   "source": [
    "# This construct is used when one wants to copy data from some other part of the database directly \n",
    "# into a new set of rows, without actually fetching and re-sending the data from the client\n",
    "\n",
    "select_stmt = select(user_table.c.id, user_table.c.name + \"@aol.com\")\n",
    "insert_stmt = insert(address_table).from_select(\n",
    "    [\"user_id\", \"email_address\"], select_stmt\n",
    ")\n",
    "print(insert_stmt)"
   ],
   "id": "554dc454592a2f67",
   "outputs": [
    {
     "name": "stdout",
     "output_type": "stream",
     "text": [
      "INSERT INTO address (user_id, email_address) SELECT user_account.id, user_account.name || :name_1 AS anon_1 \n",
      "FROM user_account\n"
     ]
    }
   ],
   "execution_count": 29
  },
  {
   "metadata": {
    "ExecuteTime": {
     "end_time": "2024-10-03T11:04:06.853788Z",
     "start_time": "2024-10-03T11:04:06.851519Z"
    }
   },
   "cell_type": "code",
   "source": "",
   "id": "fb27b7ad20bb8d17",
   "outputs": [],
   "execution_count": 29
  },
  {
   "metadata": {},
   "cell_type": "markdown",
   "source": "# *SELECT Statement examples*",
   "id": "272890eccb87df71"
  },
  {
   "metadata": {
    "ExecuteTime": {
     "end_time": "2024-10-03T11:04:06.876138Z",
     "start_time": "2024-10-03T11:04:06.870910Z"
    }
   },
   "cell_type": "code",
   "source": [
    "# SELECT FROM Table\n",
    "\n",
    "from sqlalchemy import select\n",
    "stmt = select(user_table).where(user_table.c.name == \"spongebob\")\n",
    "print(stmt)"
   ],
   "id": "70e736afcaed8aa3",
   "outputs": [
    {
     "name": "stdout",
     "output_type": "stream",
     "text": [
      "SELECT user_account.id, user_account.name, user_account.fullname \n",
      "FROM user_account \n",
      "WHERE user_account.name = :name_1\n"
     ]
    }
   ],
   "execution_count": 30
  },
  {
   "metadata": {
    "ExecuteTime": {
     "end_time": "2024-10-03T11:04:06.913023Z",
     "start_time": "2024-10-03T11:04:06.905308Z"
    }
   },
   "cell_type": "code",
   "source": [
    "# executing the SELECT statement\n",
    "\n",
    "with engine.connect() as conn:\n",
    "    for row in conn.execute(stmt):\n",
    "        print(row)"
   ],
   "id": "9fa3bf560a56feb4",
   "outputs": [
    {
     "name": "stdout",
     "output_type": "stream",
     "text": [
      "2024-10-03 14:04:06,907 INFO sqlalchemy.engine.Engine BEGIN (implicit)\n",
      "2024-10-03 14:04:06,908 INFO sqlalchemy.engine.Engine SELECT user_account.id, user_account.name, user_account.fullname \n",
      "FROM user_account \n",
      "WHERE user_account.name = ?\n",
      "2024-10-03 14:04:06,909 INFO sqlalchemy.engine.Engine [generated in 0.00137s] ('spongebob',)\n",
      "(1, 'spongebob', 'Spongebob Squarepants')\n",
      "2024-10-03 14:04:06,910 INFO sqlalchemy.engine.Engine ROLLBACK\n"
     ]
    }
   ],
   "execution_count": 31
  },
  {
   "metadata": {
    "ExecuteTime": {
     "end_time": "2024-10-03T11:04:06.968115Z",
     "start_time": "2024-10-03T11:04:06.956354Z"
    }
   },
   "cell_type": "code",
   "source": [
    "# ORM class\n",
    "\n",
    "from sqlalchemy.orm import Session\n",
    "\n",
    "stmt = select(User).where(User.name == \"spongebob\")\n",
    "with Session(engine) as session:\n",
    "    for row in session.execute(stmt):\n",
    "        print(row)"
   ],
   "id": "b0d439bc6d121bff",
   "outputs": [
    {
     "name": "stdout",
     "output_type": "stream",
     "text": [
      "2024-10-03 14:04:06,958 INFO sqlalchemy.engine.Engine BEGIN (implicit)\n",
      "2024-10-03 14:04:06,963 INFO sqlalchemy.engine.Engine SELECT user_account.id, user_account.name, user_account.fullname \n",
      "FROM user_account \n",
      "WHERE user_account.name = ?\n",
      "2024-10-03 14:04:06,964 INFO sqlalchemy.engine.Engine [generated in 0.00087s] ('spongebob',)\n",
      "(User(id=1, name='spongebob', fullname='Spongebob Squarepants'),)\n",
      "2024-10-03 14:04:06,965 INFO sqlalchemy.engine.Engine ROLLBACK\n"
     ]
    }
   ],
   "execution_count": 32
  },
  {
   "metadata": {},
   "cell_type": "markdown",
   "source": "# Setting the COLUMNS and FROM clause",
   "id": "cce511b7591bbaaf"
  },
  {
   "metadata": {
    "ExecuteTime": {
     "end_time": "2024-10-03T11:04:07.007683Z",
     "start_time": "2024-10-03T11:04:07.002693Z"
    }
   },
   "cell_type": "code",
   "source": "print(select(user_table))",
   "id": "88303ba330e51a32",
   "outputs": [
    {
     "name": "stdout",
     "output_type": "stream",
     "text": [
      "SELECT user_account.id, user_account.name, user_account.fullname \n",
      "FROM user_account\n"
     ]
    }
   ],
   "execution_count": 33
  },
  {
   "metadata": {
    "ExecuteTime": {
     "end_time": "2024-10-03T11:04:07.092224Z",
     "start_time": "2024-10-03T11:04:07.087520Z"
    }
   },
   "cell_type": "code",
   "source": [
    "# SELECT from individual columns\n",
    "print(select(user_table.c.name, user_table.c.fullname))"
   ],
   "id": "e1af8abeee7add65",
   "outputs": [
    {
     "name": "stdout",
     "output_type": "stream",
     "text": [
      "SELECT user_account.name, user_account.fullname \n",
      "FROM user_account\n"
     ]
    }
   ],
   "execution_count": 34
  },
  {
   "metadata": {
    "ExecuteTime": {
     "end_time": "2024-10-03T11:04:07.210234Z",
     "start_time": "2024-10-03T11:04:07.203870Z"
    }
   },
   "cell_type": "code",
   "source": [
    "# SELECT from individual columns in a bit different way\n",
    "print(select(user_table.c[\"name\", \"fullname\"]))"
   ],
   "id": "4db73d6bc0db4315",
   "outputs": [
    {
     "name": "stdout",
     "output_type": "stream",
     "text": [
      "SELECT user_account.name, user_account.fullname \n",
      "FROM user_account\n"
     ]
    }
   ],
   "execution_count": 35
  },
  {
   "metadata": {},
   "cell_type": "markdown",
   "source": "# Selecting ORM Entities and Columns",
   "id": "ff4d829bf6054a8d"
  },
  {
   "metadata": {
    "ExecuteTime": {
     "end_time": "2024-10-03T11:04:07.244159Z",
     "start_time": "2024-10-03T11:04:07.239193Z"
    }
   },
   "cell_type": "code",
   "source": "print(select(User))",
   "id": "bd9d3122515a1d4b",
   "outputs": [
    {
     "name": "stdout",
     "output_type": "stream",
     "text": [
      "SELECT user_account.id, user_account.name, user_account.fullname \n",
      "FROM user_account\n"
     ]
    }
   ],
   "execution_count": 36
  },
  {
   "metadata": {
    "ExecuteTime": {
     "end_time": "2024-10-03T11:04:07.328945Z",
     "start_time": "2024-10-03T11:04:07.321293Z"
    }
   },
   "cell_type": "code",
   "source": "row = session.execute(select(User)).first()",
   "id": "b3933b015279e823",
   "outputs": [
    {
     "name": "stdout",
     "output_type": "stream",
     "text": [
      "2024-10-03 14:04:07,323 INFO sqlalchemy.engine.Engine BEGIN (implicit)\n",
      "2024-10-03 14:04:07,324 INFO sqlalchemy.engine.Engine SELECT user_account.id, user_account.name, user_account.fullname \n",
      "FROM user_account\n",
      "2024-10-03 14:04:07,325 INFO sqlalchemy.engine.Engine [generated in 0.00101s] ()\n"
     ]
    }
   ],
   "execution_count": 37
  },
  {
   "metadata": {
    "ExecuteTime": {
     "end_time": "2024-10-03T11:04:07.364275Z",
     "start_time": "2024-10-03T11:04:07.358895Z"
    }
   },
   "cell_type": "code",
   "source": "row",
   "id": "1a8bd4bd05e48fb2",
   "outputs": [
    {
     "data": {
      "text/plain": [
       "(User(id=1, name='spongebob', fullname='Spongebob Squarepants'),)"
      ]
     },
     "execution_count": 38,
     "metadata": {},
     "output_type": "execute_result"
    }
   ],
   "execution_count": 38
  },
  {
   "metadata": {
    "ExecuteTime": {
     "end_time": "2024-10-03T11:04:07.424029Z",
     "start_time": "2024-10-03T11:04:07.417405Z"
    }
   },
   "cell_type": "code",
   "source": [
    "# using method .scalars() which returns object\n",
    "user = session.scalars(select(User)).first()"
   ],
   "id": "da1e9a81c1b24ee9",
   "outputs": [
    {
     "name": "stdout",
     "output_type": "stream",
     "text": [
      "2024-10-03 14:04:07,420 INFO sqlalchemy.engine.Engine SELECT user_account.id, user_account.name, user_account.fullname \n",
      "FROM user_account\n",
      "2024-10-03 14:04:07,421 INFO sqlalchemy.engine.Engine [cached since 0.09564s ago] ()\n"
     ]
    }
   ],
   "execution_count": 39
  },
  {
   "metadata": {
    "ExecuteTime": {
     "end_time": "2024-10-03T11:04:07.463688Z",
     "start_time": "2024-10-03T11:04:07.459575Z"
    }
   },
   "cell_type": "code",
   "source": "user",
   "id": "3a7d89ec6596d700",
   "outputs": [
    {
     "data": {
      "text/plain": [
       "User(id=1, name='spongebob', fullname='Spongebob Squarepants')"
      ]
     },
     "execution_count": 40,
     "metadata": {},
     "output_type": "execute_result"
    }
   ],
   "execution_count": 40
  },
  {
   "metadata": {
    "ExecuteTime": {
     "end_time": "2024-10-03T11:04:07.531424Z",
     "start_time": "2024-10-03T11:04:07.527356Z"
    }
   },
   "cell_type": "code",
   "source": "print(select(User.name, User.fullname))",
   "id": "4d5d753e23913ea3",
   "outputs": [
    {
     "name": "stdout",
     "output_type": "stream",
     "text": [
      "SELECT user_account.name, user_account.fullname \n",
      "FROM user_account\n"
     ]
    }
   ],
   "execution_count": 41
  },
  {
   "metadata": {
    "ExecuteTime": {
     "end_time": "2024-10-03T11:04:07.556795Z",
     "start_time": "2024-10-03T11:04:07.550338Z"
    }
   },
   "cell_type": "code",
   "source": "row = session.execute(select(User.name, User.fullname)).first()",
   "id": "d4f1fba1b4fba0b4",
   "outputs": [
    {
     "name": "stdout",
     "output_type": "stream",
     "text": [
      "2024-10-03 14:04:07,552 INFO sqlalchemy.engine.Engine SELECT user_account.name, user_account.fullname \n",
      "FROM user_account\n",
      "2024-10-03 14:04:07,553 INFO sqlalchemy.engine.Engine [generated in 0.00100s] ()\n"
     ]
    }
   ],
   "execution_count": 42
  },
  {
   "metadata": {
    "ExecuteTime": {
     "end_time": "2024-10-03T11:04:07.629021Z",
     "start_time": "2024-10-03T11:04:07.623172Z"
    }
   },
   "cell_type": "code",
   "source": "row",
   "id": "c8f090560fb3277a",
   "outputs": [
    {
     "data": {
      "text/plain": [
       "('spongebob', 'Spongebob Squarepants')"
      ]
     },
     "execution_count": 43,
     "metadata": {},
     "output_type": "execute_result"
    }
   ],
   "execution_count": 43
  },
  {
   "metadata": {
    "ExecuteTime": {
     "end_time": "2024-10-03T11:04:07.655429Z",
     "start_time": "2024-10-03T11:04:07.646374Z"
    }
   },
   "cell_type": "code",
   "source": [
    "session.execute(\n",
    "    select(User.name, Address).where(User.id == Address.user_id).order_by(Address.id)\n",
    ").all()"
   ],
   "id": "a556fbe70cba3d5d",
   "outputs": [
    {
     "name": "stdout",
     "output_type": "stream",
     "text": [
      "2024-10-03 14:04:07,649 INFO sqlalchemy.engine.Engine SELECT user_account.name, address.id, address.email_address, address.user_id \n",
      "FROM user_account, address \n",
      "WHERE user_account.id = address.user_id ORDER BY address.id\n",
      "2024-10-03 14:04:07,650 INFO sqlalchemy.engine.Engine [generated in 0.00092s] ()\n"
     ]
    },
    {
     "data": {
      "text/plain": [
       "[('spongebob', Address(id=1, email_address='spongebob@sqlalchemy.org')),\n",
       " ('sandy', Address(id=2, email_address='sandy@sqlalchemy.org')),\n",
       " ('sandy', Address(id=3, email_address='sandy@squirrelpower.org'))]"
      ]
     },
     "execution_count": 44,
     "metadata": {},
     "output_type": "execute_result"
    }
   ],
   "execution_count": 44
  },
  {
   "metadata": {},
   "cell_type": "markdown",
   "source": "# Selecting from Labeled SQL Expression",
   "id": "ca7872107c96df4d"
  },
  {
   "metadata": {},
   "cell_type": "code",
   "outputs": [],
   "execution_count": null,
   "source": "",
   "id": "ce6d25623679ba4f"
  },
  {
   "metadata": {},
   "cell_type": "code",
   "outputs": [],
   "execution_count": null,
   "source": "",
   "id": "a865fd06c02b0bb4"
  },
  {
   "metadata": {},
   "cell_type": "code",
   "outputs": [],
   "execution_count": null,
   "source": "",
   "id": "d8780a27bc88c7"
  },
  {
   "metadata": {},
   "cell_type": "code",
   "outputs": [],
   "execution_count": null,
   "source": "",
   "id": "c28cf3aaa8ea50d0"
  },
  {
   "metadata": {},
   "cell_type": "code",
   "outputs": [],
   "execution_count": null,
   "source": "",
   "id": "4018569ae3446495"
  },
  {
   "metadata": {},
   "cell_type": "code",
   "outputs": [],
   "execution_count": null,
   "source": "",
   "id": "204a4826502f695f"
  },
  {
   "metadata": {},
   "cell_type": "code",
   "outputs": [],
   "execution_count": null,
   "source": "",
   "id": "d5f1d8d0523b99c9"
  }
 ],
 "metadata": {
  "kernelspec": {
   "display_name": "Python 3",
   "language": "python",
   "name": "python3"
  },
  "language_info": {
   "codemirror_mode": {
    "name": "ipython",
    "version": 2
   },
   "file_extension": ".py",
   "mimetype": "text/x-python",
   "name": "python",
   "nbconvert_exporter": "python",
   "pygments_lexer": "ipython2",
   "version": "2.7.6"
  }
 },
 "nbformat": 4,
 "nbformat_minor": 5
}
