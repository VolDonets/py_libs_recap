{
 "cells": [
  {
   "metadata": {},
   "cell_type": "markdown",
   "source": "# Setting up MetaData with Table object",
   "id": "4a03c062bc49030c"
  },
  {
   "metadata": {
    "ExecuteTime": {
     "end_time": "2024-10-03T11:04:05.156473Z",
     "start_time": "2024-10-03T11:04:04.985524Z"
    }
   },
   "cell_type": "code",
   "source": [
    "from sqlalchemy import MetaData\n",
    "\n",
    "metadata_obj = MetaData()"
   ],
   "id": "f0d64eeb9e0650ea",
   "outputs": [],
   "execution_count": 1
  },
  {
   "metadata": {},
   "cell_type": "markdown",
   "source": "# Declaring the table",
   "id": "e955329382bbdd0a"
  },
  {
   "metadata": {
    "ExecuteTime": {
     "end_time": "2024-10-03T11:04:05.162925Z",
     "start_time": "2024-10-03T11:04:05.157485Z"
    }
   },
   "cell_type": "code",
   "source": [
    "from sqlalchemy import Table, Column, Integer, String\n",
    "\n",
    "user_table = Table(\n",
    "    \"user_account\",\n",
    "    metadata_obj,\n",
    "    Column(\"id\", Integer, primary_key=True),\n",
    "    Column(\"name\", String(30)),\n",
    "    Column(\"fullname\", String),\n",
    ")\n",
    "\n",
    "# 'Table' -- represents a DB table and assigns itself to a Metadata collection\n",
    "# 'Column' -- represents a column in a database table, and assigns itself to a Table object.\n",
    "# 'Integer', 'String' -- these classes represent SQL datatypes and can be passed to a Column, \n",
    "#             with or without necessarily being instantiated."
   ],
   "id": "2955cbfc86e37fd7",
   "outputs": [],
   "execution_count": 2
  },
  {
   "metadata": {
    "ExecuteTime": {
     "end_time": "2024-10-03T11:04:05.172820Z",
     "start_time": "2024-10-03T11:04:05.163934Z"
    }
   },
   "cell_type": "code",
   "source": "user_table.c.name",
   "id": "f957fe5371da10a3",
   "outputs": [
    {
     "data": {
      "text/plain": [
       "Column('name', String(length=30), table=<user_account>)"
      ]
     },
     "execution_count": 3,
     "metadata": {},
     "output_type": "execute_result"
    }
   ],
   "execution_count": 3
  },
  {
   "metadata": {
    "ExecuteTime": {
     "end_time": "2024-10-03T11:04:05.178674Z",
     "start_time": "2024-10-03T11:04:05.172820Z"
    }
   },
   "cell_type": "code",
   "source": "user_table.c.keys()",
   "id": "c43b60a0679522",
   "outputs": [
    {
     "data": {
      "text/plain": [
       "['id', 'name', 'fullname']"
      ]
     },
     "execution_count": 4,
     "metadata": {},
     "output_type": "execute_result"
    }
   ],
   "execution_count": 4
  },
  {
   "metadata": {
    "ExecuteTime": {
     "end_time": "2024-10-03T11:04:05.186244Z",
     "start_time": "2024-10-03T11:04:05.180896Z"
    }
   },
   "cell_type": "code",
   "source": "user_table.primary_key",
   "id": "a682635f3ecb7593",
   "outputs": [
    {
     "data": {
      "text/plain": [
       "PrimaryKeyConstraint(Column('id', Integer(), table=<user_account>, primary_key=True, nullable=False))"
      ]
     },
     "execution_count": 5,
     "metadata": {},
     "output_type": "execute_result"
    }
   ],
   "execution_count": 5
  },
  {
   "metadata": {
    "ExecuteTime": {
     "end_time": "2024-10-03T11:04:05.193887Z",
     "start_time": "2024-10-03T11:04:05.186244Z"
    }
   },
   "cell_type": "code",
   "source": [
    "from sqlalchemy import ForeignKey\n",
    "address_table = Table(\n",
    "    \"address\",\n",
    "    metadata_obj,\n",
    "    Column(\"id\", Integer, primary_key=True),\n",
    "    Column(\"user_id\", ForeignKey(\"user_account.id\"), nullable=False),\n",
    "    Column(\"email_address\", String, nullable=False),\n",
    ")"
   ],
   "id": "84051ae811ac068f",
   "outputs": [],
   "execution_count": 6
  },
  {
   "metadata": {},
   "cell_type": "markdown",
   "source": "# Emitting DDL to the DB (~CREATE TABLE)",
   "id": "593f7fa4882d0b9a"
  },
  {
   "metadata": {
    "ExecuteTime": {
     "end_time": "2024-10-03T11:04:05.212242Z",
     "start_time": "2024-10-03T11:04:05.195168Z"
    }
   },
   "cell_type": "code",
   "source": [
    "# create an engine object\n",
    "from sqlalchemy import create_engine\n",
    "\n",
    "engine = create_engine(\"sqlite+pysqlite:///:memory:\", echo=True)"
   ],
   "id": "6423b1352ff9a320",
   "outputs": [],
   "execution_count": 7
  },
  {
   "metadata": {
    "ExecuteTime": {
     "end_time": "2024-10-03T11:04:05.228060Z",
     "start_time": "2024-10-03T11:04:05.212242Z"
    }
   },
   "cell_type": "code",
   "source": "metadata_obj.create_all(engine)",
   "id": "66e0f366c03a6f7a",
   "outputs": [
    {
     "name": "stdout",
     "output_type": "stream",
     "text": [
      "2024-10-03 14:04:05,215 INFO sqlalchemy.engine.Engine BEGIN (implicit)\n",
      "2024-10-03 14:04:05,216 INFO sqlalchemy.engine.Engine PRAGMA main.table_info(\"user_account\")\n",
      "2024-10-03 14:04:05,216 INFO sqlalchemy.engine.Engine [raw sql] ()\n",
      "2024-10-03 14:04:05,217 INFO sqlalchemy.engine.Engine PRAGMA temp.table_info(\"user_account\")\n",
      "2024-10-03 14:04:05,218 INFO sqlalchemy.engine.Engine [raw sql] ()\n",
      "2024-10-03 14:04:05,218 INFO sqlalchemy.engine.Engine PRAGMA main.table_info(\"address\")\n",
      "2024-10-03 14:04:05,219 INFO sqlalchemy.engine.Engine [raw sql] ()\n",
      "2024-10-03 14:04:05,219 INFO sqlalchemy.engine.Engine PRAGMA temp.table_info(\"address\")\n",
      "2024-10-03 14:04:05,221 INFO sqlalchemy.engine.Engine [raw sql] ()\n",
      "2024-10-03 14:04:05,222 INFO sqlalchemy.engine.Engine \n",
      "CREATE TABLE user_account (\n",
      "\tid INTEGER NOT NULL, \n",
      "\tname VARCHAR(30), \n",
      "\tfullname VARCHAR, \n",
      "\tPRIMARY KEY (id)\n",
      ")\n",
      "\n",
      "\n",
      "2024-10-03 14:04:05,223 INFO sqlalchemy.engine.Engine [no key 0.00089s] ()\n",
      "2024-10-03 14:04:05,224 INFO sqlalchemy.engine.Engine \n",
      "CREATE TABLE address (\n",
      "\tid INTEGER NOT NULL, \n",
      "\tuser_id INTEGER NOT NULL, \n",
      "\temail_address VARCHAR NOT NULL, \n",
      "\tPRIMARY KEY (id), \n",
      "\tFOREIGN KEY(user_id) REFERENCES user_account (id)\n",
      ")\n",
      "\n",
      "\n",
      "2024-10-03 14:04:05,225 INFO sqlalchemy.engine.Engine [no key 0.00062s] ()\n",
      "2024-10-03 14:04:05,226 INFO sqlalchemy.engine.Engine COMMIT\n"
     ]
    }
   ],
   "execution_count": 8
  },
  {
   "metadata": {},
   "cell_type": "markdown",
   "source": "# Establishing a Declarative Base",
   "id": "abf73ade7bae4f10"
  },
  {
   "metadata": {
    "ExecuteTime": {
     "end_time": "2024-10-03T11:04:05.358732Z",
     "start_time": "2024-10-03T11:04:05.229069Z"
    }
   },
   "cell_type": "code",
   "source": [
    "from sqlalchemy.orm import DeclarativeBase\n",
    "class Base(DeclarativeBase):\n",
    "    pass"
   ],
   "id": "26dd3f6a606ffe0c",
   "outputs": [],
   "execution_count": 9
  },
  {
   "metadata": {
    "ExecuteTime": {
     "end_time": "2024-10-03T11:04:05.365880Z",
     "start_time": "2024-10-03T11:04:05.360060Z"
    }
   },
   "cell_type": "code",
   "source": "Base.metadata",
   "id": "639fef9a66aa7ebb",
   "outputs": [
    {
     "data": {
      "text/plain": [
       "MetaData()"
      ]
     },
     "execution_count": 10,
     "metadata": {},
     "output_type": "execute_result"
    }
   ],
   "execution_count": 10
  },
  {
   "metadata": {
    "ExecuteTime": {
     "end_time": "2024-10-03T11:04:05.374122Z",
     "start_time": "2024-10-03T11:04:05.368836Z"
    }
   },
   "cell_type": "code",
   "source": "Base.registry",
   "id": "5f64d5e026233bd0",
   "outputs": [
    {
     "data": {
      "text/plain": [
       "<sqlalchemy.orm.decl_api.registry at 0x260d65f6010>"
      ]
     },
     "execution_count": 11,
     "metadata": {},
     "output_type": "execute_result"
    }
   ],
   "execution_count": 11
  },
  {
   "metadata": {},
   "cell_type": "markdown",
   "source": "# Declaring Mapped Classes",
   "id": "54d155455ec8940a"
  },
  {
   "metadata": {
    "ExecuteTime": {
     "end_time": "2024-10-03T11:04:05.386393Z",
     "start_time": "2024-10-03T11:04:05.375505Z"
    }
   },
   "cell_type": "code",
   "source": [
    "from typing import List\n",
    "from typing import Optional\n",
    "from sqlalchemy.orm import Mapped\n",
    "from sqlalchemy.orm import mapped_column\n",
    "from sqlalchemy.orm import relationship\n",
    "\n",
    "class User(Base):\n",
    "    __tablename__ = \"user_account\"\n",
    "    id: Mapped[int] = mapped_column(primary_key=True)\n",
    "    name: Mapped[str] = mapped_column(String(30))\n",
    "    fullname: Mapped[Optional[str]]\n",
    "    addresses: Mapped[List[\"Address\"]] = relationship(back_populates=\"user\")\n",
    "    def __repr__(self) -> str:\n",
    "        return f\"User(id={self.id!r}, name={self.name!r}, fullname={self.fullname!r})\"\n",
    "\n",
    "class Address(Base):\n",
    "    __tablename__ = \"address\"\n",
    "    id: Mapped[int] = mapped_column(primary_key=True)\n",
    "    email_address: Mapped[str]\n",
    "    user_id = mapped_column(ForeignKey(\"user_account.id\"))\n",
    "    user: Mapped[User] = relationship(back_populates=\"addresses\")\n",
    "    def __repr__(self) -> str:\n",
    "        return f\"Address(id={self.id!r}, email_address={self.email_address!r})\""
   ],
   "id": "635e07127670ce55",
   "outputs": [],
   "execution_count": 12
  },
  {
   "metadata": {},
   "cell_type": "markdown",
   "source": "# Emitting DDL to the database from an ORM mapping",
   "id": "33e3d3293d98c78e"
  },
  {
   "metadata": {
    "ExecuteTime": {
     "end_time": "2024-10-03T11:04:05.430260Z",
     "start_time": "2024-10-03T11:04:05.423051Z"
    }
   },
   "cell_type": "code",
   "source": "Base.metadata.create_all(engine)",
   "id": "a640e1701adb0cf2",
   "outputs": [
    {
     "name": "stdout",
     "output_type": "stream",
     "text": [
      "2024-10-03 14:04:05,424 INFO sqlalchemy.engine.Engine BEGIN (implicit)\n",
      "2024-10-03 14:04:05,425 INFO sqlalchemy.engine.Engine PRAGMA main.table_info(\"user_account\")\n",
      "2024-10-03 14:04:05,425 INFO sqlalchemy.engine.Engine [raw sql] ()\n",
      "2024-10-03 14:04:05,426 INFO sqlalchemy.engine.Engine PRAGMA main.table_info(\"address\")\n",
      "2024-10-03 14:04:05,426 INFO sqlalchemy.engine.Engine [raw sql] ()\n",
      "2024-10-03 14:04:05,427 INFO sqlalchemy.engine.Engine COMMIT\n"
     ]
    }
   ],
   "execution_count": 13
  },
  {
   "metadata": {},
   "cell_type": "markdown",
   "source": "# Table Reflection",
   "id": "82144cd71c299f4a"
  },
  {
   "metadata": {
    "ExecuteTime": {
     "end_time": "2024-10-03T11:04:05.594852Z",
     "start_time": "2024-10-03T11:04:05.578109Z"
    }
   },
   "cell_type": "code",
   "source": [
    "# prepare the table named 'some_table' from previous section\n",
    "\n",
    "from sqlalchemy import text\n",
    "\n",
    "with engine.connect() as conn:\n",
    "    conn.execute(text(\"CREATE TABLE some_table (x int, y int)\"))\n",
    "    conn.execute(\n",
    "        text(\"INSERT INTO some_table (x, y) VALUES (:x, :y)\"),\n",
    "        [{\"x\": 1, \"y\": 1}, {\"x\": 2, \"y\": 4}],\n",
    "    )\n",
    "    conn.commit()\n",
    "    \n",
    "with engine.begin() as conn:\n",
    "    conn.execute(\n",
    "        text(\"INSERT INTO some_table (x, y) VALUES (:x, :y)\"),\n",
    "        [{\"x\": 6, \"y\": 8}, {\"x\": 9, \"y\": 10}],\n",
    "    )"
   ],
   "id": "16e9d25441965003",
   "outputs": [
    {
     "name": "stdout",
     "output_type": "stream",
     "text": [
      "2024-10-03 14:04:05,582 INFO sqlalchemy.engine.Engine BEGIN (implicit)\n",
      "2024-10-03 14:04:05,583 INFO sqlalchemy.engine.Engine CREATE TABLE some_table (x int, y int)\n",
      "2024-10-03 14:04:05,584 INFO sqlalchemy.engine.Engine [generated in 0.00230s] ()\n",
      "2024-10-03 14:04:05,585 INFO sqlalchemy.engine.Engine INSERT INTO some_table (x, y) VALUES (?, ?)\n",
      "2024-10-03 14:04:05,586 INFO sqlalchemy.engine.Engine [generated in 0.00108s] [(1, 1), (2, 4)]\n",
      "2024-10-03 14:04:05,587 INFO sqlalchemy.engine.Engine COMMIT\n",
      "2024-10-03 14:04:05,588 INFO sqlalchemy.engine.Engine BEGIN (implicit)\n",
      "2024-10-03 14:04:05,589 INFO sqlalchemy.engine.Engine INSERT INTO some_table (x, y) VALUES (?, ?)\n",
      "2024-10-03 14:04:05,591 INFO sqlalchemy.engine.Engine [cached since 0.005111s ago] [(6, 8), (9, 10)]\n",
      "2024-10-03 14:04:05,591 INFO sqlalchemy.engine.Engine COMMIT\n"
     ]
    }
   ],
   "execution_count": 14
  },
  {
   "metadata": {
    "ExecuteTime": {
     "end_time": "2024-10-03T11:04:05.741744Z",
     "start_time": "2024-10-03T11:04:05.714085Z"
    }
   },
   "cell_type": "code",
   "source": "some_table = Table(\"some_table\", metadata_obj, autoload_with=engine)",
   "id": "20f3fb037a6e990b",
   "outputs": [
    {
     "name": "stdout",
     "output_type": "stream",
     "text": [
      "2024-10-03 14:04:05,716 INFO sqlalchemy.engine.Engine BEGIN (implicit)\n",
      "2024-10-03 14:04:05,717 INFO sqlalchemy.engine.Engine PRAGMA main.table_xinfo(\"some_table\")\n",
      "2024-10-03 14:04:05,718 INFO sqlalchemy.engine.Engine [raw sql] ()\n",
      "2024-10-03 14:04:05,720 INFO sqlalchemy.engine.Engine SELECT sql FROM  (SELECT * FROM sqlite_master UNION ALL   SELECT * FROM sqlite_temp_master) WHERE name = ? AND type in ('table', 'view')\n",
      "2024-10-03 14:04:05,720 INFO sqlalchemy.engine.Engine [raw sql] ('some_table',)\n",
      "2024-10-03 14:04:05,721 INFO sqlalchemy.engine.Engine PRAGMA main.foreign_key_list(\"some_table\")\n",
      "2024-10-03 14:04:05,722 INFO sqlalchemy.engine.Engine [raw sql] ()\n",
      "2024-10-03 14:04:05,723 INFO sqlalchemy.engine.Engine PRAGMA temp.foreign_key_list(\"some_table\")\n",
      "2024-10-03 14:04:05,723 INFO sqlalchemy.engine.Engine [raw sql] ()\n",
      "2024-10-03 14:04:05,724 INFO sqlalchemy.engine.Engine SELECT sql FROM  (SELECT * FROM sqlite_master UNION ALL   SELECT * FROM sqlite_temp_master) WHERE name = ? AND type in ('table', 'view')\n",
      "2024-10-03 14:04:05,726 INFO sqlalchemy.engine.Engine [raw sql] ('some_table',)\n",
      "2024-10-03 14:04:05,728 INFO sqlalchemy.engine.Engine PRAGMA main.index_list(\"some_table\")\n",
      "2024-10-03 14:04:05,728 INFO sqlalchemy.engine.Engine [raw sql] ()\n",
      "2024-10-03 14:04:05,728 INFO sqlalchemy.engine.Engine PRAGMA temp.index_list(\"some_table\")\n",
      "2024-10-03 14:04:05,730 INFO sqlalchemy.engine.Engine [raw sql] ()\n",
      "2024-10-03 14:04:05,731 INFO sqlalchemy.engine.Engine PRAGMA main.table_info(\"some_table\")\n",
      "2024-10-03 14:04:05,731 INFO sqlalchemy.engine.Engine [raw sql] ()\n",
      "2024-10-03 14:04:05,732 INFO sqlalchemy.engine.Engine PRAGMA main.index_list(\"some_table\")\n",
      "2024-10-03 14:04:05,733 INFO sqlalchemy.engine.Engine [raw sql] ()\n",
      "2024-10-03 14:04:05,733 INFO sqlalchemy.engine.Engine PRAGMA temp.index_list(\"some_table\")\n",
      "2024-10-03 14:04:05,733 INFO sqlalchemy.engine.Engine [raw sql] ()\n",
      "2024-10-03 14:04:05,735 INFO sqlalchemy.engine.Engine PRAGMA main.table_info(\"some_table\")\n",
      "2024-10-03 14:04:05,736 INFO sqlalchemy.engine.Engine [raw sql] ()\n",
      "2024-10-03 14:04:05,736 INFO sqlalchemy.engine.Engine SELECT sql FROM  (SELECT * FROM sqlite_master UNION ALL   SELECT * FROM sqlite_temp_master) WHERE name = ? AND type in ('table', 'view')\n",
      "2024-10-03 14:04:05,738 INFO sqlalchemy.engine.Engine [raw sql] ('some_table',)\n",
      "2024-10-03 14:04:05,739 INFO sqlalchemy.engine.Engine ROLLBACK\n"
     ]
    }
   ],
   "execution_count": 15
  },
  {
   "metadata": {
    "ExecuteTime": {
     "end_time": "2024-10-03T11:04:05.797555Z",
     "start_time": "2024-10-03T11:04:05.792426Z"
    }
   },
   "cell_type": "code",
   "source": "some_table",
   "id": "d62655a7088fb052",
   "outputs": [
    {
     "data": {
      "text/plain": [
       "Table('some_table', MetaData(), Column('x', INTEGER(), table=<some_table>), Column('y', INTEGER(), table=<some_table>), schema=None)"
      ]
     },
     "execution_count": 16,
     "metadata": {},
     "output_type": "execute_result"
    }
   ],
   "execution_count": 16
  },
  {
   "metadata": {},
   "cell_type": "markdown",
   "source": "# The insert() SQL Expression Construct",
   "id": "5e18cc07a54dce09"
  },
  {
   "metadata": {
    "ExecuteTime": {
     "end_time": "2024-10-03T11:04:05.941968Z",
     "start_time": "2024-10-03T11:04:05.937260Z"
    }
   },
   "cell_type": "code",
   "source": [
    "from sqlalchemy import insert\n",
    "\n",
    "stmt = insert(user_table).values(name=\"spongebob\", fullname=\"Spongebob Squarepants\")"
   ],
   "id": "c9a0dd3a4c037597",
   "outputs": [],
   "execution_count": 17
  },
  {
   "metadata": {
    "ExecuteTime": {
     "end_time": "2024-10-03T11:04:06.203121Z",
     "start_time": "2024-10-03T11:04:06.198889Z"
    }
   },
   "cell_type": "code",
   "source": "print(stmt)",
   "id": "4d1a26aa34ef0a9c",
   "outputs": [
    {
     "name": "stdout",
     "output_type": "stream",
     "text": [
      "INSERT INTO user_account (name, fullname) VALUES (:name, :fullname)\n"
     ]
    }
   ],
   "execution_count": 18
  },
  {
   "metadata": {
    "ExecuteTime": {
     "end_time": "2024-10-03T11:04:06.243962Z",
     "start_time": "2024-10-03T11:04:06.238168Z"
    }
   },
   "cell_type": "code",
   "source": "compiled = stmt.compile()",
   "id": "ed547d713bbf32c6",
   "outputs": [],
   "execution_count": 19
  },
  {
   "metadata": {
    "ExecuteTime": {
     "end_time": "2024-10-03T11:04:06.296306Z",
     "start_time": "2024-10-03T11:04:06.290836Z"
    }
   },
   "cell_type": "code",
   "source": "compiled.params",
   "id": "5f728e22ccba9ca7",
   "outputs": [
    {
     "data": {
      "text/plain": [
       "{'name': 'spongebob', 'fullname': 'Spongebob Squarepants'}"
      ]
     },
     "execution_count": 20,
     "metadata": {},
     "output_type": "execute_result"
    }
   ],
   "execution_count": 20
  },
  {
   "metadata": {
    "ExecuteTime": {
     "end_time": "2024-10-03T11:04:06.341423Z",
     "start_time": "2024-10-03T11:04:06.333157Z"
    }
   },
   "cell_type": "code",
   "source": [
    "with engine.connect() as conn:\n",
    "    result = conn.execute(stmt)\n",
    "    conn.commit()"
   ],
   "id": "37ea21d96a7ceaca",
   "outputs": [
    {
     "name": "stdout",
     "output_type": "stream",
     "text": [
      "2024-10-03 14:04:06,335 INFO sqlalchemy.engine.Engine BEGIN (implicit)\n",
      "2024-10-03 14:04:06,336 INFO sqlalchemy.engine.Engine INSERT INTO user_account (name, fullname) VALUES (?, ?)\n",
      "2024-10-03 14:04:06,337 INFO sqlalchemy.engine.Engine [generated in 0.00184s] ('spongebob', 'Spongebob Squarepants')\n",
      "2024-10-03 14:04:06,339 INFO sqlalchemy.engine.Engine COMMIT\n"
     ]
    }
   ],
   "execution_count": 21
  },
  {
   "metadata": {
    "ExecuteTime": {
     "end_time": "2024-10-03T11:04:06.391531Z",
     "start_time": "2024-10-03T11:04:06.386469Z"
    }
   },
   "cell_type": "code",
   "source": "result.inserted_primary_key",
   "id": "cbaf93cf8eb5a1ba",
   "outputs": [
    {
     "data": {
      "text/plain": [
       "(1,)"
      ]
     },
     "execution_count": 22,
     "metadata": {},
     "output_type": "execute_result"
    }
   ],
   "execution_count": 22
  },
  {
   "metadata": {},
   "cell_type": "markdown",
   "source": "# INSERT usually generate the \"values\" clause automatically",
   "id": "eff0ddd47aeef8ca"
  },
  {
   "metadata": {
    "ExecuteTime": {
     "end_time": "2024-10-03T11:04:06.419810Z",
     "start_time": "2024-10-03T11:04:06.415388Z"
    }
   },
   "cell_type": "code",
   "source": [
    "# Simple insert() statement provide input for all columns in the table\n",
    "print(insert(user_table))"
   ],
   "id": "63bed71195976de0",
   "outputs": [
    {
     "name": "stdout",
     "output_type": "stream",
     "text": [
      "INSERT INTO user_account (id, name, fullname) VALUES (:id, :name, :fullname)\n"
     ]
    }
   ],
   "execution_count": 23
  },
  {
   "metadata": {
    "ExecuteTime": {
     "end_time": "2024-10-03T11:04:06.508688Z",
     "start_time": "2024-10-03T11:04:06.500210Z"
    }
   },
   "cell_type": "code",
   "source": [
    "with engine.connect() as conn:\n",
    "    result = conn.execute(\n",
    "        insert(user_table),\n",
    "        [\n",
    "            {\"name\": \"sandy\", \"fullname\": \"Sandy Cheeks\"},\n",
    "            {\"name\": \"patrick\", \"fullname\": \"Patrick Star\"},\n",
    "        ],\n",
    "    )\n",
    "    conn.commit()"
   ],
   "id": "d5856cccb316ecf2",
   "outputs": [
    {
     "name": "stdout",
     "output_type": "stream",
     "text": [
      "2024-10-03 14:04:06,502 INFO sqlalchemy.engine.Engine BEGIN (implicit)\n",
      "2024-10-03 14:04:06,503 INFO sqlalchemy.engine.Engine INSERT INTO user_account (name, fullname) VALUES (?, ?)\n",
      "2024-10-03 14:04:06,504 INFO sqlalchemy.engine.Engine [generated in 0.00188s] [('sandy', 'Sandy Cheeks'), ('patrick', 'Patrick Star')]\n",
      "2024-10-03 14:04:06,504 INFO sqlalchemy.engine.Engine COMMIT\n"
     ]
    }
   ],
   "execution_count": 24
  },
  {
   "metadata": {
    "ExecuteTime": {
     "end_time": "2024-10-03T11:04:06.552012Z",
     "start_time": "2024-10-03T11:04:06.539681Z"
    }
   },
   "cell_type": "code",
   "source": [
    "from sqlalchemy import select, bindparam\n",
    "scalar_subq = (\n",
    "    select(user_table.c.id)\n",
    "    .where(user_table.c.name == bindparam(\"username\"))\n",
    "    .scalar_subquery()\n",
    ")\n",
    "\n",
    "with engine.connect() as conn:\n",
    "    result = conn.execute(\n",
    "        insert(address_table).values(user_id=scalar_subq),\n",
    "        [\n",
    "            {\n",
    "                \"username\": \"spongebob\",\n",
    "                \"email_address\": \"spongebob@sqlalchemy.org\",\n",
    "            },\n",
    "            {\"username\": \"sandy\", \"email_address\": \"sandy@sqlalchemy.org\"},\n",
    "            {\"username\": \"sandy\", \"email_address\": \"sandy@squirrelpower.org\"},\n",
    "        ],\n",
    "    )\n",
    "    conn.commit()"
   ],
   "id": "6512290bca80b14a",
   "outputs": [
    {
     "name": "stdout",
     "output_type": "stream",
     "text": [
      "2024-10-03 14:04:06,546 INFO sqlalchemy.engine.Engine BEGIN (implicit)\n",
      "2024-10-03 14:04:06,547 INFO sqlalchemy.engine.Engine INSERT INTO address (user_id, email_address) VALUES ((SELECT user_account.id \n",
      "FROM user_account \n",
      "WHERE user_account.name = ?), ?)\n",
      "2024-10-03 14:04:06,548 INFO sqlalchemy.engine.Engine [generated in 0.00210s] [('spongebob', 'spongebob@sqlalchemy.org'), ('sandy', 'sandy@sqlalchemy.org'), ('sandy', 'sandy@squirrelpower.org')]\n",
      "2024-10-03 14:04:06,549 INFO sqlalchemy.engine.Engine COMMIT\n"
     ]
    }
   ],
   "execution_count": 25
  },
  {
   "metadata": {
    "ExecuteTime": {
     "end_time": "2024-10-03T11:04:06.627519Z",
     "start_time": "2024-10-03T11:04:06.622826Z"
    }
   },
   "cell_type": "code",
   "source": [
    "# A true 'empty' INSERT that inserts only the 'defaults' for a table:\n",
    "print(insert(user_table).values().compile(engine))"
   ],
   "id": "4533bd5f90ce1da9",
   "outputs": [
    {
     "name": "stdout",
     "output_type": "stream",
     "text": [
      "INSERT INTO user_account DEFAULT VALUES\n"
     ]
    }
   ],
   "execution_count": 26
  },
  {
   "metadata": {},
   "cell_type": "markdown",
   "source": "# INSERT...RETURNING",
   "id": "524ec823ff6861de"
  },
  {
   "metadata": {
    "ExecuteTime": {
     "end_time": "2024-10-03T11:04:06.661528Z",
     "start_time": "2024-10-03T11:04:06.656527Z"
    }
   },
   "cell_type": "code",
   "source": [
    "insert_stmt = insert(address_table).returning(\n",
    "    address_table.c.id, address_table.c.email_address\n",
    ")\n",
    "print(insert_stmt)"
   ],
   "id": "36ac51a40f226a11",
   "outputs": [
    {
     "name": "stdout",
     "output_type": "stream",
     "text": [
      "INSERT INTO address (id, user_id, email_address) VALUES (:id, :user_id, :email_address) RETURNING address.id, address.email_address\n"
     ]
    }
   ],
   "execution_count": 27
  },
  {
   "metadata": {
    "ExecuteTime": {
     "end_time": "2024-10-03T11:04:06.746817Z",
     "start_time": "2024-10-03T11:04:06.741868Z"
    }
   },
   "cell_type": "code",
   "source": [
    "# It can also be combined with Insert.from_select(), \n",
    "# as in the example below that builds upon the example stated in INSERT…FROM SELECT\n",
    "\n",
    "select_stmt = select(user_table.c.id, user_table.c.name + \"@aol.com\")\n",
    "insert_stmt = insert(address_table).from_select(\n",
    "    [\"user_id\", \"email_address\"], select_stmt\n",
    ")\n",
    "print(insert_stmt.returning(address_table.c.id, address_table.c.email_address))"
   ],
   "id": "ad542cd1b9a50c94",
   "outputs": [
    {
     "name": "stdout",
     "output_type": "stream",
     "text": [
      "INSERT INTO address (user_id, email_address) SELECT user_account.id, user_account.name || :name_1 AS anon_1 \n",
      "FROM user_account RETURNING address.id, address.email_address\n"
     ]
    }
   ],
   "execution_count": 28
  },
  {
   "metadata": {},
   "cell_type": "markdown",
   "source": "# INSERT...FROM SELECT",
   "id": "c153611d76118f93"
  },
  {
   "metadata": {
    "ExecuteTime": {
     "end_time": "2024-10-03T11:04:06.784018Z",
     "start_time": "2024-10-03T11:04:06.779345Z"
    }
   },
   "cell_type": "code",
   "source": [
    "# This construct is used when one wants to copy data from some other part of the database directly \n",
    "# into a new set of rows, without actually fetching and re-sending the data from the client\n",
    "\n",
    "select_stmt = select(user_table.c.id, user_table.c.name + \"@aol.com\")\n",
    "insert_stmt = insert(address_table).from_select(\n",
    "    [\"user_id\", \"email_address\"], select_stmt\n",
    ")\n",
    "print(insert_stmt)"
   ],
   "id": "554dc454592a2f67",
   "outputs": [
    {
     "name": "stdout",
     "output_type": "stream",
     "text": [
      "INSERT INTO address (user_id, email_address) SELECT user_account.id, user_account.name || :name_1 AS anon_1 \n",
      "FROM user_account\n"
     ]
    }
   ],
   "execution_count": 29
  },
  {
   "metadata": {
    "ExecuteTime": {
     "end_time": "2024-10-03T11:04:06.853788Z",
     "start_time": "2024-10-03T11:04:06.851519Z"
    }
   },
   "cell_type": "code",
   "source": "",
   "id": "fb27b7ad20bb8d17",
   "outputs": [],
   "execution_count": 29
  },
  {
   "metadata": {},
   "cell_type": "markdown",
   "source": "# *SELECT Statement examples*",
   "id": "272890eccb87df71"
  },
  {
   "metadata": {
    "ExecuteTime": {
     "end_time": "2024-10-03T11:04:06.876138Z",
     "start_time": "2024-10-03T11:04:06.870910Z"
    }
   },
   "cell_type": "code",
   "source": [
    "# SELECT FROM Table\n",
    "\n",
    "from sqlalchemy import select\n",
    "stmt = select(user_table).where(user_table.c.name == \"spongebob\")\n",
    "print(stmt)"
   ],
   "id": "70e736afcaed8aa3",
   "outputs": [
    {
     "name": "stdout",
     "output_type": "stream",
     "text": [
      "SELECT user_account.id, user_account.name, user_account.fullname \n",
      "FROM user_account \n",
      "WHERE user_account.name = :name_1\n"
     ]
    }
   ],
   "execution_count": 30
  },
  {
   "metadata": {
    "ExecuteTime": {
     "end_time": "2024-10-03T11:04:06.913023Z",
     "start_time": "2024-10-03T11:04:06.905308Z"
    }
   },
   "cell_type": "code",
   "source": [
    "# executing the SELECT statement\n",
    "\n",
    "with engine.connect() as conn:\n",
    "    for row in conn.execute(stmt):\n",
    "        print(row)"
   ],
   "id": "9fa3bf560a56feb4",
   "outputs": [
    {
     "name": "stdout",
     "output_type": "stream",
     "text": [
      "2024-10-03 14:04:06,907 INFO sqlalchemy.engine.Engine BEGIN (implicit)\n",
      "2024-10-03 14:04:06,908 INFO sqlalchemy.engine.Engine SELECT user_account.id, user_account.name, user_account.fullname \n",
      "FROM user_account \n",
      "WHERE user_account.name = ?\n",
      "2024-10-03 14:04:06,909 INFO sqlalchemy.engine.Engine [generated in 0.00137s] ('spongebob',)\n",
      "(1, 'spongebob', 'Spongebob Squarepants')\n",
      "2024-10-03 14:04:06,910 INFO sqlalchemy.engine.Engine ROLLBACK\n"
     ]
    }
   ],
   "execution_count": 31
  },
  {
   "metadata": {
    "ExecuteTime": {
     "end_time": "2024-10-03T11:04:06.968115Z",
     "start_time": "2024-10-03T11:04:06.956354Z"
    }
   },
   "cell_type": "code",
   "source": [
    "# ORM class\n",
    "\n",
    "from sqlalchemy.orm import Session\n",
    "\n",
    "stmt = select(User).where(User.name == \"spongebob\")\n",
    "with Session(engine) as session:\n",
    "    for row in session.execute(stmt):\n",
    "        print(row)"
   ],
   "id": "b0d439bc6d121bff",
   "outputs": [
    {
     "name": "stdout",
     "output_type": "stream",
     "text": [
      "2024-10-03 14:04:06,958 INFO sqlalchemy.engine.Engine BEGIN (implicit)\n",
      "2024-10-03 14:04:06,963 INFO sqlalchemy.engine.Engine SELECT user_account.id, user_account.name, user_account.fullname \n",
      "FROM user_account \n",
      "WHERE user_account.name = ?\n",
      "2024-10-03 14:04:06,964 INFO sqlalchemy.engine.Engine [generated in 0.00087s] ('spongebob',)\n",
      "(User(id=1, name='spongebob', fullname='Spongebob Squarepants'),)\n",
      "2024-10-03 14:04:06,965 INFO sqlalchemy.engine.Engine ROLLBACK\n"
     ]
    }
   ],
   "execution_count": 32
  },
  {
   "metadata": {},
   "cell_type": "markdown",
   "source": "# Setting the COLUMNS and FROM clause",
   "id": "cce511b7591bbaaf"
  },
  {
   "metadata": {
    "ExecuteTime": {
     "end_time": "2024-10-03T11:04:07.007683Z",
     "start_time": "2024-10-03T11:04:07.002693Z"
    }
   },
   "cell_type": "code",
   "source": "print(select(user_table))",
   "id": "88303ba330e51a32",
   "outputs": [
    {
     "name": "stdout",
     "output_type": "stream",
     "text": [
      "SELECT user_account.id, user_account.name, user_account.fullname \n",
      "FROM user_account\n"
     ]
    }
   ],
   "execution_count": 33
  },
  {
   "metadata": {
    "ExecuteTime": {
     "end_time": "2024-10-03T11:04:07.092224Z",
     "start_time": "2024-10-03T11:04:07.087520Z"
    }
   },
   "cell_type": "code",
   "source": [
    "# SELECT from individual columns\n",
    "print(select(user_table.c.name, user_table.c.fullname))"
   ],
   "id": "e1af8abeee7add65",
   "outputs": [
    {
     "name": "stdout",
     "output_type": "stream",
     "text": [
      "SELECT user_account.name, user_account.fullname \n",
      "FROM user_account\n"
     ]
    }
   ],
   "execution_count": 34
  },
  {
   "metadata": {
    "ExecuteTime": {
     "end_time": "2024-10-03T11:04:07.210234Z",
     "start_time": "2024-10-03T11:04:07.203870Z"
    }
   },
   "cell_type": "code",
   "source": [
    "# SELECT from individual columns in a bit different way\n",
    "print(select(user_table.c[\"name\", \"fullname\"]))"
   ],
   "id": "4db73d6bc0db4315",
   "outputs": [
    {
     "name": "stdout",
     "output_type": "stream",
     "text": [
      "SELECT user_account.name, user_account.fullname \n",
      "FROM user_account\n"
     ]
    }
   ],
   "execution_count": 35
  },
  {
   "metadata": {},
   "cell_type": "markdown",
   "source": "# Selecting ORM Entities and Columns",
   "id": "ff4d829bf6054a8d"
  },
  {
   "metadata": {
    "ExecuteTime": {
     "end_time": "2024-10-03T11:04:07.244159Z",
     "start_time": "2024-10-03T11:04:07.239193Z"
    }
   },
   "cell_type": "code",
   "source": "print(select(User))",
   "id": "bd9d3122515a1d4b",
   "outputs": [
    {
     "name": "stdout",
     "output_type": "stream",
     "text": [
      "SELECT user_account.id, user_account.name, user_account.fullname \n",
      "FROM user_account\n"
     ]
    }
   ],
   "execution_count": 36
  },
  {
   "metadata": {
    "ExecuteTime": {
     "end_time": "2024-10-03T11:04:07.328945Z",
     "start_time": "2024-10-03T11:04:07.321293Z"
    }
   },
   "cell_type": "code",
   "source": "row = session.execute(select(User)).first()",
   "id": "b3933b015279e823",
   "outputs": [
    {
     "name": "stdout",
     "output_type": "stream",
     "text": [
      "2024-10-03 14:04:07,323 INFO sqlalchemy.engine.Engine BEGIN (implicit)\n",
      "2024-10-03 14:04:07,324 INFO sqlalchemy.engine.Engine SELECT user_account.id, user_account.name, user_account.fullname \n",
      "FROM user_account\n",
      "2024-10-03 14:04:07,325 INFO sqlalchemy.engine.Engine [generated in 0.00101s] ()\n"
     ]
    }
   ],
   "execution_count": 37
  },
  {
   "metadata": {
    "ExecuteTime": {
     "end_time": "2024-10-03T11:04:07.364275Z",
     "start_time": "2024-10-03T11:04:07.358895Z"
    }
   },
   "cell_type": "code",
   "source": "row",
   "id": "1a8bd4bd05e48fb2",
   "outputs": [
    {
     "data": {
      "text/plain": [
       "(User(id=1, name='spongebob', fullname='Spongebob Squarepants'),)"
      ]
     },
     "execution_count": 38,
     "metadata": {},
     "output_type": "execute_result"
    }
   ],
   "execution_count": 38
  },
  {
   "metadata": {
    "ExecuteTime": {
     "end_time": "2024-10-03T11:04:07.424029Z",
     "start_time": "2024-10-03T11:04:07.417405Z"
    }
   },
   "cell_type": "code",
   "source": [
    "# using method .scalars() which returns object\n",
    "user = session.scalars(select(User)).first()"
   ],
   "id": "da1e9a81c1b24ee9",
   "outputs": [
    {
     "name": "stdout",
     "output_type": "stream",
     "text": [
      "2024-10-03 14:04:07,420 INFO sqlalchemy.engine.Engine SELECT user_account.id, user_account.name, user_account.fullname \n",
      "FROM user_account\n",
      "2024-10-03 14:04:07,421 INFO sqlalchemy.engine.Engine [cached since 0.09564s ago] ()\n"
     ]
    }
   ],
   "execution_count": 39
  },
  {
   "metadata": {
    "ExecuteTime": {
     "end_time": "2024-10-03T11:04:07.463688Z",
     "start_time": "2024-10-03T11:04:07.459575Z"
    }
   },
   "cell_type": "code",
   "source": "user",
   "id": "3a7d89ec6596d700",
   "outputs": [
    {
     "data": {
      "text/plain": [
       "User(id=1, name='spongebob', fullname='Spongebob Squarepants')"
      ]
     },
     "execution_count": 40,
     "metadata": {},
     "output_type": "execute_result"
    }
   ],
   "execution_count": 40
  },
  {
   "metadata": {
    "ExecuteTime": {
     "end_time": "2024-10-03T11:04:07.531424Z",
     "start_time": "2024-10-03T11:04:07.527356Z"
    }
   },
   "cell_type": "code",
   "source": "print(select(User.name, User.fullname))",
   "id": "4d5d753e23913ea3",
   "outputs": [
    {
     "name": "stdout",
     "output_type": "stream",
     "text": [
      "SELECT user_account.name, user_account.fullname \n",
      "FROM user_account\n"
     ]
    }
   ],
   "execution_count": 41
  },
  {
   "metadata": {
    "ExecuteTime": {
     "end_time": "2024-10-03T11:04:07.556795Z",
     "start_time": "2024-10-03T11:04:07.550338Z"
    }
   },
   "cell_type": "code",
   "source": "row = session.execute(select(User.name, User.fullname)).first()",
   "id": "d4f1fba1b4fba0b4",
   "outputs": [
    {
     "name": "stdout",
     "output_type": "stream",
     "text": [
      "2024-10-03 14:04:07,552 INFO sqlalchemy.engine.Engine SELECT user_account.name, user_account.fullname \n",
      "FROM user_account\n",
      "2024-10-03 14:04:07,553 INFO sqlalchemy.engine.Engine [generated in 0.00100s] ()\n"
     ]
    }
   ],
   "execution_count": 42
  },
  {
   "metadata": {
    "ExecuteTime": {
     "end_time": "2024-10-03T11:04:07.629021Z",
     "start_time": "2024-10-03T11:04:07.623172Z"
    }
   },
   "cell_type": "code",
   "source": "row",
   "id": "c8f090560fb3277a",
   "outputs": [
    {
     "data": {
      "text/plain": [
       "('spongebob', 'Spongebob Squarepants')"
      ]
     },
     "execution_count": 43,
     "metadata": {},
     "output_type": "execute_result"
    }
   ],
   "execution_count": 43
  },
  {
   "metadata": {
    "ExecuteTime": {
     "end_time": "2024-10-03T11:04:07.655429Z",
     "start_time": "2024-10-03T11:04:07.646374Z"
    }
   },
   "cell_type": "code",
   "source": [
    "session.execute(\n",
    "    select(User.name, Address).where(User.id == Address.user_id).order_by(Address.id)\n",
    ").all()"
   ],
   "id": "a556fbe70cba3d5d",
   "outputs": [
    {
     "name": "stdout",
     "output_type": "stream",
     "text": [
      "2024-10-03 14:04:07,649 INFO sqlalchemy.engine.Engine SELECT user_account.name, address.id, address.email_address, address.user_id \n",
      "FROM user_account, address \n",
      "WHERE user_account.id = address.user_id ORDER BY address.id\n",
      "2024-10-03 14:04:07,650 INFO sqlalchemy.engine.Engine [generated in 0.00092s] ()\n"
     ]
    },
    {
     "data": {
      "text/plain": [
       "[('spongebob', Address(id=1, email_address='spongebob@sqlalchemy.org')),\n",
       " ('sandy', Address(id=2, email_address='sandy@sqlalchemy.org')),\n",
       " ('sandy', Address(id=3, email_address='sandy@squirrelpower.org'))]"
      ]
     },
     "execution_count": 44,
     "metadata": {},
     "output_type": "execute_result"
    }
   ],
   "execution_count": 44
  },
  {
   "metadata": {},
   "cell_type": "markdown",
   "source": "# Selecting from Labeled SQL Expression",
   "id": "ca7872107c96df4d"
  },
  {
   "metadata": {
    "ExecuteTime": {
     "end_time": "2024-10-03T11:06:14.361940Z",
     "start_time": "2024-10-03T11:06:14.352742Z"
    }
   },
   "cell_type": "code",
   "source": [
    "from sqlalchemy import func, cast\n",
    "\n",
    "stmt = select(\n",
    "        (\"Username: \" + user_table.c.name).label(\"username\"),\n",
    "    ).order_by(user_table.c.name)\n",
    "\n",
    "with engine.connect() as conn:\n",
    "    for row in conn.execute(stmt):\n",
    "        print(f\"{row.username}\")\n",
    "        \n",
    "# Also, Ordering or Grouping by a Label is also possible"
   ],
   "id": "ce6d25623679ba4f",
   "outputs": [
    {
     "name": "stdout",
     "output_type": "stream",
     "text": [
      "2024-10-03 14:06:14,357 INFO sqlalchemy.engine.Engine BEGIN (implicit)\n",
      "2024-10-03 14:06:14,357 INFO sqlalchemy.engine.Engine SELECT ? || user_account.name AS username \n",
      "FROM user_account ORDER BY user_account.name\n",
      "2024-10-03 14:06:14,358 INFO sqlalchemy.engine.Engine [generated in 0.00117s] ('Username: ',)\n",
      "Username: patrick\n",
      "Username: sandy\n",
      "Username: spongebob\n",
      "2024-10-03 14:06:14,360 INFO sqlalchemy.engine.Engine ROLLBACK\n"
     ]
    }
   ],
   "execution_count": 45
  },
  {
   "metadata": {},
   "cell_type": "markdown",
   "source": "# Selecting with Textual Column Expression",
   "id": "248ac7a31ae8f614"
  },
  {
   "metadata": {
    "ExecuteTime": {
     "end_time": "2024-10-03T11:19:04.601611Z",
     "start_time": "2024-10-03T11:19:04.592835Z"
    }
   },
   "cell_type": "code",
   "source": [
    "from sqlalchemy import text\n",
    "\n",
    "stmt = select(text(\"'some phrase'\"), user_table.c.name).order_by(user_table.c.name)\n",
    "with engine.connect() as conn:\n",
    "    print(conn.execute(stmt).all())"
   ],
   "id": "d8780a27bc88c7",
   "outputs": [
    {
     "name": "stdout",
     "output_type": "stream",
     "text": [
      "2024-10-03 14:19:04,596 INFO sqlalchemy.engine.Engine BEGIN (implicit)\n",
      "2024-10-03 14:19:04,597 INFO sqlalchemy.engine.Engine SELECT 'some phrase', user_account.name \n",
      "FROM user_account ORDER BY user_account.name\n",
      "2024-10-03 14:19:04,597 INFO sqlalchemy.engine.Engine [generated in 0.00166s] ()\n",
      "[('some phrase', 'patrick'), ('some phrase', 'sandy'), ('some phrase', 'spongebob')]\n",
      "2024-10-03 14:19:04,598 INFO sqlalchemy.engine.Engine ROLLBACK\n"
     ]
    }
   ],
   "execution_count": 46
  },
  {
   "metadata": {
    "ExecuteTime": {
     "end_time": "2024-10-03T11:24:21.699808Z",
     "start_time": "2024-10-03T11:24:21.691713Z"
    }
   },
   "cell_type": "code",
   "source": [
    "# giving the label to literal_column\n",
    "from sqlalchemy import literal_column\n",
    "\n",
    "stmt = select(literal_column(\"'some phrase'\").label(\"p\"), user_table.c.name).order_by(\n",
    "    user_table.c.name\n",
    ")\n",
    "\n",
    "with engine.connect() as conn:\n",
    "    for row in conn.execute(stmt):\n",
    "        print(f\"{row.p}, {row.name}\")"
   ],
   "id": "c28cf3aaa8ea50d0",
   "outputs": [
    {
     "name": "stdout",
     "output_type": "stream",
     "text": [
      "2024-10-03 14:24:21,694 INFO sqlalchemy.engine.Engine BEGIN (implicit)\n",
      "2024-10-03 14:24:21,694 INFO sqlalchemy.engine.Engine SELECT 'some phrase' AS p, user_account.name \n",
      "FROM user_account ORDER BY user_account.name\n",
      "2024-10-03 14:24:21,696 INFO sqlalchemy.engine.Engine [generated in 0.00116s] ()\n",
      "some phrase, patrick\n",
      "some phrase, sandy\n",
      "some phrase, spongebob\n",
      "2024-10-03 14:24:21,697 INFO sqlalchemy.engine.Engine ROLLBACK\n"
     ]
    }
   ],
   "execution_count": 47
  },
  {
   "metadata": {
    "ExecuteTime": {
     "end_time": "2024-10-03T11:26:20.530563Z",
     "start_time": "2024-10-03T11:26:20.526387Z"
    }
   },
   "cell_type": "code",
   "source": "print(user_table.c.name == \"squidward\")",
   "id": "4018569ae3446495",
   "outputs": [
    {
     "name": "stdout",
     "output_type": "stream",
     "text": [
      "user_account.name = :name_1\n"
     ]
    }
   ],
   "execution_count": 48
  },
  {
   "metadata": {},
   "cell_type": "markdown",
   "source": "# The WHERE clause",
   "id": "91d71182fedf57d1"
  },
  {
   "metadata": {
    "ExecuteTime": {
     "end_time": "2024-10-03T11:26:21.827078Z",
     "start_time": "2024-10-03T11:26:21.822944Z"
    }
   },
   "cell_type": "code",
   "source": "print(address_table.c.user_id > 10)",
   "id": "204a4826502f695f",
   "outputs": [
    {
     "name": "stdout",
     "output_type": "stream",
     "text": [
      "address.user_id > :user_id_1\n"
     ]
    }
   ],
   "execution_count": 49
  },
  {
   "metadata": {
    "ExecuteTime": {
     "end_time": "2024-10-03T11:26:50.931115Z",
     "start_time": "2024-10-03T11:26:50.926796Z"
    }
   },
   "cell_type": "code",
   "source": "print(select(user_table).where(user_table.c.name == \"squidward\"))",
   "id": "d5f1d8d0523b99c9",
   "outputs": [
    {
     "name": "stdout",
     "output_type": "stream",
     "text": [
      "SELECT user_account.id, user_account.name, user_account.fullname \n",
      "FROM user_account \n",
      "WHERE user_account.name = :name_1\n"
     ]
    }
   ],
   "execution_count": 50
  },
  {
   "metadata": {
    "ExecuteTime": {
     "end_time": "2024-10-03T11:29:05.846601Z",
     "start_time": "2024-10-03T11:29:05.842564Z"
    }
   },
   "cell_type": "code",
   "source": [
    "# Multiple expressions with WHERE via AND v1\n",
    "\n",
    "print(\n",
    "    select(address_table.c.email_address)\n",
    "    .where(user_table.c.name == \"squidward\")\n",
    "    .where(address_table.c.user_id == user_table.c.id)\n",
    ")"
   ],
   "id": "4a9c531d2a1c2b3b",
   "outputs": [
    {
     "name": "stdout",
     "output_type": "stream",
     "text": [
      "SELECT address.email_address \n",
      "FROM address, user_account \n",
      "WHERE user_account.name = :name_1 AND address.user_id = user_account.id\n"
     ]
    }
   ],
   "execution_count": 52
  },
  {
   "metadata": {
    "ExecuteTime": {
     "end_time": "2024-10-03T11:29:44.919310Z",
     "start_time": "2024-10-03T11:29:44.914008Z"
    }
   },
   "cell_type": "code",
   "source": [
    "# Multiple expressions with WHERE via AND v2\n",
    "\n",
    "print(\n",
    "    select(address_table.c.email_address).where(\n",
    "        user_table.c.name == \"squidward\",\n",
    "        address_table.c.user_id == user_table.c.id,\n",
    "    )\n",
    ")"
   ],
   "id": "edaa312bdbdb50bd",
   "outputs": [
    {
     "name": "stdout",
     "output_type": "stream",
     "text": [
      "SELECT address.email_address \n",
      "FROM address, user_account \n",
      "WHERE user_account.name = :name_1 AND address.user_id = user_account.id\n"
     ]
    }
   ],
   "execution_count": 53
  },
  {
   "metadata": {
    "ExecuteTime": {
     "end_time": "2024-10-03T11:31:20.488345Z",
     "start_time": "2024-10-03T11:31:20.483030Z"
    }
   },
   "cell_type": "code",
   "source": [
    "# Combining AND and OR in WHERE clause\n",
    "\n",
    "from sqlalchemy import and_, or_\n",
    "\n",
    "print(\n",
    "    select(Address.email_address).where(\n",
    "        and_(\n",
    "            or_(User.name == \"squidward\", User.name == \"sandy\"),\n",
    "            Address.user_id == User.id,\n",
    "        )\n",
    "    )\n",
    ")"
   ],
   "id": "e69895cfc6b024d6",
   "outputs": [
    {
     "name": "stdout",
     "output_type": "stream",
     "text": [
      "SELECT address.email_address \n",
      "FROM address, user_account \n",
      "WHERE (user_account.name = :name_1 OR user_account.name = :name_2) AND address.user_id = user_account.id\n"
     ]
    }
   ],
   "execution_count": 54
  },
  {
   "metadata": {
    "ExecuteTime": {
     "end_time": "2024-10-03T11:33:30.497148Z",
     "start_time": "2024-10-03T11:33:30.492778Z"
    }
   },
   "cell_type": "code",
   "source": [
    "# Comparisons for single 'equality' comparisons against a single entity,\n",
    "# also called FILTER BY.\n",
    "\n",
    "print(select(User).filter_by(name=\"spongebob\", fullname=\"Spongebob Squarepants\"))"
   ],
   "id": "f1c86d6b2d48d3a5",
   "outputs": [
    {
     "name": "stdout",
     "output_type": "stream",
     "text": [
      "SELECT user_account.id, user_account.name, user_account.fullname \n",
      "FROM user_account \n",
      "WHERE user_account.name = :name_1 AND user_account.fullname = :fullname_1\n"
     ]
    }
   ],
   "execution_count": 55
  },
  {
   "metadata": {},
   "cell_type": "markdown",
   "source": "# Explicit FROM clauses and JOINs",
   "id": "90d5140e19bade6a"
  },
  {
   "metadata": {
    "ExecuteTime": {
     "end_time": "2024-10-03T11:34:51.338248Z",
     "start_time": "2024-10-03T11:34:51.334430Z"
    }
   },
   "cell_type": "code",
   "source": [
    "# selecting from a single table\n",
    "print(select(user_table.c.name))"
   ],
   "id": "dc53937b9a0b22da",
   "outputs": [
    {
     "name": "stdout",
     "output_type": "stream",
     "text": [
      "SELECT user_account.name \n",
      "FROM user_account\n"
     ]
    }
   ],
   "execution_count": 56
  },
  {
   "metadata": {
    "ExecuteTime": {
     "end_time": "2024-10-03T11:35:29.758889Z",
     "start_time": "2024-10-03T11:35:29.754710Z"
    }
   },
   "cell_type": "code",
   "source": [
    "# selecting from multiple tables\n",
    "# this do NOT work properly!!!\n",
    "print(select(user_table.c.name, address_table.c.email_address))"
   ],
   "id": "f79aa78d76c60b09",
   "outputs": [
    {
     "name": "stdout",
     "output_type": "stream",
     "text": [
      "SELECT user_account.name, address.email_address \n",
      "FROM user_account, address\n"
     ]
    }
   ],
   "execution_count": 57
  },
  {
   "metadata": {
    "ExecuteTime": {
     "end_time": "2024-10-03T11:37:04.083321Z",
     "start_time": "2024-10-03T11:37:04.079331Z"
    }
   },
   "cell_type": "code",
   "source": [
    "# JOINing tables in the proper way\n",
    "\n",
    "# The first is the Select.join_from() method, which allows us to \n",
    "# indicate the left and right side of the JOIN explicitly\n",
    "\n",
    "print(\n",
    "    select(user_table.c.name, address_table.c.email_address).join_from(\n",
    "        user_table, address_table\n",
    "    )\n",
    ")"
   ],
   "id": "c44d0ce29a6e40d0",
   "outputs": [
    {
     "name": "stdout",
     "output_type": "stream",
     "text": [
      "SELECT user_account.name, address.email_address \n",
      "FROM user_account JOIN address ON user_account.id = address.user_id\n"
     ]
    }
   ],
   "execution_count": 58
  },
  {
   "metadata": {
    "ExecuteTime": {
     "end_time": "2024-10-03T11:38:27.079153Z",
     "start_time": "2024-10-03T11:38:27.072960Z"
    }
   },
   "cell_type": "code",
   "source": [
    "# The other is the Select.join() method, which indicates only\n",
    "# the right side of the JOIN, the left hand-side is inferred:\n",
    "\n",
    "print(select(user_table.c.name, address_table.c.email_address).join(address_table))"
   ],
   "id": "5b54dd564484d55",
   "outputs": [
    {
     "name": "stdout",
     "output_type": "stream",
     "text": [
      "SELECT user_account.name, address.email_address \n",
      "FROM user_account JOIN address ON user_account.id = address.user_id\n"
     ]
    }
   ],
   "execution_count": 59
  },
  {
   "metadata": {
    "ExecuteTime": {
     "end_time": "2024-10-03T11:44:40.156923Z",
     "start_time": "2024-10-03T11:44:40.152402Z"
    }
   },
   "cell_type": "code",
   "source": "print(select(address_table.c.email_address).select_from(user_table).join(address_table))",
   "id": "e0b3380894d3b875",
   "outputs": [
    {
     "name": "stdout",
     "output_type": "stream",
     "text": [
      "SELECT address.email_address \n",
      "FROM user_account JOIN address ON user_account.id = address.user_id\n"
     ]
    }
   ],
   "execution_count": 60
  },
  {
   "metadata": {},
   "cell_type": "markdown",
   "source": "# Setting the ON Clause",
   "id": "dd30af8ac1303539"
  },
  {
   "metadata": {
    "ExecuteTime": {
     "end_time": "2024-10-03T12:11:49.559709Z",
     "start_time": "2024-10-03T12:11:49.554584Z"
    }
   },
   "cell_type": "code",
   "source": [
    "print(\n",
    "    select(address_table.c.email_address)\n",
    "    .select_from(user_table)\n",
    "    .join(address_table, user_table.c.id == address_table.c.user_id)\n",
    ")"
   ],
   "id": "afa7afeb416f0958",
   "outputs": [
    {
     "name": "stdout",
     "output_type": "stream",
     "text": [
      "SELECT address.email_address \n",
      "FROM user_account JOIN address ON user_account.id = address.user_id\n"
     ]
    }
   ],
   "execution_count": 61
  },
  {
   "metadata": {},
   "cell_type": "markdown",
   "source": "# OUTER and FULL join",
   "id": "82a1e5c2d761e3f9"
  },
  {
   "metadata": {
    "ExecuteTime": {
     "end_time": "2024-10-03T12:13:19.958342Z",
     "start_time": "2024-10-03T12:13:19.953688Z"
    }
   },
   "cell_type": "code",
   "source": "print(select(user_table).join(address_table, isouter=True))",
   "id": "fea69eedbf931f6b",
   "outputs": [
    {
     "name": "stdout",
     "output_type": "stream",
     "text": [
      "SELECT user_account.id, user_account.name, user_account.fullname \n",
      "FROM user_account LEFT OUTER JOIN address ON user_account.id = address.user_id\n"
     ]
    }
   ],
   "execution_count": 62
  },
  {
   "metadata": {
    "ExecuteTime": {
     "end_time": "2024-10-03T12:13:20.793489Z",
     "start_time": "2024-10-03T12:13:20.788883Z"
    }
   },
   "cell_type": "code",
   "source": "print(select(user_table).join(address_table, full=True))",
   "id": "69de6ee34aca12c9",
   "outputs": [
    {
     "name": "stdout",
     "output_type": "stream",
     "text": [
      "SELECT user_account.id, user_account.name, user_account.fullname \n",
      "FROM user_account FULL OUTER JOIN address ON user_account.id = address.user_id\n"
     ]
    }
   ],
   "execution_count": 63
  },
  {
   "metadata": {},
   "cell_type": "markdown",
   "source": "# ORDER BY, GROUP BY, HAVING",
   "id": "168274c50373c0a0"
  },
  {
   "metadata": {
    "ExecuteTime": {
     "end_time": "2024-10-03T12:15:42.258146Z",
     "start_time": "2024-10-03T12:15:42.253451Z"
    }
   },
   "cell_type": "code",
   "source": "print(select(user_table).order_by(user_table.c.name))",
   "id": "d099affdbc49cf1c",
   "outputs": [
    {
     "name": "stdout",
     "output_type": "stream",
     "text": [
      "SELECT user_account.id, user_account.name, user_account.fullname \n",
      "FROM user_account ORDER BY user_account.name\n"
     ]
    }
   ],
   "execution_count": 64
  },
  {
   "metadata": {
    "ExecuteTime": {
     "end_time": "2024-10-03T12:15:54.217080Z",
     "start_time": "2024-10-03T12:15:54.211386Z"
    }
   },
   "cell_type": "code",
   "source": [
    "# Ascending / descending is available from the ColumnElement.asc()\n",
    "# and ColumnElement.desk()\n",
    "print(select(User).order_by(User.fullname.desc()))"
   ],
   "id": "8f9391186eeea7af",
   "outputs": [
    {
     "name": "stdout",
     "output_type": "stream",
     "text": [
      "SELECT user_account.id, user_account.name, user_account.fullname \n",
      "FROM user_account ORDER BY user_account.fullname DESC\n"
     ]
    }
   ],
   "execution_count": 65
  },
  {
   "metadata": {
    "ExecuteTime": {
     "end_time": "2024-10-03T12:16:53.803323Z",
     "start_time": "2024-10-03T12:16:53.795981Z"
    }
   },
   "cell_type": "code",
   "source": [
    "from sqlalchemy import func\n",
    "\n",
    "count_fn = func.count(user_table.c.id)\n",
    "print(count_fn)"
   ],
   "id": "776e847a2ac7d976",
   "outputs": [
    {
     "name": "stdout",
     "output_type": "stream",
     "text": [
      "count(user_account.id)\n"
     ]
    }
   ],
   "execution_count": 66
  },
  {
   "metadata": {
    "ExecuteTime": {
     "end_time": "2024-10-03T12:27:33.538216Z",
     "start_time": "2024-10-03T12:27:33.515033Z"
    }
   },
   "cell_type": "code",
   "source": [
    "# GROUP BY and HAVING\n",
    "\n",
    "with engine.connect() as conn:\n",
    "    result = conn.execute(\n",
    "        select(User.name, func.count(Address.id).label(\"count\"))\n",
    "        .join(Address)\n",
    "        .group_by(User.name)\n",
    "        .having(func.count(Address.id) > 1)\n",
    "    )\n",
    "    print(result.all())"
   ],
   "id": "9ac6e1a1fa47b576",
   "outputs": [
    {
     "name": "stdout",
     "output_type": "stream",
     "text": [
      "2024-10-03 15:27:33,530 INFO sqlalchemy.engine.Engine BEGIN (implicit)\n",
      "2024-10-03 15:27:33,532 INFO sqlalchemy.engine.Engine SELECT user_account.name, count(address.id) AS count \n",
      "FROM user_account JOIN address ON user_account.id = address.user_id GROUP BY user_account.name \n",
      "HAVING count(address.id) > ?\n",
      "2024-10-03 15:27:33,533 INFO sqlalchemy.engine.Engine [generated in 0.00373s] (1,)\n",
      "[('sandy', 2)]\n",
      "2024-10-03 15:27:33,536 INFO sqlalchemy.engine.Engine ROLLBACK\n"
     ]
    }
   ],
   "execution_count": 67
  },
  {
   "metadata": {},
   "cell_type": "markdown",
   "source": "### Ordering or Grouping by a Label",
   "id": "f23f963ada305e1b"
  },
  {
   "metadata": {
    "ExecuteTime": {
     "end_time": "2024-10-03T12:29:33.806046Z",
     "start_time": "2024-10-03T12:29:33.800111Z"
    }
   },
   "cell_type": "code",
   "source": [
    "from sqlalchemy import func, desc\n",
    "stmt = (\n",
    "    select(Address.user_id, func.count(Address.id).label(\"num_addresses\"))\n",
    "    .group_by(\"user_id\")\n",
    "    .order_by(\"user_id\", desc(\"num_addresses\"))\n",
    ")\n",
    "print(stmt)"
   ],
   "id": "4eff3a8b7971c22f",
   "outputs": [
    {
     "name": "stdout",
     "output_type": "stream",
     "text": [
      "SELECT address.user_id, count(address.id) AS num_addresses \n",
      "FROM address GROUP BY address.user_id ORDER BY address.user_id, num_addresses DESC\n"
     ]
    }
   ],
   "execution_count": 68
  },
  {
   "metadata": {},
   "cell_type": "markdown",
   "source": "# Using Aliases",
   "id": "e37137d644bb258d"
  },
  {
   "metadata": {},
   "cell_type": "code",
   "outputs": [],
   "execution_count": null,
   "source": "",
   "id": "5de90861e80cf486"
  },
  {
   "metadata": {},
   "cell_type": "code",
   "outputs": [],
   "execution_count": null,
   "source": "",
   "id": "4b2f274ef18cfb18"
  },
  {
   "metadata": {},
   "cell_type": "code",
   "outputs": [],
   "execution_count": null,
   "source": "",
   "id": "c5ebcc761a0ba9d8"
  }
 ],
 "metadata": {
  "kernelspec": {
   "display_name": "Python 3",
   "language": "python",
   "name": "python3"
  },
  "language_info": {
   "codemirror_mode": {
    "name": "ipython",
    "version": 2
   },
   "file_extension": ".py",
   "mimetype": "text/x-python",
   "name": "python",
   "nbconvert_exporter": "python",
   "pygments_lexer": "ipython2",
   "version": "2.7.6"
  }
 },
 "nbformat": 4,
 "nbformat_minor": 5
}
